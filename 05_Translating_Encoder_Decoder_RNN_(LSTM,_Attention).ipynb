{
  "cells": [
    {
      "cell_type": "markdown",
      "metadata": {
        "id": "view-in-github",
        "colab_type": "text"
      },
      "source": [
        "<a href=\"https://colab.research.google.com/github/JuliaKoryukova/Neural-Networks/blob/main/05_Translating_Encoder_Decoder_RNN_(LSTM%2C_Attention).ipynb\" target=\"_parent\"><img src=\"https://colab.research.google.com/assets/colab-badge.svg\" alt=\"Open In Colab\"/></a>"
      ]
    },
    {
      "cell_type": "markdown",
      "metadata": {
        "id": "bsW0C8Owqlb2"
      },
      "source": [
        "<font color='#11a642' size='6'>**Сравнительное обучение разных моделей в задаче перевода**</font>"
      ]
    },
    {
      "cell_type": "markdown",
      "metadata": {
        "id": "dLVPrdK_qk0Q"
      },
      "source": [
        "# Imports"
      ]
    },
    {
      "cell_type": "code",
      "execution_count": null,
      "metadata": {
        "collapsed": true,
        "id": "qAXdGzUYsuZy",
        "colab": {
          "base_uri": "https://localhost:8080/"
        },
        "outputId": "75989726-a2d9-49c0-b3c5-7a2e20a0813d"
      },
      "outputs": [
        {
          "output_type": "stream",
          "name": "stdout",
          "text": [
            "Requirement already satisfied: spacy in /usr/local/lib/python3.10/dist-packages (3.7.5)\n",
            "Requirement already satisfied: spacy-legacy<3.1.0,>=3.0.11 in /usr/local/lib/python3.10/dist-packages (from spacy) (3.0.12)\n",
            "Requirement already satisfied: spacy-loggers<2.0.0,>=1.0.0 in /usr/local/lib/python3.10/dist-packages (from spacy) (1.0.5)\n",
            "Requirement already satisfied: murmurhash<1.1.0,>=0.28.0 in /usr/local/lib/python3.10/dist-packages (from spacy) (1.0.10)\n",
            "Requirement already satisfied: cymem<2.1.0,>=2.0.2 in /usr/local/lib/python3.10/dist-packages (from spacy) (2.0.8)\n",
            "Requirement already satisfied: preshed<3.1.0,>=3.0.2 in /usr/local/lib/python3.10/dist-packages (from spacy) (3.0.9)\n",
            "Requirement already satisfied: thinc<8.3.0,>=8.2.2 in /usr/local/lib/python3.10/dist-packages (from spacy) (8.2.5)\n",
            "Requirement already satisfied: wasabi<1.2.0,>=0.9.1 in /usr/local/lib/python3.10/dist-packages (from spacy) (1.1.3)\n",
            "Requirement already satisfied: srsly<3.0.0,>=2.4.3 in /usr/local/lib/python3.10/dist-packages (from spacy) (2.4.8)\n",
            "Requirement already satisfied: catalogue<2.1.0,>=2.0.6 in /usr/local/lib/python3.10/dist-packages (from spacy) (2.0.10)\n",
            "Requirement already satisfied: weasel<0.5.0,>=0.1.0 in /usr/local/lib/python3.10/dist-packages (from spacy) (0.4.1)\n",
            "Requirement already satisfied: typer<1.0.0,>=0.3.0 in /usr/local/lib/python3.10/dist-packages (from spacy) (0.13.0)\n",
            "Requirement already satisfied: tqdm<5.0.0,>=4.38.0 in /usr/local/lib/python3.10/dist-packages (from spacy) (4.66.6)\n",
            "Requirement already satisfied: requests<3.0.0,>=2.13.0 in /usr/local/lib/python3.10/dist-packages (from spacy) (2.32.3)\n",
            "Requirement already satisfied: pydantic!=1.8,!=1.8.1,<3.0.0,>=1.7.4 in /usr/local/lib/python3.10/dist-packages (from spacy) (2.9.2)\n",
            "Requirement already satisfied: jinja2 in /usr/local/lib/python3.10/dist-packages (from spacy) (3.1.4)\n",
            "Requirement already satisfied: setuptools in /usr/local/lib/python3.10/dist-packages (from spacy) (75.1.0)\n",
            "Requirement already satisfied: packaging>=20.0 in /usr/local/lib/python3.10/dist-packages (from spacy) (24.2)\n",
            "Requirement already satisfied: langcodes<4.0.0,>=3.2.0 in /usr/local/lib/python3.10/dist-packages (from spacy) (3.4.1)\n",
            "Requirement already satisfied: numpy>=1.19.0 in /usr/local/lib/python3.10/dist-packages (from spacy) (1.26.4)\n",
            "Requirement already satisfied: language-data>=1.2 in /usr/local/lib/python3.10/dist-packages (from langcodes<4.0.0,>=3.2.0->spacy) (1.2.0)\n",
            "Requirement already satisfied: annotated-types>=0.6.0 in /usr/local/lib/python3.10/dist-packages (from pydantic!=1.8,!=1.8.1,<3.0.0,>=1.7.4->spacy) (0.7.0)\n",
            "Requirement already satisfied: pydantic-core==2.23.4 in /usr/local/lib/python3.10/dist-packages (from pydantic!=1.8,!=1.8.1,<3.0.0,>=1.7.4->spacy) (2.23.4)\n",
            "Requirement already satisfied: typing-extensions>=4.6.1 in /usr/local/lib/python3.10/dist-packages (from pydantic!=1.8,!=1.8.1,<3.0.0,>=1.7.4->spacy) (4.12.2)\n",
            "Requirement already satisfied: charset-normalizer<4,>=2 in /usr/local/lib/python3.10/dist-packages (from requests<3.0.0,>=2.13.0->spacy) (3.4.0)\n",
            "Requirement already satisfied: idna<4,>=2.5 in /usr/local/lib/python3.10/dist-packages (from requests<3.0.0,>=2.13.0->spacy) (3.10)\n",
            "Requirement already satisfied: urllib3<3,>=1.21.1 in /usr/local/lib/python3.10/dist-packages (from requests<3.0.0,>=2.13.0->spacy) (2.2.3)\n",
            "Requirement already satisfied: certifi>=2017.4.17 in /usr/local/lib/python3.10/dist-packages (from requests<3.0.0,>=2.13.0->spacy) (2024.8.30)\n",
            "Requirement already satisfied: blis<0.8.0,>=0.7.8 in /usr/local/lib/python3.10/dist-packages (from thinc<8.3.0,>=8.2.2->spacy) (0.7.11)\n",
            "Requirement already satisfied: confection<1.0.0,>=0.0.1 in /usr/local/lib/python3.10/dist-packages (from thinc<8.3.0,>=8.2.2->spacy) (0.1.5)\n",
            "Requirement already satisfied: click>=8.0.0 in /usr/local/lib/python3.10/dist-packages (from typer<1.0.0,>=0.3.0->spacy) (8.1.7)\n",
            "Requirement already satisfied: shellingham>=1.3.0 in /usr/local/lib/python3.10/dist-packages (from typer<1.0.0,>=0.3.0->spacy) (1.5.4)\n",
            "Requirement already satisfied: rich>=10.11.0 in /usr/local/lib/python3.10/dist-packages (from typer<1.0.0,>=0.3.0->spacy) (13.9.4)\n",
            "Requirement already satisfied: cloudpathlib<1.0.0,>=0.7.0 in /usr/local/lib/python3.10/dist-packages (from weasel<0.5.0,>=0.1.0->spacy) (0.20.0)\n",
            "Requirement already satisfied: smart-open<8.0.0,>=5.2.1 in /usr/local/lib/python3.10/dist-packages (from weasel<0.5.0,>=0.1.0->spacy) (7.0.5)\n",
            "Requirement already satisfied: MarkupSafe>=2.0 in /usr/local/lib/python3.10/dist-packages (from jinja2->spacy) (3.0.2)\n",
            "Requirement already satisfied: marisa-trie>=0.7.7 in /usr/local/lib/python3.10/dist-packages (from language-data>=1.2->langcodes<4.0.0,>=3.2.0->spacy) (1.2.1)\n",
            "Requirement already satisfied: markdown-it-py>=2.2.0 in /usr/local/lib/python3.10/dist-packages (from rich>=10.11.0->typer<1.0.0,>=0.3.0->spacy) (3.0.0)\n",
            "Requirement already satisfied: pygments<3.0.0,>=2.13.0 in /usr/local/lib/python3.10/dist-packages (from rich>=10.11.0->typer<1.0.0,>=0.3.0->spacy) (2.18.0)\n",
            "Requirement already satisfied: wrapt in /usr/local/lib/python3.10/dist-packages (from smart-open<8.0.0,>=5.2.1->weasel<0.5.0,>=0.1.0->spacy) (1.16.0)\n",
            "Requirement already satisfied: mdurl~=0.1 in /usr/local/lib/python3.10/dist-packages (from markdown-it-py>=2.2.0->rich>=10.11.0->typer<1.0.0,>=0.3.0->spacy) (0.1.2)\n"
          ]
        }
      ],
      "source": [
        "!pip install spacy"
      ]
    },
    {
      "cell_type": "code",
      "execution_count": null,
      "metadata": {
        "collapsed": true,
        "id": "h7q-g7aRsz4P",
        "colab": {
          "base_uri": "https://localhost:8080/"
        },
        "outputId": "fe41fe66-f56a-40f7-8d73-8ee131773f06"
      },
      "outputs": [
        {
          "output_type": "stream",
          "name": "stdout",
          "text": [
            "Looking in indexes: https://download.pytorch.org/whl/cu121\n",
            "Collecting torch==2.4.0\n",
            "  Downloading https://download.pytorch.org/whl/cu121/torch-2.4.0%2Bcu121-cp310-cp310-linux_x86_64.whl (799.1 MB)\n",
            "\u001b[2K     \u001b[90m━━━━━━━━━━━━━━━━━━━━━━━━━━━━━━━━━━━━━━━━\u001b[0m \u001b[32m799.1/799.1 MB\u001b[0m \u001b[31m1.2 MB/s\u001b[0m eta \u001b[36m0:00:00\u001b[0m\n",
            "\u001b[?25hRequirement already satisfied: torchvision in /usr/local/lib/python3.10/dist-packages (0.20.1+cu121)\n",
            "Requirement already satisfied: torchaudio in /usr/local/lib/python3.10/dist-packages (2.5.1+cu121)\n",
            "Collecting torchtext\n",
            "  Downloading https://download.pytorch.org/whl/torchtext-0.17.0%2Bcpu-cp310-cp310-linux_x86_64.whl (2.0 MB)\n",
            "\u001b[2K     \u001b[90m━━━━━━━━━━━━━━━━━━━━━━━━━━━━━━━━━━━━━━━━\u001b[0m \u001b[32m2.0/2.0 MB\u001b[0m \u001b[31m2.8 MB/s\u001b[0m eta \u001b[36m0:00:00\u001b[0m\n",
            "\u001b[?25hRequirement already satisfied: filelock in /usr/local/lib/python3.10/dist-packages (from torch==2.4.0) (3.16.1)\n",
            "Requirement already satisfied: typing-extensions>=4.8.0 in /usr/local/lib/python3.10/dist-packages (from torch==2.4.0) (4.12.2)\n",
            "Requirement already satisfied: sympy in /usr/local/lib/python3.10/dist-packages (from torch==2.4.0) (1.13.1)\n",
            "Requirement already satisfied: networkx in /usr/local/lib/python3.10/dist-packages (from torch==2.4.0) (3.4.2)\n",
            "Requirement already satisfied: jinja2 in /usr/local/lib/python3.10/dist-packages (from torch==2.4.0) (3.1.4)\n",
            "Requirement already satisfied: fsspec in /usr/local/lib/python3.10/dist-packages (from torch==2.4.0) (2024.10.0)\n",
            "Collecting nvidia-cuda-nvrtc-cu12==12.1.105 (from torch==2.4.0)\n",
            "  Downloading https://download.pytorch.org/whl/cu121/nvidia_cuda_nvrtc_cu12-12.1.105-py3-none-manylinux1_x86_64.whl (23.7 MB)\n",
            "\u001b[2K     \u001b[90m━━━━━━━━━━━━━━━━━━━━━━━━━━━━━━━━━━━━━━━━\u001b[0m \u001b[32m23.7/23.7 MB\u001b[0m \u001b[31m10.5 MB/s\u001b[0m eta \u001b[36m0:00:00\u001b[0m\n",
            "\u001b[?25hCollecting nvidia-cuda-runtime-cu12==12.1.105 (from torch==2.4.0)\n",
            "  Downloading https://download.pytorch.org/whl/cu121/nvidia_cuda_runtime_cu12-12.1.105-py3-none-manylinux1_x86_64.whl (823 kB)\n",
            "\u001b[2K     \u001b[90m━━━━━━━━━━━━━━━━━━━━━━━━━━━━━━━━━━━━━━━━\u001b[0m \u001b[32m823.6/823.6 kB\u001b[0m \u001b[31m30.5 MB/s\u001b[0m eta \u001b[36m0:00:00\u001b[0m\n",
            "\u001b[?25hCollecting nvidia-cuda-cupti-cu12==12.1.105 (from torch==2.4.0)\n",
            "  Downloading https://download.pytorch.org/whl/cu121/nvidia_cuda_cupti_cu12-12.1.105-py3-none-manylinux1_x86_64.whl (14.1 MB)\n",
            "\u001b[2K     \u001b[90m━━━━━━━━━━━━━━━━━━━━━━━━━━━━━━━━━━━━━━━━\u001b[0m \u001b[32m14.1/14.1 MB\u001b[0m \u001b[31m34.2 MB/s\u001b[0m eta \u001b[36m0:00:00\u001b[0m\n",
            "\u001b[?25hCollecting nvidia-cudnn-cu12==9.1.0.70 (from torch==2.4.0)\n",
            "  Downloading https://download.pytorch.org/whl/cu121/nvidia_cudnn_cu12-9.1.0.70-py3-none-manylinux2014_x86_64.whl (664.8 MB)\n",
            "\u001b[2K     \u001b[90m━━━━━━━━━━━━━━━━━━━━━━━━━━━━━━━━━━━━━━━━\u001b[0m \u001b[32m664.8/664.8 MB\u001b[0m \u001b[31m2.7 MB/s\u001b[0m eta \u001b[36m0:00:00\u001b[0m\n",
            "\u001b[?25hCollecting nvidia-cublas-cu12==12.1.3.1 (from torch==2.4.0)\n",
            "  Downloading https://download.pytorch.org/whl/cu121/nvidia_cublas_cu12-12.1.3.1-py3-none-manylinux1_x86_64.whl (410.6 MB)\n",
            "\u001b[2K     \u001b[90m━━━━━━━━━━━━━━━━━━━━━━━━━━━━━━━━━━━━━━━━\u001b[0m \u001b[32m410.6/410.6 MB\u001b[0m \u001b[31m4.2 MB/s\u001b[0m eta \u001b[36m0:00:00\u001b[0m\n",
            "\u001b[?25hCollecting nvidia-cufft-cu12==11.0.2.54 (from torch==2.4.0)\n",
            "  Downloading https://download.pytorch.org/whl/cu121/nvidia_cufft_cu12-11.0.2.54-py3-none-manylinux1_x86_64.whl (121.6 MB)\n",
            "\u001b[2K     \u001b[90m━━━━━━━━━━━━━━━━━━━━━━━━━━━━━━━━━━━━━━━━\u001b[0m \u001b[32m121.6/121.6 MB\u001b[0m \u001b[31m7.8 MB/s\u001b[0m eta \u001b[36m0:00:00\u001b[0m\n",
            "\u001b[?25hCollecting nvidia-curand-cu12==10.3.2.106 (from torch==2.4.0)\n",
            "  Downloading https://download.pytorch.org/whl/cu121/nvidia_curand_cu12-10.3.2.106-py3-none-manylinux1_x86_64.whl (56.5 MB)\n",
            "\u001b[2K     \u001b[90m━━━━━━━━━━━━━━━━━━━━━━━━━━━━━━━━━━━━━━━━\u001b[0m \u001b[32m56.5/56.5 MB\u001b[0m \u001b[31m15.3 MB/s\u001b[0m eta \u001b[36m0:00:00\u001b[0m\n",
            "\u001b[?25hCollecting nvidia-cusolver-cu12==11.4.5.107 (from torch==2.4.0)\n",
            "  Downloading https://download.pytorch.org/whl/cu121/nvidia_cusolver_cu12-11.4.5.107-py3-none-manylinux1_x86_64.whl (124.2 MB)\n",
            "\u001b[2K     \u001b[90m━━━━━━━━━━━━━━━━━━━━━━━━━━━━━━━━━━━━━━━━\u001b[0m \u001b[32m124.2/124.2 MB\u001b[0m \u001b[31m7.7 MB/s\u001b[0m eta \u001b[36m0:00:00\u001b[0m\n",
            "\u001b[?25hCollecting nvidia-cusparse-cu12==12.1.0.106 (from torch==2.4.0)\n",
            "  Downloading https://download.pytorch.org/whl/cu121/nvidia_cusparse_cu12-12.1.0.106-py3-none-manylinux1_x86_64.whl (196.0 MB)\n",
            "\u001b[2K     \u001b[90m━━━━━━━━━━━━━━━━━━━━━━━━━━━━━━━━━━━━━━━━\u001b[0m \u001b[32m196.0/196.0 MB\u001b[0m \u001b[31m6.5 MB/s\u001b[0m eta \u001b[36m0:00:00\u001b[0m\n",
            "\u001b[?25hCollecting nvidia-nccl-cu12==2.20.5 (from torch==2.4.0)\n",
            "  Downloading https://download.pytorch.org/whl/cu121/nvidia_nccl_cu12-2.20.5-py3-none-manylinux2014_x86_64.whl (176.2 MB)\n",
            "\u001b[2K     \u001b[90m━━━━━━━━━━━━━━━━━━━━━━━━━━━━━━━━━━━━━━━━\u001b[0m \u001b[32m176.2/176.2 MB\u001b[0m \u001b[31m6.5 MB/s\u001b[0m eta \u001b[36m0:00:00\u001b[0m\n",
            "\u001b[?25hCollecting nvidia-nvtx-cu12==12.1.105 (from torch==2.4.0)\n",
            "  Downloading https://download.pytorch.org/whl/cu121/nvidia_nvtx_cu12-12.1.105-py3-none-manylinux1_x86_64.whl (99 kB)\n",
            "\u001b[2K     \u001b[90m━━━━━━━━━━━━━━━━━━━━━━━━━━━━━━━━━━━━━━━━\u001b[0m \u001b[32m99.1/99.1 kB\u001b[0m \u001b[31m9.3 MB/s\u001b[0m eta \u001b[36m0:00:00\u001b[0m\n",
            "\u001b[?25hCollecting triton==3.0.0 (from torch==2.4.0)\n",
            "  Downloading https://download.pytorch.org/whl/triton-3.0.0-1-cp310-cp310-manylinux2014_x86_64.manylinux_2_17_x86_64.whl (209.4 MB)\n",
            "\u001b[2K     \u001b[90m━━━━━━━━━━━━━━━━━━━━━━━━━━━━━━━━━━━━━━━━\u001b[0m \u001b[32m209.4/209.4 MB\u001b[0m \u001b[31m5.4 MB/s\u001b[0m eta \u001b[36m0:00:00\u001b[0m\n",
            "\u001b[?25hRequirement already satisfied: nvidia-nvjitlink-cu12 in /usr/local/lib/python3.10/dist-packages (from nvidia-cusolver-cu12==11.4.5.107->torch==2.4.0) (12.6.77)\n",
            "Requirement already satisfied: numpy in /usr/local/lib/python3.10/dist-packages (from torchvision) (1.26.4)\n",
            "INFO: pip is looking at multiple versions of torchvision to determine which version is compatible with other requirements. This could take a while.\n",
            "Collecting torchvision\n",
            "  Downloading https://download.pytorch.org/whl/cu121/torchvision-0.20.0%2Bcu121-cp310-cp310-linux_x86_64.whl (7.3 MB)\n",
            "\u001b[2K     \u001b[90m━━━━━━━━━━━━━━━━━━━━━━━━━━━━━━━━━━━━━━━━\u001b[0m \u001b[32m7.3/7.3 MB\u001b[0m \u001b[31m60.6 MB/s\u001b[0m eta \u001b[36m0:00:00\u001b[0m\n",
            "\u001b[?25h  Downloading https://download.pytorch.org/whl/cu121/torchvision-0.19.1%2Bcu121-cp310-cp310-linux_x86_64.whl (7.1 MB)\n",
            "\u001b[2K     \u001b[90m━━━━━━━━━━━━━━━━━━━━━━━━━━━━━━━━━━━━━━━━\u001b[0m \u001b[32m7.1/7.1 MB\u001b[0m \u001b[31m66.0 MB/s\u001b[0m eta \u001b[36m0:00:00\u001b[0m\n",
            "\u001b[?25h  Downloading https://download.pytorch.org/whl/cu121/torchvision-0.19.0%2Bcu121-cp310-cp310-linux_x86_64.whl (7.1 MB)\n",
            "\u001b[2K     \u001b[90m━━━━━━━━━━━━━━━━━━━━━━━━━━━━━━━━━━━━━━━━\u001b[0m \u001b[32m7.1/7.1 MB\u001b[0m \u001b[31m108.5 MB/s\u001b[0m eta \u001b[36m0:00:00\u001b[0m\n",
            "\u001b[?25hRequirement already satisfied: pillow!=8.3.*,>=5.3.0 in /usr/local/lib/python3.10/dist-packages (from torchvision) (11.0.0)\n",
            "INFO: pip is looking at multiple versions of torchaudio to determine which version is compatible with other requirements. This could take a while.\n",
            "Collecting torchaudio\n",
            "  Downloading https://download.pytorch.org/whl/cu121/torchaudio-2.5.0%2Bcu121-cp310-cp310-linux_x86_64.whl (3.4 MB)\n",
            "\u001b[2K     \u001b[90m━━━━━━━━━━━━━━━━━━━━━━━━━━━━━━━━━━━━━━━━\u001b[0m \u001b[32m3.4/3.4 MB\u001b[0m \u001b[31m53.9 MB/s\u001b[0m eta \u001b[36m0:00:00\u001b[0m\n",
            "\u001b[?25h  Downloading https://download.pytorch.org/whl/cu121/torchaudio-2.4.1%2Bcu121-cp310-cp310-linux_x86_64.whl (3.4 MB)\n",
            "\u001b[2K     \u001b[90m━━━━━━━━━━━━━━━━━━━━━━━━━━━━━━━━━━━━━━━━\u001b[0m \u001b[32m3.4/3.4 MB\u001b[0m \u001b[31m58.9 MB/s\u001b[0m eta \u001b[36m0:00:00\u001b[0m\n",
            "\u001b[?25h  Downloading https://download.pytorch.org/whl/cu121/torchaudio-2.4.0%2Bcu121-cp310-cp310-linux_x86_64.whl (3.4 MB)\n",
            "\u001b[2K     \u001b[90m━━━━━━━━━━━━━━━━━━━━━━━━━━━━━━━━━━━━━━━━\u001b[0m \u001b[32m3.4/3.4 MB\u001b[0m \u001b[31m60.5 MB/s\u001b[0m eta \u001b[36m0:00:00\u001b[0m\n",
            "\u001b[?25hRequirement already satisfied: tqdm in /usr/local/lib/python3.10/dist-packages (from torchtext) (4.66.6)\n",
            "Requirement already satisfied: requests in /usr/local/lib/python3.10/dist-packages (from torchtext) (2.32.3)\n",
            "INFO: pip is looking at multiple versions of torchtext to determine which version is compatible with other requirements. This could take a while.\n",
            "Collecting torchtext\n",
            "  Downloading https://download.pytorch.org/whl/torchtext-0.16.2%2Bcpu-cp310-cp310-linux_x86_64.whl (2.0 MB)\n",
            "\u001b[2K     \u001b[90m━━━━━━━━━━━━━━━━━━━━━━━━━━━━━━━━━━━━━━━━\u001b[0m \u001b[32m2.0/2.0 MB\u001b[0m \u001b[31m81.5 MB/s\u001b[0m eta \u001b[36m0:00:00\u001b[0m\n",
            "\u001b[?25h  Downloading https://download.pytorch.org/whl/torchtext-0.16.1%2Bcpu-cp310-cp310-linux_x86_64.whl (2.0 MB)\n",
            "\u001b[2K     \u001b[90m━━━━━━━━━━━━━━━━━━━━━━━━━━━━━━━━━━━━━━━━\u001b[0m \u001b[32m2.0/2.0 MB\u001b[0m \u001b[31m51.1 MB/s\u001b[0m eta \u001b[36m0:00:00\u001b[0m\n",
            "\u001b[?25h  Downloading https://download.pytorch.org/whl/torchtext-0.16.0%2Bcpu-cp310-cp310-linux_x86_64.whl (2.0 MB)\n",
            "\u001b[2K     \u001b[90m━━━━━━━━━━━━━━━━━━━━━━━━━━━━━━━━━━━━━━━━\u001b[0m \u001b[32m2.0/2.0 MB\u001b[0m \u001b[31m49.7 MB/s\u001b[0m eta \u001b[36m0:00:00\u001b[0m\n",
            "\u001b[?25h  Downloading https://download.pytorch.org/whl/torchtext-0.15.2%2Bcpu-cp310-cp310-linux_x86_64.whl (2.0 MB)\n",
            "\u001b[2K     \u001b[90m━━━━━━━━━━━━━━━━━━━━━━━━━━━━━━━━━━━━━━━━\u001b[0m \u001b[32m2.0/2.0 MB\u001b[0m \u001b[31m80.3 MB/s\u001b[0m eta \u001b[36m0:00:00\u001b[0m\n",
            "\u001b[?25h  Downloading https://download.pytorch.org/whl/torchtext-0.15.1%2Bcpu-cp310-cp310-linux_x86_64.whl (2.0 MB)\n",
            "\u001b[2K     \u001b[90m━━━━━━━━━━━━━━━━━━━━━━━━━━━━━━━━━━━━━━━━\u001b[0m \u001b[32m2.0/2.0 MB\u001b[0m \u001b[31m52.5 MB/s\u001b[0m eta \u001b[36m0:00:00\u001b[0m\n",
            "\u001b[?25h  Downloading https://download.pytorch.org/whl/torchtext-0.15.0%2Bcpu-cp310-cp310-linux_x86_64.whl (2.0 MB)\n",
            "\u001b[2K     \u001b[90m━━━━━━━━━━━━━━━━━━━━━━━━━━━━━━━━━━━━━━━━\u001b[0m \u001b[32m2.0/2.0 MB\u001b[0m \u001b[31m61.2 MB/s\u001b[0m eta \u001b[36m0:00:00\u001b[0m\n",
            "\u001b[?25h  Downloading https://download.pytorch.org/whl/torchtext-0.14.1-cp310-cp310-linux_x86_64.whl (2.0 MB)\n",
            "\u001b[2K     \u001b[90m━━━━━━━━━━━━━━━━━━━━━━━━━━━━━━━━━━━━━━━━\u001b[0m \u001b[32m2.0/2.0 MB\u001b[0m \u001b[31m55.9 MB/s\u001b[0m eta \u001b[36m0:00:00\u001b[0m\n",
            "\u001b[?25hINFO: pip is still looking at multiple versions of torchtext to determine which version is compatible with other requirements. This could take a while.\n",
            "  Downloading https://download.pytorch.org/whl/torchtext-0.14.0-cp310-cp310-linux_x86_64.whl (2.0 MB)\n",
            "\u001b[2K     \u001b[90m━━━━━━━━━━━━━━━━━━━━━━━━━━━━━━━━━━━━━━━━\u001b[0m \u001b[32m2.0/2.0 MB\u001b[0m \u001b[31m60.0 MB/s\u001b[0m eta \u001b[36m0:00:00\u001b[0m\n",
            "\u001b[?25h  Downloading https://download.pytorch.org/whl/torchtext-0.13.1-cp310-cp310-linux_x86_64.whl (1.9 MB)\n",
            "\u001b[2K     \u001b[90m━━━━━━━━━━━━━━━━━━━━━━━━━━━━━━━━━━━━━━━━\u001b[0m \u001b[32m1.9/1.9 MB\u001b[0m \u001b[31m52.0 MB/s\u001b[0m eta \u001b[36m0:00:00\u001b[0m\n",
            "\u001b[?25h  Downloading https://download.pytorch.org/whl/torchtext-0.13.0-cp310-cp310-linux_x86_64.whl (1.9 MB)\n",
            "\u001b[2K     \u001b[90m━━━━━━━━━━━━━━━━━━━━━━━━━━━━━━━━━━━━━━━━\u001b[0m \u001b[32m1.9/1.9 MB\u001b[0m \u001b[31m46.2 MB/s\u001b[0m eta \u001b[36m0:00:00\u001b[0m\n",
            "\u001b[?25h  Downloading https://download.pytorch.org/whl/torchtext-0.12.0-cp310-cp310-linux_x86_64.whl (10.4 MB)\n",
            "\u001b[2K     \u001b[90m━━━━━━━━━━━━━━━━━━━━━━━━━━━━━━━━━━━━━━━━\u001b[0m \u001b[32m10.4/10.4 MB\u001b[0m \u001b[31m30.6 MB/s\u001b[0m eta \u001b[36m0:00:00\u001b[0m\n",
            "\u001b[?25h  Downloading https://download.pytorch.org/whl/torchtext-0.6.0-py3-none-any.whl (64 kB)\n",
            "\u001b[2K     \u001b[90m━━━━━━━━━━━━━━━━━━━━━━━━━━━━━━━━━━━━━━━━\u001b[0m \u001b[32m64.4/64.4 kB\u001b[0m \u001b[31m6.5 MB/s\u001b[0m eta \u001b[36m0:00:00\u001b[0m\n",
            "\u001b[?25hRequirement already satisfied: six in /usr/local/lib/python3.10/dist-packages (from torchtext) (1.16.0)\n",
            "Requirement already satisfied: sentencepiece in /usr/local/lib/python3.10/dist-packages (from torchtext) (0.2.0)\n",
            "Requirement already satisfied: MarkupSafe>=2.0 in /usr/local/lib/python3.10/dist-packages (from jinja2->torch==2.4.0) (3.0.2)\n",
            "Requirement already satisfied: charset-normalizer<4,>=2 in /usr/local/lib/python3.10/dist-packages (from requests->torchtext) (3.4.0)\n",
            "Requirement already satisfied: idna<4,>=2.5 in /usr/local/lib/python3.10/dist-packages (from requests->torchtext) (3.10)\n",
            "Requirement already satisfied: urllib3<3,>=1.21.1 in /usr/local/lib/python3.10/dist-packages (from requests->torchtext) (2.2.3)\n",
            "Requirement already satisfied: certifi>=2017.4.17 in /usr/local/lib/python3.10/dist-packages (from requests->torchtext) (2024.8.30)\n",
            "Requirement already satisfied: mpmath<1.4,>=1.1.0 in /usr/local/lib/python3.10/dist-packages (from sympy->torch==2.4.0) (1.3.0)\n",
            "Installing collected packages: triton, nvidia-nvtx-cu12, nvidia-nccl-cu12, nvidia-cusparse-cu12, nvidia-curand-cu12, nvidia-cufft-cu12, nvidia-cuda-runtime-cu12, nvidia-cuda-nvrtc-cu12, nvidia-cuda-cupti-cu12, nvidia-cublas-cu12, nvidia-cusolver-cu12, nvidia-cudnn-cu12, torch, torchvision, torchtext, torchaudio\n",
            "  Attempting uninstall: nvidia-nccl-cu12\n",
            "    Found existing installation: nvidia-nccl-cu12 2.23.4\n",
            "    Uninstalling nvidia-nccl-cu12-2.23.4:\n",
            "      Successfully uninstalled nvidia-nccl-cu12-2.23.4\n",
            "  Attempting uninstall: nvidia-cusparse-cu12\n",
            "    Found existing installation: nvidia-cusparse-cu12 12.5.4.2\n",
            "    Uninstalling nvidia-cusparse-cu12-12.5.4.2:\n",
            "      Successfully uninstalled nvidia-cusparse-cu12-12.5.4.2\n",
            "  Attempting uninstall: nvidia-curand-cu12\n",
            "    Found existing installation: nvidia-curand-cu12 10.3.7.77\n",
            "    Uninstalling nvidia-curand-cu12-10.3.7.77:\n",
            "      Successfully uninstalled nvidia-curand-cu12-10.3.7.77\n",
            "  Attempting uninstall: nvidia-cufft-cu12\n",
            "    Found existing installation: nvidia-cufft-cu12 11.3.0.4\n",
            "    Uninstalling nvidia-cufft-cu12-11.3.0.4:\n",
            "      Successfully uninstalled nvidia-cufft-cu12-11.3.0.4\n",
            "  Attempting uninstall: nvidia-cuda-runtime-cu12\n",
            "    Found existing installation: nvidia-cuda-runtime-cu12 12.6.77\n",
            "    Uninstalling nvidia-cuda-runtime-cu12-12.6.77:\n",
            "      Successfully uninstalled nvidia-cuda-runtime-cu12-12.6.77\n",
            "  Attempting uninstall: nvidia-cuda-cupti-cu12\n",
            "    Found existing installation: nvidia-cuda-cupti-cu12 12.6.80\n",
            "    Uninstalling nvidia-cuda-cupti-cu12-12.6.80:\n",
            "      Successfully uninstalled nvidia-cuda-cupti-cu12-12.6.80\n",
            "  Attempting uninstall: nvidia-cublas-cu12\n",
            "    Found existing installation: nvidia-cublas-cu12 12.6.3.3\n",
            "    Uninstalling nvidia-cublas-cu12-12.6.3.3:\n",
            "      Successfully uninstalled nvidia-cublas-cu12-12.6.3.3\n",
            "  Attempting uninstall: nvidia-cusolver-cu12\n",
            "    Found existing installation: nvidia-cusolver-cu12 11.7.1.2\n",
            "    Uninstalling nvidia-cusolver-cu12-11.7.1.2:\n",
            "      Successfully uninstalled nvidia-cusolver-cu12-11.7.1.2\n",
            "  Attempting uninstall: nvidia-cudnn-cu12\n",
            "    Found existing installation: nvidia-cudnn-cu12 9.5.1.17\n",
            "    Uninstalling nvidia-cudnn-cu12-9.5.1.17:\n",
            "      Successfully uninstalled nvidia-cudnn-cu12-9.5.1.17\n",
            "  Attempting uninstall: torch\n",
            "    Found existing installation: torch 2.5.1+cu121\n",
            "    Uninstalling torch-2.5.1+cu121:\n",
            "      Successfully uninstalled torch-2.5.1+cu121\n",
            "  Attempting uninstall: torchvision\n",
            "    Found existing installation: torchvision 0.20.1+cu121\n",
            "    Uninstalling torchvision-0.20.1+cu121:\n",
            "      Successfully uninstalled torchvision-0.20.1+cu121\n",
            "  Attempting uninstall: torchaudio\n",
            "    Found existing installation: torchaudio 2.5.1+cu121\n",
            "    Uninstalling torchaudio-2.5.1+cu121:\n",
            "      Successfully uninstalled torchaudio-2.5.1+cu121\n",
            "Successfully installed nvidia-cublas-cu12-12.1.3.1 nvidia-cuda-cupti-cu12-12.1.105 nvidia-cuda-nvrtc-cu12-12.1.105 nvidia-cuda-runtime-cu12-12.1.105 nvidia-cudnn-cu12-9.1.0.70 nvidia-cufft-cu12-11.0.2.54 nvidia-curand-cu12-10.3.2.106 nvidia-cusolver-cu12-11.4.5.107 nvidia-cusparse-cu12-12.1.0.106 nvidia-nccl-cu12-2.20.5 nvidia-nvtx-cu12-12.1.105 torch-2.4.0+cu121 torchaudio-2.4.0+cu121 torchtext-0.6.0 torchvision-0.19.0+cu121 triton-3.0.0\n"
          ]
        }
      ],
      "source": [
        "!pip install torch==2.4.0 torchvision torchaudio torchtext --index-url https://download.pytorch.org/whl/cu121"
      ]
    },
    {
      "cell_type": "code",
      "execution_count": null,
      "metadata": {
        "collapsed": true,
        "id": "KVU4xOQFLskD",
        "colab": {
          "base_uri": "https://localhost:8080/"
        },
        "outputId": "015fc88c-495a-42d7-cbf9-3c03b676a66c"
      },
      "outputs": [
        {
          "output_type": "stream",
          "name": "stdout",
          "text": [
            "Requirement already satisfied: nltk in /usr/local/lib/python3.10/dist-packages (3.9.1)\n",
            "Requirement already satisfied: click in /usr/local/lib/python3.10/dist-packages (from nltk) (8.1.7)\n",
            "Requirement already satisfied: joblib in /usr/local/lib/python3.10/dist-packages (from nltk) (1.4.2)\n",
            "Requirement already satisfied: regex>=2021.8.3 in /usr/local/lib/python3.10/dist-packages (from nltk) (2024.9.11)\n",
            "Requirement already satisfied: tqdm in /usr/local/lib/python3.10/dist-packages (from nltk) (4.66.6)\n"
          ]
        }
      ],
      "source": [
        "!pip install nltk"
      ]
    },
    {
      "cell_type": "code",
      "execution_count": null,
      "metadata": {
        "id": "Wv0SvKfjm0QV"
      },
      "outputs": [],
      "source": [
        "from typing import List, Tuple, Dict, Union\n",
        "from pathlib import Path\n",
        "import random\n",
        "import time\n",
        "from tqdm import tqdm\n",
        "from collections import Counter\n",
        "\n",
        "from tqdm.notebook import tqdm\n",
        "from IPython.display import clear_output\n",
        "\n",
        "from PIL import Image\n",
        "import numpy as np\n",
        "import requests\n",
        "import csv\n",
        "from collections import defaultdict\n",
        "\n",
        "import math\n",
        "\n",
        "from torch import Tensor\n",
        "import torch\n",
        "import torch.nn as nn\n",
        "from torch.nn import Transformer\n",
        "import torch.nn.functional as F\n",
        "import torch.optim as optim\n",
        "from nltk.translate.bleu_score import sentence_bleu, SmoothingFunction, corpus_bleu\n",
        "\n",
        "import torchvision\n",
        "from torchvision.utils import make_grid\n",
        "from torch.nn.utils.rnn import pad_sequence\n",
        "from torchvision.datasets import ImageFolder\n",
        "from torch.utils.data import DataLoader, ConcatDataset, TensorDataset\n",
        "from torch.amp import GradScaler, autocast\n",
        "from torchvision.models import MobileNet_V2_Weights\n",
        "from torchvision.transforms import v2\n",
        "from torchtext.vocab import build_vocab_from_iterator\n",
        "from torchtext.vocab import Vocab\n",
        "\n",
        "import seaborn as sns\n",
        "import spacy\n",
        "from sklearn.model_selection import train_test_split\n",
        "\n",
        "import nltk\n",
        "from nltk.translate.bleu_score import sentence_bleu\n",
        "from nltk.translate.bleu_score import SmoothingFunction\n",
        "\n",
        "\n",
        "import matplotlib.pyplot as plt\n",
        "plt.style.use('dark_background')"
      ]
    },
    {
      "cell_type": "code",
      "execution_count": null,
      "metadata": {
        "colab": {
          "base_uri": "https://localhost:8080/"
        },
        "id": "1FKwxasIia-9",
        "outputId": "12d1fe51-3177-459d-bfb0-4beaa0922a25"
      },
      "outputs": [
        {
          "output_type": "stream",
          "name": "stdout",
          "text": [
            "spacy                              3.7.5\n",
            "spacy-legacy                       3.0.12\n",
            "spacy-loggers                      1.0.5\n",
            "torch                              2.4.0+cu121\n",
            "torchaudio                         2.4.0+cu121\n",
            "torchsummary                       1.5.1\n",
            "torchtext                          0.6.0\n",
            "torchvision                        0.19.0+cu121\n"
          ]
        }
      ],
      "source": [
        "!pip list | grep -P 'torch|spacy'"
      ]
    },
    {
      "cell_type": "code",
      "execution_count": null,
      "metadata": {
        "id": "f51l1ABCjSLD"
      },
      "outputs": [],
      "source": [
        "# функция если нужно зафиксировать все сиды для воспроизводимости\n",
        "# (cudnn.deterministic = True может немного замедлить работу GPU)\n",
        "\n",
        "torch.backends.cudnn.deterministic = True\n",
        "torch.backends.cudnn.benchmark = False\n",
        "\n",
        "def seed(value: int = 111) -> None:\n",
        "    torch.manual_seed(value)\n",
        "    torch.cuda.manual_seed(value)\n",
        "    torch.cuda.manual_seed_all(value)\n",
        "    np.random.seed(value)\n",
        "    random.seed(value)"
      ]
    },
    {
      "cell_type": "markdown",
      "metadata": {
        "id": "1V6XeWQInDFJ"
      },
      "source": [
        "# 1. Подготовка данных"
      ]
    },
    {
      "cell_type": "markdown",
      "metadata": {
        "id": "MKRpJ1PkwpCd"
      },
      "source": [
        "## Загрузка датасета португальский - английский"
      ]
    },
    {
      "cell_type": "code",
      "execution_count": null,
      "metadata": {
        "colab": {
          "base_uri": "https://localhost:8080/"
        },
        "id": "6BvOV-sznSCk",
        "outputId": "6fc5ee7f-333f-499c-f080-78138aae7f79"
      },
      "outputs": [
        {
          "output_type": "stream",
          "name": "stdout",
          "text": [
            "--2024-11-16 20:08:20--  https://www.manythings.org/anki/por-eng.zip\n",
            "Resolving www.manythings.org (www.manythings.org)... 173.254.30.110\n",
            "Connecting to www.manythings.org (www.manythings.org)|173.254.30.110|:443... connected.\n",
            "HTTP request sent, awaiting response... 200 OK\n",
            "Length: 6494486 (6.2M) [application/zip]\n",
            "Saving to: ‘por-eng.zip’\n",
            "\n",
            "por-eng.zip         100%[===================>]   6.19M  17.9MB/s    in 0.3s    \n",
            "\n",
            "2024-11-16 20:08:21 (17.9 MB/s) - ‘por-eng.zip’ saved [6494486/6494486]\n",
            "\n"
          ]
        }
      ],
      "source": [
        "# Загрузка датасета\n",
        "!wget https://www.manythings.org/anki/por-eng.zip"
      ]
    },
    {
      "cell_type": "code",
      "execution_count": null,
      "metadata": {
        "colab": {
          "base_uri": "https://localhost:8080/"
        },
        "id": "hCOI7-Ego7x6",
        "outputId": "7d5a8b6e-2dd8-4e2b-c6a6-16548c9998b5"
      },
      "outputs": [
        {
          "output_type": "stream",
          "name": "stdout",
          "text": [
            "Archive:  por-eng.zip\n",
            "  inflating: _about.txt              \n",
            "  inflating: por.txt                 \n"
          ]
        }
      ],
      "source": [
        "!unzip por-eng.zip"
      ]
    },
    {
      "cell_type": "code",
      "execution_count": null,
      "metadata": {
        "colab": {
          "base_uri": "https://localhost:8080/"
        },
        "id": "PP9izrLipckx",
        "outputId": "a546e48d-4a7c-4b1a-a2a7-ba8de4f7d5cb"
      },
      "outputs": [
        {
          "output_type": "stream",
          "name": "stdout",
          "text": [
            "Go.\tVai.\tCC-BY 2.0 (France) Attribution: tatoeba.org #2877272 (CM) & #1196331 (alexmarcelo)\n",
            "Go.\tVá.\tCC-BY 2.0 (France) Attribution: tatoeba.org #2877272 (CM) & #5464111 (ToinhoAlam)\n",
            "Hi.\tOi.\tCC-BY 2.0 (France) Attribution: tatoeba.org #538123 (CM) & #397074 (brauliobezerra)\n",
            "Run!\tCorre!\tCC-BY 2.0 (France) Attribution: tatoeba.org #906328 (papabear) & #1197457 (alexmarcelo)\n",
            "Run!\tCorra!\tCC-BY 2.0 (France) Attribution: tatoeba.org #906328 (papabear) & #1197458 (alexmarcelo)\n"
          ]
        }
      ],
      "source": [
        "!head -n 5 por.txt"
      ]
    },
    {
      "cell_type": "markdown",
      "metadata": {
        "id": "ufAibOf9zpZJ"
      },
      "source": [
        "## Чтение и очистка датасета от метаданных"
      ]
    },
    {
      "cell_type": "code",
      "execution_count": null,
      "metadata": {
        "colab": {
          "base_uri": "https://localhost:8080/"
        },
        "id": "bCWsIxJaz6T6",
        "outputId": "8417618b-f869-4ca5-dbe2-e9b578986a01"
      },
      "outputs": [
        {
          "output_type": "stream",
          "name": "stdout",
          "text": [
            "English: go.\n",
            "Portuguese: vai.\n",
            "\n",
            "English: go.\n",
            "Portuguese: vá.\n",
            "\n",
            "English: hi.\n",
            "Portuguese: oi.\n",
            "\n",
            "English: run!\n",
            "Portuguese: corre!\n",
            "\n",
            "English: run!\n",
            "Portuguese: corra!\n",
            "\n"
          ]
        }
      ],
      "source": [
        "# Чтение датасета\n",
        "dataset_path = 'por.txt'\n",
        "\n",
        "# Чтение файла и очистка метаданных\n",
        "pairs = []\n",
        "with open(dataset_path, 'r', encoding='utf-8') as file:\n",
        "    for line in file:\n",
        "        # Разделение строки по табуляции\n",
        "        parts = line.split('\\t')\n",
        "        if len(parts) >= 2: # нужно убедиться, что как минимум два предложения есть\n",
        "            en_sent = parts[0].lower().strip()\n",
        "            por_sent = parts[1].lower().strip()\n",
        "            pairs.append((en_sent, por_sent))\n",
        "\n",
        "# Первые 5 пар\n",
        "for en, por in pairs[:5]:\n",
        "    print(f'English: {en}\\nPortuguese: {por}\\n')"
      ]
    },
    {
      "cell_type": "markdown",
      "metadata": {
        "id": "qp6j2p7hw2lE"
      },
      "source": [
        "## Токенизация и создание словаря"
      ]
    },
    {
      "cell_type": "code",
      "execution_count": null,
      "metadata": {
        "collapsed": true,
        "id": "AnD-Qt5AnR-V"
      },
      "outputs": [],
      "source": [
        "# Загрузка языковых моделей\n",
        "%%capture\n",
        "!python -m spacy download en_core_web_sm\n",
        "!python -m spacy download pt_core_news_sm"
      ]
    },
    {
      "cell_type": "code",
      "execution_count": null,
      "metadata": {
        "id": "wN_Z9v_Zw8wJ"
      },
      "outputs": [],
      "source": [
        "# Загрузка моделей для английского и погтугальского языков\n",
        "nlp_en = spacy.load(\"en_core_web_sm\")\n",
        "nlp_por = spacy.load(\"pt_core_news_sm\")\n",
        "\n",
        "# Функции токенизации для каждого языка\n",
        "def en_tokenizer(sentence):\n",
        "    return [token.text for token in nlp_en(sentence)]\n",
        "\n",
        "def por_tokenizer(sentence):\n",
        "    return [token.text for token in nlp_por(sentence)]\n",
        "\n",
        "# Функция для токенизации предложений\n",
        "def tokenize_sentences(sentences):\n",
        "    tokenized_pairs = []\n",
        "    for en_sentence, por_sentence in tqdm(sentences, desc=\"Токенизация предложений\"):\n",
        "        en_tokens = en_tokenizer(en_sentence)  # Токенизация английского предложения\n",
        "        por_tokens = por_tokenizer(por_sentence)  # Токенизация португальского предложения\n",
        "        tokenized_pairs.append((en_tokens, por_tokens))  # Добавление токенов в список\n",
        "    return tokenized_pairs"
      ]
    },
    {
      "cell_type": "code",
      "execution_count": null,
      "metadata": {
        "id": "TojiQacq6Uii"
      },
      "outputs": [],
      "source": [
        "# Сохранение токенов в CSV файл\n",
        "def save_tokens_to_csv(token_file, tokenized_pairs):\n",
        "    with open(token_file, 'w', newline='') as f:\n",
        "        writer = csv.writer(f)\n",
        "        writer.writerow(['src', 'trg'])\n",
        "        for src_tokens, trg_tokens in tokenized_pairs:\n",
        "            writer.writerow([' '.join(map(str, src_tokens)), ' '.join(map(str, trg_tokens))])\n",
        "\n",
        "# Загрузка токенизированных данных из CSV файла\n",
        "def load_tokenized_pairs_from_csv(token_file):\n",
        "    tokenized_pairs = []\n",
        "    with open(token_file, newline='') as f:\n",
        "        reader = csv.reader(f)\n",
        "        next(reader)\n",
        "        for row in reader:\n",
        "            src_tokens = row[0].split()\n",
        "            trg_tokens = row[1].split()\n",
        "            tokenized_pairs.append((src_tokens, trg_tokens))\n",
        "    return tokenized_pairs"
      ]
    },
    {
      "cell_type": "code",
      "execution_count": null,
      "metadata": {
        "colab": {
          "referenced_widgets": [
            "3e3bc80868094c1fb8d009a9b05cc96f",
            "ad6d0b2f7f474fe48a668191df74967c",
            "c6543b96b125407abb04252c701c9b2f",
            "b40987415ec84ca9bb58a59bcb824a59",
            "c333d2bdf26a4448a2c1178590662f1b",
            "e3c0a3fafa7b4a8f810eb58a6831ca96",
            "f763120c8cd44e70b22cb5c1e35cdf5a",
            "1dcb91f9df4f4120aad4aa621e4ba69c",
            "9a320e83d99b4768aacada5cff1f3adb",
            "28b815dae70242c1bbac01e1f0ab74ed",
            "078cff87d69f43b98de1551fabc96ff0"
          ],
          "base_uri": "https://localhost:8080/",
          "height": 309
        },
        "id": "12a5xlHKzQmz",
        "outputId": "07ec4524-7ed0-4449-96e5-329941db2231"
      },
      "outputs": [
        {
          "output_type": "display_data",
          "data": {
            "text/plain": [
              "Токенизация предложений:   0%|          | 0/5 [00:00<?, ?it/s]"
            ],
            "application/vnd.jupyter.widget-view+json": {
              "version_major": 2,
              "version_minor": 0,
              "model_id": "3e3bc80868094c1fb8d009a9b05cc96f"
            }
          },
          "metadata": {}
        },
        {
          "output_type": "stream",
          "name": "stdout",
          "text": [
            "English tokens: ['go', '.']\n",
            "Portuguese tokens: ['vai', '.']\n",
            "\n",
            "English tokens: ['go', '.']\n",
            "Portuguese tokens: ['vá', '.']\n",
            "\n",
            "English tokens: ['hi', '.']\n",
            "Portuguese tokens: ['oi', '.']\n",
            "\n",
            "English tokens: ['run', '!']\n",
            "Portuguese tokens: ['corre', '!']\n",
            "\n",
            "English tokens: ['run', '!']\n",
            "Portuguese tokens: ['corra', '!']\n",
            "\n"
          ]
        }
      ],
      "source": [
        "# Применение токенизации к первым 5 парам предложений\n",
        "tokenized_sentences = tokenize_sentences(pairs[:5])\n",
        "\n",
        "# Вывод токенизированных предложений\n",
        "for en_tokens, por_tokens in tokenized_sentences:\n",
        "    print(\"English tokens:\", en_tokens)\n",
        "    print(\"Portuguese tokens:\", por_tokens)\n",
        "    print()"
      ]
    },
    {
      "cell_type": "code",
      "execution_count": null,
      "metadata": {
        "id": "qsKJZfzHgOUj"
      },
      "outputs": [],
      "source": [
        "# # Собрать все токены из предложений с индикатором прогресса\n",
        "# counter_input = Counter()\n",
        "# counter_target = Counter()\n",
        "\n",
        "# # Токенизация с отображением прогресса\n",
        "# print(\"Сбор токенов для английского языка...\")\n",
        "# for src, _ in tqdm(pairs, desc=\"Processing English sentences\"):\n",
        "#     tokens = en_tokenizer(src)\n",
        "#     counter_input.update(tokens)\n",
        "\n",
        "# print(\"Сбор токенов для португальского языка...\")\n",
        "# for _, trg in tqdm(pairs, desc=\"Processing Portuguese sentences\"):\n",
        "#     tokens = por_tokenizer(trg)\n",
        "#     counter_target.update(tokens)\n",
        "\n",
        "# print(\"Сбор токенов завершен.\")"
      ]
    },
    {
      "cell_type": "code",
      "execution_count": null,
      "metadata": {
        "id": "87k5jMZQecgj"
      },
      "outputs": [],
      "source": [
        "# # Сохранение токенов в CSV файл\n",
        "# def save_counter_to_csv(counter, filename):\n",
        "#     with open(filename, 'w', newline='', encoding='utf-8') as csvfile:\n",
        "#         writer = csv.writer(csvfile)\n",
        "#         writer.writerow(['Token', 'Frequency'])  # Заголовок\n",
        "#         for token, freq in counter.items():\n",
        "#             writer.writerow([token, freq])\n",
        "\n",
        "# # 3. Сохранение токенов для обоих языков\n",
        "# save_counter_to_csv(counter_input, 'english_tokens.csv')\n",
        "# save_counter_to_csv(counter_target, 'portuguese_tokens.csv')\n",
        "\n",
        "# print(\"Токены сохранены в файлы english_tokens.csv и portuguese_tokens.csv\")"
      ]
    },
    {
      "cell_type": "code",
      "execution_count": null,
      "metadata": {
        "colab": {
          "base_uri": "https://localhost:8080/"
        },
        "id": "g-XR9KFffCe9",
        "outputId": "69e7d0ed-c80f-483b-ec71-88a4ff8a7b25"
      },
      "outputs": [
        {
          "output_type": "stream",
          "name": "stdout",
          "text": [
            "Количество уникальных токенов в английском словаре: 13245\n",
            "Количество уникальных токенов в португальском словаре: 23996\n",
            "Топ-10 токенов в английском словаре: [('.', 161703), ('i', 64480), ('tom', 53512), ('you', 44981), ('to', 44275), ('the', 34614), ('?', 32291), (\"n't\", 31237), ('do', 26290), ('is', 24424)]\n",
            "Топ-10 токенов в португальском словаре: [('.', 160533), ('tom', 53336), ('que', 44689), ('o', 40872), ('não', 38743), ('eu', 35884), ('?', 32445), ('de', 29817), ('a', 26708), ('você', 26386)]\n"
          ]
        }
      ],
      "source": [
        "# Функция для чтения CSV файла и обновления счётчика токенов\n",
        "def read_csv_and_update_counter(filename, counter):\n",
        "    with open(filename, 'r', encoding='utf-8') as csvfile:\n",
        "        reader = csv.reader(csvfile)\n",
        "        next(reader)  # Пропустить заголовок\n",
        "        for row in reader:\n",
        "            token, frequency = row\n",
        "            counter[token] += int(frequency)\n",
        "\n",
        "# Чтение и обновление счётчиков для английских и португальских токенов\n",
        "counter_input = Counter()  # Для английских токенов\n",
        "counter_target = Counter()  # Для португальских токенов\n",
        "\n",
        "# Обновляем счётчики с данными из CSV файлов\n",
        "read_csv_and_update_counter('english_tokens.csv', counter_input)\n",
        "read_csv_and_update_counter('portuguese_tokens.csv', counter_target)\n",
        "\n",
        "# Проверка сохранённых данных\n",
        "print(f\"Количество уникальных токенов в английском словаре: {len(counter_input)}\")\n",
        "print(f\"Количество уникальных токенов в португальском словаре: {len(counter_target)}\")\n",
        "\n",
        "# Выводим топ-10 токенов для каждого языка\n",
        "print(f\"Топ-10 токенов в английском словаре: {counter_input.most_common(10)}\")\n",
        "print(f\"Топ-10 токенов в португальском словаре: {counter_target.most_common(10)}\")"
      ]
    },
    {
      "cell_type": "code",
      "execution_count": null,
      "metadata": {
        "colab": {
          "referenced_widgets": [
            "1bd49e400043494dadd24e048eea20b5",
            "780ec19af81b411f8f5ff50d371e861b",
            "4a53afe128fe4a599ab3e7abad0d3a97",
            "e6eb2a2ddf634aa58f652eff392619da",
            "aba93fd1587a498da963dbd1b0be4f15",
            "65861732e0914c92ba4d36e136411cb2",
            "6faeea5849b6499faa947a4893d239b8",
            "33e05e0171f444789627d96967399eba",
            "41619ed2c7244b7ca2a5a3b0893dc4c1",
            "576ec2b8fb6647209f18f4f774c01d0b",
            "f54ddc37ab7841d1b14f873ef9a31aca"
          ],
          "base_uri": "https://localhost:8080/",
          "height": 101
        },
        "id": "B2MFcWKUscTb",
        "outputId": "d05ee64f-73ef-4377-e159-94c0aacf4026"
      },
      "outputs": [
        {
          "output_type": "stream",
          "name": "stdout",
          "text": [
            "Размер словаря английского: 13249\n",
            "Размер словаря португальского: 24000\n"
          ]
        },
        {
          "output_type": "display_data",
          "data": {
            "text/plain": [
              "Преобразование токенов:   0%|          | 0/5000 [00:00<?, ?it/s]"
            ],
            "application/vnd.jupyter.widget-view+json": {
              "version_major": 2,
              "version_minor": 0,
              "model_id": "1bd49e400043494dadd24e048eea20b5"
            }
          },
          "metadata": {}
        },
        {
          "output_type": "stream",
          "name": "stdout",
          "text": [
            "[1552, 428, 0, 157, 473, 1552, 428, 0, 157, 473]\n"
          ]
        }
      ],
      "source": [
        "# Спец символы: неизвестный, паддинг, начало и конец предложения\n",
        "specials = ['<unk>', '<pad>', '<bos>', '<eos>']\n",
        "\n",
        "# Создаем словари для слов, которые встречаются в тексте более min_freq раз\n",
        "# specials - просто атрибут словаря, их индексы будут идти по порядку [0, 1, 2, 3]\n",
        "en_vocab = Vocab(counter_input, min_freq=1, specials=specials)\n",
        "por_vocab = Vocab(counter_target, min_freq=1, specials=specials)\n",
        "\n",
        "# Устанавливаем индекс для неизвестных слов (заменяем на <unk>)\n",
        "unk_index_en = en_vocab['<unk>']\n",
        "unk_index_por = por_vocab['<unk>']\n",
        "\n",
        "# Словари из индекса в слово для декодирования\n",
        "# index_to_word_en = {v: k for k, v in en_vocab.stoi.items()}\n",
        "# index_to_word_por = {v: k for k, v in por_vocab.stoi.items()}\n",
        "\n",
        "index_to_word_en = {index: token for token, index in zip(en_vocab.itos, range(len(en_vocab)))}\n",
        "index_to_word_por = {index: token for token, index in zip(por_vocab.itos, range(len(por_vocab)))}\n",
        "\n",
        "# Проверка на наличие\n",
        "print(f\"Размер словаря английского: {len(index_to_word_en)}\")\n",
        "print(f\"Размер словаря португальского: {len(index_to_word_por)}\")\n",
        "\n",
        "# Функция для создания маппинга токенов в индексы с использованием defaultdict\n",
        "def create_vocab_mapping(vocab, unk_index):\n",
        "    return defaultdict(lambda: unk_index, vocab)\n",
        "\n",
        "# Создаем маппинги для английского и португальского словарей\n",
        "vocab_mapping_en = create_vocab_mapping(en_vocab.stoi, unk_index_en)\n",
        "vocab_mapping_por = create_vocab_mapping(por_vocab.stoi, unk_index_por)\n",
        "\n",
        "# Функция для преобразования списка токенов в индексы с использованием маппинга\n",
        "def tokens_to_indices_fast(tokens, vocab_mapping):\n",
        "    return [vocab_mapping[token] for token in tqdm(tokens, desc=\"Преобразование токенов\")]\n",
        "\n",
        "# Пример списка токенов (тестовый)\n",
        "tokens = ['hello', 'world', 'unknown_word', '!', 'run'] * 1000  # Пример большого списка токенов\n",
        "\n",
        "# Преобразуем список токенов в индексы\n",
        "token_indices = tokens_to_indices_fast(tokens, vocab_mapping_en)\n",
        "\n",
        "# Выводим первые 10 индексов\n",
        "print(token_indices[:10])"
      ]
    },
    {
      "cell_type": "code",
      "execution_count": null,
      "metadata": {
        "colab": {
          "base_uri": "https://localhost:8080/"
        },
        "id": "FDTtwQfz3i-c",
        "outputId": "280e5a3e-1979-45d6-fd7e-e46c76f9cba0"
      },
      "outputs": [
        {
          "output_type": "stream",
          "name": "stdout",
          "text": [
            "['<unk>', '<pad>', '<bos>', '<eos>', '.', 'i', 'tom', 'you', 'to', 'the', '?', \"n't\", 'do', 'is', 'a', 'that', \"'s\", 'it', 'was', 'in', 'he', 'we', 'have', 'me', 'did', 'this', 'of', ',', 'what', 'my', 'are', \"'m\", 'mary', 'know', 'for', 'be', 'want', 'like', 'your', 'with', \"'re\", 'on', 'think', 'not', 'and', 'can', 'his', 'go', 'how', \"'ll\", 'at', 'here', 'there', 'does', 'has', \"'ve\", 'they', 'going', 'she', 'very', 'why', 'about', 'will', 'time', 'all', 'would', 'one', 'were', 'need', 'who', 'as', 'get', 'ca', 'boston', 'had', 'should', 'french', 'said', 'him', 'where', 'when', 'if', 'up', 'help', 'out', \"'d\", 'could', 'tell', 'us', 'no', 'good', 'an', 'let', 'been', 'from', 'see', 'by', 'never', 'just', 'come', 'than', 'her', 'now', 'told', 'still', 'really', 'so', 'doing', 'much', 'got', 'please', 'more', 'something', 'home', 'too', 'wo', 'car', 'lot', 'back', 'some', 'wanted', 'anything', '\"', 'work', 'three', 'today', 'take', 'last', 'people', 'but', 'many', 'day', 'talk', 'right', 'thought', 'eat', 'money', 'house', 'speak', 'our', 'book', 'only', 'sure', 'already', 'buy', 'love', 'say', 'better', 'any', 'went', 'again', 'make', 'always', 'stay', 'school', 'am', 'tomorrow', '!', 'australia', 'well', 'asked', 'hope', 'give', 'new', 'made', 'look', 'live', 'knows', 'knew', 'everything', 'long', 'way', 'done', 'find', 'leave', 'off', 'ever', 'wants', 'dog', 'before', 'used', 'play', 'happy', 'yesterday', 'yet', 'read', 'everyone', 'left', 'old', 'room', 'father', 'happened', 'next', 'them', 'put', 'name', 'ask', 'every', 'friends', 'night', 'bought', 'little', 'stop', 'two', 'years', 'must', 'children', 'wait', 'alone', 'may', 'door', 'try', 'saw', 'down', 'into', 'nothing', '-', 'busy', 'these', 'first', 'or', 'believe', 'understand', 'things', 'wrong', 'able', 'teacher', 'other', 'mother', 'call', 'job', 'took', 'away', 'feel', 'same', 'likes', 'man', 'open', 'late', 'tired', 'over', 'even', 'enough', 'afraid', 'wonder', 'anymore', 'found', 'wish', 'everybody', 'lost', 'life', 'anyone', 'happen', 'after', 'best', 'married', 'problem', 'almost', 'seen', 'tried', 'heard', 'both', 'keep', 'looking', 'week', 'gave', 'thing', 'drink', 'soon', 'use', 'party', 'hard', 'water', 'came', 'idea', 'english', 'remember', 'study', 'year', 'friend', 'nobody', 'talking', 'ready', 'bad', 'together', 'looks', 'else', 'bus', 'being', 'without', 'waiting', 'trying', 'parents', 'beautiful', 'brother', 'care', 'learn', 'true', 'someone', 'getting', 'books', 'food', 'hear', 'plan', 'answer', 'morning', 'eating', 'watch', 'often', 'coffee', 'their', 'sleep', 'forget', 'says', 'sorry', 'early', 'kind', 'started', 'person', 'myself', 'pretty', 'win', 'family', 'place', 'seems', 'might', 'cold', 'himself', 'which', 'yourself', 'dinner', 'another', 'needs', 'angry', 'pay', 'working', 'ago', 'because', 'playing', 'wearing', 'died', 'most', 'phone', 'easy', 'hurt', 'bed', 'looked', 'those', 'wife', 'few', 'while', 'hate', 'probably', 'boy', 'fun', 'met', 'coming', 'train', 'truth', 'swim', 'lunch', 'big', 'seem', 'cat', 'movie', 'show', 'lives', 'each', 'question', 'doctor', 'monday', 'sister', 'thank', 'anybody', 'great', 'turn', 'table', 'write', 'drive', 'meet', 'ate', 'sick', 'girl', 'nice', 'change', 'usually', 'walk', 'tonight', 'young', 'days', 'letter', 'mine', 'living', 'worried', 'park', 'decided', 'until', 'around', 'called', 'meeting', 'mind', 'start', 'important', 'afternoon', 'favorite', 'studying', 'ok', 'finished', 'hungry', 'tv', 'far', 'reading', 'own', 'miss', 'times', 'arrived', 'longer', 'questions', 'john', 'gone', 'agree', 'visit', 'forgot', 'canadian', 'once', 'police', 'since', 'difficult', 'world', 'rain', 'surprised', 'class', 'quite', 'wine', 'son', 'interested', 'office', 'sit', 'picture', 'station', 'having', 'hours', 'trust', 'bring', 'story', 'interesting', 'needed', 'sing', 'close', 'hot', 'thanks', 'hand', 'window', 'matter', 'bit', 'born', 'helped', 'spent', 'asleep', 'fell', 'makes', 'music', 'accident', 'child', 'country', 'maybe', 'mistake', 'broke', 'minutes', 'rich', 'enjoy', 'hair', 'paid', 'run', 'thirty', 'cake', 'tennis', 'hospital', 'kids', 'fast', 'liked', 'song', 'game', 'ten', 'street', 'planning', 'lose', 'students', 'such', 'works', 'free', 'chance', 'month', 'birthday', 'shoes', 'thinks', 'fire', 'october', 'scared', 'whether', 'cut', 'older', 'box', 'daughter', 'later', 'small', 'die', 'summer', 'swimming', 'lived', 'under', 'felt', 'restaurant', 'glad', 'listen', 'stand', 'eyes', 'wrote', 'ran', 'word', 'yours', 'careful', 'milk', 'shirt', 'fish', 'homework', 'red', 'lying', 'woman', 'bicycle', 'beer', 'language', 'different', 'dogs', 'exactly', 'spend', 'stopped', 'thinking', 'near', 'stayed', 'drunk', 'japan', 'loves', 'changed', 'dollars', 'learned', 'stupid', 'breakfast', 'taking', 'city', 'guys', 'languages', 'number', 'turned', 'safe', 'saying', 'talked', 'somebody', 'girlfriend', 'key', 'outside', 'five', 'making', 'town', '2:30', 'became', 'beach', 'become', 'high', 'won', 'eaten', 'watching', 'tree', 'explain', 'feeling', 'gets', 'opened', 'hands', 'proud', 'clean', 'hat', 'seemed', 'wear', 'closed', 'hour', 'library', 'expensive', 'student', 'team', 'sat', 'broken', 'baby', 'computer', 'goes', 'guitar', 'christmas', 'mean', 'behind', 'clothes', 'comes', 'hurry', 'caught', 'news', 'blue', 'choice', 'trouble', 'younger', 'cook', 'piano', 'tea', 'worry', 'killed', 'fine', 'supposed', 'umbrella', 'cry', 'dictionary', 'worked', 'guess', 'hotel', 'light', 'meat', 'several', 'waited', 'cup', 'possible', 'speaking', 'crying', 'promise', 'weather', 'played', 'dark', 'full', 'kiss', 'mad', 'plane', 'finish', 'guy', 'promised', 'rather', 'speaks', 'mistakes', 'store', 'list', 'movies', 'through', 'attention', 'cost', 'real', 'fix', 'pictures', 'taught', 'test', 'problems', 'also', 'sitting', 'whole', 'fired', 'flowers', 'loved', 'sleeping', 'strong', 'funny', 'apple', 'floor', 'glass', 'honest', 'lie', 'snow', 'strange', 'dream', 'learning', 'quickly', 'expect', 'listening', 'alive', 'end', 'hit', 'inside', 'then', 'began', 'soccer', 'women', 'driver', 'advice', 'dangerous', 'kept', 'building', 'japanese', 'sell', 'crazy', 'men', 'white', 'cats', 'part', 'prefer', 'trip', 'dress', 'front', 'river', 'dead', 'ice', 'kill', 'move', 'desk', 'reason', 'either', 'teach', 'upset', 'invited', 'smoking', 'likely', 'tall', 'face', 'situation', 'walked', 'black', 'bread', 'glasses', 'grandfather', 'wash', 'camera', 'coat', 'dance', 'months', 'whose', 'weight', 'follow', 'lucky', 'rest', 'along', 'drinking', 'happening', 'shut', 'sometimes', 'evening', 'laughed', 'plans', 'six', 'doubt', 'lawyer', 'written', 'awake', 'chess', 'half', 'nervous', 'concert', 'finally', 'order', 'showed', 'words', 'least', 'writing', 'age', 'quiet', 'quit', 'death', 'allowed', 'brought', 'present', 'sent', 'telling', 'baseball', 'husband', 'pain', 'return', 'running', 'eggs', 'fight', 'garden', 'large', 'moment', 'paper', 'raining', 'stole', 'bank', 'others', 'sense', 'sugar', 'weekend', 'business', 'drank', 'fishing', 'happens', 'blind', 'known', 'completely', 'empty', 'missed', 'pass', 'war', 'girls', 'heart', 'arrive', 'break', 'famous', 'secret', 'serious', 'company', 'driving', 'expected', 'studied', 'worth', 'keys', 'kitchen', 'minute', 'between', 'blood', 'catch', 'message', 'lied', 'pick', 'sad', 'wake', 'yes', 'decision', 'sound', 'vacation', 'worse', 'eye', 'poor', 'abroad', 'apartment', 'color', 'knife', 'visited', 'boyfriend', 'leaving', 'smoke', 'apples', 'moved', 'owe', 'actually', 'laughing', 'perfect', 'taxi', 'terrible', 'tie', 'chair', 'choose', 'four', 'opinion', 'bag', 'horse', 'address', 'forgive', 'kid', 'ride', 'rules', 'spoke', 'whatever', 'head', 'sleepy', 'arrested', 'correct', 'enjoyed', 'point', 'allow', 'animals', 'fault', 'gift', 'send', 'singing', 'uncle', 'arm', 'church', 'joke', 'necessary', 'slept', 'stolen', 'built', 'sign', 'begin', 'convinced', 'cream', 'shy', 'ticket', 'kissed', 'leg', 'less', 'walking', 'weeks', 'asking', 'blame', 'boys', 'pen', 'piece', 'short', 'willing', 'easily', 'flight', 'laugh', 'radio', '20th', 'against', 'count', 'fat', 'smart', 'taller', 'check', 'deal', 'disappointed', 'golf', 'passed', 'pizza', 'slowly', 'wallet', 'air', 'boss', 'means', 'save', 'touch', 'brothers', 'clear', 'sounds', 'bridge', 'grew', 'injured', 'lend', 'regret', 'shopping', 'takes', 'airport', 'danger', 'faster', 'future', 'neighborhood', 'noise', 'ship', 'soup', 'accept', 'experience', 'noticed', 'popular', 'side', 'agreed', 'calm', 'difference', 'somewhere', 'wall', 'confused', 'hardly', 'impossible', 'rent', 'sunday', 'welcome', 'common', 'given', 'its', 'exam', 'fall', 'helping', 'solve', 'staying', 'teaching', 'carefully', 'immediately', 'standing', 'taken', 'winter', \"o'clock\", 'second', 'sold', 'stood', 'telephone', 'bored', 'hid', 'realize', 'road', 'suspect', '2013', 'bet', 'hundred', 'information', 'protect', 'television', 'travel', 'borrow', 'during', 'excuse', 'zoo', 'delicious', 'eats', 'forgotten', 'single', 'smell', 'supermarket', 'truck', 'waste', 'bird', 'couple', 'favor', 'offer', 'pencil', 'plays', 'received', 'satisfied', 'shot', 'thirteen', 'translate', 'voice', 'decide', 'medicine', 'painted', 'permission', 'report', 'sisters', 'trees', 'art', 'aware', 'hold', 'mom', 'ordered', 'prepared', 'seat', 'america', 'certain', 'college', 'earlier', 'fair', 'gun', 'lock', 'patient', 'pool', 'refused', 'shower', 'tokyo', 'watched', 'anywhere', 'harder', 'law', 'locked', 'marry', 'speech', 'american', 'chocolate', 'convince', 'dishes', 'recognize', 'sky', 'bottle', 'consider', 'cool', 'foreign', 'native', 'player', 'smiled', 'states', 'sun', 'threw', 'traffic', 'ball', 'concerned', 'earth', 'hates', 'newspaper', 'set', 'success', 'twice', 'wet', 'bill', 'feet', 'health', 'hide', 'neither', 'seven', 'surprise', 'united', 'across', 'notice', 'wedding', 'case', 'cried', 'eventually', 'guilty', 'history', 'lake', 'line', 'map', 'moving', 'ought', 'past', 'stuff', 'appreciate', 'cooking', 'figure', 'understood', 'cars', 'curious', 'dirty', 'fool', 'goodbye', 'lots', 'teeth', 'answered', 'chinese', 'complaining', 'expecting', 'extremely', 'jackson', 'lights', 'mountain', 'seldom', 'windows', 'woke', 'apologize', 'calling', 'god', 'handed', 'hoping', 'join', 'museum', 'spoken', 'absolutely', 'bath', 'bike', 'dad', 'drinks', 'jealous', 'mouth', 'passport', 'sandwich', 'sports', 'area', 'basketball', 'believed', 'canadians', 'forward', 'heavy', 'hey', 'none', 'picked', 'suggested', 'video', 'wonderful', 'eight', 'ideas', 'machine', 'practice', 'price', 'purpose', 'returned', 'though', 'green', 'grow', 'middle', 'simple', 'subject', 'suggest', 'dancing', 'dressed', 'fruit', 'intend', 'luck', 'novel', 'smile', 'teachers', 'control', 'date', 'lonely', 'named', 'salt', 'saved', 'suddenly', 'advised', 'card', 'deserve', 'discuss', 'foot', 'gas', 'intelligent', 'kidding', 'suitcase', 'thirsty', 'washed', 'weird', 'bigger', 'details', 'followed', 'football', 'hiding', 'impressed', 'neighbors', 'perhaps', 'prison', 'bother', 'depressed', 'explained', 'failed', 'gate', 'gotten', 'handle', 'recently', 'responsible', 'risk', 'traveling', 'warm', 'accepted', 'admit', 'belongs', 'cute', 'definitely', 'entered', 'europe', 'fit', 'pretended', 'respect', 'seeing', 'seriously', 'suppose', 'believes', 'classroom', 'contact', 'hang', 'public', 'rains', 'special', 'chicken', 'complicated', 'exhausted', 'hopes', 'huge', 'losing', 'stuck', 'sweater', 'till', 'vote', 'afford', 'boring', 'excited', 'feels', 'hurts', 'missing', 'raise', 'spring', 'third', 'throw', 'ugly', \"'\", 'changes', 'classes', 'grandmother', 'hero', 'hired', 'invite', 'laundry', 'leaves', 'meant', 'paint', 'parked', 'suit', 'weak', 'bathroom', 'caused', 'continue', 'filled', 'fly', 'ring', 'sundays', 'talks', 'trusted', '30', 'add', 'beginning', 'forever', 'friendly', 'joking', 'juice', 'midnight', 'rice', 'singer', 'ahead', 'attend', 'capital', 'contract', 'drove', 'feed', 'headache', 'herself', 'island', 'smarter', 'tickets', 'button', 'dropped', 'escape', 'excellent', 'except', 'imagine', 'mess', 'university', 'wears', 'dying', 'fresh', 'jacket', 'nine', 'password', 'paying', 'project', 'roof', 'skiing', 'starting', 'buying', 'comfortable', 'complain', 'course', 'fact', 'lazy', 'manager', 'painting', 'results', 'sang', 'storm', 'taste', 'winning', 'admitted', 'couch', 'cousin', 'ended', 'flower', 'held', 'hire', 'innocent', 'kicked', 'plenty', 'pocket', 'poems', 'rang', 'rarely', 'someday', 'spends', 'vegetarian', 'york', 'yourselves', 'assume', 'canceled', 'cards', 'charge', 'chicago', 'clock', 'credit', 'cross', 'embarrassed', 'giving', 'gold', 'interest', 'jumped', 'names', 'similar', 'type', 'wind', 'absent', 'appointment', 'barely', 'covered', 'games', 'idiot', 'keeps', 'legs', 'lent', 'letters', 'rained', 'rude', 'wondered', 'burned', 'discovered', 'email', 'license', 'mirror', 'neighbor', 'opportunity', 'orange', 'photo', 'pray', 'shop', 'solution', 'songs', 'speaker', 'stairs', 'translated', 'vegetables', 'worst', 'alice', 'cookies', 'creative', 'elevator', 'everywhere', 'hung', 'pleased', 'prices', 'sooner', 'website', 'attack', 'beef', 'body', 'carry', 'certainly', 'dating', 'deep', 'enemy', 'fixed', 'friday', 'helps', 'listened', 'match', 'sandwiches', 'survive', 'unhappy', 'answers', 'ashamed', 'birds', 'brush', 'cheese', 'divorced', 'example', 'explanation', 'france', 'healthy', 'mood', 'normal', 'president', 'raised', 'shall', 'support', 'top', 'understands', 'act', 'doors', 'downtown', 'fighting', 'grateful', 'ignored', 'nor', 'nuts', 'peace', 'pie', 'post', 'pulled', 'realized', 'snowing', 'step', 'twenty', 'useful', 'warn', 'wasting', 'yelling', 'countries', 'crossed', 'draw', 'dreams', 'fear', 'garage', 'moon', 'natural', 'obviously', 'pair', 'punished', 'science', 'sentence', 'warned', 'washing', 'animal', 'chosen', 'enter', 'fever', 'goal', 'jokes', 'liar', 'math', 'memory', 'pity', 'retired', 'saturday', 'talent', 'taunting', 'thousand', 'whenever', 'writer', 'boat', 'brown', 'cancer', 'cash', 'continued', 'costs', 'dentist', 'feelings', 'genius', 'loud', 'nap', 'nearly', 'nose', 'offered', 'sale', 'silence', 'thief', 'adopted', 'amazing', 'argue', 'brazil', 'crime', 'exercise', 'fail', 'following', 'heat', 'murder', 'page', 'policeman', 'proposal', 'result', 'slow', 'writes', 'avoid', 'cheap', 'duty', 'escaped', 'gives', 'helpful', 'ill', 'instead', 'involved', 'poem', 'reasons', 'refrigerator', 'share', 'signed', 'socks', 'stars', 'straight', 'stronger', 'unlikely', 'borrowed', 'cheaper', 'clearly', 'club', 'drop', 'horses', 'independent', 'patience', 'relax', 'sea', 'sweet', 'tastes', 'toilet', 'unless', 'view', 'voted', 'beard', 'belong', 'cause', 'china', 'chose', 'complained', 'forced', 'hello', 'horrible', 'hug', 'managed', 'million', 'spanish', 'supper', 't', 'tough', 'yen', 'aunt', 'cleaned', 'climb', 'climbed', 'easier', 'farm', 'mondays', 'paris', 'power', 'rope', 'size', 'tears', '$', 'arguing', 'artist', 'available', 'band', 'bedroom', 'breath', 'cares', 'cleaning', 'destroyed', 'figured', 'hated', 'invitation', 'meal', 'recognized', 'schools', 'selfish', 'snoring', 'suicide', 'talented', '20', 'annoying', 'apart', 'article', 'attacked', 'bar', 'crowd', 'deserves', 'dry', 'houses', 'ignore', 'obey', 'ones', 'perfectly', 'quick', 'scare', 'shelf', 'soldiers', 'system', 'tallest', 'theory', 'using', 'wore', 'castle', 'cell', 'corner', 'diary', 'dizzy', 'document', 'drugs', 'frightened', 'holding', 'introduce', 'jail', 'nearest', 'obvious', 'ocean', 'options', 'race', 'romantic', 'shoot', 'silly', 'sofa', 'survived', 'totally', 'approve', 'cab', 'cousins', 'exist', 'fill', 'grapes', 'hole', 'lesson', 'magazine', 'mistaken', 'noon', 'oven', 'politics', 'pretend', 'private', 'prize', 'prove', 'rock', 'sons', 'strawberries', 'twins', 'alarm', 'apologized', 'brave', 'butter', 'cancel', 'candy', 'file', 'gloves', 'happiness', 'human', 'london', 'matters', 'musician', 'pleasure', 'poker', 'press', 'recommend', 'sort', 'stubborn', 'swear', 'upstairs', 'abandoned', 'accustomed', 'actor', 'deaf', 'drawer', 'ears', 'fence', 'government', 'hearing', 'miles', 'naive', 'notebook', 'possibility', 'reached', 'smiling', 'themselves', 'traveled', 'unlocked', 'yellow', 'among', 'beat', 'bench', 'canada', 'cookie', 'denied', 'doll', 'earthquake', 'fallen', 'group', 'polite', 'rid', 'sand', 'selling', 'shocked', 'staring', 'succeed', 'wood', 'youngest', '6:30', 'americans', 'asks', 'assistant', 'badly', 'baked', 'bluffing', 'calls', 'furniture', 'harm', 'holiday', 'hoped', 'improve', 'iron', 'king', 'package', 'pants', 'pushed', 'shape', 'teaches', 'towel', 'useless', 'usual', 'value', 'accused', 'annoyed', 'attractive', 'bear', 'behavior', 'bright', 'challenge', 'complete', 'computers', 'considered', 'crowded', 'discouraged', 'fed', 'fluent', 'german', 'italy', 'jazz', 'judge', 'jump', 'lies', 'meaning', 'nurse', 'pressure', 'progress', 'reply', 'ridiculous', 'screaming', 'sunscreen', 'unable', 'ways', 'wished', '10', 'airplane', 'allergic', 'anyway', 'captain', 'coach', 'copy', 'drives', 'egg', 'election', 'grass', 'growing', 'lift', 'naked', 'optimistic', 'oranges', 'ourselves', 'porch', 'potatoes', 'remembered', 'ringing', 'ski', 'strict', 'successful', 'text', 'walks', 'weekends', 'arms', 'bald', 'build', 'burn', 'cheated', 'cities', 'classical', 'coins', 'difficulty', 'disappeared', 'doctors', 'familiar', 'germany', 'ghosts', 'impress', 'kinds', 'larger', 'lately', 'low', 'ours', 'picnic', 'robbed', 'schedule', 'sight', 'silent', 'skirt', 'tomato', 'uses', 'vase', 'visiting', 'admire', 'aliens', 'cave', 'complaints', 'courage', 'daughters', 'deny', 'elected', 'energy', 'ex', 'flying', 'friendship', 'handsome', 'hobby', 'land', 'main', 'mathematics', 'motorcycle', 'noisy', 'okay', 'passengers', 'percent', 'persuade', 'plants', 'popcorn', 'repeat', 'runs', 'shorter', 'space', 'spain', 'studies', 'suspicious', 'tells', 'threatened', 'account', 'alike', 'bags', 'barking', 'betrayed', 'bleeding', 'bothering', 'checked', 'describe', 'diet', 'disappoint', 'enjoys', 'fluently', 'forest', 'headed', 'highly', 'i.', 'impatient', 'ink', 'june', 'lessons', 'mail', 'mention', 'oil', 'personal', 'position', 'push', 'reads', 'religion', 'roses', 'theater', 'throat', 'twelve', 'unfortunately', 'village', 'wise', 'ambulance', 'apparently', 'army', 'begins', 'begun', 'bitten', 'bomb', 'bottles', 'emergency', 'factory', 'facts', 'generous', 'habit', 'hammer', 'hanging', 'harvard', 'homesick', 'internet', 'issue', 'largest', 'lawn', 'misses', 'oldest', 'pale', 'pillow', 'reasonable', 'sport', 'star', 'stealing', 'subway', 'sunglasses', 'wide', 'above', 'accent', 'acting', 'advance', 'anxious', 'basement', 'birth', 'blew', 'board', 'breathe', 'carrots', 'clever', 'confidence', 'cooked', 'cops', 'cups', 'disagree', 'elephants', 'engine', 'enjoying', 'envelope', 'finger', 'form', 'graduated', 'greatest', 'ground', 'interrupt', 'lady', 'leader', 'mask', 'planned', 'remain', 'rented', 'rose', 'ruined', 'rule', 'salad', 'sells', 'shoulder', 'smaller', 'snakes', 'solved', 'stick', 'swims', 'temperature', 'toy', 'wasted', 'within', 'wounded', '300', 'according', 'agrees', 'bell', 'capable', 'ceiling', 'century', 'classmates', 'conversation', 'counting', 'discussed', 'documents', 'dozen', 'dreaming', 'education', 'entire', 'fascinating', 'fifteen', 'finds', 'fridge', 'guests', 'illegal', 'instructions', 'lightning', 'member', 'nowhere', 'officer', 'opening', 'parking', 'pilot', 'reach', 'repair', 'retire', 'stomach', \"tom'll\", 'toys', 'wherever', '100', '3', 'active', 'audience', 'behave', 'blackboard', 'buried', 'cheating', 'childhood', 'climate', 'committed', 'confident', 'deeply', 'depends', 'detail', 'diamond', 'disease', 'doubts', 'downstairs', 'drew', 'drowned', 'forgetting', 'forty', 'garbage', 'grown', 'hunting', 'lasted', 'mall', 'market', 'mt', 'neck', 'owes', 'per', 'professor', 'promises', 'reliable', 'reluctant', 'resembles', 'resources', 'riding', 'scream', 'sharp', 'starts', 'steal', 'stories', 'suffer', 'unfair', 'unlucky', 'unusual', 'violin', 'wild', 'woods', 'workers', '5', 'action', 'barber', 'bite', 'bottom', 'candles', 'changing', 'coal', 'conservative', 'cover', 'disaster', 'discussion', 'distance', 'ear', 'earns', 'exit', 'forgiven', 'furious', 'goals', 'hugged', 'insects', 'jeans', 'jobs', 'loss', 'medical', 'motivated', 'novels', 'owner', 'photos', 'physics', 'planted', 'players', 'receive', 'refuse', 'replace', 'scary', 'self', 'shirts', 'sleeps', 'smells', 'stamps', 'stone', 'suitcases', 'thanked', 'trunk', 'uncomfortable', 'urgent', 'weapon', 'wishes', 'adult', 'advantage', 'arriving', 'awful', 'basket', 'battery', 'blanket', 'calendar', 'chances', 'cigarette', 'dessert', 'dreamed', 'eager', 'enemies', 'evil', 'exciting', 'fake', 'funeral', 'gentleman', 'informed', 'knee', 'knocked', 'lead', 'loudly', 'meals', 'members', 'misunderstood', 'murdered', 'nails', 'national', 'offend', 'pieces', 'places', 'pork', 'pregnant', 'privacy', 'purse', 'request', 'response', 'round', 'saxophone', 'secrets', 'sings', 'south', 'stops', 'treated', 'waiter', 'abilities', 'advise', 'africa', 'apply', 'approved', 'attended', 'bananas', 'becoming', 'biology', 'bucket', 'burning', 'careless', 'carried', 'cellphone', 'closer', 'concentrate', 'damage', 'dated', 'debt', 'engineer', 'express', 'fan', 'fifty', 'hi', 'insurance', 'introduced', 'listens', 'monkey', 'opinions', 'owns', 'pajamas', 'phoned', 'prepare', 'remained', 'saving', 'shared', 'spiders', 'spite', 'succeeded', 'swam', 'tight', 'tower', 'trick', 'volleyball', 'volunteers', 'windy', 'wondering', 'zero', 'although', 'amount', 'appeared', 'april', 'butterflies', 'candle', 'carpenter', 'celebrate', 'center', 'clarinet', 'closet', 'clouds', 'concern', 'danced', 'decent', 'discreet', 'divided', 'doorbell', 'drug', 'falling', 'fantastic', 'farmer', 'fiction', 'film', 'fuji', 'grades', 'identical', 'insisted', 'invented', 'kilometers', 'lay', 'lovely', 'messages', 'offended', 'pens', 'persuaded', 'prisoner', 'published', 'pull', 'punctual', 'raw', 'responsibility', 'restaurants', 'rights', 'safety', 'sarcastic', 'scientist', 'season', 'temper', 'thin', 'twin', 'unconscious', 'violent', 'wheel', 'accompanied', 'acted', 'autumn', 'average', 'bills', 'boxes', 'collection', 'comment', 'crash', 'degrees', 'deleted', 'delirious', 'deserted', 'due', 'eleven', 'engaged', 'force', 'further', 'gifts', 'grab', 'grabbed', 'grandparents', 'gunshot', 'hill', 'honestly', 'impression', 'insane', 'knowledge', 'laughs', 'leather', 'mexico', 'mountains', 'mud', 'packing', 'papers', 'plastic', 'poet', 'rabbit', 'regrets', 'related', 'rome', 'rough', 'salary', 'santa', 'scolded', 'sometime', 'spread', 'stays', 'stepped', 'strangers', 'sunny', 'touched', 'understanding', 'unemployed', 'violence', 'worrying', '%', 'ages', 'ambitious', 'backyard', 'beside', 'betray', 'carrying', 'code', 'coincidence', 'conference', 'crossing', 'crush', 'dare', 'defend', 'determined', 'dumb', 'earn', 'elephant', 'exception', 'experienced', 'fairly', 'fingers', 'fortune', 'frustrated', 'humor', 'india', 'lit', 'loan', 'lower', 'marriage', 'memorize', 'menu', 'modern', 'mouse', 'nail', 'necklace', 'nowadays', 'onions', 'orders', 'pepper', 'poison', 'properly', 'rare', 'richer', 'risks', 'row', 'scene', 'seats', 'shoe', 'simply', 'snowed', 'speed', 'split', 'stranger', 'suffering', 'tattoo', 'tied', 'tomatoes', 'tongue', 'track', 'twentieth', 'wealthy', 'wolf', 'album', 'anger', 'aquarium', 'arrives', 'atomic', 'banana', 'carpet', 'cd', 'chemistry', 'coward', 'curtains', 'delivered', 'electric', 'electricity', 'extraordinary', 'files', 'freedom', 'horror', 'improved', 'jam', 'killing', 'ladder', 'louder', 'meters', 'model', 'nearby', 'oh', 'online', 'pages', 'permitted', 'positive', 'powerful', 'presents', 'quality', 'queen', 'record', 'relevant', 'replaced', 'requested', 'respond', 'rumor', 'salesman', 'scissors', 'shown', 'skin', 'spending', 'suspected', 'tempted', 'terrified', 'tools', 'tore', 'unreliable', 'valuable', 'wins', 'yell', 'ability', 'access', 'acquainted', 'angel', 'ankle', 'appears', 'biggest', 'celebrated', 'chairs', 'click', 'client', 'cloudy', 'collecting', 'comic', 'compare', 'complex', 'confessed', 'cure', 'customers', 'desperate', 'divorce', 'electrician', 'envy', 'explosion', 'facebook', 'finding', 'fortunate', 'gained', 'grade', 'happier', 'haunted', 'imagination', 'incredible', 'irritated', 'italian', 'kissing', 'knock', 'laid', 'lemon', 'makeup', 'organized', 'original', 'planets', 'population', 'postponed', 'proof', 'putting', 'relationship', 'released', 'religious', 'screamed', 'service', 'sheep', 'shook', 'slipped', 'snore', 'sour', 'struck', 'thrown', 'tiger', 'total', 'toward', 'trap', 'walls', 'weigh', 'added', 'agreement', 'author', 'barefoot', 'beauty', 'bee', 'cakes', 'character', 'claimed', 'closely', 'compared', 'condition', 'considering', 'cooks', 'culture', 'dancer', 'dawn', 'drawing', 'drivers', 'dust', 'england', 'entrance', 'exchange', 'expert', 'flew', 'generally', 'grammar', 'gym', 'illness', 'keeping', 'knowing', 'lion', 'lobby', 'manage', 'mars', 'note', 'odd', 'p.m.', 'pairs', 'particular', 'pet', 'pond', 'postpone', 'program', 'pronounce', 'property', 'relaxed', 'removed', 'rescue', 'rush', 'scientists', 'secretary', 'sensitive', 'sixty', 'soldier', 'spicy', 'steak', 'stove', 'streets', 'suffered', 'suggestion', 'switch', 'tasted', 'teenager', 'trains', 'trash', 'treat', 'ups', 'vanilla', 'warning', 'yelled', 'accidents', 'adults', 'aid', 'anytime', 'assumed', 'assure', 'bathtub', 'bicycles', 'bookstore', 'british', 'butterfly', 'camping', 'captured', 'causes', 'colors', 'consult', 'correctly', 'cow', 'cows', 'customer', 'damaged', 'deserved', 'driven', 'dye', 'economy', 'effort', 'eighteen', 'embarrassing', 'folded', 'foolish', 'fork', 'fought', 'ghost', 'greedy', 'greek', 'handwriting', 'helmet', 'hidden', 'hurried', 'inspired', 'intended', 'led', 'loser', 'metal', 'newspapers', 'north', 'opera', 'panic', 'pardon', 'parts', 'path', 'pencils', 'planet', 'printer', 'rabbits', 'rate', 'recommended', 'relieved', 'resigned', 'revenge', 'safely', 'security', 'sheets', 'shouted', 'skip', 'sore', 'sounded', 'spell', 'stared', 'steps', 'sweat', 'switched', 'tent', 'terribly', 'timid', 'toast', 'translator', 'turkey', 'waitress', 'yard', 'alcohol', 'apology', 'appropriate', 'argument', 'arrival', 'authority', 'barn', 'battle', 'beans', 'breaking', 'briefcase', 'brilliant', 'buildings', 'candor', 'citizen', 'claus', 'climbing', 'coin', 'competition', 'competitive', 'conditions', 'contest', 'cough', 'crisis', 'currently', 'debate', 'depend', 'detective', 'direct', 'dislike', 'distracted', 'earrings', 'exact', 'extra', 'failure', 'fainted', 'flag', 'flood', 'fond', 'fools', 'frequently', 'greeted', 'grows', 'guide', 'haircut', 'hall', 'halloween', 'healthier', 'honesty', 'hunger', 'impolite', 'incorrect', 'intentions', 'irresponsible', 'joined', 'journalist', 'magic', 'master', 'mature', 'mentioned', 'method', 'minded', 'mission', 'mr', 'nation', 'nickname', 'perseverance', 'physical', 'pink', 'pleasant', 'points', 'pretending', 'remind', 'requires', 'reservation', 'reserve', 'resist', 'scar', 'searched', 'semester', 'sensible', 'sentences', 'shave', 'skeptical', 'skipped', 'smokes', 'sophisticated', 'source', 'spare', 'stage', 'sunset', 'surgery', 'target', 'task', 'taxes', 'thick', 'tip', 'tooth', 'tour', 'trustworthy', 'turns', 'umbrellas', 'universe', 'unnecessary', 'visa', 'weapons', 'wolves', 'abandon', 'absurd', 'achieved', 'appearance', 'attic', 'bears', 'bible', 'bush', 'candidate', 'celebrating', 'centimeters', 'cherry', 'cleared', 'commit', 'committee', 'communicate', 'conditioner', 'construction', 'cruel', 'curtain', 'daily', 'darker', 'dedicated', 'degree', 'described', 'dies', 'diplomatic', 'double', 'drums', 'dug', 'ends', 'essential', 'examination', 'excuses', 'faith', 'fashioned', 'fate', 'flat', 'flute', 'frankly', 'fries', 'garlic', 'general', 'graduate', 'granted', 'guard', 'hers', 'however', 'incident', 'intention', 'interview', 'jar', 'junk', 'lacks', 'ladies', 'magazines', 'major', 'minister', 'narrow', 'pessimistic', 'poisoned', 'poured', 'preparing', 'prevented', 'products', 'promotion', 'rainy', 'remarkable', 'remembers', 'reminds', 'risky', 'rooms', 'scarf', 'search', 'served', 'shoulders', 'sixteen', 'slice', 'solar', 'spoon', 'stabbed', 'stamp', 'statue', 'strike', 'sung', 'surprises', 'swore', 'tag', 'talkative', 'tank', 'tense', 'thousands', 'thrilled', 'towels', 'tripped', 'troubled', 'vanished', 'whale', 'wooden', 'accompany', 'agitated', 'alert', 'ancient', 'anniversary', 'armed', 'arrest', 'asia', 'aside', 'backpack', 'beg', 'behaving', 'blog', 'blouse', 'brazilian', 'burst', 'cared', 'cds', 'charger', 'complains', 'congratulate', 'constantly', 'copies', 'cremated', 'data', 'decisions', 'discount', 'disorganized', 'dollar', 'dyed', 'efficient', 'efforts', 'eighty', 'encouraged', 'entering', 'errors', 'exams', 'expelled', 'expenses', 'fbi', 'fixing', 'flies', 'forehead', 'gain', 'height', 'holidays', 'humans', 'hundreds', 'irrelevant', 'lawyers', 'level', 'loaded', 'lottery', 'mayor', 'mystery', 'non', 'objective', 'packed', 'parties', 'plant', 'pointed', 'policy', 'prisoners', 'prohibited', 'promoted', 'quietly', 'receipt', 'recover', 'rejected', 'remove', 'resign', 'rotten', 'shaking', 'shame', 'sides', 'silver', 'skinny', 'slower', 'social', 'soul', 'spoiled', 'strength', 'suffers', 'suspended', 'tail', 'thunder', 'translation', 'trusts', 'turning', 'ufo', 'underestimate', 'uniform', 'unmarried', 'vain', 'visits', 'whoever', 'wiped', 'worries', '2003', 'a.m.', 'admired', 'amused', 'appear', 'astronomy', 'awesome', 'awkward', 'balls', 'begged', 'beginner', 'below', 'belt', 'blocks', 'border', 'bossy', 'bound', 'breathing', 'bribe', 'bullet', 'bunch', 'buses', 'businessman', 'cage', 'charges', 'cheek', 'circumstances', 'claims', 'confuse', 'confusing', 'crashed', 'criminal', 'deliver', 'department', 'devoted', 'direction', 'disagreed', 'dishonest', 'ease', 'employees', 'entirely', 'equal', 'error', 'faces', 'fastest', 'fooled', 'foreigners', 'forgetful', 'fox', 'frozen', 'fuel', 'gifted', 'gray', 'ham', 'handkerchief', 'heaven', 'higher', 'hilarious', 'honor', 'identity', 'immigrants', 'innocence', 'insist', 'january', 'knives', 'knocking', 'latin', 'lighter', 'longest', 'luggage', 'maid', 'manual', 'medication', 'mexican', 'monkeys', 'mosquitoes', 'mushroom', 'nature', 'notes', 'occurred', 'permit', 'political', 'potential', 'pounds', 'prayed', 'praying', 'prefers', 'prevent', 'profile', 'protection', 'punish', 'rely', 'reputation', 'resting', 'richest', 'roommate', 'sauce', 'scratched', 'screwdriver', 'searching', 'shake', 'sharpened', 'shouting', 'sir', 'skating', 'slight', 'soap', 'soft', 'spinach', 'square', 'stands', 'starving', 'statement', 'strategy', 'stray', 'suits', 'swimmer', 'teenagers', 'title', 'toothbrush', 'trapped', 'treaty', 'truly', 'upside', 'visitors', 'volunteer', 'warmer', 'whispered', 'worn', '40', 'addicted', 'aggressive', 'avoiding', 'baggage', 'bat', 'blinds', 'boots', 'bride', 'brownies', 'brushed', 'charged', 'chat', 'cheered', 'chickens', 'colder', 'collapsed', 'colleagues', 'complaint', 'costume', 'current', 'declined', 'defeat', 'defeated', 'delayed', 'digging', 'dish', 'disturbed', 'evidence', 'exaggerating', 'expression', 'fits', 'flirting', 'focus', 'forecast', 'foreigner', 'frank', 'gorgeous', 'grandchildren', 'grounded', 'gullible', 'heading', 'heartbroken', 'heavier', 'honey', 'impressive', 'increased', 'incredibly', 'intelligence', 'kindness', 'laptop', 'lemonade', 'lincoln', 'lions', 'literature', 'local', 'minds', 'minor', 'mosquito', 'nonsense', 'numbers', 'opposed', 'overslept', 'owned', 'participate', 'peel', 'pianist', 'picky', 'politician', 'possibilities', 'pressed', 'prettier', 'product', 'professional', 'puzzled', 'reduce', 'research', 'reserved', 'respected', 'rumors', 'seafood', 'sending', 'shortly', 'shovel', 'showing', 'sink', 'sliced', 'snake', 'spaghetti', 'spy', 'stress', 'sudden', 'suggestions', 'tap', 'teased', 'terrific', 'tests', 'thoughts', 'tourist', 'training', 'tune', 'unknown', 'volunteered', 'wednesday', 'whiskey', 'wings', 'wow', '18', 'abducted', 'aboard', 'addict', 'adorable', 'alternative', 'answering', 'application', 'argued', 'attempted', 'balance', 'beyond', 'bitter', 'blocked', 'blowing', 'bowl', 'brain', 'burden', 'career', 'catholic', 'celebration', 'cello', 'ceremony', 'cheer', 'circle', 'clothing', 'clumsy', 'coma', 'comb', 'community', 'conduct', 'confess', 'cooperating', 'dependent', 'discovery', 'discussing', 'disgusting', 'disturbing', 'dolphins', 'dove', 'downs', 'dried', 'effect', 'embassy', 'especially', 'eve', 'fabulous', 'fashion', 'february', 'flashlight', 'flour', 'flu', 'gardener', 'gon', 'hardest', 'hunt', 'identify', 'illiterate', 'interfering', 'interrupted', 'ironed', 'jumping', 'knees', 'lamp', 'laws', 'limit', 'limits', 'loose', 'loses', 'luckily', 'masks', 'melted', 'millionaire', 'modest', 'na', 'nerves', 'nicer', 'nodded', 'normally', 'object', 'originally', 'outdoors', 'oxygen', 'pack', 'painful', 'paintings', 'parks', 'pattern', 'pays', 'photographer', 'pitch', 'plus', 'poetry', 'pollution', 'possessive', 'postcard', 'pot', 'practicing', 'princess', 'propose', 'realistic', 'recovered', 'require', 'ridden', 'roads', 'rushed', 'russian', 'seconds', 'sees', 'shallow', 'shooting', 'siblings', 'sincere', 'skills', 'sleeve', 'software', 'somewhat', 'speechless', 'spot', 'straw', 'sushi', 'sweep', 'sweets', 'switzerland', 'tax', 'teasing', 'terms', 'tire', 'tourists', 'unwilling', 'volume', 'weighs', 'worker', 'yeah', '13', '15', '50', '8', 'absence', 'accidentally', 'accomplished', 'actress', 'addition', 'ai', 'aim', 'appeal', 'aspirin', 'babysitter', 'bake', 'bakery', 'barks', 'based', 'batteries', 'blow', 'boarded', 'branch', 'brand', 'breaks', 'brief', 'bringing', 'burglar', 'cap', 'carbon', 'charismatic', 'chatting', 'citizens', 'closest', 'clue', 'command', 'congratulated', 'congratulations', 'convenient', 'corrected', 'cotton', 'counts', 'courageous', 'critical', 'dealing', 'decorated', 'demand', 'deodorant', 'designed', 'despite', 'differences', 'diseases', 'divide', 'donated', 'drummer', 'east', 'economic', 'engagement', 'escaping', 'event', 'explaining', 'farmers', 'fasten', 'faucet', 'fewer', 'final', 'flights', 'focused', 'foods', 'founded', 'grandma', 'grave', 'grumpy', 'habits', 'hawaii', 'heavily', 'hoax', 'hotels', 'humble', 'humiliated', 'hurting', 'imagined', 'impartial', 'imported', 'improving', 'impulsive', 'including', 'industrial', 'intrigued', 'investigating', 'investigation', 'itself', 'jerk', 'juggling', 'landing', 'lines', 'link', 'loving', 'mailbox', 'medal', 'methodical', 'misunderstanding', 'mow', 'mozart', 'mushrooms', 'nerve', 'nights', 'notebooks', 'occur', 'option', 'organ', 'overseas', 'overtime', 'painter', 'patients', 'peaceful', 'peanuts', 'peeled', 'performance', 'personally', 'picking', 'pigeons', 'pills', 'plate', 'poisonous', 'poverty', 'practical', 'precious', 'pride', 'priest', 'quarter', 'questioned', 'rat', 'reception', 'reluctantly', 'remembering', 'repaired', 'rescued', 'rolled', 'rolling', 'safer', 'scored', 'seatbelt', 'sentenced', 'serve', 'seventeen', 'sew', 'shaved', 'signs', 'sits', 'sleeves', 'slightly', 'smartphone', 'smelled', 'sober', 'society', 'speakers', 'spontaneous', 'state', 'stomachache', 'struggled', 'stuffed', 'stunned', 'sue', 'surfing', 'surgeon', 'swallow', 'technology', 'term', 'thinner', 'tires', 'tolerate', 'translating', 'transplant', 'travels', 'treasure', 'valentine', 'votes', 'washes', '25', 'achieve', 'adopt', 'adventurous', 'affect', 'african', 'afterwards', 'amazed', 'approximately', 'architect', 'assistance', 'athlete', 'bacon', 'balcony', 'balloon', 'bartender', 'behaved', 'blackmailed', 'bone', 'bowling', 'brings', 'bug', 'bury', 'cafeteria', 'calmed', 'challenges', 'champagne', 'cheat', 'chewing', 'claustrophobic', 'closing', 'collect', 'communication', 'compass', 'compromise', 'content', 'counter', 'countless', 'countryside', 'created', 'criticized', 'dates', 'dealt', 'defense', 'desert', 'desire', 'device', 'diagnosed', 'distinguish', 'dolls', 'dresses', 'drugged', 'eagle', 'earned', 'earthquakes', 'ending', 'equipment', 'essay', 'events', 'exchanged', 'exercising', 'expectations', 'extroverted', 'fascinated', 'festival', 'financial', 'firm', 'fog', 'fold', 'footsteps', 'forgets', 'freezes', 'fully', 'gasoline', 'gathered', 'grandpa', 'grandson', 'greece', 'guest', 'gum', 'heater', 'heels', 'helicopter', 'heroes', 'hiking', 'hometown', 'hook', 'ideal', 'industry', 'insult', 'interfere', 'international', 'issues', 'joy', 'justice', 'keyboard', 'kyoto', 'landed', 'leaned', 'lecture', 'lets', 'lips', 'located', 'lyrics', 'majority', 'manners', 'messed', 'meter', 'microphone', 'millions', 'mistook', 'mysterious', 'negotiate', 'obedient', 'obliged', 'opposite', 'outdone', 'overreacting', 'pathetic', 'perfume', 'personality', 'photogenic', 'photograph', 'plain', 'plates', 'plot', 'plumber', 'possibly', 'presence', 'pressured', 'prince', 'provoked', 'prudent', 'pulling', 'punishment', 'puppy', 'purchase', 'pure', 'puzzle', 'react', 'registered', 'relief', 'remains', 'reminded', 'responsibilities', 'restroom', 'retiring', 'roast', 'roll', 'rug', 'salmon', 'scratch', 'seeds', 'settle', 'sewing', 'shade', 'sheet', 'shots', 'shout', 'signature', 'site', 'skate', 'skirts', 'slammed', 'slippery', 'snack', 'spilled', 'stadium', 'stake', 'stoned', 'strawberry', 'suitable', 'swollen', 'sympathetic', 'tape', 'telescope', 'tend', 'textbook', 'ticklish', 'tolerant', 'toothache', 'touching', 'towards', 'transferred', 'treatment', 'trumpet', 'turtle', 'types', 'typhoon', 'unbelievable', 'victim', 'victims', 'vitamin', 'wanna', 'watches', 'waved', 'winner', 'woken', 'wrapped', 'youth', '1,000', '16', '3,000', '500', '6', '9', 'alcoholic', 'alibi', 'announced', 'applied', 'approval', 'arrogant', 'assist', 'astronaut', 'attitude', 'attract', 'august', 'automobile', 'avoided', 'awfully', 'babies', 'benefit', 'besides', 'bloom', 'brushing', 'bulk', 'cameras', 'catches', 'cautious', 'cellar', 'chest', 'chickened', 'choices', 'cigarettes', 'cloud', 'cockroaches', 'comfort', 'comments', 'compete', 'competent', 'composer', 'conclusions', 'connection', 'cop', 'coughed', 'coughing', 'court', 'cowards', 'crack', 'crawling', 'creepy', 'crimes', 'd', 'dances', 'deer', 'delay', 'demanded', 'democracy', 'descended', 'detailed', 'diamonds', 'difficulties', 'dinosaurs', 'diplomat', 'donut', 'dozed', 'drawn', 'drowning', 'dyslexic', 'eater', 'edible', 'exceptions', 'experiment', 'exploded', 'eyesight', 'falls', 'false', 'families', 'fearless', 'feedback', 'field', 'filthy', 'flames', 'flows', 'follows', 'forbidden', 'forgave', 'fortunately', 'freezing', 'gentlemen', 'gladly', 'greatly', 'guarantee', 'guitarist', 'hearts', 'hesitated', 'hint', 'hobbies', 'hood', 'imaginary', 'importance', 'influential', 'inspiration', 'instrument', 'intense', 'interrupting', 'inviting', 'irreplaceable', 'jewelry', 'jewels', 'kidnapped', 'kindergarten', 'kite', 'knitting', 'korean', 'lack', 'lap', 'lasts', 'latest', 'laziest', 'leak', 'length', 'letting', 'march', 'material', 'materialistic', 'memorized', 'miserable', 'murderer', 'mustache', 'mutual', 'naughty', 'nauseous', 'nightmares', 'obeyed', 'observation', 'offensive', 'operation', 'overweight', 'pancakes', 'panicked', 'pineapple', 'pockets', 'policemen', 'politely', 'portugal', 'practically', 'principal', 'priorities', 'programmer', 'pronounced', 'proves', 'psychiatrist', 'psychologist', 'pulse', 'punched', 'racket', 'reconsider', 'relatives', 'release', 'reports', 'returns', 'rode', 'root', 'server', 'shelter', 'shift', 'shock', 'sidewalk', 'snowman', 'somehow', 'species', 'sprained', 'steel', 'stiff', 'stock', 'strictly', 'string', 'stung', 'sunrise', 'surrender', 'surrendered', 'surrounded', 'survey', 'swiss', 'sword', 'tale', 'thieves', 'thursday', 'tiny', 'toe', 'tool', 'traitor', 'treats', 'tricks', 'turtles', 'unacceptable', 'unconvinced', 'understandable', 'uniforms', 'unlock', 'unpleasant', 'unpredictable', 'upon', 'vegan', 'vet', 'wealth', 'weddings', 'welcomed', 'widow', 'wink', 'winked', 'wounds', 'yacht', 'yawning', '’s', '12', '2,000', '24', '4', 'abated', 'accountant', 'accurate', 'ace', 'actions', 'adjust', 'advanced', 'agent', 'appointments', 'armchair', 'artificial', 'artists', 'astrology', 'attempt', 'attorney', 'avocados', 'bark', 'becomes', 'bees', 'belonged', 'belts', 'biting', 'bizarre', 'blamed', 'boiling', 'bonus', 'bothered', 'bracelet', 'broad', 'broom', 'bumped', 'buys', 'c', 'cane', 'celebrity', 'chain', 'chased', 'childish', 'cliff', 'coast', 'completed', 'consideration', 'contain', 'contains', 'contribute', 'contributed', 'convicted', 'cooperate', 'cooperative', 'cries', 'criticism', 'curiosity', 'customs', 'cutting', 'damp', 'deals', 'debts', 'dedicate', 'delete', 'delighted', 'delivery', 'description', 'designer', 'disappear', 'discover', 'distract', 'disturb', 'documentary', 'doorknob', 'educated', 'effects', 'emotional', 'examples', 'exercises', 'fare', 'fingerprints', 'floors', 'folding', 'former', 'forms', 'fried', 'gardening', 'geography', 'global', 'grouchy', 'guards', 'guessed', 'guns', 'hamburger', 'hangover', 'happiest', 'hesitate', 'highest', 'highway', 'hitting', 'humanity', 'hypocrite', 'ignorance', 'inappropriate', 'incompetent', 'inform', 'inherited', 'instruments', 'intends', 'interests', 'intersection', 'invention', 'iphone', 'july', 'kick', 'killer', 'laughter', 'lean', 'legal', 'lettuce', 'lid', 'limited', 'load', 'log', 'logical', 'mansion', 'methods', 'mix', 'moss', 'motion', 'mp3', 'mugged', 'nations', 'naturally', 'necessarily', 'nephew', 'numb', 'olympics', 'onto', 'opens', 'ordinary', 'orphan', 'pace', 'pacific', 'pasta', 'persistent', 'pets', 'pies', 'placed', 'pleaded', 'potato', 'predict', 'prettiest', 'prime', 'process', 'pronunciation', 'proposed', 'protecting', 'provided', 'psychic', 'purple', 'rash', 'rational', 'reality', 'recipe', 'relaxing', 'remote', 'repeated', 'respects', 'rhetorical', 'ripe', 'rise', 'rising', 'rocks', 'role', 'russia', 'rusty', 'sacred', 'sailing', 'saturdays', 'scarcely', 'seek', 'settled', 'shaves', 'shaving', 'shivering', 'singers', 'skill', 'slave', 'smartest', 'snacks', 'snows', 'solid', 'solving', 'specialty', 'spoil', 'stain', 'starved', 'stepfather', 'sting', 'stressful', 'style', 'subjects', 'sum', 'supplies', 'tends', 'threat', 'throwing', 'tigers', 'tipsy', 'topic', 'tries', 'tuesday', 'typical', 'u.s', 'ugliest', 'unexpected', 'unreasonable', 'usa', 'vacuum', 'various', 'vegetarians', 'victory', 'vodka', 'voices', 'watering', 'web', 'whistle', 'wisely', 'witness', 'wound', 'wrap', '200', '7', 'acceptable', 'accomplish', 'acknowledged', 'affects', 'allies', 'aloud', 'alphabet', 'amusement', 'anticipate', 'ants', 'apologizing', 'appetite', 'applauded', 'approach', 'asian', 'astonished', 'athletic', 'austria', 'banks', 'barked', 'basic', 'beaten', 'bedtime', 'bent', 'blankets', 'blinded', 'blink', 'blonde', 'blondes', 'bodies', 'boil', 'boiled', 'bones', 'bridges', 'broccoli', 'browser', 'bulb', 'burns', 'butcher', 'c.', 'camp', 'catching', 'chairman', 'chimney', 'chopsticks', 'christian', 'chubby', 'circus', 'claim', 'classmate', 'cleaner', 'clearing', 'clicked', 'closes', 'cloth', 'clothesline', 'colds', 'collapse', 'collected', 'competitors', 'concerns', 'conclusion', 'confirm', 'conscience', 'conscious', 'consequences', 'continent', 'contributing', 'controversial', 'corn', 'creeps', 'cured', 'custom', 'd.', 'deadline', 'deceived', 'delicate', 'democratic', 'depressing', 'devastated', 'develop', 'diabetic', 'dialed', 'dictionaries', 'dieting', 'differently', 'diligent', 'disk', 'dislikes', 'dissatisfied', 'distant', 'donuts', 'doubted', 'drastically', 'einstein', 'englishman', 'enters', 'evicted', 'examine', 'existence', 'expects', 'fanatic', 'faults', 'fee', 'female', 'ferris', 'fierce', 'float', 'frequent', 'froze', 'frying', 'gather', 'gathers', 'gauge', 'giraffe', 'governor', 'groggy', 'grumbling', 'handcuffs', 'harvest', 'hats', 'heights', 'helmets', 'hilton', 'honeymoon', 'hounding', 'humid', 'ignoring', 'immature', 'imports', 'included', 'income', 'indecisive', 'indian', 'inexcusable', 'inexpensive', 'infection', 'instantly', 'insulted', 'interpreter', 'intolerant', 'invincible', 'ironic', 'jacksons', 'jesus', 'jogging', 'journey', 'judging', 'kilograms', 'kitten', 'knit', 'lactose', 'loaf', 'locker', 'lung', 'majored', 'mentor', 'mere', 'merely', 'mineral', 'miracle', 'mocking', 'mortal', 'motivation', 'museums', 'musical', 'musicians', 'nagging', 'napkin', 'negative', 'nightmare', 'northern', 'november', 'obnoxious', 'occupied', 'official', 'orbit', 'organization', 'orphanage', 'outstanding', 'overnight', 'paperwork', 'patiently', 'pear', 'period', 'permanent', 'pharmacy', 'physically', 'pig', 'pole', 'poorer', 'predictable', 'presented', 'production', 'prom', 'proper', 'quarreling', 'quicker', 'races', 'reaction', 'region', 'regular', 'relatively', 'replied', 'required', 'responded', 'revolution', 'rings', 'sample', 'separated', 'shark', 'shining', 'shrimp', 'situations', 'slavery', 'slices', 'slip', 'smooth', 'snored', 'snores', 'soaking', 'sorted', 'specific', 'speeches', 'spying', 'squirrel', 'squirrels', 'stable', 'starve', 'statues', 'stones', 'strangely', 'striped', 'stuffing', 'suggesting', 'super', 'surface', 'surprising', 'survivor', 'sweating', 'ta', 'technical', 'terrorists', 'tested', 'textbooks', 'thermometer', 'threatening', 'tormenting', 'trade', 'tricked', 'trigger', 'troubles', 'tuxedo', 'typewriter', 'vaccinated', 'verge', 'wanting', 'warming', 'washington', 'watermelon', 'waving', 'weeds', 'whales', 'wheelchair', 'whichever', 'wives', 'worthless', 'wrist', 'zealand', '1', '1950', 'absolute', 'absorbed', 'absorbs', 'accusation', 'accusing', 'achievement', 'adapt', 'advantages', 'affairs', 'aimed', 'allergies', 'alphabetical', 'ambidextrous', 'ammunition', 'analysis', 'annoy', 'app', 'approaching', 'articles', 'associate', 'atlantic', 'atmosphere', 'atoms', 'attracted', 'audition', 'avid', 'b', 'backup', 'baking', 'ballet', 'bankrupt', 'bargain', 'beers', 'believing', 'belongings', 'biased', 'bless', 'block', 'boats', 'brake', 'braver', 'bribed', 'briefly', 'brushes', 'bugs', 'burnt', 'busier', 'cabin', 'campus', 'cartoon', 'carved', 'cases', 'castles', 'cattle', 'channel', 'clapped', 'clerk', 'cocoa', 'collar', 'colorblind', 'combination', 'comedy', 'commitment', 'comparison', 'contradict', 'controlled', 'convincing', 'counted', 'craziest', 'create', 'crew', 'crushed', 'daddy', 'dairy', 'dangers', 'daydreaming', 'dear', 'december', 'demands', 'design', 'desires', 'destiny', 'destroy', 'directions', 'directly', 'director', 'disobeyed', 'diving', 'documentaries', 'downloaded', 'dragon', 'drops', 'dumped', 'easygoing', 'economics', 'edge', 'effective', 'eighth', 'electrical', 'embarrass', 'employed', 'employee', 'enjoyable', 'enthusiastic', 'environmental', 'exaggerate', 'exceptionally', 'existed', 'expedition', 'expressed', 'extreme', 'facing', 'faded', 'fairy', 'fatter', 'fireman', 'fist', 'flavor', 'flexibility', 'flown', 'footprints', 'formed', 'foster', 'frugal', 'frustrating', 'fur', 'generation', 'giants', 'google', 'gradually', 'guardian', 'gunshots', 'halfway', 'handled', 'handy', 'hatred', 'hesitant', 'hopefully', 'horizon', 'hurricane', 'hydrogen', 'hysterical', 'idiots', 'image', 'inches', 'include', 'indoors', 'inevitable', 'inflation', 'insecure', 'intentional', 'interviewed', 'islands', 'jack', 'jury', 'kidney', 'kilometer', 'korea', 'licked', 'liking', 'lobster', 'location', 'loyal', 'luxury', 'mainly', 'marrying', 'measure', 'meditating', 'meds', 'melt', 'memories', 'microscope', 'miracles', 'misunderstand', 'mobile', 'motel', 'motor', 'mower', 'navy', 'ninety', 'numerous', 'observed', 'obsessed', 'obstinate', 'officers', 'olive', 'olympic', 'operate', 'organize', 'otherwise', 'outraged', 'overwhelmed', 'oysters', 'pan', 'parade', 'parrot', 'partied', 'partly', 'passes', 'passing', 'pistol', 'poisoning', 'polish', 'politicians', 'portuguese', 'postcards', 'posters', 'prayer', 'precautions', 'presidential', 'print', 'procedure', 'produced', 'productive', 'psychology', 'purchased', 'puts', 'quarrel', 'quits', 'quote', 'rainbow', 'reader', 'recession', 'refuses', 'regard', 'registration', 'religions', 'repairing', 'represent', 'resemblance', 'rested', 'restless', 'rifle', 'rubbed', 'ruins', 'ruled', 'runner', 'satisfactory', 'scenery', 'scheduled', 'seated', 'secretly', 'serves', 'severe', 'sharks', 'sharpen', 'ships', 'significant', 'skips', 'smoked', 'sock', 'soda', 'spelling', 'spider', 'stalling', 'stare', 'stores', 'suburbs', 'survivors', 'sympathy', 'tattoos', 'tear', 'temple', 'territory', 'texted', 'theirs', 'thread', 'throughout', 'toes', 'trailer', 'troops', 'trousers', 'typing', 'undecided', 'underage', 'uneasy', 'unethical', 'unique', 'unit', 'unscrupulous', 'uploaded', 'urged', 'van', 'vegetable', 'version', 'veterinarian', 'videos', 'weaknesses', 'wheat', 'widely', 'wig', 'wipe', 'witty', '\\xa0', '0', '2', '23', '300,000', '8:00', ';', 'abundant', 'accelerated', 'acts', 'adapted', 'admirable', 'affected', 'alligator', 'amazon', 'ambassador', 'ambition', 'amounts', 'angeles', 'annoys', 'anticipated', 'antiques', 'apologies', 'appreciated', 'approached', 'arabic', 'arguments', 'arranged', 'ashtray', 'atm', 'attraction', 'australian', 'babysit', 'background', 'bait', 'banged', 'bars', 'basically', 'bass', 'bedrooms', 'beings', 'believable', 'benefits', 'berlin', 'bilingual', 'billion', 'bites', 'blackmailing', 'blank', 'blushed', 'boarding', 'bookcase', 'borders', 'bulletproof', 'camel', 'candid', 'canoe', 'caterpillar', 'causing', 'cemetery', 'cereal', 'challenged', 'champion', 'chapters', 'characters', 'chatted', 'cheapest', 'chef', 'chew', 'chips', 'chocolates', 'choked', 'chores', 'churches', 'citizenship', 'classic', 'coke', 'colony', 'columbus', 'communist', 'competitions', 'compliment', 'consciousness', 'consists', 'constant', 'cooperation', 'cope', 'costumes', 'cracked', 'crawl', 'crawled', 'crouched', 'crowbar', 'crown', 'cycling', 'deceased', 'declared', 'decorate', 'deepest', 'deported', 'desired', 'destination', 'developed', 'diabetes', 'dice', 'dioxide', 'disagrees', 'disappointing', 'disgusted', 'dishwasher', 'disrespectful', 'dive', 'dna', 'dolphin', 'donate', 'dragged', 'drastic', 'drawers', 'drowsy', 'drugstore', 'duck', 'ducks', 'easter', 'eavesdropping', 'egypt', 'eiffel', 'elbow', 'emptied', 'energetic', 'estate', 'estimated', 'european', 'executed', 'exhausting', 'exists', 'expired', 'factors', 'fax', 'feeding', 'feeds', 'ferry', 'fiancée', 'fields', 'fifth', 'filter', 'finishing', 'flattered', 'fleas', 'folks', 'forces', 'formal', 'foxes', 'fragile', 'freeze', 'fussy', 'gallery', 'gambling', 'gang', 'gathering', 'glue', 'goat', 'godfather', 'goodbyes', 'goods', 'gravity', 'grocery', 'growth', 'guitars', 'guts', 'hamburgers', 'hardworking', 'harmless', 'hay', 'heated', 'heating', 'hiccuping', 'hockey', 'hogwash', 'holes', 'hollywood', 'homes', 'horn', 'hospitals', 'household', 'housework', 'humiliating', 'immigration', 'immune', 'impose', 'inch', 'indispensable', 'inefficient', 'infer', 'inflexible', 'influence', 'influenced', 'injury', 'inseparable', 'install', 'instincts', 'intimidated', 'invaded', 'investment', 'ipad', 'jet', 'jog', 'juggle', 'kettle', 'knelt', 'lab', 'launched', 'leads', 'leaning', 'legally', 'lemons', 'lenses', 'licking', 'lifestyle', 'likable', 'lipstick', 'liters', 'litter', 'liver', 'los', 'lunar', 'magician', 'mahal', 'mahjong', 'mailman', 'male', 'mandatory', 'maniac', 'mashed', 'mass', 'massage', 'matches', 'matching', 'melting', 'mental', 'merry', 'messing', 'mice', 'microwave', 'mixed', 'molecule', 'moments', 'moral', 'motive', 'nationality', 'nobel', 'norway', 'novelist', 'nuisance', 'nutritious', 'objection', 'oboe', 'offense', 'omelet', 'opportunities', 'outgoing', 'overboard', 'owed', 'pandas', 'paralyzed', 'parted', 'partially', 'passage', 'passion', 'peanut', 'perfectionist', 'philosopher', 'phrase', 'pigs', 'planes', 'planting', 'platform', 'plausible', 'plug', 'pop', 'port', 'praised', 'predicted', 'prescription', 'pretends', 'previous', 'proactive', 'programming', 'projector', 'promising', 'protected', 'proved', 'proven', 'provide', 'pyramid', 'quarreled', 'raincoat', 'recent', 'recorded', 'recording', 'recycle', 'refer', 'reflects', 'register', 'regretted', 'relations', 'renew', 'renewed', 'replaceable', 'reporter', 'reprimanded', 'requests', 'researchers', 'revealed', 'rides', 'ripped', 'rivers', 'salty', 'savings', 'scale', 'scaring', 'scholarship', 'score', 'seasons', 'sec', 'sends', 'sexy', 'shadow', 'shameless', 'shine', 'shortage', 'shortest', 'shuffle', 'shuttle', 'sickness', 'sigh', 'signal', 'signing', 'silently', 'silk', 'simpler', 'sin', 'skies', 'slapped', 'slippers', 'smiles', 'sneaky', 'sociable', 'songwriter', 'sources', 'spelled', 'squeezed', 'stack', 'steals', 'stew', 'stinks', 'strangest', 'sued', 'sunburn', 'sunflower', 'superstitious', 'swept', 'symptoms', 'taj', 'talents', 'temporary', 'tender', 'tenth', 'thai', 'thailand', 'theft', 'therapist', 'thesis', 'thorns', 'ties', 'toaster', 'toothpaste', 'tournament', 'tractor', 'traditional', 'tragedy', 'tragic', 'trained', 'trial', 'trombone', 'troublemaker', 'tuned', 'tutor', 'unbearable', 'unbeatable', 'uncles', 'undone', 'unforgettable', 'unfortunate', 'unpacking', 'update', 'updated', 'valid', 'valve', 'voyage', 'vulnerable', 'wage', 'waist', 'wakes', 'watered', 'weighed', 'west', 'western', 'whatsoever', 'whining', 'widower', 'windshield', 'wire', 'wisdom', 'witnessed', 'witnesses', 'yawn', 'yoga', 'yogurt', '10,000', '10:00', '11', '19', '1945', '1980', '45', '60', '7:00', '80', '911', 'aback', 'abolished', 'abrupt', 'aced', 'actinium', 'actors', 'actual', 'acupuncture', 'adequate', 'adventure', 'agency', 'agriculture', 'airplanes', 'alps', 'amusing', 'ancestors', 'antagonize', 'antibiotics', 'appointed', 'archaeologist', 'areas', 'artistic', 'assured', 'asylum', 'athletes', 'automatically', 'avoids', 'badge', 'banned', 'banquet', 'barbecue', 'bare', 'bathing', 'bats', 'beating', 'beatles', 'beggar', 'beginners', 'beware', 'biography', 'blaming', 'blond', 'bow', 'breast', 'breathed', 'brightly', 'brim', 'bucks', 'bummed', 'burger', 'burped', 'buttoned', 'cabinet', 'cable', 'calculator', 'california', 'campsite', 'cancelled', 'candidates', 'carelessness', 'celsius', 'certificate', 'chairperson', 'chalk', 'challenging', 'champions', 'championship', 'chaotic', 'charity', 'checks', 'chilean', 'cholesterol', 'chopped', 'chopping', 'christianity', 'cia', 'civil', 'civilians', 'clipboard', 'clocks', 'coats', 'cockroach', 'collects', 'comedian', 'composure', 'confession', 'connected', 'considers', 'consumes', 'contacted', 'contagious', 'continues', 'convenience', 'convention', 'converted', 'cork', 'correction', 'corrupt', 'crane', 'crate', 'creatures', 'crow', 'crucial', 'curly', 'custody', 'dam', 'dealer', 'deceive', 'declare', 'decorating', 'defended', 'deliberately', 'demanding', 'deposit', 'determination', 'development', 'dictatorship', 'differ', 'dig', 'dining', 'disguised', 'disgust', 'disinherited', 'dislocated', 'disloyal', 'disorientated', 'displeased', 'disqualified', 'ditch', 'dj', 'doghouse', 'donor', 'dorm', 'download', 'dr', 'dusty', 'dwell', 'elderly', 'elections', 'electrocute', 'eloquent', 'elsewhere', 'emails', 'embraced', 'emigrated', 'encourage', 'engineering', 'engines', 'enormous', 'environment', 'equals', 'era', 'erected', 'everest', 'exaggerates', 'examined', 'excused', 'experts', 'expires', 'explains', 'extent', 'external', 'eyebrows', 'faced', 'faintest', 'faithful', 'fame', 'fiber', 'fingernails', 'finishes', 'firemen', 'firing', 'flame', 'flirt', 'floating', 'fluency', 'footing', 'ford', 'forged', 'forks', 'fourth', 'freckles', 'freshman', 'frighten', 'frightening', 'frogs', 'gaining', 'gambler', 'giant', 'giggled', 'glanced', 'glove', 'goodnight', 'goosebumps', 'grain', 'groups', 'growling', 'hacked', 'hallway', 'handling', 'hatchet', 'headphones', 'heads', 'hearted', 'hike', 'hiring', 'hoarse', 'homeless', 'honored', 'hopeful', 'hopeless', 'hospitalized', 'howling', 'hunch', 'hunted', 'hurricanes', 'husbands', 'iceberg', 'icon', 'identified', 'illegally', 'illusion', 'imaginative', 'imitate', 'imitation', 'immediate', 'import', 'improvement', 'improvements', 'incapable', 'inconvenience', 'indeed', 'infected', 'insensitive', 'insincere', 'insomnia', 'interrogated', 'intoxicated', 'introverted', 'invest', 'ipod', 'isolated', 'itchy', 'item', 'jackets', 'janitor', 'jellyfish', 'jiggle', 'jungle', 'justify', 'kanji', 'kilos', 'kites', 'klutz', 'labor', 'lame', 'leaf', 'leaking', 'lending', 'lens', 'liquor', 'loaned', 'lowered', 'maiden', 'management', 'mango', 'marathon', 'mark', 'marked', 'masterpiece', 'mattress', 'measured', 'measures', 'mechanic', 'media', 'medications', 'medieval', 'meets', 'mercy', 'millionaires', 'minimum', 'misery', 'misjudged', 'misspelled', 'monster', 'monument', 'moody', 'mostly', 'mothers', 'motivates', 'mowing', 'muddy', 'mug', 'multiple', 'muscles', 'mysteries', 'neglected', 'net', 'nickel', 'niece', 'nile', 'nuclear', 'nun', 'oak', 'observant', 'occupation', 'olives', 'opponent', 'oppose', 'opposition', 'optimist', 'orchard', 'orchids', 'origin', 'osaka', 'overconfident', 'owls', 'packs', 'pad', 'pantry', 'parent', 'participated', 'partner', 'passionately', 'pastor', 'peacefully', 'pears', 'perplexed', 'pessimist', 'photographs', 'physician', 'pinched', 'pipe', 'pitched', 'poland', 'pools', 'popped', 'posted', 'pour', 'powerless', 'precisely', 'preferred', 'preparations', 'preposterous', 'printed', 'privately', 'producer', 'professors', 'progressing', 'proofread', 'proposition', 'protesters', 'proverb', 'pushing', 'pushy', 'qualified', 'quantity', 'quarantined', 'raccoon', 'racist', 'rack', 'railroad', 'raises', 'rapidly', 'rats', 'reacted', 'rear', 'rebuild', 'recall', 'reckon', 'recovery', 'referee', 'referring', 'refrain', 'refreshed', 'regards', 'relationships', 'relied', 'remark', 'reminding', 'rents', 'requesting', 'rescheduled', 'resemble', 'resignation', 'resume', 'riddles', 'rises', 'robots', 'rocket', 'roman', 'rowing', 'sack', 'sacrificed', 'sailed', 'sailor', 'sake', 'sank', 'satellite', 'scandal', 'scanned', 'scrambled', 'sealed', 'seaside', 'september', 'setting', 'seventh', 'seventy', 'shampoo', 'sharpening', 'shortcut', 'shows', 'sights', 'sinking', 'sip', 'skilled', 'skinned', 'slap', 'slightest', 'slope', 'smallest', 'sneeze', 'spaceship', 'spirits', 'spit', 'spotted', 'stains', 'standard', 'stapler', 'startled', 'stings', 'stool', 'straightened', 'stroke', 'strongest', 'structure', 'struggle', 'stuffy', 'stumbled', 'subscribe', 'subtitles', 'sumo', 'sunlight', 'supply', 'surely', 'swears', 'sweden', 'swedish', 'swelling', 'swiped', 'symbol', 'tease', 'tedious', 'telegram', 'temptation', 'teresa', 'tightly', 'titanic', 'tons', 'toolbox', 'tracks', 'trainer', 'transfer', 'translations', 'treating', 'trimmed', 'trophy', 'tropical', 'tsunami', 'tuna', 'tux', 'unavoidable', 'unbelievably', 'unbiased', 'unconcerned', 'undressed', 'unfinished', 'unloaded', 'unsociable', 'untrue', 'upcoming', 'urge', 'utter', 'utterly', 'vague', 'valley', 'vary', 'venus', 'verify', 'vest', 'viral', 'virus', 'vision', 'vitamins', 'volcano', 'volcanoes', 'vomited', 'voting', 'vowed', 'wagon', 'waking', 'warnings', 'wheelbarrow', 'whereabouts', 'whistled', 'witch', 'wool', 'worm', 'worthy', 'wreck', 'yells', 'zip', '13th', '150', '1860', '18th', '1960', '1970', '1971', '19th', '2009', '22', '3:00', '54', '65', '7:30', '8:30', '90', ':', 'aardvarks', 'absorb', 'academic', 'accepting', 'acquaintance', 'acquired', 'addressed', 'adjusted', 'advances', 'advertising', 'affection', 'agenda', 'ah', 'airline', 'alarmed', 'alley', 'allows', 'alphabetically', 'alternatives', 'ambushed', 'analyzed', 'ankara', 'anonymous', 'appalled', 'apparent', 'appeals', 'appearances', 'apron', 'apt', 'archeology', 'architecture', 'argues', 'arithmetic', 'articulate', 'asians', 'aspirations', 'assaulted', 'assertive', 'assets', 'assumption', 'asthma', 'astute', 'athens', 'atlantis', 'attached', 'attained', 'audio', 'autistic', 'award', 'awoke', 'backed', 'backgammon', 'backwards', 'bacteria', 'badminton', 'bandage', 'banjo', 'barbershop', 'bay', 'beds', 'beekeeper', 'beethoven', 'behaves', 'belly', 'benches', 'bickering', 'bind', 'binoculars', 'biological', 'biologist', 'bipolar', 'birdhouse', 'birthdays', 'blames', 'blessed', 'blooming', 'blossoms', 'blown', 'boils', 'bombs', 'bookworm', 'bothers', 'bowls', 'brains', 'branches', 'brat', 'brightest', 'bronze', 'budge', 'bump', 'burgled', 'bushes', 'butler', 'calmer', 'calories', 'cans', 'capacity', 'caring', 'carpenters', 'carries', 'carton', 'category', 'caviar', 'chainsaw', 'charm', 'chasing', 'chauffeur', 'checkers', 'checking', 'checkup', 'cheering', 'chief', 'chili', 'chin', 'choosing', 'clinic', 'clubs', 'clumsier', 'coconut', 'coincidences', 'colleague', 'collided', 'combed', 'compact', 'competed', 'complicates', 'composed', 'composition', 'concentrated', 'concept', 'concerts', 'concrete', 'conditioned', 'conditioning', 'confirmed', 'confiscate', 'conflict', 'considerably', 'consist', 'console', 'constellations', 'consulate', 'consumed', 'consumption', 'container', 'contradicted', 'crab', 'cradle', 'creating', 'credibility', 'criminals', 'criticize', 'crocodile', 'crop', 'crops', 'cultural', 'curse', 'cuts', 'decades', 'deceiving', 'deciding', 'decode', 'decreasing', 'defective', 'delegates', 'delicacy', 'delivers', 'demonstrate', 'demonstrated', 'denies', 'denying', 'depression', 'desperately', 'despises', 'detergent', 'detest', 'dictator', 'dilemma', 'dime', 'directed', 'disappointment', 'discourage', 'discrete', 'discussions', 'disney', 'disneyland', 'district', 'dominate', 'dormitory', 'doubtful', 'doubting', 'drag', 'drama', 'dreamer', 'dreamt', 'dresser', 'drinkable', 'dripping', 'driveway', 'drum', 'drunken', 'drying', 'dual', 'dude', 'dues', 'dutch', 'e', 'earliest', 'earring', 'easiest', 'eccentric', 'economically', 'edition', 'egotistical', 'elementary', 'emailed', 'emergencies', 'emigrate', 'emotions', 'employers', 'enabled', 'endangered', 'endless', 'engineers', 'enthusiasm', 'envied', 'err', 'escapes', 'europeans', 'evacuated', 'excruciating', 'exhibition', 'exited', 'explore', 'explored', 'export', 'exposed', 'extension', 'extinct', 'extracted', 'farewell', 'farther', 'favorites', 'fellow', 'fend', 'feverish', 'fi', 'fifteenth', 'fighter', 'filed', 'filling', 'financially', 'fined', 'firefighter', 'fireworks', 'flags', 'flash', 'flirted', 'fluorescent', 'flush', 'flustered', 'focusing', 'forwarded', 'fossil', 'foundation', 'fountain', 'fractured', 'freaked', 'frog', 'fry', 'fugitive', 'fusion', 'fuss', 'gains', 'galaxies', 'gender', 'gentle', 'gently', 'giraffes', 'goats', 'gossiping', 'grammatical', 'grand', 'graves', 'grilled', 'gross', 'growled', 'gums', 'hamster', 'handcuffed', 'harassed', 'harbor', 'harsh', 'headlights', 'heartburn', 'hebrew', 'heroine', 'hides', 'hints', 'hiroshima', 'historians', 'hitchhike', 'hone', 'hooky', 'hospitality', 'host', 'hostages', 'hostel', 'hunter', 'hypnotized', 'hypocritical', 'hypothesis', 'iceland', 'ii', 'imminent', 'immoral', 'incentive', 'includes', 'incomplete', 'increase', 'increasingly', 'incurable', 'indians', 'indicate', 'infectious', 'infinite', 'inhabitants', 'initials', 'instructed', 'instructor', 'insulting', 'intentionally', 'internal', 'interpreted', 'invested', 'investigate', 'irish', 'ironing', 'islam', 'items', 'jaw', 'jogs', 'junior', 'karaoke', 'ketchup', 'kidnapping', 'kilt', 'kisser', 'kittens', 'knot', 'koala', 'koalas', 'label', 'laboratory', 'lasagna', 'leaks', 'learner', 'legged', 'liberty', 'librarian', 'lifetime', 'lighting', 'limo', 'limping', 'literally', 'loading', 'louis', 'lovable', 'magnificent', 'majoring', 'mat', 'meaningless', 'medals', 'meditate', 'melody', 'melons', 'mic', 'migraine', 'mild', 'milked', 'mistreated', 'mob', 'moist', 'monks', 'monthly', 'moonlight', 'moons', 'moose', 'mop', 'multiplied', 'murders', 'muslim', 'napoleon', 'nearsighted', 'neat', 'neatly', 'needing', 'needle', 'negotiations', 'neptune', 'netherlands', 'neutral', 'newcomer', 'nonstop', 'noodles', 'nosy', 'noticing', 'notified', 'nurses', 'n’t', 'obese', 'obesity', 'obeys', 'obligation', 'observations', 'occasion', 'occasionally', 'oceans', 'offering', 'ongoing', 'optimism', 'optimists', 'optional', 'originated', 'painkiller', 'painters', 'palace', 'pampered', 'panting', 'parallel', 'paranoid', 'pawned', 'paws', 'payday', 'pearl', 'pebble', 'pep', 'permitting', 'persevering', 'personalities', 'perspective', 'pharmacist', 'pheasant', 'philosophy', 'picasso', 'pier', 'piling', 'pill', 'pilots', 'pin', 'pineapples', 'pint', 'pirate', 'pizzas', 'pizzeria', 'plague', 'playground', 'pneumonia', 'pocketknife', 'podcast', 'podcasts', 'poked', 'pony', 'poorly', 'pope', 'portrait', 'practiced', 'precedes', 'precise', 'prescribed', 'preventing', 'previously', 'priority', 'procrastinating', 'produces', 'profession', 'programs', 'protein', 'protest', 'prune', 'pruned', 'publicity', 'publish', 'punishing', 'puzzles', 'questioning', 'quitting', 'racism', 'readily', 'rebellious', 'receiving', 'recommendation', 'reflection', 'regarded', 'reggae', 'rehearse', 'relative', 'remodeled', 'renovated', 'repainted', 'rephrase', 'replacing', 'reported', 'reptiles', 'resolution', 'resource', 'respectful', 'restarting', 'returning', 'revenue', 'revive', 'revolve', 'rewarded', 'ribbon', 'rinsed', 'riots', 'risked', 'rival', 'robber', 'rookie', 'rubbish', 'rugby', 'ruin', 'rung', 'sailors', 'scaled', 'scars', 'scorpion', 'scratching', 'screw', 'scrubbed', 'scuba', 'seatbelts', 'seized', 'senior', 'sensed', 'services', 'setback', 'sets', 'shakespeare', 'shares', 'shoelaces', 'showoff', 'shrugged', 'skier', 'skillful', 'skis', 'slid', 'slim', 'slowing', 'sly', 'smashed', 'smoker', 'snap', 'sneezing', 'snowflake', 'soaked', 'socialist', 'someplace', 'sorrow', 'sounding', 'spacious', 'spaniard', 'spectacular', 'spitting', 'spoons', 'squeeze', 'stained', 'steady', 'stepbrother', 'steroids', 'stoplight', 'straighten', 'straightforward', 'strangled', 'strap', 'stretch', 'stretched', 'strings', 'strongly', 'stunt', 'styrofoam', 'submarine', 'sunshine', 'superior', 'supervisor', 'supplied', 'supporting', 'supportive', 'surveillance', 'surviving', 'suspects', 'sweeping', 'sweeter', 'swerved', 'swords', 'tablecloth', 'tales', 'tan', 'tapped', 'tariffs', 'tasty', 'tatoeba', 'tattooed', 'teams', 'telephoned', 'tendency', 'tents', 'tequila', 'termites', 'testified', 'texas', 'thanksgiving', 'theories', 'thicker', 'thirst', 'threats', 'timing', 'tin', 'tipped', 'tissue', 'toilets', 'toll', 'tomboy', 'tone', 'torn', 'torture', 'tow', 'towed', 'trace', 'traded', 'trading', 'transfusion', 'tricky', 'trips', 'trout', 'trucks', 'trusting', 'truthful', 'tuberculosis', 'tunnel', 'uncommon', 'undeniable', 'underneath', 'undo', 'unenthusiastic', 'unfamiliar', 'unfolded', 'unhurt', 'unimportant', 'uninteresting', 'universal', 'unload', 'untrustworthy', 'unusually', 'unwind', 'username', 'vacant', 'values', 'variety', 'vehicles', 'vending', 'venice', 'viable', 'vice', 'views', 'violinist', 'visible', 'vulgar', 'wandered', 'warmly', 'watchful', 'waterfall', 'wax', 'webcam', 'weed', 'whisky', 'whistles', 'wi', 'wilderness', 'windsurfing', 'wing', 'winners', 'witchcraft', 'wonders', 'workman', 'wrench', 'writers', 'yawned', 'zebra', 'zipper', '°', '100,000', '105', '10:30', '119', '120', '12:45', '1492', '160', '1603', '1650', '17', '1789', '1853', '1912', '1939', '1969', '1974', '1975', '1981', '1990', '2016', '26', '28th', '3:30', '400', '5:30', '7:45', 'a.', 'abhor', 'abuse', 'abused', 'accounting', 'accounts', 'accumulated', 'aches', 'achievable', 'acknowledge', 'activity', 'adhered', 'admirer', 'admiring', 'admits', 'adores', 'adventures', 'advertisement', 'affectionate', 'afternoons', 'aged', 'agnostic', 'agreeing', 'algebra', 'alien', 'allergy', 'allowance', 'alright', 'ambush', 'amputated', 'amsterdam', 'angels', 'angle', 'angles', 'angola', 'angrily', 'announcement', 'antique', 'anxiety', 'appealed', 'applications', 'applies', 'appreciates', 'archaic', 'arctic', 'argentina', 'arrange', 'arrow', 'assemble', 'assess', 'assigned', 'assignment', 'assuming', 'astounding', 'atheist', 'attacks', 'attempting', 'attempts', 'attendant', 'attentive', 'attitudes', 'attracts', 'audiobook', 'aunts', 'authorities', 'authorized', 'authors', 'autism', 'autograph', 'autopsy', 'avenue', 'awakened', 'backache', 'baker', 'bakes', 'bamboo', 'banging', 'barack', 'barefooted', 'bargaining', 'barged', 'basin', 'basis', 'beasts', 'beats', 'beautifully', 'beehive', 'beggars', 'behalf', 'beijing', 'belgium', 'believer', 'beneath', 'beneficial', 'bethlehem', 'bets', 'beverage', 'bewildered', 'biographies', 'bitterly', 'blackmail', 'bladder', 'blast', 'bled', 'bleed', 'blinding', 'blinked', 'blinking', 'blisters', 'blizzard', 'blogger', 'bloodshed', 'blues', 'bodyguard', 'bookshelf', 'borrows', 'bowed', 'boxer', 'braces', 'bragging', 'brainwashed', 'brakes', 'breadwinner', 'breathtaking', 'brick', 'britain', 'broadcast', 'brochure', 'bruises', 'buddhism', 'buddies', 'budget', 'buffalo', 'bully', 'bullying', 'bundle', 'businessmen', 'buttons', 'butts', 'bystander', 'caffeine', 'cages', 'calculators', 'calf', 'calvino', 'camouflage', 'campfire', 'canary', 'canyon', 'carp', 'carrot', 'cart', 'cartoons', 'cast', 'catastrophic', 'catchy', 'cathedral', 'catholicism', 'centigrade', 'central', 'chapter', 'charming', 'chart', 'checkout', 'cheeks', 'cheerfully', 'chemical', 'chemotherapy', 'cherries', 'chestnuts', 'childbirth', 'chill', 'chorus', 'christians', 'cigars', 'circulation', 'civilized', 'clause', 'cleanliness', 'clients', 'clutch', 'cluttered', 'cnn', 'cocaine', 'coffees', 'collarbone', 'colorful', 'combine', 'comedies', 'comfortably', 'comics', 'commission', 'commute', 'commutes', 'companionship', 'compartment', 'compensate', 'composers', 'concluded', 'condemned', 'conducted', 'conducting', 'consent', 'considerable', 'constitution', 'constructive', 'consultant', 'consulted', 'continents', 'contrary', 'coop', 'copied', 'cordoned', 'cornbread', 'corrections', 'correspondence', 'corruption', 'counselor', 'courteous', 'cozy', 'cramped', 'cranky', 'crazier', 'creams', 'creativity', 'crept', 'crippled', 'croatia', 'croissant', 'crooked', 'crosswalk', 'crossword', 'cruelty', 'cube', 'cultures', 'cupcakes', 'curiously', 'cynical', 'd.c', 'daisy', 'darkest', 'darkness', 'darwin', 'daylight', 'deadly', 'debated', 'debit', 'debris', 'defects', 'defending', 'defenseless', 'dehydrated', 'denmark', 'dense', 'depart', 'departed', 'departments', 'departure', 'dependable', 'deprived', 'deserving', 'designated', 'desks', 'despised', 'desserts', 'destroys', 'destruction', 'detectives', 'developer', 'devout', 'differs', 'dimples', 'diploma', 'discharged', 'disciplined', 'disconnected', 'discrimination', 'disliked', 'disobedient', 'disorder', 'disposal', 'dissolves', 'distraught', 'divers', 'doable', 'dock', 'donations', 'doorstep', 'doorway', 'dot', 'downloading', 'draft', 'dragons', 'drain', 'dramatic', 'drawings', 'draws', 'drenched', 'drinker', 'drone', 'drown', 'ducked', 'dull', 'dumbfounded', 'dump', 'dyes', 'earphones', 'eclipse', 'edited', 'educational', 'eerie', 'elbows', 'electronic', 'elevators', 'elizabeth', 'emotion', 'emperor', 'encouragement', 'encyclopedia', 'endorse', 'enhance', 'enlisted', 'entertainment', 'entitled', 'envelopes', 'envious', 'episode', 'equally', 'equator', 'erase', 'eraser', 'errand', 'escorted', 'estimate', 'ethical', 'euros', 'evasive', 'evidently', 'exaggeration', 'exceeded', 'exceptional', 'exercised', 'expand', 'experiences', 'experiments', 'explode', 'expressions', 'extinction', 'extinguisher', 'extrovert', 'f', 'fabric', 'fad', 'failures', 'faint', 'fancy', 'fans', 'farms', 'fasting', 'fattest', 'favorable', 'favors', 'feared', 'feathers', 'fertilizer', 'feud', 'figures', 'filmed', 'finicky', 'finland', 'firefighters', 'fireplace', 'firewood', 'fixes', 'flabbergasted', 'flashing', 'flatter', 'flattery', 'flaws', 'fled', 'flexible', 'flipping', 'flooded', 'flushed', 'fogged', 'forgiveness', 'forgives', 'fort', 'freely', 'freezer', 'fruits', 'frustration', 'function', 'functioning', 'funding', 'funnier', 'furnished', 'fuse', 'gallons', 'generalizations', 'geniuses', 'genuine', 'geologist', 'germans', 'germs', 'godmother', 'goggles', 'golden', 'goldfish', 'golfer', 'goodness', 'goofed', 'gossips', 'gown', 'grading', 'graduating', 'graduation', 'grammatically', 'grant', 'grasp', 'greenland', 'greet', 'grinned', 'grip', 'groom', 'grunted', 'guarantees', 'guessing', 'guidance', 'guidebook', 'guided', 'hairdressers', 'handbag', 'hanger', 'hardware', 'hatched', 'headaches', 'healed', 'heartless', 'helicopters', 'hell', 'hens', 'hesitation', 'hibernate', 'hiccups', 'hinges', 'hip', 'historic', 'historical', 'hokkaido', 'holds', 'holland', 'hoodlums', 'hose', 'hostage', 'hostile', 'hotdogs', 'hotter', 'housewife', 'howl', 'humiliate', 'humming', 'hungarian', 'hydrant', 'hypnotize', 'hypocrisy', 'i.d', 'icy', 'ignition', 'illegible', 'imitating', 'immigrated', 'impact', 'improbable', 'improvise', 'incarcerated', 'incentives', 'inconsistent', 'inconvenient', 'incorrigible', 'increasing', 'independence', 'indicates', 'indigenous', 'individual', 'indoor', 'ingredient', 'inhaled', 'insists', 'inspector', 'installed', 'installments', 'instant', 'instinct', 'instructive', 'integrity', 'intensive', 'interact', 'intern', 'interruptions', 'intervened', 'intervention', 'intimidate', 'intimidating', 'intriguing', 'introvert', 'invent', 'invisible', 'irons', 'irrational', 'irregular', 'irresistible', 'italo', 'itch', 'jammed', 'jefferson', 'jewish', 'joe', 'judged', 'juicy', 'jupiter', 'kenya', 'kicks', 'kimono', 'kindly', 'kit', 'knob', 'lacked', 'leafy', 'leap', 'learners', 'learns', 'lectures', 'leisure', 'leopard', 'levels', 'liars', 'licensed', 'lightweight', 'limitless', 'lined', 'lip', 'liquid', 'lisa', 'listener', 'lizards', 'llama', 'loads', 'locking', 'logic', 'loop', 'loudest', 'luckier', 'luckiest', 'lukewarm', 'lullaby', 'lungs', \"ma'am\", 'madly', 'madrid', 'magnitude', 'maintain', 'mammal', 'managers', 'manipulating', 'manipulative', 'mankind', 'manner', 'manuscript', 'maps', 'marketing', 'marks', 'marries', 'marvelous', 'massive', 'mastercard', 'materials', 'mathematical', 'maxed', 'meanings', 'measurements', 'meddle', 'meetings', 'melon', 'melts', 'mentors', 'merciless', 'mercury', 'messenger', 'metaphor', 'meteor', 'metric', 'mid', 'miner', 'minerals', 'minimal', 'minimize', 'mint', 'moaned', 'moaning', 'models', 'moderate', 'mona', 'monarchy', 'monetary', 'monogamy', 'monroe', 'morally', 'morocco', 'moron', 'mortgaged', 'mosquitos', 'motorcycles', 'movement', 'moves', 'mowed', 'muffins', 'muslims', 'mutton', 'myth', 'mythology', 'narita', 'nasa', 'nasty', 'naïve', 'neighborhoods', 'nephews', 'nest', 'newcomers', 'newton', 'nicely', 'nicest', 'nightstand', 'noises', 'nosey', 'nursing', 'nutrition', 'oath', 'obama', 'objections', 'oblivious', 'observe', 'obsolete', 'obtain', 'occasions', 'ocd', 'odds', 'offset', 'oneself', 'opener', 'operating', 'orcas', 'organisms', 'organs', 'origins', 'outcome', 'outline', 'output', 'overcast', 'overcome', 'overflowed', 'overheard', 'owl', 'owners', 'packages', 'pakistan', 'palm', 'pamper', 'pamphlet', 'panama', 'panda', 'paragraph', 'paramedic', 'paramount', 'parcel', 'parole', 'partners', 'passenger', 'passwords', 'paul', 'paulo', 'payment', 'peas', 'peep', 'penalty', 'penguins', 'perform', 'persuasive', 'pesos', 'petals', 'petition', 'phenomenon', 'phones', 'photographic', 'physicist', 'pianos', 'pickup', 'picnics', 'pierced', 'pigeon', 'pigsty', 'pirates', 'playful', 'plea', 'plowing', 'plumbing', 'plunged', 'pluto', 'pointless', 'poise', 'poke', 'polka', 'pooper', 'portions', 'posture', 'pouring', 'pours', 'practices', 'prank', 'prayers', 'preacher', 'predators', 'predictions', 'preferable', 'preoccupied', 'presentation', 'pretentious', 'prevail', 'prevents', 'pricked', 'primary', 'principles', 'prioritize', 'prisons', 'privilege', 'pro', 'probability', 'proceed', 'profit', 'prohibits', 'projects', 'protective', 'protested', 'protesting', 'pry', 'psyched', 'pudding', 'pumped', 'pun', 'punch', 'punctuality', 'purring', 'pushups', 'qr', 'qualities', 'quantum', 'quarantine', 'quickest', 'quieted', 'quotes', 'racing', 'rainforests', 'raising', 'rally', 'ranch', 'rank', 'rapid', 'raspberries', 'rattlesnake', 'reckless', 'recognition', 'reconfirm', 'reconsidered', 'records', 'recovering', 'rectangle', 'redheads', 'reduced', 'redundant', 'reflected', 'refresh', 'refreshes', 'refund', 'regardless', 'regions', 'regularly', 'rehearsal', 'reimbursed', 'reincarnation', 'rematch', 'remodel', 'repairs', 'repeating', 'republic', 'reread', 'reschedule', 'resigning', 'resilient', 'resolved', 'restarted', 'restored', 'restrain', 'restricted', 'retirement', 'reunion', 'reveal', 'reverse', 'review', 'revolves', 'reward', 'rewritten', 'rio', 'riot', 'risen', 'rob', 'robbers', 'robot', 'roger', 'romance', 'romans', 'rooting', 'roulette', 'roundabout', 'route', 'router', 'royal', 'rub', 'rubble', 'rudeness', 'rugs', 'ruler', 'rumored', 'runny', 'rural', 'rust', 'ruthless', 'saints', 'san', 'sandals', 'satellites', 'satisfy', 'scales', 'scam', 'scares', 'scheme', 'scholar', 'schoolyard', 'sciences', 'scientific', 'scooter', 'scotland', 'scout', 'scrap', 'screams', 'screwed', 'screws', 'seaweed', 'secondhand', 'sedated', 'seedless', 'seeks', 'seine', 'selfie', 'senators', 'sensation', 'separately', 'sequence', 'serial', 'series', 'servants', 'settlement', 'severely', 'shadows', 'shaken', 'sheriff', 'shipping', 'shirtless', 'shocking', 'shone', 'shops', 'shore', 'shouts', 'shove', 'shoved', 'showered', 'shrank', 'shrine', 'shrinking', 'shutting', 'sighed', 'silverware', 'simplicity', 'sincerely', 'singapore', 'sites', 'situated', 'skateboard', 'skepticism', 'skull', 'skunk', 'skyscraper', 'slack', 'slam', 'slander', 'slaves', 'sleeper', 'sloppy', 'smuggling', 'snails', 'snarling', 'sneezed', 'snowstorm', 'socrates', 'soil', 'solitaire', 'solutions', 'soothe', 'sophomore', 'sorting', 'sorts', 'souls', 'soundly', 'southeastern', 'souvenir', 'spank', 'spice', 'spin', 'spirit', 'spoils', 'sponge', 'sprain', 'sprawled', 'squares', 'squatted', 'stab', 'staff', 'stalled', 'starvation', 'steam', 'steep', 'stepmother', 'stepping', 'sticky', 'stink', 'stopping', 'strapped', 'stressed', 'stretching', 'stripes', 'stroked', 'stumped', 'stupidity', 'substitute', 'subtraction', 'sufficient', 'sulfur', 'superb', 'supernatural', 'supported', 'surfer', 'surveyor', 'survival', 'swallowed', 'swallowing', 'sweatshirt', 'swimmers', 'swimsuit', 'symphony', 'synthetic', 'são', 'tags', 'tailor', 'tails', 'talker', 'tango', 'taurus', 'tb', 'technically', 'telepathic', 'temperamental', 'temples', 'tension', 'terminal', 'testify', 'testing', 'texting', 'thanking', 'therapy', 'therefore', 'thigh', 'thirteenth', 'thirtieth', 'thorough', 'thoughtful', 'threaten', 'thrilling', 'thumb', 'thumbs', 'tidy', 'tightened', 'tips', 'tiring', 'toenails', 'tofu', 'topics', 'tortured', 'towns', 'tradition', 'trail', 'transportation', 'traps', 'tray', 'trembled', 'triangle', 'triathlon', 'tricycle', 'tripod', 'tub', 'tuba', 'tube', 'tucked', 'tuition', 'twain', 'twisted', 'twitter', 'typed', 'typhoons', 'ultraviolet', 'unambitious', 'unavailable', 'uncanny', 'undercooked', 'undercover', 'underestimated', 'underpants', 'underwater', 'underwear', 'undressing', 'unemployment', 'unfaithful', 'unfit', 'unhealthy', 'unimaginable', 'unimpressed', 'uninterested', 'unnoticed', 'unsure', 'untied', 'unwrapped', 'updating', 'uranus', 'urban', 'urgently', 'usb', 'valued', 'vampires', 'verbal', 'verbs', 'vibrating', 'vietnamese', 'villagers', 'violated', 'vital', 'vocabulary', 'volumes', 'wages', 'wagging', 'waits', 'wandering', 'warden', 'warehouse', 'warmed', 'warrior', 'wasp', 'waterproof', 'waves', 'weaker', 'weakness', 'websites', 'weekly', 'weirdo', 'width', 'william', 'willingly', 'willpower', 'windowsill', 'wiser', 'withered', 'woodpecker', 'workaholic', 'worms', 'worthwhile', 'wrapping', 'wrestler', 'x', 'yolks', 'youtube', 'zebras', 'zoned', 'zones', '’ll', '’re', '#', '1,500', '10th', '1374', '17th', '180', '1847', '1865', '1870', '1888', '1908', '1918', '1944', '1957', '1962', '1963', '1972', '1979', '1988', '1989', '1995', '1996', '1998', '20,000', '2006', '2010', '21', '223', '250', '256', '25th', '27', '27th', '3,500', '32', '3202', '36', '4:00', '5,000', '5,500', '5625', '58', '5th', '70', '70th', '76', '7th', '800', '8th', '97', '99', '9:00', 'aardvark', 'abacus', 'abate', 'abbreviation', 'abode', 'abstained', 'abuses', 'accessible', 'accompanies', 'accounted', 'accusations', 'accuse', 'accuses', 'aces', 'achille', 'acrylic', 'activities', 'ad', 'addiction', 'addictive', 'additional', 'adjacent', 'adjective', 'administration', 'admires', 'ado', 'adolescents', 'adore', 'adverb', 'advertised', 'advisable', 'advises', 'afar', 'afterlife', 'afterward', 'aggravated', 'agonizing', 'agricultural', 'aids', 'airbag', 'airlines', 'airports', 'ajar', 'alaska', 'albino', 'alcoholics', 'alexander', 'alligators', 'alluding', 'ally', 'alongside', 'alter', 'altered', 'altogether', 'amateur', 'amazingly', 'amends', 'ammo', 'anabolic', 'analyze', 'analyzing', 'android', 'ann', 'announcer', 'antarctica', 'antelope', 'antenna', 'anthem', 'anthropologist', 'anti', 'antsy', 'anxiously', 'anyhow', 'anyplace', 'apartments', 'apes', 'appalling', 'appealing', 'appearing', 'appendicitis', 'apprehensive', 'apprentice', 'aquarius', 'archaeology', 'arguably', 'aristocrat', 'ark', 'armstrong', 'arose', 'arouses', 'arrogance', 'arthritis', 'asap', 'ashore', 'ashtrays', 'aspect', 'aspects', 'aspirins', 'assassinated', 'assembled', 'assorted', 'astounded', 'astrological', 'astronauts', 'astronomer', 'atmospheric', 'attaching', 'attacker', 'attentively', 'attributed', 'audiences', 'australians', 'authentic', 'authenticity', 'autographs', 'automatic', 'avocado', 'awoken', 'ax', 'azaleas', 'b.', 'babysitting', 'backs', 'backward', 'bagpipes', 'ballistic', 'balloons', 'ballpoint', 'balmy', 'banker', 'barbers', 'barcelona', 'barrier', 'bartolomeo', 'base', 'basho', 'basque', 'bassoon', 'batch', 'bathe', 'bathrooms', 'battles', 'beaks', 'beavers', 'bend', 'bending', 'benzine', 'besieged', 'bestseller', 'bias', 'bidding', 'bigamy', 'billionaire', 'billionaires', 'biscuits', 'bishop', 'biwa', 'blacked', 'blackmailer', 'blade', 'blend', 'blocking', 'blooded', 'blotting', 'blunder', 'blush', 'boards', 'boasts', 'bodybuilders', 'bold', 'bolted', 'booked', 'bookmarked', 'bore', 'bores', 'borrowing', 'botanical', 'botanist', 'bounce', 'bounced', 'bounds', 'bouquet', 'bra', 'brag', 'brags', 'brands', 'brasilia', 'brass', 'bravest', 'breakdown', 'breathalyzer', 'brewing', 'bridesmaid', 'brighten', 'broth', 'bruise', 'brunch', 'brunettes', 'bubbles', 'bubonic', 'buckled', 'buddha', 'buddhist', 'buddy', 'bugging', 'bull', 'bulletin', 'bullets', 'bun', 'bunyan', 'buries', 'burj', 'bushed', 'busiest', 'busybody', 'butchered', 'buyer', 'bygones', 'cafe', 'cain', 'calligraphy', 'calmly', 'camels', 'campaign', 'camped', 'canal', 'canned', 'capitals', 'capsized', 'cardiac', 'cardiologist', 'careers', 'carelessly', 'carnival', 'carol', 'carpentry', 'cartoonist', 'cashier', 'cassette', 'casualties', 'catastrophe', 'catholics', 'celery', 'celtic', 'cement', 'censured', 'cent', 'centuries', 'chained', 'chambermaid', 'chandelier', 'chaos', 'charging', 'charlatans', 'cheats', 'cheerful', 'cheeseburger', 'cheeseburgers', 'chemicals', 'chewed', 'childless', 'chilly', 'choir', 'choking', 'cholera', 'choosy', 'chord', 'christopher', 'chronic', 'chuckled', 'cigar', 'cinnamon', 'circled', 'circles', 'clamp', 'clapping', 'clarify', 'clash', 'claustrophobia', 'claws', 'clay', 'cleans', 'cliche', 'climber', 'clingy', 'clinking', 'clip', 'clipped', 'clockwise', 'clogged', 'clover', 'clowns', 'clueless', 'cm', 'coaches', 'coca', 'cocktail', 'coerced', 'cola', 'collars', 'collector', 'collision', 'colombia', 'colored', 'colorless', 'comma', 'commanding', 'commercial', 'commune', 'communications', 'companies', 'compliments', 'comprehend', 'comprehension', 'compromised', 'con', 'conceal', 'concealed', 'conceited', 'concentrating', 'concentration', 'concise', 'condolences', 'condominium', 'conducts', 'confidential', 'confiscated', 'confront', 'confronted', 'confusion', 'congress', 'connecting', 'conquer', 'cons', 'consented', 'conserve', 'consistent', 'constantinople', 'consulting', 'consume', 'consuming', 'contacts', 'contestants', 'context', 'continuous', 'continuously', 'contracts', 'contradicting', 'contribution', 'contributions', 'conversations', 'convert', 'converts', 'cookbooks', 'copilot', 'corkscrew', 'coroner', 'correlation', 'corridors', 'corroborated', 'corrupted', 'corrupts', 'costly', 'cot', 'cottage', 'counterclockwise', 'counterfeit', 'courtesy', 'courtroom', 'covering', 'covers', 'covid-19', 'cowboy', 'coyotes', 'co₂', 'crackers', 'crackpot', 'craft', 'cramp', 'cranes', 'creationism', 'creature', 'creek', 'crib', 'cricket', 'cristofori', 'criteria', 'croaking', 'croutons', 'crowds', 'cruise', 'crushing', 'crutches', 'crybaby', 'cuba', 'cubes', 'cucumber', 'cucumbers', 'cuffs', 'cuisine', 'cult', 'cunning', 'curled', 'curling', 'curry', 'cursed', 'curve', 'cushion', 'cutie', 'dagger', 'damages', 'darken', 'dart', 'dash', 'daydream', 'daytime', 'dazed', 'deactivate', 'deafening', 'deaths', 'decade', 'decaffeinated', 'decapitated', 'deceitful', 'deceptive', 'decline', 'decomposition', 'decrease', 'decreased', 'deductible', 'deemed', 'deeper', 'defendant', 'defibrillator', 'define', 'defy', 'delhi', 'demented', 'demoted', 'dent', 'dentists', 'depending', 'derailed', 'derived', 'describes', 'describing', 'designing', 'despondent', 'destined', 'destructive', 'detained', 'detests', 'detroit', 'developing', 'develops', 'deviate', 'devil', 'devised', 'devote', 'diagnosis', 'diagonally', 'diagram', 'dial', 'diaper', 'diarrhea', 'dictates', 'dictatorships', 'dignity', 'dilated', 'diligently', 'dimensions', 'dine', 'dinnertime', 'disadvantages', 'disagreement', 'disappearing', 'disc', 'disco', 'disconnect', 'discriminate', 'disgrace', 'disguise', 'dismissed', 'dismount', 'disoriented', 'displayed', 'disregarded', 'distracting', 'diver', 'diversity', 'divides', 'divine', 'domain', 'domestic', 'dominoes', 'donating', 'donkey', 'donkeys', 'doomed', 'dots', 'dozens', 'dozing', 'dragging', 'dramatically', 'drapes', 'dread', 'dreadful', 'drill', 'drought', 'drunks', 'dryer', 'dubbed', 'dumbest', 'dunham', 'durable', 'dvd', 'dynamite', 'eagerly', 'earache', 'eclipses', 'economical', 'edison', 'edit', 'editions', 'editor', 'effectively', 'eggplant', 'eighteenth', 'eighties', 'elaborate', 'electrocuted', 'element', 'eligible', 'eliminated', 'embroidered', 'empathy', 'employer', 'enclosed', 'encouraging', 'endorsing', 'energies', 'entree', 'entrepreneur', 'equation', 'erased', 'ernesto', 'erupted', 'esperanto', 'establish', 'established', 'eternal', 'eternity', 'ethics', 'evacuate', 'evade', 'evolution', 'exaggerated', 'examinations', 'excitement', 'exclude', 'excluded', 'exemplary', 'exhaust', 'exhibit', 'exiled', 'exotic', 'expectantly', 'expense', 'expertise', 'expire', 'explanations', 'exploring', 'exports', 'expresses', 'extend', 'extended', 'exterminator', 'extract', 'extradited', 'eyelashes', 'eyewitness', 'factor', 'factories', 'failing', 'fails', 'fakes', 'fantasy', 'fares', 'farming', 'farts', 'fascinate', 'fatal', 'fatigue', 'feasible', 'feast', 'features', 'federer', 'feeble', 'fennel', 'fibers', 'fiddle', 'fifties', 'figuring', 'filming', 'films', 'fines', 'finest', 'fires', 'fists', 'flawless', 'flipped', 'floated', 'floats', 'flock', 'floods', 'flop', 'florence', 'florida', 'floss', 'flosses', 'fluctuates', 'fluid', 'folk', 'fooling', 'foolishly', 'footpath', 'forbid', 'forearm', 'foresee', 'forests', 'formality', 'formidable', 'formulas', 'forth', 'fourteen', 'fourths', 'fragments', 'francisco', 'franklin', 'frankness', 'freak', 'freaking', 'freed', 'freeway', 'freight', 'frenchman', 'freud', 'fridays', 'friendliness', 'fuels', 'fund', 'fundamental', 'furiously', 'g.n.p', 'gab', 'gagged', 'gamblers', 'gaming', 'gardeners', 'garments', 'gasped', 'gates', 'gay', 'gear', 'generate', 'generations', 'generic', 'generously', 'genes', 'gentleness', 'genuinely', 'geometry', 'girlfriends', 'glance', 'gliding', 'glimpse', 'glitters', 'glowing', 'gluten', 'goblet', 'godparents', 'gorillas', 'governments', 'gps', 'graceful', 'grader', 'graffiti', 'grandchild', 'granddaughter', 'granddaughters', 'granola', 'grape', 'grapefruit', 'graphic', 'grappled', 'gratitude', 'gravy', 'grease', 'greasy', 'greater', 'greed', 'greener', 'greenhouse', 'greets', 'grey', 'grisly', 'groceries', 'grotesque', 'grouch', 'grounds', 'guaranteed', 'guarded', 'guarding', 'guilt', 'guinea', 'gulliver', 'gulp', 'gunpowder', 'gymnastics', 'haggling', 'hairdresser', 'haired', 'hairstyle', 'hairy', 'handball', 'handmade', 'handstand', 'handwritten', 'hanged', 'hangs', 'happily', 'harassing', 'harassment', 'harmed', 'harmful', 'harmonica', 'harmony', 'haste', 'hating', 'haul', 'havana', 'hawk', 'hazelnuts', 'headquarters', 'headset', 'healing', 'heals', 'heap', 'hectic', 'heed', 'helen', 'helpless', 'hemispheres', 'hen', 'heritage', 'heroin', 'herring', 'hiccup', 'himalayas', 'hinge', 'hippies', 'hippopotamuses', 'historian', 'hitched', 'hitchhiking', 'hitler', 'hitman', 'hitter', 'hives', 'hoisted', 'hollow', 'homeland', 'homemade', 'hong', 'honk', 'honked', 'hop', 'horizons', 'hornets', 'horoscope', 'horrified', 'horseback', 'hotdog', 'housewives', 'howls', 'humility', 'hummingbird', 'hunters', 'hut', 'hybrid', 'hymns', 'idolized', 'ignorant', 'ignores', 'illustrated', 'imagining', 'imitates', 'imitations', 'immense', 'immortal', 'imperial', 'implication', 'implications', 'implying', 'impoliteness', 'imposed', 'impressions', 'imprisonment', 'improves', 'improvised', 'impulse', 'incidents', 'incorrectly', 'increases', 'indebted', 'indiscreet', 'indonesian', 'industries', 'inexperienced', 'infections', 'inferred', 'infested', 'inflatable', 'influences', 'ingredients', 'inhale', 'initial', 'injuries', 'inmates', 'input', 'insect', 'insignificant', 'insomniac', 'inspection', 'inspire', 'instigated', 'insults', 'insurmountable', 'intent', 'interestingly', 'interior', 'intermission', 'interns', 'interruption', 'intervene', 'introducing', 'introduction', 'intruder', 'invaders', 'inventory', 'investing', 'investors', 'iowa', 'iran', 'iraq', 'irretrievable', 'isaac', 'isabela', 'israel', 'itches', 'ivory', 'javascript', 'jealousy', 'jeep', 'jelly', 'jewel', 'jigsaw', 'jittery', 'johns', 'johnson', 'joint', 'joints', 'journalists', 'judaism', 'juliet', 'jumps', 'justifies', 'kabuki', 'kaisha', 'kangaroo', 'kangaroos', 'karate', 'karma', 'kayaking', 'keen', 'keller', 'kerosene', 'khalifa', 'killers', 'kindest', 'kingdom', 'kisses', 'knapsack', 'kneel', 'knight', 'knits', 'knocks', 'knowledgeable', 'kobe', 'koko', 'kong', 'kyiv', 'labeling', 'laboratories', 'lace', 'laces', 'lacrosse', 'lag', 'lakes', 'lambs', 'landline', 'landlord', 'latch', 'launch', 'lawsuit', 'layout', 'lazier', 'leadership', 'leading', 'league', 'leaked', 'leaped', 'leaps', 'lease', 'lecherous', 'leftover', 'leftovers', 'legend', 'lib', 'lick', 'lifeguard', 'lightbulbs', 'lighten', 'lilies', 'limelight', 'linguistics', 'lining', 'liquids', 'literal', 'literate', 'lizard', 'locksmith', 'lonesome', 'longing', 'loosened', 'losers', 'losses', 'lounge', 'lucid', 'ludicrous', 'lump', 'lunchbox', 'lunchtime', 'lush', 'lynx', 'macau', 'machete', 'machines', 'madhouse', 'magnet', 'magnifying', 'maintained', 'maintaining', 'mama', 'mandarin', 'mandolin', 'mangoes', 'manicured', 'manufactures', 'marched', 'marilyn', 'marine', 'marital', 'marking', 'marriages', 'martial', 'massachusetts', 'mastering', 'maternal', 'maternity', 'mattered', 'mcdonald', 'meadow', 'measles', 'medicines', 'megaphone', 'melodramatic', 'membership', 'memo', 'memorization', 'mentioning', 'meow', 'meowed', 'merchant', 'merciful', 'messy', 'meth', 'methane', 'mile', 'milky', 'milton', 'mimic', 'miners', 'minimized', 'minors', 'minus', 'mirrors', 'miserably', 'miserly', 'mishima', 'misinterpreted', 'misleading', 'missionaries', 'mist', 'mistakenly', 'mistaking', 'mocked', 'moderation', 'moldy', 'mole', 'molehill', 'momentarily', 'mommy', 'monitor', 'monitored', 'monk', 'monotheistic', 'monotonous', 'monoxide', 'monsters', 'mopped', 'mopping', 'mortality', 'mortgage', 'motels', 'motorbike', 'mountaineering', 'mourned', 'mourning', 'moustache', 'muggy', 'mule', 'mumbling', 'mummy', 'mumps', 'muscle', 'mustard', 'mystified', 'myths', 'napkins', 'nara', 'necks', 'needy', 'negligence', 'negotiation', 'negotiator', 'neruda', 'nervously', 'nests', 'networks', 'newly', 'newlyweds', 'newscasters', 'nick', 'nieces', 'ninjas', 'nitrogen', 'nixon', 'noah', 'nocturnal', 'nonetheless', 'norm', 'northeast', 'nosebleed', \"nothin'\", 'nourishing', 'nude', 'numbered', 'oatmeal', 'objected', 'objects', 'obligated', 'observing', 'obstructed', 'occupy', 'octopus', 'offence', 'officially', 'oglethorpe', 'omelette', 'omen', 'omens', 'oodles', 'ophthalmologist', 'opportunistic', 'orchestra', 'ordering', 'organic', 'orville', 'ostrich', 'ostriches', 'outfit', 'outrage', 'outrageous', 'outreach', 'outskirts', 'overcame', 'overcoat', 'overcrowded', 'overdose', 'overdue', 'overemotional', 'overlooked', 'overly', 'overreact', 'overtook', 'overwork', 'ox', 'oxen', 'pablo', 'pacifists', 'painkillers', 'painless', 'pains', 'panels', 'pans', 'parliament', 'parlor', 'participants', 'particularly', 'partying', 'passionate', 'passive', 'passports', 'pat', 'patio', 'patriotic', 'patterns', 'pavement', 'pawn', 'pe', 'peach', 'peaches', 'pearls', 'peasants', 'peculiar', 'pedestal', 'pediatricians', 'pedicure', 'peeked', 'penetrated', 'penguin', 'penicillin', 'peninsula', 'penny', 'pepperoni', 'peppers', 'performing', 'perished', 'persian', 'personnel', 'perspiration', 'phenomena', 'philosophers', 'photocopied', 'photography', 'phrased', 'phrases', 'piccolo', 'pickpockets', 'piled', 'pillows', 'ping', 'pirated', 'pit', 'pitcher', 'placebo', 'plagued', 'platinum', 'plato', 'platter', 'playstation', 'plead', 'pleasantly', 'pleasures', 'pledge', 'pliers', 'plowed', 'plucked', 'plural', 'pod', 'poets', 'pointing', 'polished', 'poll', 'polluted', 'pollutes', 'pong', 'poop', 'poorest', 'popeye', 'populated', 'portion', 'possess', 'possession', 'poster', 'potter', 'pound', 'powered', 'praise', 'prays', 'pregnancy', 'premature', 'prematurely', 'preparation', 'presentable', 'prey', 'principle', 'prints', 'prizes', 'proceeding', 'procrastinate', 'produce', 'proofreader', 'prop', 'prophet', 'pros', 'prospect', 'prospects', 'provoke', 'prude', 'prudence', 'pruning', 'pseudo', 'psychiatric', 'psychological', 'psychopath', 'puddles', 'pulls', 'pump', 'punctuation', 'pupils', 'purposes', 'purr', 'pursue', 'quarrels', 'queasy', 'questionable', 'quieter', 'quirks', 'quiz', 'raccoons', 'racial', 'radar', 'radiation', 'radioactive', 'radios', 'radium', 'raft', 'rainwater', 'raisins', 'rake', 'ramen', 'rancher', 'random', 'rates', 'rattle', 'ray', 'razor', 're', 'reaching', 'rearrange', 'rebellion', 'rebels', 'recaptured', 'receiver', 'receives', 'recite', 'recognizable', 'recognizing', 'recommendations', 'reconciled', 'redecorate', 'redneck', 'reek', 'referred', 'refreshing', 'refundable', 'refusing', 'regain', 'regarding', 'regional', 'regulate', 'regulations', 'reindeer', 'relieve', 'remaining', 'remedy', 'remix', 'remodeling', 'rendered', 'renewable', 'repay', 'repeats', 'repetition', 'repetitive', 'replacement', 'replying', 'reporters', 'reporting', 'represented', 'republican', 'repulsive', 'requirements', 'rescuing', 'resembled', 'residential', 'residents', 'resides', 'residue', 'resisted', 'resisting', 'resort', 'resorting', 'responding', 'restart', 'restrained', 'resulted', 'resumed', 'resuscitate', 'revelation', 'reversible', 'reviews', 'rewarding', 'rewrite', 'rib', 'ribs', 'riddle', 'rightfully', 'rioting', 'roar', 'roared', 'robbery', 'rockefeller', 'roller', 'romania', 'romeo', 'roosevelt', 'ropes', 'rotates', 'rotted', 'routine', 'rowboat', 'rubber', 'rudely', 'ruining', 'ruling', 'runners', 'rv', 'sabotage', 'sacrifice', 'sadness', 'safest', 'sail', 'saint', 'sales', 'salon', 'salted', 'samples', 'sap', 'saturn', 'saucepan', 'saucer', 'sauerkraut', 'sausage', 'scenario', 'schizophrenic', 'schoolgirl', 'sclerosis', 'scolding', 'scorpions', 'scowling', 'scraped', 'screen', 'screenshot', 'sculptor', 'sculpture', 'seasonal', 'secretive', 'section', 'seed', 'seismologist', 'selected', 'seller', 'seminar', 'sendai', 'senses', 'sensing', 'separates', 'settlers', 'setup', 'seventeenth', 'sexist', 'shanghai', 'shaped', 'shareholder', 'shattered', 'sheer', 'shelves', 'shiny', 'shipped', 'shooed', 'shooter', 'shorts', 'shotgun', 'showers', 'shredded', 'shudder', 'shuddered', 'shyness', 'sidewalks', 'significantly', 'signify', 'similarities', 'simplest', 'sincerity', 'sinned', 'sins', 'sipped', 'sirius', 'sixth', 'sizing', 'skateboarding', 'skater', 'skates', 'skeleton', 'sketched', 'sketches', 'skimmed', 'slang', 'slender', 'slicing', 'sling', 'slit', 'slogan', 'smoothly', 'smug', 'sneaked', 'sneakers', 'sneezes', 'snob', 'snobbish', 'snooze', 'snowball', 'snowy', 'snuck', 'socialize', 'socket', 'softly', 'sonnets', 'sorcerer', 'sorrows', 'southern', 'souvenirs', 'spanned', 'spayed', 'specialist', 'specialize', 'specify', 'spectacle', 'spies', 'spill', 'spilt', 'spirited', 'sponsor', 'spooked', 'spooky', 'spoonful', 'spots', 'sputnik', 'squabbling', 'stables', 'staged', 'stages', 'stairwell', 'stale', 'stance', 'standards', 'stashed', 'stations', 'steaks', 'steer', 'steering', 'stem', 'stepdad', 'stepsister', 'stethoscope', 'stingy', 'stirred', 'stocks', 'storms', 'strainer', 'strapping', 'strenuous', 'stretcher', 'struggling', 'studio', 'stupidest', 'submit', 'subpoenaed', 'subscription', 'substances', 'subtitled', 'successfully', 'successive', 'suffocated', 'summarize', 'sunburned', 'sunflowers', 'sunk', 'supporters', 'supports', 'surf', 'surfboard', 'surprisingly', 'surrenders', 'surroundings', 'suspension', 'swans', 'swarm', 'swearing', 'sweated', 'sweaty', 'swell', 'swig', 'sworn', 'sydney', 'syllables', 'sympathetically', 'sympathize', 'sympathized', 'sync', 'synonymous', 'syrup', 'tab', 'tables', 'tac', 'tack', 'tadpoles', 'tame', 'tampered', 'tangerines', 'tapping', 'tasteless', 'taxis', 'teammate', 'teapot', 'telephones', 'tendonitis', 'teppanyaki', 'terrifying', 'tetanus', 'theaters', 'thermostat', 'thirties', 'thompson', 'thorn', 'thoroughly', 'threes', 'thrift', 'throbbing', 'throne', 'throws', 'thrust', 'thud', 'thug', 'thursdays', 'tic', 'tickled', 'tide', 'tidied', 'tidying', 'tiptoed', 'tiên', 'toddler', 'ton', 'tornado', 'tossed', 'toughest', 'trades', 'traditions', 'trafficking', 'trainees', 'traitors', 'transformed', 'traumatic', 'travelers', 'travelling', 'treason', 'treasures', 'trembling', 'tremendous', 'tremendously', 'trenchcoat', 'tribe', 'trifles', 'truce', 'trucker', 'tuesdays', 'tulips', 'turkish', 'turnip', 'twenties', 'twinkling', 'twist', 'tyrant', 'ukraine', 'unaccounted', 'unaccustomed', 'unanimous', 'unaware', 'uncertain', 'unclear', 'unconstitutional', 'underground', 'uneasily', 'unemotional', 'unesco', 'uneven', 'unforgivable', 'ungrateful', 'unicycle', 'unidentified', 'union', 'unison', 'unkind', 'unlike', 'unpack', 'unplugged', 'unpopular', 'unprepared', 'unsafe', 'unsatisfactory', 'untalented', 'untidy', 'untie', 'unto', 'unwanted', 'unzipped', 'updates', 'upload', 'user', 'ushered', 'utmost', 'veal', 'vegans', 'venetian', 'ventured', 'verb', 'verdict', 'verifiable', 'veteran', 'vetoed', 'vibrated', 'victorious', 'videogames', 'vienna', 'viewpoint', 'villa', 'violate', 'violet', 'violins', 'vip', 'virtue', 'visibly', 'visitor', 'vocational', 'voluntary', 'vomiting', 'voters', 'waiters', 'wales', 'warrant', 'wars', 'wart', 'washer', 'watchmen', 'watermelons', 'waters', 'wavelength', 'weakest', 'weeping', 'weirdest', 'welfare', 'wept', 'whimpering', 'whims', 'whistling', 'wholeheartedly', 'wholly', 'wicked', 'wiggle', 'willow', 'wimp', 'winds', 'wiper', 'wires', 'wisest', 'withholding', 'woozy', 'worlds', 'worsened', 'wrestling', 'wrinkled', 'wrinkles', 'wrung', 'yeast', 'youngsters', 'yukio', 'zealous', 'zinc', 'zucchinis', '’ve', '€', '...', '/', '00', '000', '0000', '0120', '1,000,000', '1,051', '1,800', '1.5v', '10.00', '110', '11:00', '12,000', '12th', '14080', '14th', '155', '1610', '1636', '1642', '165', '1683', '1700', '1764', '1776', '1797', '1799', '1801', '1812', '1825', '1845', '186,000', '1863', '187,888', '1876', '1881', '1893', '1896', '1899', '1903', '1906', '1921', '1923', '1927', '1929', '1933', '1935', '1936', '1940', '1941', '1943', '1946', '1952', '1954', '1955', '1956', '1958', '1961', '1964', '1970s', '1977', '1978', '1982', '1983', '1986', '1990s', '1:00', '1st', '2,500', '2001', '201', '2011', '2014', '2015', '215', '21st', '226', '229', '2600', '28', '2:00', '3,198', '3,776', '3.4', '30th', '33', '330', '333', '34', '35', '35,000', '38', '4,000', '40s', '42', '4:10', '4:30', '4th', '500,000', '529', '538', '55', '57', '573', '60,000', '63', '6322', '6:00', '6th', '75', '77.8', '800,000', '81', '828', '839', '85', '86,400', '88th', '89', '8:40', '95', '98', '9:15', '9:30', 'aaron', 'abandoning', 'abduct', 'abetting', 'ablaze', 'abnormal', 'abolish', 'abolition', 'abominable', 'abomination', 'aborted', 'aborting', 'abortion', 'abound', 'abruptness', 'abstain', 'abstentions', 'absurdly', 'abusing', 'abusive', 'ac', 'academically', 'accepts', 'accommodation', 'accommodations', 'accompaniment', 'accomplice', 'accomplices', 'accomplishment', 'accomplishments', 'accordion', 'accountants', 'accuracy', 'accurately', 'accusingly', 'ache', 'ached', 'aching', 'acid', 'acknowledgement', 'acquaint', 'acquaintances', 'acquisition', 'acquisitions', 'acquitted', 'acres', 'acrobat', 'activist', 'actresses', 'adams', 'adaptation', 'adapter', 'adapters', 'adapts', 'adding', 'adds', 'adequately', 'adhd', 'adhere', 'adherents', 'adjustment', 'adjustments', 'administrators', 'admiringly', 'admitting', 'adoption', 'adored', 'adultery', 'adversity', 'advertise', 'advisor', 'advisors', 'advocated', 'affably', 'affair', 'agitators', 'agreeable', 'aground', 'aha', 'aiding', 'aims', 'airbags', 'aires', 'airs', 'aisle', 'al', 'alarms', 'albums', 'alerted', 'algorithm', 'ali', 'alienated', 'allegation', 'allegations', 'alleviate', 'alliance', 'allied', 'alluded', 'alpacas', 'alphabets', 'altitude', 'altitudes', 'aluminum', 'amassed', 'amateurs', 'amazes', 'ambiguity', 'ambitions', 'ambulances', 'amend', 'amendment', 'amid', 'amiens', 'amnesia', 'amounted', 'amplifier', 'amuse', 'anagram', 'analgesic', 'analog', 'analyst', 'analytical', 'anatomy', 'ancestor', 'anchor', 'anchored', 'andes', 'andré', 'angkor', 'anglophobia', 'angrier', 'ankles', 'anna', 'annexed', 'anniversaries', 'announce', 'announcers', 'annually', 'anomaly', 'anonymity', 'anorexic', 'ant', 'anteaters', 'anthropology', 'anticipating', 'antidote', 'antimatter', 'antiquated', 'antonio', 'anvil', 'aphrodisiac', 'apnea', 'apollo', 'apparatus', 'appendix', 'appetizer', 'applaud', 'applauding', 'appliances', 'applicants', 'appreciation', 'appreciative', 'apprehended', 'approaches', 'approves', 'approximate', 'arabia', 'arabian', 'arabs', 'arbitrarily', 'arched', 'archer', 'arisen', 'aristotle', 'arizona', 'armenia', 'armpits', 'aroused', 'arrangement', 'arrangements', 'arresting', 'artery', 'arthur', 'artifact', 'arts', 'asem', 'asparagus', 'asphyxiation', 'aspire', 'aspires', 'assailant', 'assassin', 'assassination', 'assembly', 'assistants', 'assisted', 'association', 'asteroids', 'astonish', 'astonishing', 'astonishment', 'astrologer', 'astrophysicist', 'asymptomatic', 'atari', 'athletically', 'atlanta', 'atlas', 'atom', 'atrocious', 'atrocities', 'attach', 'attacking', 'attending', 'attends', 'attorneys', 'attributes', 'auckland', 'auction', 'audiobooks', 'auditioned', 'auditorium', 'auguste', 'austerity', 'authored', 'autobiographies', 'avail', 'avenged', 'avert', 'await', 'awaiting', 'awards', 'awning', 'babbling', 'babylon', 'backlit', 'backseat', 'backwardness', 'baffled', 'baited', 'balanced', 'baldness', 'ballerina', 'ballots', 'ballplayer', 'bandaged', 'bandana', 'bands', 'bang', 'bangkok', 'bangladesh', 'banished', 'bankers', 'bankruptcy', 'banner', 'bans', 'barbarians', 'barbaric', 'barbarous', 'barbecuing', 'barbells', 'barbeque', 'barging', 'baritone', 'barley', 'barred', 'barreled', 'barricaded', 'barton', 'basements', 'bases', 'bashful', 'basked', 'basking', 'bassinet', 'bathes', 'bathrobe', 'baths', 'battalion', 'batted', 'batting', 'battleship', 'bbc', 'beached', 'beaches', 'beachfront', 'beak', 'beam', 'beamed', 'bean', 'bearable', 'beards', 'beaters', 'beatle', 'bedridden', 'bedside', 'beehives', 'beeline', 'beeped', 'beetles', 'beets', 'beforehand', 'begging', 'beholder', 'belgrade', 'belief', 'beliefs', 'bells', 'bender', 'benign', 'benigni', 'benjamin', 'bern', 'berry', 'bestsellers', 'beverages', 'bicycled', 'bieber', 'biked', 'bikes', 'biking', 'billions', 'bin', 'binding', 'binge', 'biodegradable', 'birdie', 'birthmark', 'birthmarks', 'birthrates', 'bits', 'bitterness', 'blabbermouth', 'blackberries', 'blackboards', 'blackjack', 'blacks', 'blades', 'blanco', 'bland', 'blankly', 'blanks', 'blatant', 'blaze', 'bleach', 'bleached', 'bleachers', 'blender', 'blessing', 'blindfolded', 'blindness', 'blinker', 'bliss', 'bloggers', 'blondie', 'bloody', 'bloomed', 'blossomed', 'blotted', 'blouses', 'blowfish', 'blowtorch', 'blueberry', 'bluest', 'blurted', 'boardwalk', 'bodybuilder', 'bodybuilding', 'bodyguards', 'boggling', 'bolt', 'bombed', 'bombing', 'bonaparte', 'bond', 'booed', 'bookkeeper', 'bookkeeping', 'booklet', 'bookmarks', 'bookshelves', 'boomerang', 'booming', 'boot', 'booth', 'booze', 'borges', 'bornean', 'bosom', 'botany', 'botched', 'bottleneck', 'bottomless', 'boulder', 'bouncer', 'bouvet', 'bowing', 'bowler', 'boxing', 'boycott', 'boycotted', 'boyfriends', 'brace', 'brackets', 'brad', 'bradley', 'braille', 'bravery', 'breadcrumbs', 'breakable', 'breakup', 'breastfed', 'breathes', 'breathless', 'breaths', 'breeder', 'breeding', 'breeds', 'brewery', 'bribes', 'bricks', 'brig', 'brigade', 'brightened', 'brightens', 'brighter', 'brimming', 'brink', 'broadband', 'broadens', 'broader', 'broadway', 'broiled', 'brooch', 'brooms', 'bruised', 'brussels', 'bs', 'bubble', 'bucharest', 'buck', 'buckets', 'buckle', 'budapest', 'buenos', 'buff', 'buffaloes', 'bugle', \"bull's\", 'bullied', 'bullies', 'bulls', 'bumper', 'bungalow', 'bunk', 'bunny', 'bureau', 'bureaucrat', 'burgers', 'burglars', 'burglary', 'burp', 'burps', 'burr', 'burrs', 'burying', 'busboy', 'bushy', 'businesslike', 'bust', 'busted', 'busts', 'butt', 'buttered', 'bye', 'cabbage', 'cabinets', 'cabins', 'cables', 'cactus', 'caesar', 'café', 'cairo', 'calcium', 'calculate', 'calculated', 'calculating', 'calculation', 'calculations', 'calculus', 'calcutta', 'calibrated', 'cambodia', 'cameraman', 'camps', 'canals', 'canberra', 'candlelight', 'candlestick', 'cannibals', 'canoed', 'cantankerous', 'capitalised', 'capitalism', 'capitalized', 'cappella', 'caps', 'captivity', 'carbohydrates', 'carbonated', 'carburetor', 'cardboard', 'cardiology', 'caretaker', 'cargo', 'carjacking', 'carnivorous', 'caroling', 'carpets', 'carriage', 'carve', 'casino', 'cassava', 'casserole', 'casualty', 'catalina', 'catalog', 'catapult', 'catcher', 'caterpillars', 'catnip', 'cauliflower', 'causation', 'caution', 'caves', 'cavities', 'cayman', 'cease', 'ceased', 'ceasefire', 'ceilings', 'celebrities', 'cellmates', 'cellophane', 'cells', 'cellulite', 'census', 'centauri', 'centered', 'cents', 'cereals', 'ceremonies', 'cesspool', 'challenger', 'chamber', 'chameleon', 'chamomile', 'champ', 'chan', 'changeable', 'changer', 'channels', 'chaperone', 'chapped', 'characteristic', 'charcoal', 'charlemagne', 'charles', 'charlie', 'charmed', 'charts', 'chase', 'chases', 'chatterbox', 'cheaply', 'checkbox', 'cheerleading', 'cheers', 'cheesecake', 'cherish', 'chessboard', 'childlike', 'childrearing', 'chile', 'chimes', 'chimpanzees', 'chipped', 'chisel', 'chiseling', 'chlorine', 'choke', 'choosers', 'chooses', 'chop', 'chopin', 'choppy', 'chops', 'chore', 'chuckle', 'chuckling', 'chunk', 'cicada', 'cider', 'cinch', 'cinderella', 'circulated', 'circulates', 'cited', 'civility', 'civilization', 'civilizations', 'clad', 'clam', 'clap', 'claps', 'clara', 'clarification', 'clark', 'clashes', 'clasped', 'classifying', 'classy', 'claw', 'cleaners', 'clearance', 'clearer', 'clears', 'cleft', 'clenched', 'cleverest', 'climatic', 'clobbered', 'cloned', 'closets', 'cloudier', 'clove', 'cluck', 'clues', 'clump', 'clung', 'cluster', 'co', 'co2', 'coals', 'coasters', 'coasts', 'coated', 'coddling', 'codfish', 'coffin', 'coldest', 'collaborate', 'colombian', 'colonial', 'colonists', 'colonized', 'colorfully', 'column', 'columns', 'combat', 'combined', 'combing', 'combustion', 'comet', 'comets', 'comforted', 'comfy', 'comical', 'commanded', 'commendable', 'commentator', 'commerce', 'commitments', 'committing', 'commodity', 'commonly', 'commonwealth', 'commuters', 'companion', 'comparable', 'comparing', 'compartments', 'compassion', 'compassionate', 'compatible', 'compelled', 'compensated', 'competing', 'competitor', 'compiling', 'complacency', 'complacent', 'complainer', 'completing', 'completion', 'complicate', 'complimented', 'components', 'compost', 'comprehensive', 'compulsive', 'compulsory', 'computerized', 'comte', 'concealing', 'concentric', 'concepts', 'concertina', 'concerto', 'concertos', 'concession', 'conch', 'conclude', 'conclusive', 'concussion', 'condo', 'conductor', 'confer', 'conferences', 'confide', 'confidentiality', 'confidentially', 'confirmation', 'conflicting', 'conform', 'congo', 'congregation', 'congressional', 'congressman', 'conjunction', 'connect', 'connections', 'connects', 'conquered', 'conqueror', 'conscientious', 'conscripted', 'consequence', 'conservation', 'considerate', 'consisted', 'consolation', 'consoled', 'conspiracy', 'constellation', 'constructed', 'constructively', 'consumers', 'contained', 'containers', 'containing', 'contaminated', 'contemplated', 'contempt', 'contemptuously', 'contented', 'contents', 'continuing', 'contracted', 'contractor', 'contradiction', 'contradictory', 'contradicts', 'contrasts', 'contributes', 'controls', 'conventional', 'converse', 'convertible', 'convulsions', 'cookbook', 'cooker', 'cooled', 'cooler', 'coolidge', 'cooped', 'cooperated', 'copenhagen', 'copernicus', 'coping', 'copycat', 'copying', 'coral', 'cord', 'corny', 'corporal', 'corporations', 'corpse', 'corpus', 'correcting', 'corresponding', 'corridor', 'cosmetic', 'cosmetics', 'costing', 'coughs', 'council', 'county', 'couples', 'courses', 'courted', 'courthouse', 'cowered', 'coworker', 'coworkers', 'coyote', 'cpr', 'cracking', 'crafty', 'crammed', 'cramming', 'crashing', 'crater', 'craters', 'crates', 'craves', 'craving', 'creamy', 'crease', 'creates', 'creatively', 'credentials', 'credible', 'creditors', 'credits', 'creep', 'crestfallen', 'crick', 'cringed', 'crinkle', 'critic', 'critically', 'criticizes', 'criticizing', 'critics', 'crochet', 'crocodiles', 'croissants', 'crook', 'crossbow', 'crosses', 'crosswalks', 'crosswise', 'crowed', 'crowned', 'crows', 'crumbs', 'crumpled', 'crystal', 'cuban', 'cubed', 'cuckoo', 'cuddle', 'cuff', 'culmination', 'culprit', 'culprits', 'cultivate', 'cupcake', 'curb', 'cures', 'curfew', 'curie', 'currant', 'currants', 'currency', 'curses', 'cursing', 'cushioned', 'cushions', 'cutbacks', 'cuter', 'cutest', 'cyclist', 'cyclists', 'cyclone', 'czech', 'da', 'daffodil', 'daffodils', 'dahlias', 'daisies', 'dalton', 'damaging', 'dampen', 'dams', 'dancers', 'dandelions', 'dandruff', 'danes', 'dangerously', 'danish', 'danube', 'daredevil', 'darkened', 'darts', 'database', 'dauntless', 'daylights', 'deadlines', 'deathly', 'debatable', 'debating', 'debierne', 'debtors', 'decay', 'decaying', 'decays', 'deceit', 'decency', 'decides', 'deciphered', 'decisive', 'declaration', 'declines', 'declutter', 'decoded', 'decorations', 'decriminalized', 'dedication', 'deed', 'default', 'defeats', 'defends', 'deficit', 'defined', 'definite', 'definition', 'definitions', 'deforested', 'defuse', 'defused', 'delays', 'delicacies', 'delinquent', 'delivering', 'delude', 'delusional', 'demeaning', 'democrat', 'demolish', 'demolished', 'demon', 'demonstration', 'demonstrators', 'den', 'denial', 'density', 'dental', 'dented', 'departs', 'dependence', 'dependents', 'deployed', 'deposited', 'depp', 'deprivation', 'depth', 'deputy', 'deranged', 'dermatologist', 'desalination', 'descriptions', 'designate', 'designers', 'designs', 'desirable', 'desiring', 'desperation', 'despise', 'destroying', 'detachable', 'detect', 'detected', 'detention', 'deter', 'deteriorated', 'determine', 'determines', 'determining', 'devastating', 'devices', 'devious', 'devise', 'dew', 'dexterity', 'diagonal', 'dialect', 'dialog', 'diameters', 'diaries', 'dickens', 'dictated', 'dietary', 'differing', 'digest', 'digestion', 'digestive', 'diggers', 'digital', 'diligence', 'dim', 'diminishing', 'dimming', 'dinosaur', 'dioxin', 'diplomacy', 'diplomas', 'diplomats', 'dipper', 'dire', 'directors', 'dirt', 'dirtier', 'disability', 'disable', 'disagreeing', 'disappearances', 'disappointments', 'disapprove', 'disapproved', 'disassembled', 'disbeliever', 'disciples', 'discipline', 'disciplining', 'disclose', 'disclosure', 'discounts', 'discouraging', 'discovering', 'discovers', 'discrepancies', 'discusses', 'disgraced', 'disgraceful', 'disgruntled', 'disgusts', 'dishonor', 'disillusioned', 'disinfectant', 'disks', 'dismal', 'dismantle', 'disobey', 'display', 'displeasure', 'disposable', 'disposed', 'dispute', 'disrespect', 'disrupt', 'dissatisfaction', 'dissected', 'distances', 'distantly', 'distinctive', 'distinguished', 'distorted', 'distraction', 'distractions', 'distracts', 'distressed', 'distressing', 'distribute', 'disturbs', 'dived', 'diversify', 'divorcing', 'divulge', 'doc', 'docile', 'doctored', 'dodge', 'dodo', 'dodon', 'dome', 'domesticated', 'domination', 'domineering', 'dominos', 'donates', 'donation', 'doodling', 'doorman', 'dork', 'dose', 'dotted', 'dough', 'doughnut', 'dovetail', 'downed', 'downloads', 'downstream', 'drab', 'drafted', 'dragonfly', 'drained', 'draped', 'dreading', 'dreary', 'dressing', 'drier', 'drifted', 'drilled', 'drilling', 'drizzling', 'drooling', 'dropout', 'drummed', 'drummers', 'drumsticks', 'ds', 'dublin', 'duckling', 'duel', 'duet', 'duffel', 'duke', 'dumbo', 'dumpster', 'dungeons', 'duplicate', 'dustballs', 'dwarf', 'dwight', 'dyeing', 'dystrophy', 'eagerness', 'earful', 'earnest', 'earning', 'earthly', 'earthworm', 'eaves', 'ebay', 'echoed', 'ecological', 'economist', 'economists', 'edgy', 'editing', 'educator', 'educators', 'efficiently', 'egocentric', 'egotist', 'egyptian', 'egyptians', 'eisenhower', 'elbowed', 'elders', 'elegant', 'elements', 'elf', 'elicit', 'elitist', 'elk', 'elliptical', 'eloped', 'emanated', 'embers', 'embodied', 'embroider', 'embroidering', 'emeralds', 'emerged', 'emerging', 'eminent', 'emissions', 'emmet', 'emphasis', 'emphasize', 'emphasized', 'emphasizing', 'empire', 'employ', 'empowered', 'emts', 'emulation', 'enables', 'encore', 'encounter', 'encouragingly', 'encrypted', 'endings', 'endured', 'englishes', 'englishmen', 'enhancements', 'enhances', 'enlighten', 'enlightening', 'enroll', 'enrolled', 'entertained', 'enthusiastically', 'enticing', 'entrepreneurs', 'entries', 'entryway', 'environmentalist', 'epidemic', 'epileptic', 'equipped', 'equity', 'equivalent', 'er', 'eradicated', 'erasers', 'eri', 'eruption', 'erupts', 'escalators', 'escort', 'essays', 'essence', 'esteem', 'estrogen', 'ethiopia', 'ethiopian', 'ethnology', 'eulogy', 'euphemism', 'euphemistic', 'evaporated', 'evasion', 'evenings', 'evenly', 'everyday', 'evident', 'evolved', 'excavations', 'exceed', 'exceedingly', 'excels', 'excess', 'excessive', 'exchangeable', 'excluding', 'exclusive', 'excursion', 'execute', 'execution', 'executive', 'exerted', 'exes', 'exhale', 'exhaled', 'exhaustion', 'exhaustive', 'existing', 'exits', 'exonerated', 'expanded', 'expanding', 'expands', 'expel', 'explanatory', 'explicit', 'exploding', 'explorers', 'explosions', 'explosives', 'exponentially', 'exporting', 'expose', 'exposing', 'expressing', 'exterminate', 'extinguish', 'extinguished', 'extortion', 'extraterrestrials', 'extravagant', 'extremes', 'extroverts', 'eyed', 'eyelash', 'eyelids', 'eyeliner', 'eyepatch', 'eyewitnesses', 'f.', 'f9', 'fabrics', 'factual', 'faculty', 'fahrenheit', 'falcons', 'famished', 'fanatics', 'fanciest', 'fanned', 'faq', 'farmland', 'fart', 'farted', 'fascist', 'fastened', 'fathers', 'fathom', 'fats', 'fattening', 'favored', 'favoring', 'favourite', 'fears', 'feat', 'feather', 'feature', 'federal', 'fees', 'felon', 'feminist', 'fences', 'ferrari', 'fertile', 'fess', 'festive', 'feta', 'fetch', 'fetched', 'feudal', 'fiancé', 'fiasco', 'fiberglass', 'fiercely', 'fights', 'figs', 'filing', 'filters', 'fin', 'finals', 'finance', 'fingertip', 'finnish', 'fir', 'firefox', 'fisherman', 'fishermen', 'fishy', 'fission', 'fisted', 'fitness', 'fitting', 'fitzgerald', 'fixer', 'flamboyant', 'flammable', 'flap', 'flapped', 'flared', 'flashcards', 'flashy', 'flavio', 'flavors', 'flaw', 'flee', 'fleeing', 'flemish', 'flicked', 'flickered', 'flinging', 'flooding', 'floppy', 'florist', 'flossing', 'flourished', 'flowing', 'flunked', 'fluoxetine', 'flutes', 'flyer', 'foam', 'folder', 'folklore', 'folktales', 'follower', 'font', 'foolproof', 'foosball', 'footnote', 'forcibly', 'foretell', 'forge', 'forgiving', 'formula', 'forsake', 'forte', 'forties', 'fortitude', 'foul', 'founder', 'fourteenth', 'foward', 'fowls', 'fraction', 'fractions', 'frail', 'frame', 'framed', 'frames', 'frantic', 'fraud', 'fray', 'freaks', 'freaky', 'freelance', 'freelancer', 'freighter', 'frequency', 'fresher', 'freshwater', 'friction', 'friendlier', 'frightens', 'fringe', 'frizzy', 'frontier', 'frontman', 'frown', 'frowned', 'fruitless', 'frustrate', 'fulfill', 'fumbled', 'functional', 'functions', 'funded', 'fundraiser', 'funds', 'funerals', 'fungus', 'furnace', 'furnish', 'furnishing', 'furthermore', 'futile', 'gadget', 'gag', 'gait', 'galaxy', 'galleries', 'gallon', 'gamble', 'gandhi', 'garbo', 'gases', 'gasps', 'gastric', 'gated', 'gawking', 'gaze', 'gee', 'gelatine', 'gene', 'generated', 'generates', 'generosity', 'genetic', 'genocide', 'genocides', 'geology', 'george', 'germanic', 'germinate', 'geronimo', 'gesture', 'gestured', 'gestures', 'gibraltar', 'giddy', 'gif', 'gigabyte', 'gigantic', 'giggle', 'giggling', 'gigs', 'gills', 'ginger', 'gist', 'glaciers', 'glamorous', 'glee', 'glide', 'globalization', 'globe', 'gloomy', 'glow', 'glued', 'glum', 'gluttony', 'gnu', 'goalie', 'goatee', 'godchildren', 'goldfinch', 'gondola', 'gondolier', 'goof', 'goofy', 'goon', 'gop', 'gorilla', 'gossip', 'gothic', 'governed', 'governing', 'grace', 'gracious', 'gram', 'gramophone', 'grande', 'grandfathers', 'grandkids', 'grants', 'graph', 'graphs', 'grasped', 'grated', 'gratify', 'graveyard', 'graying', 'greenest', 'gregarious', 'greta', 'grid', 'grill', 'grilling', 'grim', 'grimaced', 'grinds', 'griping', 'gripped', 'grit', 'gritted', 'gritty', 'grizzly', 'groaned', 'groaning', 'groves', 'growl', 'grudge', 'grumbled', 'guano', 'guesser', 'guides', 'guillotine', 'gulls', 'gunfights', 'gunfire', 'gunman', 'gunpoint', 'gurney', 'guzmán', 'gymnasium', 'hack', 'hacker', 'hacking', 'haiku', 'hail', 'hailed', 'hailing', 'halal', 'haley', 'halfheartedly', 'halley', 'hallucinated', 'hallucinating', 'hallucinations', 'hallucinogenic', 'halt', 'halted', 'halves', 'hamlet', 'hammering', 'hammock', 'hamper', 'handcuff', 'handful', 'handgun', 'handheld', 'handicapped', 'handkerchiefs', 'handrail', 'handshake', 'hangers', 'hannibal', 'harboring', 'hardship', 'hardships', 'hare', 'harming', 'harms', 'harp', 'harry', 'hastings', 'hatch', 'haze', 'hazel', 'hdmi', 'headband', 'headlines', 'heal', 'healthcare', 'hears', 'heartbreaking', 'heartily', 'heartwarming', 'heaters', 'hedgehog', 'hedgehogs', 'heinous', 'heirs', 'helium', 'hellebrandt', 'helsinki', 'hemingway', 'hemisphere', 'hemoglobin', 'herd', 'hereditary', 'hermit', 'hermitage', 'heroic', 'hesitating', 'hexagon', 'hiccoughing', 'hick', 'hideous', 'hideout', 'highways', 'hiker', 'hills', 'hindu', 'hindus', 'hippie', 'hippo', 'hippopotami', 'hippopotamus', 'hippos', 'hipster', 'hires', 'hissing', 'hissy', 'hits', 'hoarding', 'holstein', 'homeschooled', 'honcho', 'honking', 'honorific', 'honshu', 'hoodie', 'hoop', 'hoover', 'hopelessly', 'hopped', 'hops', 'hopscotch', 'horizontal', 'hormone', 'hornet', 'horribly', 'horseman', 'horsemeat', 'horsepower', 'horseshoe', 'hosted', 'hotcakes', 'houdini', 'hourglass', 'housekeeper', 'howled', 'hugely', 'hugging', 'huh', 'hula', 'humankind', 'humidity', 'humorous', 'hunchback', 'hunchbacked', 'hundredth', 'hungary', 'hunk', 'hurdles', 'hurled', 'hustler', 'huts', 'hydrated', 'hymn', 'hyperactive', 'hyperventilating', 'hypnosis', 'hypnotist', 'hypochondriac', 'hypocrites', 'hysterically', 'h₂o', 'icecaps', 'iced', 'icing', 'icky', 'identification', 'identifying', 'idioms', 'idiosyncrasies', 'idol', 'igor', 'illogical', 'illustrator', 'imagery', 'imbecile', 'imf', 'imitated', 'immigrant', 'immunity', 'immunize', 'impacted', 'impartially', 'impeccable', 'imperative', 'impertinent', 'implement', 'implements', 'imply', 'impolitely', 'imposter', 'impostor', 'impounded', 'impracticable', 'impractical', 'impressionable', 'improper', 'impulses', 'inadequate', 'inadmissible', 'inattention', 'inbox', 'incalculable', 'incarceration', 'incessantly', 'inciting', 'inclination', 'incompetence', 'incompletely', 'incomprehensible', 'inconceivable', 'inconclusive', 'incorporated', 'incriminate', 'indifference', 'indigestion', 'indignant', 'indiscretions', 'indistinguishable', 'individualist', 'indonesia', 'inebriated', 'infallible', 'infatuated', 'infiltrated', 'inflammation', 'influenza', 'informally', 'informant', 'informer', 'informing', 'infuriated', 'ingenious', 'inheritance', 'inhibiting', 'inhumane', 'initialed', 'injustice', 'inland', 'inn', 'innate', 'innkeeper', 'innovative', 'inopportune', 'inquest', 'inquiries', 'inquisitive', 'insanity', 'insatiable', 'insecticides', 'inserted', 'insight', 'insightful', 'insistent', 'insolent', 'insoles', 'insoluble', 'inspect', 'inspects', 'installation', 'instinctive', 'instinctively', 'institutions', 'instruction', 'instrumental', 'insufferable', 'insufficient', 'insufficiently', 'insulate', 'insured', 'integral', 'intellectually', 'intelligible', 'intercom', 'interface', 'interfered', 'interim', 'interjection', 'interpret', 'interpretation', 'interrupts', 'intervals', 'interviews', 'intolerable', 'intrepidity', 'intrinsically', 'intrude', 'intrusion', 'intuitive', 'invalid', 'inventions', 'inventor', 'investigated', 'investigations', 'investigator', 'investigators', 'invitations', 'invoice', 'involuntarily', 'involuntary', 'invulnerable', 'inward', 'inwardly', 'ip', 'ireland', 'irene', 'irrefutable', 'irritates', 'irritating', 'irs', 'islamabad', 'isolationism', 'isopropyl', 'issued', 'istanbul', 'italians', 'italicized', 'iwo', 'jabber', 'jacked', 'jacuzzi', 'jams', 'java', 'jaywalking', 'jehovah', 'jerseys', 'jesuits', 'jew', 'jiffy', 'jima', 'jimmied', 'jock', 'johnny', 'joker', 'jolt', 'jolted', 'jorge', 'jotted', 'journalism', 'joystick', 'jr', 'judgement', 'judges', 'judgment', 'jug', 'jukebox', 'julius', 'jumpy', 'juries', 'justin', 'justly', 'juvenile', 'kagoshima', 'kebab', 'keener', 'kendo', 'keyboards', 'keyhole', 'khaki', 'kicking', 'kidnap', 'kidnappers', 'kilauea', 'kills', 'kilo', 'kilogram', 'kimchi', 'kin', 'kinder', 'kindred', 'kings', 'kinkakuji', 'kinshasa', 'kissinger', 'kleenex', 'kleptomaniac', 'knacks', 'kneeled', 'kneeling', 'knick', 'knifed', 'knighted', 'knitted', 'knuckles', 'koizumi', 'kph', 'kyushu', 'laced', 'lacking', 'lad', 'laden', 'ladle', 'lamb', 'landmasses', 'lands', 'landscape', 'lantern', 'lashed', 'latino', 'laughable', 'launching', 'laundering', 'launders', 'lavender', 'lavish', 'lawful', 'layer', 'lays', 'leaders', 'leafed', 'leaky', 'leash', 'ledge', 'leech', 'legalese', 'legendary', 'legends', 'legibly', 'legion', 'legislation', 'legitimate', 'lends', 'leonardo', 'lethargic', 'leukemia', 'lever', 'lewd', 'liable', 'libel', 'liberal', 'libra', 'libraries', 'licenses', 'licorice', 'lieutenant', 'lifeboats', 'lifeguards', 'lifesaver', 'lifesize', 'lifespan', 'lifetimes', 'lifted', 'ligament', 'lighted', 'lightheaded', 'lightly', 'lightyear', 'likeable', 'likelihood', 'limb', 'limbs', 'limitations', 'limousine', 'linked', 'links', 'linux', 'lisbon', 'listed', 'lists', 'liter', 'literacy', 'lithuania', 'littered', 'littering', 'lively', 'livid', 'liz', 'lobotomized', 'lobsters', 'locals', 'locate', 'lodged', 'logged', 'loggers', 'logging', 'logo', 'logs', 'loitering', 'loneliness', 'loner', 'longevity', 'looker', 'loot', 'loudspeaker', 'lousy', 'louvre', 'lover', 'lovesickness', 'lovingly', 'lowers', 'loyalty', 'lubed', 'lubricate', 'lucrative', 'luis', 'lumbered', 'lumberjack', 'lunatic', 'lust', 'luther', 'luxurious', 'lye', 'm.', 'macadamia', 'machinery', 'machu', 'macintosh', 'madagascar', 'madeira', 'madison', 'madman', 'maggots', 'magical', 'magnesium', 'magnetism', 'maharashtra', 'mailed', 'mailing', 'maintains', 'maintenance', 'majors', 'maker', 'malaysian', 'malls', 'malnourished', 'mammoths', 'managerial', 'manages', 'managing', 'manga', 'manicure', 'manipulate', 'manipulated', 'mannered', 'manslaughter', 'manuals', 'manufactured', 'manufacturer', 'manufacturing', 'maori', 'marble', 'marconi', 'margarine', 'margarita', 'marie', 'marigolds', 'marijuana', 'marker', 'marred', 'marshmallows', 'martin', 'marvels', 'maserati', 'masking', 'mastermind', 'mate', 'materialist', 'mates', 'mathematician', 'mauled', 'mauritania', 'maximized', 'mayan', 'maze', 'meager', 'meantime', 'meanwhile', 'meatloaf', 'meats', 'mechanical', 'mechanics', 'med', 'medic', 'medicated', 'meditation', 'mediterranean', 'medium', 'mehmed', 'memorizing', 'mentally', 'mentions', 'meowing', 'merit', 'merits', 'merlin', 'mermaids', 'merrier', 'mesmerized', 'mesopotamia', 'metabolism', 'metals', 'methodology', 'meticulous', 'mexicans', 'michael', 'microbiologist', 'microeconomics', 'micrometer', 'microorganisms', 'microphones', 'microsoft', 'miffed', 'migraines', 'mike', 'military', 'milking', 'milkshake', 'mill', 'millennia', 'miller', 'mina', 'minako', 'minding', 'mined', 'mini', 'mining', 'miniskirts', 'mink', 'minnesota', 'minorities', 'minority', 'misbehaves', 'mischief', 'mischievous', 'misdemeanor', 'miser', 'misfit', 'mislead', 'misplace', 'misplaced', 'misprints', 'mispronounces', 'missionary', 'mississippi', 'mister', 'mistyped', 'misunderstandings', 'mitigate', 'mittens', 'mixer', 'mixes', 'mixing', 'mixture', 'modem', 'moderating', 'modernize', 'mohammed', 'mohawk', 'molar', 'mold', 'moldova', 'monarchies', 'mongolia', 'monica', 'monumental', 'morality', 'morgue', 'mormons', 'mornings', 'morons', 'mortally', 'moslems', 'mosque', 'mosques', 'moth', 'motioned', 'motivate', 'motives', 'motley', 'motocross', 'motorcyclists', 'motorized', 'motto', 'mount', 'mountainous', 'mouthing', 'mouths', 'mucks', 'muffled', 'muffler', 'muhammad', 'mull', 'multilingual', 'multimedia', 'multiply', 'multiracial', 'mumbai', 'mumble', 'murky', 'murmured', 'muscular', 'musicologist', 'mustaches', 'musty', 'mute', 'mutt', 'mutually', 'muzzle', 'mysteriously', 'nachos', 'nagashima', 'nagoya', 'nailed', 'nailhead', 'naples', 'narrative', 'narrator', 'narrowly', 'nationalism', 'natives', 'natto', 'natured', 'naval', 'nda', 'neapolitan', 'nearer', 'necessity', 'neckties', 'needled', 'needless', 'neglects', 'negotiable', 'negotiated', 'neil', 'nerd', 'nero', 'nestled', 'network', 'neurologist', 'nevada', 'newest', 'nicotine', 'nigeria', 'nightgown', 'nightingale', 'nightlife', 'nineties', 'ninja', 'nintendo', 'ninth', 'nitty', 'no.11', 'noble', \"nobody'll\", 'nod', 'nondisclosure', 'nonessentials', 'nonfiction', 'nonplussed', 'nonsmokers', 'nonviolence', 'northwestern', 'norwegian', 'nosebleeds', 'noses', 'notable', 'noted', \"nothing'll\", 'nothings', 'notify', 'nouns', 'ntt', 'nudged', 'nuggets', 'numbs', 'nuns', 'nursery', 'nut', 'nutcracker', 'nutrients', 'nuzzled', 'o', 'oaks', 'oars', 'obeying', 'objectively', 'objectives', 'obscene', 'obsession', 'obsessive', 'obstacle', 'obstacles', 'obstructs', 'obtained', 'ocarina', 'occurs', 'oceanographer', 'octogenarian', 'oddball', 'odorless', 'offers', 'offices', 'officials', 'offish', 'offline', 'oftentimes', 'ohio', 'oilier', 'ointment', 'okinawa', 'okonomiyaki', 'okra', 'olds', 'omitted', 'oncology', 'opaque', 'openings', 'operas', 'operated', 'operations', 'operative', 'operator', 'opinionated', 'opium', 'opponents', 'opportune', 'opposing', 'opposites', 'oppressed', 'optimal', 'optometrist', 'oral', 'orangutans', 'orbits', 'organism', 'organizers', 'organizing', 'oriental', 'origami', 'originality', 'originals', 'orion', 'ornament', 'ornaments', 'orphans', 'osama', 'oscar', 'oslo', 'osteoporosis', 'ottawa', 'ouch', 'outage', 'outbreak', 'outcast', 'outdated', 'outdid', 'outdo', 'outer', 'outlawed', 'outlet', 'outlive', 'outlook', 'outmigration', 'outnumbered', 'outspoken', 'outwitted', 'ovarian', 'ovation', 'overactive', 'overall', 'overcoming', 'overdo', 'overdone', 'overestimated', 'overgrown', 'overhead', 'overhear', 'overheated', 'overheating', 'overjoyed', 'overlook', 'overlooks', 'overpackaged', 'overprotective', 'overqualified', 'overrated', 'overreacted', 'overripe', 'overs', 'overstayed', 'overstepped', 'overt', 'overtaken', 'overthink', 'overwatered', 'overwhelming', 'overworked', 'owing', 'ownership', 'oxford', 'ozone', 'p.', 'pacifist', 'packaged', 'paddies', 'paddle', 'paddling', 'pager', 'painstaking', 'paleontologist', 'palms', 'pals', 'pandemic', 'panicking', 'panoramic', 'pansies', 'paperweight', 'par', 'parachute', 'paraguay', 'parallels', 'paranormal', 'parasite', 'parentheses', 'parenthood', 'parody', 'paroled', 'partial', 'participating', 'participation', 'paste', 'pasteur', 'pastime', 'pastors', 'pathological', 'patrick', 'patriotism', 'patronage', 'patted', 'pause', 'paused', 'pavilion', 'paw', 'pawns', 'payback', 'paycheck', 'payroll', 'pbs', 'pdf', 'pea', 'peasant', 'pedal', 'peddler', 'pedestrian', 'pediatrician', 'peeling', 'peelings', 'peephole', 'peer', 'peeved', 'pelicans', 'pendulum', 'penniless', 'pentagram', 'peoples', 'pepped', 'pepperberg', 'pepsi', 'perceive', 'perceptive', 'perfection', 'performed', 'periodically', 'periods', 'perjured', 'perjury', 'perl', 'permeated', 'perpetual', 'perry', 'persimmon', 'pertaining', 'perth', 'pertinent', 'peru', 'peruvians', 'perverse', 'pestered', 'petersburg', 'petty', 'ph.d', 'phase', 'pheasants', 'phenomenal', 'phew', 'philosophies', 'phoenix', 'phony', 'photographed', 'picassos', 'picchu', 'picket', 'pickle', 'pickled', 'pickpocketed', 'piles', 'pilgrims', 'pillar', 'pillowcase', 'pinch', 'pine', 'pinhole', 'pinocchio', 'pioneer', 'pisa', 'pisces', 'pistachio', 'pitchers', 'pitching', 'pitt', 'pitted', 'placing', 'plagiarism', 'plagues', 'plankton', 'plastics', 'playlist', 'pleading', 'pled', 'plight', 'plotting', 'plugging', 'plugs', 'plummeted', 'plummeting', 'plums', 'plundered', 'plymouth', 'poacher', 'poisons', 'polar', 'policies', 'polio', 'politically', 'pollen', 'polls', 'polo', 'polygamy', 'polygraph', 'pontoons', 'pooch', 'poodle', 'popping', 'pops', 'popularity', 'positioning', 'possesses', 'possessions', 'possum', 'posthumously', 'postponing', 'potassium', 'potentially', 'potion', 'pottery', 'pounding', 'powdered', 'practitioner', 'prague', 'prawns', 'preach', 'preaches', 'preaching', 'predeceased', 'prediction', 'prefabricated', 'preface', 'prejudge', 'prejudiced', 'prejudices', 'premeditated', 'premier', 'premise', 'premonition', 'prepaid', 'prepositions', 'preschool', 'presentations', 'preserve', 'preserved', 'presume', 'prevailed', 'prevails', 'priceless', 'prides', 'pried', 'primarily', 'primes', 'printing', 'prior', 'prius', 'privileged', 'privileges', 'probable', 'procedures', 'procrastination', 'prodded', 'producers', 'proficient', 'profound', 'programmed', 'prolific', 'prolonged', 'prominent', 'promote', 'promoting', 'prompt', 'promptly', 'pronoun', 'pronounces', 'pronouns', 'pronunciations', 'proofreading', 'prophecy', 'proportion', 'proposals', 'proposing', 'proprietary', 'prosecution', 'prosecutor', 'prosper', 'prostate', 'protestant', 'prototype', 'protégé', 'proudly', 'proverbs', 'provides', 'provoking', 'proxima', 'prozac', 'prudently', 'pseudomyopia', 'pseudoscience', 'psych', 'psychics', 'psychologists', 'ptsd', 'publicly', 'pubs', 'puddle', 'puke', 'pumpkin', 'pumpkins', 'punctured', 'punk', 'puppet', 'puppets', 'puppies', 'purchases', 'purified', 'purist', 'purposely', 'pursued', 'pursuing', 'putt', 'puzzling', 'python', 'qaeda', 'quail', 'quake', 'quakers', 'qualifications', 'quandary', 'quart', 'quarters', 'questionnaire', 'queue', 'quicksilver', 'quietest', 'quilts', 'quotations', 'quoted', 'quoting', \"qur'an\", 'rabat', 'rabbi', 'rabid', 'racists', 'racoon', 'radioed', 'radiologist', 'rag', 'rage', 'raid', 'rail', 'railroads', 'railways', 'raindrops', 'rainforest', 'raked', 'raking', 'range', 'ransom', 'rap', 'rapt', 'rated', 'ratio', 'rationed', 'ravishing', 'rays', 'raúl', 'reachable', 'reagan', 'realities', 'realizes', 'realizing', 'realm', 'reap', 'rearranged', 'rearview', 'reasoning', 'reassure', 'reassuring', 'rebel', 'rebelled', 'reboot', 'reborn', 'receipts', 'receptionist', 'recess', 'rechargeable', 'recipients', 'recital', 'reckoned', 'recognised', 'recognizes', 'recollection', 'reconnect', 'recorder', 'recruiting', 'recyclable', 'recycled', 'recycling', 'redesign', 'redhead', 'rediscover', 'redone', 'reducing', 'reduction', 'reef', 'reeked', 'refilled', 'refined', 'reflect', 'reflexes', 'reform', 'reformat', 'reforms', 'refreshments', 'refrigerators', 'refugees', 'refurbished', 'refute', 'registering', 'regrettable', 'regulated', 'regulation', 'rehab', 'rehearsed', 'reinforce', 'reinstalled', 'relativity', 'relaxes', 'relies', 'relieving', 'relive', 'reload', 'reloaded', 'reloading', 'remainder', 'remington', 'remorse', 'remotely', 'remotes', 'remotest', 'removing', 'renaissance', 'renounced', 'renown', 'rental', 'renting', 'reopen', 'repaid', 'repaint', 'repays', 'repeatedly', 'repellent', 'repels', 'repent', 'replete', 'replica', 'reportedly', 'representative', 'reproduction', 'repulsed', 'repulses', 'rereading', 'rereads', 'researcher', 'resentful', 'reservations', 'reservoir', 'resident', 'resolutions', 'resolve', 'resorts', 'resounding', 'resourceful', 'respecting', 'respiratory', 'responsibly', 'restricts', 'rests', 'retaliate', 'retarded', 'retch', 'retrace', 'retreated', 'retrieve', 'reusable', 'revealing', 'reviewed', 'reviewing', 'revised', 'revolt', 'revolutionary', 'revolutions', 'revolver', 'rewound', 'rewriting', 'rewrote', 'rhinos', 'rhyme', 'rhythm', 'rider', 'ridge', 'rifles', 'rightful', 'rim', 'rimmed', 'rinse', 'rinsing', 'ripeness', 'riskier', 'rivals', 'roadside', 'roamed', 'roars', 'roasts', 'robert', 'rocker', 'rockets', 'rod', 'roflex', 'rokko', 'rollerblades', 'romanians', 'rooftop', 'roommates', 'roomy', 'rooster', 'roosters', 'rosetta', 'rosewood', 'rot', 'rovers', 'rsvp', 'ruby', 'rucksack', 'ruffles', 'rumbled', 'rummaged', 'rushing', 'russians', 'rustling', 's.', 'saber', 'sabotaged', 'saddle', 'sadly', 'sage', 'sahara', 'sailboat', 'sails', 'salami', 'salaries', 'salesperson', 'saloon', 'salsa', 'saltier', 'saltshaker', 'saluted', 'salvador', 'samba', 'samurais', 'sanctuary', 'sandbox', 'sandstorm', 'sandy', 'sanitizer', 'sash', 'sashimi', 'satin', 'satisfaction', 'satisfactorily', 'satisfying', 'saturated', 'saudi', 'sausages', 'savage', 'saves', 'savior', 'savor', 'sawmill', 'sax', 'scaffolding', 'scanner', 'scantily', 'scarce', 'scariest', 'scattered', 'scent', 'scented', 'scheming', 'schleswig', 'schooldays', 'schooling', 'scientifically', 'scoop', 'scoops', 'scorer', 'scoundrel', 'scoured', 'scrapbook', 'scraps', 'scrawny', 'screens', 'screenwriter', 'script', 'scripts', 'scriptwriter', 'scrolling', 'scrub', 'scrubbing', 'seacoast', 'seal', 'seals', 'seams', 'seamstress', 'seas', 'seasick', 'seasoned', 'seasoning', 'seating', 'seawater', 'secretaries', 'secular', 'sedative', 'seeking', 'seemingly', 'seize', 'selective', 'semifinals', 'senate', 'senator', 'sensational', 'separate', 'separating', 'sequel', 'serbia', 'sergeant', 'seriousness', 'sermon', 'serpent', 'serrated', 'servant', 'serving', 'session', 'settings', 'sewage', 'sewer', 'sewers', 'sews', 'sex', 'sexual', 'sfx', 'shabby', 'shack', 'shaker', 'shakes', 'shakyamuni', 'shalt', 'sham', 'shameful', 'sharkskin', 'sharpener', 'sharpest', 'shawl', 'shear', 'shears', 'shed', 'shell', 'shellfish', 'shelling', 'shells', 'shelters', 'shepherdess', 'shepherds', 'shichi', 'shifted', 'shifts', 'shigeo', 'shillings', 'shiloh', 'shin', 'shinano', 'shined', 'shines', 'shintaro', 'shipment', 'shipwreck', 'shiver', 'shivered', 'shivers', 'shoebox', 'shoehorn', 'shootout', 'shopped', 'shoppers', 'shortages', 'shortcomings', 'shortcuts', 'shortening', 'shortens', 'shortfall', 'shorthand', 'shovels', 'showa', 'shredder', 'shrieked', 'shrink', 'shrug', 'shrunk', 'shuffled', 'shuffler', 'shuttles', 'siamese', 'sicker', 'sidelines', 'siding', 'siesta', 'sighted', 'signatures', 'significance', 'silicon', 'silvery', 'sim', 'simultaneous', 'sinatra', 'sincerest', 'sinkhole', 'sinks', 'sinners', 'sinus', 'siren', 'sixteenth', 'sizes', 'skateboards', 'skated', 'skeptic', 'skeptics', 'sketch', 'sketching', 'skied', 'skillfully', 'skim', 'skimpy', 'skipping', 'skittish', 'skydiving', 'skype', 'skyrocketed', 'skyrocketing', 'slacking', 'slanted', 'slapping', 'slaughter', 'slavic', 'sled', 'sledding', 'sleepwalker', 'sleeved', 'slew', 'slide', 'sliding', 'slingshot', 'slipping', 'slips', 'slob', 'sloshed', 'sloth', 'slouched', 'slovakia', 'slovenia', 'sluggish', 'slugs', 'slum', 'slumber', 'slums', 'slurred', 'smack', 'smear', 'smelling', 'smirk', 'smoothed', 'sms', 'sneak', 'sniffle', 'sniper', 'snitch', 'snobby', 'snoozing', 'snowballs', 'snowboard', 'soaps', 'soapy', 'soaring', 'sobbing', 'sobered', 'socializing', 'sociological', 'sociologist', 'sociology', 'softer', 'soles', 'solitary', 'solitude', 'solo', 'solomon', 'solstice', 'solves', 'sonata', 'sone', 'songwriters', 'soothed', 'sophomores', 'sorority', 'soundtrack', 'southerners', 'southwestern', 'soviet', 'sow', 'soy', 'soybeans', 'spades', 'spam', 'span', 'spans', 'spared', 'spares', 'spark', 'sparks', 'sparrow', 'spatter', 'speciality', 'specialized', 'specifics', 'spectator', 'spectators', 'speculating', 'speculation', 'speeding', 'speedometer', 'speeds', 'speedy', 'sphere', 'spied', 'spike', 'spinal', 'spine', 'spinning', 'spire', 'splatter', 'splendid', 'spoiling', 'spoilt', 'sponsored', 'sponsors', 'spookiest', 'spool', 'sportsman', 'spotless', 'spouse', 'spouses', 'sprang', 'spray', 'spreading', 'spreads', 'springs', 'sprinkle', 'sprinkler', 'sprinted', 'spur', 'squad', 'squared', 'squatting', 'squaw', 'squeaked', 'squeaks', 'squinted', 'squints', 'squirt', 'squish', 'ssh', 'st', 'stabilize', 'stagnant', 'stainless', 'staircase', 'stakes', 'stammered', 'stammers', 'standardization', 'standoffish', 'starry', 'starters', 'statements', 'statesman', 'stating', 'statistics', 'steeper', 'steered', 'stemmed', 'stems', 'stenography', 'stepchild', 'stepchildren', 'stepdaughter', 'stephen', 'stepparents', 'stereotype', 'stern', 'sticker', 'stickers', 'sticks', 'stiffly', 'stimulating', 'stimulation', 'stingiest', 'stinging', 'stinking', 'stir', 'stirring', 'stitches', 'stockholm', 'stocking', 'stockroom', 'stomp', 'stomped', 'stools', 'stooped', 'stopgap', 'stopper', 'stopwatch', 'storage', 'stored', 'stormy', 'strained', 'stranded', 'strategies', 'streak', 'strengthen', 'strengthens', 'strengths', 'stretches', 'strewn', 'striking', 'strips', 'striving', 'stroganoff', 'stroll', 'stroller', 'structural', 'struggles', 'studious', 'stumbling', 'stump', 'stunning', 'stuntman', 'stutter', 'stuttered', 'stuttering', 'stutters', 'stylish', 'subjective', 'subscribed', 'subscribers', 'subsidy', 'substance', 'substitution', 'subtle', 'successes', 'succumbed', 'suck', 'sucks', 'suffocate', 'suffocating', 'suicidal', 'suing', 'sullen', 'sumatra', 'summers', 'summertime', 'summit', 'sunbathe', 'sunbathed', 'sunbathing', 'sunblock', 'suntan', 'superhero', 'superiority', 'superiors', 'superman', 'supermarkets', 'superstar', 'superstition', 'supervise', 'supervised', 'supervises', 'supervising', 'supervision', 'supplements', 'supposedly', 'supposition', 'surreal', 'surveys', 'susceptible', 'suspecting', 'suspenders', 'suspicion', 'suspiciously', 'sustained', 'suv', 'swallows', 'swamp', 'swan', 'sway', 'sweaters', 'sweats', 'sweetener', 'sweetheart', 'sweltering', 'switching', 'swum', 'symbolizes', 'symmetrical', 'sympathies', 'symphonies', 'synagogue', 'synchronize', 'syringe', 'systems', 'tackle', 'tactful', 'tactics', 'tad', 'tahiti', 'taillight', 'taipan', 'taiwan', 'takeoff', 'takeout', 'talat', 'tamed', 'tangerine', 'tanning', 'tantalize', 'tanzania', 'tapes', 'targets', 'tariff', 'tarp', 'tasked', 'tasmania', 'tasting', 'tatoeba.org', 'taxable', 'tchaikovsky', 'teacups', 'teammates', 'teaser', 'teases', 'teaspoons', 'technique', 'technological', 'teddy', 'teeming', 'teenage', 'teens', 'teetering', 'telecommunications', 'telegraph', 'televised', 'teller', 'temperatures', 'tempered', 'temporarily', 'tempt', 'tempting', 'tenants', 'tended', 'tendinitis', 'tenor', 'tensed', 'tenure', 'terminated', 'terminator', 'territorial', 'terrorism', 'terrorist', 'testament', 'thames', 'thankful', 'theoretical', 'theoretically', 'thereafter', 'thereby', 'thicknesses', 'thimble', 'thirtyish', 'thomas', 'thornless', 'thou', 'threadbare', 'threshold', 'thrill', 'thrills', 'thumper', 'thundering', 'thwart', 'ticked', 'ticketed', 'ticking', 'tickles', 'tides', 'tighten', 'tightrope', 'tiles', 'tilt', 'timekeeper', 'timer', 'timetable', 'tinder', 'tines', 'tiniest', 'tiresome', 'titan', 'titicaca', 'tobacco', 'tolerated', 'tomb', 'toolkit', 'toothed', 'toothpick', 'topping', 'tops', 'torment', 'tormented', 'tornadoes', 'torpedo', 'torpedoed', 'torturing', 'toudaiji', 'tougher', 'tourniquet', 'towada', 'towers', 'townspeople', 'toyota', 'traces', 'tracking', 'tract', 'trainee', 'trample', 'trampled', 'trance', 'tranquilizer', 'trans', 'transcends', 'transfixed', 'transit', 'transition', 'translates', 'translators', 'translucent', 'transmit', 'transmits', 'transplants', 'transylvania', 'trauma', 'traumatized', 'tread', 'treadmill', 'treasurer', 'treasury', 'treatments', 'treehouse', 'tremble', 'trench', 'trend', 'trends', 'tribes', 'tributaries', 'tribute', 'trimmers', 'trimming', 'tripled', 'triumph', 'trivial', 'trophies', 'tropics', 'trotted', 'truffles', 'trunks', 'truthfully', 'truths', 'tryouts', 'tsunamis', 'tubes', 'tug', 'tummy', 'tumor', 'tuning', 'turbulence', 'turf', 'turks', 'turner', 'tusk', 'tweezers', 'twig', 'twine', 'twister', 'twisting', 'twists', 'typhoid', 'typo', 'typos', 'u.n', 'ufos', 'ugliness', 'ukulele', 'ulaanbaatar', 'un', 'unaided', 'unanimously', 'unannounced', 'unappreciated', 'unapproachable', 'unarmed', 'unattended', 'unbuckled', 'unclogged', 'uncommunicative', 'unconditional', 'unconsciously', 'uncontrollably', 'unconvincing', 'uncorrupted', 'uncrossed', 'undefeated', 'undeniably', 'undependable', 'underestimating', 'underlined', 'underpaid', 'undertook', 'undeveloped', 'undisciplined', 'undocumented', 'undue', 'unearthly', 'unfasten', 'unfriendly', 'unhappiness', 'unhindered', 'unintended', 'unintentional', 'uninvited', 'unlawful', 'unmade', 'unmistakable', 'unmotivated', 'unnatural', 'unneeded', 'unoccupied', 'unopened', 'unorthodox', 'unpacked', 'unparalleled', 'unprofessional', 'unqualified', 'unreadable', 'unreal', 'unrealistic', 'unrelated', 'unrest', 'unsaid', 'unsatisfied', 'unsavory', 'unscrew', 'unscrewed', 'unstable', 'unsteady', 'unsubscribe', 'unsympathetic', 'unwelcome', 'unwell', 'unwrap', 'upper', 'upsetting', 'upstream', 'uptight', 'uranium', 'urchins', 'urges', 'usage', 'users', 'usp', 'ussr', 'utah', 'utilize', 'utilized', 'utilizes', 'vacancies', 'vacancy', 'vaccinations', 'vaccine', 'vacuumed', 'vaguely', 'valet', 'valuables', 'valuing', 'vampire', 'vaporizes', 'variable', 'variants', 'varies', 'vast', 'vcr', 'veered', 'vegetation', 'veil', 'venezuela', 'vengeance', 'venomous', 'venture', 'venue', 'veranda', 'verbalizing', 'verbally', 'verified', 'versa', 'verse', 'verses', 'vertical', 'vessel', 'veterans', 'veterinarians', 'via', 'viability', 'vibe', 'vicar', 'vices', 'vicious', 'vicksburg', 'vietnam', 'viewed', 'vigilant', 'vigorous', 'vikings', 'vile', 'villages', 'villain', 'vinci', 'vinegar', 'vintage', 'viola', 'violas', 'violators', 'viracopos', 'virgin', 'virtual', 'virtues', 'viruses', 'visibility', 'visual', 'vividly', 'vocalist', 'vocation', 'vomit', 'voter', 'wada', 'waffles', 'wagged', 'waikiki', 'waitresses', 'walker', 'ward', 'warsaw', 'wary', 'washroom', 'wasps', 'wasteful', 'wastes', 'wat', 'watchdog', 'watercolors', 'waterloo', 'waterpark', 'wavy', 'waxed', 'weakening', 'weakling', 'wealthiest', 'weary', 'weasel', 'weaving', 'webs', 'wedged', 'weighing', 'weightlifting', 'wets', 'wheels', 'whet', 'whiff', 'whipped', 'whispering', 'whoopee', 'widened', 'wider', 'wield', 'wifi', 'wiggled', 'wikipedia', 'wildlife', 'wildly', 'willed', 'wilting', 'winced', 'winded', 'windmill', 'windmills', 'windowless', 'wines', 'wingspan', 'wiping', 'wired', 'wishing', 'wit', 'witches', 'withdraw', 'withdrew', 'witted', 'wizard', 'woodcutter', 'workable', 'workdays', 'workshop', 'workstation', 'worship', 'worships', 'wraps', 'wreath', 'wrestlers', 'wright', 'wring', 'wringing', 'wristwatch', 'writings', 'wrongdoing', 'x.', 'xylophone', 'yachts', 'yakking', 'yards', 'yiddish', 'yielded', 'yields', 'yokohama', 'yorker', 'youngster', 'yukawa', 'yuri', 'zappa', 'zapped', 'zeros', 'zezo', 'zhengzhou', 'zigzagged', 'zombie', 'zombies', 'zone', 'zugspitze', 'zulu']\n",
            "['<unk>', '<pad>', '<bos>', '<eos>', '.', 'tom', 'que', 'o', 'não', 'eu', '?', 'de', 'a', 'você', 'é', 'um', 'isso', 'está', 'para', ',', 'com', 'por', 'em', 'ele', 'me', 'uma', 'se', 'fazer', 'muito', 'mary', 'do', 'mais', 'estava', 'no', 'estou', 'na', 'e', 'tem', 'foi', 'nós', 'os', 'vocês', 'meu', 'da', 'ela', 'as', 'disse', 'aqui', 'vai', 'tenho', 'seu', 'quero', 'acho', 'como', 'casa', 'minha', 'sei', 'sua', 'te', 'quer', 'vou', 'quando', 'ainda', 'ir', 'quem', 'boston', 'ao', 'à', 'eles', 'pode', 'já', 'francês', 'sabe', 'estão', 'são', 'ser', 'onde', 'tempo', 'posso', 'queria', 'era', 'bem', 'há', 'maria', 'sou', 'ter', 'nunca', 'todos', 'nada', 'este', 'falar', '!', 'agora', 'favor', 'esta', 'hoje', 'sabia', 'ninguém', 'tudo', 'nos', 'tão', 'sobre', 'mim', 'gosto', 'fez', 'carro', 'quanto', 'vamos', 'gosta', 'isto', 'deveria', 'coisa', 'estar', 'três', '\"', 'melhor', 'parece', 'gostaria', 'lá', 'tinha', 'preciso', 'todo', 'esse', 'dele', 'ficar', 'bom', 'só', 'dinheiro', 'mas', 'sempre', 'noite', 'dizer', 'dia', 'livro', 'novo', 'qual', 'precisa', 'pouco', 'pessoas', 'essa', 'vez', 'ajudar', 'algo', 'ver', 'anos', 'mesmo', 'estamos', 'temos', 'trabalho', 'ontem', 'amanhã', 'austrália', 'certeza', 'acha', 'alguém', 'realmente', 'espero', 'poderia', 'comer', 'mundo', 'seus', 'alguma', 'fazendo', 'verdade', 'tu', 'escola', 'feliz', 'antes', 'até', 'pai', 'faz', 'elas', 'comigo', 'sozinho', 'meus', 'saber', 'cachorro', 'comprar', 'assim', 'fui', 'sem', 'às', 'aquilo', 'coisas', 'nome', 'aconteceu', 'disso', 'porta', 'dos', 'semana', 'ou', 'quase', 'pelo', 'também', 'nem', 'mãe', 'lhe', 'deve', 'tarde', 'amigos', 'hora', 'horas', 'demais', 'café', 'vida', 'estavam', 'problema', 'ficou', 'sair', 'ajuda', 'dias', 'será', 'lugar', 'medo', 'pensei', 'têm', 'podemos', 'vi', 'manhã', 'dois', 'fora', 'difícil', 'das', 'ideia', 'muitas', 'faça', 'feito', 'consigo', 'quarto', 'pela', 'comprou', 'precisamos', 'vezes', 'grande', 'seja', 'algumas', 'apenas', 'somos', 'cedo', 'crianças', 'esperar', 'homem', 'boa', 'dar', 'professor', 'nosso', 'errado', 'deu', 'filhos', 'inglês', 'trabalhar', 'ônibus', 'festa', 'contar', 'fiz', 'muitos', 'ano', 'viu', 'aquele', 'pais', 'gente', 'todas', 'esperando', 'ocupado', 'diz', 'conheço', 'água', 'fala', 'suas', 'depois', 'pessoa', 'estudar', 'foram', 'irmão', 'vir', 'encontrar', 'ler', 'fosse', 'voltar', 'música', 'amigo', 'vão', 'havia', 'duas', 'alguns', 'comida', 'tenha', 'cansado', 'chegar', 'mesa', 'diga', 'provavelmente', 'livros', 'nadar', 'tanto', 'mora', 'senhor', 'juntos', 'outro', 'parecia', 'dela', 'rápido', 'nossa', 'talvez', 'cidade', 'fácil', 'senhora', 'falando', 'família', 'certo', 'começou', 'algum', 'sinto', 'vem', 'tentando', 'toda', 'deixar', 'pediu', 'aprender', 'porque', 'obrigado', 'fica', 'nenhum', 'jogar', 'daqui', 'dormir', 'teve', 'menos', 'muita', 'sala', 'vá', 'filme', 'outra', 'querem', 'minhas', 'embora', 'bastante', 'velho', 'perto', 'sabem', 'atrás', 'esteja', 'filho', 'quantos', 'nova', 'suficiente', 'seria', 'consegue', 'fique', 'tive', 'tipo', 'trem', 'gato', 'irmã', 'jantar', 'primeiro', 'carta', 'morreu', 'passado', 'mesma', 'teu', 'conta', 'pergunto', 'único', 'pergunta', 'telefone', 'veio', 'cama', 'conhece', 'deixou', 'fome', 'médico', 'tomar', 'ouvi', 'história', 'tentou', 'qualquer', 'podem', 'chegou', 'mal', 'faria', 'fiquei', 'mulher', 'tentar', 'parar', 'indo', 'novamente', 'acontecer', 'comprei', 'importante', 'alto', 'passada', 'precisava', 'usar', 'deixe', 'quantas', 'bicicleta', 'volta', 'quiser', 'parte', 'perguntou', 'procurando', 'pronto', 'entrar', 'esposa', 'ouvir', 'tua', 'conosco', 'devo', 'pegar', 'contou', 'aquela', 'queremos', 'achei', 'dormindo', 'plano', 'preocupado', 'gostam', 'vinho', 'emprego', 'és', 'última', 'perder', 'polícia', 'aos', 'criança', 'jogo', 'pensar', 'reunião', 'estação', 'mudar', 'usando', 'janela', 'jovem', 'acidente', 'caixa', 'pedir', 'logo', 'senhoras', 'então', 'conseguiu', 'doente', 'erro', 'ia', 'primeira', 'canadense', 'perguntas', 'começar', 'deveríamos', 'achava', 'conversar', 'importa', 'dez', 'senhores', 'cara', 'estás', 'perdeu', 'trabalha', 'comeu', 'enquanto', 'interessante', 'frio', 'acredito', 'minutos', 'problemas', 'aniversário', 'bolo', 'carne', 'próximo', 'hospital', 'nisso', 'lado', 'próxima', 'aula', 'esqueci', 'foto', 'olhos', 'john', 'momento', 'dólares', 'trinta', 'encontrei', 'pagar', 'resposta', 'mês', 'filha', 'num', 'saiu', 'tênis', 'mão', 'possível', 'desde', 'iria', 'maneira', 'tocar', 'vejo', 'acontecendo', 'caminho', 'cantar', 'exatamente', 'passar', 'cabelo', 'entre', 'estávamos', 'maior', 'outubro', 'sido', 'escritório', 'escrever', 'frente', 'idade', 'possa', 'venha', 'verão', 'restaurante', 'irá', 'neste', 'acabou', 'país', 'dor', 'passou', 'presente', 'longe', 'sapatos', 'quente', 'cuidado', 'fim', 'sendo', 'nenhuma', 'sozinha', 'amo', 'encontrou', 'bonita', 'chave', 'futebol', 'leite', 'morar', 'sabemos', 'dentro', 'dirigir', 'japão', 'deles', 'estará', 'cerveja', 'durante', 'ligar', 'adoro', 'costumava', 'estranho', 'essas', 'pensa', 'praia', 'deixe-me', 'faço', 'rico', 'andar', 'contigo', 'parque', 'forte', 'cinco', 'escolha', 'pare', 'atrasado', 'perdi', 'rua', 'pegou', 'teria', 'avião', 'mãos', 'única', 'aí', 'brincando', 'menino', 'visitar', 'quis', 'capaz', 'namorada', 'podia', 'acreditar', 'beber', 'surpreso', 'tivesse', 'tv', 'deste', 'natal', 'chapéu', 'odeio', 'abrir', 'atenção', 'colocou', 'falta', 'gostava', 'meio', 'cabeça', 'segunda-feira', 'trabalhando', 'casar', 'dê', 'esses', 'número', 'sim', 'biblioteca', 'esteve', 'ganhar', 'numa', 'viver', 'camisa', 'entender', 'palavra', 'tirou', 'chance', 'jeito', 'pensando', 'falou', 'devemos', 'esperava', 'ficando', 'outros', 'devia', 'loja', 'relógio', 'vontade', 'dá', 'escreveu', 'piano', 'terminar', 'carteira', 'desse', 'gostou', 'língua', 'acordado', 'estivesse', 'levar', 'televisão', 'visto', 'dicionário', 'eram', 'hotel', 'poder', 'precisar', 'pé', 'ambos', 'computador', 'estes', 'chá', 'entendo', 'estas', 'pedi', 'forma', 'ouviu', 'planejando', 'chover', 'dizendo', 'fizeram', 'gostei', 'ama', 'esqueça', 'fale', 'imediatamente', 'interessado', 'lista', 'nesta', 'prefiro', 'razão', 'achou', 'comendo', 'guarda-chuva', 'jamais', 'sorte', 'entrou', 'saiba', 'seguro', 'árvore', 'fotos', 'inteligente', 'morrer', 'come', 'dessa', 'vestido', 'flores', 'lembro', 'precisam', 'finalmente', 'fumar', 'sentar', 'bravo', 'consegui', 'farei', 'ajudou', 'chorar', 'cima', 'estive', 'gostar', 'professora', 'segunda', 'banco', 'fizesse', 'parou', 'respeito', 'tentei', 'abriu', 'aonde', 'rio', 'tirar', 'estiver', 'irei', 'responder', 'óculos', 'desta', 'estudando', 'sono', 'decidiu', 'erros', 'viagem', 'bebê', 'levou', 'quais', 'terminou', 'sentindo', 'copo', 'cozinha', 'caiu', 'explicar', 'favorito', 'férias', 'garota', 'legal', 'tente', 'assistir', 'jardim', 'querer', 'roupas', 'nas', 'fizemos', 'assunto', 'espera', 'homens', 'peixe', 'situação', 'fomos', 'nossos', 'pena', 'ruim', 'estarei', 'aberta', 'ali', 'cada', 'garoto', 'maçã', 'mentindo', 'nasceu', 'perguntar', 'tivemos', 'gatos', 'lembrar', 'lendo', 'quebrou', 'vindo', '20', 'meses', 'mulheres', 'prova', 'chuva', 'completamente', 'pão', 'avô', 'azul', 'fazê-lo', 'tomás', 'voltou', 'breve', 'fogo', 'ponto', 'vencer', 'viajar', 'bonito', 'mudou', 'opinião', 'partir', 'pensou', 'trouxe', 'acredita', 'casado', 'espere', 'sequer', 'certa', 'chão', 'felizes', 'palavras', 'peso', 'sol', 'vivo', 'último', 'banho', 'caro', 'deixei', 'descobrir', 'disseram', 'leu', 'vós', 'casaco', 'dançar', 'divertido', 'frequentemente', 'ligou', 'livre', 'triste', 'xadrez', 'almoço', 'cheguei', 'seis', 'conseguia', 'câmera', 'dito', 'tens', 'lembra', 'mostrar', 'nervoso', 'usa', 'várias', 'correr', 'estaria', 'frequência', 'perigoso', 'si', 'amor', 'consertar', 'motorista', 'acabei', 'advogado', 'nessa', 'sentado', 'quê', 'aprendeu', 'açúcar', 'conseguir', 'deixa', 'li', 'pensava', 'sente', 'falo', 'luz', 'menina', 'mensagem', 'moro', 'olhe', 'roubou', 'comi', 'direito', 'neve', 'xícara', 'ajudá-lo', 'guerra', 'sabes', 'time', 'cor', 'culpa', 'geralmente', 'pescar', 'cadeira', 'ficará', 'vendo', 'conheci', 'conselho', 'decisão', 'dei', 'falei', 'pequeno', 'queres', 'velha', 'estudantes', 'naquela', 'ovos', 'pra', 'raiva', 'ti', 'táxi', 'esqueceu', 'prometeu', 'raramente', 'virá', 'adora', 'causa', 'entende', 'lavar', 'maioria', 'papel', 'pior', 'chaves', 'diferente', 'duro', 'fará', 'quatro', 'sonho', 'confiar', 'ensinar', 'simplesmente', 'claro', 'ensinou', 'esquecer', 'estados', 'marido', 'apartamento', 'faca', 'bêbado', 'dever', 'idiomas', 'meia', 'morte', 'pude', 'sério', 'terá', 'cachorros', 'celular', 'ganhou', 'louco', 'olhou', 'perguntei', 'barulho', 'engraçado', 'pequena', 'unidos', 'alunos', 'custa', 'decidi', 'estudante', 'violão', 'ótimo', 'animais', 'cavalo', 'conte', 'própria', 'sentido', 'sentir', 'beisebol', 'irmãos', 'ocupada', 'significa', 'olha', 'chamar', 'namorado', 'segredo', 'conhecer', 'contra', 'dizem', 'escuro', 'maçãs', 'minuto', 'nesse', 'regras', 'tio', 'brincar', 'coração', 'saudades', 'teste', 'voo', 'acontece', 'entendi', 'fazem', 'fico', 'igreja', 'permissão', 'roupa', 'saia', 'tal', 'vê-lo', 'ajude', 'cerca', 'favorita', 'ido', 'morto', 'normalmente', 'olhando', 'parecem', 'preso', 'arma', 'branco', 'classe', 'experiência', 'jogando', 'passei', 'rádio', 'acordo', 'amiga', 'chorando', 'idiota', 'manter', 'outras', 'bolsa', 'canadenses', 'caneta', 'endereço', 'ficaria', 'mau', 'perdido', 'semanas', 'senti', 'chefe', 'cinema', 'cozinhar', 'melhores', 'moram', 'necessário', 'sucesso', 'veja', 'acostumado', 'casamento', 'vale', 'voz', 'acham', 'alta', 'concordo', 'demitido', 'lápis', 'penso', 'pôde', 'terminei', 'tomou', 'trazer', 'vista', 'vários', 'apaixonado', 'devagar', 'ficaram', 'golfe', 'aprendi', 'pizza', 'aulas', 'bons', 'deveriam', 'discutir', 'gravata', 'matar', 'morava', 'planeja', 'sangue', 'aeroporto', 'braço', 'calor', 'cheio', 'coloque', 'comum', 'diferentes', 'divertindo', 'duvido', 'navio', 'obrigada', 'pedaço', 'podes', 'existe', 'funciona', 'impossível', 'perna', 'rapidamente', 'rir', 'satisfeito', 'aconteça', 'levantar', 'lidar', 'línguas', 'notícias', 'ponte', 'sete', 'sopa', 'banheiro', 'estúpido', 'perigo', 'planos', 'vim', 'chateado', 'diferença', 'ensino', 'limpar', 'paz', 'perfeito', 'piada', '2:30', 'exterior', 'ficarei', 'naquele', 'orgulhoso', 'pressa', 'surpresa', 'vermelho', 'baixo', 'desculpe', 'falam', 'futuro', 'inteira', 'inverno', 'jornal', 'linda', 'nossas', 'passa', 'sofá', 'almoçar', 'bebe', 'cansada', 'cartas', 'continuar', 'céu', 'dê-me', 'esperou', 'mostrou', 'pagou', 'resolver', 'saúde', 'boca', 'chamou', 'ficamos', 'inteiro', 'toma', 'treze', 'joga', 'odeia', 'preto', 'prédio', 'sorvete', '2013', 'conhecia', 'debaixo', 'monte', 'tímido', 'zoológico', 'achar', 'bola', 'caso', 'começa', 'ocupados', 'queira', 'suspeito', 'vestindo', 'acordar', 'bairro', 'conhecem', 'domingo', 'houve', 'mentiu', 'supermercado', 'compras', 'convencer', 'desculpas', 'desistir', 'leve', 'preço', 'show', 'bebeu', 'contei', 'honesto', 'iremos', 'matou', 'peguei', 'próprio', 'tornar', 'ar', 'chama', 'chovendo', 'disposto', 'funcionar', 'garrafa', 'preocupar', 'propósito', 'seguir', 'trás', 'cego', 'comecei', 'confuso', 'devem', 'diga-me', 'jogou', 'olho', 'soube', 'vimos', 'voltarei', 'volte', 'zangado', 'cheiro', 'chocolate', 'começando', 'correu', 'costuma', 'cuidar', 'dentes', 'dormiu', 'emprestar', 'motivo', 'olhar', 'recebeu', 'simples', 'verdadeiro', 'vive', 'descobriu', 'for', 'machucou', 'máquina', 'notícia', 'questão', 'sede', 'tocou', 'tóquio', 'assistindo', 'cães', 'grandes', 'época', 'final', 'gentil', 'irmãs', 'lago', 'ouvindo', 'piscina', 'popular', 'preparado', 'recebi', 'vender', 'estado', 'matemática', 'morando', 'oito', 'silêncio', 'tocando', 'acontecido', 'após', 'arte', 'bateu', 'bela', 'boas', 'carros', 'correndo', 'detalhes', 'deus', 'mapa', 'médio', 'pergunte', 'segurança', 'toca', 'caminhão', 'costumo', 'errada', 'filmes', 'parede', 'puder', 'pôs', 'rindo', 'saudade', 'bebida', 'entendeu', 'estuda', 'leva', 'menor', 'policial', 'provável', 'pudesse', 'pés', 'quão', 'respondeu', 'soubesse', 'terrível', 'assustado', 'casou', 'colocar', 'conheceu', 'culpado', 'embaixo', 'jackson', 'paciente', 'preocupe', 'pássaro', 'discurso', 'estudo', 'irritado', 'nele', 'pedido', 'pegue', 'percebeu', 'pobre', 'pronta', 'relatório', 'sai', 'útil', 'famoso', 'museu', 'passaporte', 'tire', 'uso', 'amigas', 'aprendendo', 'beijar', 'desses', 'emprestado', 'escrevi', 'escutar', 'estrada', 'fazemos', 'janelas', 'olhada', 'suponho', 'tinham', 'centro', 'cometeu', 'contato', 'continuou', 'faculdade', 'falamos', 'luzes', 'machucar', 'mala', 'novas', 'público', 'recusou', 'remédio', 'resfriado', 'rosto', 'cheia', 'cortou', 'disto', 'escolher', 'horrível', 'longo', 'mandou', 'mente', 'né', 'peça', 'prometo', 'responsável', 'sentiu', 'tanta', 'tendo', 'tome', 'tornou', 'beijou', 'coma', 'costas', 'cão', 'empresa', 'esquiar', 'facilmente', 'fechar', 'importo', 'japonês', 'lamento', 'pelas', 'prazer', 'prisão', 'ansioso', 'aposto', 'desculpa', 'dormi', 'ferido', 'lição', 'merece', 'montanha', 'nasci', 'ok', 'ouvido', 'parado', 'pense', 'professores', 'sob', 'sozinhos', 'abra', 'basquete', 'belo', 'domingos', 'ei', 'esperamos', 'exame', 'negócios', 'saí', 'terra', 'árvores', 'amava', 'barato', 'fechou', 'jogador', 'poderíamos', 'vinte', 'vê', 'agradecer', 'carona', 'conhecemos', 'guitarra', 'sal', 'vizinhos', 'aberto', 'cartão', 'existem', 'fizer', 'licença', 'oportunidade', 'porquê', 'segundo', 'absolutamente', 'chamado', 'contrato', 'deseja', 'desejo', 'encontro', 'europa', 'extremamente', 'gordo', 'levantou', 'mil', 'quebrado', 'aluno', 'chega', 'chegue', 'convidado', 'escrevendo', 'fato', 'ganha', 'ligue', 'mar', 'morreram', 'novos', 'pretendo', 'proteger', 'recentemente', 'sanduíche', 'tomei', 'uns', 'vermelha', 'avó', 'concerto', 'convencido', 'detesto', 'diria', 'encontramos', 'equipe', 'escondeu', 'escreve', 'escrito', 'feche', 'ficado', 'gostamos', 'humor', 'ideias', 'lê', 'meninos', 'pertence', 'prefere', 'totalmente', 'canção', 'conversa', 'fazia', 'pego', 'roubado', 'sabiam', 'teremos', 'atrasar', 'direita', 'enviou', 'escreva', 'gritar', 'intenção', 'má', 'paciência', 'partida', 'projeto', 'quieto', 'sentou', 'traduzir', 'área', 'acordou', 'além', 'apesar', 'chorou', 'daquele', 'esperto', 'esquerda', 'excelente', 'fiquem', 'geladeira', 'incrível', 'melhorar', 'oferta', 'pessoal', 'portão', 'preocupada', 'primavera', 'quadro', 'saindo', 'sugeriu', 'trabalhou', 'universidade', 'viram', 'aceitar', 'animal', 'caminhar', 'chegamos', 'delas', 'especial', 'garotas', 'impressionado', 'incêndio', 'justo', 'meninas', 'objetivo', 'presidente', 'prontos', 'riram', 'sorriu', 'tempestade', 'tomando', 'éramos', 'ótima', 'ajudei', 'aqueles', 'arroz', 'botão', 'companhia', 'esperança', 'ilha', 'jovens', 'malas', 'quebrada', 'tamanho', 'venceu', 'visitou', '30', ':', 'bolso', 'dificuldade', 'entediado', 'escolheu', 'imaginar', 'morrendo', 'nove', 'park', 'pintar', 'presentes', 'proposta', 'risco', 'senha', 'verde', 'ajudaria', 'altura', 'apareceu', 'capital', 'chegaram', 'clima', 'comem', 'estudou', 'inocente', 'lhes', 'lixo', 'ouro', 'parem', 'pensam', 'prestes', 'repente', 'riu', 'terei', 'chegando', 'confiança', 'confiável', 'cortar', 'descansar', 'direção', 'encontraram', 'fechada', 'gritando', 'lei', 'normal', 'poemas', 'vazia', 'acontecerá', 'barba', 'bebendo', 'chame', 'chicago', 'cometer', 'concordou', 'convidou', 'crédito', 'dirigindo', 'exceto', 'idioma', 'longa', 'lua', 'meia-noite', 'pintou', 'política', 'promessa', 'resultado', 'romance', 'solução', 'suco', 'talento', 'tiver', 'vivem', 'américa', 'atravessar', 'bebo', 'cadê', 'chegará', 'coloquei', 'comemos', 'curioso', 'enviar', 'escutando', 'feio', 'gerente', 'herói', 'importaria', 'ladrão', 'paguei', 'pernas', 'street', 'suéter', 'teus', 'tiveram', 'turma', 'vos', 'vídeo', 'aluguel', 'cantando', 'começaram', 'conversando', 'decidir', 'definitivamente', 'escapar', 'escondendo', 'espelho', 'exemplo', 'façam', 'gelo', 'goste', 'joão', 'leia', 'pedindo', 'queriam', 'reclamar', 'resultados', 'sejam', 'sente-se', 'vazio', 'velhos', 'venho', ';', 'acabar', 'buscar', 'compre', 'concorda', 'daquela', 'elevador', 'evitar', 'mesmos', 'máximo', 'notou', 'poderiam', 'saudável', 'tínhamos', 'umas', 'ajudando', 'alice', 'confia', 'controle', 'cuidadoso', 'deixado', 'doce', 'explicação', 'frança', 'funcionando', 'informação', 'inimigo', 'laranja', 'louça', 'mostre-me', 'particular', 'países', 'portas', 'poucos', 'preços', 'resto', 'rica', 'sanduíches', 'tirei', 'torta', 'trabalham', 'chato', 'conseguimos', 'creio', 'dirige', 'distância', 'falava', 'garagem', 'jaqueta', 'lavou', 'metade', 'morou', 'mortos', 'passo', 'perdendo', 'permitir', 'preferiria', 'pretende', 'salvar', 'site', 'tarefa', 'vieram', 'ajudá-la', 'beijo', 'casada', 'condições', 'confio', \"d'água\", 'dentista', 'desligou', 'envergonhado', 'esperei', 'febre', 'floresta', 'folga', 'fugiu', 'fundo', 'leio', 'madeira', 'passagem', 'provar', 'queijo', 'receber', 'solar', 'telhado', 'vizinho', 'calmo', 'casados', 'começo', 'continue', 'correto', 'descer', 'divertir', 'edifício', 'escada', 'esconder', 'estais', 'memória', 'nativo', 'par', 'piadas', 'seguiu', 'suporto', 'antigo', 'aquelas', 'bem-vindo', 'ciente', 'comeram', 'confortável', 'corda', 'corre', 'desapontado', 'liga', 'pedimos', 'peixes', 'perdemos', 'sonhos', 'traga-me', 'vê-la', 'abre', 'americano', 'barco', 'casas', 'cometi', 'complicado', 'compraram', 'convidados', 'corpo', 'deixaria', 'delicioso', 'e-mail', 'esportes', 'faremos', 'fraco', 'gasolina', 'interesse', 'nariz', 'passear', 'possui', 'preocupados', 'página', 'redor', 'sentou-se', 'tenham', 'vento', 'abri', 'admitiu', 'ajudado', 'amizade', 'assistiu', 'batatas', 'campo', 'canta', 'certamente', 'colegas', 'coragem', 'deprimido', 'digam', 'direto', 'grama', 'meias', 'mentir', 'respostas', 'sentimos', 'serei', 'solteiro', 'sábado', 'trânsito', 'vestir', 'york', 'acordei', 'clube', 'concordar', 'convenceu', 'cresceu', 'flor', 'frase', 'grato', 'infeliz', 'joguei', 'ligo', 'nadando', 'nevar', 'pelos', 'poema', 'profundamente', 'saída', 'segundas', 'tentado', 'traga', 'voltei', 'bebi', 'caminhada', 'comido', 'crime', 'cá', 'depende', 'desapareceu', 'drogas', 'energia', 'entregou', 'entrei', 'espanhol', 'estrelas', 'estudei', 'explicou', 'frango', 'gênio', 'infelizmente', 'lugares', 'mudei', 'negócio', 'orgulho', 'real', 'sentimentos', 'terminado', 'trezentos', '2h30', 'artigo', 'bagunça', 'brasil', 'cair', 'cem', 'chova', 'choveu', 'contando', 'convite', 'câncer', 'dando', 'deixem', 'funcionou', 'haver', 'mentira', 'multidão', 'necessidade', 'pareceu', 'prometi', 'queríamos', 'som', 'ajudasse', 'brilhante', 'cantor', 'china', 'chinesa', 'contratar', 'documento', 'doença', 'dorme', 'emprestou', 'gritou', 'grupo', 'importar', 'impressão', 'independente', 'informações', 'ligação', 'linha', 'machucado', 'moramos', 'mudando', 'opções', 'paris', 'perdoar', 'precisas', 'preguiçoso', 'preparar', 'quisesse', 'terno', 'tomo', 'trabalhava', 'usava', 'visita', \"''\", 'anel', 'apressar', 'atropelado', 'bater', 'bonitas', 'cantou', 'cavalos', 'crescer', 'demorar', 'desafio', 'digo', 'egoísta', 'enorme', 'farto', 'ienes', 'japonesa', 'jogos', 'parei', 'partiu', 'pediram', 'pratos', 'procurar', 'punido', 'revista', 'senso', 'sentia', 'sinal', 'sobreviver', 'talentoso', 'tia', 'toalha', 'acaso', 'aconselhou', 'alugar', 'ambas', 'areia', 'banda', 'biscoitos', 'causou', 'compromisso', 'conversamos', 'correio', 'dói', 'educação', 'espaço', 'estranha', 'exausto', 'feita', 'fingiu', 'fortes', 'fria', 'ligado', 'limpou', 'namorando', 'obviamente', 'pago', 'papai', 'parecer', 'pedra', 'planejo', 'possibilidade', 'reconheceu', 'sinto-me', 'sistema', 'soldados', 'tantas', 'teoria', 'vais', 'venda', 'vendeu', 'vergonha', 'voltará', '10', 'aceitou', 'agradeço', 'altos', 'aparência', 'artista', 'assinar', 'bar', 'bateria', 'castelo', 'correta', 'corrida', 'dessas', 'doces', 'enganado', 'ensina', 'escritor', 'estacionar', 'forno', 'garotos', 'liguei', 'lindo', 'nevando', 'pássaros', 'reclamando', 'tinta', 'tiro', 'ultimamente', 'vende', 'agradável', 'atirou', 'atraente', 'bilhete', 'casaram', 'conseguem', 'contente', 'diário', 'educado', 'estacionou', 'estrangeira', 'falado', 'fazenda', 'ganhei', 'guarda', 'improvável', 'jogamos', 'jogue', 'limpo', 'luvas', 'partido', 'percebi', 'perda', 'perguntando', 'precisou', 'pulou', 'receio', 'tentamos', 'terceiro', 'vaso', 'acontecesse', 'acreditam', 'amar', 'brava', 'buraco', 'burro', 'campainha', 'ciúmes', 'contado', 'cresci', 'dente', 'desceu', 'desculpar', 'dou', 'escapou', 'esporte', 'felicidade', 'fila', 'graça', 'levei', 'londres', 'lutar', 'nomes', 'perfeitamente', 'prateleira', 'primo', 'quebrei', 'quinze', 'ri', 'sortudo', 'sugiro', 'tomate', 'tê-lo', 'usou', 'voar', 'volto', 'votar', \"'\", 'anda', 'andando', 'atrasados', 'braços', 'canadá', 'cansados', 'conhecido', 'dúvida', 'escolas', 'estejam', 'estrangeiro', 'fizeste', 'fresco', 'gaveta', 'impedir', 'manteiga', 'mentiroso', 'músico', 'notei', 'ofereceu', 'ovo', 'poderá', 'ponha', 'possamos', 'preparando', 'prêmio', 'serve', 'teto', 'toque', 'trabalhei', 'uvas', 'acreditou', 'almoçou', 'antônio', 'calças', 'custou', 'darei', 'deitado', 'discussão', 'durou', 'fecha', 'frutas', 'furioso', 'infância', 'ingênuo', 'manhãs', 'mantenha', 'morangos', 'mudança', 'mudaram', 'músicas', 'odeiam', 'outono', 'permitido', 'quiserem', 'reclamou', 'salvou', 'serviço', 'serão', 'tirando', 'usam', 'viva', 'acima', 'arrumar', 'blefando', 'bobo', 'boneca', 'caderno', 'calma', 'camiseta', 'chove', 'continua', 'criativo', 'dado', 'deram', 'deverias', 'escuta', 'estaremos', 'falante', 'falaram', 'faleceu', 'fluente', 'governo', 'gêmeos', 'ingresso', 'interessa', 'meio-dia', 'ordem', 'passaram', 'pensado', 'prestando', 'proibido', 'somente', 'terremoto', 'tido', 'trancada', 'trocar', 'tuas', 'use', 'varanda', 'viveu', 'óbvio', 'assisti', 'ator', 'cancelado', 'cega', 'cidades', 'conselhos', 'costumávamos', 'culpar', 'dieta', 'disponível', 'entrada', 'esquecido', 'expulso', 'ferro', 'francesa', 'internet', 'itália', 'jazz', 'juntas', 'junto', 'machuquei', 'maiores', 'nado', 'nela', 'oceano', 'passamos', 'pausa', 'preocupa', 'pôr', 'quintal', 'suicídio', 'tinto', 'trancar', 'verdadeira', 'viria', 'vêm', 'ataque', 'cadeia', 'cento', 'claramente', 'cliente', 'comportamento', 'comprado', 'computadores', 'descobri', 'encontraremos', 'entendem', 'escadas', 'esperado', 'esquerdo', 'façamos', 'filhas', 'gostariam', 'ingressos', 'instante', 'início', 'maluco', 'milhas', 'milhões', 'modo', 'moedas', 'mostre', 'motor', 'negou', 'oi', 'piquenique', 'pobres', 'segura', 'selos', 'sorriso', 'tapete', 'tornou-se', 'vegetariano', 'viesse', 'vivos', 'agir', 'alemanha', 'amam', 'aprecio', 'assassinato', 'beba', 'brinquedos', 'caras', 'carregar', 'clássica', 'contaria', 'contas', 'contratou', 'conversou', 'custar', 'discutindo', 'dissesse', 'documentos', 'embriagado', 'encheu', 'engraçada', 'facilidade', 'física', 'histórias', 'iguais', 'instruções', 'laranjas', 'maravilhoso', 'médicos', 'nisto', 'notas', 'ouvimos', 'participar', 'perca', 'pesada', 'peço', 'poucas', 'pouquinho', 'principal', 'pôquer', 'quebrar', 'querendo', 'realidade', 'refeição', 'rei', 'salário', 'seguinte', 'seguros', 'tonto', 'voltaria', 'adoraria', 'arrependo', 'brigar', 'cancelar', 'caverna', 'caí', 'conheceram', 'cozinheiro', 'curto', 'custo', 'decidiram', 'deixando', 'devolver', 'dúvidas', 'encontrá-lo', 'espanha', 'estavas', 'experimentar', 'fatos', 'ficam', 'fingir', 'fizéssemos', 'fruta', 'habilidades', 'insetos', 'mandar', 'melhorando', 'ocupadas', 'otimista', 'pipoca', 'poderei', 'primos', 'péssimo', 'regra', 'rosas', 'soa', 'soneca', 'subir', 'tempos', 'visitei', 'adiantado', 'admitir', 'americanos', 'aumento', 'bagagem', 'bomba', 'cai', 'capitão', 'chegaria', 'compramos', 'compraria', 'construiu', 'cuidadosamente', 'difíceis', 'direi', 'entendendo', 'escrivaninha', 'escutei', 'estudado', 'estória', 'famosa', 'fantasmas', 'ferramentas', 'folhas', 'fuma', 'igual', 'interessada', 'japoneses', 'jogam', 'junho', 'lágrimas', 'melhorou', 'parada', 'pesado', 'piloto', 'plantas', 'pontual', 'porco', 'porão', 'quarenta', 'razoável', 'romântico', 'seriamente', 'sonhando', 'verificar', 'virou', 'zero', 'aconteceria', 'alemão', 'alienígenas', 'alimentar', 'ambulância', 'apaixonou', 'atendeu', 'branca', 'briga', 'chegado', 'conte-me', 'criado', 'dançando', 'dedo', 'destino', 'escute', 'fechadas', 'ficasse', 'fluentemente', 'fugir', 'ganhando', 'gata', 'gostas', 'grave', 'haja', 'horário', 'imaginei', 'importantes', 'lava', 'liberdade', 'metrô', 'morei', 'pacote', 'rapaz', 'razões', 'sexta-feira', 'subiu', 'sós', 'tenta', 'total', 'trabalhamos', 'acabo', 'achas', 'amigável', 'arquivo', 'arrepender', 'assustador', 'atirar', 'atraso', 'azuis', 'caminhando', 'careca', 'chamada', 'cigarro', 'começamos', 'compra', 'dedos', 'desistiu', 'desligar', 'desligue', 'devido', 'durmo', 'emergência', 'encontrado', 'enfermeira', 'entraram', 'envelope', 'envolvido', 'errados', 'estúpida', 'exército', 'ganho', 'gasta', 'generoso', 'harvard', 'inútil', 'juntar', 'juro', 'levantei', 'limpando', 'líder', 'mercado', 'máscara', 'passageiros', 'pele', 'perderam', 'poço', 'precise', 'procurei', 'recursos', 'religião', 'ricos', 'rosa', 'sabíamos', 'salada', 'saíram', 'tolo', 'unhas', 'acaba', 'acorda', 'acordada', 'adeus', 'apaixonada', 'aparecer', 'armas', 'assistente', 'atingido', 'avisar', 'aviso', 'carvão', 'chamei', 'cinto', 'confie', 'conseguido', 'convidar', 'corajoso', 'corretamente', 'cortei', 'desconfortável', 'deveres', 'dirá', 'doendo', 'ensinando', 'escova', 'estudamos', 'exceção', 'fábrica', 'garçom', 'humanos', 'importância', 'mantém', 'maravilhosa', 'membros', 'molhado', 'noites', 'objetivos', 'orgulhosa', 'ouvidos', 'policiais', 'povo', 'praticar', 'precisando', 'prática', 'próximos', 'quantidade', 'relutante', 'roubada', 'roubar', 'rude', 'significado', 'sinta', 'sofreu', 'sorrir', 'temo', 'tipos', 'toco', 'tratado', 'velhas', 'vença', 'violino', 'virei', 'acredite', 'admiro', 'alcançar', 'antigos', 'assinou', 'assustou', 'cabelos', 'concordamos', 'convidei', 'corte', 'costume', 'dança', 'dera', 'divertiu', 'doze', 'empolgado', 'emprestei', 'esperávamos', 'estômago', 'exercícios', 'garganta', 'garrafas', 'gastei', 'geral', 'gostaram', 'ignorou', 'irão', 'lavando', 'levanta', 'magro', 'martelo', 'muda', 'más', 'olhei', 'parecido', 'prato', 'prendeu', 'procura', 'próprios', 'pânico', 'reconheci', 'relaxar', 'relação', 'seguindo', 'segundas-feiras', 'shopping', 'sorrindo', 'século', 'terminamos', 'trata', 'travesseiro', 'vendem', 'voltaram', 'volume', 'votou', '5', 'abaixo', 'acabamos', 'adulto', 'ajudará', 'ajudá-los', 'almocei', 'antigas', 'apagou', 'aparentemente', 'aprendemos', 'armário', 'atrasada', 'bebidas', 'beleza', 'chinês', 'confiante', 'daria', 'decepcionado', 'deixem-me', 'deliciosa', 'demorou', 'desastre', 'desenhou', 'despedir', 'detesta', 'devesse', 'disse-me', 'dura', 'eis', 'elefantes', 'enganar', 'escondido', 'estranhos', 'estrela', 'força', 'gostaríamos', 'haverá', 'honesta', 'inteligentes', 'jogava', 'lentamente', 'leram', 'letra', 'local', 'maneiras', 'membro', 'moto', 'naturais', 'ocorreu', 'odiava', 'pega', 'perguntava', 'queimou', 'quilômetros', 'reclamações', 'repetir', 'roncando', 'roubaram', 'saibam', 'saxofone', 'saído', 'segredos', 'seguida', 'serem', 'sincero', 'sotaque', 'teatro', 'trabalhadores', 'urgente', 'usado', 'vestiu', 'xícaras', 'acreditava', 'agenda', 'aguento', 'americana', 'apertou', 'aposentar', 'apresentar', 'bem-vinda', 'brinquedo', 'chocado', 'concentrar', 'concordam', 'considerado', 'consiga', 'dados', 'daquilo', 'depressa', 'desculpe-me', 'desenhar', 'deviam', 'diamante', 'dificuldades', 'durar', 'esquina', 'gastou', 'gentileza', 'gás', 'ilegal', 'impressionar', 'incomodar', 'jantando', 'jeans', 'joelho', 'macaco', 'ombro', 'parasse', 'pareciam', 'passatempo', 'perde', 'permitiu', 'pesa', 'prestar', 'privacidade', 'programa', 'pudéssemos', 'reserva', 'responda', 'ridículo', 'sentada', 'senão', 'siga', 'sobremesa', 'sul', 'temperatura', 'terminaram', 'texto', 'tira', 'traduziu', 'trancou', 'tá', 'venham', '100', 'abandonou', 'acharam', 'adoram', 'alarme', 'almoçando', 'apagar', 'apuros', 'aquário', 'assisto', 'assustar', 'atravessou', 'atualmente', 'batendo', 'biologia', 'boi', 'caixas', 'calendário', 'carpinteiro', 'caçar', 'caçula', 'chances', 'cinquenta', 'coloca', 'comece', 'construir', 'construída', 'contarei', 'correios', 'devíamos', 'discordo', 'eleição', 'encontre', 'entenda', 'escolhido', 'esquece', 'estimação', 'falem', 'faltando', 'fascinante', 'ficção', 'franco', 'impaciente', 'interessantes', 'inventou', 'irmos', 'limpe', 'medicina', 'mentiria', 'mexer', 'mochila', 'mordeu', 'mudanças', 'médica', 'móveis', 'negar', 'pague', 'perdoe', 'planejava', 'pressão', 'provas', 'qualidade', 'rato', 'retornar', 'ruins', 'saiam', 'saímos', 'sentados', 'sentirei', 'sujo', 'tantos', 'tenhamos', 'tentarei', 'tornaram', 'torre', 'treinador', 'velocidade', 'vendendo', 'virar', 'voltando', 'áfrica', '%', '300', 'acontecem', 'admito', 'adorava', 'alérgico', 'apresentou', 'assiste', 'avós', 'balde', 'banheira', 'brigando', 'calar', 'canetas', 'cavalheiro', 'certifique-se', 'cientista', 'clientes', 'colar', 'conseguiram', 'considerar', 'cópia', 'decidimos', 'diante', 'direitos', 'disser', 'dão', 'eleito', 'engenheiro', 'esperem', 'estacionamento', 'estarão', 'fechados', 'feitos', 'ficaremos', 'fuji', 'fumaça', 'funeral', 'gorda', 'hábito', 'limpa', 'lotado', 'mencionou', 'mensagens', 'montanhas', 'mover', 'mundial', 'nervosa', 'nevou', 'noiva', 'norte', 'nublado', 'ordens', 'passe', 'pimenta', 'pouca', 'precisei', 'presos', 'promessas', 'protetor', 'próprias', 'queda', 'responsabilidade', 'sabendo', 'sangrando', 'segurando', 'sentamos', 'solitário', 'subindo', 'surpresos', 'tento', 'tivéssemos', 'traz', 'vegetais', 'vegetariana', 'vela', 'voluntários', '3', 'abertas', 'abril', 'acendeu', 'achamos', 'acostumada', 'acostumar', 'adultos', 'andou', 'animado', 'apaixonados', 'aranhas', 'ausente', 'banana', 'bebem', 'certos', 'chamando', 'cobras', 'coleção', 'colégio', 'corra', 'curta', 'dezesseis', 'disseste', 'dono', 'doutor', 'encontraria', 'entendia', 'escalar', 'estacionado', 'estrangeiras', 'exagerando', 'falso', 'fechei', 'fins', 'fundos', 'gastar', 'graças', 'grávida', 'impediu', 'incomodando', 'inconsciente', 'inimigos', 'janta', 'jogadores', 'lave', 'levante', 'levo', 'ligando', 'manteve', 'marrom', 'mesmas', 'metros', 'motivos', 'méxico', 'noel', 'onze', 'pede', 'permita-me', 'pontos', 'preste', 'prisioneiro', 'pro', 'procure', 'pálido', 'põe', 'química', 'reduzir', 'refeições', 'resolveu', 'sessenta', 'sonhei', 'surpreendeu', 'teimoso', 'topo', 'traiu', 'valor', 'vidas', 'vidro', 'viste', 'zangada', 'zombando', 'abandonar', 'acalmar', 'aceitei', 'acordados', 'adorável', 'assento', 'ação', 'borboleta', 'casal', 'chamas', 'chutou', 'clarinete', 'coberto', 'cobertor', 'coelho', 'coincidência', 'comete', 'conseguiria', 'consertá-lo', 'consultar', 'corredor', 'corri', 'couro', 'covarde', 'cozinhando', 'crescendo', 'deixaram', 'demitir', 'desanimado', 'desista', 'divertida', 'elefante', 'entrevista', 'escuros', 'escuto', 'esquecerei', 'esqueçam', 'estudam', 'expressão', 'falasse', 'fantástico', 'favoritos', 'fazermos', 'foste', 'lembre-se', 'lento', 'livrar', 'loucos', 'nadou', 'natural', 'nuvens', 'ofender', 'parecida', 'pedaços', 'pequenos', 'perdão', 'pessimista', 'pessoalmente', 'plástico', 'poeta', 'posição', 'pular', 'puxou', 'reconheço', 'resta', 'roma', 'seremos', 'sujas', 'surdo', 'terceira', 'torneira', 'trocou', 'usei', 'velas', 'verei', 'viajou', 'violência', 'vire', 'voando', 'álbum', 'índia', '14:30', 'acabado', 'acusado', 'aguentar', 'ajude-me', 'amamos', 'apague', 'aprontando', 'avisou', 'barata', 'barbeiro', 'borboletas', 'cadeiras', 'camisas', 'cd', 'cheque', 'chuveiro', 'colega', 'comprando', 'conhecê-lo', 'construção', 'cookie', 'cortinas', 'cuida', 'data', 'decente', 'desliguei', 'diabos', 'distinguir', 'diverti', 'economia', 'eletricista', 'escutou', 'estiveram', 'explosão', 'extra', 'familiar', 'finais', 'folha', 'guardar', 'habilidade', 'impostos', 'incomum', 'inglaterra', 'jantou', 'jogaram', 'lembrou', 'levando', 'livraria', 'menti', 'milhão', 'morrido', 'moça', 'mudado', 'necessária', 'nota', 'olá', 'passeio', 'pasta', 'pegando', 'pergunto-me', 'permanecer', 'período', 'pescoço', 'pintura', 'podeis', 'político', 'presumo', 'progresso', 'páginas', 'respirar', 'responde', 'roubei', 'ruas', 'secretária', 'sensível', 'sobrenome', 'soldado', 'sorriram', 'telefonou', 'tocava', 'trabalhado', 'urso', 'vestida', 'viciado', 'vier', 'vê-los', 'óleo', 'últimos', 'únicos', '6', 'abertos', 'absoluta', 'aceita', 'acertou', 'acesso', 'adolescente', 'adormeceu', 'afinal', 'antiga', 'apoio', 'armadilha', 'atacado', 'bife', 'bilhetes', 'bordo', 'bêbados', 'carregando', 'cenouras', 'cobra', 'colina', 'comboio', 'combustível', 'cometido', 'começam', 'compreendo', 'compro', 'concordaria', 'controlar', 'contrário', 'cores', 'cuidando', 'cuidou', 'defender', 'demasiado', 'descubra', 'deves', 'dezoito', 'eletricidade', 'encontrá-la', 'esquecendo', 'estrangeiros', 'facebook', 'faminto', 'fantasma', 'fariam', 'feia', 'felizmente', 'feriu', 'fonte', 'fortuna', 'ganhe', 'gripe', 'haviam', 'honestidade', 'ignorar', 'imagem', 'imaginação', 'incomodado', 'intenções', 'irem', 'lama', 'lanche', 'lavei', 'leão', 'lobo', 'luta', 'mamãe', 'mandei', 'moeda', 'motivado', 'mude', 'mínima', 'nasceram', 'ouve', 'ouviram', 'ouço', 'pararam', 'passando', 'planetas', 'praticamente', 'preferido', 'preparados', 'prima', 'produtos', 'profissional', 'profundo', 'quiseres', 'região', 'restaurantes', 'riscos', 'sabias', 'segure', 'selvagens', 'sensação', 'simpático', 'soltou', 'sugestão', 'suportar', 'tatuagem', 'taxista', 'tigre', 'tornozelo', 'vaca', 'vemos', 'ventando', 'vingança', 'vivemos', 'vôlei', '14h30', 'aborrecido', 'acalme-se', 'aceito', 'acidentes', 'acreditei', 'adequado', 'afogou', 'agiu', 'anjo', 'apaixonei', 'aposentado', 'apropriado', 'aproximadamente', 'arriscar', 'atrasou', 'avisado', 'avise', 'bananas', 'baunilha', 'bem-vindos', 'blusa', 'capacete', 'capazes', 'casei', 'causar', 'cena', 'centímetros', 'chegada', 'chorei', 'científica', 'coelhos', 'cometa', 'competição', 'completo', 'consciência', 'conseguindo', 'construído', 'conversei', 'cortina', 'costumam', 'cozinheira', 'culpo', 'cultura', 'código', 'demitida', 'desenho', 'deserta', 'deter', 'dirijo', 'divertimos', 'economizar', 'encontrará', 'entra', 'escrita', 'esforços', 'esperasse', 'estude', 'exigente', 'feriado', 'fogão', 'formulário', 'forçou', 'fotografia', 'fronteira', 'gelada', 'insistiu', 'irrelevante', 'jornais', 'levará', 'lido', 'marte', 'milhares', 'original', 'paga', 'papéis', 'parabéns', 'partes', 'pensas', 'pequenas', 'porém', 'prazo', 'pretendia', 'primeiros', 'princípio', 'quartos', 'relacionamento', 'saco', 'segurar', 'semestre', 'sexta', 'sirva-se', 'sótão', 'terminando', 'terror', 'vendedor', 'vendi', 'visitamos', 'álcool', 'íamos', 'abraço', 'aceite', 'acender', 'acompanhar', 'adivinha', 'adormeci', 'ameaçou', 'andei', 'apaixonar', 'arquivos', 'arranjar', 'assassinado', 'atacou', 'atingiu', 'autor', 'avise-me', 'bala', 'bem-sucedido', 'bêbada', 'cabe', 'canto', 'chata', 'chegaremos', 'choro', 'cientistas', 'ciência', 'comentário', 'cometendo', 'compreende', 'comprá-lo', 'conheciam', 'conhecimento', 'conservador', 'consulta', 'criar', 'cuidarei', 'decepcionar', 'decidido', 'deixarei', 'descobriram', 'desejam', 'desmaiou', 'desperdiçando', 'devolveu', 'dirija', 'discreto', 'dobro', 'entenderam', 'esperam', 'esqueceram', 'estivemos', 'expliquei', 'fechado', 'ficava', 'galinha', 'garçonete', 'gramática', 'grátis', 'honra', 'importam', 'impressora', 'interessados', 'intrigado', 'jornalista', 'julgar', 'lar', 'lata', 'legais', 'lobos', 'machuque', 'maquiagem', 'mel', 'mentido', 'modelo', 'morra', 'média', 'nacional', 'nascer', 'natureza', 'novela', 'oitenta', 'ombros', 'paredes', 'parentes', 'pares', 'partiremos', 'perdida', 'pijama', 'planeta', 'podíamos', 'população', 'porta-malas', 'precisará', 'precisasse', 'promoção', 'queixa', 'rainha', 'raio', 'ronco', 'saberá', 'seguido', 'sentei', 'solte', 'substituir', 'suficientes', 'séria', 'trabalhos', 'tremendo', 'trens', 'trouxeram', 'técnico', 'vejamos', 'violento', 'íntimos', 'abaixe', 'acabaram', 'acampar', 'adiar', 'adicione', 'adolescentes', 'adotado', 'agindo', 'agradeceu', 'ambicioso', 'amou', 'ansiosa', 'apontou', 'aprenderam', 'aproveite', 'arriscado', 'assassino', 'assuntos', 'ativo', 'baile', 'bandeira', 'bebido', 'bolas', 'brincadeira', 'cantora', 'caros', 'castigo', 'celeiro', 'cesta', 'chego', 'cicatriz', 'colher', 'confessou', 'contaram', 'conversaram', 'criou', 'crise', 'cura', 'daí', 'decide', 'desejava', 'desempregado', 'dividiu', 'dá-me', 'dívidas', 'entregar', 'escrevo', 'estratégia', 'estátua', 'eua', 'fazendeiro', 'fechamos', 'feridas', 'filtro', 'flauta', 'funcione', 'garfo', 'grosseiro', 'guarda-chuvas', 'guarde', 'guia', 'humano', 'identidade', 'idéia', 'incapaz', 'inveja', 'investigando', 'lamentamos', 'latindo', 'lembrado', 'lenço', 'limite', 'lâmpada', 'machucaria', 'manga', 'maus', 'mereço', 'molho', 'muro', 'método', 'oferecer', 'olharam', 'olhem', 'opção', 'padrão', 'pagaram', 'passos', 'pegaram', 'pendurou', 'perseverança', 'pois', 'populares', 'possuo', 'posto', 'prego', 'preocupação', 'preparou', 'promovido', 'quadrinhos', 'quietos', 'quilos', 'rapazes', 'reclama', 'recomendo', 'recomendou', 'reconhece', 'recuperar', 'requer', 'respondi', 'revistas', 'ricas', 'rock', 'rápida', 'saibas', 'sarcástico', 'seco', 'sois', 'solteira', 'sozinhas', 'surpresas', 'série', 'tentem', 'termina', 'tirem', 'traduzido', 'tê-la', 'universo', 'vacas', 'vejam', 'veste', 'viaja', 'viajando', 'vila', 'virão', 'vivendo', 'voltem', 'vossa', 'votaram', 'acabando', 'aceitaria', 'acesa', 'acorde', 'adivinhar', 'alho', 'alimento', 'alimentos', 'amado', 'amarelas', 'ande', 'aparelho', 'apelido', 'aprende', 'assinatura', 'assustados', 'baixar', 'baleia', 'bonitos', 'brincos', 'bíblia', 'cante', 'cds', 'centenas', 'chora', 'cidadão', 'clique', 'comando', 'cometemos', 'cometo', 'compraste', 'confiei', 'conhecesse', 'consertado', 'consertou', 'considero', 'conte-nos', 'contratado', 'copos', 'cruzar', 'custará', 'dará', 'deixa-me', 'deixará', 'demos', 'desconto', 'desculpou', 'despedida', 'determinado', 'detetive', 'diminuir', 'dirigiu', 'dizia', 'dúzia', 'empurrou', 'encontra', 'engarrafamento', 'entenderia', 'entendido', 'enviado', 'escondi', 'esforço', 'especialista', 'esperanças', 'esperarei', 'esqueço', 'estudos', 'farão', 'faça-o', 'feitas', 'fio', 'fraca', 'fracasso', 'frases', 'fã', 'ganharam', 'gostado', 'hospedado', 'impressionante', 'incomoda', 'incrivelmente', 'injusto', 'interessar', 'interrompa', 'justa', 'legumes', 'lembrava', 'lembro-me', 'ligada', 'manda', 'manual', 'matei', 'metal', 'missão', 'moderna', 'morre', 'mostrei', 'noção', 'ofendido', 'opiniões', 'orgulhosos', 'pacientes', 'parecidos', 'pintado', 'piorar', 'planejam', 'plantou', 'possibilidades', 'preguiçosa', 'presa', 'previsão', 'propriedade', 'pulso', 'queimei', 'quieta', 'religioso', 'remédios', 'romances', 'ronca', 'sapato', 'sobreviveu', 'sofrendo', 'sonolento', 'suja', 'sábio', 'tentaram', 'testa', 'tomamos', 'tomates', 'torno', 'tradutor', 'troco', 'uniforme', 'ursos', 'vermelhas', 'voou', '\\xa0', 'ópera', '50', 'abelha', 'abraçar', 'adivinhe', 'adorei', 'advogada', 'agitado', 'agradecido', 'agência', 'alma', 'almoçamos', 'amei', 'antecedência', 'anteontem', 'aperte', 'assine', 'assistiram', 'assombrada', 'assumir', 'atrase', 'atômica', 'autoridade', 'avisei', 'azarado', 'ações', 'babá', 'baseball', 'batalha', 'beijaram', 'bolos', 'cachecol', 'carregador', 'cartões', 'casou-se', 'certas', 'certificar', 'chegasse', 'cirurgia', 'combina', 'comitê', 'comparecer', 'compreender', 'condenado', 'conferência', 'conheça', 'construíram', 'continuaram', 'cruzou', 'curso', 'cópias', 'debate', 'dedicado', 'deitar', 'desculpando', 'discutimos', 'dissemos', 'divertiram', 'emocionado', 'emprestada', 'enganou', 'ensinei', 'equilíbrio', 'escurecer', 'estragou', 'exercício', 'extraordinário', 'fbi', 'fechem', 'feridos', 'festas', 'fingi', 'fossem', 'frustrado', 'fumando', 'fôssemos', 'garanto', 'gostando', 'gostasse', 'gostoso', 'graus', 'greve', 'gêmeo', 'idoso', 'importava', 'incidente', 'iriam', 'irresponsável', 'irritante', 'janeiro', 'lençóis', 'limonada', 'limão', 'livres', 'longos', 'louca', 'macacos', 'mentiram', 'microfone', 'minta', 'moda', 'mordido', 'morta', 'noticiário', 'obedecer', 'obter', 'orelhas', 'ouça', 'pensamos', 'perceber', 'perdoou', 'perguntaram', 'permaneceu', 'permite', 'pesquisa', 'pisou', 'precisávamos', 'preferia', 'preta', 'proteção', 'prudente', 'raro', 'recibo', 'recusar', 'relaxe', 'resistir', 'rezar', 'saio', 'seres', 'sincera', 'sofrer', 'sortudos', 'sustentar', 'tesoura', 'tevê', 'tosse', 'tradução', 'truque', 'tímida', 'usamos', 'uísque', 'verdadeiras', 'verduras', 'vinha', 'visitado', 'vivia', 'vosso', 'web', 'ásia', '18', '2003', 'abram', 'abrisse', 'academia', 'acenda', 'adorar', 'advogados', 'ajudam', 'aliviado', 'almoça', 'almoçaram', 'altas', 'alugou', 'alvo', 'amigáveis', 'aproveitar', 'aprovou', 'arrepende', 'astronomia', 'atitude', 'atual', 'avesso', 'baixa', 'bebemos', 'bicicletas', 'biscoito', 'boliche', 'brancas', 'calado', 'candidato', 'chateada', 'cheira', 'cientes', 'ciumento', 'cochilo', 'cometem', 'compensar', 'completar', 'compositor', 'comprimento', 'concordaram', 'confiam', 'confiou', 'corajosa', 'corrente', 'cujo', 'curiosa', 'cético', 'decisões', 'deprimida', 'descalço', 'descoberta', 'deserto', 'desesperado', 'desorganizado', 'destes', 'destrancada', 'devêssemos', 'digitar', 'diretor', 'disponíveis', 'divorciar', 'divórcio', 'dobrar', 'eleições', 'entrega', 'entregue', 'escolar', 'esconderam', 'espinafre', 'esquisito', 'estiverem', 'estivessem', 'exaustos', 'facas', 'faltar', 'farmácia', 'fenda', 'ferir', 'figura', 'firme', 'formou', 'forçar', 'fritas', 'frutos', 'ganancioso', 'ganhamos', 'gostará', 'gravemente', 'honestos', 'houvesse', 'imigrantes', 'informado', 'inglesa', 'inocência', 'juiz', 'lados', 'largou', 'late', 'lavo', 'levado', 'levarei', 'limites', 'limpos', 'macarrão', 'mal-humorado', 'mandado', 'mangas', 'mataram', 'matéria', 'menu', 'mexa', 'mistério', 'morango', 'mosquitos', 'motoristas', 'mudam', 'nação', 'netos', 'números', 'observando', 'online', 'palco', 'pareço', 'pegamos', 'peguem', 'percebe', 'perdedor', 'perdidos', 'pesca', 'picado', 'piorando', 'piscou', 'planejou', 'planta', 'pode-se', 'potencial', 'prata', 'preparada', 'presença', 'prever', 'produto', 'prometer', 'provou', 'publicado', 'puxar', 'rasgou', 'rígido', 'seca', 'sofre', 'sombra', 'sorri', 'sujeito', 'tendes', 'tinhas', 'tiros', 'tomaram', 'torrada', 'trairia', 'trancado', 'tranquilo', 'trapaceando', 'usavam', 'vantagem', 'veterinário', 'visitando', 'visito', 'visitá-lo', 'visse', '12', '40', 'abandonado', 'abraçou', 'acabará', 'adianta', 'afaste-se', 'afirma', 'agradecer-lhe', 'alegria', 'amável', 'ando', 'anotar', 'apavorado', 'apertar', 'aprenda', 'arrumou', 'asas', 'assentos', 'atender', 'aumentar', 'barraca', 'barulhento', 'blog', 'botas', 'brownies', 'busca', 'caminhou', 'canções', 'capa', 'carbono', 'carreira', 'cebolas', 'cerimônia', 'chore', 'coberta', 'cogumelo', 'compartilhar', 'considera', 'continuei', 'contém', 'cremado', 'cruel', 'cuidadosos', 'cuide', 'custam', 'decorar', 'defeitos', 'deixe-nos', 'demora', 'desagradável', 'descansando', 'descreveu', 'despertador', 'destruiu', 'destruída', 'distraído', 'doentes', 'doenças', 'doer', 'doido', 'dominar', 'dormia', 'drogado', 'economizando', 'elétrica', 'empregada', 'encarar', 'enviei', 'escovar', 'escovo', 'escrevia', 'escura', 'escutem', 'esperaram', 'esperavam', 'esposo', 'esquecemos', 'essencial', 'estante', 'estendeu', 'experiente', 'experimentou', 'explodiu', 'falaremos', 'familiarizado', 'famosos', 'farinha', 'fotografias', 'frequenta', 'fume', 'fundada', 'fé', 'fôlego', 'galinhas', 'ganham', 'gostarias', 'gostavam', 'gratos', 'hambúrguer', 'hipócrita', 'ingênua', 'inteligência', 'interromper', 'iríamos', 'jogada', 'lagoa', 'levanto', 'lincoln', 'literatura', 'loucura', 'lutando', 'luxo', 'malabarismo', 'mentiras', 'merecia', 'morrem', 'mágica', 'máscaras', 'naquilo', 'nativa', 'negociar', 'nu', 'obrigação', 'ouvi-lo', 'oxigênio', 'pagam', 'patinar', 'patrão', 'pendurar', 'perfeita', 'perfume', 'peru', 'pianista', 'poderemos', 'poeira', 'positivo', 'possuem', 'precisaremos', 'precisavam', 'preencher', 'preocupo', 'pressentimento', 'presunto', 'principalmente', 'progredindo', 'pudemos', 'pá', 'pó', 'recebo', 'recomendar', 'reputação', 'respeitar', 'respiração', 'retornou', 'ridícula', 'saberia', 'sabor', 'saguão', 'segundos', 'suíça', 'taxa', 'taça', 'tentativa', 'termos', 'terão', 'toalhas', 'torceu', 'traduza', 'trarei', 'tropeçou', 'tráfego', 'venceram', 'vencido', 'vendemos', 'via', 'visão', 'zangados', 'úmido', ')', '25', '6:30', 'abraçaram', 'absurdo', 'acerca', 'aconselho', 'acusou', 'adicionar', 'adoramos', 'agressivo', 'aguarde', 'ah', 'ajudá-las', 'alimentou', 'amanhecer', 'amargo', 'amará', 'amendoim', 'andava', 'anote', 'anotou', 'aposta', 'aprendido', 'aquecedor', 'assistimos', 'atleta', 'aumentou', 'baratas', 'beijando', 'besteira', 'bigode', 'calçada', 'cansei', 'cardíaco', 'cenoura', 'cerejeira', 'chamaram', 'chamava', 'chamo', 'chegarei', 'circunstâncias', 'ciências', 'cogumelos', 'compare', 'complexo', 'comprarei', 'concordei', 'condicionado', 'conheces', 'conhecê-la', 'consegues', 'conseguirá', 'contem', 'conto', 'corta', 'crachá', 'cresce', 'culpe', 'cumprimentou', 'curiosidade', 'danos', 'dançou', 'deixes', 'deixá-lo', 'departamento', 'descanso', 'descrever', 'descubram', 'descuidado', 'desejaria', 'desliga', 'desnecessário', 'desperdiçar', 'despesas', 'deva', 'dica', 'disseram-me', 'divorciou', 'dobrou', 'dormem', 'email', 'embaixada', 'emocionante', 'engano', 'ensinado', 'entendemos', 'equivocado', 'errou', 'espécie', 'estejamos', 'estilo', 'estradas', 'estranhas', 'estresse', 'estupidez', 'exata', 'exato', 'extrovertido', 'falhou', 'fantasia', 'farsa', 'fatia', 'feijão', 'ficarão', 'fita', 'flertando', 'fofo', 'forças', 'fracos', 'gentis', 'gira', 'gritei', 'halloween', 'hábitos', 'ideal', 'imparcial', 'importamos', 'infantil', 'investigação', 'jantei', 'jardineiro', 'joias', 'lanterna', 'latim', 'lavada', 'leste', 'levasse', 'leões', 'ligarei', 'loteria', 'lousa', 'maleta', 'mandão', 'merecem', 'ministro', 'movimento', 'mínimo', 'novidade', 'observação', 'oficial', 'organizado', 'palpite', 'parques', 'participou', 'passam', 'pedras', 'pegado', 'perdoará', 'perfil', 'perguntado', 'pia', 'pobreza', 'podiam', 'poluição', 'preencha', 'prefeito', 'presta', 'prestou', 'princesa', 'prisioneiros', 'procurou', 'prometeram', 'pronúncia', 'proprietário', 'péssima', 'queima', 'queimando', 'recebe', 'receita', 'repentinamente', 'reservar', 'responsabilidades', 'roubando', 'roubo', 'saem', 'saias', 'saudáveis', 'saísse', 'segue', 'segui', 'sementes', 'senta', 'sinceramente', 'solteiros', 'sortuda', 'sr.', 'subiram', 'sushi', 'suspeita', 'sábados', 'sábia', 'tanque', 'terrivelmente', 'tomam', 'trabalharam', 'turistas', 'usá-las', 'vazias', 'vencendo', 'veneno', 'verdes', 'veremos', 'violoncelo', 'vivi', 'voltado', 'vê-las', 'vítima', '15', 'acenou', 'achando', 'acreditem', 'adotaram', 'afirmação', 'aguardando', 'ajudaram', 'ajudarei', 'alcance', 'alcançou', 'alegou', 'alegre', 'algodão', 'apanhar', 'aparenta', 'apertado', 'aposentou', 'aprendem', 'apresse-se', 'ar-condicionado', 'arranhou', 'aspirina', 'assegurar', 'assista', 'assusta', 'assustada', 'atentamente', 'atento', 'atriz', 'balcão', 'basta', 'baterista', 'boato', 'bochecha', 'bombeiros', 'brincava', 'brinque', 'cancelada', 'cantamos', 'capacidade', 'casamentos', 'cavando', 'chamam', 'chorava', 'choverá', 'chovido', 'clara', 'colocado', 'comecem', 'comemorando', 'competitivo', 'comportar', 'comprem', 'compridas', 'confusos', 'consciente', 'consertando', 'consideração', 'considere', 'construindo', 'continuem', 'correm', 'corretas', 'crimes', 'cumprir', 'cumpriu', 'círculo', 'damos', 'dava', 'defesa', 'demissão', 'desapontar', 'desastrado', 'descendo', 'descoberto', 'desculpar-se', 'desejou', 'desisti', 'desodorante', 'despedido', 'desperdice', 'desperdício', 'destas', 'destruído', 'detalhe', 'diariamente', 'diferenças', 'dificilmente', 'disco', 'disparou', 'diz-se', 'duvida', 'dólar', 'eficiente', 'empresta', 'empreste-me', 'empréstimo', 'encarando', 'encomenda', 'envergonhar', 'enxergar', 'escorregou', 'escreveram', 'escuridão', 'escutado', 'especiais', 'esportivo', 'estúpidas', 'evitando', 'explicarei', 'expressar', 'expulsou', 'famintos', 'faças', 'fevereiro', 'fina', 'forçado', 'frescos', 'fumo', 'funcionam', 'fósforo', 'gole', 'grau', 'grite', 'guitarrista', 'havaí', 'heroína', 'hesitou', 'higiênico', 'hipótese', 'humanidade', 'implorou', 'importunar', 'instantes', 'instrumento', 'invejo', 'justiça', 'laptop', 'latir', 'lembram', 'levante-se', 'levá-lo', 'lutou', 'machuca', 'machucaram', 'magra', 'malucos', 'mande', 'marcado', 'materna', 'maçaneta', 'metro', 'mexicana', 'milionário', 'molhada', 'morder', 'morrerá', 'morri', 'mozart', 'mudará', 'mães', 'nadador', 'namorados', 'natação', 'neto', 'nojento', 'nozes', 'obrigou', 'observar', 'pagamento', 'parcialmente', 'pareça', 'patas', 'pediria', 'pelado', 'perigosos', 'persianas', 'personagem', 'persuadiu', 'pesadelo', 'pneu', 'poderias', 'possam', 'pote', 'precisarei', 'preocupem', 'prestem', 'processo', 'prontas', 'prédios', 'quadros', 'quentes', 'questões', 'rabo', 'raposa', 'realizar', 'recepção', 'redação', 'resolvi', 'retirar', 'retrato', 'ria', 'riam', 'satisfeitos', 'saírem', 'segurou', 'sentaram', 'sentirá', 'seriam', 'servir', 'skate', 'smoking', 'sociedade', 'sofisticado', 'sonhou', 'sugestões', 'sujos', 'surpreende', 'sê', 'tecnologia', 'tentava', 'terem', 'teriam', 'tesouro', 'tolerar', 'tomada', 'tomado', 'tomara', 'torna', 'trabalhador', 'traduzi', 'tranque', 'transplante', 'tratamento', 'tremer', 'usá-lo', 'utilizar', 'valeu', 'vencemos', 'viajamos', 'vira', 'visitaram', 'vitória', 'voluntário', 'ótimos', 'úteis', '1', 'abaixar', 'abriram', 'acabaste', 'aceitaram', 'aconselhei', 'aconteceram', 'acostumei', 'acreditaram', 'acreditas', 'acrescentar', 'adiada', 'afiada', 'alcançaram', 'alergia', 'alternativa', 'alívio', 'amarei', 'amarela', 'ameaçado', 'ansiosos', 'aquecido', 'assinei', 'assumiu', 'ativa', 'atravessando', 'aumentando', 'bacon', 'bancos', 'bati', 'batida', 'bebês', 'beijado', 'beijasse', 'beira', 'bombeiro', 'bonecas', 'bravos', 'cabo', 'cadernos', 'caindo', 'cala', 'calhar', 'cantaram', 'casamos', 'castanhos', 'chamá-lo', 'cheios', 'choraria', 'colecionar', 'coloque-o', 'comparado', 'complicada', 'comprasse', 'comprido', 'comunicar', 'comunicação', 'comunidade', 'concurso', 'conduta', 'confiamos', 'congela', 'conseguirei', 'constantemente', 'construí', 'conter', 'convosco', 'correram', 'correspondência', 'costurar', 'creme', 'cresceram', 'cruzamento', 'críticas', 'cuidadosa', 'cultiva', 'dama', 'demitiu', 'derramou', 'derrotar', 'desafios', 'desconhecido', 'detido', 'deve-se', 'digas', 'dirigi', 'dirigimos', 'discutiu', 'divirta', 'doou', 'dormido', 'efeito', 'encaixa', 'encontrarei', 'encontrá-los', 'enganada', 'engordou', 'enjoado', 'entanto', 'entediada', 'enterrado', 'erradas', 'errar', 'escovou', 'espaguete', 'especialidade', 'esperemos', 'esperta', 'estudaram', 'eternidade', 'evento', 'exames', 'exausta', 'exercitar', 'expectativas', 'explique', 'falhar', 'fazerem', 'fechadura', 'festival', 'fotógrafo', 'francesas', 'franqueza', 'fugindo', 'fumava', 'funcionará', 'gatinho', 'gelado', 'generosa', 'golfinhos', 'gostem', 'gramado', 'grécia', 'heróis', 'hobby', 'iam', 'ignorado', 'imaginava', 'imenso', 'inaceitável', 'indústria', 'inspiração', 'interesso', 'intervalo', 'invencível', 'invés', 'iorque', 'juntou', 'laboratório', 'leitura', 'lembra-se', 'lembranças', 'levam', 'lia', 'lê-lo', 'macieiras', 'marcou', 'matando', 'medalha', 'medicamento', 'meios', 'meta', 'molhar', 'momentos', 'mortas', 'mostra', 'nadam', 'namorar', 'nascimento', 'nelas', 'neles', 'noivo', 'novelas', 'obedece', 'obediente', 'objeto', 'ocasião', 'organizar', 'pacífico', 'padaria', 'padrasto', 'pagando', 'pagarei', 'passarinho', 'passava', 'passe-me', 'peito', 'pendurado', 'pensamentos', 'perdoe-me', 'perguntarei', 'permita', 'perplexo', 'personalidade', 'perturbado', 'pesadelos', 'peças', 'pintor', 'pneus', 'podido', 'poesia', 'ponta', 'ponta-cabeça', 'praticando', 'pressas', 'pretendem', 'produção', 'pronuncia', 'príncipe', 'pudessem', 'quarteirões', 'queimar', 'quereis', 'quioto', 'rabugento', 'raquete', 'ratos', 'realista', 'recado', 'recebemos', 'reconhecer', 'reconheceria', 'reconhecido', 'recuperou', 'rejeitou', 'rumor', 'rumores', 'saberemos', 'salmão', 'secreto', 'sentença', 'sentimento', 'sentiram', 'sentiria', 'serviu', 'similar', 'sinais', 'sinceridade', 'sobrevivente', 'sobreviveram', 'sobrou', 'superar', 'superou', 'tampa', 'tartaruga', 'tchau', 'telescópio', 'tenso', 'termine', 'terremotos', 'terríveis', 'testemunha', 'tiramos', 'tolerante', 'torne', 'tragam', 'tristes', 'tropecei', 'troquei', 'tufão', 'universitário', 'utilizam', 'valente', 'venci', 'versão', 'vitamina', 'vizinhança', 'voltaremos', 'voltasse', 'votei', 'vítimas', 'águia', 'ás', 'ódio', '$', 'abaixou', 'acalmou', 'achaste', 'acidentalmente', 'agosto', 'aguardar', 'aguardou', 'ajudamos', 'ajudo', 'analfabeto', 'andam', 'anoitecer', 'anotações', 'apagaram', 'apetite', 'apontar', 'aproximando', 'arquiteto', 'arrumei', 'assaltado', 'assar', 'astronauta', 'ato', 'através', 'atropelou', 'autocarro', 'autorizado', 'aço', 'baixos', 'barriga', 'bata', 'batata', 'bate', 'bebam', 'bebia', 'beijei', 'beijá-la', 'bonitinha', 'boné', 'breu', 'brigam', 'burros', 'cabra', 'calça', 'caminhamos', 'canal', 'cantava', 'capturado', 'carregou', 'casar-se', 'chamamos', 'champanhe', 'chapado', 'checar', 'chiclete', 'chute', 'cidadãos', 'cintos', 'cofre', 'colo', 'comemorar', 'comeria', 'começado', 'começará', 'competir', 'completa', 'compreensão', 'compreensível', 'conclusão', 'conclusões', 'confiava', 'confundiu', 'consertei', 'contador', 'contamos', 'contatar', 'contratei', 'convidada', 'cooperar', 'corridas', 'costa', 'covardes', 'cozinhou', 'cria', 'criativa', 'criminoso', 'cuidei', 'câmara', 'câmeras', 'cérebro', 'cócegas', 'decepcione', 'declarou', 'deem', 'deixam', 'deixe-o', 'derrubou', 'desaparecido', 'desejar', 'desligado', 'desonesto', 'detestam', 'deverá', 'devias', 'digitais', 'dinossauros', 'diplomata', 'discutido', 'distante', 'diversão', 'dividimos', 'divorciaram', 'doida', 'dívida', 'elétrico', 'embarcou', 'encarregado', 'encha', 'enchente', 'encontradas', 'encrencado', 'enganados', 'engordar', 'engraçadas', 'ensolarado', 'entramos', 'entrem', 'envolver', 'equipamento', 'errei', 'esbarrei', 'escalou', 'escolhi', 'escritos', 'esfregou', 'espada', 'esperaria', 'espião', 'esqueças', 'estivéssemos', 'estádio', 'excepcionalmente', 'exceções', 'fabuloso', 'faltou', 'famílias', 'fardo', 'ferida', 'fingindo', 'fogueira', 'fotográfica', 'francamente', 'fáceis', 'gota', 'havendo', 'helicóptero', 'hilário', 'honestamente', 'hotéis', 'humilde', 'iate', 'idiotas', 'ignore', 'imagina', 'imaginando', 'inesquecível', 'inevitável', 'infecção', 'integral', 'interferindo', 'internacional', 'jantamos', 'jardinagem', 'justamente', 'ladrões', 'leem', 'levantou-se', 'levaria', 'lida', 'lidando', 'ligaram', 'limpei', 'lindas', 'longas', 'maio', 'materialista', 'medidas', 'medidor', 'melhore', 'menores', 'mentirosa', 'mereceu', 'montar', 'moraram', 'movendo', 'movimentada', 'nativos', 'necessariamente', 'nessas', 'nesses', 'neva', 'nível', 'nó', 'obedeça', 'obra', 'observou', 'oh', 'oportunidades', 'ora', 'originalmente', 'otimistas', 'padre', 'paletó', 'panquecas', 'pareces', 'pegadas', 'pensávamos', 'perfeitos', 'perguntem', 'pessoais', 'pilha', 'piorou', 'planejado', 'plena', 'portugal', 'prender', 'preocupadas', 'presas', 'presumi', 'primeiras', 'prioridades', 'processar', 'programador', 'pronunciar', 'psiquiatra', 'pus', 'quanta', 'quarta-feira', 'recorde', 'refrigerante', 'renda', 'renunciar', 'repreendido', 'respire', 'respirou', 'restante', 'rever', 'rigoroso', 'rimos', 'riso', 'roda', 'rosquinha', 'sabeis', 'sacola', 'salto', 'saltou', 'sanguínea', 'satisfeita', 'secou', 'sejamos', 'sentiu-se', 'separar', 'servem', 'sinta-se', 'social', 'sogra', 'solta', 'solto', 'souber', 'subestime', 'sucedido', 'sumiu', 'suor', 'surda', 'surpreender', 'suspeitou', 'sussurrou', 'sítio', 'tartarugas', 'teclado', 'telefonar', 'telefonema', 'telefônica', 'temer', 'tempinho', 'tenista', 'tentaria', 'tentássemos', 'terreno', 'território', 'testamento', 'tivessem', 'tomem', 'traje', 'tranquei', 'transformou', 'trapaceou', 'tratando', 'tratar', 'trate', 'trazido', 'troca', 'trovão', 'turista', 'tímidas', 'título', 'usada', 'usaria', 'valiosa', 'vazamento', 'vence', 'vencesse', 'video', 'visitantes', 'visual', 'viúva', 'vomitar', 'votos', 'vês', 'álibi', 'ótimas', '13', 'abacaxi', 'abelhas', 'abordagem', 'absorve', 'acampamento', 'acesas', 'acompanhou', 'acordaram', 'acostumando', 'acusação', 'admirava', 'adormecer', 'adorou', 'adotar', 'afeta', 'agarrou', 'agrada', 'agradeci', 'ajudante', 'ajudar-te', 'alegra-me', 'alfabética', 'alface', 'alimente', 'alterações', 'alô', 'amarrou', 'ameaça', 'andares', 'aparece', 'apimentada', 'aplica', 'apoiar', 'apreciamos', 'apressado', 'aprovação', 'aproveitou', 'aprovo', 'aranha', 'arrepios', 'arrogante', 'artes', 'artistas', 'asiáticos', 'assobiar', 'astrologia', 'atacar', 'atingir', 'atordoado', 'atrapalhar', 'atrasa', 'atrasaria', 'atropelada', 'aumente', 'aviões', 'aérea', 'bacana', 'balão', 'belas', 'bem-vindas', 'bengala', 'berço', 'bizarro', 'bolsos', 'bondade', 'bonitinho', 'bote', 'botou', 'brincou', 'britânico', 'bônus', 'c', 'cachorrinho', 'caminharam', 'caminhei', 'cancelou', 'cansadas', 'cantasse', 'cantina', 'carismático', 'carregada', 'case', 'cauda', 'causado', 'causei', 'caça', 'caíram', 'cebola', 'chamem', 'chegaste', 'chocados', 'cirurgião', 'claras', 'coletando', 'colheita', 'comentar', 'comestível', 'começaremos', 'começarmos', 'comia', 'companheiro', 'competente', 'completou', 'compromissos', 'concorde', 'condição', 'conexão', 'congelado', 'consequências', 'contasse', 'contentes', 'continuam', 'continuo', 'convenci', 'convencida', 'conveniente', 'corremos', 'corrigir', 'cortando', 'costura', 'criativos', 'crua', 'curte', 'custos', 'daqueles', 'degraus', 'deitou', 'delegacia', 'democracia', 'demorando', 'depender', 'der', 'derreteu', 'desaparecer', 'desejos', 'detê-lo', 'devendo', 'devolva', 'dezessete', 'diabético', 'diamantes', 'dirigisse', 'discussões', 'dizer-lhe', 'dizes', 'documentário', 'doem', 'drinque', 'duvidar', 'duzentos', 'efeitos', 'eletrônico', 'empregados', 'emprestados', 'encanador', 'encantado', 'encontraríamos', 'engolir', 'enlouqueceu', 'ensine', 'entreguei', 'entusiasmo', 'esconde', 'escorrendo', 'escove', 'escurecendo', 'esfriando', 'específico', 'espertos', 'espetáculo', 'espirituoso', 'estacionei', 'estreita', 'evidente', 'exemplos', 'exige', 'experimento', 'explodir', 'extensão', 'extraordinária', 'face', 'fala-se', 'falaria', 'falas', 'falha', 'faltam', 'fazes', 'fechando', 'feri', 'fiel', 'finja', 'flexões', 'formei', 'fotogênico', 'funcionários', 'gaiola', 'ganhado', 'ganharia', 'ganhará', 'gastaram', 'geografia', 'global', 'gorjeta', 'gostosa', 'gratuito', 'grega', 'guardanapo', 'guardas', 'honestas', 'humana', 'idênticas', 'imagino', 'inapropriado', 'inclinou', 'inconveniente', 'incômodo', 'indeciso', 'informados', 'informar', 'iniciante', 'insatisfeito', 'inseguro', 'insubstituível', 'interferir', 'interrompeu', 'invadiu', 'invenção', 'inúmeras', 'inúteis', 'iphone', 'irrita', 'italiana', 'italiano', 'julho', 'jurei', 'juventude', 'lamenta', 'lançou', 'leiam', 'lentes', 'levamos', 'levantei-me', 'libras', 'lindos', 'linguagem', 'lojas', 'lutaram', 'maduras', 'magnífico', 'malvado', 'mancha', 'mansão', 'marca', 'março', 'mata', 'matado', 'memorizar', 'menininho', 'mentem', 'mergulhar', 'mosca', 'motocicleta', 'mova', 'mágico', 'nacionais', 'nascença', 'nascido', 'naturalmente', 'necessito', 'negro', 'nervosos', 'noivado', 'norte-americano', 'odiar', 'olímpicos', 'orfanato', 'organização', 'osso', 'ovelha', 'ovelhas', 'padrinho', 'palestra', 'parecendo', 'parente', 'passará', 'perdeste', 'perdidas', 'perdoá-lo', 'persistente', 'persuadi-lo', 'persuadir', 'pintada', 'pintando', 'pintei', 'pipa', 'pistola', 'podre', 'porto', 'posiciona', 'potável', 'pratica', 'preferem', 'preferida', 'pressionar', 'pressionou', 'pretos', 'primas', 'procurava', 'prontamente', 'próximas', 'psicólogo', 'puderam', 'pública', 'queimada', 'quisera', 'receberam', 'recomeçar', 'recusa', 'refrigerador', 'relaxado', 'repreendeu', 'respeita', 'respirando', 'respondidas', 'ressaca', 'revelou', 'rompeu', 'roxo', 'rápidos', 'rússia', 'saberão', 'salva-vidas', 'salvo', 'secreta', 'seguintes', 'selo', 'semelhante', 'sentem', 'servidor', 'situações', 'smartphone', 'sobra', 'sobrinho', 'soletra', 'substituído', 'sugere', 'superior', 'surfar', 'sérios', 'teimosa', 'tenda', 'tentará', 'ter-me', 'testemunhou', 'tigela', 'toquei', 'tornamos', 'tornei', 'trailer', 'turno', 'uniformes', 'vaga', 'varal', 'varrer', 'vegetarianos', 'vencedor', 'verdadeiros', 'verifique', 'viajo', 'vilarejo', 'vivido', 'voos', 'véspera', '(', '45', '500', '6h30', 'abduzido', 'abrem', 'abri-la', 'abrigo', 'abrindo', 'acharia', 'ache', 'acompanhá-lo', 'acordadas', 'acostumados', 'acreditamos', 'adicionei', 'adivinhem', 'afinco', 'agente', 'agradar', 'agradecimento', 'ajuda-me', 'ajudem', 'alfabeto', 'algemado', 'aliados', 'aliança', 'altamente', 'amarelo', 'amas', 'ambição', 'andado', 'andamos', 'anotei', 'antiquado', 'aplaudiu', 'aplicativo', 'aprovar', 'apunhalou', 'armados', 'arrependimentos', 'arruinou', 'artificial', 'artigos', 'assustadas', 'assustadora', 'assustei', 'atmosfera', 'ausentes', 'azedo', 'baleias', 'baratos', 'baterias', 'beija', 'belos', 'bobagem', 'bocejar', 'bois', 'bolachas', 'boneco', 'brasileira', 'brócolis', 'bússola', 'c.', 'caber', 'caem', 'caligrafia', 'calmos', 'camarão', 'caminhava', 'canhoto', 'cansa', 'cantores', 'capacetes', 'capô', 'cardápio', 'cartão-postal', 'cavou', 'cegos', 'celebridade', 'cervejas', 'cesto', 'chaminé', 'chegarmos', 'choque', 'chorado', 'chumbo', 'chuvoso', 'cidadezinha', 'cigarros', 'circo', 'cochilou', 'colando', 'colegial', 'colocando', 'comam', 'comeremos', 'comeste', 'comidas', 'comprará', 'comprida', 'comprimidos', 'conduzir', 'confiado', 'confiaram', 'confiavam', 'confirmar', 'conforme', 'confundido', 'conseguisse', 'constrangedor', 'constrangido', 'consumo', 'continente', 'continuarei', 'cooperando', 'cordas', 'coreana', 'costumamos', 'costumavam', 'crer', 'cru', 'cuidaremos', 'cumpre', 'daltônico', 'damas', 'daninhas', 'dançarino', 'declarar', 'decolou', 'dedicada', 'dedicou', 'deixamos', 'deixasse', 'deixo', 'delirando', 'delirar', 'deprimente', 'descanse', 'desci', 'desiste', 'desistindo', 'deu-lhe', 'devamos', 'devo-lhe', 'diagnosticado', 'dicionários', 'diga-lhe', 'digam-me', 'diplomático', 'diretamente', 'discursos', 'discuti', 'divorciando', 'dióxido', 'doar', 'doméstico', 'dormimos', 'dormiram', 'dormitório', 'drasticamente', 'durma', 'dúzias', 'educada', 'educadamente', 'einstein', 'elogio', 'emagrecer', 'empregos', 'emprestarei', 'encharcado', 'encorajou', 'enfermidade', 'ensinava', 'ensopado', 'entendesse', 'enterrou', 'entrando', 'envenenado', 'enxerga', 'ervas', 'escaparam', 'esclarecer', 'escolhas', 'escolheram', 'escondeu-se', 'escravo', 'escrevam', 'escritora', 'esforçando', 'esforçar', 'espacial', 'espalhou', 'especialmente', 'esperarmos', 'espontâneo', 'esquiando', 'esquilo', 'esquilos', 'estada', 'estações', 'estivera', 'estourou', 'estragaram', 'estressante', 'estritamente', 'estáveis', 'ex-namorado', 'examinou', 'excelentes', 'existia', 'experimente', 'explica', 'falarei', 'fascinado', 'fatias', 'favoritas', 'feedback', 'feira', 'ferimento', 'fino', 'fiquemos', 'fisicamente', 'formar', 'formigas', 'franca', 'fugi', 'funcionaria', 'galho', 'games', 'garotinho', 'gastado', 'gasto', 'gastos', 'ginásio', 'girafa', 'governador', 'gradualmente', 'grana', 'grata', 'gravidade', 'grita', 'grogue', 'grosso', 'habilitação', 'hilton', 'histórico', 'houver', 'humilhado', 'ida', 'identificado', 'identificação', 'idosa', 'idosos', 'idênticos', 'imaturo', 'imediato', 'impressionados', 'impulsivo', 'inacreditável', 'incomodava', 'incompetente', 'industrial', 'informou', 'insisto', 'inspirou', 'intolerante', 'intérprete', 'investigar', 'irritada', 'isca', 'jacksons', 'jantam', 'jesus', 'joelhos', 'julguei', 'jurar', 'lactose', 'lagarta', 'latiu', 'levaram', 'limpas', 'louças', 'macia', 'mantenha-me', 'mantenha-se', 'manterei', 'melancia', 'melhora', 'melodia', 'mencionar', 'mentes', 'mentor', 'merecemos', 'mexeu', 'milagre', 'mimado', 'mobília', 'morcego', 'mordida', 'motivação', 'mp3', 'museus', 'nasce', 'navegador', 'necessita', 'necessários', 'nervos', 'notado', 'novembro', 'noventa', 'nuvem', 'obteve', 'ofereci', 'omelete', 'operação', 'ordenou', 'origem', 'ovni', 'pacientemente', 'pagaria', 'pagará', 'palha', 'parassem', 'partindo', 'partiram', 'passaram-se', 'patético', 'pedem', 'pedirei', 'pedisse', 'pensaria', 'pensavam', 'percebido', 'perderá', 'perigos', 'perigosa', 'permitiria', 'permitirá', 'perseguindo', 'pertencem', 'pilotar', 'pisa', 'pise', 'placa', 'plataforma', 'poltrona', 'políticos', 'pombos', 'possessivo', 'postal', 'precioso', 'precisarem', 'precisaria', 'preocupamos', 'preocupações', 'pretendemos', 'procuramos', 'produz', 'promete', 'pulando', 'pule', 'pulseira', 'puro', 'pôr-do-sol', 'quaisquer', 'quantia', 'quarentena', 'quebra-cabeça', 'queimado', 'queixar', 'querido', 'raiz', 'rapariga', 'ração', 'reais', 'realizou', 'reação', 'receba', 'receitas', 'recheio', 'recomendaria', 'recordo', 'recupere', 'recurso', 'recuso', 'rede', 'relações', 'relevante', 'religiões', 'remoto', 'repórter', 'reservado', 'resgatar', 'resolvido', 'respeitam', 'responderam', 'retiro', 'retórica', 'reuniões', 'revolução', 'rocha', 'rodas', 'roncar', 'roncou', 'rural', 'russo', 'sabedoria', 'semáforo', 'severo', 'soar', 'sofri', 'solitária', 'sonhar', 'sorria', 'subitamente', 'sugeri', 'sugerindo', 'suspenso', 'séculos', 'tampouco', 'tapa', 'taxi', 'tecido', 'tela', 'templo', 'terminará', 'terroristas', 'tesouras', 'tigres', 'times', 'tirada', 'tirasse', 'tocado', 'tornará', 'tratou', 'truques', 'tímidos', 'típico', 'tô', 'valioso', 'vantagens', 'vassoura', 'velejar', 'venceria', 'vencerá', 'vendido', 'ventilador', 'vestidos', 'vi-o', 'viajei', 'vidros', 'visite', 'voa', 'volante', 'voluntariou', 'voto', 'vovó', 'vozes', 'zelândia', 'áustria', 'órgão', 'últimas', '17', '8', 'abacates', 'abri-lo', 'absurda', 'acabe', 'aconselhada', 'acreditará', 'acusando', 'adormecido', 'adotou', 'advertiu', 'afogando', 'afundou', 'age', 'agradeceria', 'ajudava', 'alerta', 'alimenta', 'alérgica', 'amarrar', 'ame', 'amostra', 'amáveis', 'andamento', 'ansiosamente', 'anterior', 'antiético', 'análise', 'apagadas', 'apaguei', 'apaixonadas', 'aparências', 'apertaram', 'aplaudiram', 'apresentação', 'aprovado', 'aproveitando', 'aquecimento', 'arbusto', 'arco-íris', 'argumentar', 'argumento', 'armazém', 'arrume', 'aspectos', 'assada', 'assistia', 'assistência', 'assou', 'astuto', 'atalho', 'atire', 'atrasadas', 'atravessei', 'atração', 'auditivo', 'ausência', 'automóvel', 'autêntico', 'aventureiro', 'aves', 'avise-nos', 'azar', 'baixou', 'balas', 'baleado', 'beberam', 'boba', 'bocado', 'bosque', 'brasileiro', 'brigaram', 'brilhando', 'brincarem', 'bruxas', 'bruços', 'cacau', 'cachorros-quentes', 'cafeteria', 'café-da-manhã', 'calculadora', 'caminhonete', 'camisetas', 'campeonato', 'campeão', 'campus', 'canoa', 'cansando', 'cansou', 'cantado', 'capturaram', 'casca', 'casos', 'castelos', 'causas', 'cauteloso', 'cedeu', 'celebrar', 'cemitério', 'cerebral', 'chaleira', 'chapéus', 'cheguem', 'chineses', 'chocada', 'choram', 'churrasco', 'cintura', 'civis', 'ciúme', 'claustrofóbico', 'cobertas', 'cobertores', 'cola', 'coletar', 'colocá-lo', 'colou', 'combinação', 'comecemos', 'comentários', 'comercial', 'comermos', 'comparação', 'compareceu', 'comporta', 'comportando', 'compostura', 'compram', 'comprometida', 'comédia', 'comércio', 'concordará', 'conferir', 'confissão', 'confundi', 'confusão', 'congelando', 'conquista', 'conserte', 'conserto', 'considerando', 'contribuir', 'contêm', 'converse', 'convidaram', 'cookies', 'copas', 'corpos', 'corrija', 'cortador', 'costumes', 'crescem', 'crocodilo', 'cruzadas', 'crítica', 'culpada', 'culpados', 'curtas', 'dano', 'dançaram', 'danço', 'declaração', 'decolar', 'dedicar', 'derrota', 'derrotado', 'derrubei', 'desapareceram', 'descarga', 'descarregar', 'descascou', 'descobrimos', 'descobrirá', 'desenhos', 'desenvolver', 'desfazer', 'desmoronou', 'despedidas', 'despediu', 'desporto', 'detalhadamente', 'deverão', 'dezembro', 'diga-nos', 'diminuindo', 'diminuiu', 'dirigia', 'discreta', 'disposição', 'distrair', 'diversões', 'dizer-me', 'documentários', 'dormente', 'duplo', 'econômica', 'egito', 'embriagada', 'emoção', 'empregado', 'empresário', 'encomendei', 'encontrada', 'encontrasse', 'encontrá-las', 'enlouquecendo', 'entediados', 'entendê-lo', 'envenenou', 'enviaram', 'envie', 'envie-me', 'esconderijo', 'escondida', 'escorregadia', 'escravidão', 'escreva-me', 'escuras', 'escutam', 'escutaram', 'esfriar', 'esgotado', 'esqueceremos', 'esquecerá', 'esquentando', 'esqui', 'estadunidenses', 'estaríamos', 'estátuas', 'eventualmente', 'evite', 'evitou', 'ex', 'exagera', 'excepcional', 'expedição', 'experimentei', 'explicado', 'extinção', 'falará', 'falhado', 'faliu', 'famosas', 'festejar', 'finge', 'fizeres', 'fizesses', 'flexibilidade', 'fones', 'fontes', 'formal', 'formas', 'formidável', 'formulários', 'frequentes', 'frios', 'frustrante', 'frágil', 'fundamental', 'furacão', 'físico', 'físicos', 'ganhava', 'garantir', 'garotinha', 'gastamos', 'gatilho', 'geração', 'giants', 'golfinho', 'google', 'gostaste', 'gratuitamente', 'gravou', 'grego', 'grito', 'gêmeas', 'hambúrgueres', 'hd', 'hidrogênio', 'holanda', 'horizonte', 'hóspedes', 'ignorando', 'ignorância', 'ilhas', 'impedindo-me', 'impedir-me', 'impressionada', 'impressionou', 'impressões', 'imprevisível', 'incluindo', 'incomodá-lo', 'indica', 'indicar', 'indignado', 'indispensável', 'inesperado', 'inflação', 'influente', 'injusta', 'inscrição', 'insiste', 'insistia', 'instalar', 'instrumentos', 'insuportável', 'intenso', 'intercâmbio', 'interrogado', 'interrompido', 'irmãozinho', 'jaula', 'jogado', 'junte-se', 'júri', 'lagosta', 'largura', 'lavado', 'legalmente', 'leis', 'lembrarei', 'lembrei', 'lenta', 'letras', 'ligações', 'liguem', 'limpeza', 'linhas', 'link', 'lições', 'loira', 'lábios', 'lógica', 'macieira', 'mal-entendido', 'mantêm', 'marcar', 'marinha', 'material', 'matá-lo', 'medida', 'medir', 'meia-irmã', 'meio-irmão', 'mergulhou', 'meter', 'microscópio', 'milagres', 'milho', 'mineral', 'misturar', 'mistérios', 'modesto', 'molhadas', 'molhou', 'morado', 'moscas', 'mostraram', 'motel', 'mudamos', 'mudou-se', 'munição', 'métodos', 'músicos', 'nadei', 'namorou', 'nações', 'nega', 'notar', 'notável', 'odeie', 'odiamos', 'ofereceram', 'olhava', 'orando', 'ordenhar', 'orelha', 'organizou', 'ostras', 'ouvia', 'ouviste', 'pagamos', 'pagaste', 'pandas', 'papagaio', 'passeando', 'pazes', 'pedidos', 'pegá-lo', 'penhasco', 'pera', 'perdoaria', 'perguntam', 'pertences', 'pertencia', 'peruca', 'picadas', 'picante', 'pijamas', 'pinturas', 'planejamos', 'poderoso', 'podres', 'pontas', 'pontes', 'porcaria', 'precisais', 'prestado', 'principiante', 'procurado', 'produtivo', 'produtor', 'profissão', 'profundidade', 'prometa', 'propôs', 'protegendo', 'protegeu', 'prove', 'psicologia', 'pudermos', 'pularam', 'pulmão', 'punho', 'punir', 'quantidades', 'quebrados', 'queiram', 'queiras', 'queixas', 'quinta', 'rachar', 'recessão', 'reclamação', 'recorrer', 'recusaram', 'relativamente', 'relatórios', 'render', 'renovar', 'renunciou', 'repetiu', 'repita', 'resolverá', 'respeitamos', 'retorne', 'revelar', 'rezando', 'riem', 'rifle', 'rios', 'risada', 'roda-gigante', 'rodada', 'roer', 'ruínas', 'sabido', 'sabão', 'sacada', 'sairmos', 'sairá', 'salgada', 'salvei', 'salão', 'sarcástica', 'seguirei', 'sensato', 'sentaram-se', 'senti-me', 'sentiremos', 'sentisse', 'separados', 'sermos', 'silencioso', 'sino', 'sobrevivemos', 'socorro', 'soletrar', 'solucionar', 'sombrinha', 'sonham', 'soubemos', 'subornar', 'sugeriria', 'super', 'superfície', 'suporta', 'surpreendente', 'sóbrio', 'tagarela', 'tais', 'tarifas', 'tatuagens', 'temporada', 'tende', 'tendem', 'tendência', 'tentada', 'tentemos', 'termômetro', 'terras', 'terás', 'terça-feira', 'testes', 'tinge', 'tiraram', 'torcendo', 'tornando', 'tornar-se', 'tortas', 'tossir', 'touro', 'trabalhe', 'traduções', 'traidor', 'trancadas', 'tranquila', 'transferido', 'treinamento', 'trigo', 'trilha', 'trompete', 'tropas', 'troque', 'tubarões', 'tuberculose', 'turístico', 'usados', 'usem', 'utiliza', 'van', 'velinhas', 'veria', 'vermelhos', 'viagens', 'viemos', 'vieste', 'visitam', 'visitará', 'visitas', 'vizinha', 'voam', 'vodca', 'voltamos', 'vídeos', 'washington', 'zombar', 'zona', 'zíper', 'àquela', 'ávido', 'órgãos', 'óvni', '—', '11', '19', '1950', '22', '23', '24', '3.000', '80', '9', 'abafado', 'abandonaram', 'abençoe', 'aceitam', 'acendesse', 'acendi', 'acompanha', 'acompanhado', 'aconselha', 'aconselhado', 'acusaram', 'acusações', 'adaptar', 'adicionarei', 'admirável', 'adoeceu', 'adotada', 'afetar', 'agricultores', 'aguenta', 'ajudar-me', 'ajudem-me', 'ajudinha', 'aliás', 'alugaram', 'analisar', 'angeles', 'antiguidades', 'anunciou', 'anúncio', 'apareça', 'apertada', 'apertem', 'aposentada', 'aposentei', 'apostou', 'aprenderá', 'aprendesse', 'apresentado', 'aprovada', 'arqueologia', 'arregaçou', 'arrependerá', 'arrependeu', 'arruinado', 'arruma', 'arrumado', 'arrumando', 'assassinados', 'assina', 'assistem', 'assistirei', 'assustam', 'assustando', 'aterrorizado', 'atlântico', 'atlético', 'atormentar', 'atraiu', 'atravesse', 'atuar', 'audição', 'audiência', 'aumenta', 'aventura', 'avisarei', 'avisos', 'b', 'bailarino', 'baixas', 'balconista', 'banquete', 'barbearia', 'barcos', 'base', 'basebol', 'basicamente', 'basquetebol', 'batido', 'batom', 'beije', 'beijá-lo', 'benefícios', 'berlim', 'bloqueou', 'blusão', 'borda', 'brigado', 'brigamos', 'burra', 'buscá-lo', 'cabana', 'cadarços', 'calada', 'caminha', 'campeões', 'canceladas', 'cancelei', 'cansativo', 'cantei', 'caos', 'capítulos', 'caramba', 'carteiro', 'caráter', 'casando', 'casinha', 'católica', 'católico', 'causam', 'cavalgar', 'cereal', 'cervo', 'chuvas', 'cidadania', 'cinza', 'cinzeiro', 'clássico', 'cobriu', 'coca-cola', 'colchão', 'coletiva', 'colombo', 'coloquem', 'colônia', 'combinam', 'comemora', 'comesse', 'cometeram', 'cometerá', 'compartilho', 'competidores', 'competições', 'complexa', 'comporte-se', 'comportem-se', 'comportou', 'compreendi', 'compôs', 'comunista', 'concordado', 'confessar', 'conseguiam', 'consertá-la', 'consome', 'conta-me', 'continuamos', 'continuaremos', 'continuava', 'contratamos', 'contribuindo', 'convencidos', 'convencê-lo', 'cooperativo', 'cooperação', 'coreia', 'coroa', 'corrigiu', 'corro', 'cortaram', 'cova', 'cozinho', 'crescimento', 'crus', 'crê', 'cuide-se', 'cuja', 'cujas', 'cumpra', 'cumprimenta', 'cumprimentar', 'curar', 'cômoda', 'dadas', 'decepcionante', 'decepcionou', 'decidiste', 'decorou', 'deletou', 'delicada', 'delicado', 'delícia', 'demorado', 'demorei', 'derretendo', 'desabou', 'descascar', 'descendem', 'desconfiado', 'desconhecida', 'descontraído', 'descreva', 'desculpam', 'desejamos', 'desempenho', 'desenha', 'desenhe', 'desenhei', 'designer', 'desistiram', 'desmaiei', 'desmontou', 'despejado', 'destrancou', 'destruídas', 'desça', 'determinação', 'detestava', 'detrás', 'devolvi', 'dicas', 'digno', 'dilema', 'direta', 'discordam', 'discuta', 'discutiram', 'disléxico', 'distantes', 'diversas', 'diversos', 'divide', 'dividido', 'dividir', 'divorciados', 'diz-me', 'diária', 'dobrando', 'dobre', 'dobrei', 'dona', 'dr.', 'dragão', 'drogada', 'duram', 'dói-me', 'econômico', 'eficaz', 'eiffel', 'embarcar', 'emperrada', 'empolgante', 'emprestaria', 'empurre', 'encontraste', 'encontrem', 'enfermeiro', 'enfim', 'enganam', 'engane', 'enormes', 'ensinam', 'entendeste', 'entusiasmado', 'envelhecendo', 'envenenar', 'escassez', 'escolheria', 'escondidos', 'escreverei', 'escutamos', 'escândalo', 'especialistas', 'espinhos', 'esposas', 'esquecê-la', 'estando', 'estarmos', 'estiveres', 'estiveste', 'estrutura', 'estudarei', 'estudasse', 'estúpidos', 'esvaziou', 'eventos', 'ex-namorada', 'examinar', 'excitante', 'excluiu', 'executado', 'exigiu', 'existência', 'experimenta', 'fake', 'falada', 'falantes', 'falavam', 'fales', 'falhamos', 'falharam', 'falsificou', 'fama', 'farias', 'fatores', 'fax', 'fazendeiros', 'fazer-lhe', 'fecharam', 'ferramenta', 'filósofo', 'financeiro', 'fizestes', 'floricultura', 'focado', 'foco', 'formando', 'formação', 'fosses', 'fracas', 'franceses', 'fraquezas', 'frasco', 'freio', 'fresca', 'frias', 'frigideira', 'frita', 'frito', 'fugitivo', 'fuja', 'funcionário', 'fígado', 'gado', 'galeria', 'gangue', 'gaste', 'gentilmente', 'girassol', 'graduou', 'graves', 'guardarei', 'guardei', 'guaxinim', 'habilidoso', 'habitantes', 'habitual', 'havido', 'homicídio', 'hospitais', 'idéias', 'idêntico', 'ignorava', 'igrejas', 'imensa', 'imigração', 'importado', 'imposto', 'imprensa', 'incentivo', 'inclui', 'inclusive', 'incorreta', 'inferior', 'inflexível', 'infringiu', 'inglesas', 'iniciais', 'insensível', 'inseparáveis', 'instantaneamente', 'instintos', 'insulto', 'intencional', 'interessam', 'intimidado', 'intrometido', 'introvertido', 'invadir', 'investimento', 'iogurte', 'ipad', 'irracional', 'irritar', 'irônico', 'isqueiro', 'joguem', 'juntar-se', 'jurou', 'lambeu', 'lamentar', 'lançado', 'latas', 'lavadas', 'lemos', 'lenha', 'levantamos', 'levá-la', 'ligam', 'limões', 'listrado', 'litros', 'livre-se', 'loiras', 'los', 'lógico', 'machucada', 'machucamos', 'machucando', 'madrugada', 'maduro', 'magoado', 'magoar', 'mahal', 'manchas', 'mandam', 'massagem', 'mataria', 'meditando', 'mediu', 'melhorias', 'mencionado', 'mestre', 'metido', 'micro-ondas', 'mina', 'miserável', 'misterioso', 'modesta', 'molécula', 'moravam', 'morremos', 'morreria', 'mortal', 'mosquito', 'mostrando', 'mostrarei', 'mostrou-me', 'mudarei', 'muitíssimo', 'musical', 'nacionalidade', 'navios', 'necessidades', 'negociações', 'negra', 'nestes', 'nevasca', 'noruega', 'notaram', 'novato', 'nutritivo', 'objeções', 'oboé', 'obrigados', 'obrigatório', 'observado', 'ocorrido', 'oeste', 'operar', 'oriente', 'originais', 'ossos', 'pagas', 'papelada', 'parafuso', 'param', 'paramos', 'partimos', 'partirei', 'pastor', 'patos', 'pedi-lhe', 'pegarei', 'pensem', 'pentear', 'perdoado', 'perfeccionista', 'perguntamos', 'perguntei-lhe', 'perguntou-me', 'permitem', 'perturbar', 'pesados', 'pingando', 'pintamos', 'piores', 'pirâmide', 'pisei', 'pista', 'plana', 'plantar', 'poderosos', 'poderão', 'poker', 'polegadas', 'pomba', 'ponha-se', 'ponham', 'ponho', 'possas', 'postais', 'poupança', 'prefeitura', 'prepare-se', 'presunçoso', 'pretas', 'previsto', 'previu', 'principais', 'professoras', 'programar', 'programas', 'projetor', 'prometem', 'propor', 'protegê-la', 'protegê-lo', 'provei', 'provocado', 'provocar', 'provocou', 'psíquicas', 'pula', 'pulgas', 'pálida', 'páscoa', 'pôsteres', 'públicas', 'quebra', 'queimadura', 'querida', 'quilômetro', 'quisermos', 'raposas', 'rasguei', 'razoavelmente', 'reagiu', 'realizado', 'recebendo', 'reclamam', 'recomendação', 'reconsiderar', 'recuperação', 'recusado', 'recusava', 'recusei', 'reflete', 'regar', 'relaxa', 'relaxante', 'relutantemente', 'relógios', 'remover', 'reparei', 'resolvê-lo', 'respeitado', 'respeite', 'respondendo', 'reta', 'rezo', 'rezou', 'riqueza', 'ritmo', 'rodovia', 'rosquinhas', 'rotina', 'ruído', 'rápidas', 'sacos', 'saltar', 'salvos', 'sanguíneo', 'sarro', 'secundária', 'seda', 'segurei', 'selvagem', 'semelhança', 'senta-te', 'sentadas', 'sentar-se', 'sentasse', 'sentiriam', 'separaram', 'setenta', 'sextas', 'sexy', 'simpática', 'simpáticos', 'sintomas', 'sociais', 'sociável', 'soco', 'socorros', 'sofrimento', 'software', 'solicitado', 'soluçar', 'soma', 'sonhava', 'soprando', 'soprou', 'suar', 'suba', 'suficientemente', 'sugerir', 'suicidou', 'superficial', 'surpreenderam', 'suspeitava', 'suspiro', 'símbolo', 'tailândia', 'taj', 'talentos', 'telemóvel', 'tema', 'temia', 'temperamento', 'tenhas', 'tentaremos', 'terminaste', 'tese', 'testemunhas', 'tios', 'tiverem', 'tocasse', 'toquem', 'tornado', 'tornaram-se', 'torneio', 'torradeira', 'tossiu', 'trabalhavam', 'tragédia', 'tratava', 'traz-me', 'traído', 'tribunal', 'tristeza', 'trombei', 'trombone', 'trágico', 'tubarão', 'túmulo', 'uau', 'universal', 'urbana', 'usá-la', 'valem', 'valer', 'variam', 'veem', 'vegano', 'vendidos', 'vendê-lo', 'venhas', 'vens', 'ver-te', 'verá', 'verídica', 'violenta', 'virem', 'visitaria', 'viável', 'viúvo', 'voltarão', 'voltava', 'vomitei', 'vossas', 'vovô', 'vulnerável', 'válvula', 'vás', 'vírus', 'zelador', 'zombou', 'àqueles', 'árabe', 'átomos', '...', '/', '0', '1945', '1980', '2.000', '200', '4', '60', '90', '911', 'abatido', 'abertura', 'abotoou', 'abrirá', 'abusando', 'aceitamos', 'aceitarei', 'aceitável', 'acelerou', 'acertar', 'achavam', 'acontecera', 'actínio', 'acupuntura', 'adaptou', 'adiado', 'adiante', 'adicionou', 'admirar', 'admite', 'admiti', 'adquirir', 'adulta', 'adversário', 'afastar', 'afiou', 'afirmar', 'afirmou', 'africanos', 'agachou', 'agradáveis', 'agricultura', 'aguar', 'aja', 'ajudemos', 'alce', 'aldeia', 'alega', 'alertou', 'alimentação', 'alpes', 'alterar', 'alugamos', 'aluna', 'amainou', 'amarraram', 'amasse', 'ambiciosa', 'ambidestro', 'ambientais', 'ambiente', 'ameaçada', 'amendoins', 'ameno', 'amplamente', 'analgésicos', 'animados', 'ansiedade', 'anteriormente', 'antibióticos', 'anzol', 'apaixonadamente', 'apaixonando', 'apanhou', 'apareceram', 'aplicam', 'aposento', 'aprecia', 'aprendo', 'apressem-se', 'apta', 'arqueólogo', 'arrastou', 'arrepiado', 'asilo', 'aspirador', 'assinado', 'assumindo', 'atacaram', 'atenda', 'atenções', 'atiraram', 'atividades', 'ativos', 'atletas', 'atores', 'atrasou-se', 'atravessa', 'atum', 'atômico', 'automaticamente', 'auxílio', 'avisa', 'avisá-los', 'azeda', 'azeite', 'açougueiro', 'bactérias', 'bancar', 'banheiros', 'baralho', 'barbear', 'barman', 'barras', 'barulhentos', 'baseada', 'bastantes', 'bateram', 'baú', 'beatles', 'bebé', 'beijaria', 'bexiga', 'bilíngue', 'biografia', 'bloco', 'bocejou', 'bolhas', 'borracha', 'brancos', 'brevemente', 'brilhantes', 'brinca', 'brinco', 'britânicos', 'buscando', 'cadente', 'caia', 'caidinho', 'caixinha', 'cale', 'cale-se', 'califórnia', 'camareira', 'camelo', 'campos', 'candidatos', 'caneca', 'cantam', 'capim', 'carregue', 'carrinho', 'carroça', 'carvalho', 'casacos', 'casaria', 'casará', 'casarão', 'casasse', 'castanho', 'caçador', 'caçoar', 'caída', 'caído', 'celebrou', 'central', 'cenário', 'cessou', 'chamadas', 'chamasse', 'chegados', 'chegarem', 'chileno', 'chinelos', 'chocolates', 'choramos', 'cia', 'climáticas', 'clínica', 'cobertos', 'cochilando', 'coleciona', 'colecionava', 'coleciono', 'coleira', 'colesterol', 'colheres', 'colheu', 'coloco', 'combate', 'combater', 'comediante', 'comemorado', 'comemoração', 'comerá', 'compareceram', 'compartilhamos', 'compartilhá-lo', 'complicadas', 'complicados', 'comprá-la', 'comunicam', 'comuns', 'concluído', 'concordava', 'concordem', 'concorrer', 'confiantes', 'confiaria', 'confiáveis', 'confunda', 'confundindo', 'confundir', 'congresso', 'conhecida', 'conheçam', 'conheço-o', 'consecutivos', 'conseguiste', 'conserta', 'conservadora', 'consideraria', 'constantes', 'contactar', 'contanto', 'contará', 'contatá-lo', 'contos', 'controle-se', 'convidadas', 'convincente', 'copiar', 'corou', 'corram', 'correção', 'corria', 'corrija-me', 'cortada', 'cotovelo', 'cozinhava', 'crescemos', 'criaturas', 'cristianismo', 'criticou', 'crucial', 'cruzados', 'cuidadosas', 'cuidam', 'cuidará', 'culpou', 'cumprindo', 'curado', 'cômodo', 'dançarina', 'decepcionada', 'decepcionarei', 'decepcioná-lo', 'decidirei', 'deem-me', 'defeito', 'deite-se', 'deitei', 'deixadas', 'deixarão', 'deixas', 'deliciosos', 'demitiram', 'demonstrou', 'demore', 'dental', 'dentre', 'dependente', 'depressão', 'depósito', 'desafiou', 'desaparecida', 'desapontados', 'desaponte', 'desapontou', 'descalços', 'desconfio', 'descontente', 'desculpem', 'desempregada', 'desencorajado', 'desenvolvimento', 'desfile', 'design', 'desistimos', 'desleal', 'deslize', 'deslumbrante', 'desmontar', 'desonesta', 'desorientado', 'despensa', 'despreocupado', 'detalhado', 'determinada', 'detestei', 'detestável', 'deveis', 'dezenas', 'diferenciar', 'digitação', 'digitou', 'dilúvio', 'diplomática', 'discorda', 'discordar', 'discordou', 'discretos', 'dispositivo', 'disposta', 'disse-lhes', 'ditadura', 'dividam', 'divirtam-se', 'divirto', 'dj', 'dna', 'doada', 'doloroso', 'dores', 'dormentes', 'dose', 'droga', 'ducha', 'durasse', 'durão', 'duvidei', 'duvidoso', 'dê-nos', 'e-mails', 'edifícios', 'egoístas', 'elegante', 'eletrocutar', 'embaixador', 'embaralhe', 'embaraçoso', 'emigrou', 'emotivo', 'emoções', 'empolgada', 'empreste', 'encher', 'encolheu', 'encontra-se', 'encontrando', 'encontrarão', 'enfermo', 'enferrujado', 'engana', 'enganaram', 'engenharia', 'engorda', 'entenderei', 'entenderá', 'entrarei', 'entrarem', 'entraria', 'entrará', 'entrasse', 'envergonho', 'enviarei', 'envolvidos', 'enxaqueca', 'ergueu', 'escalaram', 'escapando', 'esconda', 'esconde-esconde', 'escondemos', 'escondidas', 'escorreguei', 'escreverá', 'escureceu', 'esfolou', 'esfrie', 'esnobe', 'espadas', 'esperavas', 'esqueceria', 'esqueceu-se', 'esqueci-me', 'esquema', 'esquentou', 'esqueçamos', 'estadia', 'estarem', 'estendendo', 'estivesses', 'estragado', 'estragaste', 'estudará', 'estúdio', 'everest', 'evidências', 'evitado', 'exagerar', 'exibido', 'exigências', 'exijo', 'existir', 'experimentá-lo', 'explicaria', 'explicá-lo', 'explorar', 'externo', 'fadas', 'falecido', 'falsa', 'fantástica', 'farol', 'faríamos', 'fatiou', 'faziam', 'fede', 'feias', 'fervendo', 'ficheiro', 'ficássemos', 'filhotes', 'finalizar', 'financeira', 'fiques', 'fizermos', 'florestas', 'foguete', 'foi-se', 'ford', 'fortemente', 'fracassou', 'freira', 'fugiram', 'fumante', 'fumem', 'furacões', 'ganharem', 'ganhasse', 'ganhaste', 'garfos', 'gastam', 'gavetas', 'geleia', 'generosas', 'genro', 'genuíno', 'golpe', 'gordura', 'gostais', 'graduação', 'gritaram', 'gritos', 'grupos', 'guardou', 'guindaste', 'gêmea', 'habituado', 'haveria', 'herança', 'hesitante', 'hollywood', 'horários', 'humilhante', 'hóquei', 'iceberg', 'idosas', 'ignorada', 'ilegalmente', 'ilusão', 'imaginou', 'imaginário', 'imitar', 'imitação', 'impacientes', 'imperdoável', 'importe', 'importou', 'impotente', 'imundas', 'imune', 'inchados', 'inchaço', 'incomode', 'indiana', 'indivíduo', 'ineficiente', 'infelizes', 'inflamada', 'influência', 'informe', 'inquieto', 'inscrições', 'inspirado', 'inspirei', 'instrutor', 'insônia', 'intensamente', 'intensidade', 'interesses', 'interior', 'interrogou', 'inundação', 'inventar', 'ipod', 'jantaram', 'jantarmos', 'jarra', 'jato', 'jogasse', 'joguemos', 'jogávamos', 'julgue', 'junta', 'junte', 'jura', 'juízo', 'kanji', 'lamber', 'lamentável', 'lançada', 'larga', 'largos', 'lavagem', 'leal', 'legendas', 'lembrará', 'lembre', 'leve-me', 'libertado', 'libertados', 'libertou', 'lidou', 'ligamos', 'ligaria', 'ligue-me', 'limpasse', 'limusine', 'lisonjeado', 'lobby', 'locais', 'loiro', 'lotada', 'luto', 'lâmpadas', 'lã', 'líquido', 'machucará', 'machucá-lo', 'madre', 'madura', 'maduros', 'mandaram', 'mantenho', 'manterá', 'mantiveram', 'maníaco', 'maratona', 'maravilhosas', 'marcada', 'marinheiro', 'marketing', 'masculino', 'massa', 'mato', 'mecânico', 'mede', 'memorize', 'mendigo', 'mergulho', 'mesquinho', 'metódico', 'mexidos', 'milionários', 'minerais', 'minutinho', 'misteriosa', 'modos', 'monstro', 'monumento', 'moral', 'morcegos', 'morde', 'morna', 'morrerão', 'morresse', 'morávamos', 'mostra-me', 'mostrará', 'mostre-o', 'motim', 'motiva', 'moveu', 'moço', 'mudar-se', 'mudem', 'multa', 'multado', 'músculos', 'mútuo', 'nadaram', 'namorei', 'nascemos', 'nevoeiro', 'new', 'nilo', 'nobel', 'nomeado', 'névoa', 'objeção', 'obra-prima', 'observador', 'observe', 'obstinado', 'odiei', 'ofensivo', 'olhamos', 'olimpíadas', 'oposição', 'orador', 'orar', 'orgulhar', 'orquídeas', 'ousa', 'pagado', 'pagaremos', 'pagos', 'panela', 'para-brisa', 'parava', 'participei', 'particulares', 'parto', 'pará-lo', 'passa-me', 'passagens', 'passarei', 'patavina', 'patins', 'pato', 'pau', 'paulo', 'pauzinhos', 'pecado', 'pega-pega', 'pendurada', 'pensaram', 'pente', 'pequenina', 'peras', 'percebo', 'perco', 'perdas', 'perdem', 'perdoarei', 'perdoasse', 'perdoei', 'perfeição', 'periódico', 'permanente', 'perspicaz', 'picar', 'picou', 'piedade', 'pinta', 'pirata', 'piratas', 'piscinas', 'pizzaria', 'planejar', 'plausível', 'plenamente', 'polo', 'polônia', 'pomar', 'pondo', 'pontualmente', 'pop', 'porcos', 'portanto', 'possessiva', 'possíveis', 'pouquíssimos', 'pousar', 'pousou', 'prancheta', 'prantos', 'praça', 'precipitadas', 'precisamente', 'pregos', 'preguiça', 'preguiçosas', 'prejudicar', 'prejuízo', 'prenderam', 'preocupam', 'preparadas', 'preparamos', 'presidencial', 'pressione', 'prestei', 'primária', 'procedimento', 'procuraram', 'procuro', 'profunda', 'programação', 'proibida', 'projetado', 'provado', 'provocando', 'prová-lo', 'provérbio', 'publicar', 'publicou', 'punição', 'pura', 'purê', 'pães', 'põem', 'quadrado', 'quebraram', 'queimaram', 'queixo', 'quinhentos', 'quinta-feira', 'quites', 'racionais', 'racista', 'raios', 'rapidez', 'raros', 'reagir', 'realizaram', 'realizem', 'receberá', 'recente', 'recompensa', 'recusaria', 'redes', 'redonda', 'refletir', 'registrada', 'reiniciar', 'religiosa', 'relâmpago', 'relâmpagos', 'remova', 'removido', 'reprovado', 'resgate', 'responderei', 'respondido', 'responsáveis', 'reto', 'reunir', 'revisar', 'reze', 'ridicularizar', 'rim', 'rissem', 'robôs', 'rolha', 'romântica', 'roteiro', 'roubados', 'russa', 'sabonete', 'sacrificou', 'sacudir', 'safar', 'sairia', 'salvaram', 'salvá-lo', 'sangramento', 'sangrar', 'sarcasmo', 'sardas', 'satisfatória', 'satisfazer', 'satisfeitas', 'satélite', 'secar', 'secas', 'secretamente', 'seguras', 'sejas', 'sentem-se', 'sentenciado', 'sentes', 'sentidos', 'sequência', 'servido', 'serviços', 'setembro', 'significava', 'silenciosamente', 'simpatia', 'situada', 'sobrancelhas', 'sobrando', 'sobretudo', 'sobreviventes', 'sobrevivência', 'sobrinha', 'sofreram', 'solo', 'soltar', 'sonha', 'soou', 'soubessem', 'subúrbios', 'suma', 'sumô', 'supor', 'suporte', 'suposição', 'surpreendi', 'suspeitar', 'suspirou', 'suécia', 'suíço', 'talentosa', 'tarefas', 'tarifa', 'taxas', 'tedioso', 'telegrama', 'tempão', 'tenciona', 'tentasse', 'tentação', 'teorias', 'teresa', 'termo', 'terço', 'teríamos', 'tingiu', 'tiram', 'tiroteio', 'titanic', 'tivesses', 'tiveste', 'tocamos', 'tocaram', 'tola', 'tolos', 'tomaste', 'toneladas', 'tradicional', 'traduzindo', 'traduzisse', 'transferiu', 'transporte', 'trator', 'traíram', 'treinar', 'tricotando', 'tricotar', 'tripulação', 'trocando', 'tropicais', 'trouxesse', 'trovões', 'troçando', 'tsunami', 'tábua', 'ténis', 'ultrapassou', 'unidas', 'usuário', 'vago', 'vala', 'variedade', 'vasculhou', 'vencerei', 'vendas', 'vendida', 'verdadeiramente', 'verificou', 'vesti', 'veículos', 'videogame', 'vigiando', 'violou', 'viralizou', 'viraram', 'vista-se', 'visíveis', 'vitaminas', 'vivas', 'viveram', 'voador', 'voaram', 'vocalista', 'voltam', 'vomitou', 'vulcão', 'vulcões', 'válido', 'vênus', 'xingou', 'zangadas', 'zomba', '°', 'àquele', 'águas', 'árbitro', 'áreas', 'êxito', 'ícone', 'óbvias', 'órfão', 'únicas', '1000', '150', '1860', '1960', '1970', '1971', '2', '2009', '28', '54', '7', 'abacate', 'abaixem', 'abalado', 'abandonados', 'abandonei', 'abarrotada', 'abarrotado', 'abraça', 'abraçado', 'aceitado', 'aceitará', 'achais', 'achariam', 'achávamos', 'acompanhasse', 'aconselharia', 'acontecimento', 'acordava', 'acorde-me', 'acordá-lo', 'acredita-se', 'acreditado', 'acreditaria', 'acreditavam', 'acumulando', 'acumulou', 'adequadamente', 'adiantada', 'adivinhou', 'adição', 'admira', 'admiramos', 'admitiria', 'adoráveis', 'afastado', 'afastou', 'afogar', 'agitada', 'agorinha', 'agradece', 'agradecemos', 'agradecimentos', 'agradá-lo', 'aguardem', 'aguentou', 'agulha', 'ajoelhou', 'ajudaremos', 'ajudazinha', 'ajude-nos', 'ajustar', 'albergue', 'alcança', 'alcançá-lo', 'alcoólatra', 'alcoólicas', 'aleijado', 'alemães', 'alergias', 'alertado', 'alimentam', 'alimentares', 'almofada', 'alterados', 'alternativas', 'alterou', 'aluguei', 'alunas', 'amando', 'amarre', 'amassou', 'amavam', 'ameaçando', 'amá-la', 'analgésico', 'ancara', 'ancião', 'andaria', 'andas', 'animar', 'animá-lo', 'aniversários', 'antecipadamente', 'antigamente', 'antiquadas', 'apaga', 'apaixona', 'apaixonaram', 'apartamentos', 'apercebi', 'aperto', 'apetece', 'apicultor', 'aplaudimos', 'apontei', 'aposentando', 'aposentou-se', 'aprendam', 'aprenderei', 'apresenta', 'apresentá-lo', 'aprimorar', 'aprovam', 'aprovaram', 'aproxime', 'aproximou', 'aquecer', 'aquecida', 'argumentos', 'aritmética', 'armado', 'arquitetura', 'arrancar', 'arranjou', 'arranquei', 'arregaçar', 'arrependido', 'arrependo-me', 'arriscou', 'arrombar', 'arrombou', 'arruinar', 'articulado', 'artístico', 'asa', 'asma', 'aspirações', 'assaltante', 'assassinatos', 'assassinou', 'assegure-se', 'assertivo', 'assinaram', 'assobios', 'assoprou', 'assumi', 'assumo', 'atacam', 'atenas', 'atende', 'atendimento', 'atingimos', 'atirei', 'atlântida', 'atmosférica', 'atolado', 'atrair', 'atrasará', 'atrativa', 'atrações', 'atualizar', 'autista', 'automática', 'autoridades', 'autorizados', 'autorizou', 'avaliamos', 'avançou', 'ave', 'avental', 'avisem', 'avisem-nos', 'avisá-las', 'avisá-lo', 'azarada', 'azeitona', 'azia', 'badminton', 'bagunçado', 'bagunçou', 'balancei', 'balançando', 'balançou', 'balsa', 'bancária', 'bancário', 'bandeiras', 'bandido', 'bandidos', 'banjo', 'banquinho', 'barbeando', 'barra', 'barrado', 'barulhenta', 'beethoven', 'beijamos', 'beijaste', 'benefício', 'bens', 'besta', 'bilhões', 'bipolar', 'bobos', 'bocejando', 'bolsas', 'bondosas', 'botes', 'botânico', 'bovina', 'brilhava', 'brincam', 'brincamos', 'brincaram', 'brincavam', 'brinquem', 'britânica', 'bronze', 'bronzeado', 'bruxa', 'bullying', 'buracos', 'cabeleireiro', 'cabeças', 'cabras', 'cachorro-quente', 'cadeado', 'cadáver', 'calorias', 'calorosa', 'calou', 'calouro', 'calçados', 'camas', 'caminhadas', 'caminhões', 'cancelaram', 'cancro', 'candidatou', 'canivete', 'cansam', 'cansaço', 'cantaria', 'cantem', 'capturou', 'caracteres', 'caranguejo', 'carece', 'caridade', 'carregava', 'castanhas', 'categoria', 'catolicismo', 'causando', 'caviar', 'caçam', 'celsius', 'center', 'cep', 'cerejeiras', 'certidão', 'chamaria', 'chamaste', 'chamavam', 'chantageado', 'chantageando', 'chatear', 'chatos', 'checamos', 'chegam', 'cheias', 'cheirando', 'cheirar', 'cheire', 'chiqueiro', 'chuvosos', 'cicatrizes', 'citação', 'ciumenta', 'coala', 'coalas', 'cobertura', 'coincidências', 'colaborando', 'colapso', 'colaterais', 'colete', 'coletes', 'colheitas', 'colocaram', 'coluna', 'combinar', 'comemoramos', 'cometam', 'começasse', 'comissão', 'compaixão', 'comparada', 'compartilhei', 'comportado', 'comporte', 'compositores', 'composta', 'comprei-lhe', 'comprei-o', 'comprimido', 'comprá-los', 'comê-la', 'concedido', 'conceito', 'concluiu', 'concordássemos', 'concorrentes', 'concreto', 'condenados', 'condicional', 'condutor', 'conduz', 'conduziu', 'condução', 'confessei', 'confesso', 'confira', 'confiscar', 'confiávamos', 'conflito', 'confortáveis', 'confusa', 'congelada', 'congelados', 'conhecidos', 'conquistar', 'consideram', 'consideramos', 'considerei', 'considerou', 'console', 'constelações', 'consulado', 'consulte', 'contagioso', 'contem-me', 'conteúdo', 'continuará', 'continuarão', 'contratando', 'contratá-lo', 'contribuiu', 'contribuição', 'controlada', 'convencê-la', 'conveniência', 'conversam', 'conversaremos', 'convicto', 'convidaram-me', 'conviver', 'copa', 'copie', 'copiou', 'corredores', 'corrido', 'cortadas', 'corte-o', 'corujas', 'corvo', 'cotovelos', 'coçando', 'coçar', 'creche', 'credibilidade', 'criada', 'criminosos', 'cristão', 'cruéis', 'crítico', 'cubo', 'cuidados', 'cuidamos', 'cuido', 'culinária', 'culpando', 'cultivar', 'cumprimentaram', 'cunhada', 'cunhado', 'cupins', 'curiosos', 'cursos', 'curtido', 'curva', 'cuspiu', 'custaram', 'custaria', 'custódia', 'céus', 'cômodos', 'dance', 'danificada', 'danificado', 'danificou', 'dar-me', 'daremos', 'darão', 'decepcionados', 'decepcionaram', 'decepcioná-la', 'dedico', 'defendeu', 'deficiência', 'dei-lhe', 'deite', 'deixarmos', 'deixá-la', 'deixá-los', 'demanda', 'democrática', 'demonstrar', 'demorará', 'dependem', 'dependemos', 'depila', 'deportado', 'depressivo', 'derrubadas', 'desabrocham', 'desafinado', 'desajeitado', 'desanimar', 'desaparecendo', 'desapontadas', 'desastrada', 'descansamos', 'descasquei', 'desceram', 'desconhecidos', 'desconheço', 'descrição', 'descuido', 'desejas', 'desejo-lhe', 'desembarcar', 'desenhando', 'desenvolvido', 'desesperadamente', 'desesperados', 'desgraça', 'desistirá', 'desisto', 'desligo', 'deslocou', 'desmancha-prazeres', 'desnecessários', 'desperdiçado', 'desrespeitoso', 'destro', 'destrói', 'detalhada', 'detergente', 'deu-me', 'deveríeis', 'digita', 'digna', 'diligente', 'diploma', 'dirás', 'discordado', 'discutas', 'discutem', 'disfarçado', 'disney', 'disneylândia', 'dispensado', 'dissimulado', 'distingue', 'ditado', 'ditador', 'divertiria', 'divertiríamos', 'divirta-se', 'divorciado', 'dizei', 'doações', 'dom', 'dupla', 'década', 'décadas', 'economicamente', 'economizou', 'econômicos', 'edição', 'elegemos', 'elogios', 'eloquente', 'embarcaram', 'emboscada', 'embriagados', 'embrulhar', 'embrulhou', 'emergências', 'emigrar', 'encaminhou', 'encantadora', 'encare', 'encontrarem', 'encontrarmos', 'encostado', 'encostou', 'encrenqueiro', 'enfrentando', 'enganei', 'engenheiros', 'engordando', 'engordei', 'engraçados', 'enojado', 'enredo', 'ensaiar', 'ensaio', 'entediante', 'entendes', 'entendimento', 'enterrar', 'entreaberta', 'entregarei', 'enviamos', 'enviando', 'enviasse', 'envolveu', 'envolvida', 'enxaguou', 'enxugou', 'equipa', 'equipamentos', 'equivocada', 'eras', 'erguido', 'erupção', 'escancarada', 'escapa', 'escarnecer', 'escolhe', 'escolhemos', 'escolherá', 'escolherão', 'escolhida', 'escorpião', 'escovando', 'escovem', 'escrevemos', 'escrevíamos', 'escritores', 'escureça', 'esfaqueado', 'esforçado', 'esfregando', 'esfregão', 'esgotando', 'esmagado', 'espalhar', 'espectador', 'espera-se', 'esperaremos', 'esperas', 'espionando', 'espirrando', 'espontânea', 'espécies', 'esquiador', 'esquisita', 'estacione', 'estender', 'esticou', 'estivestes', 'estraga', 'estragada', 'estranhamente', 'estudem', 'estábulo', 'esvazie', 'eternamente', 'europeia', 'europeus', 'euros', 'evacuado', 'evita', 'ex-esposa', 'ex-marido', 'excesso', 'excluído', 'excêntrico', 'exemplar', 'exibir', 'existisse', 'explicações', 'explique-me', 'explorou', 'exportação', 'exposto', 'expresso', 'extraordinários', 'extravagante', 'fabulosa', 'falemos', 'falsos', 'falta-lhe', 'falássemos', 'falávamos', 'fanático', 'farmacêutico', 'faróis', 'fascinantes', 'fast', 'façam-no', 'fecham', 'fechasse', 'feriados', 'ferimentos', 'feroz', 'ferve', 'fibra', 'fibras', 'ficaste', 'figuras', 'fileira', 'filosofia', 'finalidade', 'financeiramente', 'financeiras', 'finas', 'fingia', 'fingiram', 'fixo', 'fizeram-me', 'fizerem', 'fizessem', 'flertou', 'flexível', 'fluência', 'focar', 'fofinho', 'fogos', 'folheto', 'fone', 'food', 'forem', 'formado', 'formam', 'formaram', 'formato', 'formatura', 'fostes', 'fracassado', 'fracassar', 'frequentam', 'frequentou', 'fugido', 'fumarmos', 'função', 'furado', 'furiosa', 'furiosamente', 'furiosos', 'fusão', 'futura', 'físicas', 'gaita', 'galáxias', 'gambá', 'gamão', 'gancho', 'garantiu', 'gengivas', 'genial', 'gibis', 'girafas', 'giz', 'gol', 'gols', 'gostos', 'gozando', 'grampeador', 'gravando', 'grelhou', 'gripado', 'grisalho', 'gritado', 'gritam', 'grosseiras', 'grosseria', 'gráfico', 'guardado', 'guerras', 'guiou', 'gênios', 'hamster', 'heavy', 'herdei', 'herdou', 'hesite', 'hipnotizado', 'hipopótamos', 'histérica', 'hobbies', 'horror', 'horrorizado', 'horríveis', 'hospitalidade', 'ias', 'idades', 'ignição', 'ignora', 'ignorados', 'igualmente', 'ilegível', 'imagens', 'imaginado', 'imaginas', 'imoral', 'impedindo', 'implore', 'importasse', 'impressioná-la', 'imprimir', 'improvisar', 'imprudente', 'inacabados', 'inadequada', 'incluído', 'incomodá-la', 'incorreto', 'indelicado', 'indicam', 'indígenas', 'infantis', 'informada', 'informática', 'inicial', 'iniciantes', 'inimaginável', 'inspetor', 'instruído', 'intencionalmente', 'interessava', 'interessou', 'interno', 'interrompendo', 'intervenção', 'intrigados', 'invadida', 'inventado', 'investiu', 'ira', 'ires', 'irlandês', 'irmãzinha', 'irás', 'islamismo', 'islândia', 'isolada', 'isopor', 'italianos', 'item', 'jante', 'japonesas', 'jogas', 'jornada', 'jornalistas', 'judeu', 'julgado', 'julgamento', 'justos', 'jóias', 'ketchup', 'lanches', 'largar', 'largo', 'largue', 'lasanha', 'lavamos', 'lavanderia', 'lavaste', 'leia-o', 'leitor', 'lembramos', 'lembrem-se', 'lerei', 'lesse', 'levantaram', 'levava', 'ligava', 'limitado', 'limpem', 'lisa', 'literalmente', 'livrar-se', 'luar', 'luas', 'lunar', 'lute', 'lê-la', 'macio', 'madrinha', 'magnífica', 'mahjong', 'maiô', 'malabarismos', 'malha', 'maluca', 'mama', 'mandando', 'mande-me', 'mandíbula', 'manifestantes', 'mantendo', 'mantê-lo', 'marcas', 'marinheiros', 'mark', 'marrons', 'mascando', 'matarei', 'mate', 'materno', 'maços', 'medalhas', 'medicamentos', 'medicação', 'medieval', 'melhorei', 'melões', 'memorizei', 'memorizou', 'mental', 'mentia', 'metódica', 'mexendo', 'mimada', 'mintam', 'minto', 'minúsculo', 'mirando', 'missa', 'miséria', 'mito', 'moletom', 'monges', 'montamos', 'moras', 'morda', 'mordi', 'mordomo', 'more', 'morram', 'mortais', 'mostrar-lhe', 'mostrar-me', 'mostrar-te', 'mostrem-me', 'motores', 'mouse', 'moças', 'mudaria', 'muçulmanos', 'médicas', 'míope', 'múltipla', 'nadava', 'namorava', 'napoleão', 'naqueles', 'nato', 'neblina', 'negativo', 'nego', 'nervo', 'netuno', 'neutro', 'nevará', 'ninar', 'noivos', 'nojo', 'notaria', 'notebook', 'noturnos', 'novatos', 'novelista', 'novidades', 'níveis', 'obedecerá', 'obesidade', 'obrigatória', 'observações', 'obstinada', 'obséquio', 'oceanos', 'ocidental', 'ocupa', 'ocupar', 'odiaria', 'ofensiva', 'oitavo', 'olfato', 'olhadela', 'olham', 'ondas', 'opcional', 'operado', 'oposto', 'oração', 'ore', 'orei', 'orgulhe', 'orgulhosas', 'orientação', 'oro', 'orou', 'otimismo', 'ouvi-la', 'padrões', 'pagasse', 'paisagem', 'paixão', 'palavrinha', 'palma', 'palmas', 'palácio', 'pano', 'papa', 'papagaios', 'parabenizei', 'parabenizou', 'paradas', 'paralisado', 'parceiro', 'parece-me', 'partidas', 'partirá', 'passar-me', 'passarinhos', 'passasse', 'pedestres', 'pedir-nos', 'pegadinha', 'pegam', 'pegue-o', 'pelúcia', 'pendure', 'pensamento', 'pensarei', 'pensaste', 'perceberam', 'percorrer', 'perdermos', 'perdoá-la', 'perdê-lo', 'perfeitas', 'pergunte-lhe', 'periferia', 'perigosas', 'permitidos', 'permitiram', 'permitiremos', 'perplexos', 'perpétua', 'perseguir-me', 'personalidades', 'perspectiva', 'persuadi', 'pertenceu', 'pesadas', 'pesos', 'pesquisadores', 'petição', 'petróleo', 'picasso', 'pico', 'pilhas', 'pilotos', 'pinguins', 'pintores', 'pirou', 'pisar', 'piscando', 'planejada', 'plantamos', 'plantando', 'plantei', 'pneumonia', 'podar', 'podcast', 'podcasts', 'podem-se', 'poderem', 'podia-se', 'pontuação', 'porte', 'português', 'possivelmente', 'possuímos', 'potência', 'pouquíssimo', 'praticou', 'precauções', 'preciosa', 'precisares', 'precisassem', 'pregou', 'preocuparia', 'preocupou', 'preparativos', 'prepare', 'presenteou', 'pretendendo', 'previsíveis', 'previsível', 'primeiramente', 'primeiro-ministro', 'princípios', 'prioridade', 'privado', 'probabilidade', 'probleminha', 'problemão', 'procrastinar', 'programando', 'projetos', 'promissor', 'propina', 'propõem', 'prossiga', 'proveito', 'provem', 'provoca', 'provoquem', 'prático', 'pulava', 'punindo', 'puxa', 'pílulas', 'pônei', 'põe-te', 'quadrada', 'qualificado', 'quarta', 'quebra-cabeças', 'queimem', 'queixam', 'queixando', 'querias', 'quietas', 'quinto', 'quiserdes', 'racional', 'racismo', 'ramo', 'raras', 'raso', 'realizada', 'realizadas', 'rebelde', 'recebem', 'reciclar', 'recipiente', 'reclamamos', 'recomenda', 'reconhecimento', 'recuar', 'recuperará', 'referindo', 'reflexo', 'reformada', 'refrescante', 'reféns', 'reggae', 'regime', 'registrar', 'regiões', 'rejeitado', 'relacionados', 'relacionamentos', 'relatar', 'relaxou', 'remando', 'remarcar', 'repartiu', 'representa', 'representar', 'repugnante', 'reservada', 'reservou', 'resfriados', 'reside', 'residencial', 'resolve', 'resolvemos', 'resolveria', 'respiramos', 'responda-me', 'responderá', 'restam', 'restrita', 'retaguarda', 'retornarei', 'retornei', 'retorno', 'reuniu', 'revezamos', 'românticas', 'rosnando', 'rosnou', 'roubaram-lhe', 'roubaram-me', 'roube', 'rudes', 'rumo', 'répteis', 'saberei', 'saboroso', 'sagradas', 'salvam', 'salvamos', 'salvá-la', 'salários', 'santuário', 'sapos', 'seguidos', 'segure-se', 'segurem', 'semanalmente', 'sensíveis', 'sentará', 'sentei-me', 'sento', 'separou', 'serpente', 'shakespeare', 'siga-me', 'sigam', 'sigamos', 'significam', 'simplicidade', 'sintam', 'sobreviveria', 'socialista', 'sofisticada', 'solteiras', 'sonhamos', 'sopé', 'sortudas', 'suando', 'subestimem', 'subi', 'submarino', 'suborno', 'subornou', 'substituiu', 'substituíram', 'substituível', 'sugerem', 'suicidar', 'suicidou-se', 'sumiram', 'sumo', 'supervisor', 'suportou', 'suposto', 'suprimentos', 'surdos', 'surgiram', 'surpreendemos', 'suspeitam', 'suíços', 'sã', 'sérias', 'tabuleiro', 'talentosos', 'tambor', 'tardar', 'tardes', 'tatoeba', 'tecla', 'telefonei', 'telefones', 'televisor', 'temas', 'tendas', 'tensa', 'tensão', 'tequila', 'terapeuta', 'terminada', 'terminarei', 'terminaria', 'termino', 'testar', 'texas', 'thomas', 'tijolos', 'tingir', 'tiradas', 'tirado', 'tomarei', 'tomasse', 'tonta', 'tontos', 'tontura', 'torci', 'torcicolo', 'torradas', 'tossindo', 'trabalhadora', 'trabalhasse', 'tradição', 'traduz', 'traficante', 'traga-o', 'trago', 'traidores', 'trair', 'traição', 'trajes', 'trama', 'tramando', 'tranquem', 'transforma', 'transfusão', 'trará', 'travesso', 'travou', 'trazem', 'trazendo', 'trazer-me', 'treinando', 'treino', 'tricotou', 'tricô', 'trocado', 'trocaram', 'tronco', 'truta', 'turquia', 'tutor', 'tédio', 'tê-los', 'tínheis', 'túnel', 'unidade', 'us$', 'usas', 'utilidade', 'uva', 'valores', 'valorizo', 'vazios', 'vende-se', 'venenoso', 'veneza', 'ventos', 'verruga', 'viajaram', 'viajaria', 'vibrando', 'vinda', 'vindas', 'vinhos', 'violinista', 'virando', 'visitar-nos', 'visitarei', 'visivelmente', 'vissem', 'vistos', 'viverá', 'voltarmos', 'voltemos', 'vote', 'vulgar', 'vício', 'webcam', 'wi-fi', 'xingar', 'xviii', 'yoga', 'zebra', 'zombaram', 'árduo', 'áudio', 'íntimo', 'órbita', '..', '1.000', '105', '119', '12h45', '1492', '1603', '1650', '1789', '1853', '1912', '1939', '1969', '1974', '1975', '1981', '1990', '2016', '26', '300.000', '3000', '400', '65', '70', '8:00', '9h', 'aardvarks', 'abacaxis', 'abaixado', 'abaixe-se', 'abanando', 'abandonada', 'abandonamos', 'abduzida', 'abduziram', 'aborrece', 'aborrecendo', 'aborrecida', 'aborreça', 'abrace', 'abridor', 'absorto', 'absorvem', 'abundante', 'abundantes', 'acadêmico', 'acalma', 'acalorada', 'acamado', 'acariciou', 'aceitá-la', 'acelerar', 'acenando', 'achado', 'acolá', 'acometido', 'acompanhamento', 'acompanhou-se', 'acompanhá-lo-ei', 'acompanhá-los', 'acontecimentos', 'aconteçam', 'acostumou', 'acreditando', 'acreditarão', 'acrescente', 'acrescentou', 'acumulado', 'adestrar', 'adiantados', 'adiantar', 'adicional', 'adiei', 'adiou', 'administração', 'admirador', 'admiração', 'admissão', 'admita', 'adoravam', 'adormecemos', 'adotamos', 'adotiva', 'afastei', 'afeição', 'afetará', 'afetou', 'afim', 'afogado', 'afoguei', 'afugentou', 'afundando', 'agarrei', 'agiota', 'agnóstico', 'agradavelmente', 'agradecidos', 'agradeça', 'agradeço-lhe', 'agradeço-lhes', 'agricultor', 'agrícola', 'aguda', 'ai', 'airbag', 'ajudar-nos', 'ajudavam', 'ajuste', 'ajustou', 'alarmado', 'alcancei', 'alcoólica', 'alegra', 'alegrará', 'alegremente', 'alegro-me', 'alemã', 'alfaiate', 'alfinete', 'algas', 'alheio', 'alimentado', 'alimentei', 'aliviar', 'almas', 'almoçam', 'almoçaste', 'alterado', 'alteração', 'aluga', 'alugarei', 'amada', 'amar-te', 'amarelou', 'amarrado', 'amazonas', 'amazônica', 'ambulante', 'ameaçam', 'ameaças', 'american', 'americanas', 'ampla', 'analisando', 'analisei', 'ancestrais', 'and', 'anfitrião', 'angola', 'animada', 'anime', 'animou', 'anjos', 'anéis', 'anônimo', 'apagado', 'apagando', 'aparecerá', 'aparou', 'apimentado', 'apoiaram', 'apoie', 'apoiou', 'apostar', 'apostei', 'apostila', 'apreciado', 'aprendessem', 'aprendizado', 'apresente', 'apresente-me', 'apresentei', 'apresentou-se', 'apresentável', 'apressa-te', 'apresse', 'aprova', 'aprovaria', 'aproveitei', 'aproxima', 'apunhalar', 'aquece', 'aquático', 'arbustos', 'arcaica', 'arcar', 'ardentemente', 'argentina', 'armadilhas', 'armar', 'arquejando', 'arrancado', 'arrancou', 'arranha-céu', 'arrependimento', 'arrotou', 'arterial', 'aspecto', 'aspirar', 'assado', 'assaltados', 'assando', 'assediados', 'assegurar-se', 'asseguro', 'assenta', 'assentiu', 'assinaste', 'assistido', 'assobiou', 'assuste', 'ataques', 'atencioso', 'atenta', 'atentos', 'ateou', 'aterrissagem', 'ateu', 'atinge', 'atingida', 'atingiram', 'atiro', 'atitudes', 'atos', 'atraem', 'atrai', 'atrasamos', 'atrasei', 'atravessaram', 'atualizado', 'atualizando', 'audiolivro', 'auditório', 'aumentaram', 'australia', 'australianos', 'autismo', 'automobilística', 'automóveis', 'autores', 'autorização', 'autópsia', 'avenida', 'avestruz', 'avistou', 'azedou', 'azeitonas', 'b.', 'bairros', 'baixando', 'baixei', 'baixem', 'balança', 'balé', 'bandagem', 'bandeja', 'bando', 'baque', 'barack', 'barbeia', 'barbeio', 'barbeou', 'barganhar', 'barulhentas', 'bebes', 'beco', 'beijada', 'beliscou', 'bell', 'belém', 'bem-sucedida', 'bezerro', 'bicho', 'big', 'biografias', 'biológico', 'bisavô', 'bizarra', 'biólogo', 'blues', 'boas-vindas', 'boatos', 'bobas', 'boia', 'boiar', 'bolar', 'bolinhas', 'bombas', 'bota', 'botam', 'botar', 'botões', 'boxeador', 'brasileiros', 'brigavam', 'brigou', 'brilha', 'bronca', 'budismo', 'bug', 'buquê', 'buscam', 'buscou', 'bélgica', 'bêbedo', 'búfalo', 'cabeceira', 'cabide', 'cabine', 'cachoeira', 'caco', 'cafezinho', 'cafeína', 'cairia', 'cala-te', 'calmamente', 'calvino', 'camiho', 'caminhoneiro', 'camundongo', 'cancelados', 'candidatar', 'canela', 'canguru', 'canja', 'cano', 'cantada', 'cantarolando', 'cantavam', 'cantes', 'capacitada', 'capturar', 'capítulo', 'carecas', 'cargo', 'carneiro', 'carpinteiros', 'carrega', 'carregaram', 'carriola', 'carteiras', 'caríssimo', 'casadas', 'casara', 'casaríamos', 'cascavel', 'catedral', 'cautelosos', 'cavaleiro', 'cavalheiros', 'caçoam', 'ceder', 'cederam', 'cegando', 'cela', 'celebrado', 'centavo', 'centavos', 'cercado', 'cercados', 'cerejas', 'ceticismo', 'chamados', 'chantagear', 'chantageou', 'charadas', 'chateados', 'checou', 'chegava', 'cheguemos', 'chegámos', 'cheques', 'chocou', 'choramingar', 'chovesse', 'chovia', 'científico', 'cinzenta', 'circulação', 'circunstância', 'civil', 'clareza', 'claros', 'clavícula', 'clicamos', 'clicou', 'climática', 'cliquei', 'closet', 'cnn', 'cobrir', 'coca', 'cocaína', 'coceira', 'coco', 'colhe', 'colhendo', 'colhi', 'colidiu', 'colmeia', 'colmeias', 'colocarei', 'colocá-la', 'coloque-a', 'colírio', 'comamos', 'comandante', 'comemoram', 'comerciante', 'comerei', 'cometeria', 'compacto', 'companheiros', 'compara', 'compasso', 'competitiva', 'competitivos', 'complicar', 'composição', 'comprares', 'comprariam', 'comprarmos', 'compreendendo', 'compreendê-lo', 'compridos', 'comprovado', 'comédias', 'comê-lo', 'concedeu', 'conceitos', 'concentrado', 'concertos', 'concordariam', 'concordávamos', 'condolências', 'condomínio', 'conectado', 'conferiu', 'confirmou', 'confortavelmente', 'conforto', 'confundam', 'congelou', 'conheci-a', 'conjunto', 'consecutivas', 'conselheiro', 'consertarei', 'conservadores', 'considerados', 'consideravelmente', 'consiste', 'consomem', 'constante', 'constituição', 'constrangida', 'consultado', 'consultor', 'consumida', 'contabilidade', 'contava', 'conteve', 'continentes', 'continha', 'continuasse', 'contornar', 'contou-me', 'contrataram', 'contrate', 'controversa', 'convença', 'convenção', 'conversarmos', 'conversava', 'converso', 'converteu', 'convidamos', 'convidá-lo', 'cooperado', 'corajosas', 'corações', 'cordeiro', 'corporal', 'correis', 'corres', 'correções', 'corrigi', 'corrupção', 'corto', 'cortês', 'costumas', 'country', 'covinhas', 'coxa', 'cozida', 'cozinharam', 'cozinhe', 'coçou', 'cravou', 'creem', 'crendo', 'crescido', 'criador', 'criatividade', 'crio', 'cristã', 'cristóvão', 'croissant', 'croácia', 'crueldade', 'crânio', 'crível', 'cubra', 'cuidaria', 'culparam', 'culpá-lo', 'cultivo', 'cultural', 'culturas', 'cume', 'curiosas', 'curou', 'currículo', 'curtos', 'curvou', 'cutucou', 'câmbio', 'cínico', 'd', 'dada', 'daltônica', 'dançamos', 'dançava', 'daquelas', 'dar-lhe', 'darwin', 'datas', 'debater', 'decepcionadas', 'decepção', 'decifrar', 'declarado', 'decolaremos', 'decoramos', 'dedicou-se', 'dedurou', 'deduzir', 'deduzo', 'dedão', 'definitiva', 'deita', 'deixada', 'deixaremos', 'deixaste', 'deixem-nos', 'delegados', 'deletado', 'deletei', 'deliberadamente', 'deliciosas', 'delirava', 'deliravam', 'demiti-la', 'demiti-lo', 'demitidos', 'democrático', 'demônio', 'denunciar', 'departamentos', 'dependia', 'depilou', 'deprimidos', 'derivados', 'derramamento', 'derreter', 'derrotados', 'derrotou', 'derrube', 'desabar', 'desafiador', 'desafiar', 'desanimou', 'desapontada', 'descansa', 'descansava', 'descansemos', 'descarrilou', 'desce', 'desclassificado', 'descobrirem', 'descreve', 'descreveria', 'desculpado', 'deseje', 'desejei', 'desembarcou', 'desembrulhou', 'desempenhou', 'desemprego', 'desenvolveu', 'desidratado', 'desinteressado', 'desinteressante', 'desistiria', 'desistisse', 'desjejum', 'desligaste', 'desligue-o', 'desliguem', 'deslizes', 'deslizou', 'desmaiado', 'desmaiar', 'desmaiaram', 'desmoronando', 'desobedeceu', 'desobedeci', 'desonestas', 'desorganizada', 'despedi', 'despertou', 'despindo', 'despreza', 'dessem', 'destemido', 'destinado', 'destruir', 'destruição', 'desvantagens', 'desvie', 'desviou', 'detetives', 'detiveram', 'detê-la', 'deverás', 'devolvê-lo', 'diabetes', 'diabo', 'diagnosticada', 'diferem', 'digais', 'dignidade', 'dimensões', 'dinamarca', 'direitinho', 'diriam', 'dirigido', 'dirigirei', 'dirigiu-se', 'dirão', 'discriminação', 'discutam', 'discute', 'discutirei', 'disfarçou', 'disparado', 'disparos', 'dispostos', 'disputa', 'disse-lhe', 'distraiu', 'dita', 'divida', 'divirtam', 'dize-me', 'dizer-te', 'doa', 'doador', 'doando', 'dobradiças', 'dobrável', 'doei', 'doeu', 'dolorosa', 'dominó', 'doméstica', 'domínio', 'donas', 'download', 'drone', 'drástica', 'duraram', 'duração', 'dure', 'duvide', 'débito', 'décimo', 'dê-lhe', 'dó', 'eclipse', 'eclodiu', 'eco', 'editor', 'eficientes', 'elevadas', 'elevadores', 'elo', 'elogiou', 'elétricas', 'embaraçosa', 'empenho', 'emprestadas', 'emprestasse', 'empresto', 'emprestou-me', 'empresários', 'empurrar', 'empurrei', 'encaixar', 'encanamento', 'encaracolado', 'encerar', 'enciclopédia', 'encontram', 'encontros', 'encrencados', 'endividado', 'enfeitiçada', 'enferruja', 'enfrentar', 'enfrente', 'enganadas', 'enganamos', 'enganando', 'engasgou', 'engatinhar', 'enigma', 'enrolar', 'ensina-me', 'ensinaram', 'ensinarei', 'ensinasse', 'ensiná-lo', 'entenderemos', 'entenderão', 'entradas', 'entram', 'entraremos', 'entregava', 'entregá-lo', 'entrelinhas', 'entreolharam', 'entrevistado', 'entristece', 'envelhecemos', 'envelhecer', 'envelheceu', 'envelopes', 'envenenamento', 'envergonhada', 'envia', 'enviada', 'envolva', 'enxergam', 'enxergo', 'enxofre', 'enérgico', 'episódio', 'equador', 'equivale', 'erga', 'ergueram', 'erva', 'ervilhas', 'escalada', 'escalei', 'escaneou', 'escapado', 'escape', 'escapei', 'escarnecendo', 'esclarecido', 'escolares', 'escolherei', 'escolhidas', 'escolho', 'escombros', 'escorregadio', 'escravos', 'escrevem', 'escreveria', 'escreveste', 'escutaria', 'escutava', 'escócia', 'esfaqueou', 'esferográfica', 'esforce', 'esmagadora', 'espancado', 'espaçosa', 'especializar-se', 'esperada', 'esperariam', 'espere-me', 'esperá-lo', 'esperámos', 'esperáveis', 'espessa', 'espessura', 'espetacular', 'espiando', 'espirrar', 'espirro', 'espiã', 'esponja', 'espírito', 'esquecidas', 'esquecidos', 'esquis', 'esquisitos', 'estaca', 'estagiário', 'estagiários', 'estares', 'estimulou', 'estiverdes', 'estivermos', 'estoque', 'estragar', 'estrangulado', 'estreito', 'estudaria', 'estudava', 'estudavam', 'estudioso', 'estável', 'estórias', 'eternos', 'etiqueta', 'europeu', 'evidentemente', 'evidência', 'evito', 'ex-mulher', 'exagero', 'examinando', 'examine', 'excitado', 'excursão', 'executar', 'exercitando', 'exercito', 'exibindo', 'existiu', 'expectativa', 'experientes', 'experimentaram', 'experimentem', 'experimentos', 'experiências', 'expirou', 'explicará', 'exponha', 'exposição', 'express', 'expressa', 'exprimir', 'expulsa', 'extensa', 'exterminador', 'extintor', 'extraordinárias', 'extras', 'extraterrestres', 'extrato', 'extraído', 'extremo', 'extrovertida', 'extrovertidos', 'fabricada', 'fadado', 'faisões', 'faixa', 'falecida', 'falecidos', 'falhei', 'falsas', 'faltas', 'famintas', 'fantasiou', 'fantásticos', 'farta', 'farás', 'faríeis', 'fatiei', 'fatura', 'favorável', 'fazendas', 'fazer-te', 'fazê-la', 'fedendo', 'feios', 'feitiçaria', 'felicitações', 'fenômeno', 'ferrovia', 'fertilizante', 'fervente', 'ferver', 'ferveu', 'festejando', 'festejava', 'ficarmos', 'ficaríamos', 'ficas', 'ficha', 'filhote', 'filmado', 'financeiros', 'financiamento', 'finlândia', 'firmemente', 'floco', 'florescendo', 'flutuar', 'focados', 'fofa', 'fofocar', 'folclóricas', 'fornece', 'forneceu', 'fortalece', 'fortalecer', 'forçados', 'fracassei', 'framboesas', 'fraqueza', 'fratura', 'fraude', 'freezer', 'freguês', 'frescas', 'fritando', 'frugal', 'frustrada', 'frustração', 'fuga', 'funcionava', 'fundamento', 'furou', 'furta', 'fuso', 'futuros', 'fá-lo-ei', 'fábricas', 'fãs', 'fêmea', 'fóssil', 'gaba', 'galinheiro', 'galões', 'gananciosos', 'ganha-pão', 'ganhassem', 'garantia', 'garantias', 'gargalhada', 'gastando', 'gatas', 'gatinhos', 'geladas', 'gemendo', 'gemeu', 'gera', 'gerais', 'gerar', 'gerou', 'gigante', 'gigantes', 'gigantesco', 'giram', 'girar', 'gire', 'girou', 'gordinho', 'gostes', 'graciosa', 'gramaticais', 'gramaticalmente', 'gratidão', 'gratificante', 'gravatas', 'graveto', 'grisalhos', 'gritava', 'gritem', 'grã-bretanha', 'guarda-costas', 'guardando', 'guerreiro', 'guitarras', 'gênero', 'harmonia', 'hebraico', 'hei', 'helicópteros', 'herda', 'hibernam', 'hino', 'hipocrisia', 'hipóteses', 'hiroxima', 'historiadores', 'holandês', 'homenagem', 'hospitalizado', 'hostil', 'humanas', 'húngaro', 'identificar', 'identificaram', 'ignore-o', 'iguaria', 'ilegais', 'ileso', 'iluda', 'imaginam', 'imbatível', 'imigrou', 'iminente', 'imita', 'imitam', 'impacto', 'imparciais', 'impediram', 'imperador', 'impetuoso', 'implicações', 'implorar', 'implorei', 'importei', 'impressioná-lo', 'imprevisíveis', 'impulsiva', 'impulso', 'imóveis', 'inadequado', 'incentivos', 'incentivou', 'inchado', 'incluía', 'incomodou', 'incorretas', 'incríveis', 'incurável', 'indecisos', 'independentes', 'independência', 'indescritível', 'indiferença', 'inescrupuloso', 'infarto', 'inferir', 'inferno', 'infestado', 'infiel', 'infinitas', 'infinito', 'inflável', 'informaremos', 'infringi', 'ingrediente', 'iniciar', 'injustas', 'inofensivo', 'inoportuno', 'inquieta', 'insano', 'insensato', 'inseto', 'insignificante', 'insistem', 'insistente', 'insistes', 'inspira', 'instalou', 'instigou', 'instinto', 'instituição', 'instruídos', 'insultado', 'insultar', 'insultou', 'inteiramente', 'intensa', 'interagir', 'interessadas', 'interessaria', 'interna', 'internado', 'interpretada', 'interrompam', 'interruptor', 'interrupções', 'interveio', 'intimidar', 'intrigante', 'intrometa', 'invadiram', 'invejoso', 'invejosos', 'inventando', 'inventei', 'inventá-lo', 'investidores', 'investir', 'inúmeros', 'irregular', 'irresistível', 'irrite', 'italo', 'itens', 'jacaré', 'janto', 'jaz', 'jefferson', 'joe', 'jogará', 'joia', 'julgando', 'juntando', 'juntaram', 'juntarei', 'juros', 'justas', 'justifica', 'justificar', 'júpiter', 'karaokê', 'kit', 'ladeira', 'lagartos', 'lancheira', 'lançar', 'lareira', 'latem', 'latiram', 'lavem', 'legislação', 'lembrança', 'lembras', 'lente', 'lesão', 'levantam', 'levantem-se', 'levanto-me', 'levem', 'levemente', 'levá-los', 'lhama', 'libra', 'ligará', 'ligeira', 'limitados', 'limoeiro', 'limpador', 'limpíssimo', 'literal', 'livrei', 'localização', 'louis', 'lutador', 'lutará', 'lábio', 'maca', 'machado', 'macho', 'machucá-la', 'maconha', 'madrasta', 'magoá-la', 'mal-educado', 'mal-humorada', 'maldição', 'malucas', 'malvada', 'mamífero', 'mancando', 'manchada', 'mandaram-nos', 'mande-o', 'mando', 'mangueira', 'manipulando', 'mantenha-nos', 'mantidas', 'mantido', 'mantive', 'mantivemos', 'manuscrito', 'maracujá', 'maravilha', 'margarida', 'maridos', 'marrocos', 'maré', 'mastercard', 'mastigando', 'mastigue', 'matamos', 'mataste', 'matriculou', 'mediana', 'melão', 'mencione', 'mensalidade', 'mentirosos', 'mentiste', 'mentores', 'mercearia', 'mercúrio', 'merecedor', 'mereci', 'mergulhadores', 'mesada', 'mesas', 'metáfora', 'minimizar', 'minutinhos', 'misture', 'mitologia', 'modelos', 'moderação', 'mole', 'moleca', 'molharam', 'mona', 'monarquia', 'monogamia', 'monroe', 'montão', 'moralmente', 'mordo', 'morno', 'morreríamos', 'mortalidade', 'mostrado', 'mostramos', 'mostrar-lhes', 'mostraria', 'mostrasse', 'mostrava', 'mostre-nos', 'mostrou-lhe', 'motins', 'motivados', 'motivou', 'motosserra', 'movam', 'movia', 'mudadas', 'mudarem', 'mudo', 'mãozinha', 'métrico', 'mídia', 'móvel', 'nadadores', 'nadamos', 'nadas', 'namorador', 'namoraram', 'namoro', 'narita', 'nasa', 'naval', 'nave', 'navegar', 'navegou', 'necessárias', 'negaram', 'negativos', 'negligenciado', 'negociante', 'nervosas', 'nestas', 'netas', 'nevada', 'newton', 'ninho', 'nojenta', 'nomeada', 'nora', 'normais', 'norte-americana', 'norte-americanos', 'novinho', 'nua', 'nuclear', 'náuseas', 'obama', 'obcecada', 'obcecado', 'obedeceu', 'obeso', 'objetos', 'obrigar', 'obsoleto', 'obterei', 'obtivemos', 'ocasiões', 'ocorre', 'ocorrem', 'ocorrendo', 'ocorrer', 'ocupação', 'odeias', 'odiará', 'odiavam', 'ofendeu', 'oferecem', 'oferecemos', 'oferecendo', 'on-line', 'oponente', 'opor', 'oportuno', 'opõe', 'orações', 'orbitam', 'ordenados', 'ordenhou', 'organismos', 'orgulha', 'orgulhamos', 'orgulho-me', 'origens', 'ortografia', 'orçamento', 'osaka', 'outrora', 'ouvem', 'ouvinte', 'ouviria', 'ouvirá', 'ouça-me', 'ouçam', 'oxalá', 'pacotes', 'pacíficos', 'padeiro', 'palavra-passe', 'palavrões', 'panamá', 'papo', 'paquistão', 'parabenizar', 'parabenizaram', 'paradeiro', 'parafusos', 'paramédico', 'parando', 'paranoico', 'paraíso', 'parecidas', 'participaram', 'pará-los', 'parágrafo', 'pasmado', 'passageiro', 'passarem', 'passas', 'passaste', 'passatempos', 'passivo', 'patética', 'pechincha', 'pechinchar', 'pedacinho', 'pedestal', 'pedir-lhe', 'pedir-lhes', 'pedir-te', 'pediram-me', 'pediste', 'pediu-me', 'pedregulho', 'pegará', 'pegaste', 'pegos', 'peguem-no', 'pelada', 'penduramos', 'pendurei', 'pensarem', 'penses', 'penteado', 'penteando', 'penteou', 'pequim', 'percebem', 'perdedora', 'perderia', 'perdidamente', 'perdoaram', 'perdê-la', 'pergunte-me', 'perjúrio', 'permanecem', 'permaneça', 'permitimos', 'permitirei', 'pernilongo', 'perseguiu', 'persuadido', 'persuasivo', 'pertenço', 'perturbador', 'perturbando', 'pesava', 'pescadores', 'pescando', 'pesquisas', 'peste', 'petiscos', 'pianos', 'pica-pau', 'picada', 'piercing', 'pingo', 'pingue-pongue', 'pintadas', 'pintaram', 'pintaria', 'pio', 'piora', 'pioraram', 'pirralho', 'piscar', 'piza', 'planejaram', 'plutão', 'plástica', 'podendo', 'podermos', 'poderosa', 'poderíeis', 'poente', 'poetas', 'polido', 'polir', 'polonês', 'polêmico', 'ponha-o', 'pontualidade', 'porta-luvas', 'porções', 'posse', 'postar', 'postas', 'poste', 'postou', 'postura', 'potente', 'poupar', 'poupou', 'povoado', 'poça', 'prancha', 'praticam', 'pratiquei', 'precede', 'preces', 'precisemos', 'preconceituoso', 'predadores', 'preenchendo', 'preencheu', 'preferir', 'preferível', 'pregador', 'preguiçosos', 'prejudica', 'prematuramente', 'preocupando', 'preocupar-se', 'preocupes', 'preparasse', 'preparei', 'presidenciais', 'pressionado', 'prestativo', 'pretendes', 'prevalecerá', 'prevenir', 'prisional', 'prisões', 'privada', 'privadas', 'privilégio', 'proativo', 'proceder', 'processou', 'produzida', 'progrediu', 'projetou', 'prometa-me', 'prometemos', 'prometido', 'pronunciaria', 'propaganda', 'protegerei', 'protegerá', 'protegê-las', 'proteja', 'protestando', 'provoque', 'proximidades', 'proíbe', 'prudência', 'prévio', 'prêmios', 'pseudociência', 'publicada', 'puderem', 'pudeste', 'pudim', 'pulei', 'pulo', 'puseram', 'puxando', 'páreo', 'pátio', 'pátria', 'pérolas', 'pétalas', 'píer', 'pólen', 'qr', 'quadras', 'quebradas', 'queixar-se', 'questionou', 'quilo', 'quimioterapia', 'quimono', 'quinhentas', 'quisemos', 'quiseram', 'quisessem', 'quântica', 'quênia', 'rachou', 'radiação', 'raparigas', 'rara', 'raspar', 'reagiria', 'realistas', 'realizará', 'realize', 'reanimar', 'rebeldes', 'rebelião', 'recebida', 'recebido', 'reclamaram', 'reclame', 'recomendado', 'reconhecê-la', 'reconstruir', 'recorda', 'recuem', 'recusou-se', 'redondezas', 'reduziu', 'reembolsei', 'reembolso', 'reencarnação', 'reescrever', 'reformar', 'reformular', 'reforçar', 'reforços', 'refém', 'regando', 'regular', 'regularmente', 'reinava', 'reino', 'reis', 'relance', 'relaxem', 'remarcou', 'remo', 'removeu', 'remunerado', 'rendas', 'rendeu', 'rendo', 'renunciando', 'reparar', 'reparos', 'repleta', 'repouso', 'represa', 'reprodução', 'república', 'reservei', 'resgatados', 'resgatá-la', 'resgatá-lo', 'resiste', 'resmungar', 'resolução', 'resolva', 'resolvendo', 'respeitados', 'respira', 'respondam', 'responderia', 'respondê-la', 'restava', 'resumo', 'retire', 'retornará', 'retratos', 'retângulo', 'revalidar', 'revanche', 'revelados', 'revigorado', 'reviver', 'revê-la', 'rezamos', 'rg', 'ridículas', 'ridículos', 'rigorosa', 'robô', 'roger', 'rola', 'roleta', 'rolou', 'romper', 'ronronando', 'rosnar', 'roteador', 'roubou-me', 'rouco', 'roxa', 'régua', 'rígida', 'rúgbi', 'sabiamente', 'sacolas', 'sagrados', 'saiamos', 'salas', 'salva', 'salve', 'sandálias', 'sapo', 'satélites', 'saíssemos', 'sebo', 'secador', 'secando', 'sedento', 'segui-lo', 'seguidas', 'seguiram', 'seguiremos', 'seguiria', 'segurava', 'selfie', 'selva', 'sem-teto', 'semáforos', 'sena', 'senadores', 'sentar-me', 'sentindo-se', 'sepulturas', 'sequei', 'sequestrada', 'sequestrado', 'sequestrados', 'sequestro', 'seriedade', 'serpentes', 'serra', 'servi-lo', 'servos', 'serás', 'sexo', 'sextas-feiras', 'shows', 'significar', 'sigo', 'simpáticas', 'sinfonia', 'sintam-se', 'sinuca', 'sites', 'sobe', 'sobraram', 'sobras', 'sobremesas', 'sobrenatural', 'sobressai', 'sobrevoando', 'sobrinhos', 'socializar', 'sofra', 'sofram', 'sofria', 'sola', 'solares', 'solucionou', 'soluçando', 'sombras', 'sonequinha', 'sonhado', 'sonhador', 'sopre', 'sorrateiramente', 'sorvetes', 'sozinho(a', 'subimos', 'substituto', 'subtração', 'sudeste', 'sueca', 'sujar', 'super-herói', 'superiores', 'supersticioso', 'suplicou', 'supondo', 'suportava', 'suprimento', 'surfista', 'surgiu', 'surpreendidos', 'suspeitei', 'suspeitos', 'suspendeu', 'sábios', 'sãos', 'sóbria', 'sócrates', 'tabaco', 'taco', 'tailandesa', 'tailandês', 'talentosas', 'talheres', 'talves', 'tangerinas', 'tango', 'tapetes', 'tava', 'tecidos', 'tecnicamente', 'telas', 'temem', 'temperamental', 'tempero', 'templos', 'tencionas', 'tendinite', 'tentativas', 'ter-te', 'testada', 'testado', 'testemunhar', 'tias', 'tickets', 'tigelas', 'tirassem', 'tirá-la', 'tirá-lo', 'toa', 'toalete', 'tocam', 'tocá-lo', 'tofu', 'tolerantes', 'tolice', 'tomaremos', 'tomará', 'tomemos', 'torcer', 'tornar-me', 'tornar-se-á', 'tornarei', 'torto', 'tortura', 'trabalharei', 'trabalharem', 'trabalhaste', 'tradutora', 'traduzo', 'trairei', 'tranquilamente', 'tranquilos', 'transbordou', 'transformado', 'transformar', 'transformou-se', 'transmitido', 'transtorno', 'trapaceei', 'trapaceia', 'tratar-me', 'tratem', 'trato', 'travessa', 'travesseiros', 'traí', 'treina', 'tremia', 'triciclo', 'triplo', 'tripé', 'triângulo', 'trocaste', 'troféu', 'troféus', 'trompeta', 'tropeçar', 'tropical', 'trouxeste', 'troçar', 'trégua', 'tuba', 'tubo', 'tufões', 'twain', 'twitter', 'táxis', 'técnica', 'térreo', 'tópico', 'uivam', 'uivando', 'ultrajante', 'universitários', 'união', 'urano', 'urgentemente', 'urgência', 'usais', 'usarei', 'usasse', 'usb', 'utilizada', 'vacina', 'vagando', 'vagas', 'valete', 'validade', 'valorizamos', 'vampiros', 'vapor', 'vara', 'variar', 'varrendo', 'varri', 'vazando', 'vegana', 'veganos', 'vegetal', 'vencedores', 'venceremos', 'venceste', 'vendem-se', 'venderam', 'vendermos', 'vendes', 'venenosas', 'venenosos', 'ventania', 'verbos', 'vergonhoso', 'verificamos', 'verificaram', 'verificaste', 'verifiquei', 'verões', 'vestia', 'vestimos', 'veterano', 'vi-a', 'viajam', 'vibrou', 'videogames', 'viessem', 'vietnamita', 'vigie', 'violões', 'virasse', 'viriam', 'virás', 'visitava', 'vistam-se', 'vital', 'vivida', 'vocabulário', 'voleibol', 'voltareis', 'voltarem', 'voltas', 'volumes', 'vossos', 'votado', 'windows', 'xampu', 'xerife', 'xix', 'youtube', 'zebras', 'zoando', 'zombe', 'zonzo', 'á', 'águas-vivas', 'álgebra', 'ártico', 'áspero', 'átomo', 'ávida', 'ângulo', 'ângulos', 'ânimo', 'ética', 'ético', 'íngreme', 'órfã', 'úmida', \"'s\", '-', '10.000', '10:00', '16', '160', '1847', '1870', '1888', '1908', '1918', '1944', '1962', '1963', '1972', '1979', '1988', '1989', '1995', '1996', '1998', '20.000', '2006', '2010', '21', '223-1374', '250', '256', '27', '300,000', '30º', '32', '3202-5625', '3h', '3h30', '5.000', '5500', '58', '70º', '76', '7h30', '8:30', '8h30', '99', 'a.', 'aardvark', 'abafada', 'abaixa', 'abaixados', 'abaixem-se', 'abandonando', 'abandonarei', 'abandone', 'abater', 'abençoado', 'abobrinhas', 'aboliu', 'abomino', 'aborda', 'abordado', 'abordar', 'aborrecer', 'aborreceu', 'abraçavam', 'abraçá-lo', 'abreviação', 'abriste', 'absurdamente', 'abusa', 'acabam', 'acabarem', 'acabou-se', 'acabávamos', 'acadêmica', 'acalmar-se', 'acalmaram', 'acalmasse', 'acalme', 'acalmem-se', 'acampando', 'acanhamento', 'acariciar', 'aceitaram-se', 'aceitem', 'aceites', 'aceitá-lo', 'aceitáveis', 'acendam', 'acendedor', 'acendemos', 'acenderam', 'acenei', 'acento', 'acerta', 'acertaram', 'acertei', 'acessar', 'achavas', 'achille', 'achá-la', 'achá-lo', 'acionista', 'acirrada', 'acolhida', 'acompanham', 'acompanharei', 'acompanhei-a', 'acompanhou-o', 'acompanhá-la', 'aconchegante', 'aconselhar', 'aconselharam', 'acontecia', 'acordam', 'acordará', 'acordas', 'acordem', 'acostuma', 'acostumará', 'acostume-se', 'acreditasse', 'acreditava-se', 'acrílica', 'acusão', 'adega', 'adequada', 'adesiva', 'adiasse', 'adjetivo', 'administra', 'admirado', 'admirando', 'admirou', 'admitirá', 'adoraram', 'adoraríamos', 'adormeceram', 'adversários', 'advertências', 'advérbio', 'aeroportos', 'afasta-te', 'afaste', 'afastem-se', 'afastou-se', 'afazeres', 'afecções', 'afetado', 'afetem', 'afiadas', 'afiando', 'afiar', 'afiei', 'afinado', 'afinou', 'afirmam', 'afivelar', 'afivelou', 'afogamento', 'afora', 'africana', 'africano', 'afrouxou', 'afugentar', 'agachei', 'agarra', 'agarre', 'agarre-o', 'agarrem', 'agem', 'agendado', 'agiria', 'agitadas', 'agradam', 'agradecendo', 'agradecida', 'agravou', 'agredida', 'agredido', 'agressivos', 'agressor', 'agrimensor', 'aguando', 'aguardava', 'aguardo', 'aguentava', 'aguente', 'aids', 'airlines', 'ajoelhar-se', 'ajoelhei', 'ajudassem', 'ajudem-nos', 'ajudou-me', 'ajudássemos', 'ajudávamos', 'ajustes', 'alasca', 'albino', 'alcançamos', 'alcançava', 'alcançá-los', 'alcoólico', 'aldeões', 'alegrar', 'alegraria', 'aleijei-me', 'alertas', 'alertá-los', 'alexandre', 'alfabeticamente', 'alfândega', 'algemou', 'alguem', 'alheia', 'aliado', 'alicate', 'alimentando', 'alimentará', 'alimentem', 'alistou', 'alistou-se', 'aliviada', 'aliviados', 'alpinismo', 'alpinista', 'altera', 'alternados', 'alto-falante', 'alturas', 'altíssimo', 'alucinações', 'amador', 'amar-vos', 'amarelei', 'amargamente', 'ambidestros', 'ambiental', 'ameaçadas', 'amistoso', 'amo-a', 'amo-o', 'amo-te', 'amolou', 'amordaçado', 'amostras', 'amputada', 'amputou', 'amsterdã', 'amá-lo', 'amávamos', 'américas', 'anabolizantes', 'analfabeta', 'analisado', 'ananás', 'andaram', 'andarem', 'andará', 'andavas', 'andes', 'andorinha', 'anexar', 'anexo', 'anime-se', 'ann', 'antagonista', 'antebraço', 'antecedentes', 'antecipar', 'antecipo', 'antena', 'antepassados', 'anteriores', 'anti-horário', 'antipático', 'antiquada', 'antiquados', 'antropóloga', 'antártica', 'antílope', 'anunciado', 'anunciaram', 'apago', 'apagou-se', 'apanhá-los', 'aparar', 'apareceria', 'aparecesse', 'aparei', 'apavorados', 'apelar', 'apendicite', 'aperta', 'apertai', 'apertei', 'aplaudindo', 'aplaudir', 'apodreceram', 'apoia', 'apoiando', 'apoiarei', 'apoiá-lo', 'apontado', 'apontados', 'apontando', 'aponte', 'aposenta', 'aposentadas', 'aposentadoria', 'aposentados', 'aposentará', 'apostaram', 'apostas', 'apple', 'apreciar', 'apreciaria', 'apreciou', 'apreensivos', 'aprendiz', 'aprendizagem', 'apresentando', 'apresentar-lhe', 'apressa', 'apressada', 'apressarem', 'apressei', 'apressei-me', 'apressemo-nos', 'apropriadamente', 'aprovados', 'aproveita', 'aproveitamos', 'aproximamos', 'aproximaram', 'aproximasse', 'aproximem', 'apto', 'aquecendo', 'aquietaram', 'arando', 'arca', 'arenque', 'ares', 'aristocrata', 'armadas', 'armamos', 'armaram', 'armstrong', 'arquivar', 'arranjar-te', 'arranje', 'arrasado', 'arrastar', 'arregace', 'arregalaram', 'arrego', 'arregou', 'arreguei', 'arremessou', 'arrepender-se', 'arrepiou', 'arrisca', 'arrisque', 'arrogantes', 'arrogância', 'arrotei', 'arruinada', 'arrumamos', 'arrumação', 'artifício', 'artrite', 'asa-delta', 'ases', 'asiático', 'aspiramos', 'aspirinas', 'assa', 'assaltada', 'assassinar', 'assei', 'assembleia', 'assentiram', 'assinarei', 'assinem', 'assiná-lo', 'assistisse', 'associamos', 'assoou', 'assuma', 'assustadores', 'assustamos', 'assustaram', 'assustá-los', 'assédio', 'astro', 'astronautas', 'astrônomo', 'astuta', 'astutas', 'astutos', 'ata', 'atacada', 'atacaremos', 'atadas', 'atalhos', 'atarefada', 'atarefado', 'atenciosamente', 'atenderam', 'atendidas', 'atendidos', 'atendê-lo', 'atenha-se', 'atentas', 'aterrorizada', 'atirador', 'atirando', 'atividade', 'atiça', 'atrapalhamos', 'atrapalhando', 'atrapalhe', 'atrapalhou', 'atrasarei', 'atrasos', 'atravessarem', 'atraído', 'atreveu', 'atropelamos', 'atropelar', 'atuais', 'atualiza', 'atualize', 'atualizou', 'atuação', 'atônito', 'ausentou', 'australiana', 'autocontrole', 'autoestrada', 'autografar', 'automático', 'autora', 'autossuficientes', 'autênticas', 'autógrafos', 'autônomo', 'auxiliar', 'auxiliarei', 'avaliar', 'avançada', 'avançaram', 'avanços', 'aveia', 'avelãs', 'aventuras', 'aventure', 'aventureira', 'avisa-me', 'avisadas', 'avisaram', 'avisem-me', 'avisou-me', 'azarados', 'azedas', 'azul-escuros', 'azáleas', 'açougue', 'babando', 'bacia', 'bagagens', 'bagunçando', 'baixado', 'baixaram', 'baixe', 'baixinho', 'bajulação', 'balance', 'baleadas', 'balões', 'bambu', 'bananeira', 'band-aid', 'bandana', 'bandolim', 'banha', 'barbeador', 'barbeiros', 'barcelona', 'barganha', 'barraco', 'barragem', 'barreira', 'barro', 'bartender', 'barulhos', 'basco', 'baseado', 'baseia', 'basho', 'bastão', 'batalhas', 'batedores', 'batem', 'batia', 'baía', 'bebas', 'bebaço', 'bebeis', 'beberem', 'bebermos', 'beija-flor', 'beijava', 'beije-me', 'beira-mar', 'benfeito', 'benquisto', 'benzina', 'benéfica', 'benéfico', 'berinjela', 'besteiras', 'beça', 'bibliotecária', 'bibliotecário', 'bicos', 'bigamia', 'bike', 'bilheteria', 'bilhão', 'bilionário', 'bilionários', 'bill', 'binóculo', 'binóculos', 'biruta', 'bisavó', 'biscates', 'bispo', 'biwa', 'bizarras', 'blogue', 'blogueiro', 'bloqueada', 'bloqueado', 'bloqueio', 'bochechas', 'boiando', 'bolacha', 'bom-senso', 'bombardeio', 'bonitinhos', 'bonzinho', 'bordou', 'botei', 'brabo', 'brasília', 'bravas', 'brechó', 'brigassem', 'brigo', 'briguem', 'brincadeiras', 'brincadeirinha', 'brincalhão', 'brincassem', 'brincávamos', 'brinquei', 'broche', 'bruto', 'bubônica', 'buda', 'bule', 'bunyan', 'burj', 'burocracia', 'busto', 'buzinou', 'bárbaro', 'básica', 'básicas', 'básicos', 'bêbadas', 'bênção', 'cabeleireiros', 'cabeçudo', 'cabos', 'cabúqui', 'cachimbo', 'cachoro', 'cacos', 'cafés', 'caiam', 'caiaque', 'cain', 'caipira', 'caixote', 'calados', 'calam', 'calce', 'calcinha', 'calcular', 'call', 'calmaria', 'calorosamente', 'caloroso', 'calçadas', 'calçar', 'camelos', 'caminharia', 'caminhemos', 'caminhávamos', 'campanha', 'camponeses', 'canadiano', 'cancelamos', 'cancele', 'candidatura', 'canhotos', 'cansar', 'cansativa', 'canso', 'canta-me', 'canteiro', 'cantemos', 'canário', 'capitais', 'capitã', 'caprichos', 'captura', 'capturados', 'capuz', 'caracóis', 'carapanã', 'caratê', 'cardiologista', 'cardíaca', 'cardíacas', 'cardíacos', 'careta', 'caretas', 'carga', 'cargueiro', 'carismática', 'carma', 'carnaval', 'carpas', 'carpintaria', 'carregam', 'carteirinha', 'casei-me', 'caseiro', 'casem', 'cassete', 'castores', 'catastrófico', 'cativante', 'catorze', 'catálogo', 'catástrofe', 'católicos', 'causadas', 'causador', 'causados', 'causamos', 'cautelosa', 'cavar', 'cavaram', 'cave', 'caxumba', 'caçadores', 'caçarola', 'caçoa', 'caçoando', 'caçoou', 'caía', 'caídas', 'caótica', 'cede', 'cedi', 'cedinho', 'cegado', 'ceia', 'celebramos', 'celebrando', 'celebração', 'celebridades', 'celta', 'celulares', 'centígrado', 'centímetro', 'ceou', 'cerrado', 'certifiquem-se', 'certinho', 'cervejinha', 'cervos', 'chamarei', 'chantageada', 'chantageados', 'chantagista', 'charme', 'charuto', 'charutos', 'chatas', 'chave-mestra', 'checando', 'checks', 'checkup', 'cheeseburger', 'cheeseburgers', 'chef', 'chegarão', 'chegássemos', 'chequei', 'chips', 'chique', 'chocalho', 'chocante', 'chofer', 'chorem', 'chucrute', 'chuta', 'chutando', 'chuvosa', 'chávena', 'científicos', 'cimento', 'cinematográfica', 'cinta', 'cinzeiros', 'cisnes', 'cita', 'citações', 'clarineta', 'claustrofobia', 'claustrofóbica', 'claustrofóbicos', 'clichê', 'cláusula', 'coador', 'cobrado', 'cobraram', 'cobre', 'cobrindo', 'cochilei', 'cocô', 'coice', 'coiotes', 'coisinha', 'colaborar', 'colapsar', 'colarinho', 'colecionador', 'colei', 'colidiram', 'colisão', 'colloquial', 'colocada', 'colocamos', 'colocaste', 'colonos', 'coloque-se', 'colorido', 'colômbia', 'combinado', 'combinando', 'combine', 'combustíveis', 'comemore', 'comemorou', 'comerem', 'comerão', 'comes', 'cometerei', 'cometidos', 'começarei', 'comilão', 'comovente', 'comoveu', 'comovido', 'companhias', 'comparados', 'comparar', 'comparem', 'comparou', 'compartilham', 'compartilharemos', 'compensa', 'compensaremos', 'completado', 'complica', 'complique', 'compondo', 'comportai-vos', 'comportam', 'comportaram', 'comportei', 'composto', 'compostos', 'compra-me', 'comprador', 'comprados', 'comprarem', 'comprastes', 'compreenda', 'compreenderam', 'compreendido', 'compreensivo', 'comprei-a', 'compres', 'comprou-lhe', 'comprou-me', 'compulsivo', 'compus', 'computação', 'compõem', 'comunitária', 'comê-las', 'concentração', 'concentre', 'concentre-se', 'concentrou', 'concerne', 'concha', 'conciso', 'conclui', 'concluir', 'concluída', 'concordando', 'concordas', 'condenou', 'conduzem', 'conduzia', 'conduzidos', 'conectar', 'conecte', 'confere', 'conferências', 'confessamos', 'confiará', 'confiasse', 'confiassem', 'confidencialidade', 'confiram', 'confiscado', 'confundem', 'confusas', 'congelador', 'congestionado', 'congestionamento', 'congregação', 'conhece-la', 'conheceis', 'conhecerá', 'conhecessem', 'conheci-o', 'conhecidas', 'conhecimentos', 'conhecê-los', 'conhecíamos', 'conjugais', 'conquistas', 'conseguiriam', 'conseguiríamos', 'conseguíamos', 'consentimento', 'consentiram', 'consentiu', 'consequência', 'consertadas', 'consertarem', 'conservar', 'considerada', 'considerava', 'considerável', 'consigamos', 'consistente', 'consolou', 'consta', 'constantinopla', 'constrangedora', 'constrangimento', 'constroem', 'construtivas', 'construídas', 'consultaria', 'consumidos', 'contabilizados', 'contacte', 'contagem', 'contar-lhe', 'contatado', 'contate-me', 'contatos', 'contatá-la', 'contenha', 'contes', 'contexto', 'continuais', 'continuamente', 'contrabaixo', 'contrabandeou', 'contradisse', 'contradizem', 'contradizendo', 'contrair', 'contraiu', 'contraria', 'contrariado', 'contras', 'contrata', 'contratarei', 'contratempo', 'contratá-la', 'contribuições', 'controla', 'controlava', 'conversarei', 'conversem', 'conversinha', 'convertido', 'convidarmos', 'convide', 'convidei-a', 'convidá-la', 'convém', 'cooperou', 'copiadora', 'copiloto', 'coque', 'cor-de-rosa', 'coral', 'corcunda', 'cordeiros', 'coro', 'correia', 'correlação', 'correntes', 'correria', 'correrá', 'corretor', 'corretos', 'corrigido', 'corrigindo', 'corrompe', 'corrompido', 'corruptos', 'corríamos', 'cortado', 'cortasse', 'cortes', 'cortou-se', 'coréia', 'cosméticos', 'costela', 'costelas', 'costuma-se', 'covid-19', 'cozido', 'cozinham', 'cozinharei', 'cozinharemos', 'cozinhará', 'cozinheiros', 'crasso', 'credes', 'cremou', 'crente', 'crescerão', 'crescesse', 'cresceste', 'criacionismo', 'criados', 'criam', 'criancinha', 'criancinhas', 'criando', 'criaram', 'criativas', 'criatura', 'criação', 'criei', 'criminais', 'criminalidade', 'cristãos', 'cristãs', 'criticados', 'criticar', 'critérios', 'croutons', 'cruza', 'cruzando', 'cruzeiro', 'crédulo', 'críquete', 'crônica', 'cuba', 'cuecas', 'cuidasse', 'cuidem-se', 'culpam', 'culparia', 'culpava', 'culpem', 'culpes', 'cultivam', 'cultivava', 'cumprimentos', 'cupcake', 'curry', 'cursando', 'curtem', 'curti', 'custasse', 'cálice', 'cântaros', 'célebre', 'céticos', 'círculos', 'cócoras', 'cólera', 'cúmplice', 'dancemos', 'daninha', 'dançaremos', 'danças', 'dardo', 'decapitado', 'decepcionaria', 'decida', 'decida-se', 'decidiremos', 'decifrou', 'decodificá-lo', 'decomposição', 'decorando', 'decoração', 'decúbito', 'dedurar', 'dedutíveis', 'defenderem-se', 'defendi', 'definição', 'deitados', 'deixados', 'deixai-me', 'deixar-te', 'deixariam', 'deixemos', 'deixou-me', 'deixou-o', 'deletar', 'delinquente', 'delongas', 'demandas', 'demasia', 'demasiadamente', 'demente', 'demitidas', 'demito', 'democrata', 'demorados', 'densa', 'denso', 'deparei', 'dependa', 'dependendo', 'dependentes', 'deplorável', 'depositar', 'deram-me', 'derrame', 'derramei', 'derreta', 'derrete', 'derrubaram', 'desacordo', 'desacostumado', 'desafinada', 'desanime', 'desaparecidas', 'desaparecimento', 'desapontei', 'desapontá-lo', 'desarrume', 'desativar', 'desativo', 'desavença', 'desbotada', 'descafeinado', 'descalça', 'descansei', 'descansem', 'descansássemos', 'descarregada', 'descarreguei', 'descemos', 'descende', 'descobre', 'descobriremos', 'descobrisse', 'descobrissem', 'descobristes', 'desconectei', 'descontraída', 'descortês', 'descrevam', 'descrevendo', 'descreveriam', 'descrevê-las', 'descrita', 'descuidada', 'desculpamos', 'desculpar-me', 'desculpem-me', 'desdobrou', 'desejais', 'deseje-me', 'desejo-lhes', 'desembucha', 'desempacotar', 'desempregados', 'desenha-me', 'desentendimento', 'desenvolve', 'desenvolvedor', 'deserdado', 'desertas', 'desespero', 'desfazendo', 'desfeito', 'desfibrilador', 'desgastado', 'designado', 'desinfetante', 'desistido', 'desistiriam', 'desleixado', 'desligada', 'desligá-lo', 'deslizava', 'desmontá-lo', 'desmoronar', 'desobediente', 'desolado', 'despedaçado', 'despedidos', 'despeito', 'despejou', 'despencaram', 'despenhar-nos', 'despercebido', 'despercebidos', 'desperdiça', 'desperdiçam', 'despertei', 'despesa', 'desportivo', 'desprevenida', 'despreze', 'desprezo', 'desrespeitosa', 'destemidas', 'destemidos', 'destranquei', 'destroem', 'destrua', 'destruindo', 'destrutivos', 'destruídos', 'desviar', 'desçam', 'detenção', 'deter-me', 'detroit', 'devastada', 'deveras', 'devida', 'devotou', 'devíeis', 'diabética', 'diagnóstico', 'diagonal', 'diagonalmente', 'diagrama', 'diarreia', 'didáticos', 'difamar', 'difamação', 'difere', 'diferenciá-lo', 'dificulta', 'diga-lhes', 'digestão', 'digital', 'digite', 'diligentes', 'dinamite', 'diplomacia', 'diplomáticas', 'diplomáticos', 'diretos', 'dirigiram', 'dirigiria', 'discado', 'disciplinado', 'discoteca', 'discretas', 'discutiremos', 'discutirmos', 'discutíamos', 'disfarçarmos', 'dispararam', 'disponha', 'disponho', 'disque', 'disse-nos', 'disse-te', 'disseram-lhe', 'dissertação', 'dissolve', 'distintivo', 'distraia', 'distração', 'distraída', 'distribuí', 'distrito', 'distúrbio', 'ditaduras', 'diversidade', 'diverte', 'divertidos', 'divertindo-nos', 'divertissem', 'divertiu-se', 'dividem', 'dividida', 'divulgou', 'dize', 'diziam', 'dobradiça', 'doca', 'dolorosas', 'domiciliar', 'domésticos', 'donde', 'donuts', 'dormirei', 'dormiria', 'dou-te', 'dourados', 'doutora', 'doutorado', 'dragões', 'drama', 'dramaticamente', 'dramática', 'drink', 'drive', 'drásticas', 'dublador', 'dublados', 'dum', 'duma', 'dunham', 'durado', 'durará', 'duras', 'durável', 'duvidando', 'duvidou', 'dvd', 'dá-lo', 'dá-los', 'dá-nos', 'dás', 'déficit', 'délhi', 'dócil', 'eclipses', 'economize', 'edison', 'editar', 'edições', 'educador', 'educar', 'efetuar', 'efêmeros', 'egocêntrico', 'eis-nos', 'eleger', 'eleitores', 'elemento', 'eletrocutado', 'eletrônica', 'eletrônicos', 'elevada', 'elevado', 'elevados', 'eliminado', 'elizabeth', 'elétricos', 'emagrecendo', 'emagreceu', 'emails', 'embalar', 'embarcamos', 'embarque', 'embarquei', 'emborcou', 'emboscaram', 'embreagem', 'embrulhado', 'empalideceu', 'empanturrada', 'empatia', 'emperrado', 'empoeirada', 'empoeirados', 'empolgados', 'empolgue', 'empresas', 'empresta-me', 'emprestar-lhe', 'emprestará', 'empurrem', 'encabulado', 'encaixam', 'encantadas', 'encarcerado', 'encarou', 'encerrou', 'encharcada', 'enche', 'enchendo', 'encheram-se', 'encolhendo', 'encomendar', 'encontar', 'encontrados', 'encontrar-te', 'encontre-me', 'encontremo-nos', 'encontremos', 'encontro-o', 'encorajados', 'encorajamento', 'encorajar', 'encosta', 'encoste', 'encostei', 'encrenca', 'encrencada', 'encrencas', 'encurtar', 'endireita', 'endireite', 'endireitou', 'endosse', 'energéticos', 'enfadonho', 'enfeites', 'enfermeiras', 'enfermeiros', 'enferrujada', 'enfiou', 'enforcar', 'enforcou', 'enfurecido', 'enganem', 'enganoso', 'enganámo-nos', 'engenhoso', 'engoliu', 'engraxar', 'enguiçou', 'engula', 'engulo', 'enigmas', 'enjoo', 'enlameadas', 'enlatada', 'enormemente', 'enrolando', 'enrolou', 'ensina-se', 'ensinaram-me', 'ensinavam', 'ensine-me', 'ensurdecedor', 'entalhou', 'enteado', 'entendeis', 'entendessem', 'entendestes', 'entendida', 'entendê-la', 'entendíamos', 'enterra', 'enterram', 'enterramos', 'enterraram', 'enterrei', 'enterro', 'entornou', 'entrado', 'entregador', 'entregasse', 'entregou-lhe', 'entregues', 'entremos', 'entretenimento', 'entretido', 'entrevistar', 'entrevistei', 'entusiasmados', 'envenenada', 'envenenados', 'envergonhou', 'enviadas', 'enviesado', 'envolvi', 'enxame', 'enxugar', 'enérgica', 'equação', 'equipes', 'eramos', 'ernesto', 'erra', 'erramos', 'erva-doce', 'esbarrou', 'esboços', 'escala', 'escalando', 'escalas', 'escamas', 'esclerose', 'escolham', 'escolhidos', 'escoltado', 'escondendo-me', 'esconderam-se', 'escorpiões', 'escorreram', 'escoteiro', 'escovado', 'escrava', 'escrevemos-lhes', 'escrevendo-o', 'escrevesse', 'escultor', 'escultura', 'escutará', 'escutasse', 'esforça', 'esforçou', 'esfregar', 'esfriou', 'esgotaram', 'esgoto', 'espalhados', 'espalhe', 'espanhola', 'esparramado', 'espaçonave', 'especializando', 'especializar', 'especializei', 'especiaria', 'espelhos', 'esperais', 'esperanto', 'esperançoso', 'esperdice', 'espertas', 'espigas', 'espingarda', 'espinha', 'espinho', 'espionar', 'espiou', 'espirrou', 'espontâneos', 'espremeu', 'espremi', 'esquadra', 'esquecerás', 'esquecerão', 'esqueceste', 'esquecida', 'esquiava', 'esquio', 'esquivo', 'esquizofrênico', 'essenciais', 'estabelecer', 'estacionadas', 'estacionados', 'estacionasse', 'estanho', 'estantes', 'estarás', 'estejas', 'esteroides', 'estetoscópio', 'esticar', 'estimo', 'estimulante', 'estonteado', 'estragam', 'estragastes', 'estragos', 'estraguei', 'estranhei', 'estreitos', 'estrelado', 'estremeceu', 'estressado', 'estribeiras', 'estrondo', 'estudaremos', 'estudemos', 'estudássemos', 'estábulos', 'estágio', 'estágios', 'eterno', 'evasivo', 'evitá-lo', 'evolução', 'ex-empregado', 'exagere', 'exagerou', 'examinada', 'exaustas', 'exaustiva', 'exaustivo', 'exaustão', 'excessiva', 'excessivamente', 'excluir', 'excruciante', 'execute', 'exercita', 'exercitaram', 'exercitei', 'exercitou', 'exibição', 'exigem', 'exigiam', 'exilado', 'existam', 'expandir', 'experienciei', 'experimentá-la', 'expert', 'expira', 'explicamos', 'explicava', 'expliquei-lhe', 'explosivos', 'exportações', 'expressado', 'expresse', 'expressou', 'expulsaram', 'extraterrestre', 'extrema', 'extremante', 'extremas', 'exuberante', 'exóticas', 'f', 'fabricado', 'fabricados', 'facilita', 'factual', 'facão', 'fagote', 'faisão', 'faladas', 'faladeiras', 'falados', 'falassem', 'falaste', 'faleceram', 'falhando', 'falido', 'falir', 'falsificado', 'falsificação', 'faltado', 'faltaram', 'faltaram-me', 'faltava', 'faltem', 'familia', 'familiares', 'familiarizados', 'faminta', 'famito', 'fanática', 'faro', 'fascinada', 'fascinados', 'fascinam', 'fatal', 'fator', 'favores', 'faxineira', 'fazer-lhes', 'fazer-vos', 'fazeres', 'faça-me', 'façais', 'febril', 'fechaste', 'federer', 'fedor', 'feiticeiro', 'feitiço', 'felicidades', 'felicitá-lo', 'feno', 'fenômenos', 'ferir-te', 'fervida', 'festinha', 'fi-lo', 'fiasco', 'figurinhas', 'filósofos', 'fiqueis', 'firma', 'firmeza', 'fiscal', 'fisiculturistas', 'fisionomia', 'fisioterapeuta', 'fisioterapia', 'fitando', 'fitas', 'fitou', 'fixamente', 'fizera', 'fiéis', 'flagrante', 'flecha', 'floração', 'florença', 'florescem', 'floresceram', 'florista', 'fluorescente', 'fluorescentes', 'flutua', 'flutuam', 'flórida', 'fofinha', 'fofoca', 'foles', 'foras', 'formalidade', 'formamos', 'formariam', 'forme', 'formem', 'formigam', 'forneceram', 'fornecido', 'forçou-lhe', 'forçá-la', 'forçá-lo', 'foster', 'fotógrafa', 'fracassarão', 'fracassos', 'fralda', 'francisco', 'francês-inglês', 'francófono', 'frank', 'franklin', 'frascos', 'frações', 'freie', 'frequentei', 'frete', 'freud', 'frigorífico', 'friorento', 'fritou', 'fronteiras', 'frustrados', 'frustrar', 'fugiria', 'fumam', 'fumaria', 'fumasse', 'fumes', 'funcionaram', 'furo', 'furtando', 'furtivamente', 'fusível', 'futebolista', 'fórmulas', 'fósforos', 'fúteis', 'gabando', 'gabaritou', 'gabe', 'gabinete', 'gagueja', 'gaguejando', 'gaguejou', 'gaiolas', 'gales', 'galhos', 'ganhador', 'ganhara', 'ganharei', 'ganharão', 'ganhes', 'ganhámos', 'garanti', 'garras', 'garçons', 'gastaste', 'gate', 'gemas', 'general', 'generosamente', 'genes', 'genialidade', 'genros', 'genuinamente', 'genética', 'geometria', 'geram', 'gerações', 'gerentes', 'gesto', 'geólogo', 'ginástica', 'girassóis', 'girinos', 'glúten', 'gola', 'golden', 'golf', 'golfista', 'golpeou', 'gongo', 'gordinhas', 'gordos', 'gorilas', 'gostarem', 'gostariamos', 'gostavas', 'gostosas', 'gostávamos', 'goteira', 'governos', 'governou', 'gps', 'gracinha', 'gramatical', 'granola', 'grant', 'gratas', 'gravado', 'gravei', 'gravidez', 'gripei', 'grites', 'grossa', 'grossas', 'grotesco', 'grous', 'grão', 'grãos', 'guarda-roupas', 'guardanapos', 'guardo', 'guaxinins', 'guinchado', 'guincho', 'gulliver', 'gémeos', 'hackeado', 'handebol', 'hashi', 'hasteou', 'helen', 'hemisférios', 'hemorragia', 'hesitar', 'hesitei', 'hidrante', 'hidromassagem', 'hilária', 'himalaia', 'hinos', 'hiperativo', 'hipnotizasse', 'hipopótamo', 'hipoteca', 'hipotequei', 'hippies', 'historiador', 'hitler', 'hokkaido', 'hong', 'honrado', 'horizontes', 'horrivel', 'horroroso', 'horóscopo', 'hospedada', 'hospedamos', 'humildade', 'humilhada', 'humilhar', 'humilhou', 'humorado', 'hábil', 'hálito', 'híbrido', 'i', 'identificá-los', 'identifique-se', 'ides', 'idolatrava', 'idêntica', 'ignoramos', 'ignorei', 'igualzinha', 'igualzinho', 'ilimitados', 'iluminaram', 'ilustrou', 'imaginais', 'imaginativo', 'imaginavam', 'imagine', 'imaginários', 'imaginávamos', 'imbecil', 'imensamente', 'imitando', 'imitações', 'imitá-lo', 'impedido', 'impedirei', 'impediu-me', 'imperial', 'impeça', 'impiedoso', 'impopular', 'importados', 'importares', 'importuno', 'importunou', 'impossíveis', 'impostor', 'imprescindível', 'impressiono', 'impresso', 'impulsivos', 'imunda', 'imundo', 'imóvel', 'inacreditavelmente', 'inadmissível', 'inauguração', 'incentivar', 'inchadas', 'incidentes', 'inclinação', 'inclinou-se', 'incluir', 'incluídas', 'incolor', 'incomodem', 'incompleta', 'incompleto', 'incompreensível', 'inconsistente', 'inconstitucional', 'incorretamente', 'incorrigível', 'incrédulo', 'incêndios', 'indecisa', 'indefensável', 'indescritivelmente', 'indesejados', 'indiano', 'indianos', 'indiferente', 'indiscreto', 'indisponível', 'indonésia', 'industriais', 'industrializado', 'indústrias', 'inegável', 'inescrupulosa', 'inesperados', 'inevitáveis', 'infalível', 'infecciosa', 'infectado', 'influencia', 'influenciou', 'influentes', 'ingleses', 'ingredientes', 'inicialmente', 'inimigas', 'injeção', 'injustos', 'inofensiva', 'inquérito', 'insanos', 'insatisfatória', 'insatisfeita', 'inscrever', 'inscreveu', 'insinuando', 'insistis', 'insolente', 'insone', 'inspeção', 'instrutivo', 'instrução', 'insultos', 'integridade', 'inteirados', 'inteiras', 'intensivo', 'interceptaram', 'interpretar', 'interrogatório', 'interrompia', 'interrompida', 'interrompê-lo', 'intervirem', 'intimado', 'intolerantes', 'intoxicado', 'intoxicação', 'intransigente', 'intransponível', 'intratável', 'introduziu', 'intrometida', 'introvertida', 'intruso', 'intuito', 'inundações', 'inundou', 'invadido', 'invadindo', 'invasores', 'inventa', 'inventados', 'investe', 'investigadores', 'investindo', 'invisível', 'ioga', 'iowa', 'iraque', 'irdes', 'irrazoável', 'irrecuperável', 'irregulares', 'irresponsáveis', 'irritados', 'irritando', 'irritou', 'irã', 'irônica', 'isaac', 'isabela', 'isolado', 'isolou', 'israel', 'içou', 'jacarés', 'jack', 'jangada', 'japonês-inglês', 'jardineiros', 'jarro', 'javascript', 'jeitos', 'jejuando', 'jipe', 'jogadora', 'jogadoras', 'jogarão', 'jogassem', 'jogue-o', 'johnson', 'judaísmo', 'julieta', 'juntaram-se', 'juntará', 'juntem', 'juramento', 'jurem', 'kaisha', 'keller', 'khalifa', 'kiev', 'kilt', 'king', 'kobe', 'koko', 'kong', 'la', 'lacrimogêneo', 'lacrosse', 'ladra', 'lagarto', 'lagos', 'lambendo', 'lamentará', 'lampião', 'lances', 'lanchinho', 'lançamento', 'laticínios', 'latido', 'latina', 'lavaram', 'lavarei', 'lavava', 'layout', 'lazer', 'leais', 'leciono', 'legendado', 'legendar', 'legista', 'legume', 'legítima', 'legível', 'lelé', 'lembra-te', 'lembrando', 'lembrar-me', 'lembre-me', 'lembrem', 'lenda', 'lendas', 'lenhador', 'lençol', 'levados', 'levanta-te', 'levantando', 'levantar-me', 'levantar-se', 'levantem', 'levaremos', 'leve-nos', 'leves', 'liberado', 'liberal', 'liberou', 'liberou-o', 'licenciado', 'lidado', 'lidas', 'liderado', 'liderança', 'liderou', 'ligadas', 'ligasse', 'ligaste', 'ligeiramente', 'ligeiro', 'ligue-o', 'linguística', 'liquidação', 'liquidou', 'liso', 'listrada', 'litoral', 'livremente', 'livrinho', 'localizado', 'localizar', 'locutores', 'login', 'lograram', 'loiros', 'loiça', 'lotados', 'loucamente', 'lunares', 'lupa', 'lutaremos', 'lutei', 'lutem', 'luva', 'láctea', 'lâmina', 'lírios', 'lúgubre', 'macau', 'machucados', 'machucá-los', 'machuquem', 'madrid', 'madruga', 'magoa', 'magoarei', 'maioridade', 'maiúscula', 'maiúsculas', 'majongue', 'majoritariamente', 'mal-assombrada', 'maligno', 'maltratado', 'maltratar', 'mamão', 'manche', 'mandadas', 'mandona', 'manejar', 'mania', 'manipulador', 'manipular', 'mano', 'manso', 'mansos', 'manter-nos', 'mantida', 'mantê-la', 'manuais', 'manusear', 'mapas', 'maquilagem', 'maravilhado', 'maravilhas', 'maravilhosos', 'marcando', 'marcha', 'marfim', 'margem', 'mari', 'marie', 'marilyn', 'marimbondo', 'marionetes', 'marque', 'marquei', 'mascar', 'massachusetts', 'mata-borrão', 'matam', 'matemático', 'materiais', 'matrimônio', 'matá-la', 'matérias', 'mcdonald', 'mecanismo', 'mediano', 'medita', 'megafone', 'melancias', 'melhorado', 'melhoraria', 'melhorem', 'melhoria', 'melodramático', 'memorização', 'memorável', 'mencionei', 'mendigos', 'menininha', 'menosprezam', 'mensageiro', 'menta', 'mentais', 'mera', 'merecendo', 'mergulhador', 'mergulhei', 'mero', 'metais', 'metanfetamina', 'metano', 'metas', 'metendo', 'meteoro', 'meteu', 'meticuloso', 'metodologia', 'metralhadora', 'metódicos', 'mexa-se', 'mexe', 'mexi', 'mexicano', 'miar', 'migalhas', 'milha', 'milton', 'mimar', 'mime', 'mimimi', 'minerador', 'mineradores', 'minhoca', 'minimizei', 'miou', 'mire', 'misericórdia', 'mishima', 'missionários', 'mistificava', 'mistura', 'mixou', 'miúda', 'miúdo', 'moderada', 'moderno', 'modernos', 'modificada', 'mofo', 'moinho', 'molhados', 'molhei', 'monge', 'monitorar', 'monociclo', 'monoteístas', 'monstros', 'montanhosa', 'montaram', 'montou', 'monóxido', 'morada', 'moradia', 'moradores', 'morara', 'morasse', 'morenas', 'morrera', 'morro', 'mostarda', 'mostraremos', 'motos', 'motéis', 'mountain', 'movais', 'movamos', 'movido', 'movimentados', 'movimentos', 'mudada', 'mudaremos', 'mudassem', 'mudaste', 'mudei-me', 'mudá-lo', 'muffins', 'muitíssimas', 'mula', 'muletas', 'multas', 'multidões', 'multiplicado', 'mundos', 'municipal', 'munições', 'muralha', 'murcharam', 'muriçoca', 'muros', 'musgo', 'musica', 'mutuamente', 'muçulmana', 'muçulmano', 'mínimos', 'múmia', 'mútua', 'nadadora', 'nadasse', 'nadavam', 'nade', 'namora', 'namoramos', 'nara', 'narigão', 'narrador', 'nascente', 'nascesse', 'natalidade', 'necessitam', 'negada', 'negado', 'negados', 'negando', 'negará', 'negligenciou', 'negociador', 'negociação', 'negá-lo', 'neruda', 'nervosamente', 'neta', 'nevado', 'ninhos', 'ninjas', 'nixon', 'nocauteado', 'nomearam', 'nordeste', 'notamos', 'note', 'notificou-me', 'noturno', 'notá-la', 'notívago', 'novecentos', 'novinha', 'noé', 'nuas', 'nucleares', 'numerosas', 'nº', 'não-violência', 'níquel', 'obedecem', 'obedeci', 'obedecido', 'obedeçam', 'objetiva', 'obras', 'obrigadas', 'obrigue', 'observada', 'observados', 'observei', 'obsessivo', 'obstáculos', 'obtendo', 'obvio', 'ocasionalmente', 'ocular', 'ocultando', 'ocultar', 'ocupadíssimo', 'ocuparam', 'ocupou', 'odiado', 'odiou', 'ofenda', 'ofende', 'ofender-vos', 'ofendo', 'ofendê-la', 'ofendê-los', 'ofensa', 'oferecida', 'offline', 'oficiais', 'oficialmente', 'oftalmologista', 'oglethorpe', 'olhasse', 'olhavam', 'olhemos', 'olhes', 'olhá-lo', 'oliva', 'olvidareis', 'olímpico', 'omitir', 'onda', 'onu', 'operador', 'operando', 'operário', 'opino', 'opomos', 'oportunista', 'opostos', 'optar', 'optou', 'opôs', 'orca', 'organizada', 'orgulhava', 'orgulhei', 'orgânica', 'orifício', 'originou', 'originário', 'orquestra', 'orville', 'osaca', 'ousadia', 'ouvi-los', 'ouvisse', 'ouçam-me', 'overdose', 'pablo', 'pacificamente', 'pacifistas', 'pacífica', 'pad', 'pagam-me', 'pagarem', 'painéis', 'paisana', 'paixonite', 'palavrão', 'palmadas', 'panda', 'panfleto', 'parabenizá-lo', 'paralelas', 'parapeito', 'paraquedas', 'parceiros', 'pardo', 'parecerá', 'parecesse', 'pareceu-me', 'paremos', 'parlamento', 'partas', 'parti', 'participa', 'participantes', 'participasse', 'participação', 'particularmente', 'partilhar', 'partiste', 'partíssemos', 'pará-la', 'passageira', 'passaportes', 'passarão', 'passeou', 'passível', 'pastores', 'patrimônio', 'patriótico', 'paul', 'pecados', 'peculiar', 'peculiaridades', 'pedacinhos', 'pedalar', 'pediatras', 'pedicure', 'pediram-nos', 'pediu-lhe', 'pegasse', 'pegava', 'peitoril', 'peixinho', 'peladas', 'pelados', 'película', 'pen', 'penas', 'pendrive', 'penetrou', 'penhorar', 'penhorei', 'penicilina', 'pensais', 'pensarmos', 'pensava-se', 'penseis', 'pensemos', 'pensáveis', 'penteie', 'península', 'pepino', 'pepinos', 'pepperoni', 'pequei', 'pequeno-almoço', 'perante', 'percam', 'percas', 'perceberá', 'percorremos', 'perdedores', 'perdesse', 'perdoa', 'perdoada', 'perdoamos', 'perdoem', 'perdoo', 'perdê-las', 'perdê-los', 'performance', 'pergunta-se', 'perguntar-lhe', 'perguntaremos', 'perguntasse', 'perguntou-se', 'perito', 'permanece', 'permanentes', 'permita-nos', 'permitam', 'permitida', 'permitiriam', 'permitisse', 'pernilongos', 'persa', 'persegue', 'perseguidos', 'perseverando', 'persistindo', 'personagens', 'pertinentes', 'perturbam', 'perturbá-lo', 'pescamos', 'pescaria', 'pescou', 'petisca', 'petisco', 'peça-lhe', 'picam', 'pigarrear', 'pigarreou', 'pilar', 'pimentão', 'pintava', 'pinte', 'pinto', 'pipas', 'pirado', 'piscam', 'piscava', 'piso', 'pisquei', 'pistas', 'pizzas', 'placas', 'placebo', 'plantávamos', 'plantão', 'plateia', 'platina', 'platão', 'platéia', 'player', 'playground', 'playstation', 'plenos', 'plugue', 'plural', 'pobrezinha', 'podando', 'poderosas', 'podou', 'poesias', 'poluem', 'polvo', 'pombas', 'pombo', 'popeye', 'porre', 'portugueses', 'portões', 'posicionamento', 'positiva', 'posses', 'possuia', 'possuía', 'postaram', 'pouquíssimas', 'pousamos', 'pouso', 'povos', 'poças', 'praga', 'praguejar', 'praguejou', 'praticado', 'praticaram', 'praticas', 'pratico', 'praxe', 'prazeres', 'prazeroso', 'precaução', 'prece', 'precedimento', 'precipitada', 'precipitado', 'precisaram', 'precisarão', 'precisão', 'preconceitos', 'predileta', 'predições', 'preenchi', 'prefeita', 'preferidas', 'prefiria', 'prega', 'prendemos', 'prendendo', 'prendi', 'prepara-te', 'preparem-se', 'preparou-se', 'prescrito', 'presentinho', 'preservadas', 'preservar', 'pressionada', 'pressionadas', 'pressionados', 'pressioná-lo', 'presságios', 'prestígio', 'presumir', 'pretendeu', 'pretensioso', 'prezo', 'principiantes', 'priorizar', 'privilegiada', 'proativos', 'procedimentos', 'processado', 'processamos', 'procuram', 'procuravam', 'procurem', 'produzem', 'produzido', 'produzidos', 'produziu', 'proferir', 'proferiu', 'profeta', 'programada', 'programadora', 'progredimos', 'projetada', 'prometeste', 'promover', 'pronunciado', 'pronunciei', 'propriedades', 'proprietária', 'proprietários', 'propósitos', 'propõe', 'prosperidade', 'protegem', 'protegeremos', 'protegidas', 'protegê-los', 'protestantes', 'protestaram', 'protestei', 'protesto', 'proteína', 'proteínas', 'provando', 'provaram', 'proveitoso', 'prudentes', 'práticas', 'psicopata', 'publicados', 'publicidade', 'publicitário', 'pudessemos', 'pulem', 'pulmões', 'pum', 'punhado', 'punhal', 'punhos', 'punidas', 'pupilas', 'puser', 'puxe', 'puxei', 'pás', 'pé-de-cabra', 'pérola', 'péssimas', 'pêssego', 'pólvora', 'pós-traumático', 'pôs-se', 'quadrados', 'qualidades', 'quebre', 'quebrou-se', 'queime', 'queiramos', 'queixam-se', 'queixava', 'queixou', 'queriamos', 'querosene', 'quese', 'questiona', 'questionamentos', 'questionáveis', 'quiseste', 'quitar', 'químico', 'rachadura', 'raciocínio', 'ralhou', 'ralo', 'ralou', 'ramen', 'ramos', 'rancho', 'rapidinho', 'rasa', 'rasas', 'rascunho', 'rasgar', 'raspou', 'rastejando', 'rastejei', 'rastrear', 'rastro', 'rastros', 'razoáveis', 'realidades', 'realizam', 'rebocado', 'recarregou', 'receberei', 'receberemos', 'recebeste', 'recebia', 'receitou', 'recentes', 'receoso', 'reciclagem', 'recitar', 'reclamado', 'reclamava', 'recobrou', 'recolheu', 'recomendações', 'recomendei', 'recomendável', 'recompensado', 'recompor', 'reconciliou', 'reconfirmar', 'reconfortar', 'reconhecem', 'reconhecemos', 'reconhecendo', 'reconheceriam', 'reconhecia', 'reconhecê-lo', 'reconsidere', 'reconsiderei', 'reconstruiremos', 'recordou-se', 'recuperando', 'recuperei', 'recusada', 'recém', 'redecorar', 'redigido', 'redondas', 'redundante', 'reduzi', 'redução', 'reeleito', 'reescreveu', 'reescrito', 'refazer', 'refaça', 'refilar', 'reforma', 'reformado', 'reformando', 'reformas', 'reformou', 'reforço', 'refrescar', 'refresco', 'refrescou', 'refrigerantes', 'registros', 'registrou', 'regou', 'regue', 'regulamento', 'regulares', 'reinicie', 'reiniciou', 'rejeita', 'rejeitada', 'rejeitaram', 'rejeitei', 'relaciona', 'relaxada', 'relaxados', 'relaxam', 'relaxando', 'relaxaram', 'releia', 'relutância', 'remarquei', 'remonta', 'removida', 'rendemos', 'renovado', 'renuncia', 'renúncia', 'reorganize', 'reparado', 'repartir', 'repartiram', 'repentina', 'repete', 'repeti', 'repeti-lo', 'repetindo', 'repetição', 'repleto', 'reporta', 'reportado', 'reportar', 'reportei', 'repousar', 'repreendendo', 'repreendi', 'representante', 'representaram', 'reprovei', 'republicano', 'reservados', 'reservas', 'resfria', 'resfriada', 'resgatado', 'resgatou', 'resiliente', 'resistente', 'resistiram', 'resistiu', 'resmungou', 'resolvidos', 'respeitaram', 'respeitava', 'respiratórias', 'respirem', 'respondam-me', 'responderemos', 'responderão', 'respondia', 'restantes', 'restaram', 'restaurado', 'restou', 'restrição', 'resumir', 'retirou', 'retorna', 'retornado', 'retornando', 'retrovisor', 'revelaram', 'revelação', 'reversíveis', 'revisando', 'revise', 'revisei', 'revisou', 'revê-lo', 'revólver', 'rezam', 'rezaremos', 'rezei', 'rezem', 'riacho', 'rias', 'ridicularizar-me', 'rigorosamente', 'risadinha', 'riscados', 'riscar', 'risque', 'rival', 'rockefeller', 'rodapé', 'rodeiam', 'rodoviário', 'roendo', 'rolando', 'roll', 'rolo', 'romana', 'romancista', 'romano', 'romanos', 'romeu', 'rompi', 'rompido', 'roncamos', 'roncava', 'ronque', 'ronronam', 'roosevelt', 'rostos', 'rota', 'roteirista', 'rotular', 'rouba', 'roubadas', 'rugas', 'ruivas', 'réveillon', 'rígidas', 'rígidos', 'rótulo', 'sabe-se', 'saberem', 'saberiam', 'sabotagem', 'saca-rolhas', 'sacar', 'sacerdote', 'sacou', 'sacrifício', 'sacudiu', 'saido', 'saiote', 'sairemos', 'saleiro', 'salgadinho', 'salgadinhos', 'salgado', 'salsichas', 'saltei', 'salvador', 'salvaste-me', 'sangrou', 'sanitário', 'santos', 'sapateando', 'sapeca', 'saquê', 'sarampo', 'sarando', 'sarcásticos', 'satisfatório', 'satisfação', 'saturno', 'saía', 'saíssem', 'saíssimos', 'scooter', 'secaram', 'secretário', 'secundário', 'sedado', 'sedo', 'seguem', 'segui-la', 'segui-las', 'segui-los', 'seguimos', 'seguir-te', 'seguir-vos', 'seguranças', 'segure-o', 'segurou-o', 'seiva', 'semelhantes', 'semente', 'seminua', 'seminário', 'sendai', 'senhorita', 'sensacional', 'sentamo-nos', 'sentando', 'sentar-nos', 'sentarem', 'sentarmos', 'sentava', 'sentenças', 'sentia-se', 'sentávamos', 'separadamente', 'separadas', 'separado', 'separamos', 'separarmos', 'sequestrou', 'serias', 'sermão', 'sertaneja', 'servir-se', 'servirá', 'sessão', 'severa', 'severamente', 'sexista', 'sexual', 'shampoo', 'shop', 'sigam-no', 'significativa', 'significativamente', 'significativo', 'signo', 'silenciosas', 'silvestres', 'similares', 'simpatizo', 'simplória', 'sinceras', 'sincronia', 'singapura', 'sinos', 'sintonia', 'sinônimo', 'sirvo', 'slogan', 'sobem', 'soberba', 'sobrado', 'sobrecarregado', 'sobrevivendo', 'sobreviveremos', 'sobreviverá', 'sobrevivi', 'sobrevivido', 'sobrinhas', 'socapa', 'socou', 'sofisticados', 'sofrerem', 'sofrerá', 'sofrido', 'sogro', 'soja', 'solicitando', 'solicitei', 'solidária', 'solidário', 'solidão', 'solte-o', 'solucionado', 'soluço', 'soluços', 'soluções', 'somar', 'sonetos', 'sonharia', 'sonhe', 'sorrateira', 'sorrateiro', 'sorriem', 'sossegados', 'souberam', 'soubéssemos', 'souvenir', 'sputnik', 'subaquática', 'subestimando', 'subornamos', 'subornei', 'substituirá', 'substituição', 'substituí-lo', 'substituíveis', 'substâncias', 'sucessos', 'suculenta', 'sueco', 'sufoco', 'sufocou', 'sugeres', 'suicidar-se', 'suje', 'sujeitos', 'sujou', 'superaremos', 'superaste', 'supersticiosa', 'suportaria', 'supostamente', 'supus', 'supõe', 'surfando', 'surfe', 'surgir', 'surpreendentemente', 'surpreendido', 'surpreendê-la', 'suspeitamos', 'suspeitaram', 'suspeitas', 'suspensa', 'suspensão', 'susto', 'sutiã', 'sydney', 'sétimo', 'sílabas', 'sólida', 'sólido', 'tapinhas', 'tataravô', 'tatuador', 'taças', 'telefona', 'telefonado', 'telefônicas', 'telepata', 'telepático', 'teme', 'temerosas', 'temor', 'tempestades', 'temporário', 'tencionam', 'tenciono', 'tendencioso', 'tenhais', 'tensas', 'tensos', 'tentam', 'tentaste', 'tentes', 'teor', 'teppanyaki', 'ter-nos', 'terminal', 'terminara', 'terminarmos', 'terminasse', 'terminassem', 'terminemos', 'terminá-lo', 'termostato', 'terrestres', 'terça', 'terças', 'tesouros', 'testando', 'thompson', 'ticket', 'tilintando', 'timidez', 'tingi', 'tipoia', 'tirano', 'tiraram-me', 'tiras', 'tire-a', 'tire-me', 'tivermos', 'tivestes', 'tiên', 'toc', 'tocador', 'tocaria', 'tocaste', 'tocá-la', 'tokyo', 'tolas', 'tomarmos', 'tomas', 'tomava', 'tona', 'toparia', 'toranja', 'torcido', 'tornam', 'tornarão', 'tornei-me', 'torrencialmente', 'tortos', 'torturado', 'tossi', 'tossiram', 'toxicomania', 'trabalhas', 'tradições', 'traduzam', 'trampolim', 'tranca', 'trancasse', 'tranco', 'tranquilizar', 'transferir', 'transformará', 'transmite', 'transmitir', 'transpirar', 'transpiração', 'trapaceado', 'trapaceamos', 'trapacearam', 'tratadas', 'tratados', 'travar', 'traveler', 'trazê-las', 'treinado', 'treinadores', 'treinei', 'treinou', 'tremenda', 'tremendamente', 'tremeu', 'tremiam', 'trenó', 'trevo', 'triatlo', 'tribo', 'trigésimo', 'trilhos', 'tristezas', 'triturei', 'trocada', 'trocadilho', 'trocadilhos', 'trocados', 'trocam', 'trono', 'trouxa', 'troço', 'tráfico', 'tulipas', 'turismo', 'turmas', 'tábuas', 'tâmaras', 'técnicos', 'tê-las', 'típica', 'ucrânia', 'uivava', 'ultimo', 'ultravioleta', 'unesco', 'unir', 'uniu', 'universitária', 'unânime', 'uníssono', 'usadas', 'usarem', 'usina', 'usos', 'utilizamos', 'utilizou', 'vacinado', 'vacinou', 'vagem', 'vaguei', 'vagão', 'vai-se', 'valentim', 'valha', 'valorizasse', 'varra', 'varre', 'varreu', 'vascular', 'vassouras', 'vasto', 'vaza', 'vazar', 'vazou', 'veementemente', 'velhice', 'veloz', 'vemo-nos', 'vencessem', 'vencestes', 'vendesse', 'vendidas', 'vendê-la', 'vendê-los', 'venenosa', 'venhamos', 'venta', 'ventava', 'venturosa', 'ver-me', 'ver-vos', 'verbal', 'verbalmente', 'verbo', 'verdades', 'verem', 'verifica', 'verificaremos', 'verificável', 'verifiquem', 'vermes', 'verídico', 'vespa', 'vespas', 'veste-se', 'vestem', 'vestiu-se', 'veterinária', 'viajado', 'viamos', 'viciada', 'viciados', 'viciante', 'viena', 'vierem', 'viesses', 'vigarista', 'vigia', 'vigilantes', 'vigilância', 'vigésimo', 'vindos', 'viola', 'violaria', 'violentas', 'violentos', 'violeta', 'violinos', 'vip', 'virado', 'vire-se', 'vireis', 'virou-se', 'virtual', 'virtude', 'virtudes', 'visa', 'visitante', 'visitaremos', 'visitá-la', 'visitá-lo-ei', 'vistas', 'vistes', 'visualizações', 'visível', 'vitela', 'vitoriosos', 'viu-se', 'viverei', 'viviam', 'vodka', 'voe', 'voei', 'voltares', 'voltarás', 'voltes', 'voluntariar', 'voluntariei', 'voluntária', 'votando', 'votarei', 'votem', 'vou-me', 'vulgares', 'válida', 'vínculo', 'vírgula', 'vôo', 'vôos', 'whisky', 'william', 'windsurf', 'windsurfe', 'xarope', 'xiii', 'xvii', 'xx', 'yukio', 'yuri', 'zinco', 'zombam', 'zombava', 'ábaco', 'água-viva', 'árabes', 'árdua', 'áspera', 'è', 'é-me', 'ênfase', 'ímpares', 'ímã', 'índice', 'índios', 'íntegra', 'íntimas', 'óculus', 'εxiste', '\\u200b\\u200bem', '\\u200b\\u200bpara', '“', '”', '0120-00-0000', '06:30', '1,8', '1-800-828-6322', '1.000.000', '1.5', '100ºc', '1051', '10:30', '10h00', '10h30', '110', '11:00', '12.000', '120', '13ª.', '13º', '13º.', '14', '14080-000', '14:00', '14:30hrs', '1500', '155', '15h', '1610', '1636', '1642', '165', '1683', '16:00', '1700', '1764', '1776', '1797', '1799', '17h', '17h30min', '180', '1800', '1801', '1812', '1825', '1845', '186.000', '1863', '1865', '187.888', '1876', '1881', '1893', '1896', '1899', '18:30', '18h00', '1903', '1906', '1921', '1923', '1927', '1929', '1933', '1935', '1936', '1940', '1941', '1943', '1946', '1952', '1954', '1955', '1956', '1957', '1958', '1961', '1964', '1977', '1978', '1982', '1983', '1986', '19h', '2000', '2001', '201', '2011', '2014', '2015', '20h', '20º', '215', '21h00', '226', '229', '2500', '2600', '27/02', '2º', '3,4', '3,5', '3.500', '3198', '33', '330', '333', '34', '35', '35.000', '36', '3776', '38', '3:00', '4000', '42', '4h10', '500.000', '529', '538', '55', '57', '573', '5:30', '5h30', '60.000', '63', '6:00', '75', '77,8', '7:00', '7:30', '7h00', '7h45', '7ª', '800', '800.000', '81', '839', '85', '86.400', '88º', '89', '8h00', '8h40', '94', '95', '97', '98', '9h15', '9h30min', '[', 'aaron', 'abafador', 'abaixada', 'abaixadas', 'abaixaram', 'abaixarem', 'abaixei', 'abajur', 'abanando-lhe', 'abandonam', 'abandonaria', 'abandonasse', 'abano', 'abanou', 'abastada', 'abastados', 'abastecimento', 'abasteço', 'abateu', 'abdominais', 'abençoou', 'abeto', 'abismado', 'abolida', 'abolido', 'abolir', 'aboliram', 'abolição', 'abominamos', 'abominação', 'abominável', 'abordou', 'aborrecem', 'aborrecidas', 'aborrecimento', 'aborreças', 'abortada', 'abortar', 'aborto', 'abotoe', 'abracei', 'abracem', 'abrandar', 'abrange', 'abraça-me', 'abraçados', 'abraçando', 'abria', 'abrido', 'abrigamo-nos', 'abrigamos', 'abrigos', 'abrigou', 'abriguei', 'abrimos', 'abrirei', 'abriria', 'abrirão', 'abristes', 'abriu-se', 'abruptamente', 'abrupto', 'abruptos', 'abrí-lo', 'absoluto', 'absolveu', 'absorvidas', 'abstenho', 'abstenções', 'abster', 'absteve', 'absurdas', 'abusado', 'abusava', 'abusos', 'abusou', 'abóbora', 'abóboras', 'acabada', 'acabar-lhe', 'acabara', 'acabares', 'acabaria', 'acabemos', 'acalanto', 'acalma-te', 'acalmado', 'acalmamos', 'acalmando', 'acalmar-te', 'acalmarem', 'acalmou-se', 'acalorado', 'acamados', 'acampamentos', 'acampamos', 'acamparam', 'acanhada', 'acanhem', 'acariciarem', 'aceitas', 'aceitasse', 'aceitaste', 'aceitava', 'aceitavam', 'aceite-me', 'aceitos', 'acelerava', 'acendalha', 'acendas', 'acende', 'acendem', 'acenderá', 'acendesses', 'acentuado', 'acertamos', 'acertá-lo', 'acessa', 'acessam', 'acessando', 'acesse', 'acessos', 'acessível', 'achada', 'achados', 'acharam-no', 'acharei', 'acharem', 'achares', 'acharmos', 'achará', 'achei-o', 'achem', 'achemos', 'achá-los', 'acháveis', 'acocorou', 'acolhedor', 'acolhendo', 'acolheram', 'acolheu', 'acomodação', 'acomodações', 'acomodou', 'acomodou-se', 'acompanha-se', 'acompanhada', 'acompanhados', 'acompanhante', 'acompanharam', 'acompanhará', 'acompanhava-se', 'acompanhe', 'acompanhe-me', 'acompanhei-o', 'acompanho', 'acompanho-a', 'acompanhá-las', 'aconselhamento', 'aconselhar-se', 'aconselhasse', 'aconselhou-o', 'aconselhável', 'acontecerem', 'acordamos', 'acordando', 'acordarei', 'acordarem', 'acordasse', 'acorde-nos', 'acorde-os', 'acordei-me', 'acordes', 'acordeão', 'acordos', 'acorrentou-se', 'acostumadas', 'acostumarem', 'acostumaria', 'acostumou-se', 'acovardei', 'acreditarás', 'acreditaste', 'acreditastes', 'acredites', 'acreditávamos', 'acres', 'acrescentaram', 'acrescentaste', 'acrescentei', 'acrobata', 'actualização', 'acusa', 'acusada', 'acusados', 'acusam', 'acusaram-no', 'acusasse', 'acusatoriamente', 'acusá-lo', 'acções', 'acúleos', 'adams', 'adandonadas', 'adapta', 'adaptado', 'adaptador', 'adaptadores', 'adaptaram-se', 'adaptarei', 'adaptação', 'adapto-me', 'adentro', 'adeptos', 'adequadas', 'adequados', 'adere', 'aderiu', 'adesivo', 'adestrador', 'adiamos', 'adiando', 'adiantadas', 'adiantamento', 'adiantamos', 'adiantaria', 'adiantará', 'adiantava', 'adicionadas', 'adicionados', 'adicionais', 'adicione-o', 'adiciono', 'adivinhado', 'adivinhando', 'adivinhação', 'adiássemos', 'adjacente', 'adjacentes', 'administrada', 'administradores', 'administrar', 'administro', 'admira-me', 'admiradora', 'admiravam', 'admirei', 'admitem', 'admitia', 'admitida', 'admitido', 'admitirei', 'admitissem', 'adoecer', 'adoecera', 'adoentado', 'adoentou', 'adormecendo', 'adormecidas', 'adornado', 'adorávamos', 'adotados', 'adotarem', 'adotaremos', 'adotarmos', 'adotem', 'adotivo', 'adotivos', 'adotámos', 'adoçante', 'adoção', 'adquire', 'adquirem', 'adquirimos', 'adquiriu', 'adultas', 'adulterada', 'adulterados', 'adulterou', 'adultério', 'adversária', 'adverti', 'advertiram', 'advertência', 'advogadas', 'aeromoça', 'afanei', 'afastando', 'afastaram', 'afastarem', 'afavelmente', 'afetados', 'afetar-te', 'afetivo', 'afetá-los', 'afiado', 'aficionada', 'afilhada', 'afilhado', 'afinando', 'afinar', 'afinidade', 'afirmações', 'afirmei', 'afivele', 'afligir', 'aflito', 'afogadas', 'afogamos', 'afogar-me-ia', 'afogaram', 'afortunado', 'afortunados', 'africanas', 'afro-americanos', 'afrodisíaco', 'afronte', 'afunda', 'afundar', 'afundava', 'afáveis', 'agachei-me', 'agarra-se', 'agarrar', 'agarrem-no', 'agasalho', 'agendar', 'agendas', 'agentes', 'agia', 'agimos', 'agiram', 'agirá', 'agitadores', 'agitados', 'agitando', 'agite', 'agitou', 'aglomerado', 'aglomerando', 'agradabilíssima', 'agradeceram', 'agradecerá', 'agradeceu-lhe', 'agradeci-lhe', 'agradecidas', 'agrado', 'agradou', 'agradou-te', 'agrafador', 'agrava', 'agravem', 'agressivas', 'agressividade', 'agrotóxicos', 'agrupando', 'agrádavel', 'aguado', 'aguarda', 'aguarde-me', 'aguardássemos', 'aguce', 'agudas', 'agudos', 'ague', 'aguentaria', 'aguentassem', 'aguentei', 'aguçado', 'aguçar-te', 'aipo', 'aires', 'ajeitando', 'ajeitar', 'ajeito', 'ajeitou', 'aji', 'ajoelha-te', 'ajoelhado', 'ajoelhai-vos', 'ajoelhamo-nos', 'ajoelhe-se', 'ajoelhei-me', 'ajoelhem-se', 'ajuda-nos', 'ajudadas', 'ajudar-vos', 'ajudarem', 'ajudarão', 'ajudas', 'ajudasses', 'ajudaste', 'ajude-o', 'ajusta', 'ajustam', 'ajustasse', 'ajustei', 'al-qaeda', 'ala', 'alarmes', 'alas', 'alastrasse', 'alavanca', 'alcançam', 'alcançarmos', 'alcançarão', 'alcanço', 'alcatifa', 'alcaçuz', 'alcoolímetro', 'alcoólatras', 'alcoólicos', 'aldeães', 'aleatório', 'alegações', 'alegrei', 'alegres', 'alemãs', 'alertada', 'alertam', 'alertar', 'alerte', 'alertou-me', 'alfabetizado', 'alfabetização', 'alfabetos', 'alfandegária', 'alfandegários', 'algema-o', 'algemada', 'algemar', 'algemas', 'algeme-o', 'algemei-o', 'algorítimo', 'algúem', 'alhures', 'aliada', 'alienígena', 'alimentada', 'alimentadas', 'alimentamos', 'alimentaram', 'alimentava', 'alimentícia', 'alinhou', 'alisou', 'alistei', 'alivia', 'aliviadas', 'almejar', 'almejava', 'almoce', 'almofadas', 'almoxarifado', 'almoçado', 'almoçareis', 'almoçaremos', 'almoçará', 'almoçasse', 'almoçastes', 'alojamento', 'alojou-se', 'alongamento', 'alongar', 'alongue', 'alpacas', 'alpendre', 'alpiste', 'alterada', 'alteraram', 'altere', 'alterei', 'altero', 'alterou-lhe', 'altitude', 'altitudes', 'alucinando', 'alucinante', 'alucinógenos', 'alugada', 'alugado', 'aluguemos', 'aluguéis', 'alugá-lo', 'alumínio', 'alunissagem', 'alusão', 'alvejantes', 'alvorada', 'alvos', 'alça', 'alérgicas', 'alérgicos', 'amadores', 'amados', 'amadurecem', 'amaldiçoou', 'amam-se', 'amamentadas', 'amamentando', 'amanhecerá', 'amante', 'amar-se', 'amar-te-á', 'amar-vos-á', 'amara', 'amarelando', 'amarelar-se', 'amarelaram-se', 'amarelinha', 'amarelos', 'amargas', 'amargor', 'amaria', 'amarradas', 'amarrei', 'amas-me', 'amassada', 'amasses', 'amassá-lo', 'amava-a', 'amava-o', 'amava-te', 'ambiciosos', 'ambientalista', 'ambiguidade', 'ambições', 'ambo', 'ambulâncias', 'ameace', 'ameaces', 'ameaçadora', 'ameaçar-me', 'ameaçara', 'ameaçá-la', 'amedronta', 'amei-a', 'amei-o', 'amei-te', 'ameixas', 'amenizar', 'america', 'americana-do-norte', 'amiens', 'amizades', 'amiúde', 'amnésia', 'amo-vos', 'amolada', 'amolando', 'amolei', 'amontoada', 'amontoados', 'amontoou', 'amora', 'amores-perfeitos', 'amorteceu', 'amostrado', 'amplia', 'ampliando', 'ampliar', 'amplificador', 'amplo', 'ampulheta', 'amsterdam', 'amuada', 'anagrama', 'analfabetos', 'analisaram', 'analista', 'analítico', 'analógico', 'anatomia', 'anca', 'ancestral', 'ancinho', 'ancorado', 'andaime', 'andarei', 'andasse', 'andem', 'andemos', 'andorinhas', 'android', 'androide', 'andré-louis', 'anedotas', 'anexaram', 'anexe', 'angkor', 'anglofobia', 'angustiante', 'animadamente', 'animadas', 'animador', 'animadores', 'animaizinhos', 'animei', 'aninhou', 'anna', 'ano-luz', 'anoitece', 'anoitecendo', 'anomalia', 'anonimato', 'anormais', 'anormal', 'anoréxico', 'anos-luz', 'anotado', 'anotando', 'anoto', 'anseio', 'ansiosas', 'ansiosi', 'antagonizar', 'antagonize', 'antecede', 'antecipado', 'antecipamos', 'antecipei', 'antecipou', 'antemão', 'anti-social', 'antibomba', 'antifumo', 'antiguidade', 'antimatéria', 'antipáticas', 'antissociável', 'antitetânica', 'antonio', 'antropologia', 'antídoto', 'anualmente', 'anuir', 'anunciada', 'anunciadas', 'anunciando', 'anunciante', 'anunciar', 'análoga', 'anãs', 'aníbal', 'anônimos', 'apagada', 'apagarem', 'apagasse', 'apaguem', 'apaixonam', 'apaixone', 'apaixonou-se', 'apanhado', 'apanhador', 'apanhados', 'apanhe', 'apanhe-o', 'apanho', 'apanhá-la', 'apanhá-las', 'apanhá-lo', 'aparador', 'aparasse', 'aparecem', 'aparecendo', 'aparecerão', 'aparecia', 'aparentados', 'aparentava', 'aparente', 'aparição', 'apartar', 'apavorada', 'apavorou', 'apegado', 'apegue', 'apelidos', 'apelou', 'apenes', 'apercebe', 'apercebeu', 'apercebeu-se', 'apercebido', 'aperitivo', 'apertadas', 'apertam', 'apertemo-nos', 'apertou-me', 'apessoado', 'aplaudem', 'aplaudi', 'aplaudido', 'aplicado', 'aplicaram', 'aplicativos', 'aplicação', 'aplique', 'apneia', 'apodrece', 'apodrecem', 'apodrecer', 'apodreceu', 'apoiadores', 'apoiamos', 'apollo', 'aponta', 'apontador', 'apontamentos', 'apontaram', 'aposentaram', 'aposente', 'apostadores', 'aposte', 'aprazível', 'apreciam', 'apreciará', 'aprecie', 'apreciei', 'apreciem', 'apreendido', 'apreensões', 'aprende-se', 'aprenderemos', 'aprenderes', 'aprenderia', 'aprendermos', 'aprenderás', 'aprendia', 'aprendidas', 'aprendizes', 'aprendê-lo', 'apresentados', 'apresentando-se', 'apresentaram', 'apresentarei', 'apresentações', 'apresente-lhe', 'apresente-se', 'apresentá-la', 'apressados', 'apressam', 'apressamo-nos', 'apressar-se', 'apressar-vos', 'apressaram', 'apresses', 'apressou', 'apressou-se', 'aprimore', 'aprontar', 'aprontarmos', 'apropriadas', 'apropriados', 'aprovamos', 'aprovarei', 'aprovará', 'aprovava', 'aproveitarem', 'aproveitaste', 'aproveitava', 'aproveitem', 'aproveitámos', 'aproxidamente', 'aproximado', 'aproximando-se', 'aproximar', 'aproximava', 'aproxime-se', 'aproximou-se', 'apunhalado', 'apunhalei', 'apurado', 'apuro', 'apurou', 'apêndice', 'apólice', 'apóstolos', 'aquarelas', 'aquecedores', 'aquecem', 'aqueci', 'aquecidos', 'aquiescer', 'aquieta', 'aquietou', 'aquisição', 'aquisições', 'aquáticos', 'aram-se', 'arame', 'arar', 'arbitrariamente', 'arbítrio', 'arco', 'arder', 'arduamente', 'arei', 'arejar', 'areje', 'arfou', 'argila', 'argumenta', 'aristóteles', 'arizona', 'armada', 'armazena', 'armazenamento', 'armação', 'armações', 'arme', 'armou', 'armou-se', 'armários', 'armênia', 'aros', 'arou', 'arqueiro', 'arqueou', 'arquiteta', 'arranhando', 'arranhar', 'arranhou-se', 'arranhão', 'arranhões', 'arranjado', 'arranjar-me', 'arranjar-se', 'arranje-me', 'arranjo', 'arranjos', 'arrasada', 'arrasando', 'arrastada', 'arrastado', 'arrastando', 'arrastaram', 'arrebenta', 'arrecadar', 'arredores', 'arremessa', 'arremessada', 'arremessador', 'arremesso', 'arrendamento', 'arrendar', 'arrependemos', 'arrependerás', 'arrependeríamos', 'arrependeu-se', 'arrependi', 'arrependia', 'arrepiados', 'arrepiante', 'arrepiar', 'arrepio', 'arriscam', 'arriscaria', 'arriscá-lo', 'arrombado', 'arrombamos', 'arrombaram', 'arrota', 'arrotam', 'arrozais', 'arruinadas', 'arruinados', 'arruinando', 'arrumarem', 'arrumasse', 'arrume-o', 'arrumo', 'artesanal', 'arthur', 'articulações', 'artificiais', 'artilheiro', 'artéria', 'artística', 'arábia', 'ascendeu', 'ascendíamos', 'asem', 'asfixia', 'asfixiou', 'asiáticas', 'asneiras', 'aspargos', 'aspersor', 'aspiradores', 'aspirou', 'assaltadas', 'assaltantes', 'assaltar', 'assaltaram', 'assalto', 'assaltou', 'assassinada', 'assassinadas', 'assassínio', 'assediado', 'assediar', 'assediaram', 'assegure', 'assegurem-se', 'assemelha', 'assemelha-se', 'assentam', 'assentamento', 'assentava', 'assente-se', 'assentir', 'assinada', 'assinando', 'assinantes', 'assinaria', 'assinaturas', 'assintomático', 'assiná-los', 'assistam', 'assistamos', 'assistentes', 'assistes', 'assistiam', 'assistirem', 'assistíamos', 'assoa', 'assoberbado', 'assobiavam', 'assobiei', 'assobio', 'associa', 'associado', 'associal', 'associar', 'associo-me', 'assoe', 'assombro', 'assombroso', 'assovio', 'asssistia', 'assume', 'assumimos', 'assustadoras', 'assustaria', 'assusto', 'assustou-me', 'assustá-la', 'assustá-las', 'assustá-lo', 'asteroides', 'astrofísico', 'astrólogo', 'atacadores', 'atacados', 'atacamos', 'atacando', 'atacava', 'atacássemos', 'atado', 'atafulhada', 'atalhando', 'ataquem', 'atar', 'ataram', 'atari', 'atas', 'atearam', 'atenciosa', 'atenciosas', 'atendente', 'atendesse', 'atendido', 'atendo', 'atentado', 'aterrada', 'aterrisando', 'aterrissando', 'aterrissar', 'aterrissou', 'aterrizarem', 'aterrorizante', 'aterrorizou', 'atestado', 'atice', 'atingem', 'atingi', 'atingia', 'atingidas', 'atirada', 'atirando-lhe', 'atirarei', 'atiraria', 'atiravam', 'atirem', 'ativista', 'atlanta', 'atlantic', 'atlas', 'atleticamente', 'atolou', 'atolou-se', 'ator-mirim', 'atormentada', 'atou', 'atrapalhado', 'atrapalhá-lo', 'atrasarmos', 'atrasava', 'atrasei-me', 'atrasem', 'atrasássemos', 'atrativo', 'atravancada', 'atravessamos', 'atravessarei', 'atravessava', 'atravessavam', 'atravessem', 'atravessemos', 'atravesso', 'atravessou-lhe', 'atraía', 'atraídas', 'atrepou', 'atreva', 'atreve', 'atribui', 'atribuída', 'atrito', 'atrizes', 'atrocidades', 'atualização', 'atualizações', 'atuando', 'atuou', 'aturar', 'aturei', 'atômicas', 'au-au', 'auckland', 'audaciosas', 'audiofone', 'audiolivros', 'auditiva', 'auge', 'auguste', 'aumentados', 'aumentam', 'aumentam-me', 'aumentamos', 'aumentem', 'aurora', 'auroras', 'ausentado', 'ausentei', 'austeridade', 'australiano', 'autenticidade', 'auto', 'auto-confiança', 'auto-explicativo', 'auto-importante', 'autoajuda', 'autobiografias', 'autocarros', 'autoclismo', 'autoconfiante', 'autoconfiança', 'autoescola', 'autoestima', 'automobilístico', 'automotivas', 'autorizar', 'autêntica', 'autênticos', 'autógrafo', 'autônoma', 'auxiliou', 'avaliação', 'avante', 'avançado', 'avanço', 'avarento', 'avareza', 'avaria', 'avaro', 'aventureiras', 'aventureiros', 'averiguar', 'avermelhada', 'avermelhar-se', 'avessas', 'avestruzes', 'avidamente', 'avisa-nos', 'avisados', 'avisai-nos', 'avisará', 'avistado', 'avistados', 'avistara', 'avistaram', 'avivou', 'axila', 'axilas', 'azaradas', 'azougue', 'azul-claro', 'azul-esverdeada', 'azulado', 'açucar', 'açucaradas', 'açucarado', 'açucareiro', 'aéreas', 'aéreo', 'babata', 'babilônia', 'babysitting', 'bacalhau', 'bacanas', 'bafômetro', 'baga', 'bags', 'baiacu', 'bailarina', 'bailes', 'baixariam', 'baixará', 'baixá-lo', 'balada', 'balanceada', 'balanciar', 'balançe', 'baldeação', 'baldes', 'baleados', 'bamba', 'bambolê', 'bambuzais', 'bancá-la', 'bancá-lo', 'bancários', 'bandas', 'bang', 'bangalô', 'bangkok', 'bangladesh', 'banhando', 'banhas', 'banimos', 'baniram', 'banner', 'banque', 'banqueiros', 'banquinhos', 'baquetas', 'barbante', 'barbatana', 'barbeei', 'barbeei-me', 'barbeio-me', 'barbeou-se', 'bares', 'barista', 'barquinho', 'barreiras', 'barricada', 'barrou', 'bartolomeo', 'bartolomeu', 'barton', 'barulhinho', 'barítono', 'baseando-se', 'baseava', 'bases', 'bastará', 'batalhar', 'batalhão', 'batas', 'bate-papo', 'batedeira', 'batedor', 'batemos', 'bateristas', 'batesse', 'bateste', 'batizar', 'batizaram', 'bato', 'batucou', 'bbc', 'beatle', 'beberia', 'bebesse', 'bebezinho', 'beijai-me', 'beijam', 'beijamo-nos', 'beijar-se', 'beijar-te', 'beijara', 'beijaram-se', 'beijará', 'beijei-o', 'beijem-me', 'beijemo-nos', 'beijou-te', 'beijá-las', 'beijá-los', 'beira-rio', 'beirada', 'beiral', 'beiços', 'beldade', 'belgrado', 'beliche', 'belisquei', 'belisquei-me', 'bella', 'belíssima', 'belíssimo', 'bem-comportado', 'bem-dispostos', 'bem-estar', 'bem-humorada', 'bem-humorado', 'bem-sucedidos', 'bemol', 'ben', 'beneficente', 'beneficia', 'beneficiar', 'beneficiará', 'benigni', 'benigno', 'benjamin', 'benéficos', 'berna', 'berrando', 'berrar', 'besouro', 'best-seller', 'best-sellers', 'bestseller', 'beterraba', 'bi', 'bibliotecas', 'bichos', 'bico', 'bieber', 'bifes', 'bigatos', 'bigorna', 'bilhar', 'biloto', 'bilíngues', 'bin', 'biodegradável', 'biologista', 'biológica', 'biológicos', 'birita', 'bis', 'bisbilhotando', 'biscuit', 'bissexto', 'blanco', 'blocos', 'blogger', 'blogueiros', 'blondie', 'bloqueando', 'bloquearam', 'bloqueava', 'bloqueei', 'bloqueie', 'blue', 'blusas', 'blá-blá-blá', 'bobagens', 'bocados', 'bocarra', 'bocas', 'bocejamos', 'bocejei', 'bocejo', 'bocó', 'bofetada', 'boicotaram', 'boicote', 'bolachas-da-praia', 'boleto', 'bolinhos', 'bolorento', 'bolou', 'bolsão', 'bombando', 'bombardeada', 'bombeei', 'bombeira', 'bonaparte', 'bondosa', 'bonés', 'boquiaberto', 'bora', 'bordar', 'bordava', 'boreais', 'borges', 'bornéu', 'borrachas', 'borrar', 'boson', 'bostou', 'botânica', 'bouvet', 'boxe', 'bracelete', 'brad', 'bradley', 'braguilha', 'braille', 'bramidos', 'brando', 'brasas', 'bravura', 'braçais', 'brega', 'bridge', 'brigada', 'brigadeiros', 'brigarem', 'brigas', 'brigávamos', 'brilham', 'brilhar', 'brilharam', 'brilhavam', 'brilho', 'brim', 'brincalhões', 'brincasse', 'broadway', 'broca', 'bronzeador', 'bronzeando', 'brotoeja', 'bruscamente', 'brusco', 'bruscos', 'brusquidão', 'brutamontes', 'bruxaria', 'bruxelas', 'bruxo', 'brânquias', 'bs', 'bucareste', 'budapeste', 'budista', 'budistas', 'buenos', 'bugigangas', 'bugs', 'bujão', 'bulbo', 'bumerangue', 'burocrata', 'burr', 'burradas', 'burras', 'busca-me', 'buscá-las', 'bush', 'busque', 'busque-me', 'buzina', 'buzinando', 'buzine', 'buzinem', 'bárbaros', 'básico', 'bêbeda', 'búfalos', 'cabanas', 'cabeleireiras', 'cabelereiro', 'cabeludo', 'cabem', 'caberia', 'cabeça-dura', 'cabeçuda', 'cabia', 'cabideiro', 'cabides', 'cabines', 'cabulou', 'cacarejar', 'cacheado', 'cacho', 'cachorra', 'cachorras', 'cachorros-quente', 'cachorrão', 'cacique', 'cacto', 'cadastrei', 'cadela', 'cadáveres', 'cafeteira', 'cafezinhos', 'cagada', 'caio', 'cairemos', 'cairo', 'cairá', 'cairão', 'cais', 'caixa-forte', 'caixeiro', 'caixão', 'caladas', 'calaram', 'calasse', 'calcanhar', 'calce-se', 'calcula', 'calcula-se', 'calculadoras', 'calculando', 'calculou', 'calcutá', 'calda', 'calem', 'calem-se', 'calibrado', 'calibrei', 'calmas', 'calotas', 'caluniar', 'calvo', 'calvície', 'calçadeira', 'calçadão', 'calçam', 'calçou', 'camada', 'camaleão', 'camarada', 'camboja', 'caminham', 'caminharei', 'caminhe', 'caminhoneiras', 'caminhoneiros', 'caminhos', 'camisola', 'camião', 'camiões', 'camomila', 'campeã', 'camponês', 'camuflada', 'camuflagem', 'camuflarmos', 'canais', 'canalha', 'canberra', 'cancela', 'cancelando', 'cancelarei', 'cancelaremos', 'cancelasse', 'cancelem', 'cancelássemos', 'candelabro', 'candidatado', 'candidatam', 'candidatas', 'candidatasse', 'candidate', 'candidatou-se', 'candidaturas', 'candy', 'canetada', 'cangurus', 'canibais', 'cansadíssima', 'cansamos', 'cansaste', 'cantando-lhe', 'cantarei', 'cantaremos', 'cantarmos', 'cante-me', 'cante-nos', 'cantiga', 'cantinho', 'cantoras', 'cantávamos', 'canyon', 'canárias', 'capacitados', 'capacitou', 'capciosa', 'capitalismo', 'cappella', 'capricho', 'captado', 'captaram', 'captei', 'capturada', 'capturadas', 'capturamos', 'capturei', 'capturá-lo', 'caquizeiros', 'car', 'característica', 'características', 'caralho', 'caramujos', 'caraoquê', 'carapanãs', 'carapuça', 'carboidratos', 'carburador', 'card', 'cardiologia', 'carente', 'carentes', 'cargas', 'caricatura', 'caridosa', 'carinho', 'carinhosa', 'carinhosas', 'carinhoso', 'carismáticos', 'carlos', 'carneiros', 'carnes', 'carnê', 'carnívoras', 'carpa', 'carpete', 'carpir', 'carranca', 'carrancudo', 'carrega-me', 'carregadas', 'carregado', 'carregaremos', 'carregará', 'carregasse', 'carrego', 'carregá-la', 'carregá-lo', 'carreiras', 'carretel', 'carrinha', 'carrinhos', 'carrossel', 'cartaz', 'carteiristas', 'cartonista', 'cartunista', 'cartões-postais', 'carvalhos', 'casaca', 'casais', 'casam-se', 'casar-me', 'casaram-se', 'casarei', 'casarias', 'casaste', 'cascata', 'caseiros', 'casemo-nos', 'casemos', 'caspa', 'casquinha', 'cassino', 'castanho-escuro', 'castanho-escuros', 'castigado', 'castigar', 'castiguei', 'castiçal', 'castiço', 'castrado', 'castrar', 'casámos', 'catapulta', 'catastrófica', 'catilina', 'cativeiro', 'caule', 'causada', 'causalidade', 'causar-lhes', 'causar-me', 'causaram', 'causará', 'cause', 'cautela', 'caução', 'cavadores', 'cavalgando', 'cavam', 'cavanhaque', 'cavei', 'cavem', 'cavernas', 'cayman', 'caçado', 'caçados', 'caçamba', 'caçando', 'caçaram', 'caçava', 'caçavam', 'caço', 'caçoada', 'caçoais', 'caçoaram', 'caçoas', 'caçou', 'caía-lhe', 'caírem', 'caísse', 'caótico', 'cearam', 'ceaste', 'cedas', 'cegas', 'cegonhas', 'cegueira', 'celebram', 'celebremos', 'celibatário', 'celofane', 'celulite', 'censo', 'censura', 'censurado', 'censurou', 'centauri', 'centrais', 'centésimo', 'cepo', 'cercada', 'cercamos', 'cercas', 'cercou', 'cereais', 'cerimônias', 'cerrei', 'cerrou', 'certamante', 'certeiro', 'certifica-te', 'certificando', 'certificarmos', 'certificou-se', 'certificássemos', 'certifiquei-me', 'cervejaria', 'cerâmica', 'cessam', 'cessar', 'cestos', 'cetim', 'cevada', 'chacoalhei', 'chacoalhou', 'chagamos', 'challenger', 'chama-se', 'chamarem', 'chamaremos', 'chamará', 'chamarão', 'chamassem', 'chamava-se', 'chame-a', 'chame-o', 'chamo-a', 'chamo-me', 'chamo-o', 'chamo-te', 'chamou-me', 'champanha', 'chamá-la', 'chamávamos', 'chantageando-o', 'chantagem', 'chantili', 'chapada', 'charlatães', 'charlatões', 'charles', 'chateando', 'chateie', 'chateá-lo', 'chatice', 'chaveado', 'chaveiro', 'chazinho', 'checa', 'check-in', 'check-out', 'check-up', 'checkout', 'cheesecake', 'chefes', 'chegar-se', 'chegaríamos', 'chegou-se', 'chegues', 'cheirada', 'cheirado', 'cheirava', 'cheiros', 'cheirosas', 'cheirou', 'chiado', 'chiando', 'chile', 'chili', 'chimpanzés', 'chinês-japonês', 'chocam', 'chocantes', 'chopin', 'choramingando', 'chorarem', 'chorasse', 'choraste', 'choravam', 'chores', 'chorona', 'chorão', 'choveria', 'chumbou', 'chupando', 'chupar', 'churrasqueira', 'chutei', 'chutes', 'chuveiros', 'chuviscar', 'cibercafé', 'cicatrizar', 'ciclista', 'ciclistas', 'ciclone', 'ciclovia', 'ciclístico', 'cientifica', 'cientificamente', 'cigarra', 'cilada', 'cilindro', 'cinderela', 'cinemas', 'cineminha', 'cingapura', 'cintilavam', 'cinzas', 'cinzel', 'cinzentos', 'cinéfilo', 'circula', 'circulada', 'circular', 'circule', 'circulou', 'circunda', 'cirurgiã', 'cisne', 'citado', 'citar', 'cite', 'citei', 'city', 'ciumentas', 'ciumentos', 'civilidade', 'civilizada', 'civilizado', 'civilizados', 'civilização', 'civilizações', 'clandestino', 'clarear', 'claridade', 'clarim', 'clark', 'classes', 'classifica', 'classificando', 'classificar', 'classificação', 'clava', 'clemência', 'cleptomaníaco', 'clica', 'clipe', 'cliquem', 'clonado', 'cloro', 'clubes', 'clínico', 'cm', 'coagida', 'coagido', 'coalhou', 'coaxando', 'coaxo', 'cobaia', 'cobrar', 'cobrei', 'cobrem', 'cobrimos', 'cobrirá', 'cobro', 'cobrou', 'coce-me', 'cochichou', 'cochichou-lhe', 'cochilada', 'codorna', 'coelhinho', 'cogitar', 'cogitaste', 'cogitação', 'coincidem', 'coiote', 'colaborativo', 'colaram', 'colchas', 'colchetes', 'cole', 'colecionam', 'colecionou', 'coleiras', 'colem', 'colericamente', 'coletado', 'coletam', 'coletaram', 'coletânea', 'colherada', 'colhes', 'colocadas', 'colocados', 'colocam', 'colocarem', 'colocaria', 'colocariam', 'colocasse', 'colocava', 'colocação', 'colombiano', 'colonial', 'colonizada', 'colonizadores', 'coloquei-o', 'coloquei-os', 'coloquemos', 'coloques', 'coloração', 'coloridas', 'coloridos', 'colunas', 'colónia', 'coma-o', 'combato', 'combatê-los', 'combinamos', 'combinaram', 'combinavam', 'comboios', 'combustão', 'comeces', 'comedor', 'comem-se', 'comemora-se', 'comemoraram', 'comemoraria', 'comemorarmos', 'comemorei', 'comemoro', 'comen', 'comenta', 'comentarista', 'comentou', 'comerciais', 'comeres', 'comestes', 'comestíveis', 'cometas', 'cometera', 'cometeremos', 'cometidas', 'começara', 'começaria', 'começas', 'começava', 'comfortável', 'comi-o', 'comiam', 'comidos', 'comissário', 'comovidos', 'compactador', 'compadeceu', 'compadeceu-se', 'compadecido', 'comparam', 'comparamos', 'compararia', 'compartilha', 'compartilharam', 'compartilhem', 'compartilhou', 'compartilhá-los', 'compartilhávamos', 'compartimentos', 'compassivo', 'compatíveis', 'compensado', 'compensá-las', 'compensá-lo', 'compete', 'competentes', 'competiam', 'competimos', 'competindo', 'competiram', 'competência', 'competências', 'compilar', 'complacente', 'completam', 'complexas', 'complicações', 'compliquem', 'componentes', 'compor', 'comporta-te', 'comportar-se', 'comportasse', 'comportem', 'comportou-se', 'compositora', 'compostagem', 'compradores', 'comprar-lhe', 'comprar-te', 'comprara', 'comprarias', 'comprarão', 'compraríeis', 'compravam', 'compre-me', 'compreender-te', 'compreenderiam', 'compreendeu', 'compreendiam', 'compreendê-la', 'compreensivos', 'compremos', 'comprimiu', 'comprometer', 'comprometido', 'comprometidos', 'comprometo', 'comprove', 'comprá-las', 'comprámos', 'compulsiva', 'compulsivamente', 'compuseram', 'computadorizadas', 'compõe', 'compõe-se', 'comte', 'comumente', 'comuna', 'comunicar-se', 'comunicarmos', 'comunicasse', 'comunicativo', 'comunicações', 'comunique', 'concebeu', 'concede', 'conceder', 'conceder-me', 'concedida', 'concentra-te', 'concentrando', 'concentrei', 'concertina', 'concessão', 'concessões', 'conchas', 'concluido', 'conclusivos', 'concluíram', 'concordara', 'concordarem', 'concordarvam', 'concordarão', 'concordasse', 'concordemos', 'concorrendo', 'concorrente', 'concorreu', 'concorrência', 'concussão', 'concêntricos', 'condado', 'condecorado', 'condecorou', 'condenável', 'condicionador', 'condimentada', 'conduza', 'conduza-o', 'conduzido', 'conduzindo', 'conduzisse', 'conduzo', 'conecta', 'conectá-lo', 'conexões', 'conferida', 'confessado', 'confessando', 'confessasse', 'confidenciais', 'confidencial', 'confidencialmente', 'confiem', 'confies', 'confinado', 'confirma', 'confirmada', 'confirmado', 'confirmação', 'confirmei', 'conformar', 'conformidade', 'conformou', 'confortar', 'conforte', 'confortá-lo', 'confrontado', 'confrontados', 'confrontar', 'confrontações', 'confundi-lo', 'congele', 'congelou-se', 'congo', 'congressista', 'congénitos', 'conhece-lo', 'conhecer-te', 'conheceria', 'conhecesses', 'conheceste', 'conheci.conheci', 'conhecê-las', 'conheçamos', 'conheço-a', 'conjectura', 'conjuntos', 'connosco', 'conquistador', 'conquistamos', 'conquistou', 'conscientes', 'consegui-lo', 'conseguiremos', 'conseguirias', 'conseguirão', 'conseguistes', 'consente', 'consentir', 'consertada', 'consertamos', 'consertaram', 'consertassem', 'conserte-o', 'consertos', 'conservação', 'conserve', 'conservou', 'consideradas', 'consideraram', 'consideravam-no', 'considere-se', 'considerem-se', 'considero-me', 'considero-te', 'consistem', 'consistia', 'consola', 'consolar', 'consolação', 'consolá-la', 'consome-se', 'conspiração', 'constata', 'constatando', 'constatar', 'constelação', 'constituem', 'constitui-se', 'constituía', 'constrangeria', 'constranjas', 'constriuir', 'construtiva', 'construtivo', 'construções', 'construímos', 'construírem', 'consultam', 'consultasse', 'consultei', 'consultivo', 'consulto', 'consultou', 'consultá-la', 'consultá-lo', 'consultório', 'consume', 'consumido', 'consumidores', 'contactar-nos', 'contactava', 'contacte-me', 'contactem', 'contacto', 'contactou', 'contactá-lo', 'contadas', 'contadora', 'contadores', 'contados', 'contagiosa', 'contagiosos', 'contai-me', 'contam', 'contaminada', 'contarei-te', 'contaremos', 'contariam', 'contarmos', 'contaste', 'contastes', 'contataremos', 'contate', 'contatei', 'contatou', 'contem-nos', 'contemplando', 'contemplou', 'contemplámos', 'contemporânea', 'contemporâneos', 'contendo', 'contenham', 'contentamento', 'contentar', 'conter-me', 'conteve-se', 'continentais', 'continuando', 'continuaria', 'continuemos', 'continuássemos', 'continência', 'contive', 'conto-te', 'contou-lhe', 'contrabando', 'contradiga', 'contradigam', 'contraditória', 'contraditório', 'contradizer', 'contradizes', 'contradizê-lo', 'contradição', 'contrafação', 'contragosto', 'contrai', 'contrarie', 'contratada', 'contratam', 'contrataram-me', 'contratariam', 'contratação', 'contratos', 'contravenção', 'contribua', 'contribui', 'contribuirá', 'contribuí', 'contribuído', 'contribuíram', 'controla-te', 'controlam', 'controlaram', 'controlem-se', 'controles', 'controlo', 'controlou', 'controlá-la', 'controlá-lo', 'controvertido', 'contruí-lo', 'contêineres', 'contínua', 'contínuo', 'convencemos', 'convencendo', 'convenceram', 'convenceria', 'convencerá', 'convencimento', 'convencionais', 'convencional', 'convencê-los', 'convenço', 'conversado', 'conversas', 'conversavam', 'conversação', 'conversações', 'conversemos', 'conversávamos', 'conversível', 'converte', 'converteram-se', 'converteu-se', 'converti', 'convida', 'convidam', 'convidando', 'convidarei', 'convidares', 'convidaria', 'convidasse', 'convidava', 'convide-a', 'convide-o', 'convidei-os', 'convidou-nos', 'convidá-los', 'convinha', 'convirá', 'convites', 'convivem', 'convivia', 'convocada', 'convocado', 'convulsões', 'coolidge', 'cooper', 'cooperarei', 'cooperasse', 'coordenando', 'copenhague', 'copiem', 'copérnico', 'coquetel', 'coquetéis', 'corada', 'corais', 'corajosos', 'corando', 'cordial', 'cordialidade', 'cordialmente', 'cordão', 'cordões', 'coreano', 'coroado', 'corporações', 'corpus', 'corras', 'correlatas', 'correnteza', 'correspondente', 'correspondentes', 'corresponder', 'correspondeu', 'correspondia', 'correspondências', 'corretora', 'corriam', 'corrige', 'corrigi-o', 'corrigidos', 'corrigiram', 'corrija-o', 'corrija-os', 'corrimão', 'corroborou', 'corromper', 'corrupto', 'cortam', 'cortamos', 'cortarei', 'cortarem', 'cortares', 'cortaria', 'cortava', 'corte-os', 'cortei-me', 'cortejou', 'cortem-na', 'cortesia', 'cortiço', 'cortou-a', 'cortou-me', 'coruja', 'corvos', 'corão', 'costumais', 'costurando', 'costuraria', 'costuras', 'costure', 'costureira', 'costurou', 'cotidiana', 'cotidiano', 'couve-flor', 'covas', 'cowboy', 'coxeias', 'coxo', 'cozidas', 'cozidos', 'cozinhasse', 'cozinhaste', 'cozinhastes', 'cozinhá-lo', 'coçam', 'co₂', 'cpnsegue', 'crack', 'crater', 'crateras', 'cravada', 'crave', 'crawl', 'credenciais', 'credores', 'cremos', 'cremosa', 'crenças', 'crescera', 'cresceres', 'crescerá', 'crespo', 'cresça', 'criadas', 'criado-mudo', 'criativamente', 'criavam', 'criminal', 'criminosa', 'criptografados', 'cristofori', 'cristófori', 'criteriosamente', 'criterioso', 'critica', 'criticada', 'criticado', 'criticam', 'criticando', 'criticaram', 'critiquei', 'critério', 'criá-lo', 'crochê', 'crocodilos', 'croissants', 'cronograma', 'cronometrista', 'cronômetro', 'cruas', 'cruz', 'cruzada', 'cruzaram', 'cruze', 'cruzei', 'créditos', 'crédula', 'crédulos', 'críticos', 'cubano', 'cubinhos', 'cubos', 'cuco', 'cueca', 'cuidai-vos', 'cuidaram', 'cuidares', 'cuidem', 'cujos', 'culhão', 'culparei', 'culposo', 'culpá-la', 'culpá-las', 'culpá-los', 'cultivado', 'cultivamos', 'cultivando', 'cultivei', 'culto', 'culturais', 'cumprem', 'cumprida', 'cumprido', 'cumpridor', 'cumprimente', 'cumprimentou-me', 'cumprimentou-o', 'cumpriram-se', 'cumprirem', 'cumpro', 'cunhados', 'cupcakes', 'curada', 'curadas', 'curas', 'curativo', 'curie', 'curling', 'curriculum', 'cursar', 'cursava', 'curtindo', 'curtir', 'curtiria', 'curtirá', 'curtiu', 'curtume', 'curvando-se', 'curvar-se', 'curvaram', 'curá-lo', 'cuspido', 'cuspir', 'custado', 'custando', 'custava', 'custe', 'custeou', 'custoso', 'custou-lhe', 'cutucão', 'cyber', 'cálcio', 'cálculo', 'cálculo.\\u200e', 'cálculos', 'cálido', 'cápsula', 'cáqui', 'cárie', 'cáries', 'cáustica', 'câmera-lenta', 'cânion', 'cães-guia', 'cãibra', 'cãibras', 'cédulas', 'célula', 'células', 'césar', 'céticas', 'cê', 'cílio', 'cílios', 'cômico', 'd.', 'd.c', 'dador', 'dali', 'dalton', 'daltônicos', 'danar', 'dancei', 'danificadas', 'danificados', 'danificar', 'danificasse', 'dançado', 'dançaria', 'dançarinos', 'dançará', 'dançavam', 'danúbio', 'dar-lhe-ei', 'dar-se', 'dar-te-ei', 'dardos', 'dareis', 'darem', 'datada', 'date', 'debatemos', 'debatendo', 'debatido', 'debierne', 'decadente', 'decadência', 'decentes', 'decepciona', 'decepcionará', 'decepcioná-los', 'decepções', 'decidem', 'decidirá', 'decidisse', 'decidistes', 'decido', 'decifrei', 'decisivo', 'declarada', 'declaramos', 'declarações', 'decodificar', 'decola', 'decolado', 'decolagem', 'decolando', 'decolaram', 'decolarem', 'decolasse', 'decolassem', 'decorada', 'decoradas', 'decoraram', 'decore', 'decorrer', 'decrescendo', 'decresceu', 'decência', 'dedal', 'dedica', 'dedicadas', 'dedicam', 'dedicando', 'dedicação', 'dedinhos', 'dediquei', 'deduraram', 'deduziu', 'deem-no', 'defeituosa', 'defeituoso', 'defenda-se', 'defendam-se', 'defende', 'defende-te', 'defendemos', 'defendendo', 'defender-se', 'defenderam', 'defenderei', 'defenderemos', 'defendia', 'definida', 'definidos', 'definir', 'definitivo', 'definições', 'degradante', 'degrau', 'dei-o', 'deis', 'deitada', 'deitamos', 'deitar-se', 'deitarei', 'deitem-se', 'deitemos', 'deitou-se', 'deixa-lo', 'deixa-nos', 'deixa-o', 'deixai', 'deixando-a', 'deixar-me', 'deixara', 'deixaram-me', 'deixarem', 'deixas-me', 'deixassem', 'deixasses', 'deixaste-o', 'deixava', 'deixe-os', 'deixei-o', 'deixeis', 'deixou-nos', 'deixou-se', 'deixá-las', 'deixássemos', 'delator', 'delegada', 'delegações', 'delete', 'delfins', 'delgado', 'delicadeza', 'deliciaram', 'delineador', 'delirante', 'deliravas', 'deliráveis', 'demita', 'demiti', 'demitido(a', 'demitimos', 'demitindo', 'demitir-se', 'demitisse', 'democráticas', 'demográfica', 'demolidas', 'demolido', 'demolir', 'demonstra', 'demonstrarei', 'demonstração', 'demoro', 'denomina', 'densidade', 'dentes-de-leão', 'dentes-do-siso', 'denunciavam', 'denuncie', 'deparar', 'dependo', 'dependência', 'depenou', 'depila-se', 'deploro', 'depor', 'deportada', 'deportaram', 'depositados', 'deposite', 'depositei', 'depp', 'deprimidas', 'deprimiu-se', 'deram-lhe', 'derivadas', 'derivam-se', 'dermatologista', 'derradeira', 'derramado', 'derramar', 'derreter-se', 'derretera', 'derreterá', 'derreteu-se', 'derretida', 'derretido', 'derrotadas', 'derrotamos', 'derrotaram', 'derrotas', 'derrotaste', 'derrotei', 'derrotá-las', 'derrotá-los', 'derrubada', 'derrubado', 'derrubamos', 'derrubaria', 'desabrigado', 'desabrigados', 'desacelerar', 'desacompanhados', 'desafeto', 'desafiadora', 'desafivelado', 'desagrado', 'desagradou', 'desajustado', 'desalmado', 'desamarrados', 'desamarraram', 'desamolada', 'desanimador', 'desanimados', 'desanimaram', 'desanimasse', 'desanimou-os', 'desaparece', 'desaparecesse', 'desaparecimentos', 'desapontamento', 'desapontá-la', 'desapontá-los', 'desaprova', 'desaprovaram', 'desarmado', 'desarmar', 'desarmou', 'desarrumada', 'desastres', 'desatar', 'desatento', 'desatenção', 'desative', 'desatou', 'desatualizados', 'desavergonhado', 'desbloquear', 'desbloqueou', 'desbotadas', 'descalce', 'descalças', 'descalçou', 'descansada', 'descansaram', 'descansou', 'descarada', 'descaradamente', 'descarado', 'descaroçamos', 'descarregaram', 'descarregarei', 'descarregou', 'descarrilhou', 'descartei', 'descartáveis', 'descasca', 'descascando', 'descasco', 'descasque', 'descem', 'descendentes', 'descerei', 'descerá', 'descia', 'descida', 'desclassificados', 'descobrindo', 'descobrira', 'descobrirei', 'descobrires', 'descobrirmos', 'descobriste', 'descoloriu', 'desconcentrou-se', 'desconcertado', 'desconcordaram', 'desconecte', 'desconectou', 'desconfia', 'desconfiar', 'desconfiei', 'desconfiou', 'desconfortado', 'desconhecidas', 'desconsiderados', 'desconta', 'descontos', 'descontou', 'descontrolado', 'descontrolou', 'descrente', 'descreveram', 'descreverias', 'descreveu-o', 'descrevê-los', 'descriminou', 'descrito', 'descrições', 'descruzou', 'descuidadamente', 'descuidou', 'desculpa-me', 'desculpai-me', 'desculpais', 'desculpar-te', 'desculpar-vos', 'desculpei', 'desculpou-se', 'descumpra', 'desda', 'desdobrei', 'desejado', 'desejados', 'desejamos-lhe', 'desejando', 'desejara', 'desejariam', 'desejavas', 'desejo-te', 'desejoso', 'desejável', 'desembarque', 'desemboca', 'desembrulhar', 'desempenha', 'desencorajar', 'desenfreadamente', 'desenhada', 'desenhado', 'desenhamos', 'desenharam', 'desenharia', 'desenhasse', 'desenhava', 'desenhista', 'desenrolado', 'desentendimentos', 'desenterraram', 'desenterrou', 'desentupiu', 'desentusiasmado', 'desenvolvendo', 'desenvolverem', 'desenvolverá', 'desenvolvidos', 'deseperadamente', 'desesperada', 'desesperançado', 'desfecho', 'desfibrador', 'desfiladeiro', 'desfizeram', 'desfruta', 'desfrutando', 'desfrutaram', 'desfrutaria', 'desfrute', 'desgastadas', 'desgraçou', 'designada', 'designers', 'designou', 'desiludido', 'desinteressantes', 'desistem', 'desistia', 'desistirei', 'desistirem', 'desistirão', 'deslembrada', 'desliga-o', 'desligaram', 'desligasse', 'desligue-a', 'deslizar', 'deslogado', 'desloquei', 'deslumbrado', 'desmaiasse', 'desmaio', 'desmascarou', 'desmatadas', 'desmemoriados', 'desmontamos', 'desmonte-a', 'desmonte-o', 'desmorone', 'desmotivado', 'desnivelado', 'desobedecia', 'desobedeça', 'desobedientes', 'desocupada', 'desocupado', 'desolador', 'desonra', 'desordeiro', 'desorganizar', 'desorientadas', 'desorientados', 'despacha-te', 'despachem-se', 'desparafusar', 'desparafusou', 'despedaçou-se', 'despedi-lo', 'despedimos', 'despedir-me', 'despediram', 'despediram-me', 'despedirmos', 'despediu-se', 'despejada', 'despeje', 'desperdicei', 'desperdicemos', 'desperdices', 'desperdiçada', 'desperdiçados', 'desperdiçamos', 'desperdiçou', 'desperdiçá-la', 'despertadores', 'despertaram-me', 'desperte', 'desperte-me', 'desperte-nos', 'despi', 'despido', 'desportivos', 'desportos', 'despreparado', 'desprevenido', 'desprezadas', 'desprezar', 'desprezava', 'desprezível', 'desqualificado', 'dessalinização', 'destaca', 'destaca-se', 'destacou', 'destemida', 'desterrado', 'destina-se', 'destinatários', 'destinou', 'destrancado', 'destrancar', 'destrancasse', 'destranque', 'destranquem', 'destrave', 'destreza', 'destruas', 'destruí', 'destruí-lo', 'destruíra', 'desumano', 'desvende', 'desviava', 'desviei', 'desviemos', 'desviou-se', 'deságua', 'desçamos', 'desço', 'detalhadas', 'detalhista', 'detectado', 'detectar', 'detendo', 'detenha-nos', 'detenham', 'detenham-nos', 'detento', 'deteria', 'deteriorando', 'deteriorou', 'determina', 'determinados', 'detestais', 'detestaria', 'detestas', 'detestasse', 'deteste', 'detesto-as', 'detestou', 'detestá-la', 'detidos', 'detive', 'detritos', 'deu-lhes', 'deus-dará', 'devasso', 'devastado', 'devastou', 'devedores', 'devems', 'deverei', 'devereis', 'deveremos', 'devo-o', 'devolva-me', 'devolvam', 'devolve', 'devolve-me', 'devolvemos', 'devolvendo-o', 'devolveram', 'devolvesse', 'devolveste', 'devolvi-lhe', 'devolvido', 'devolvê-la', 'devorado', 'devorados', 'devores', 'devota', 'devotado', 'devoto', 'dezasseis', 'di-lo', 'dia-a-dia', 'dialeto', 'dianteira', 'dianteiro', 'dickens', 'didático', 'diet', 'diferenciada', 'diferenciado', 'diferenciá-la', 'diferentemente', 'dificílimo', 'difundidas', 'digamos', 'digestivo', 'digitado', 'digitando', 'dilacerou', 'dilatadas', 'dilataram', 'diligentemente', 'diligência', 'dimensão', 'diminui', 'diminuído', 'diminuímos', 'diminuíram', 'dinamarqueses', 'dinamarquês', 'dinheirinho', 'dinheirão', 'dinossauro', 'dioxina', 'diplomas', 'diplomatas', 'diques', 'diretas', 'direções', 'dirigentes', 'dirigia-se', 'dirigidos', 'dirigiram-se', 'dirigissem', 'dirije', 'discente', 'discentes', 'disciplina', 'disciplinados', 'discordando', 'discordariam', 'discorde', 'discordei', 'discou', 'discrepâncias', 'discriminar', 'discrimine', 'discursar', 'discursarei', 'discursou', 'discutamos', 'discutiam', 'discutinto', 'discutível', 'dise', 'dislexia', 'disléxica', 'disléxicas', 'disléxicos', 'disonesto', 'disparar', 'disparei', 'dispensa', 'dispensar', 'dispenso', 'displicente', 'disponibilizou', 'dispositivos', 'dispunha', 'disputando', 'disputas', 'disputavam', 'dispôs', 'dispõe', 'dispõem', 'dispões', 'disquei', 'disquetes', 'dissecamos', 'disseram-nos', 'dissimulados', 'dissolve-se', 'dissse', 'dista', 'distanciamento', 'distensão', 'distingui-la', 'distingui-las', 'distingui-los', 'distinta', 'distintivamente', 'distintos', 'distinção', 'distorceram', 'distorça', 'distorçam', 'distrai', 'distraiu-se', 'distraí', 'distraí-la', 'distraí-los', 'distraídos', 'distribuir', 'distrofia', 'distâncias', 'ditas', 'ditou', 'diversificar', 'diverte-te', 'divertem', 'divertes', 'divertia', 'divertimento', 'divertir-se', 'divertiremos', 'divertiriam', 'divertirias', 'divertiríeis', 'divertiste', 'divertíamos', 'dividamos', 'dividem-se', 'dividi', 'dividi-lo', 'dividia', 'divididos', 'dividiram', 'divido', 'divina', 'divino', 'divisas', 'divisor', 'divorciada', 'divorciamos', 'divorciei-me', 'divulgados', 'divulgar', 'divulgará', 'divulgação', 'diz-lhes', 'dizemos', 'dizer-lhes', 'dizer-vos', 'dizerem', 'dizesse', 'dizia-se', 'dizê-la', 'dizê-lo', 'diálogo', 'diários', 'diâmetros', 'doamos', 'doaram', 'doaria', 'doação', 'dobraram', 'docilidade', 'dodon', 'dodô', 'doem-me', 'dog', 'doi', 'doidas', 'dolorido', 'doloridos', 'domar', 'dome', 'domesticado', 'domesticados', 'dominador', 'dominaram', 'dominação', 'dominou', 'domésticas', 'donos', 'donut', 'dormirão', 'dormisse', 'dorsal', 'doses', 'dotado', 'dou-me', 'dourado', 'doíam', 'dragons', 'dramático', 'driblar', 'drinks', 'drogou', 'drástico', 'ds', 'dublin', 'dublê', 'duelo', 'dueto', 'dumbo', 'dungeons', 'duplas', 'duplicar', 'duque', 'durara', 'duraria', 'durariam', 'durmamos', 'durona', 'duros', 'duvidado', 'duvidam', 'duvidaram', 'duvidava', 'duzentas', 'dwight', 'dá-la', 'dá-mo-á', 'dádiva', 'dálias', 'décimo-terceiro', 'dê-o', 'dêm', 'dês', 'díficil', 'dóceis', 'd’água', 'ebay', 'ebulição', 'ecológico', 'economista', 'economistas', 'economiza', 'economizo', 'económico', 'econômicas', 'ecoou', 'editados', 'editei', 'editou', 'educacional', 'educadas', 'educadores', 'educativo', 'efeito-estufa', 'efetiva', 'efetivado', 'efetivamente', 'efetivo', 'efetivos', 'efetivou', 'efetuará', 'efetuou', 'eficiência', 'ego', 'egípcios', 'eis-me', 'eisenhower', 'eita', 'elaborados', 'elaborar', 'elaborou', 'elegeram', 'elegeram-no', 'elegê-lo', 'eleitor', 'elementos', 'eles(tom', 'eletrodomésticos', 'eletrónico', 'eleva', 'elevou', 'elfo', 'elimina', 'eliminará', 'elitista', 'elogiado', 'elogiados', 'elogiar', 'elogiaram', 'eloquentes', 'elos', 'elípticas', 'emagreça', 'emanou', 'embaciado', 'embaixadora', 'embalada', 'embalagens', 'embaralhador', 'embaralhem', 'embaralhou', 'embaraçado', 'embarcando', 'embarcação', 'embaçado', 'embaçou', 'embebeda', 'emboscados', 'embraveça', 'embriaguez', 'embrulhados', 'embrulhando', 'embrulhe', 'embrulhá-lo', 'embuste', 'embutida', 'emenda', 'emergiu', 'emigraram', 'emigração', 'eminente', 'emissões', 'emitem', 'emitia', 'emitidos', 'emmet', 'emociona', 'emocionada', 'emocionais', 'emocional', 'emocionantes', 'emocionar-se', 'emocionou', 'emoldurou', 'empacotando', 'empacotar', 'empacotou', 'empanada', 'empanturrado', 'empatado', 'empatados', 'empataram', 'empate', 'empenhado', 'empenhou', 'emperrei', 'emperrou', 'empesteado', 'empilham', 'empinam', 'empinar', 'empinavam', 'empobrecem', 'empoderado', 'empoeirado', 'empolga', 'empolgadas', 'empolguei', 'empreendimento', 'empregadas', 'empregadoras', 'empregadores', 'empreiteiro', 'empresarial', 'emprestam', 'emprestar-lhe-ei', 'empresária', 'empulhação', 'empurra', 'empurrado', 'empurrando', 'empurraram', 'empurres', 'empurrou-me', 'emulação', 'encaderna', 'encadernar', 'encadernação', 'encaixaria', 'encaixará', 'encaixava', 'encalhada', 'encalhados', 'encalhou', 'encaminhar', 'encanada', 'encanadora', 'encantada', 'encantador', 'encara', 'encaracolados', 'encaracolou', 'encaramos', 'encararam', 'encarcerados', 'encarceramento', 'encaro', 'encarrega', 'encarregada', 'encarregarei', 'encenado', 'encenação', 'encera', 'encere', 'encerrado', 'encerraremos', 'encerrei', 'encharcadas', 'encharcados', 'encharcou', 'enchem', 'enchemos', 'encheram', 'encheu-a', 'encheu-se', 'enchi', 'enchia', 'enciumado', 'encobrindo', 'encobriu', 'encolhe', 'encolhido', 'encomendamos', 'encomendas', 'encondendo', 'encontramo-la', 'encontramo-lo', 'encontramo-nos', 'encontrar-nos', 'encontrar-nos-emos', 'encontrar-se', 'encontrarás', 'encontras', 'encontrastes', 'encontrava', 'encontre-as', 'encontre-nos', 'encontre-os', 'encontrei-a', 'encontrei-o', 'encontrou-se', 'encoraja', 'encorajador', 'encorajando', 'encorajei', 'encorajá-lo', 'encostar', 'encrencou', 'encrespou', 'encurralados', 'encurta', 'endereçada', 'endereços', 'endireitai-vos', 'endireitar', 'endireite-se', 'endividada', 'endividadas', 'endividou', 'endividou-se', 'endoideceu', 'endoidei', 'endoidou', 'energias', 'energético', 'enfadonha', 'enfadonhas', 'enfaixou', 'enfatizando', 'enfatizar', 'enfeitar', 'enfeite', 'enferma', 'enfermam', 'enferrujadas', 'enferrujados', 'enfiei', 'enfraquecendo', 'enfraqueceu', 'enfrentadas', 'enfrentamos', 'enfrentaram', 'enfrentemos', 'enfrentou', 'enfunava', 'enfureceu-se', 'engaje', 'enganarem', 'enganemos', 'enganosas', 'enganá-lo', 'engarrafamentos', 'engasga', 'engasgado', 'engasguei', 'engatinhando', 'engenheira', 'engodo', 'engolida', 'engolindo', 'engordam', 'engorde', 'engordurada', 'engravidou', 'engraxei', 'enguiçada', 'enguiçado', 'enguiçar', 'engula-o', 'enjoada', 'enjôo', 'enlouquecem', 'enlouquecer', 'enlouqueceram', 'enlutaram-se', 'enoja', 'enojada', 'enquadra', 'enquando', 'enquete', 'enraiveceu', 'enraivecido', 'enraiveça', 'enrascada', 'enriquecem', 'enriquecendo', 'enriquecer', 'enrolada', 'enrolei', 'enrolei-me', 'enrubesceram', 'ensaboadas', 'ensaiado', 'ensaios', 'ensanguentada', 'ensinamos', 'ensinar-lhe-ei', 'ensinar-me', 'ensinar-te', 'ensinar-vos', 'ensinaria', 'ensinas', 'ensinou-lhes', 'ensiná-la', 'ensiná-las', 'ensiná-lo-ei', 'ensiná-los', 'entalada', 'entardecer', 'enteados', 'entediam', 'entediou-se', 'entendam', 'entendamos', 'entendedor', 'entendem-se', 'entendemo-lo', 'entender-vos', 'entenderem', 'entenderiam', 'entenderias', 'entendê-los', 'enterradas', 'enterrados', 'enterrando', 'enterraram-no', 'enterre', 'entorpece', 'entorpecido', 'entras', 'entreabertos', 'entreabri', 'entregado', 'entregando', 'entregue-o', 'entreolhávamos', 'entreouvisse', 'entreouviu', 'entres', 'entreteve', 'entretidos', 'entrevistas', 'entrevistou', 'entristece-me', 'entro', 'entulhos', 'entupido', 'entupidos', 'entusiástico', 'envelhece', 'envelhecem', 'envelhecerem', 'envelhecia', 'envenenando', 'envenenei', 'envergadura', 'envergonha', 'envergonhando', 'envergonharia', 'envergonhas', 'envergonhava', 'envergonhe', 'envergonhá-lo', 'envernizado', 'enviados', 'enviarem', 'enviavam', 'envie-o', 'enviem-me', 'enviemos', 'enviámos', 'envolvam', 'envolve', 'envolvendo', 'envolvendo-me', 'envolvidas', 'enxadristas', 'enxaguando', 'enxergando', 'enxergá-lo', 'enxugando', 'enxágue', 'epidemia', 'epilético', 'equidade', 'equilibrado', 'equilibrar', 'equimose', 'equipado', 'equivalentes', 'equivalia', 'equívoco', 'equívocos', 'eremita', 'ergam', 'erguei', 'erguer', 'eri', 'erradicada', 'erroneamente', 'errros', 'erudito', 'erva-dos-gatos', 'ervilha', 'esbanjando', 'esbarro', 'esbofeteou', 'esboçando', 'esboço', 'esboçou', 'escada-de-mão', 'escalador', 'escalamos', 'escalará', 'escalava', 'escaldado', 'escalão', 'escamou', 'escandaloso', 'escandalosos', 'escaparei', 'escaparmos', 'escapatória', 'escarnece', 'escarnecem', 'escarrado', 'escassa', 'escassas', 'escavar', 'escavações', 'esclarecedor', 'esclarecedora', 'escolha-me', 'escolham-me', 'escolherias', 'escolherás', 'esconda-se', 'escondam-se', 'escondamo-nos', 'esconde-te', 'escondendo-se', 'esconder-me', 'escondermos', 'escondeste', 'escondi-me', 'escondi-o', 'escondia', 'escondê-lo', 'escorregadias', 'escorregando', 'escotilha', 'escovam', 'escovaram', 'escovava', 'escreva-lhe', 'escreva-o', 'escrever-lhe', 'escrever-lhe-ei', 'escrever-te-ei', 'escrevestes', 'escreviam', 'escrevias', 'escritas', 'escritura', 'escritórios', 'escrupulosamente', 'esculpindo', 'esculpiu', 'escurece', 'escureceram', 'escurecido', 'escuta-me', 'escuta-se', 'escutai', 'escutar-te', 'escutarão', 'escutaste', 'escutavam', 'escutem-me', 'escutemos', 'escutá-lo', 'esfera', 'esforce-se', 'esforcei', 'esforcem', 'esforçados', 'esforçamo-nos', 'esforçasse', 'esforçou-se', 'esfregou-se', 'esfregue', 'esfreguei', 'esgotada', 'esgotadas', 'esgotados', 'esgotamento', 'esgotar-se', 'esgotos', 'esgotou', 'esgueirou-se', 'eslavas', 'eslováquia', 'eslovénia', 'esmagar', 'esmagou', 'esmerada', 'esmeraldas', 'esmola', 'esmurrei', 'espalha', 'espalhada', 'espalhadas', 'espalham', 'espalhando', 'espalharam', 'espalhasse', 'espancou', 'espanhóis', 'espanta', 'espantado', 'espantando', 'espantar', 'espantei', 'espantoso', 'espantou', 'espaços', 'espaçoso', 'espaçosos', 'especializado', 'especializam', 'especializou-se', 'especificou', 'espectadores', 'espectáculo', 'especulando', 'especulação', 'específica', 'espera-me', 'espera-te', 'espera-vos', 'esperar-vos', 'esperara', 'esperaram-no', 'esperareis', 'esperarem', 'esperará', 'esperaste', 'esperava-se', 'esperavam-na', 'espere-nos', 'esperes', 'esperá-la', 'esperássemos', 'espesso', 'espetaculares', 'espetou-se', 'espetáculos', 'espinhas', 'espionagem', 'espionou', 'espirra', 'espirrei', 'espirros', 'espiãs', 'espiões', 'esplêndida', 'espontaneamente', 'esportista', 'esportiva', 'esportivos', 'espreguiçou', 'esprestar', 'espumo', 'esquadro', 'esquadrão', 'esqueceram-se', 'esquecerdes', 'esqueces', 'esquecia', 'esquecê-lo', 'esqueite', 'esqueitismo', 'esqueleto', 'esquenta', 'esquentar', 'esquente', 'esqueça-me', 'esqueça-o', 'esqueça-se', 'esqueçamo-lo', 'esquia', 'esquiagem', 'esquiaram', 'esquisitas', 'essle', 'essência', 'estabelece', 'estabeleceram', 'estabeleceu', 'estabeleceu-se', 'estabelecimento', 'estabilizar', 'estacada', 'estacas', 'estaciona', 'estacionais', 'estacionamentos', 'estacionando', 'estacionava', 'estacionem', 'estacioná-lo', 'estado-unidense', 'estado-unidenses', 'estadunidense', 'estagiária', 'estagiárias', 'estalajadeiro', 'estalar', 'estalou', 'estancada', 'estancar', 'estancou', 'estapafúrdia', 'estariam', 'estarias', 'estarria', 'estatura', 'estatísticas', 'estava-o', 'esteira', 'estende', 'estende-se', 'estendem', 'estendemos', 'estenderam', 'estendesse', 'estendi', 'estenografia', 'estereótipo', 'esticando', 'estilingue', 'estilista', 'estima-se', 'estimamos', 'estimar', 'estimas', 'estimular', 'estimulará', 'estimulação', 'estirado', 'estivésseis', 'estocar', 'estocolmo', 'estojo', 'estores', 'estorvo', 'estou-lhe', 'estou-me', 'estoura', 'estourada', 'estourando', 'estourar', 'estouraram', 'estourei', 'estragadas', 'estragasse', 'estragavam', 'estragou-se', 'estrague', 'estrangulando', 'estrangulou', 'estrangulá-lo', 'estratégias', 'estreia', 'estreitas', \"estrela-d'alva\", 'estreladas', 'estremecer', 'estremeço', 'estressada', 'estrito', 'estritos', 'estrogonofe', 'estrênua', 'estrógeno', 'estuda-se', 'estudande', 'estudantil', 'estudara', 'estudarem', 'estudas', 'estudaste', 'estufa', 'estupendo', 'estupida', 'estupidezes', 'estádios', 'estás-te', 'esvaziando', 'esvaziar', 'esvaziou-a', 'etapa', 'etapas', 'etc.', 'eterna', 'etiquetas', 'etiópia', 'etnologia', 'etíope', 'eufemismo', 'eufemismos', 'eunnão', 'euromilhões', 'evacuados', 'evacuar', 'evadindo', 'evaporou', 'evasiva', 'evasão', 'evidentes', 'evita-me', 'evitamos', 'evitaria', 'evitará', 'evitava', 'evitem', 'evitá-la', 'evoluíram', 'ex-aluno', 'ex-esposas', 'ex-fuzileiro', 'ex-maridos', 'ex-membro', 'ex-mulheres', 'ex-namoradas', 'exagerada', 'exagerado', 'exagerei', 'exagerem', 'exageremos', 'exageres', 'exalando', 'exalar', 'exalava', 'exalou', 'exaltou', 'examina', 'examinado', 'examine-os', 'excederam', 'excitada', 'excitados', 'excitei', 'exclamou', 'excluem', 'exclusivo', 'excêntrica', 'executivo', 'executá-lo', 'execução', 'exequível', 'exercem', 'exerceram', 'exercita-se', 'exercitando-se', 'exercitaram-se', 'exercitarem', 'exercitaste', 'exercitava', 'exercite-se', 'exercitem', 'exercito-me', 'exercitou-se', 'exibiram', 'exibiu', 'exigia', 'exigindo', 'exigir', 'exigiram', 'exista', 'existente', 'existiam', 'existido', 'existo', 'exonerado', 'expande', 'expandem', 'expandida', 'expandindo', 'expandiram', 'experimentando', 'experimentas', 'experimente-a', 'experimente-o', 'experimentemos', 'experimentá-los', 'expetativas', 'expirar', 'expirou-se', 'explanar', 'explanação', 'explica-me', 'explicando', 'explicar-lhe', 'explicar-lhe-ei', 'explicar-me', 'explicaremos', 'explicasse', 'explico', 'explicou-lhe', 'explique-se', 'explodido', 'explodindo', 'explodiria', 'explorador', 'exploradores', 'explorando', 'exploraste', 'explorastes', 'explícitas', 'expondo', 'exportando', 'exposições', 'expostos', 'expressam', 'expressei', 'expressivo', 'expressos', 'expressões', 'exprime', 'exprimia', 'expulsamos', 'expulsar', 'expulsou-o', 'expulsá-lo', 'expôs', 'expõe', 'extender', 'extenso', 'extensos', 'exteriores', 'exterminam', 'extingue', 'extinguido', 'extinguindo', 'extinguir', 'extinguiram', 'extinta', 'extintas', 'extinto', 'extintos', 'extorsão', 'extracorporal', 'extracorpórea', 'extraditada', 'extraditado', 'extrair', 'extraordinariamente', 'extraviou', 'extração', 'extraíram', 'extremidade', 'extremos', 'extrovertidas', 'f.', 'f9', 'fabricando', 'fabricante', 'fabricação', 'fabrico', 'faccioso', 'faces', 'facho', 'facil', 'factível', 'faculdades', 'fada', 'fadiga', 'fahrenheit', 'faixas', 'falam-se', 'falar-lhe', 'falar-lhes', 'falar-te', 'falar-vos', 'falaram-te', 'falariam', 'falarmos', 'falastrão', 'falcão', 'falcões', 'fale-nos', 'falece', 'falecer', 'faleis', 'falharia', 'falidos', 'falou-me', 'falta-me', 'falta-nos', 'faltava-nos', 'faltei', 'falência', 'familiarizar', 'famíla', 'fantasiados', 'fantasiar', 'fantasiaste', 'fantásticas', 'fanáticos', 'fareis', 'faroeste', 'farra', 'fascinava', 'fascista', 'fase', 'fast-food', 'fatais', 'fatiava', 'favas', 'favelas', 'favorecendo', 'favorecia', 'favoritei', 'favorzinho', 'favoráveis', 'faz-me', 'faz-se', 'faze', 'faze-o', 'fazei', 'fazei-o', 'fazem-na', 'fazendeira', 'fazendo-o', 'fazerdes', 'fazias', 'fazê-los', 'fazíamos', 'faço-o', 'faíscas', 'febre-amarela', 'fechai', 'fecharei', 'fechava', 'fechou-se', 'fechá-la', 'fedem', 'federal', 'fedia', 'fedidas', 'fedido', 'feijões', 'feiura', 'feixe', 'felicitar', 'felicitá-la', 'felizardo', 'feminina', 'feminino', 'feminista', 'fenomenal', 'fera', 'feras', 'feri-los', 'feriram', 'ferirá', 'feriste', 'feriu-se', 'fermento', 'fero', 'ferozmente', 'ferrado', 'ferradura', 'ferragens', 'ferrari', 'ferroadas', 'ferrolho', 'ferros', 'ferrovias', 'ferroviária', 'ferrugem', 'ferva', 'fervam', 'fervi', 'fervilhada', 'fervorosos', 'festejado', 'festejou', 'festiva', 'feta', 'feto', 'feudais', 'fez-nos', 'fez-se', 'fiada', 'fica-me', 'fica-te', 'fica-vos', 'ficarem', 'ficarás', 'fichas', 'ficheiros', 'fico-vos', 'ficámos', 'fidedigna', 'figos', 'filas', 'filial', 'filmagem', 'filmar', 'filosofias', 'filtros', 'finalizado', 'finalizei', 'financiado', 'finjam', 'finjo', 'finlandês', 'firefox', 'firmaram', 'fiscais', 'fisiculturismo', 'fisiculturista', 'fisionômicos', 'fissão', 'fitzgerald', 'fixa', 'fixei', 'fixou', 'fizeram-na', 'fizeram-no', 'flagra', 'flamengo', 'flanco', 'flandres', 'flash', 'flashcards', 'flautas', 'flautim', 'flechada', 'flertar', 'flerte', 'flertei', 'flexão', 'floquinho', 'florais', 'floresce', 'florescer', 'florestais', 'fluido', 'fluoxetina', 'flutuando', 'flutuantes', 'flutuavam', 'flutuou', 'flyer', 'flávio', 'fmi', 'focando', 'focas', 'focinheira', 'fofinhos', 'fofocam', 'fofoqueiro', 'fofos', 'foge', 'foguetes', 'foi-lhe', 'foi-nos', 'folclore', 'folgo', 'folheando', 'folhear', 'folheei', 'folheou', 'folheá-la', 'folhosos', 'fomentavam', 'foque-se', 'foragido', 'foragidos', 'forcei', 'fores', 'forjou', 'formadas', 'formalmente', 'formaremos', 'formará', 'formasse', 'formatar', 'formei-me', 'formidáveis', 'formigueiro', 'formos', 'formular', 'fornada', 'fornecem', 'fornecerá', 'fornecimento', 'forneçam', 'forro', 'fort', 'fortaleceu', 'fortaleza', 'forçada', 'forçadas', 'forçaram-no', 'forçaremos', 'forçaria', 'forçosamente', 'fossa', 'fotocopiou', 'fotografar', 'fotografei', 'fotografo', 'fotogênica', 'fotogênicos', 'fracassamos', 'fracassando', 'fracassará', 'fracassasse', 'fracasse', 'fracote', 'franzino', 'franziu', 'frases-exemplo', 'fraturado', 'fraturou', 'fração', 'freelancer', 'fregueses', 'freia', 'freiras', 'frenético', 'frequentamos', 'frequentar', 'frequente', 'frequento', 'friozinho', 'fritar', 'frite', 'fritura', 'fronha', 'frontal', 'frouxo', 'frustado', 'frustrei', 'frutaria', 'fruto', 'fugimos', 'fugisse', 'fugitivos', 'fumadores', 'fumantes', 'fumassem', 'fumasses', 'fumei', 'fumou', 'funcionais', 'funcionalidades', 'funcionem', 'funcionária', 'fundado', 'fundador', 'fundar', 'fundação', 'fundações', 'funde', 'funerais', 'fungo', 'funções', 'furada', 'furadeira', 'furar', 'furgão', 'furiosíssimo', 'furos', 'furtei', 'fusos', 'futilidades', 'futuramente', 'fuxicando', 'fuzilado', 'fuçou', 'fá-lo-emos', 'fábula', 'fértil', 'fórmula', 'fósseis', 'fóssemos', 'g.n.p', 'gabar', 'gabaritamos', 'gabem', 'gadget', 'gaguejo', 'gagá', 'gaivotas', 'gajo', 'galanteador', 'galera', 'galerias', 'galo', 'galos', 'galpão', 'galáxia', 'galã', 'gama', 'game', 'gananciosa', 'gandhi', 'ganharemos', 'ganheis', 'ganhem', 'ganância', 'garanta', 'garantam', 'garante', 'garanti-lo', 'garantido', 'garantir-lhe', 'garanto-lhe', 'garbo', 'garfão', 'gargalo', 'garotinhos', 'garotão', 'garra', 'gaseificadas', 'gases', 'gastaria', 'gastas', 'gastastes', 'gastava', 'gastem', 'gastá-lo', 'gatinhar', 'gavião', 'gay', 'gazeou', 'gear', 'gelados', 'gelatina', 'geleiras', 'geléia', 'gema', 'gemer', 'gene', 'generalizada', 'generalização', 'generalizações', 'generalize', 'generosidade', 'gengibre', 'gengiva', 'genocídio', 'genocídios', 'genuína', 'genuínas', 'genuínos', 'genérico', 'genéricos', 'geologia', 'geométrica', 'george', 'geradas', 'gerencia', 'gerenciada', 'gerenciadas', 'gerenciais', 'gerencial', 'gerenciar', 'gerenciou', 'gerido', 'gerir', 'germano', 'germens', 'germes', 'germinar', 'germânica', 'gerência', 'gerônimo', 'gesticula', 'gestos', 'geóloga', 'gibi', 'gibraltar', 'gif', 'gigas', 'ginasial', 'girando', 'girava', 'gire-o', 'girei', 'giro', 'gizes', 'glacial', 'glamurosa', 'glee', 'globais', 'globalização', 'globo', 'gnu', 'gois', 'golada', 'goleiro', 'goles', 'golos', 'golpeou-me', 'gondoleiro', 'gop', 'gordas', 'gordinha', 'gorduras', 'gorduroso', 'gorila', 'gorjetas', 'gostarei', 'gostarão', 'gostaríeis', 'gostastes', 'gostosos', 'gotas', 'governa', 'governada', 'governadas', 'governamentais', 'governamental', 'governante', 'governava', 'gozar', 'gracinhas', 'graciosas', 'graciosos', 'gradativamente', 'grades', 'grado', 'graduar', 'graduaram', 'graduou-se', 'grafia', 'grafites', 'grafitou', 'gramofone', 'grampeado', 'grampear', 'grand', 'grandinho', 'grandão', 'granizo', 'granja', 'granjeiro', 'gratificar', 'gratuita', 'gratuitas', 'gravada', 'gravador', 'gravamos', 'gravar', 'gravação', 'gravem', 'gravíssimo', 'green', 'grelhado', 'greta', 'grevistas', 'grife', 'gripa', 'gritante', 'gritaremos', 'gritaste', 'gritavam', 'groelândia', 'groenlândia', 'gronelândia', 'groselha', 'groselhas', 'grossos', 'grossuras', 'gruda', 'grudado', 'grudenta', 'grunhiu', 'gráficos', 'grávidas', 'guano', 'guarda-roupa', 'guardada', 'guardam', 'guardamos', 'guardaremos', 'guardaria', 'guarde-o', 'guardem', 'guardião', 'guarnecido', 'guiada', 'guiar', 'guias', 'guichê', 'guilhotina', 'guinada', 'guinchou', 'guio', 'guirlanda', 'guitarristas', 'gula', 'guri', 'guzmán', 'gástrico', 'gémeo', 'gíria', 'gírias', 'gótica', 'gôndola', 'habilidosa', 'habilidosos', 'habitavam', 'habituada', 'habituar', 'hackeada', 'hackear', 'haicai', 'halal', 'haley', 'hall', 'halley', 'halteres', 'hamlet', 'harbor', 'harpa', 'harry', 'hashis', 'haste', 'hasteamos', 'hastings', 'havana', 'havanas', 'havard', 'haveis', 'havereis', 'havíamos', 'hdmi', 'hebraicos', 'hediondo', 'helicoptero', 'hellebrandt', 'helsinque', 'hematoma', 'hematomas', 'hemingway', 'hemisfério', 'hemoglobina', 'herbicida', 'herdeiros', 'hereditária', 'hermitage', 'heroico', 'heroinómano', 'hesitando', 'hesitaram', 'hesitaria', 'hesitação', 'hesiteis', 'heterodoxos', 'hexágono', 'hey', 'hidratado', 'hidráulica', 'higiénico', 'hindu', 'hindus', 'hiperativa', 'hipertenso', 'hiperventilando', 'hipnose', 'hipnotista', 'hipnotizar', 'hipnotizou', 'hipocondríaco', 'hipotecou', 'hippie', 'hipster', 'hipócritas', 'hiroshima', 'histericamente', 'historiadoras', 'historinha', 'histérico', 'histórica', 'históricos', 'hocaido', 'hockey', 'holandeses', 'hollywoodianos', 'homossexuais', 'honoríficas', 'honrada', 'honshu', 'hoover', 'horizontal', 'hormônio', 'horrenda', 'horripilante', 'horrorosos', 'horta', 'hortaliças', 'hortelã', 'hospedadas', 'hospedados', 'hospedou', 'hospitalizados', 'hospícios', 'hostilizar', 'hot', 'hotdogs', 'hoteis', 'houdini', 'humidade', 'humildes', 'humilhá-la', 'humilhá-lo', 'hungria', 'hão', 'hélio', 'hóspede', 'húmidas', 'h₂o', 'idealizastes', 'idearam', 'identificou', 'identificá-las', 'identificá-lo', 'idiossincrasias', 'idiotice', 'iene', 'ignoram', 'ignorancia', 'ignorante', 'ignorantes', 'ignoraram', 'ignoraria', 'ignore-as', 'ignore-os', 'ignorem-nas', 'ignorem-no', 'ignorem-nos', 'ignores', 'ignorá-lo', 'igor', 'igualitários', 'iguarias', 'ii', 'ilhados', 'ilimitado', 'iludamos', 'iludido', 'iluminada', 'iluminado', 'iluminando', 'iluminar', 'iluminava', 'iluminou', 'ilustrador', 'ilusões', 'ilógicas', 'imaginamos', 'imaginaria', 'imaginastes', 'imaginativas', 'imaginemos', 'imaginá-la', 'imaginária', 'imaginárias', 'imaturos', 'imbecis', 'imediata', 'imediatos', 'imensos', 'imergir', 'imerso', 'imigrante', 'iminência', 'imitador', 'imitarem', 'imite', 'imitou', 'imobiliário', 'imortal', 'imortalidade', 'impactou', 'impecável', 'impede', 'impedi-la', 'impedi-lo', 'impedidos', 'impermeável', 'impeçam', 'implacável', 'implementá-la', 'implica', 'implicante', 'implicar', 'implicavam', 'implicação', 'implorando', 'implorem', 'impolidamente', 'impor', 'importa-se', 'importada', 'importar-te-ias', 'importarem', 'importariam', 'importará', 'importarão', 'importação', 'importações', 'importunavam', 'impossibilitou', 'impostas', 'impraticável', 'impregnado', 'impressas', 'impressionável', 'impressos', 'imprestável', 'imprimiu', 'improbabilíssimo', 'improvisei', 'improvisou', 'imprudentemente', 'impulsionado', 'impulsos', 'império', 'imundos', 'imunidade', 'imunizar', 'imunológico', 'imutáveis', 'inabitual', 'inacabado', 'inacessível', 'inadvertidamente', 'inalar', 'inalei', 'inalou', 'inanição', 'inapto', 'inarticulada', 'inato', 'inaugurada', 'inaugurado', 'inaugural', 'incalculáveis', 'incalculável', 'incapazes', 'incendiada', 'incendiar', 'incendiaram', 'incendiou', 'incentivado', 'incerto', 'incessantemente', 'inchada', 'inchou', 'incitar', 'inclinada', 'inclinadas', 'inclinando', 'incline', 'inclua-me', 'incluem', 'incluiu', 'incomodam', 'incomodaram', 'incomodarem', 'incomodasse', 'incomodo', 'incomparável', 'incompetentes', 'incompetência', 'inconcebível', 'inconclusivos', 'incondicional', 'inconfundível', 'inconscientemente', 'inconscientes', 'inconsistentes', 'incontestável', 'incontrolavelmente', 'incontáveis', 'inconveniência', 'incorporadas', 'incorporados', 'incorrigíveis', 'incorrupto', 'incriminar', 'incuráveis', 'incógnita', 'incômoda', 'indecisas', 'indefeso', 'indefesos', 'indentificar', 'indesculpáveis', 'indesejado', 'indevido', 'indevidos', 'indicador', 'indicação', 'indicações', 'indigestão', 'indignada', 'indignados', 'indigno', 'indique', 'indireta', 'indisciplinado', 'indiscrições', 'indiscutível', 'indispensáveis', 'indisposto', 'indistinguíveis', 'individual', 'individualista', 'indolor', 'indonésio', 'ineficientes', 'inegavelmente', 'inescrupulosas', 'inescrupulosos', 'inescusável', 'inesgotável', 'inesperadamente', 'inesperadas', 'infalivelmente', 'infecciosas', 'infectada', 'infectados', 'infectou', 'infecções', 'infelicidade', 'inferiu', 'infestada', 'infiltrou', 'inflamação', 'inflamou-se', 'inflamável', 'inflexíveis', 'influenciadas', 'influenciado', 'influenciar', 'influenciável', 'influi', 'informa', 'informalmente', 'informando', 'informante', 'informar-lhe', 'informaram', 'informarei', 'informem', 'informá-la', 'infratores', 'infração', 'infrigiu', 'infringem', 'infringiste', 'infrutíferas', 'ingere', 'ingerido', 'ingerir', 'ingeriu', 'ingrato', 'ingênuos', 'inibindo', 'inicializa', 'iniciando', 'iniciaram', 'iniciou', 'inimiga', 'injustiça', 'injúrias', 'inocentes', 'inodoro', 'inofensivas', 'inofensivos', 'inovador', 'inovadoras', 'inoxidável', 'inquietamos', 'inquietas', 'inquietação', 'insaciável', 'insanidade', 'insatisfação', 'inscrever-me', 'inscrever-nos', 'inscrevi', 'inscritas', 'inseticidas', 'insinuação', 'insira', 'insistimos', 'insistir', 'insistência', 'insociável', 'insolúvel', 'insossa', 'inspeciona', 'inspecionar', 'inspiram', 'inspire', 'inspirou-se', 'instalamos', 'instalação', 'instalações', 'instale', 'instintivamente', 'instintivo', 'instituto', 'instrumental', 'instrutiva', 'instável', 'insubstituíveis', 'insucessos\\u200b\\u200b.', 'insuficiente', 'insuficiência', 'insular', 'insulta', 'insultada', 'insultando', 'insultante', 'insultaram', 'insulte', 'insultuoso', 'insípida', 'intacta', 'integrais', 'integrar', 'inteirado', 'inteiros', 'inteirou', 'intelecto', 'intelectualmente', 'inteligíveis', 'intencionais', 'intencionas', 'intensos', 'intercambiáveis', 'interceptastes', 'interessa-me', 'interessam-me', 'interessasse', 'interessá-la', 'interessá-las', 'interessá-lo', 'interessá-los', 'interface', 'interfone', 'interino', 'interiores', 'interiormente', 'interjeição', 'interminável', 'internacionais', 'internos', 'interpretação', 'interpretei', 'interpretou', 'interpôs', 'interrogamos', 'interrogando', 'interrompe', 'interrompemos', 'interromperam', 'interrompeu-lhes', 'interrompeu-o', 'interrompi', 'interrompidos', 'interrompê-la', 'interroper', 'interrupção', 'interurbana', 'intervalos', 'intimidade', 'intimidando', 'intolerável', 'intraescolar', 'intrepidez', 'intrinsecamente', 'introduzido', 'introduzir', 'introdução', 'intromete', 'intrometer', 'intrometer-se', 'intrometesse', 'intrometiam-se', 'intrometidos', 'introspectivos', 'intuitivo', 'inumeráveis', 'inundado', 'inusitada', 'inusitado', 'invada', 'invasão', 'invejado', 'invejar', 'invejaram', 'invejava', 'invejosa', 'inventadas', 'invente', 'inventor', 'inventário', 'invenções', 'inverossímil', 'investigadora', 'investigaram', 'investigações', 'investigou', 'invicto', 'invisíveis', 'involuntariamente', 'involuntária', 'invulnerável', 'ip', 'irada', 'irado', 'ireis', 'irene', 'irlanda', 'irmandade', 'irreal', 'irrealista', 'irrefutável', 'irrelevantes', 'irremissível', 'irriga', 'irrigando', 'irritam', 'irritantes', 'irritem', 'irrito', 'irritou-nos', 'irromperam', 'irrompeu', 'irs', 'is', 'isabel', 'isentou', 'islamabade', 'isolacionismo', 'isolamos', 'isolar', 'isopropil', 'istambul', 'italianas', 'itálico', 'iwo', 'jabber', 'jabuti', 'jantarem', 'jantaremos', 'jantaste', 'japan', 'japonês-chinês', 'jaquetas', 'jarda', 'jardas', 'jarros', 'jaulas', 'java', 'jejum', 'jeová', 'jesuítas', 'jet', 'jima', 'joalheria', 'jogadas', 'jogarem', 'jogarmos', 'jogavam', 'joguei-a', 'joguei-o', 'joguem-no', 'jogá-la', 'jogá-lo', 'jogámos', 'johnny', 'jorge', 'jornalismo', 'jovenzinho', 'joystick', 'joão-ninguém', 'jr', 'judei', 'juizo', 'jukebox', 'julgada', 'julgados', 'julgam', 'julgamentos', 'julgaram', 'julgou-o', 'juntamos', 'juntar-me', 'juntaria', 'juntarão', 'juntasse', 'juntava', 'juntei', 'juntem-se', 'junção', 'jurados', 'jure', 'juridiquês', 'jurisdição', 'jus', 'justificam', 'justin', 'juíz', 'juízes', 'jóia', 'júlio', 'k7', 'kagoshima', 'kebab', 'kg', 'kilauea', 'kilômetros', 'kimchi', 'kinkaku-ji', 'kinshasa', 'kissinger', 'kiwi', 'kleenex', 'km/h', 'koizumi', 'kyoto', 'kyushu', 'labirinto', 'laboratórios', 'lacrimejar', 'laden', 'ladrona', 'lag', 'lagostas', 'lagrimas', 'laico', 'lamacenta', 'lamacentas', 'lambi', 'lambreta', 'lambê-los', 'lamentavelmente', 'lamentou', 'lancinante', 'land', 'lançados', 'lançaram', 'laranjeira', 'largado', 'larguei', 'larguem', 'larva', 'lascar', 'lascivo', 'lasquei', 'latino-americanos', 'latão', 'lava-rápido', 'lava-te', 'lavadeira', 'lavador', 'lavam', 'lavanda', 'lavar-me', 'lavaria', 'lavarmos', 'lavasse', 'lave-se', 'lavem-se', 'laves', 'laçar', 'laço', 'laços', 'lealdade', 'lebre', 'leciona', 'lecionada', 'lecionar', 'lecionou', 'leech', 'legendados', 'legião', 'leguminosas', 'legítimo', 'leiam-no', 'leilão', 'leiteira', 'leitora', 'lema', 'lembra-me', 'lembrada', 'lembrados', 'lembrais-vos', 'lembrancinha', 'lembrar-me-ei', 'lembrar-se', 'lembrares', 'lembraria', 'lembras-te', 'lembravam', 'lembravam-se', 'lembrei-me', 'lembres', 'lendário', 'lenhadores', 'lentear', 'lentos', 'lenços', 'leonardo', 'leopardo', 'leporino', 'lera', 'leras', 'lerem', 'lermos', 'lerá', 'lesmas', 'lestes', 'letal', 'letárgico', 'leucemia', 'leva-me', 'leva-se', 'levada', 'levadas', 'levamo-la', 'levando-o', 'levantado', 'levantamento', 'levantaram-se', 'levantarem', 'levantarmos', 'levantasse', 'levantava-me', 'levante-o', 'levanto-se', 'levar-me', 'levar-vos', 'levaram-me', 'levares', 'levarmos', 'levarão', 'levaríamos', 'levas', 'leve-a', 'levedura', 'levei-o', 'levou-me', 'levou-o', 'levá-las', 'lho', 'liberadas', 'liberados', 'liberam', 'liberando', 'libere', 'libertadas', 'libertar', 'libertaram', 'libertará', 'libertassem', 'libertação', 'liberte', 'liberte-o', 'libertem', 'liberto', 'libélula', 'licenciados', 'licença-maternidade', 'licor', 'lidam', 'lidamos', 'lidaremos', 'lidará', 'lidei', 'lideu', 'ligados', 'ligamento', 'ligarem', 'ligue-a', 'ligá-lo', 'limitadas', 'limitações', 'limitou', 'limo', 'limpamos', 'limparam', 'limpava', 'limpe-a', 'limpe-o', 'limpemos', 'lince', 'lindíssimas', 'linguagens', 'linguajar', 'linguiça', 'linux', 'lions', 'liquidificador', 'liqüidação', 'lisboa', 'lisonjeados', 'lisonjear', 'listados', 'listas', 'listradas', 'listras', 'litro', 'lituânia', 'livra', 'livrei-me', 'livro-texto', 'livrou', 'livrou-se', 'liz', 'lobo-cerval', 'lobotomizado', 'localidade', 'localizada', 'localizados', 'localizamos', 'localizá-lo', 'loco', 'lodo', 'logotipo', 'logro', 'lona', 'lonas', 'longamente', 'longevidade', 'lotadas', 'lote', 'loteira', 'loterias', 'loucas', 'louras', 'louro', 'louvado', 'louvre', 'louvável', 'lubrificada', 'lubrificar', 'lucrativo', 'lucro', 'lucros', 'lucrou', 'ludibriei', 'luis', 'luminosa', 'luminária', 'lunático', 'lustre', 'lustrou', 'lutadores', 'lutam', 'lutava', 'lutavam', 'lutes', 'luther', 'luxuosas', 'luxúria', 'lácteos', 'lámen', 'lástima', 'líderes', 'límpido', 'límpidos', 'líquidos', 'lúcidos', 'lúpulo', 'm', 'maarastra', 'macabro', 'macadâmia', 'macaquice', 'macarrônico', 'machadinha', 'machu', 'machucam', 'machucarem', 'machucaríamos', 'machucasse', 'machucaste', 'machucá-las', 'macias', 'macintosh', 'maciça', 'madagáscar', 'madison', 'madri', 'magazine', 'magia', 'magistério', 'magnetismo', 'magnitude', 'magno', 'magnésio', 'magníficas', 'magníficos', 'magoada', 'magoamos', 'magoaria', 'magoou', 'magoá-las', 'magricela', 'maia', 'mal-agradecido', 'malaia', 'malcriado', 'maldade', 'maldições', 'males', 'maletas', 'malfeito', 'malho', 'malicioso', 'malmequeres', 'malquistou', 'malsucedidas', 'maltrapilho', 'maltratava', 'maltratou', 'malão', 'mamutes', 'manada', 'mancada', 'manchadas', 'manco', 'manda-me', 'mandaram-nas', 'mandaria', 'mandarina', 'mandassem', 'mandaste', 'mandei-lhe', 'mandem-me', 'mandioca', 'mandou-me', 'mangando', 'mangaram', 'mangou', 'mangás', 'manias', 'manicure', 'manicômio', 'manifestar', 'manifestar-vos', 'manifestaram-se', 'manifestem', 'manifesto-lhe', 'manipulado', 'manipuladora', 'manipulação', 'manipule', 'manobrista', 'mansa', 'mantemos', 'mantenham', 'manter-me', 'manterão', 'mantidos', 'mantimentos', 'mantinha', 'mantiver', 'mantivesses', 'mantém-se', 'mantém-te', 'mantê-los', 'manutenção', 'maomé', 'maori', 'maos', 'maquinário', 'marcador', 'marcadores', 'marcante', 'marcantes', 'marceneiro', 'marcharam', 'marchas', 'marche', 'marcial', 'marcias', 'marconi', 'margaridas', 'margarina', 'margarita', 'marimbondos', 'marinho', 'mariposa', 'marisco', 'marreta', 'marrom-escuro', 'marry', 'marshmallows', 'martelar', 'martelar-lhe', 'martelão', 'martin', 'maru', 'marés', 'maserati', 'massacre', 'massas', 'mastiga', 'mastigada', 'mastigar', 'mastigou', 'mastro', 'matador', 'mataram-no', 'mataremos', 'matariam', 'matará', 'matarás', 'matarão', 'matas', 'matasse', 'mate-as', 'mate-os', 'matemos', 'matemáticas', 'materialistas', 'maternas', 'maternidade', 'mates', 'matilha', 'matinal', 'matricular', 'matrimonial', 'matrícula', 'maturidade', 'maturo', 'matá-las', 'matá-lo-ei', 'matá-los', 'mauritânia', 'maximizá-lo', 'maça', 'maçarico', 'maço', 'meada', 'meados', 'mecânicos', 'mecãnico', 'media', 'medicado', 'medico', 'medido', 'medievais', 'meditam', 'meditar', 'meditava', 'meditação', 'mediterrâneo', 'medos', 'medíocre', 'mehmed', 'meiga', 'meio-fio', 'meio-período', 'melhorados', 'melhorará', 'melhorasse', 'melhorassem', 'memorando', 'memoriza', 'memorizado', 'memorizando', 'memorizava', 'memorizem', 'menciona', 'mencionaram', 'mencionasse', 'mencionou-o', 'meninão', 'menorzinho', 'menospreza', 'menosprezar', 'menosprezava', 'mensageira', 'mensais', 'mensalidades', 'mensalmente', 'mentimos', 'mentirei', 'mentiriam', 'mentistes', 'mercadorias', 'mercantil', 'mercê', 'merecíamos', 'mergulhamos', 'mergulhava', 'mergulhávamos', 'merlin', 'mesmíssimo', 'mesopotâmia', 'mesquinha', 'mesquinhas', 'mesquita', 'mesquitas', 'mestrado', 'metabolismo', 'metades', 'metam', 'mete', 'meteoros', 'meteria', 'meterá', 'meti', 'metódicas', 'mexam', 'mexamo-nos', 'mexem', 'mexericando', 'mexicanos', 'meçamos', 'miando', 'miau', 'michael', 'mico', 'micro-organismos', 'microbiologista', 'microeconomia', 'microfones', 'microsoft', 'micrômetro', 'milhar', 'milionária', 'militar', 'milk', 'milk-shake', 'miller', 'milênios', 'mima', 'mimasse', 'mimava', 'mimem', 'min', 'mina-chan', 'minako', 'mindinho', 'mineiro', 'minera-se', 'minhocas', 'minimamente', 'minissaia', 'minissaias', 'ministério', 'miniteste', 'minnesota', 'minorias', 'minoritária', 'minúscula', 'minúsculos', 'mira', 'mirou', 'mirtilo', 'miseravelmente', 'misericordioso', 'missionário', 'mississípi', 'misteriosamente', 'misturam', 'misture-o', 'misturou', 'mitigar', 'mitos', 'mixada', 'miúdas', 'miúdos', 'mobilha', 'mobiliado', 'mobiliando', 'mobiliaram', 'mobiliário', 'modem', 'moderado', 'moderados', 'modernizar', 'modestas', 'modestos', 'modeto', 'modifica', 'modificações', 'modificou', 'modéstia', 'moedeiro', 'mofado', 'moicano', 'moinhos', 'moita', 'molar', 'moldávia', 'moleza', 'molha', 'molhaste', 'molhastes', 'molhe', 'molhes', 'momentaneamente', 'monarquias', 'monetárias', 'monetário', 'monetários', 'money', 'mongólia', 'monica', 'monitoraram', 'monitorou', 'montado', 'montanhas-russas', 'montaste', 'montei', 'monto', 'montá-lo', 'monumental', 'monótona', 'monótonos', 'moralidade', 'morarei', 'moraste', 'morastes', 'mordas', 'mordaça', 'morderá', 'mordeu-lhe', 'mordidinha', 'mordê-lo', 'moribunda', 'morras', 'morrerei', 'morreremos', 'morria', 'morros', 'mossa', 'mostra-te', 'mostrar-lhes-ei', 'mostrar-vos', 'mostraram-nos', 'mostras', 'mostre-a', 'mostre-as', 'mostre-os', 'mostre-se', 'mostrei-lhe', 'mostrem', 'mostremos', 'mostrou-nos', 'mostrou-o', 'motivada', 'motivar', 'motocicletas', 'motociclista', 'motociclistas', 'motorizada', 'movamo-nos', 'move', 'movem', 'movera', 'moverem', 'moverá', 'movi', 'movida', 'movimentado', 'movimentava', 'moços', 'moção', 'mp3s', 'mudados', 'mudando-se', 'mudara', 'mudaram-se', 'mudarmos', 'mudarás', 'mudarão', 'mudasse', 'mudos', 'muhammad', 'multados', 'multimédia', 'multiplique', 'multirracial', 'multo', 'mumbai', 'mundanos', 'mundialmente', 'muralhas', 'murchando', 'muriçocas', 'murmurando', 'murmurou', 'muscle', 'muscular', 'musculoso', 'musicazinha', 'musico', 'musicólogo', 'mutilado', 'muto', 'mutreta', 'mutualmente', 'má-educação', 'mágicos', 'mágoa', 'máquinas', 'mármore', 'mão-aberta', 'mãozada', 'médium', 'médiuns', 'mérito', 'míopes', 'módico', 'mórmons', 'músculo', 'măe', 'naba', 'nabo', 'nachos', 'nacionalismo', 'nadada', 'nadaria', 'nadará', 'nadassem', 'nadaste', 'nadem', 'nademos', 'nades', 'nadinha', 'nadávamos', 'nagashima', 'nagoya', 'nalgum', 'namoradas', 'namoram', 'napolitano', 'naquelas', 'narciso', 'narcisos', 'nardar', 'narizes', 'narraram', 'narrativa', 'narrou', 'nasais', 'nascem', 'nascendo', 'nascera', 'natalina', 'nativas', 'natto', 'naturalizar', 'naufrágio', 'nauseado', 'navegando', 'navegaram', 'necessitados', 'necessitando', 'necrotério', 'negativa', 'negação', 'neglicenciado', 'negligentes', 'negligência', 'negligências', 'negociamos', 'negociaram', 'negociaria', 'negociável', 'negros', 'neguem', 'negues', 'neil', 'nerd', 'nero', 'neurocirurgiã', 'neurocirurgião', 'neurologista', 'nevara', 'nevaria', 'nevava', 'neves', 'nevrálgico', 'nicotina', 'nigéria', 'ninhada', 'ninharia', 'ninharias', 'ninja', 'nintendo', 'nipo-americana', 'nitidamente', 'nitrogénio', 'nitrogênio', 'nobres', 'noctívago', 'noivas', 'nomear', 'nomearam-no', 'nomeei', 'nomeou', 'nono', 'norma', 'normalizar', 'noroeste', 'nortenhos', 'norueguesas', 'notada', 'notam', 'notebooks', 'noticia', 'notificado', 'notificar', 'notificou', 'notificássemos', 'noturna', 'notá-lo', 'notáveis', 'nova-iorquino', 'novata', 'novíssima', 'novíssimo', 'noz', 'ntt', 'nuca', 'nuggets', 'numero', 'numerosa', 'nutricionais', 'nutriente', 'nutrientes', 'nutritiva', 'nutritivas', 'nápoles', 'náusea', 'não-nativo', 'não-nativos', 'não-reciclável', 'não-seguros', 'não-verbal', 'nāo', 'o.', 'obedecei', 'obedecemos', 'obedecendo', 'obedeceram', 'obedecerei', 'obedecerem', 'obedeceremos', 'obedecida', 'obesos', 'obriga', 'obrigando', 'obrigaram-no', 'obrigatoriamente', 'obrigou-me', 'obrigou-te', 'obriguei', 'obriguem', 'obscena', 'obsceno', 'obscuros', 'observando-me', 'observando-se', 'observava', 'observavam', 'observavam-me', 'observe-me', 'observe-nos', 'observe-o', 'observem', 'obsessão', 'obsoleta', 'obstante', 'obstrui', 'obstruindo', 'obstruiu', 'obstruída', 'obterá', 'obtido', 'obtive', 'oca', 'ocarina', 'ocasionar', 'oceanógrafo', 'ocidente', 'ocioso', 'ocorra', 'ocorreram', 'ocorreu-me', 'ocorrências', 'octogenário', 'oculares', 'ocultar-me', 'ocultou', 'ocupadíssimos', 'ocupações', 'ocupe', 'odeies', 'odiais', 'odiasse', 'odiavam-se', 'odiá-lo', 'ofegando', 'ofende-me', 'ofende-nos', 'ofender-te', 'ofendi', 'ofendidas', 'ofendidos', 'ofendê-las', 'ofendê-lo', 'oferece', 'oferecer-lhe', 'oferecer-lhes', 'ofereceu-lhe', 'ofereceu-me', 'oferecido', 'ofertamos', 'off-line', 'oficina', 'ohio', 'oitava', 'oitocentos', 'okinawa', 'okonomiyaki', 'oleiro', 'oleosa', 'olha-me', 'olhado', 'olhai', 'olhando-me', 'olhara', 'olharem', 'olhará', 'olhe-se', 'olheis', 'olho-mágico', 'olhou-se', 'olhá-la', 'oliveira', 'olvidar', 'olvidarão', 'omitindo', 'omitiu', 'on', 'oncologia', 'ondulados', 'ondulam', 'ondulação', 'opaco', 'opera', 'operacional', 'operações', 'operou', 'opina', 'opinão', 'oponha', 'oponho', 'oposta', 'oprimiu', 'optaram', 'optimista', 'optometrista', 'opunham', 'opuseram', 'oque', 'oradores', 'oral', 'oram', 'orangotangos', 'oraram', 'oras', 'orbitar', 'orcas', 'ordenado', 'ordenando', 'ordenhando', 'ordenhei', 'ordeno', 'ordenou-os', 'ordinária', 'orelhão', 'orem', 'organismo', 'organizados', 'organize', 'orgulha-te', 'orgulhamo-nos', 'orgulhavam', 'orgulhem', 'orgulhosamente', 'orienta', 'orientadores', 'oriental', 'orientarei', 'oriento', 'orientou', 'origami', 'originada', 'originalidade', 'originários', 'oriundo', 'orvalho', 'osama', 'oscar', 'oscilando', 'oslo', 'ossinhos', 'ostentar', 'osteoporose', 'ottawa', 'otários', 'ouriço', 'ouriço-do-mar', 'ouriços', 'ousado', 'ousas', 'outorgado', 'ouves', 'ouvi-a', 'ouvi-las', 'ouvi-o', 'ouvia-o', 'ouvida', 'ouvir-te', 'ouvira', 'ouviram-na', 'ouviram-se', 'ouvirem', 'ouvirão', 'ouvissem', 'ouvistes', 'ovário', 'oxford', 'ozônio', 'p.i.b', 'pacifista', 'padrastos', 'padrinhos', 'padronização', 'pagar-lhes', 'pagassem', 'pager', 'paguem', 'pagá-lo', 'pairava', 'paladar', 'palavras-cruzadas', 'palcos', 'paleontólogo', 'palestrante', 'palestras', 'palhaço', 'palhaços', 'palheta', 'palidez', 'palito', 'palmada', 'palmeira', 'palmilhas', 'pancada', 'pandemia', 'panicou', 'panificadora', 'panorâmica', 'panos', 'pantera', 'papelzinho', 'papelão', 'paper', 'papinho', 'paquera', 'para-brisas', 'para-choques', 'parabenizá-la', 'parade', 'paragem', 'paraguai', 'paralela', 'paralelo', 'paralelos', 'paralisada', 'paralítico', 'paramédicos', 'paranoica', 'paranormais', 'parará', 'paras', 'parasita', 'parcela', 'parcelado', 'parcelas', 'parciais', 'parcial', 'pardal', 'pare-o', 'parear', 'parece-se', 'parecemos', 'parecerem', 'pareceres', 'pareci', 'parecias', 'parenteses', 'pareçam', 'parquinho', 'parta', 'partem', 'partia', 'partiam', 'participado', 'participam', 'participará', 'participo', 'partidos', 'partilham', 'partilharam', 'partilhe', 'partira', 'partires', 'partiria', 'partirmos', 'partisse', 'partistes', 'partiu-me', 'parva', 'paródia', 'pasmo', 'pasmos', 'paspalhos', 'passadas', 'passados', 'passaremos', 'passe-o', 'passeamos', 'passeata', 'passeie', 'passemos', 'passou-se', 'passíveis', 'pasteur', 'pastora', 'patente', 'paternidade', 'paternos', 'pateta', 'patinando', 'patinaram', 'patinação', 'patinho', 'patológico', 'patriotismo', 'patroa', 'patroas', 'patrocinador', 'patrocinadores', 'patrocinar', 'patrocinou', 'patrocínio', 'patrício', 'patrões', 'pau-rosa', 'pausas', 'pausou', 'pavilhão', 'pavor', 'pavorosa', 'pbs', 'pc', 'pdf', 'pearl', 'pebolim', 'pecadores', 'pecuarista', 'pede-me', 'pedi-la', 'pedi-lhes', 'pedia', 'pediatra', 'pedir-vos', 'pediram-lhe', 'pedirem', 'pedirmos', 'pedirá', 'pedissem', 'pedissemos', 'pediu-nos', 'pedreiro', 'pedágio', 'pedíssemos', 'pega-a', 'pega-o', 'pegadinhas', 'pegados', 'pegajosa', 'pegajoso', 'pegam-se', 'pegamo-lo', 'pegarão', 'pegas', 'pegem', 'pegou-me', 'pegue-a', 'pegue-me', 'peguei-o', 'peguem-na', 'peguem-nos', 'peguemos', 'pegá-las', 'pegá-los', 'peido', 'peidorreira', 'pelando', 'pelar', 'pelicanos', 'pelou', 'peludas', 'peludos', 'penando', 'pende', 'pendurados', 'pendurando', 'penduraram', 'penetrado', 'penetre', 'penetrou-lhe', 'penhorado', 'penhorou', 'penosa', 'pensardes', 'pensará', 'pensasse', 'pensativo', 'pensavas', 'pentagrama', 'penteava', 'penteia', 'penúltima', 'penúltimo', 'pepperberg', 'pepsi', 'pequenino', 'perambulavam', 'peraí', 'percamos', 'perceba', 'percebam', 'percebeis', 'percebemos', 'percebes', 'percebesse', 'percebêssemos', 'percevejo', 'percorre', 'percorreu', 'percorrida', 'percurso', 'perdera', 'perderei', 'perdi-o', 'perdoa-me', 'perdoando', 'perdoar-me', 'perdoaram-lhe', 'perdoaste', 'perdoastes', 'perdoe-nos', 'perdoem-me', 'perdoá-lo-ei', 'perdêssemos', 'peregrinos', 'perfilho', 'perfumados', 'perfurando', 'pergunta-lhe', 'pergunta-me', 'perguntais', 'perguntar-me', 'perguntar-te', 'perguntar-vos', 'perguntaram-lhe', 'perguntaram-me', 'perguntaria', 'perguntaste', 'perguntei-lhes', 'perguntei-me', 'perguntemos', 'perguntou-lhe', 'perguntá-lo', 'perigosamente', 'perigosíssimo', 'periodicamente', 'perl', 'permaneceram', 'permanecermos', 'permaneci', 'permaneçam', 'permanência', 'permeado', 'permeia', 'permitam-me', 'permite-me', 'permitem-me', 'permites-me', 'permiti', 'permitidas', 'permitir-me', 'permitir-vos', 'permitirem', 'permitirão', 'permitis', 'permito', 'pernil', 'perplexa', 'perry', 'persegui', 'persegui-lo', 'perseguido', 'perseguiram', 'perseguição', 'perspectivas', 'perspetivas', 'persuade', 'pertence-me', 'pertencemos', 'pertencido', 'perth', 'pertinente', 'pertinho', 'perturba', 'perturbada', 'perturbamos', 'perturbe', 'perturbou', 'peruanos', 'perverso', 'períodos', 'pesadamente', 'pesam', 'pesando', 'pesar', 'pescador', 'pesco', 'pescoços', 'pescávamos', 'pese', 'pesei', 'pesou', 'pesquei', 'pesquisada', 'pesquisando', 'pesquise', 'pessegueiro', 'pessimamente', 'pessimistas', 'pestanejar', 'petersburgo', 'petrolífera', 'peça-lhes', 'peça-me', 'peço-lhe', 'peço-lhes', 'peçonhentas', 'peões', 'phoenix', 'pica', 'picareta', 'picassos', 'picchu', 'picle', 'picnic', 'piedosa', 'piedoso', 'pifou', 'pilotaria', 'pilotou', 'pimentões', 'pingava', 'pinguim', 'pinheiros', 'pintados', 'pintam', 'pintarão', 'pintasse', 'pintassilgo', 'pintos', 'pintá-lo', 'pináculo', 'pinças', 'pinóquio', 'pioneiro', 'piore', 'pique-esconde', 'piqueniques', 'piquete', 'pirar', 'pisado', 'pisaste', 'pisca', 'pisca-pisca', 'piscada', 'piscadela', 'pisoteada', 'pisque', 'pistácio', 'pitada', 'pitaia', 'pitt', 'pitus', 'pião', 'planar', 'planeado', 'planejamento', 'planejaste', 'planejastes', 'planeje', 'planejei', 'plantada', 'plantadas', 'plantado', 'plantam-se', 'planície', 'plumões', 'plymouth', 'plágio', 'plânctons', 'pneumotórax', 'pocilga', 'pode-me', 'podei', 'podereis', 'poderes', 'poderiamos', 'poderian', 'poderás', 'podias', 'polares', 'polegar', 'policia', 'polida', 'poligamia', 'poliomielite', 'politicamente', 'poliu', 'polonesas', 'poluída', 'poluídas', 'poluído', 'polígrafo', 'políticas', 'pombos-correio', 'pomos', 'ponderado', 'ponderar', 'ponham-na', 'ponham-no', 'ponho-me', 'ponteiros', 'pontilhada', 'pontuais', 'pontões', 'pooch', 'poodle', 'popularidade', 'populoso', 'populosos', 'porcento', 'porco-da-terra', 'pormenores', 'pormenorizadas', 'porquinhos-da-índia', 'porta-bagagem', 'porta-moedas', 'portar', 'portaria', 'portava', 'porteiro', 'portuguesa', 'portátil', 'porá', 'porção', 'porões', 'porăo', 'posar', 'posicionados', 'posicionar', 'positivos', 'posições', 'possais', 'possibilitou', 'possiblidade', 'possuir', 'possuirei', 'possuíamos', 'possuído', 'post', 'postagem', 'poster', 'postergou', 'posteriormente', 'posters', 'postos', 'potencialmente', 'potes', 'potter', 'potássio', 'poupa', 'poupado', 'pouparia', 'poupe', 'poupe-me', 'poupá-lo', 'pousada', 'pousam', 'pousando', 'pousará', 'poxa', 'poção', 'prado', 'pragas', 'praias', 'pranteá-lo', 'pranto', 'praque', 'pratas', 'prateadas', 'prateado', 'prateleiras', 'praticastes', 'praticava', 'pratique', 'pratiquemos', 'prazos', 'precipício', 'precisarmos', 'precisarás', 'precisasses', 'precises', 'precisásseis', 'preconceituosos', 'preenchê-lo', 'preferes', 'preferi', 'preferimos', 'preferirei', 'prefiro-o', 'prefácio', 'pregados', 'pregar', 'preguntas', 'prejudicada', 'prejudicado', 'prejudicando', 'prejudiciais', 'prejudicial', 'prejudicá-la', 'prejudicá-lo', 'prejulgar', 'prejuízos', 'prematura', 'premeditadamente', 'premeditado', 'premiram', 'premissa', 'premonição', 'premunir', 'prender-me', 'prender-se', 'preocupa-me', 'preocupadíssima', 'preocupadíssimo', 'preocupando-se', 'preocupares', 'preocupas', 'preocupasse', 'preocupe-se', 'preocupei-me', 'preocupá-lo', 'prepara', 'prepara-nos', 'preparam', 'preparando-se', 'preparar-lhe', 'preparar-me', 'preparar-se', 'prepararam', 'preparassem', 'preparações', 'preparo', 'preparou-nos', 'preposições', 'prepotente', 'prescreveu', 'prescrição', 'presenciei', 'presenciou', 'presentear', 'presidência', 'pressentindo', 'pressentiram', 'pressione-o', 'pressionei', 'pressioná-la', 'pressioná-las', 'pressioná-los', 'presságio', 'prestamos', 'prestarei', 'prestaria', 'prestasse', 'prestava', 'prestação', 'presteza', 'presume', 'presumem', 'presumindo', 'pretendiam', 'pretendido', 'pretensão', 'prevalecer', 'prevaleceu', 'prevaleça', 'prevendo', 'prevenia', 'prevenção', 'previ', 'prevista', 'previsões', 'primo-irmão', 'primogênita', 'primordial', 'primário', 'print', 'priorizá-los', 'prisioneiras', 'prius', 'privados', 'privativo', 'privação', 'privilégios', 'probabilidades', 'problemático', 'procela', 'processando', 'processual', 'procrastina', 'procrastinando', 'procrastinação', 'procurada', 'procurarei', 'procurarmos', 'procuras', 'procure-as', 'procurá-la', 'procurá-lo', 'procurámo-lo', 'procurássemos', 'produtores', 'produz-se', 'produzidas', 'produzimos', 'profecia', 'proficiência', 'profissionais', 'programei', 'programou', 'progredi', 'progredir', 'progressão', 'proibidas', 'proibidos', 'proibiram', 'proibído', 'projetando', 'projetei', 'projétil', 'prolongados', 'prolongar', 'prolongou', 'prolongou-se', 'prolífico', 'prometais', 'prometas', 'promete-lhes', 'prometera', 'prometerei', 'prometestes', 'prometeu-me', 'prometidos', 'promissora', 'promissores', 'promotor', 'promovida', 'promulgada', 'pronome', 'pronomes', 'pronunciada', 'pronunciará', 'pronunciou', 'pronúncias', 'propagar', 'propenso', 'propensos', 'propondo', 'proporcionará', 'proporcionou', 'proporção', 'proposição', 'propostas', 'propriamente', 'propuseram', 'prosperar', 'prosperou', 'prosseguir', 'protagonista', 'protege', 'proteger-me', 'protegerem', 'protegiam', 'protegida', 'protegido', 'protegê-lo-ei', 'protejam-se', 'protestante', 'protetores', 'protótipo', 'provador', 'provará', 'provaste', 'provação', 'prove-a', 'prove-o', 'provemos', 'prover', 'providenciamos', 'providenciarei', 'providencie', 'providenciem', 'providências', 'provisórias', 'provisões', 'provocada', 'provocação', 'provoquei', 'provérbios', 'prozac', 'proíbem', 'proíbidas', 'proíbo', 'prurido', 'práticos', 'pré-escola', 'pré-fabricadas', 'prémio', 'prévia', 'prêmio-nobel', 'pró-ativos', 'própio', 'prós', 'próstata', 'pseudomiopia', 'pseudônimo', 'psicológica', 'psicológico', 'psicóloga', 'psicólogos', 'psiquiátrica', 'psiquiátrico', 'publica', 'publicadas', 'publicamente', 'publicitária', 'pubs', 'pudesses', 'pudia', 'pugilista', 'pulam', 'pulamos', 'pulsando', 'pulsante', 'pulsação', 'puna', 'punham', 'puni-la', 'puni-las', 'puni-lo', 'puni-los', 'punida', 'punidos', 'punir-te', 'punir-vos', 'puniria', 'puniu', 'punk', 'purificada', 'purista', 'puritano', 'puseram-me', 'puxadas', 'puxados', 'puxaram', 'puxou-o', 'puxão', 'puído', 'python', 'pág.', 'pálpebras', 'pára', 'pântano', 'pêndulo', 'pêra', 'pêsames', 'pêssegos', 'pós', 'pós-graduação', 'pô', 'pô-lo', 'pôr-se', 'pôster', 'público-alvo', 'públicos', 'qeu', 'quacres', 'quadril', 'quadro-negro', 'quadros-negros', 'qualificada', 'qualificações', 'quarteirão', 'quebra-nozes', 'quebradiço', 'quebrando', 'quebraria', 'quebrem', 'quebro', 'quebrou-o', 'quedinha', 'queima-roupa', 'queimaria', 'queimação', 'queimei-as', 'queimei-os', 'queimá-la', 'queimá-lo', 'queixaram', 'queixe', 'quendô', 'quentinha', 'queques', 'querem-se', 'quererem', 'quereria', 'quereríamos', 'quero-o', 'quero-te', 'questionado', 'questionando', 'questionaram', 'questiono', 'questiono-me', 'questionário', 'questionável', 'qui', 'quiabo', 'quicar', 'quicou', 'quilogramas', 'quintas', 'quintas-feiras', 'quiséssemos', 'quitou', 'quiçá', 'químicos', 'r$', 'rabat', 'rabino', 'rabiscando', 'racha', 'rachados', 'racham', 'rachamos', 'raciais', 'racial', 'racionou', 'racistas', 'rack', 'radar', 'radicular', 'radioativa', 'radioativo', 'radiografia', 'radiologista', 'raiar', 'raio-x', 'raivoso', 'ramal', 'rampa', 'range', 'rangeu', 'ranzinza', 'rap', 'rapazinho', 'rapina', 'rapto', 'rasgada', 'rasgado', 'rasgados', 'rasgo', 'rasgue', 'rastejou', 'rastelar', 'rastelo', 'rastos', 'rastreamento', 'ratazana', 'raticida', 'rato-doméstico', 'raça', 'raíz', 'raízes', 'raúl', 'rcp', 'reaberto', 'reabilitação', 'reagan', 'reagiram', 'reajo', 'realiza', 'realizamos', 'realizando', 'realizaremos', 'realizariam', 'realizarmos', 'realizarão', 'realizasse', 'realização', 'realizá-lo', 'realça', 'realçava', 'realístico', 'reapareceu', 'reavivar', 'rebaixado', 'rebaixar', 'rebaixaram', 'rebanho', 'rebarbas', 'rebatedor', 'rebeldemente', 'rebelou-se', 'rebobinou', 'rebocar', 'reboque', 'rebuliço', 'recados', 'recapitular', 'recapturado', 'recapturados', 'recarregar', 'recarregue', 'recarregável', 'recebamos', 'receberem', 'recebíamos', 'recepcionista', 'recheada', 'rechonchudo', 'recibos', 'recicla', 'reciclado', 'reciclam', 'reciclável', 'recife', 'recinto', 'recital', 'reclamador', 'reclamaria', 'reclamará', 'reclamei', 'reclamem', 'reclamo', 'reclusos', 'recolha', 'recolhem', 'recolhendo', 'recolher', 'recoloquei', 'recomece', 'recomendada', 'recomendam', 'recomendaram', 'recomendou-lhe', 'recomeçarão', 'recomeçou', 'recompensadas', 'recompensados', 'recompensar', 'recompensei', 'recompensá-la', 'recompensá-lo', 'recomponha', 'recomponha-se', 'recondicionado', 'reconheceram', 'reconhecerá', 'reconhecida', 'reconhecidos', 'reconheçam', 'reconquistá-la', 'reconsiderasse', 'recordar', 'recordas', 'recordações', 'recorrerá', 'recostou-se', 'recreio', 'recruta', 'recrutando', 'recua', 'recuaria', 'recue', 'recuou', 'recupera', 'recuperadas', 'recuperado', 'recuperasse', 'recuperá-lo', 'recusará', 'recuso-me', 'recém-casados', 'recém-chegado', 'recém-saído', 'recíproca', 'redescobrir', 'redondeza', 'redondo', 'reduz', 'reduzem', 'reduzida', 'reduzido', 'reduzires', 'reduziria', 'reduzirá', 'reembolsada', 'reembolsável', 'reencheu', 'reencontrar', 'refaçamo-la', 'refaçamo-lo', 'refere', 'referem', 'referi-me', 'referias', 'referiu', 'refira-se', 'refletem', 'refletia-se', 'refletido', 'refletiu', 'reflexos', 'reflita', 'reflitam', 'reformei', 'reformo-me', 'reforçado', 'refresca', 'refresque', 'refrigeradores', 'refrão', 'refugiados', 'refugiar-se', 'refutar', 'refutou', 'regadas', 'regado', 'regalias', 'regamos', 'regasse', 'regional', 'registradas', 'registrado', 'registradora', 'registrados', 'registrar-se', 'registro', 'regozijavam', 'regressar', 'regressará', 'reguei', 'regulados', 'regulagem', 'reinando', 'reinstalou', 'relacionada', 'relaciono-me', 'relatividade', 'relativos', 'relato', 'relatos', 'relatou', 'relaxemos', 'relembrando', 'relembrou', 'relendo', 'reles', 'releu', 'relevantes', 'religou', 'reluz', 'reluzente', 'relva', 'relê', 'remar', 'reme', 'remediar', 'remedias', 'remem', 'remington', 'remix', 'remixada', 'remos', 'remota', 'remotos', 'remove', 'removendo', 'removeram', 'removi', 'removidas', 'removíveis', 'rena', 'renal', 'renas', 'renascentista', 'rende', 'render-se', 'renderam', 'rendeu-se', 'rendi', 'renomado', 'renome', 'renomeado', 'renovou', 'renováveis', 'renovável', 'renunciei', 'reorganizaram', 'repara', 'reparada', 'reparando', 'repararei', 'repare', 'repartam', 'repartamos', 'repassar', 'repasso', 'repele', 'repelente', 'repentino', 'repeti-la', 'repetida', 'repetidamente', 'repetidas', 'repetirmos', 'repetitivo', 'repetitivos', 'repintada', 'repintar', 'repinte', 'repintou', 'repisar', 'repita-o', 'repolho', 'reportagem', 'reportou', 'representados', 'representaria', 'representativo', 'representava', 'representei', 'representou', 'reprodutor', 'reprovada', 'reprovar', 'reprovou', 'repugnam-me', 'repugnância', 'requerem', 'requisitos', 'reservadas', 'reservaram', 'reservatório', 'resgatadas', 'resgatarão', 'resgatei', 'residir', 'residência', 'resignada', 'resilientes', 'resistiremos', 'resmungando', 'resmungos', 'resmungue', 'resmunguei', 'resolvam', 'resolvamos', 'resolveram', 'resolveriam', 'resolvesse', 'resolveu-se', 'resolvida', 'resolvo', 'respectivos', 'respeite-se', 'respeitei', 'respeitem', 'respeitosa', 'respeitosas', 'respeitoso', 'respeitosos', 'respeitou', 'respiram', 'respiratórios', 'respirei', 'respondas', 'responde-me', 'responder-me', 'respondesse', 'respondeste', 'respondeu-se', 'respondida', 'responsa', 'responsabilizarei', 'resseca', 'ressecada', 'ressentido', 'ressuscitar', 'restabelecer', 'restando', 'restaurada', 'restavam', 'restituí', 'restos', 'restringe', 'resultaram', 'resultou', 'resume', 'resumindo', 'resíduos', 'retardado', 'retardavam', 'retas', 'reter', 'retido', 'retirado', 'retirados', 'retiramos', 'retirei', 'retirou-se', 'retirá-los', 'retocar', 'retomada', 'retornam', 'retornaram', 'retornaremos', 'retornaria', 'retornarão', 'retornem', 'retornemos', 'retrasada', 'retrasado', 'retratista', 'retribui', 'retribuir', 'retrocesso', 'retroiluminado', 'retruca', 'retrógrada', 'retrógrado', 'retumbante', 'retóricas', 'reuni', 'reunidos', 'reunimos', 'reunindo', 'reuniram', 'reunirmos', 'reutilizáveis', 'reveladores', 'revelaste', 'revelastes', 'reverter', 'reverência', 'revezando', 'revezar', 'revezaram', 'revida', 'revirando', 'reviravoltas', 'revirou', 'revisada', 'revisasse', 'revisor', 'revisora', 'revistaram', 'revistem', 'revistou', 'reviu', 'revoltante', 'revolucionário', 'revoluções', 'revê', 'revês', 'reza', 'rezaram', 'rezas', 'rezava', 'reúne', 'ridge', 'ridiculariza', 'ridicularizado', 'ridicularizando', 'rido', 'rifles', 'rigidamente', 'rigorosas', 'rija', 'rinocerontes', 'rins', 'rio-me', 'rirem', 'riria', 'rirão', 'risadinhas', 'riscado', 'risonho', 'risquem', 'risível', 'riu-se', 'rixa', 'roa', 'robalo', 'robert', 'robusto', 'robustos', 'rochas', 'rochedo', 'rodando', 'rodeado', 'rodeia', 'rodeio', 'rodeios', 'rodinhas', 'rodovias', 'rodoviária', 'rodízio', 'roflex', 'rokko', 'rolamento', 'rolantes', 'rolar', 'rolling', 'romanas', 'romenos', 'rompendo', 'romperam', 'românticos', 'roménia', 'romênia', 'roncarmos', 'rosbife', 'roseira', 'roseiras', 'roseta', 'rotatória', 'roteiros', 'rotunda', 'roubaram-te', 'roubava', 'roubem', 'roubá-lo', 'rouca', 'roucos', 'roupeiros', 'roupão', 'rouxinol', 'rover', 'roxas', 'roxos', 'rubi', 'rubricou', 'rudemente', 'rugby', 'rugem', 'rugiam', 'rugido', 'rugir', 'rugiu', 'ruiu', 'ruiva', 'ruivinha', 'ruivo', 'ruma', 'rumamos', 'rush', 'russos', 'ruídos', 'rádios', 'rãs', 'ré', 'rédea', 'réplica', 'réu', 'ríamos', 'rói', 's', 'saara', 'saberdes', 'saberes', 'sabermos', 'saberás', 'saberíamos', 'sabiamos', 'saborear', 'sabores', 'saborosas', 'sabotaram', 'sabões', 'sacanagem', 'sacrificado', 'sacrifiquei', 'sacudida', 'safra', 'safras', 'sagrada', 'sagrado', 'saibais', 'saibamos', 'saibar', 'saint', 'sair-me', 'sairam', 'sairei', 'saiu-se', 'sakiamuni', 'salame', 'salgar', 'salgou', 'salguei', 'salgueiro-chorão', 'salomão', 'salsa', 'salsicha', 'salso-chorão', 'salsão', 'saltaram', 'saltos', 'salvado', 'salvando', 'salvas', 'salvaste', 'salvação', 'salve-se', 'salvou-a', 'salvou-me', 'salvá-los', 'samba', 'samurais', 'sandália', 'sangram', 'sangramentos', 'sangrava', 'sangravam', 'sanitária', 'sanitárias', 'sanitários', 'santas', 'santo', 'sapatea', 'sapatear', 'saquearam', 'saquei', 'saracura', 'sarcásticas', 'sargento', 'sarilhos', 'sashimi', 'satisfatoriamente', 'satisfazemos', 'satisfazê-la', 'saudaram', 'saudita', 'sazonais', 'saíamos', 'saídas', 'saíram-se', 'saíres', 'scanner', 'schleswig-holstein', 'secará', 'secos', 'secretas', 'secretárias', 'sedaram', 'sedativo', 'sediou', 'seduzir', 'segredinho', 'segredou', 'segue-o', 'seguia', 'seguidor', 'seguir-lhe', 'seguirá', 'seguisse', 'seguiu-se', 'segunda-feria', 'segundinho', 'seguramente', 'segurá-la', 'seguíamos', 'seiscentos', 'seita', 'sela', 'selecionado', 'seletivos', 'seleção', 'selou', 'semeando', 'semelhanças', 'semiabertas', 'semiabertos', 'semicerra', 'semifinais', 'seminu', 'senado', 'senador', 'senhas', 'sensata', 'sensatas', 'sensitive', 'sensitivo', 'senta-se', 'sentai-vos', 'sentam-se', 'sentarei', 'sentares-te', 'sentaria', 'sentavam', 'sentemos', 'sentenciou', 'sentes-te', 'senti-la', 'senti-lo', 'sentia-me', 'sentimental', 'sentindo-me', 'sentir-me', 'sentir-se', 'sentirem', 'sentirias', 'sentirão', 'sentiríeis', 'sentis', 'sentiste', 'sentistes', 'sentámos', 'sentíamos', 'separa', 'separada', 'separamo-nos', 'separando', 'separaram-se', 'sepultado', 'sequestradores', 'sereias', 'serenidade', 'sereno', 'seriado', 'seringa', 'sermões', 'serralheiro', 'serrar', 'serraria', 'serrilhada', 'serve-te', 'servi', 'servi-la', 'servida', 'servidores', 'servidos', 'servimos', 'servir-vos', 'serviram', 'serviria', 'serviu-se', 'servo', 'sesta', 'sete-estrelo', 'setecentos', 'setor', 'sexualmente', 'seção', 'sfx', 'shakes', 'shangai', 'shanghai', 'shichi-go-san', 'shigeo', 'shiloh', 'shinano', 'shintaro', 'shoppings', 'short', 'shorts', 'showa', 'siameses', 'sidra', 'siga-nos', 'siga-o', 'sigam-me', 'sigam-nos', 'sigilo', 'significados', 'significativas', 'silenciosos', 'silício', 'simboliza', 'similaridades', 'simpatizamos', 'simpatizaram', 'simpatizou', 'simplório', 'simétrico', 'sinagoga', 'sinatra', 'sinceros', 'sincronizemos', 'sinfonias', 'singrar', 'sinistro', 'sino-americano', 'sino-japonês', 'sintais', 'sintas', 'sintética', 'sintéticas', 'sintéticos', 'sinusite', 'sirene', 'sirius', 'sirvam-se', 'sismo', 'sismóloga', 'sismólogo', 'sistemas', 'sitiou', 'skates', 'skatista', 'skeleton', 'ski', 'skype', 'smartfone', 'sms', 'snow', 'snowboard', 'soando', 'sobrepeso', 'sobrepuja', 'sobrevivem', 'sobrevivermos', 'sobreviverão', 'sobriedade', 'soca', 'sociologia', 'sociológico', 'sociáveis', 'sociólogo', 'socorrer', 'socorreu', 'socorrê-la', 'soda', 'sofisticadas', 'sofrem', 'sofresse', 'sofro', 'softwares', 'solas', 'soletrado', 'soletração', 'soletre', 'solicitada', 'solicitamos', 'solicitar', 'solicitaram', 'solicitou', 'solida', 'solidariedade', 'solidificou-se', 'solstício', 'soltam', 'soltasse', 'solte-me', 'soltem', 'soltes', 'soltos', 'soltá-la', 'soluciona', 'solucionei', 'sombria', 'sombrias', 'sombrio', 'sonata', 'sone', 'sonharei', 'sonhaste', 'sonolenta', 'sonora', 'sons', 'sonâmbulo', 'soprar', 'soprava', 'soprem', 'sopro', 'soquei', 'sorriam', 'sorrias', 'sorridente', 'sorrimos', 'sorrio', 'sorrisos', 'sorrisão', 'sortidos', 'soslaio', 'sossegado', 'sossego', 'soterrado', 'soubesses', 'soviética', 'spray', 'squaw', 'ssh', 'station', 'step', 'stephen', 'stones', 'stress', 'suada', 'suado', 'suam', 'suaram', 'suava', 'suave', 'suavemente', 'subam', 'subas', 'subestima', 'subestimado', 'subestimamos', 'subestimar', 'subestimei', 'subestimeis', 'subestimou', 'subia', 'subiremos', 'subirão', 'subjetiva', 'sublinhada', 'submetendo', 'submeter', 'submeteu', 'submetido', 'subnutridas', 'subo', 'suborne', 'subornos', 'substancialmente', 'substantivos', 'substitua', 'substitui', 'substituta', 'substituí-la', 'substituída', 'substituídos', 'substância', 'subsídio', 'subterrâneas', 'subúrbio', 'sucata', 'sucede', 'sucederam', 'sucedeu', 'sucedida', 'sucedidos', 'suculento', 'sudoeste', 'suficente', 'sufocando', 'sufocante', 'sufocar', 'sugerido', 'suicida', 'suicidado', 'sujeira', 'sujeita', 'sulista', 'sulistas', 'sumam', 'sumatra', 'sumir', 'suo', 'super-homem', 'supera', 'superado', 'superaquecendo', 'superaram', 'superação', 'superbém', 'supere', 'superei', 'superestimada', 'superestimei', 'superioridade', 'superlotada', 'superlotadas', 'superlotado', 'superprotetora', 'superqualificado', 'superstar', 'supersticiosas', 'superstição', 'supervisiona', 'supervisionando', 'supervisionar', 'supervisiono', 'supervisão', 'superá-lo', 'suplementos', 'suplico-lhe', 'supomos', 'suponhamos', 'suportam', 'suportável', 'supram', 'supremo', 'supérfluo', 'supôs', 'supõem', 'surdas', 'surdina', 'surfou', 'surgindo', 'surgiu-lhe', 'surpreender-se-ão', 'surpreenderia', 'surpreendeu-me', 'surpreendida', 'surpreendê-lo', 'surra', 'surreal', 'surrupiei', 'surtirão', 'suscetíveis', 'suscetível', 'suspeitais', 'suspeitava-se', 'suspender', 'suspensas', 'suspensórios', 'sussurrando', 'sussurrou-lhe', 'sussurrou-me', 'sustenta', 'sutil', 'suv', 'suéteres', 'sérvia', 'sétima', 'símile', 'sírio', 'sítios', 'sócia', 'sócio', 'sócios', 'sólidas', 'súbito', 'tabagismo', 'tabelas', 'tacada', 'tacos', 'tagarelas', 'taipan', 'taiti', 'taiuã', 'talat', 'talho', 'talão', 'tamanduá', 'tamanha', 'tamanhos', 'tampe', 'tange', 'tangerina', 'tanzânia', 'tapa-olho', 'tapar', 'tapinha', 'tapou', 'tapume', 'tapámos', 'taquigrafia', 'tarda', 'tardarão', 'tardezinha', 'tardia', 'tardinha', 'tasmânia', 'tataravó', 'tato', 'tatoeba.org', 'tatuada', 'tatuado', 'tatuar-se', 'tatuou', 'tauriano', 'taurino', 'taxistas', 'taxímetro', 'tchaikovsky', 'tcheca', 'tdah', 'tecelagem', 'tecendo', 'teclados', 'tecnologias', 'teias', 'teimosamente', 'teimosas', 'teimosos', 'telecomunicações', 'telefonarei', 'telefonasse', 'telefonem', 'telefono', 'telefónica', 'telepáticas', 'televisionado', 'telha', 'telhas', 'telégrafo', 'tememos', 'temerosos', 'temiam', 'temido', 'teminou', 'temperado', 'temperaturas', 'temperei', 'tempestuosa', 'temporariamente', 'temporizador', 'temporária', 'temporários', 'tenaz', 'tencionais', 'tencionou', 'tendiam', 'tendências', 'tenebroso', 'tenente', 'tenor', 'tenta-o', 'tentador', 'tentadora', 'tentanto', 'tentarem', 'tentarmos', 'tentá-lo', 'teoricamente', 'ter-lhe', 'ter-to-ia', 'terapia', 'teres', 'termais', 'termal', 'terminaremos', 'terminarão', 'terminastes', 'terminem', 'terminá-la', 'termómetro', 'ternos', 'terreiro', 'terrestre', 'territoriais', 'terriveis', 'terrorismo', 'terrorista', 'tesoureiro', 'testadas', 'testarei', 'testemunhasse', 'testemunhos', 'testou', 'tetos', 'teórica', 'thumper', 'tifóide', 'tigre-dente-de-sabre', 'tim', 'timing', 'tingindo', 'tinhamos', 'tinjo', 'tintas', 'tique-taque', 'tirares', 'tiraste', 'tirastes', 'tirava', 'tirem-me', 'tirem-na', 'tiremos', 'tires', 'tiroteios', 'titicaca', 'titã', 'tiveres', 'tivésseis', 'to', 'tocada', 'tocante', 'tocarem', 'tocará', 'tocavam', 'tocá-los', 'todavia', 'todinho', 'toilet', 'tolamente', 'toldo', 'tolera', 'tolerarei', 'tolero', 'tolerou', 'tomadas', 'tomai', 'tomarem', 'tomaria', 'tomei-a', 'tomes', 'tomou-lhe', 'tomá-lo', 'tomávamos', 'tomé', 'tontas', 'tonteira', 'top', 'toras', 'torce', 'torceram', 'torcida', 'tormenta', 'torna-se', 'tornados', 'tornarem', 'tornaria', 'tornas', 'tornem', 'torniquete', 'tornozelos', 'torná-la', 'torpedeou', 'torpedo', 'torra', 'torrou', 'torturando', 'torturante', 'torturar', 'torturaram', 'toró', 'tosar', 'tossida', 'tostão', 'totais', 'toudaiji', 'tour', 'tourada', 'towada', 'toyota', 'trabalharemos', 'trabalharmos', 'trabalhará', 'trabalhastes', 'trabalhem', 'trabalhemos', 'trabalhoso', 'trabalhávamos', 'trace', 'tradutores', 'traduzem', 'traduzia', 'traduzida', 'traduzidas', 'traduzirei', 'traduziria', 'traem', 'traficando', 'traga-os', 'tragam-me', 'tragam-no', 'traindo', 'trajava', 'tramar', 'tranca-se', 'trancados', 'trancamos', 'trancaram', 'trancaria', 'trancará', 'trancassem', 'tranques', 'tranquilas', 'tranquilidade', 'tranquilizador', 'tranquilizante', 'trans', 'transborda', 'transbordando', 'transbordar', 'transbordava', 'transbordo', 'transcorrer', 'transcorreu', 'transcorria', 'transcorrido', 'transe', 'transferida', 'transferidas', 'transferência', 'transformada', 'transformam', 'transformamos', 'transgredindo', 'transilvânia', 'translúcida', 'translúcido', 'transmissões', 'transmita', 'transmitem', 'transmitidos', 'transpira', 'transpirando', 'transplantes', 'transportado', 'transportar', 'transportes', 'transtornado', 'transversalmente', 'trapaceasse', 'trapaceava', 'trapaceiro', 'trareis', 'traremos', 'traria', 'trarás', 'trarão', 'traseiro', 'trastes', 'trata-me', 'tratamentos', 'tratamos', 'trataria', 'tratará', 'tratavam', 'tratei', 'tratei-a', 'trates', 'tratores', 'tratos', 'tratá-lo', 'traumas', 'traumatizado', 'traumática', 'trava-língua', 'travados', 'travagem', 'travaram', 'travessura', 'trazemos', 'trazer-lhe', 'trazer-te', 'trazes', 'trazia', 'trazidas', 'trazidos', 'trazê-lo', 'trazê-los', 'traço', 'traços', 'traçou', 'traíam', 'traída', 'treinos', 'tremem', 'tremeram', 'trepei', 'trezentas', 'tribos', 'tributários', 'tricota', 'tricoto', 'trilho', 'trinca', 'trinchar', 'trinco', 'triplicou', 'trisavô', 'triturou', 'triunfará', 'trivial', 'triz', 'triátlon', 'trocamos', 'trombas', 'trombeta', 'troteou', 'trouxe-lhe', 'trouxe-me', 'trouxe-nos', 'trouxessem', 'trovejando', 'trovejou', 'troça', 'troças', 'trêm', 'trópicos', 'trôpego', 'tsunamis', 'tubos', 'tumor', 'tumultos', 'turbulência', 'turca', 'turco', 'turcos', 'turner', 'turnos', 'turva', 'turísticos', 'tusso', 'tática', 'tâmisa', 'térmicas', 'tétano', 'tê-lo-ei', 'tê-lo-ia', 'tênue', 'típicos', 'tóxicas', 'uivos', 'ukulele', 'ulaanbaatar', 'ultima', 'ultrapassada', 'ultrapasse', 'ultrapassei', 'ultravioletas', 'umbigo', 'umidade', 'una', 'unanimidade', 'unem-se', 'unha', 'unicamente', 'unicelular', 'unido', 'unir-se', 'uniram', 'uniria', 'upou', 'urbanas', 'urgentes', 'ursa', 'ursinho', 'urss', 'urânio', 'usarmos', 'usassem', 'usaste', 'use-o', 'useis', 'usualmente', 'usufruir', 'usuários', 'usá-los', 'utah', 'uti', 'utilizado', 'utilizar-se', 'utilizarmos', 'utilizas', 'utilização', 'utilize', 'utilizei', 'utilizemos', 'utilizo', 'utilíssimo', 'v.', 'vacinada', 'vacinadas', 'vacinados', 'vacinar', 'vacinação', 'vadiar', 'vagamente', 'vagamos', 'vagarosa', 'vagarosamente', 'vagos', 'vagou', 'vagão-leito', 'vai-me', 'vai-te', 'vaiado', 'vaidoso', 'vaivém', 'valendo', 'valentes', 'valentia', 'valentão', 'valeria', 'valia', 'valido', 'valiosos', 'valley', 'valoriza', 'valorizado', 'valorizam', 'valorizava', 'valorize', 'valorosa', 'vampiro', 'vangloria', 'vantajoso', 'vantou', 'vaporiza', 'vaqueiro', 'varapau', 'varei', 'variantes', 'variáveis', 'varresse', 'varsóvia', 'vasculhar', 'vasculhei', 'vasta', 'veado', 'veados', 'vegetação', 'veio-me', 'veios', 'vejo-te', 'veleiro', 'velejamos', 'velharia', 'velhinho', 'velhote', 'velocidades', 'velocímetro', 'velozmente', 'venceríamos', 'vencê-lo', 'vencê-los', 'vendados', 'venderá', 'vendi-o', 'vendia', 'vendo-as', 'vendê-lo-ei', 'venenos', 'venezuela', 'ventar', 'ventilasse', 'ventoinha', 'ventoso', 'ventosos', 'ventou', 'ventral', 'ventura', 'vençam', 'veracidade', 'verbalizar', 'verde-escuras', 'verdura', 'veredicto', 'veredito', 'vergonhosa', 'vergou', 'veriam', 'verificada', 'verificado', 'verificando', 'verificarei', 'verificará', 'verossímil', 'versado', 'verso', 'versos', 'versões', 'vertebral', 'verticais', 'vestem-se', 'vestes', 'vestirei', 'vestisse', 'vestuário', 'vestíbulo', 'vestígios', 'vetaram', 'veteranos', 'veterinários', 'vetou', 'vi-os', 'viabilidade', 'viajante', 'viajarei', 'viajava', 'viaje', 'vias', 'vibraram', 'vibração', 'vice-versa', 'viciou', 'vicksburg', 'videocassete', 'videoclipe', 'vidrados', 'viela', 'viera', 'vietnã', 'vigarice', 'vigiam', 'vigiante', 'vigilante', 'vigoroso', 'vigário', 'vikings', 'vilarejos', 'vilão', 'vime', 'vimo-nos', 'vinagre', 'vinci', 'vinco', 'vincular', 'vindes', 'vindoura', 'vingou', 'vinham', 'violado', 'violando', 'violar', 'violaram', 'violonista', 'vira-lata', 'viracopos', 'viram-no', 'viramos', 'vire-o', 'virgem', 'viro', 'visam', 'visibilidade', 'visionário', 'visitada', 'visitais', 'visitam-nos', 'visitar-me', 'visitarmos', 'visitarão', 'visitasse', 'visitava-me', 'visite-nos', 'visitem', 'visitemos', 'visitá-los', 'vislumbra', 'vison', 'vista-a', 'vistam', 'visualizar', 'vita', 'vitalidade', 'vitrina', 'viu-o', 'vivam', 'viveremos', 'viveria', 'vivê-la', 'vizinhas', 'viário', 'viés', 'voamos', 'voaria', 'voará', 'voaste', 'voastes', 'voava', 'vocação', 'vocé', 'volei', 'voltada', 'voltariam', 'voltassem', 'voluntárias', 'vomitando', 'votam', 'votamos', 'votaria', 'votação', 'vozinha', 'voê', 'vu', 'vá-se', 'vândalo', 'véu', 'vícios', 'vísseis', 'víssemos', 'vó', 'vólei', 'wada', 'waffles', 'waikiki', 'wall', 'washingon', 'wat', 'waterloo', 'website', 'white', 'wifi', 'wikipédia', 'willian', 'worth', 'wow', 'wright', 'x', 'x.', 'xale', 'xelins', 'xereta', 'xilofone', 'xinga', 'xingando', 'xinguei', 'xv', 'xvi', 'xxi', 'yens', 'yiddish', 'yokohama', 'yukawa', 'zanga', 'zanga-se', 'zangue', 'zappa', 'zarpar', 'zelosamente', 'zeloso', 'zeros', 'zezo', 'zhengzhou', 'ziguezague', 'zoada', 'zoei', 'zombado', 'zombais', 'zombas', 'zombavam', 'zombei', 'zoneada', 'zugspitze', 'zulu', 'zumbi', 'zumbis', 'zunido', 'zé', 'zé-ninguém', 'ácida', 'ácido', 'águe', 'álbuns', 'átrio', 'âmago', 'âncoras', 'ébrio', 'éreis', 'ídolo', 'ímpar', 'índico', 'índio', 'índole', 'ó', 'óbvios', 'ópio', 'órbitas', 'órfãos', 'órfãs', 'órion', 'ós', 'óvnis', 'ô', 'úmidos', 'аcho', '\\u200b\\u200bpelo', '\\u200b\\u200bpor', '–', '€']\n"
          ]
        }
      ],
      "source": [
        "print(en_vocab.itos)\n",
        "print(por_vocab.itos)"
      ]
    },
    {
      "cell_type": "code",
      "execution_count": null,
      "metadata": {
        "colab": {
          "base_uri": "https://localhost:8080/"
        },
        "id": "mfeFc3Dttj7U",
        "outputId": "0137f871-8593-4081-c438-68d78d48e4b2"
      },
      "outputs": [
        {
          "output_type": "stream",
          "name": "stdout",
          "text": [
            "Input tensor: tensor([ 2, 47,  4,  3])\n",
            "Target tensor: tensor([ 2, 48,  4,  3])\n"
          ]
        }
      ],
      "source": [
        "# Установка переменных для токенайзеров и словарей\n",
        "inp_tokenizer = en_tokenizer  # Токенайзер для английского языка\n",
        "trg_tokenizer = por_tokenizer  # Токенайзер для португальского языка\n",
        "\n",
        "inp_vocab = en_vocab\n",
        "trg_vocab = por_vocab\n",
        "\n",
        "# Индексы специальных токенов\n",
        "PAD_INDEX = inp_vocab['<pad>']\n",
        "BOS_INDEX = inp_vocab['<bos>']\n",
        "EOS_INDEX = inp_vocab['<eos>']\n",
        "\n",
        "index_to_word_inp = index_to_word_en\n",
        "index_to_word_trg = index_to_word_por\n",
        "\n",
        "# Функция для кодирования текста в индексы\n",
        "def encode(text, tokenizer, vocab):\n",
        "    tokens = [vocab[token] if token in vocab.stoi else vocab['<unk>'] for token in tokenizer(text)]\n",
        "    return torch.tensor([vocab['<bos>']] + tokens + [vocab['<eos>']])\n",
        "\n",
        "# Функция для декодирования индексов обратно в текст\n",
        "def decode(tokens, vocab):\n",
        "    return ' '.join([vocab.itos[token] if token < len(vocab.itos) else '<unk>' for token in tokens])\n",
        "\n",
        "# Функция для преобразования пары предложений в тензоры\n",
        "def tensors_from_pair(pair):\n",
        "    input_tensor = encode(pair[0], inp_tokenizer, inp_vocab)\n",
        "    target_tensor = encode(pair[1], trg_tokenizer, trg_vocab)\n",
        "\n",
        "    # Используем clone().detach() и указываем тип тензора\n",
        "    input_tensor = input_tensor.clone().detach().long()\n",
        "    target_tensor = target_tensor.clone().detach().long()\n",
        "\n",
        "    return input_tensor, target_tensor\n",
        "\n",
        "# Пример использования\n",
        "example_pair = ('go.', 'vai.')  # Пример пары предложений\n",
        "input_tensor, target_tensor = tensors_from_pair(example_pair)\n",
        "\n",
        "print(f\"Input tensor: {input_tensor}\")\n",
        "print(f\"Target tensor: {target_tensor}\")"
      ]
    },
    {
      "cell_type": "code",
      "execution_count": null,
      "metadata": {
        "colab": {
          "base_uri": "https://localhost:8080/"
        },
        "collapsed": true,
        "id": "bqX8kJYWeEyz",
        "outputId": "11bdfd90-c374-40fc-d401-58a48b737687"
      },
      "outputs": [
        {
          "output_type": "stream",
          "name": "stdout",
          "text": [
            "Encoded Source: tensor([ 2, 47,  4,  3])\n",
            "Encoded Target: tensor([ 2, 48,  4,  3])\n",
            "Decoded Source: <bos> go . <eos>\n",
            "Decoded Target: <bos> vai . <eos>\n",
            "----------------------------------------\n",
            "Encoded Source: tensor([ 2, 47,  4,  3])\n",
            "Encoded Target: tensor([  2, 330,   4,   3])\n",
            "Decoded Source: <bos> go . <eos>\n",
            "Decoded Target: <bos> vá . <eos>\n",
            "----------------------------------------\n",
            "Encoded Source: tensor([   2, 2191,    4,    3])\n",
            "Encoded Target: tensor([   2, 2246,    4,    3])\n",
            "Decoded Source: <bos> hi . <eos>\n",
            "Decoded Target: <bos> oi . <eos>\n",
            "----------------------------------------\n",
            "Encoded Source: tensor([  2, 473, 157,   3])\n",
            "Encoded Target: tensor([   2, 1748,   91,    3])\n",
            "Decoded Source: <bos> run ! <eos>\n",
            "Decoded Target: <bos> corre ! <eos>\n",
            "----------------------------------------\n",
            "Encoded Source: tensor([  2, 473, 157,   3])\n",
            "Encoded Target: tensor([   2, 2922,   91,    3])\n",
            "Decoded Source: <bos> run ! <eos>\n",
            "Decoded Target: <bos> corra ! <eos>\n",
            "----------------------------------------\n",
            "Index of \"go\" in inp_vocab: 47\n",
            "Index of \"vai\" in trg_vocab: 48\n"
          ]
        }
      ],
      "source": [
        "# Пример работы токенизаторов и словарей\n",
        "for src, trg in pairs[:5]:  # Первые 5 пар\n",
        "    # Кодирование\n",
        "    encoded_src = encode(src, inp_tokenizer, inp_vocab)\n",
        "    encoded_trg = encode(trg, trg_tokenizer, trg_vocab)\n",
        "\n",
        "    print(\"Encoded Source:\", encoded_src)\n",
        "    print(\"Encoded Target:\", encoded_trg)\n",
        "\n",
        "    # Декодирование обратно в текст\n",
        "    decoded_src = decode(encoded_src, inp_vocab)\n",
        "    decoded_trg = decode(encoded_trg, trg_vocab)\n",
        "\n",
        "    print(\"Decoded Source:\", decoded_src)\n",
        "    print(\"Decoded Target:\", decoded_trg)\n",
        "    print('-' * 40)\n",
        "\n",
        "# Проверка наличия конкретных слов в словарях\n",
        "print('Index of \"go\" in inp_vocab:', inp_vocab.stoi.get('go', '<not found>'))\n",
        "print('Index of \"vai\" in trg_vocab:', trg_vocab.stoi.get('vai', '<not found>'))"
      ]
    },
    {
      "cell_type": "markdown",
      "metadata": {
        "id": "S-mPWq6I_Kw0"
      },
      "source": [
        "## Проверка сбалансированности данных"
      ]
    },
    {
      "cell_type": "markdown",
      "metadata": {
        "id": "P4qF07ESCeUQ"
      },
      "source": [
        "Проверка длины предложений"
      ]
    },
    {
      "cell_type": "code",
      "execution_count": null,
      "metadata": {
        "id": "LRG91CdpnqUi",
        "colab": {
          "base_uri": "https://localhost:8080/",
          "height": 116,
          "referenced_widgets": [
            "93fd75db5f5d4a5ca82cd0ede043c1f8",
            "2dc5fc680c434678a597775de172d04c",
            "aafb45d409c24578b911f28a20109065",
            "754176f68fc94d829d318b7a44a18bc0",
            "434756f2c018446180f64100d30bab1b",
            "c2ec29b81e5d4cd7ad4515778ffff783",
            "3c77c1852fc048d3893f68e317bd06fd",
            "e639f2d3852e4db8894732da3fc76312",
            "12d35ac2d78f4fd4b322b695c809720c",
            "cea0589097184691b9fc72af9a18e2fc",
            "e77e9cda169048b9aeca6a0335ff524f",
            "0b5cd6bddb104a80ae1d1e0fb79afea8",
            "8142453e6efa489c8441b8fd9f624f2a",
            "6d6a4bab08d1427099b68eceb78af871",
            "e83a12c38f374bf283479d3c4f4470df",
            "68c6e9d38d4e49bf8eed9b1c415f9899",
            "1cc68c4ca1534b83a33a87b7a486f403",
            "82f9f94120dd43e49085cbadf0db7b5a",
            "ff6fa70a2b4944bb9557bdbbf3fc6a8c",
            "198fddcfdec64303a3c85b535b95dcce",
            "863ebb059ae2462b96bd4f50e8600f39",
            "9cc72741a0e84a47bd537017d0218eb2"
          ]
        },
        "outputId": "89014f7f-75ce-4b74-9326-f7a923b96bef"
      },
      "outputs": [
        {
          "output_type": "stream",
          "name": "stdout",
          "text": [
            "Токенизация английских предложений для подсчета длины...\n"
          ]
        },
        {
          "output_type": "display_data",
          "data": {
            "text/plain": [
              "Токенизация:   0%|          | 0/193633 [00:00<?, ?it/s]"
            ],
            "application/vnd.jupyter.widget-view+json": {
              "version_major": 2,
              "version_minor": 0,
              "model_id": "93fd75db5f5d4a5ca82cd0ede043c1f8"
            }
          },
          "metadata": {}
        },
        {
          "output_type": "stream",
          "name": "stdout",
          "text": [
            "Токенизация поргутальских предложений для подсчета длины...\n"
          ]
        },
        {
          "output_type": "display_data",
          "data": {
            "text/plain": [
              "Токенизация:   0%|          | 0/193633 [00:00<?, ?it/s]"
            ],
            "application/vnd.jupyter.widget-view+json": {
              "version_major": 2,
              "version_minor": 0,
              "model_id": "0b5cd6bddb104a80ae1d1e0fb79afea8"
            }
          },
          "metadata": {}
        }
      ],
      "source": [
        "# Пакетная токенизация с прогрессом\n",
        "def batch_tokenize_length(nlp, sentences, batch_size=1000):\n",
        "    docs = nlp.pipe(sentences, batch_size=batch_size)\n",
        "    return [len([token.text for token in doc]) for doc in tqdm(docs, total=len(sentences), desc=\"Токенизация\")]\n",
        "\n",
        "# Функция для проверки длины предложений с пакетной токенизацией\n",
        "def sentence_lengths_batch(pairs):\n",
        "    en_sentences = [en for en, _ in pairs]  # Английские предложения\n",
        "    por_sentences = [por for _, por in pairs]  # Португальские предложения\n",
        "\n",
        "    print(\"Токенизация английских предложений для подсчета длины...\")\n",
        "    en_lengths = batch_tokenize_length(nlp_en, en_sentences)  # Пакетная токенизация для английских предложений\n",
        "\n",
        "    print(\"Токенизация поргутальских предложений для подсчета длины...\")\n",
        "    por_lengths = batch_tokenize_length(nlp_por, por_sentences)  # Пакетная токенизация для португальских предложений\n",
        "\n",
        "    return en_lengths, por_lengths\n",
        "\n",
        "en_lengths, por_lengths = sentence_lengths_batch(pairs)"
      ]
    },
    {
      "cell_type": "code",
      "execution_count": null,
      "metadata": {
        "id": "S4xARs6NAJpp",
        "colab": {
          "base_uri": "https://localhost:8080/",
          "height": 564
        },
        "outputId": "1b8315e8-ba7a-42b5-97b9-3054ac97009a"
      },
      "outputs": [
        {
          "output_type": "display_data",
          "data": {
            "text/plain": [
              "<Figure size 1200x600 with 1 Axes>"
            ],
            "image/png": "[encoded data removed]"
          },
          "metadata": {}
        }
      ],
      "source": [
        "# Визуализация длины предложений\n",
        "plt.figure(figsize=(12, 6))\n",
        "plt.hist(en_lengths, bins=30, alpha=0.6, color='blue', label='Длина английского предложения')\n",
        "plt.hist(por_lengths, bins=30, alpha=0.6, color='green', label='Длина португальского предложения')\n",
        "plt.title('Распределение длин предложений')\n",
        "plt.xlabel('Длина предложения')\n",
        "plt.ylabel('Частота')\n",
        "plt.legend()\n",
        "plt.show()"
      ]
    },
    {
      "cell_type": "markdown",
      "metadata": {
        "id": "iFK-oFdsCkgu"
      },
      "source": [
        "Проверка распределения частоты слов"
      ]
    },
    {
      "cell_type": "code",
      "execution_count": null,
      "metadata": {
        "id": "95LlvdqcCdkp"
      },
      "outputs": [],
      "source": [
        "# Функция распределения частоты слов\n",
        "def plot_word_distribution(counter, language):\n",
        "    words, counts = zip(*counter.most_common(30))  # Берём 30 самых частых слов\n",
        "    plt.figure(figsize=(10, 6))\n",
        "    plt.barh(words, counts, color='skyblue')\n",
        "    plt.xlabel('Частота')\n",
        "    plt.title(f'Топ-30 самых частых слов ({language})')\n",
        "    plt.gca().invert_yaxis()  # Чтобы самые частые слова были наверху\n",
        "    plt.show()"
      ]
    },
    {
      "cell_type": "code",
      "execution_count": null,
      "metadata": {
        "id": "KsXNYG2RC8Ae",
        "colab": {
          "base_uri": "https://localhost:8080/",
          "height": 1000
        },
        "outputId": "d8af4cae-5a34-4893-d75b-0c1de95329e9"
      },
      "outputs": [
        {
          "output_type": "display_data",
          "data": {
            "text/plain": [
              "<Figure size 1000x600 with 1 Axes>"
            ],
            "image/png": "[encoded data removed]"
          },
          "metadata": {}
        },
        {
          "output_type": "display_data",
          "data": {
            "text/plain": [
              "<Figure size 1000x600 with 1 Axes>"
            ],
            "image/png": "[encoded data removed]"
          },
          "metadata": {}
        }
      ],
      "source": [
        "# Визуализация распределения частоты слов\n",
        "plot_word_distribution(counter_input, 'English')\n",
        "plot_word_distribution(counter_target, 'Portuguese')"
      ]
    },
    {
      "cell_type": "markdown",
      "metadata": {
        "id": "wEv7jdvxC_JX"
      },
      "source": [
        "Статистика по количеству уникальных слов"
      ]
    },
    {
      "cell_type": "code",
      "execution_count": null,
      "metadata": {
        "id": "fRJiVLs9DC73",
        "colab": {
          "base_uri": "https://localhost:8080/"
        },
        "outputId": "fdf5d764-6ad0-451a-8fa7-e3d9420100cc"
      },
      "outputs": [
        {
          "output_type": "stream",
          "name": "stdout",
          "text": [
            "Уникальных слов в английском: 13249\n",
            "Уникальных слов в португальском: 24000\n"
          ]
        }
      ],
      "source": [
        "print(f'Уникальных слов в английском: {len(inp_vocab)}')\n",
        "print(f'Уникальных слов в португальском: {len(trg_vocab)}')"
      ]
    },
    {
      "cell_type": "markdown",
      "metadata": {
        "id": "SsEAhOusDEsV"
      },
      "source": [
        "Средняя длина предложений"
      ]
    },
    {
      "cell_type": "code",
      "execution_count": null,
      "metadata": {
        "id": "RBJVFAdEDGYM",
        "colab": {
          "base_uri": "https://localhost:8080/"
        },
        "outputId": "e5af82a7-51cb-4426-bb4a-9e39d13af24e"
      },
      "outputs": [
        {
          "output_type": "stream",
          "name": "stdout",
          "text": [
            "Средняя длина английских предложений: 7.45\n",
            "Средняя длина португальских предложений: 7.08\n"
          ]
        }
      ],
      "source": [
        "print(f'Средняя длина английских предложений: {sum(en_lengths)/len(en_lengths):.2f}')\n",
        "print(f'Средняя длина португальских предложений: {sum(por_lengths)/len(por_lengths):.2f}')"
      ]
    },
    {
      "cell_type": "markdown",
      "metadata": {
        "id": "Gm2HSKW5-9UA"
      },
      "source": [
        "## Разделение данных на обучающую и тестовую выборки"
      ]
    },
    {
      "cell_type": "code",
      "execution_count": null,
      "metadata": {
        "id": "n2OpZnEu-8Kt"
      },
      "outputs": [],
      "source": [
        "# # Разделение данных на обучающую и тестовую выборки\n",
        "# train_pairs, test_pairs = train_test_split(pairs, test_size=0.2, random_state=42)"
      ]
    },
    {
      "cell_type": "code",
      "execution_count": null,
      "metadata": {
        "id": "b5dgotkyCw4I",
        "colab": {
          "base_uri": "https://localhost:8080/"
        },
        "outputId": "5c1c5460-eb3a-447d-f0d4-480044291183"
      },
      "outputs": [
        {
          "output_type": "stream",
          "name": "stdout",
          "text": [
            "Source batch shape: torch.Size([8, 12])\n",
            "Target batch shape: torch.Size([8, 9])\n"
          ]
        }
      ],
      "source": [
        "# collate_batch определяет, что делать с батчом при итерации по лоадеру\n",
        "def collate_batch(batch):\n",
        "    src_list, trg_list = [], []\n",
        "\n",
        "    # Итерация по batch - списку пар строк (src, trg)\n",
        "    for src, trg in batch:\n",
        "        # Превратить строки в индексы токенов с добавлением спец символов <bos> и <eos>\n",
        "        src_encoded = encode(src, inp_tokenizer, inp_vocab)\n",
        "        trg_encoded = encode(trg, trg_tokenizer, trg_vocab)\n",
        "\n",
        "        # Добавить закодированные предложения как тензоры в списки\n",
        "        src_list.append(src_encoded.clone().detach().long())\n",
        "        trg_list.append(trg_encoded.clone().detach().long())\n",
        "\n",
        "    # Паддинг, чтобы длина каждой последовательности была одинаковой (batch_first=True)\n",
        "    src_padded = pad_sequence(src_list, padding_value=inp_vocab['<pad>'], batch_first=True)\n",
        "    trg_padded = pad_sequence(trg_list, padding_value=trg_vocab['<pad>'], batch_first=True)\n",
        "\n",
        "    return src_padded, trg_padded\n",
        "\n",
        "\n",
        "# Размер батча (сколько предложений в батче)\n",
        "BATCH_SIZE = 8\n",
        "\n",
        "# Разделение данных на обучающую и валидационную части\n",
        "val_size = int(len(pairs) * 0.2)  # 20% на валидацию\n",
        "train_pairs = pairs[:-val_size]\n",
        "val_pairs = pairs[-val_size:]\n",
        "\n",
        "# DataLoader для тренировочной и валидационной выборки\n",
        "train_dataloader = DataLoader(train_pairs, batch_size=BATCH_SIZE, shuffle=True, collate_fn=collate_batch)\n",
        "val_dataloader = DataLoader(val_pairs, batch_size=BATCH_SIZE, shuffle=False, collate_fn=collate_batch)\n",
        "\n",
        "# Пример извлечения батча из train_dataloader\n",
        "for src_batch, trg_batch in train_dataloader:\n",
        "    print(f\"Source batch shape: {src_batch.shape}\")\n",
        "    print(f\"Target batch shape: {trg_batch.shape}\")\n",
        "    break  # Прерываем после первого батча для примера"
      ]
    },
    {
      "cell_type": "code",
      "execution_count": null,
      "metadata": {
        "id": "aPv8uwWlDMug",
        "colab": {
          "base_uri": "https://localhost:8080/"
        },
        "outputId": "8427807e-8ff1-40ad-ce16-21e3182e18f5"
      },
      "outputs": [
        {
          "output_type": "stream",
          "name": "stdout",
          "text": [
            "Shape of source batch (src_batch): torch.Size([8, 11])\n",
            "Shape of target batch (trg_batch): torch.Size([8, 10])\n"
          ]
        }
      ],
      "source": [
        "# проверка что отдает лоадер\n",
        "# Получаем первый батч из тренировочного DataLoader\n",
        "src_batch, trg_batch = next(iter(train_dataloader))\n",
        "\n",
        "# Выводим размеры (shape) батчей\n",
        "print(\"Shape of source batch (src_batch):\", src_batch.shape)\n",
        "print(\"Shape of target batch (trg_batch):\", trg_batch.shape)"
      ]
    },
    {
      "cell_type": "code",
      "execution_count": null,
      "metadata": {
        "id": "MRSz6tyIuQSP"
      },
      "outputs": [],
      "source": [
        "def decode_predictions(pred_indices, index_to_word):\n",
        "    # Создание предложения из индексов\n",
        "    sentence = [\n",
        "        index_to_word[idx]\n",
        "        for idx in pred_indices\n",
        "        if idx not in (PAD_INDEX, BOS_INDEX, EOS_INDEX)  # Удален вызов .item()\n",
        "    ]\n",
        "    return ' '.join(sentence)"
      ]
    },
    {
      "cell_type": "code",
      "execution_count": null,
      "metadata": {
        "id": "WxSP7apbDUF7",
        "colab": {
          "base_uri": "https://localhost:8080/"
        },
        "outputId": "4d6768f5-a460-47f1-c0db-abccab7d948b"
      },
      "outputs": [
        {
          "output_type": "stream",
          "name": "stdout",
          "text": [
            "Decoded Source: i just want out of here .\n",
            "--------------------------\n",
            "Decoded Target: eu só quero sair daqui .\n"
          ]
        }
      ],
      "source": [
        "# Декодирование из индексов токенов в слова строки\n",
        "decoded_src = decode_predictions(src_batch[0, :].tolist(), index_to_word_inp)\n",
        "decoded_trg = decode_predictions(trg_batch[0, :].tolist(), index_to_word_trg)\n",
        "\n",
        "print(\"Decoded Source:\", decoded_src)\n",
        "print('--------------------------')\n",
        "print(\"Decoded Target:\", decoded_trg)"
      ]
    },
    {
      "cell_type": "markdown",
      "metadata": {
        "id": "FzQknFR4nyAs"
      },
      "source": [
        "# 2. Обучение моделей"
      ]
    },
    {
      "cell_type": "markdown",
      "metadata": {
        "id": "HDP8oCCzcqqb"
      },
      "source": [
        "## Модель EncoderDecoderRNN c LSTM"
      ]
    },
    {
      "cell_type": "code",
      "execution_count": null,
      "metadata": {
        "id": "WmVo8lXtXVOj"
      },
      "outputs": [],
      "source": [
        "def tensors_from_pair(pair):\n",
        "    input_tensor = torch.tensor([inp_vocab[word] for word in pair[0].split()], dtype=torch.long)\n",
        "    target_tensor = torch.tensor([trg_vocab[word] for word in pair[1].split()], dtype=torch.long)\n",
        "\n",
        "    # Паддинг входного тензора\n",
        "    input_tensor = input_tensor.unsqueeze(1)  # Добавим размерность\n",
        "    input_tensor = pad_sequence([input_tensor], batch_first=True)\n",
        "\n",
        "    input_tensor = input_tensor.view(-1, 1)  # длина последовательности, 1\n",
        "\n",
        "    return input_tensor, target_tensor"
      ]
    },
    {
      "cell_type": "markdown",
      "metadata": {
        "id": "zrMjupvGc7C0"
      },
      "source": [
        "Создание модели"
      ]
    },
    {
      "cell_type": "code",
      "execution_count": null,
      "metadata": {
        "id": "Hv7zzTSdcrsv"
      },
      "outputs": [],
      "source": [
        "class Encoder(nn.Module):\n",
        "    def __init__(self, input_size, hidden_size, num_layers=1):\n",
        "        super(Encoder, self).__init__()\n",
        "        self.hidden_size = hidden_size\n",
        "        self.num_layers = num_layers\n",
        "        self.embedding = nn.Embedding(input_size, hidden_size)\n",
        "        self.lstm = nn.LSTM(hidden_size, hidden_size, num_layers)\n",
        "\n",
        "    def forward(self, input, hidden):\n",
        "        embedded = self.embedding(input).view(1, 1, -1)  # Формируем embedded тензор\n",
        "        output, hidden = self.lstm(embedded, hidden)\n",
        "        return output, hidden\n",
        "\n",
        "    def init_hidden(self):\n",
        "        return (torch.zeros(self.num_layers, 1, self.hidden_size),\n",
        "                torch.zeros(self.num_layers, 1, self.hidden_size))"
      ]
    },
    {
      "cell_type": "code",
      "execution_count": null,
      "metadata": {
        "id": "kPE5OP74c9KX"
      },
      "outputs": [],
      "source": [
        "class Decoder(nn.Module):\n",
        "    def __init__(self, hidden_size, output_size, num_layers=1, dropout_p=0.1):\n",
        "        super(Decoder, self).__init__()\n",
        "        self.hidden_size = hidden_size\n",
        "        self.output_size = output_size\n",
        "        self.num_layers = num_layers\n",
        "        self.dropout_p = dropout_p\n",
        "\n",
        "        self.embedding = nn.Embedding(output_size, hidden_size)\n",
        "        self.dropout = nn.Dropout(self.dropout_p)\n",
        "        self.lstm = nn.LSTM(hidden_size, hidden_size, num_layers)\n",
        "        self.out = nn.Linear(hidden_size, output_size)\n",
        "\n",
        "    def forward(self, input, hidden):\n",
        "        embedded = self.embedding(input).view(1, 1, -1)  # (1, 1, hidden_size)\n",
        "        embedded = self.dropout(embedded)\n",
        "\n",
        "        output, hidden = self.lstm(embedded, hidden)\n",
        "        output = F.log_softmax(self.out(output[0]), dim=1)  # (1, output_size)\n",
        "        return output, hidden"
      ]
    },
    {
      "cell_type": "markdown",
      "metadata": {
        "id": "XCDWY7T-dFVw"
      },
      "source": [
        "Обучение модели"
      ]
    },
    {
      "cell_type": "code",
      "execution_count": null,
      "metadata": {
        "id": "z8865jxKc9He"
      },
      "outputs": [],
      "source": [
        "def train(input_tensor, target_tensor, encoder, decoder, encoder_optimizer, decoder_optimizer, criterion, max_length=50):\n",
        "    encoder_hidden = encoder.init_hidden()\n",
        "\n",
        "    encoder_optimizer.zero_grad()\n",
        "    decoder_optimizer.zero_grad()\n",
        "\n",
        "    input_length = min(input_tensor.size(0), max_length)\n",
        "    target_length = min(target_tensor.size(0), max_length)\n",
        "\n",
        "    loss = 0\n",
        "\n",
        "    # Encoder forward pass\n",
        "    for ei in range(input_length):\n",
        "        encoder_output, encoder_hidden = encoder(input_tensor[ei], encoder_hidden)\n",
        "\n",
        "    # Decoder forward pass\n",
        "    decoder_input = torch.tensor([[inp_vocab['<bos>']]])\n",
        "    decoder_hidden = encoder_hidden\n",
        "\n",
        "    for di in range(target_length):\n",
        "        decoder_output, decoder_hidden = decoder(decoder_input, decoder_hidden)\n",
        "        topv, topi = decoder_output.topk(1)\n",
        "        decoder_input = topi.squeeze().detach()\n",
        "\n",
        "        loss += criterion(decoder_output, target_tensor[di].unsqueeze(0))\n",
        "        if decoder_input.item() == trg_vocab['<eos>']:\n",
        "            break\n",
        "\n",
        "    loss.backward()\n",
        "\n",
        "    encoder_optimizer.step()\n",
        "    decoder_optimizer.step()\n",
        "\n",
        "    return loss.item() / target_length"
      ]
    },
    {
      "cell_type": "markdown",
      "metadata": {
        "id": "4xsa4CaRdLQA"
      },
      "source": [
        "Оценка модели"
      ]
    },
    {
      "cell_type": "code",
      "execution_count": null,
      "metadata": {
        "id": "1P8M6YLYc9Ev"
      },
      "outputs": [],
      "source": [
        "def evaluate_bleu(encoder, decoder, pairs, n_samples=10):\n",
        "    references = []\n",
        "    hypotheses = []\n",
        "\n",
        "    for _ in range(n_samples):\n",
        "        pair = random.choice(pairs)\n",
        "        input_tensor, target_tensor = tensors_from_pair(pair)\n",
        "\n",
        "        # Получение перевода\n",
        "        output_sentence = evaluate(encoder, decoder, input_tensor)\n",
        "\n",
        "        # Преобразуем target_tensor обратно в предложение\n",
        "        target_sentence = ' '.join([trg_vocab.itos[token] for token in target_tensor.view(-1).tolist() if token != EOS_INDEX])\n",
        "\n",
        "        references.append([target_sentence.split()])\n",
        "        hypotheses.append(output_sentence.split())\n",
        "\n",
        "    # Функция сглаживания для BLEU\n",
        "    smoothing_function = SmoothingFunction().method1\n",
        "\n",
        "    # Вычисление BLEU с использованием сглаживания\n",
        "    bleu_scores = [sentence_bleu(ref, hyp, smoothing_function=smoothing_function) for ref, hyp in zip(references, hypotheses)]\n",
        "\n",
        "    return sum(bleu_scores) / len(bleu_scores)"
      ]
    },
    {
      "cell_type": "markdown",
      "metadata": {
        "id": "38CCh6ndkOqM"
      },
      "source": [
        "Предсказание и декодирование"
      ]
    },
    {
      "cell_type": "code",
      "execution_count": null,
      "metadata": {
        "id": "mGp3kYPAkLqx"
      },
      "outputs": [],
      "source": [
        "# Предсказание и декодирование\n",
        "def evaluate(encoder, decoder, input_tensor, max_length=50):\n",
        "    with torch.no_grad():\n",
        "        input_length = min(input_tensor.size(0), max_length)\n",
        "        encoder_hidden = encoder.init_hidden()\n",
        "\n",
        "        # Пропускаем входное предложение через кодировщик\n",
        "        for ei in range(input_length):\n",
        "            encoder_output, encoder_hidden = encoder(input_tensor[ei], encoder_hidden)\n",
        "\n",
        "        # Начальное слово для декодера — токен начала предложения (BOS)\n",
        "        decoder_input = torch.tensor([[inp_vocab['<bos>']]])\n",
        "        decoder_hidden = encoder_hidden\n",
        "\n",
        "        decoded_words = []\n",
        "        for di in range(max_length):\n",
        "            decoder_output, decoder_hidden = decoder(decoder_input, decoder_hidden)\n",
        "            topv, topi = decoder_output.topk(1)\n",
        "            if topi.item() == trg_vocab['<eos>']:\n",
        "                decoded_words.append('<eos>')\n",
        "                break\n",
        "            else:\n",
        "                decoded_words.append(trg_vocab.itos[topi.item()])\n",
        "\n",
        "            decoder_input = topi.squeeze().detach()\n",
        "\n",
        "        return ' '.join(decoded_words)"
      ]
    },
    {
      "cell_type": "code",
      "execution_count": null,
      "metadata": {
        "id": "BFjhBfzfc9Bx"
      },
      "outputs": [],
      "source": [
        "def train_and_evaluate(encoder, decoder, pairs, n_iters, learning_rate, print_every=1000, evaluate_every=1000):\n",
        "    encoder_optimizer = optim.Adam(encoder.parameters(), lr=learning_rate)\n",
        "    decoder_optimizer = optim.Adam(decoder.parameters(), lr=learning_rate)\n",
        "    criterion = nn.CrossEntropyLoss(ignore_index=trg_vocab['<pad>'])\n",
        "\n",
        "    total_loss = 0\n",
        "    total_bleu = 0\n",
        "    losses = []\n",
        "    bleu_scores = []\n",
        "    times = []  # Список для хранения времени только на тех итерациях, где записываются потери\n",
        "    progress_bar = tqdm(range(1, n_iters + 1), desc=\"Обучение\")\n",
        "\n",
        "    overall_start_time = time.time()  # Начало отсчета времени для всего процесса обучения\n",
        "\n",
        "    for iter in progress_bar:\n",
        "        iter_start_time = time.time()\n",
        "\n",
        "        # Выбор случайной пары предложений\n",
        "        pair = random.choice(pairs)\n",
        "        input_tensor, target_tensor = tensors_from_pair(pair)\n",
        "\n",
        "        # Обучение модели\n",
        "        loss = train(input_tensor, target_tensor, encoder, decoder, encoder_optimizer, decoder_optimizer, criterion)\n",
        "        total_loss += loss\n",
        "\n",
        "        # Периодическая оценка BLEU\n",
        "        if iter % evaluate_every == 0:\n",
        "            bleu_score = evaluate_bleu(encoder, decoder, pairs, n_samples=10)\n",
        "            total_bleu += bleu_score\n",
        "            bleu_scores.append(bleu_score)\n",
        "\n",
        "        # Обновляем потери и время только каждые print_every итераций\n",
        "        if iter % print_every == 0:\n",
        "            avg_loss = total_loss / print_every\n",
        "            avg_bleu = total_bleu / (print_every // evaluate_every)\n",
        "            print(f\"Итерация {iter}, Средняя потеря: {avg_loss:.4f}, Средний BLEU: {avg_bleu:.4f}\")\n",
        "\n",
        "            losses.append(avg_loss)\n",
        "            total_loss = 0\n",
        "            total_bleu = 0\n",
        "\n",
        "            # Записываем текущее время для итерации, кратной print_every\n",
        "            current_time = time.time() - overall_start_time\n",
        "            times.append(current_time)  # Сохраняем время только для этих итераций\n",
        "\n",
        "    overall_elapsed_time = time.time() - overall_start_time  # Общее время обучения\n",
        "    print(f\"Общее время обучения: {overall_elapsed_time:.2f} секунд\")\n",
        "\n",
        "    return encoder, decoder, losses, bleu_scores, times"
      ]
    },
    {
      "cell_type": "markdown",
      "metadata": {
        "id": "372Nt3ebdeZm"
      },
      "source": [
        "Запуск обучения"
      ]
    },
    {
      "cell_type": "code",
      "execution_count": null,
      "metadata": {
        "colab": {
          "base_uri": "https://localhost:8080/",
          "height": 240,
          "referenced_widgets": [
            "6aeb8a1ffc0845489877e0360122653a",
            "c7ed6de169b74884ba90accc135207d6",
            "51ae18370a644dc6b33471bff6d970bc",
            "9ef337d6a9c041d693ac04c0081775c8",
            "e4778bfeca914908ba996d3e07f57224",
            "3b43962972c94bbfb1f5d0c7774b548c",
            "e9bb2620e51e4831a26f868ecbffb70b",
            "8f1a400768c14f2f8fc8502fbf190d3a",
            "85932e4544464cf0a8a447f57e92a122",
            "e05336b13da745b796ac61cf61d21a97",
            "9483227d0c3a444ba00fba999d41bd18"
          ]
        },
        "id": "14BNfpp9c8-X",
        "outputId": "5099be54-39bb-4b6e-93c2-49bc0ec51801"
      },
      "outputs": [
        {
          "output_type": "display_data",
          "data": {
            "text/plain": [
              "Обучение:   0%|          | 0/10000 [00:00<?, ?it/s]"
            ],
            "application/vnd.jupyter.widget-view+json": {
              "version_major": 2,
              "version_minor": 0,
              "model_id": "6aeb8a1ffc0845489877e0360122653a"
            }
          },
          "metadata": {}
        },
        {
          "output_type": "stream",
          "name": "stdout",
          "text": [
            "Итерация 1000, Средняя потеря: 5.5903, Средний BLEU: 0.0039\n",
            "Итерация 2000, Средняя потеря: 4.8335, Средний BLEU: 0.0047\n",
            "Итерация 3000, Средняя потеря: 4.5929, Средний BLEU: 0.0050\n",
            "Итерация 4000, Средняя потеря: 4.4454, Средний BLEU: 0.0046\n",
            "Итерация 5000, Средняя потеря: 4.3334, Средний BLEU: 0.0051\n",
            "Итерация 6000, Средняя потеря: 4.2132, Средний BLEU: 0.0052\n",
            "Итерация 7000, Средняя потеря: 4.0851, Средний BLEU: 0.0077\n",
            "Итерация 8000, Средняя потеря: 4.0680, Средний BLEU: 0.0054\n",
            "Итерация 9000, Средняя потеря: 4.0514, Средний BLEU: 0.0051\n",
            "Итерация 10000, Средняя потеря: 3.9441, Средний BLEU: 0.0053\n",
            "Общее время обучения: 2089.64 секунд\n"
          ]
        }
      ],
      "source": [
        "hidden_size = 128\n",
        "num_layers = 1\n",
        "\n",
        "# Создание экземпляров кодировщика и декодера\n",
        "encoder = Encoder(input_size=len(inp_vocab), hidden_size=hidden_size, num_layers=num_layers)\n",
        "decoder = Decoder(hidden_size=hidden_size, output_size=len(trg_vocab), num_layers=num_layers)\n",
        "\n",
        "# Параметры обучения\n",
        "n_iters = 10000\n",
        "learning_rate = 0.001\n",
        "\n",
        "# Запуск цикла обучения и оценки\n",
        "encoder, decoder, losses, bleu, times = train_and_evaluate(encoder, decoder, train_pairs, n_iters, learning_rate)"
      ]
    },
    {
      "cell_type": "code",
      "execution_count": null,
      "metadata": {
        "colab": {
          "base_uri": "https://localhost:8080/"
        },
        "id": "oVdpXYoEeQT9",
        "outputId": "5ed30080-c555-4e95-8612-ec2189ddec51"
      },
      "outputs": [
        {
          "output_type": "stream",
          "name": "stdout",
          "text": [
            "Исходное: tom must be very tired.\n",
            "Целевое: tom deve estar muito cansado.\n",
            "Предсказанное: tom tom <unk> <unk> <unk> <unk> <unk> <unk> <unk> <unk> <unk> <unk> <unk> <unk> <unk> <unk> <unk> <unk> <unk> <unk> <unk> <unk> <unk> <unk> <unk> <unk> <unk> <unk> <unk> <unk> <unk> <unk> <unk> <unk> <unk> <unk> <unk> <unk> <unk> <unk> <unk> <unk> <unk> <unk> <unk> <unk> <unk> <unk> <unk> <unk>\n",
            "--------------------------\n",
            "Исходное: should i help tom with his homework?\n",
            "Целевое: devo ajudar o tom com o trabalho de casa dele?\n",
            "Предсказанное: o que o que o <unk> <unk> <unk> <unk> <unk> <unk> <unk> <unk> <unk> <unk> <unk> <unk> <unk> <unk> <unk> <unk> <unk> <unk> <unk> <unk> <unk> <unk> <unk> <unk> <unk> <unk> <unk> <unk> <unk> <unk> <unk> <unk> <unk> <unk> <unk> <unk> <unk> <unk> <unk> <unk> <unk> <unk> <unk> <unk> <unk>\n",
            "--------------------------\n",
            "Исходное: so you are really offering me a roflex watch for 5 dollars?\n",
            "Целевое: então você está realmente me propondo um relógio roflex por 5 dólares?\n",
            "Предсказанное: você quer quer uma uma uma uma uma uma <unk> <unk> <unk> <unk> <unk> <unk> <unk> <unk> <unk> <unk> <unk> <unk> <unk> <unk> <unk> <unk> <unk> <unk> <unk> <unk> <unk> <unk> <unk> <unk> <unk> <unk> <unk> <unk> <unk> <unk> <unk> <unk> <unk> <unk> <unk> <unk> <unk> <unk> <unk> <unk> <unk>\n",
            "--------------------------\n",
            "Исходное: i wholeheartedly agree.\n",
            "Целевое: eu sinceramente concordo.\n",
            "Предсказанное: eu <unk> <unk> <unk> <unk> <unk> <unk> <unk> <unk> <unk> <unk> <unk> <unk> <unk> <unk> <unk> <unk> <unk> <unk> <unk> <unk> <unk> <unk> <unk> <unk> <unk> <unk> <unk> <unk> <unk> <unk> <unk> <unk> <unk> <unk> <unk> <unk> <unk> <unk> <unk> <unk> <unk> <unk> <unk> <unk> <unk> <unk> <unk> <unk> <unk>\n",
            "--------------------------\n",
            "Исходное: tom shouldn't have had to do that.\n",
            "Целевое: tom não deveria ter feito aquilo.\n",
            "Предсказанное: tom não não fazer <unk> <unk> <unk> <unk> <unk> <unk> <unk> <unk> <unk> <unk> <unk> <unk> <unk> <unk> <unk> <unk> <unk> <unk> <unk> <unk> <unk> <unk> <unk> <unk> <unk> <unk> <unk> <unk> <unk> <unk> <unk> <unk> <unk> <unk> <unk> <unk> <unk> <unk> <unk> <unk> <unk> <unk> <unk> <unk> <unk> <unk>\n",
            "--------------------------\n"
          ]
        }
      ],
      "source": [
        "# Вывод предсказанного предложения для проверки\n",
        "for i in range(5):  # Например, 5 предложений\n",
        "    pair = random.choice(pairs)\n",
        "    input_tensor, target_tensor = tensors_from_pair(pair)\n",
        "    output_sentence = evaluate(encoder, decoder, input_tensor)\n",
        "    print(f\"Исходное: {pair[0]}\")\n",
        "    print(f\"Целевое: {pair[1]}\")\n",
        "    print(f\"Предсказанное: {output_sentence}\")\n",
        "    print('--------------------------')"
      ]
    },
    {
      "cell_type": "code",
      "execution_count": null,
      "metadata": {
        "colab": {
          "base_uri": "https://localhost:8080/"
        },
        "id": "V37ljfKoYbmi",
        "outputId": "2201d903-c460-4db9-d968-4951f4348438"
      },
      "outputs": [
        {
          "output_type": "stream",
          "name": "stdout",
          "text": [
            "Final Times shape: 2089.634027004242\n",
            "Final Losses shape: 3.944065714621546\n"
          ]
        }
      ],
      "source": [
        "print(\"Final Times shape:\", times[-1])\n",
        "print(\"Final Losses shape:\", losses[-1])"
      ]
    },
    {
      "cell_type": "code",
      "source": [
        "# Сохранение модели (архитектура + параметры)\n",
        "torch.save(encoder, 'encoder_full.pth')\n",
        "torch.save(decoder, 'decoder_full.pth')"
      ],
      "metadata": {
        "id": "oy1HPBa2R8Au"
      },
      "execution_count": null,
      "outputs": []
    },
    {
      "cell_type": "code",
      "source": [
        "# Загрузка целой модели\n",
        "encoder = torch.load('encoder_full.pth')\n",
        "decoder = torch.load('decoder_full.pth')\n",
        "\n",
        "# Устанавливаем режим оценки\n",
        "encoder.eval()\n",
        "decoder.eval()"
      ],
      "metadata": {
        "colab": {
          "base_uri": "https://localhost:8080/"
        },
        "outputId": "ae3fa555-255c-4e90-a2ac-c9dcac097e0c",
        "id": "6tpkwRhVR8Au"
      },
      "execution_count": null,
      "outputs": [
        {
          "output_type": "stream",
          "name": "stderr",
          "text": [
            "<ipython-input-54-3a464b0a09c8>:2: FutureWarning: You are using `torch.load` with `weights_only=False` (the current default value), which uses the default pickle module implicitly. It is possible to construct malicious pickle data which will execute arbitrary code during unpickling (See https://github.com/pytorch/pytorch/blob/main/SECURITY.md#untrusted-models for more details). In a future release, the default value for `weights_only` will be flipped to `True`. This limits the functions that could be executed during unpickling. Arbitrary objects will no longer be allowed to be loaded via this mode unless they are explicitly allowlisted by the user via `torch.serialization.add_safe_globals`. We recommend you start setting `weights_only=True` for any use case where you don't have full control of the loaded file. Please open an issue on GitHub for any issues related to this experimental feature.\n",
            "  encoder = torch.load('encoder_full.pth')\n",
            "<ipython-input-54-3a464b0a09c8>:3: FutureWarning: You are using `torch.load` with `weights_only=False` (the current default value), which uses the default pickle module implicitly. It is possible to construct malicious pickle data which will execute arbitrary code during unpickling (See https://github.com/pytorch/pytorch/blob/main/SECURITY.md#untrusted-models for more details). In a future release, the default value for `weights_only` will be flipped to `True`. This limits the functions that could be executed during unpickling. Arbitrary objects will no longer be allowed to be loaded via this mode unless they are explicitly allowlisted by the user via `torch.serialization.add_safe_globals`. We recommend you start setting `weights_only=True` for any use case where you don't have full control of the loaded file. Please open an issue on GitHub for any issues related to this experimental feature.\n",
            "  decoder = torch.load('decoder_full.pth')\n"
          ]
        },
        {
          "output_type": "execute_result",
          "data": {
            "text/plain": [
              "DecoderWithAttention(\n",
              "  (embedding): Embedding(24000, 128)\n",
              "  (attn): Attention(\n",
              "    (attn): Linear(in_features=256, out_features=128, bias=True)\n",
              "  )\n",
              "  (attn_combine): Linear(in_features=256, out_features=128, bias=True)\n",
              "  (dropout): Dropout(p=0.1, inplace=False)\n",
              "  (lstm): LSTM(128, 128)\n",
              "  (out): Linear(in_features=128, out_features=24000, bias=True)\n",
              ")"
            ]
          },
          "metadata": {},
          "execution_count": 54
        }
      ]
    },
    {
      "cell_type": "markdown",
      "metadata": {
        "id": "m8GKRz-yP14k"
      },
      "source": [
        "## Модель EncoderDecoderRNN with Attention"
      ]
    },
    {
      "cell_type": "markdown",
      "metadata": {
        "id": "LdLccZE18KTp"
      },
      "source": [
        "Создание модели"
      ]
    },
    {
      "cell_type": "code",
      "execution_count": null,
      "metadata": {
        "id": "xxNCaKTkoO3Z"
      },
      "outputs": [],
      "source": [
        "# Attention\n",
        "class Attention(nn.Module):\n",
        "    def __init__(self, hidden_size):\n",
        "        super(Attention, self).__init__()\n",
        "        self.hidden_size = hidden_size\n",
        "        self.attn = nn.Linear(self.hidden_size * 2, hidden_size)\n",
        "        self.v = nn.Parameter(torch.rand(hidden_size))\n",
        "\n",
        "    def forward(self, hidden, encoder_outputs):\n",
        "        max_len = encoder_outputs.size(0)\n",
        "        hidden = hidden[0].repeat(max_len, 1, 1).transpose(0, 1)\n",
        "        attn_energies = self.score(hidden, encoder_outputs)\n",
        "        return F.softmax(attn_energies, dim=1)\n",
        "\n",
        "    def score(self, hidden, encoder_outputs):\n",
        "        if encoder_outputs.dim() == 2:\n",
        "            encoder_outputs = encoder_outputs.unsqueeze(0)\n",
        "\n",
        "        if hidden.dim() == 2:\n",
        "            hidden = hidden.unsqueeze(1)\n",
        "        energy = torch.tanh(self.attn(torch.cat((hidden, encoder_outputs), 2)))\n",
        "        energy = energy.transpose(1, 2)\n",
        "        v = self.v.repeat(encoder_outputs.size(0), 1).unsqueeze(1)\n",
        "        energy = torch.bmm(v, energy)\n",
        "        return energy.squeeze(1)"
      ]
    },
    {
      "cell_type": "code",
      "execution_count": null,
      "metadata": {
        "id": "757sqj2sBn_5"
      },
      "outputs": [],
      "source": [
        "# Encoder with Attention\n",
        "class EncoderWithAttention(nn.Module):\n",
        "    def __init__(self, input_size, hidden_size, num_layers=2):\n",
        "        super(EncoderWithAttention, self).__init__()\n",
        "        self.hidden_size = hidden_size\n",
        "        self.num_layers = num_layers\n",
        "        self.embedding = nn.Embedding(input_size, hidden_size)\n",
        "        self.lstm = nn.LSTM(hidden_size, hidden_size, num_layers)\n",
        "\n",
        "    def forward(self, input, hidden):\n",
        "        embedded = self.embedding(input).view(1, 1, -1)\n",
        "        output, hidden = self.lstm(embedded, hidden)\n",
        "        return output, hidden\n",
        "\n",
        "    def init_hidden(self):\n",
        "        return (torch.zeros(self.num_layers, 1, self.hidden_size),\n",
        "                torch.zeros(self.num_layers, 1, self.hidden_size))"
      ]
    },
    {
      "cell_type": "code",
      "execution_count": null,
      "metadata": {
        "id": "NVtfVwlIDDH0"
      },
      "outputs": [],
      "source": [
        "# Dencoder with Attention\n",
        "class DecoderWithAttention(nn.Module):\n",
        "    def __init__(self, hidden_size, output_size, num_layers=2, dropout_p=0.1, max_length=10):\n",
        "        super(DecoderWithAttention, self).__init__()\n",
        "        self.hidden_size = hidden_size\n",
        "        self.output_size = output_size\n",
        "        self.num_layers = num_layers\n",
        "        self.dropout_p = dropout_p\n",
        "        self.max_length = max_length\n",
        "\n",
        "        self.embedding = nn.Embedding(output_size, hidden_size)\n",
        "        self.attn = Attention(hidden_size)\n",
        "        self.attn_combine = nn.Linear(hidden_size * 2, hidden_size)\n",
        "        self.dropout = nn.Dropout(self.dropout_p)\n",
        "        self.lstm = nn.LSTM(hidden_size, hidden_size, num_layers)\n",
        "        self.out = nn.Linear(hidden_size, output_size)\n",
        "\n",
        "    def forward(self, input, hidden, encoder_outputs):\n",
        "        embedded = self.embedding(input).view(1, 1, -1)\n",
        "        embedded = self.dropout(embedded)\n",
        "        attn_weights = self.attn(hidden, encoder_outputs[:self.max_length])\n",
        "        encoder_outputs = encoder_outputs.unsqueeze(0)\n",
        "        attn_weights = attn_weights.unsqueeze(1)  # Размерность (1, 1, max_length)\n",
        "        context = torch.bmm(attn_weights, encoder_outputs)  # Размерность (1, 1, hidden_size)\n",
        "        output = torch.cat((embedded, context), 2)  # Размерность: (1, 1, hidden_size * 2)\n",
        "        output = self.attn_combine(output)  # Размерность: (1, 1, hidden_size)\n",
        "        output = F.relu(output)\n",
        "        output, hidden = self.lstm(output, hidden)  # Выход: (1, 1, hidden_size)\n",
        "        output = F.log_softmax(self.out(output[0]), dim=1)  # Размерность: (1, output_size)\n",
        "        return output, hidden, attn_weights"
      ]
    },
    {
      "cell_type": "markdown",
      "metadata": {
        "id": "AkVXgd7Wa3Rc"
      },
      "source": [
        "Функции для обработки данных"
      ]
    },
    {
      "cell_type": "code",
      "execution_count": null,
      "metadata": {
        "id": "5zvlvTiqa6bH"
      },
      "outputs": [],
      "source": [
        "# Функция для преобразования предложения в тензор\n",
        "def tensors_from_pair(pair):\n",
        "    input_tensor = encode(pair[0], inp_tokenizer, inp_vocab)\n",
        "    target_tensor = encode(pair[1], trg_tokenizer, trg_vocab)\n",
        "\n",
        "    input_tensor = input_tensor.clone().detach().long()\n",
        "    target_tensor = target_tensor.clone().detach().long()\n",
        "\n",
        "    return input_tensor, target_tensor"
      ]
    },
    {
      "cell_type": "markdown",
      "metadata": {
        "id": "ovh_xw8QDUg8"
      },
      "source": [
        "Обучение модели"
      ]
    },
    {
      "cell_type": "code",
      "execution_count": null,
      "metadata": {
        "id": "41No3qRwbVEr"
      },
      "outputs": [],
      "source": [
        "# Обучение модели EncoderDecoderRNN with Attention\n",
        "def train_with_attention(input_tensor, target_tensor, encoder, decoder, encoder_optimizer, decoder_optimizer, criterion, max_length=10):\n",
        "    encoder_hidden = encoder.init_hidden()\n",
        "\n",
        "    encoder_optimizer.zero_grad()\n",
        "    decoder_optimizer.zero_grad()\n",
        "\n",
        "    input_length = min(input_tensor.size(0), max_length)\n",
        "    target_length = min(target_tensor.size(0), max_length)\n",
        "\n",
        "    encoder_outputs = torch.zeros(max_length, encoder.hidden_size)\n",
        "\n",
        "    loss = 0\n",
        "\n",
        "    # Encoder forward pass\n",
        "    for ei in range(input_length):\n",
        "        encoder_output, encoder_hidden = encoder(input_tensor[ei], encoder_hidden)\n",
        "        encoder_outputs[ei] = encoder_output[0, 0]\n",
        "\n",
        "    # Decoder forward pass with attention\n",
        "    decoder_input = torch.tensor([[inp_vocab['<bos>']]])\n",
        "    decoder_hidden = encoder_hidden\n",
        "\n",
        "    for di in range(target_length):\n",
        "        decoder_output, decoder_hidden, attn_weights = decoder(decoder_input, decoder_hidden, encoder_outputs)\n",
        "        topv, topi = decoder_output.topk(1)\n",
        "        decoder_input = topi.squeeze().detach()\n",
        "\n",
        "        loss += criterion(decoder_output, target_tensor[di].unsqueeze(0))\n",
        "        if decoder_input.item() == trg_vocab['<eos>']:\n",
        "            break\n",
        "\n",
        "    loss.backward()\n",
        "\n",
        "    encoder_optimizer.step()\n",
        "    decoder_optimizer.step()\n",
        "\n",
        "    return loss.item() / target_length"
      ]
    },
    {
      "cell_type": "markdown",
      "metadata": {
        "id": "1NrRd8yoba_X"
      },
      "source": [
        "Оценка модели"
      ]
    },
    {
      "cell_type": "code",
      "execution_count": null,
      "metadata": {
        "id": "RA772nv0bdLp"
      },
      "outputs": [],
      "source": [
        "# Функция оценки BLEU с attention\n",
        "def evaluate_bleu_attention(encoder, decoder, pairs, n_samples=10):\n",
        "    references = []\n",
        "    hypotheses = []\n",
        "\n",
        "    for _ in range(n_samples):\n",
        "        pair = random.choice(pairs)\n",
        "        input_tensor, target_tensor = tensors_from_pair(pair)\n",
        "\n",
        "        # Получение перевода\n",
        "        output_sentence = evaluate_attention(encoder, decoder, input_tensor)\n",
        "\n",
        "        # Преобразуем target_tensor обратно в предложение\n",
        "        target_sentence = ' '.join([trg_vocab.itos[token.item()] for token in target_tensor if token.item() != EOS_INDEX])\n",
        "\n",
        "        references.append([target_sentence.split()])\n",
        "        hypotheses.append(output_sentence.split())\n",
        "\n",
        "    # Функция сглаживания для BLEU\n",
        "    smoothing_function = SmoothingFunction().method1\n",
        "\n",
        "    # Вычисление BLEU с использованием сглаживания\n",
        "    bleu_scores = [sentence_bleu(ref, hyp, smoothing_function=smoothing_function) for ref, hyp in zip(references, hypotheses)]\n",
        "\n",
        "    return sum(bleu_scores) / len(bleu_scores)"
      ]
    },
    {
      "cell_type": "markdown",
      "metadata": {
        "id": "uLz8S4V5bjvT"
      },
      "source": [
        "Предсказание и декодирование"
      ]
    },
    {
      "cell_type": "code",
      "execution_count": null,
      "metadata": {
        "id": "_5vLz-XhQcQM"
      },
      "outputs": [],
      "source": [
        "def evaluate_attention(encoder, decoder, input_tensor, max_length=10):\n",
        "    with torch.no_grad():\n",
        "        input_length = min(input_tensor.size(0), max_length)\n",
        "        encoder_hidden = encoder.init_hidden()\n",
        "\n",
        "        encoder_outputs = torch.zeros(max_length, encoder.hidden_size)\n",
        "\n",
        "        # Пропускаем входное предложение через кодировщик\n",
        "        for ei in range(input_length):\n",
        "            encoder_output, encoder_hidden = encoder(input_tensor[ei], encoder_hidden)\n",
        "            encoder_outputs[ei] = encoder_output[0, 0]\n",
        "\n",
        "        # Начальное слово для декодера — токен начала предложения (BOS)\n",
        "        decoder_input = torch.tensor([[inp_vocab['<bos>']]])\n",
        "        decoder_hidden = encoder_hidden\n",
        "\n",
        "        decoded_words = []\n",
        "        for di in range(max_length):\n",
        "            decoder_output, decoder_hidden, attn_weights = decoder(decoder_input, decoder_hidden, encoder_outputs)\n",
        "            topv, topi = decoder_output.topk(1)\n",
        "            if topi.item() == trg_vocab['<eos>']:\n",
        "                decoded_words.append('<eos>')\n",
        "                break\n",
        "            else:\n",
        "                decoded_words.append(trg_vocab.itos[topi.item()])\n",
        "\n",
        "            decoder_input = topi.squeeze().detach()\n",
        "\n",
        "        return ' '.join(decoded_words)"
      ]
    },
    {
      "cell_type": "markdown",
      "metadata": {
        "id": "zkU-6u2GHuL9"
      },
      "source": [
        "Цикл обучения и оценки"
      ]
    },
    {
      "cell_type": "code",
      "execution_count": null,
      "metadata": {
        "id": "VYr92ExLQ_gf"
      },
      "outputs": [],
      "source": [
        "def train_and_evaluate_attention(encoder, decoder, pairs, n_iters, learning_rate, print_every=1000, evaluate_every=1000):\n",
        "    encoder_optimizer = optim.Adam(encoder.parameters(), lr=learning_rate)\n",
        "    decoder_optimizer = optim.Adam(decoder.parameters(), lr=learning_rate)\n",
        "    criterion = nn.CrossEntropyLoss(ignore_index=trg_vocab['<pad>'])\n",
        "\n",
        "    total_loss = 0\n",
        "    total_bleu = 0\n",
        "    losses = []\n",
        "    bleu_scores = []\n",
        "    times = []  # Список для хранения времени только на тех итерациях, где записываются потери\n",
        "    progress_bar = tqdm(range(1, n_iters + 1), desc=\"Обучение\")\n",
        "\n",
        "    overall_start_time = time.time()  # Начало отсчета времени для всего процесса обучения\n",
        "\n",
        "    for iter in progress_bar:\n",
        "        iter_start_time = time.time()\n",
        "\n",
        "        # Выбор случайной пары предложений\n",
        "        pair = random.choice(pairs)\n",
        "        input_tensor, target_tensor = tensors_from_pair(pair)\n",
        "\n",
        "        # Обучение модели с attention\n",
        "        loss = train_with_attention(input_tensor, target_tensor, encoder, decoder, encoder_optimizer, decoder_optimizer, criterion)\n",
        "        total_loss += loss\n",
        "\n",
        "        # Периодическая оценка BLEU\n",
        "        if iter % evaluate_every == 0:\n",
        "            bleu_score = evaluate_bleu_attention(encoder, decoder, pairs, n_samples=10)\n",
        "            total_bleu += bleu_score\n",
        "            bleu_scores.append(bleu_score)\n",
        "\n",
        "        # Обновляем потери и время только каждые print_every итераций\n",
        "        if iter % print_every == 0:\n",
        "            avg_loss = total_loss / print_every\n",
        "            avg_bleu = total_bleu / (print_every // evaluate_every)\n",
        "            print(f\"Итерация {iter}, Средняя потеря: {avg_loss:.4f}, Средний BLEU: {avg_bleu:.4f}\")\n",
        "\n",
        "            losses.append(avg_loss)\n",
        "            total_loss = 0\n",
        "            total_bleu = 0\n",
        "\n",
        "            # Записываем текущее время для итерации, кратной print_every\n",
        "            current_time = time.time() - overall_start_time\n",
        "            times.append(current_time)  # Сохраняем время только для этих итераций\n",
        "\n",
        "    overall_elapsed_time = time.time() - overall_start_time  # Общее время обучения\n",
        "    print(f\"Общее время обучения: {overall_elapsed_time:.2f} секунд\")\n",
        "\n",
        "    # Возвращаем список времени для каждой итерации, а также другие данные\n",
        "    return encoder, decoder, losses, bleu_scores, times, overall_elapsed_time"
      ]
    },
    {
      "cell_type": "markdown",
      "metadata": {
        "id": "fBAosH8XHzU6"
      },
      "source": [
        "Запуск обучения"
      ]
    },
    {
      "cell_type": "code",
      "execution_count": null,
      "metadata": {
        "colab": {
          "base_uri": "https://localhost:8080/",
          "height": 240,
          "referenced_widgets": [
            "0f433031e6894ac2b3805e8ad1a7fcb3",
            "ed11999ae4664fefae949190b70285d5",
            "1f8c8d505a3a4c13abd75f9564a03341",
            "83c64b2dd3ad488492c89c12f8fc30bf",
            "2bc3895cf8804eeca8b1d9cc890be377",
            "663d045b0d7e439b8a48b0695e5b6545",
            "efbca6240d574524969579beb4f8387b",
            "dcf342abab0f4a6d952952b6fbbcc660",
            "24cdf572a1fa40f8acbd35365ab7778f",
            "27c34933940f4a28a7d8c1f81c8d8cba",
            "e3d5f068750d4051a427569aa26b9b21"
          ]
        },
        "id": "K7jV3jgZH1nJ",
        "outputId": "0c05dbd6-e778-489e-9ff0-8d32d5391dd6"
      },
      "outputs": [
        {
          "output_type": "display_data",
          "data": {
            "text/plain": [
              "Обучение:   0%|          | 0/10000 [00:00<?, ?it/s]"
            ],
            "application/vnd.jupyter.widget-view+json": {
              "version_major": 2,
              "version_minor": 0,
              "model_id": "0f433031e6894ac2b3805e8ad1a7fcb3"
            }
          },
          "metadata": {}
        },
        {
          "output_type": "stream",
          "name": "stdout",
          "text": [
            "Итерация 1000, Средняя потеря: 4.7670, Средний BLEU: 0.0433\n",
            "Итерация 2000, Средняя потеря: 4.4164, Средний BLEU: 0.0515\n",
            "Итерация 3000, Средняя потеря: 4.2480, Средний BLEU: 0.0414\n",
            "Итерация 4000, Средняя потеря: 4.1824, Средний BLEU: 0.0547\n",
            "Итерация 5000, Средняя потеря: 4.0844, Средний BLEU: 0.0493\n",
            "Итерация 6000, Средняя потеря: 4.0094, Средний BLEU: 0.0540\n",
            "Итерация 7000, Средняя потеря: 3.9898, Средний BLEU: 0.1190\n",
            "Итерация 8000, Средняя потеря: 3.9493, Средний BLEU: 0.0762\n",
            "Итерация 9000, Средняя потеря: 3.8625, Средний BLEU: 0.0565\n",
            "Итерация 10000, Средняя потеря: 3.8415, Средний BLEU: 0.0626\n",
            "Общее время обучения: 2354.05 секунд\n"
          ]
        }
      ],
      "source": [
        "hidden_size = 128\n",
        "num_layers = 1\n",
        "max_length = 50\n",
        "\n",
        "encoder = EncoderWithAttention(input_size=len(inp_vocab), hidden_size=hidden_size, num_layers=num_layers)\n",
        "decoder = DecoderWithAttention(hidden_size=hidden_size, output_size=len(trg_vocab), num_layers=num_layers, max_length=max_length)\n",
        "\n",
        "n_iters = 10000\n",
        "learning_rate = 0.001\n",
        "\n",
        "# Запуск цикла обучения и оценки\n",
        "encoder_attn, decoder_attn, losses_attn, bleu_attn, times_attn, overall_elapsed_time = train_and_evaluate_attention(encoder, decoder, train_pairs, n_iters, learning_rate)"
      ]
    },
    {
      "cell_type": "code",
      "execution_count": null,
      "metadata": {
        "colab": {
          "base_uri": "https://localhost:8080/"
        },
        "id": "nuqUT5jleMVb",
        "outputId": "6d781368-5930-438e-fad9-2846adb1531b"
      },
      "outputs": [
        {
          "output_type": "stream",
          "name": "stdout",
          "text": [
            "Исходное: tom has been subpoenaed to appear in court.\n",
            "Целевое: tom foi intimado a comparecer no tribunal.\n",
            "Предсказанное: <bos> tom foi um de de . . . <eos>\n",
            "---------------\n",
            "Исходное: i have to go to the doctor today.\n",
            "Целевое: tenho de ir ao médico hoje.\n",
            "Предсказанное: <bos> eu tenho de para o . . . <eos>\n",
            "---------------\n",
            "Исходное: tom photocopied his birth certificate.\n",
            "Целевое: tom fotocopiou sua certidão de nascimento.\n",
            "Предсказанное: <bos> tom tom a mary . . <eos>\n",
            "---------------\n",
            "Исходное: hit the brakes!\n",
            "Целевое: freia!\n",
            "Предсказанное: <bos> o o <eos>\n",
            "---------------\n",
            "Исходное: everyone has flaws.\n",
            "Целевое: todo mundo tem defeitos.\n",
            "Предсказанное: <bos> todos foi . . <eos>\n",
            "---------------\n"
          ]
        }
      ],
      "source": [
        "# Вывод предсказанного предложения для проверки\n",
        "for i in range(5):  # Например, 5 предложений\n",
        "    pair = random.choice(pairs)\n",
        "    input_tensor, target_tensor = tensors_from_pair(pair)\n",
        "    output_sentence = evaluate_attention(encoder, decoder, input_tensor)\n",
        "    print(f\"Исходное: {pair[0]}\")\n",
        "    print(f\"Целевое: {pair[1]}\")\n",
        "    print(f\"Предсказанное: {output_sentence}\")\n",
        "    print('---------------')"
      ]
    },
    {
      "cell_type": "code",
      "execution_count": null,
      "metadata": {
        "id": "sxOaM3WfYhep",
        "colab": {
          "base_uri": "https://localhost:8080/"
        },
        "outputId": "50102162-ad2a-4028-83bf-6c57b55fbe31"
      },
      "outputs": [
        {
          "output_type": "stream",
          "name": "stdout",
          "text": [
            "Final Times Attention shape: 2354.044908285141\n",
            "Final Losses Attention shape: 3.841517222425672\n"
          ]
        }
      ],
      "source": [
        "print(\"Final Times Attention shape:\", times_attn[-1])\n",
        "print(\"Final Losses Attention shape:\", losses_attn[-1])"
      ]
    },
    {
      "cell_type": "code",
      "source": [
        "# Сохранение модели (архитектура + параметры)\n",
        "torch.save(encoder_attn, 'encoder_attention_full.pth')\n",
        "torch.save(decoder_attn, 'decoder_attention_full.pth')"
      ],
      "metadata": {
        "id": "48QSHIM-QY01"
      },
      "execution_count": null,
      "outputs": []
    },
    {
      "cell_type": "code",
      "source": [
        "# Загрузка целой модели\n",
        "encoder_attn = torch.load('encoder_attention_full.pth')\n",
        "encoder_attn = torch.load('decoder_attention_full.pth')\n",
        "\n",
        "# Устанавливаем режим оценки\n",
        "encoder_attn.eval()\n",
        "decoder_attn.eval()"
      ],
      "metadata": {
        "colab": {
          "base_uri": "https://localhost:8080/"
        },
        "id": "Dt71Wc47RJhF",
        "outputId": "7b01d7b0-ddbb-4ccc-b4df-b1d97281b250"
      },
      "execution_count": null,
      "outputs": [
        {
          "output_type": "stream",
          "name": "stderr",
          "text": [
            "<ipython-input-55-0dd8c6ce0823>:2: FutureWarning: You are using `torch.load` with `weights_only=False` (the current default value), which uses the default pickle module implicitly. It is possible to construct malicious pickle data which will execute arbitrary code during unpickling (See https://github.com/pytorch/pytorch/blob/main/SECURITY.md#untrusted-models for more details). In a future release, the default value for `weights_only` will be flipped to `True`. This limits the functions that could be executed during unpickling. Arbitrary objects will no longer be allowed to be loaded via this mode unless they are explicitly allowlisted by the user via `torch.serialization.add_safe_globals`. We recommend you start setting `weights_only=True` for any use case where you don't have full control of the loaded file. Please open an issue on GitHub for any issues related to this experimental feature.\n",
            "  encoder_attn = torch.load('encoder_attention_full.pth')\n",
            "<ipython-input-55-0dd8c6ce0823>:3: FutureWarning: You are using `torch.load` with `weights_only=False` (the current default value), which uses the default pickle module implicitly. It is possible to construct malicious pickle data which will execute arbitrary code during unpickling (See https://github.com/pytorch/pytorch/blob/main/SECURITY.md#untrusted-models for more details). In a future release, the default value for `weights_only` will be flipped to `True`. This limits the functions that could be executed during unpickling. Arbitrary objects will no longer be allowed to be loaded via this mode unless they are explicitly allowlisted by the user via `torch.serialization.add_safe_globals`. We recommend you start setting `weights_only=True` for any use case where you don't have full control of the loaded file. Please open an issue on GitHub for any issues related to this experimental feature.\n",
            "  encoder_attn = torch.load('decoder_attention_full.pth')\n"
          ]
        },
        {
          "output_type": "execute_result",
          "data": {
            "text/plain": [
              "DecoderWithAttention(\n",
              "  (embedding): Embedding(24000, 128)\n",
              "  (attn): Attention(\n",
              "    (attn): Linear(in_features=256, out_features=128, bias=True)\n",
              "  )\n",
              "  (attn_combine): Linear(in_features=256, out_features=128, bias=True)\n",
              "  (dropout): Dropout(p=0.1, inplace=False)\n",
              "  (lstm): LSTM(128, 128)\n",
              "  (out): Linear(in_features=128, out_features=24000, bias=True)\n",
              ")"
            ]
          },
          "metadata": {},
          "execution_count": 55
        }
      ]
    },
    {
      "cell_type": "markdown",
      "metadata": {
        "id": "75P_CGYTOMeg"
      },
      "source": [
        "# 3. Сравнение моделей"
      ]
    },
    {
      "cell_type": "code",
      "execution_count": null,
      "metadata": {
        "colab": {
          "base_uri": "https://localhost:8080/",
          "height": 487
        },
        "id": "O4iTqqSC8cIb",
        "outputId": "4f9136de-ef59-417e-9459-cabb3c404d3c"
      },
      "outputs": [
        {
          "output_type": "display_data",
          "data": {
            "text/plain": [
              "<Figure size 1000x500 with 1 Axes>"
            ],
            "image/png": "[encoded data removed]"
          },
          "metadata": {}
        }
      ],
      "source": [
        "# Построение графика потерь по эпохам для моделей\n",
        "plt.figure(figsize=(10, 5))\n",
        "\n",
        "# Потери для каждой модели\n",
        "plt.plot(losses, label='LSTM Loss')\n",
        "plt.plot(losses_attn, label='Attention Loss')\n",
        "\n",
        "# Настройка графика\n",
        "plt.title('Изменение потерь по эпохам для LSTM и Attention моделей')\n",
        "plt.xlabel('Эпоха')\n",
        "plt.ylabel('Потери')\n",
        "plt.legend()\n",
        "\n",
        "# Отображение графика\n",
        "plt.show()"
      ]
    },
    {
      "cell_type": "code",
      "execution_count": null,
      "metadata": {
        "colab": {
          "base_uri": "https://localhost:8080/",
          "height": 487
        },
        "id": "7b38Yc1aPPCt",
        "outputId": "f0eb1088-0f03-4f78-9d74-3c9bc34c87dc"
      },
      "outputs": [
        {
          "output_type": "display_data",
          "data": {
            "text/plain": [
              "<Figure size 1000x500 with 1 Axes>"
            ],
            "image/png": "[encoded data removed]"
          },
          "metadata": {}
        }
      ],
      "source": [
        "# Построение графика BLEU-оценок по эпохам для двух моделей\n",
        "plt.figure(figsize=(10, 5))\n",
        "\n",
        "# BLEU-оценки для каждой модели\n",
        "plt.plot(bleu, label='LSTM BLEU')\n",
        "plt.plot(bleu_attn, label='Attention BLEU')\n",
        "\n",
        "# Настройка графика\n",
        "plt.title('Изменение BLEU по эпохам для LSTM и Attention моделей')\n",
        "plt.xlabel('Эпоха')\n",
        "plt.ylabel('BLEU')\n",
        "plt.legend()\n",
        "\n",
        "# Отображение графика\n",
        "plt.show()"
      ]
    },
    {
      "cell_type": "code",
      "execution_count": null,
      "metadata": {
        "colab": {
          "base_uri": "https://localhost:8080/",
          "height": 487
        },
        "id": "ziEG_xrvPSTv",
        "outputId": "1a4286c5-1088-44c7-dcc7-895e4e6993e3"
      },
      "outputs": [
        {
          "output_type": "display_data",
          "data": {
            "text/plain": [
              "<Figure size 1000x500 with 1 Axes>"
            ],
            "image/png": "[encoded data removed]"
          },
          "metadata": {}
        }
      ],
      "source": [
        "# Построение графика потерь по времени для обеих моделей\n",
        "plt.figure(figsize=(10, 5))\n",
        "\n",
        "# Графики потерь для каждой модели\n",
        "plt.plot(times, losses, label='LSTM Loss')\n",
        "plt.plot(times_attn, losses_attn, label='Attention Loss')\n",
        "\n",
        "# Настройка графика\n",
        "plt.title('Изменение функции потерь по времени для LSTM и Attention')\n",
        "plt.xlabel('Время (с)')\n",
        "plt.ylabel('Потери')\n",
        "plt.legend()\n",
        "\n",
        "# Отображение графика\n",
        "plt.show()"
      ]
    },
    {
      "cell_type": "code",
      "execution_count": null,
      "metadata": {
        "colab": {
          "base_uri": "https://localhost:8080/",
          "height": 487
        },
        "id": "Gp6GucUdPShg",
        "outputId": "70212f7d-4491-469d-e644-f80a42e15642"
      },
      "outputs": [
        {
          "output_type": "display_data",
          "data": {
            "text/plain": [
              "<Figure size 1000x500 with 1 Axes>"
            ],
            "image/png": "[encoded data removed]"
          },
          "metadata": {}
        }
      ],
      "source": [
        "# BLEU по времени для трёх моделей\n",
        "plt.figure(figsize=(10, 5))\n",
        "\n",
        "# Графики BLEU для каждой модели\n",
        "plt.plot(times, bleu, label='LSTM BLEU')\n",
        "plt.plot(times_attn, bleu_attn, label='Attention BLEU')\n",
        "\n",
        "# Настройка графика\n",
        "plt.title('Изменение BLEU по времени для LSTM и Attention')\n",
        "plt.xlabel('Время (с)')\n",
        "plt.ylabel('BLEU')\n",
        "plt.legend()\n",
        "\n",
        "# Отображение графика\n",
        "plt.show()"
      ]
    },
    {
      "cell_type": "markdown",
      "metadata": {
        "id": "9J5ItneEvVyU"
      },
      "source": [
        "Вывод:\n",
        "\n",
        "Модель EncoderDecoder с LSTM имеет низкие значения метрики качества BLEU по сравнению с моделью EncoderDecoder с Attention.\n",
        "\n",
        "В обеих моделях потери снижаются с увеличением итераций обучения.\n",
        "\n",
        "Из двух обученных моделей выигрывает модель с Attention."
      ]
    }
  ],
  "metadata": {
    "colab": {
      "collapsed_sections": [
        "dLVPrdK_qk0Q",
        "1V6XeWQInDFJ",
        "MKRpJ1PkwpCd",
        "ufAibOf9zpZJ",
        "qp6j2p7hw2lE",
        "S-mPWq6I_Kw0",
        "Gm2HSKW5-9UA",
        "FzQknFR4nyAs",
        "HDP8oCCzcqqb",
        "m8GKRz-yP14k",
        "75P_CGYTOMeg"
      ],
      "provenance": [],
      "gpuType": "T4",
      "include_colab_link": true
    },
    "kernelspec": {
      "display_name": "Python 3",
      "name": "python3"
    },
    "language_info": {
      "name": "python"
    },
    "widgets": {
      "application/vnd.jupyter.widget-state+json": {
        "93fd75db5f5d4a5ca82cd0ede043c1f8": {
          "model_module": "@jupyter-widgets/controls",
          "model_name": "HBoxModel",
          "model_module_version": "1.5.0",
          "state": {
            "_dom_classes": [],
            "_model_module": "@jupyter-widgets/controls",
            "_model_module_version": "1.5.0",
            "_model_name": "HBoxModel",
            "_view_count": null,
            "_view_module": "@jupyter-widgets/controls",
            "_view_module_version": "1.5.0",
            "_view_name": "HBoxView",
            "box_style": "",
            "children": [
              "IPY_MODEL_2dc5fc680c434678a597775de172d04c",
              "IPY_MODEL_aafb45d409c24578b911f28a20109065",
              "IPY_MODEL_754176f68fc94d829d318b7a44a18bc0"
            ],
            "layout": "IPY_MODEL_434756f2c018446180f64100d30bab1b"
          }
        },
        "2dc5fc680c434678a597775de172d04c": {
          "model_module": "@jupyter-widgets/controls",
          "model_name": "HTMLModel",
          "model_module_version": "1.5.0",
          "state": {
            "_dom_classes": [],
            "_model_module": "@jupyter-widgets/controls",
            "_model_module_version": "1.5.0",
            "_model_name": "HTMLModel",
            "_view_count": null,
            "_view_module": "@jupyter-widgets/controls",
            "_view_module_version": "1.5.0",
            "_view_name": "HTMLView",
            "description": "",
            "description_tooltip": null,
            "layout": "IPY_MODEL_c2ec29b81e5d4cd7ad4515778ffff783",
            "placeholder": "​",
            "style": "IPY_MODEL_3c77c1852fc048d3893f68e317bd06fd",
            "value": "Токенизация: 100%"
          }
        },
        "aafb45d409c24578b911f28a20109065": {
          "model_module": "@jupyter-widgets/controls",
          "model_name": "FloatProgressModel",
          "model_module_version": "1.5.0",
          "state": {
            "_dom_classes": [],
            "_model_module": "@jupyter-widgets/controls",
            "_model_module_version": "1.5.0",
            "_model_name": "FloatProgressModel",
            "_view_count": null,
            "_view_module": "@jupyter-widgets/controls",
            "_view_module_version": "1.5.0",
            "_view_name": "ProgressView",
            "bar_style": "success",
            "description": "",
            "description_tooltip": null,
            "layout": "IPY_MODEL_e639f2d3852e4db8894732da3fc76312",
            "max": 193633,
            "min": 0,
            "orientation": "horizontal",
            "style": "IPY_MODEL_12d35ac2d78f4fd4b322b695c809720c",
            "value": 193633
          }
        },
        "754176f68fc94d829d318b7a44a18bc0": {
          "model_module": "@jupyter-widgets/controls",
          "model_name": "HTMLModel",
          "model_module_version": "1.5.0",
          "state": {
            "_dom_classes": [],
            "_model_module": "@jupyter-widgets/controls",
            "_model_module_version": "1.5.0",
            "_model_name": "HTMLModel",
            "_view_count": null,
            "_view_module": "@jupyter-widgets/controls",
            "_view_module_version": "1.5.0",
            "_view_name": "HTMLView",
            "description": "",
            "description_tooltip": null,
            "layout": "IPY_MODEL_cea0589097184691b9fc72af9a18e2fc",
            "placeholder": "​",
            "style": "IPY_MODEL_e77e9cda169048b9aeca6a0335ff524f",
            "value": " 193633/193633 [04:24&lt;00:00, 451.13it/s]"
          }
        },
        "434756f2c018446180f64100d30bab1b": {
          "model_module": "@jupyter-widgets/base",
          "model_name": "LayoutModel",
          "model_module_version": "1.2.0",
          "state": {
            "_model_module": "@jupyter-widgets/base",
            "_model_module_version": "1.2.0",
            "_model_name": "LayoutModel",
            "_view_count": null,
            "_view_module": "@jupyter-widgets/base",
            "_view_module_version": "1.2.0",
            "_view_name": "LayoutView",
            "align_content": null,
            "align_items": null,
            "align_self": null,
            "border": null,
            "bottom": null,
            "display": null,
            "flex": null,
            "flex_flow": null,
            "grid_area": null,
            "grid_auto_columns": null,
            "grid_auto_flow": null,
            "grid_auto_rows": null,
            "grid_column": null,
            "grid_gap": null,
            "grid_row": null,
            "grid_template_areas": null,
            "grid_template_columns": null,
            "grid_template_rows": null,
            "height": null,
            "justify_content": null,
            "justify_items": null,
            "left": null,
            "margin": null,
            "max_height": null,
            "max_width": null,
            "min_height": null,
            "min_width": null,
            "object_fit": null,
            "object_position": null,
            "order": null,
            "overflow": null,
            "overflow_x": null,
            "overflow_y": null,
            "padding": null,
            "right": null,
            "top": null,
            "visibility": null,
            "width": null
          }
        },
        "c2ec29b81e5d4cd7ad4515778ffff783": {
          "model_module": "@jupyter-widgets/base",
          "model_name": "LayoutModel",
          "model_module_version": "1.2.0",
          "state": {
            "_model_module": "@jupyter-widgets/base",
            "_model_module_version": "1.2.0",
            "_model_name": "LayoutModel",
            "_view_count": null,
            "_view_module": "@jupyter-widgets/base",
            "_view_module_version": "1.2.0",
            "_view_name": "LayoutView",
            "align_content": null,
            "align_items": null,
            "align_self": null,
            "border": null,
            "bottom": null,
            "display": null,
            "flex": null,
            "flex_flow": null,
            "grid_area": null,
            "grid_auto_columns": null,
            "grid_auto_flow": null,
            "grid_auto_rows": null,
            "grid_column": null,
            "grid_gap": null,
            "grid_row": null,
            "grid_template_areas": null,
            "grid_template_columns": null,
            "grid_template_rows": null,
            "height": null,
            "justify_content": null,
            "justify_items": null,
            "left": null,
            "margin": null,
            "max_height": null,
            "max_width": null,
            "min_height": null,
            "min_width": null,
            "object_fit": null,
            "object_position": null,
            "order": null,
            "overflow": null,
            "overflow_x": null,
            "overflow_y": null,
            "padding": null,
            "right": null,
            "top": null,
            "visibility": null,
            "width": null
          }
        },
        "3c77c1852fc048d3893f68e317bd06fd": {
          "model_module": "@jupyter-widgets/controls",
          "model_name": "DescriptionStyleModel",
          "model_module_version": "1.5.0",
          "state": {
            "_model_module": "@jupyter-widgets/controls",
            "_model_module_version": "1.5.0",
            "_model_name": "DescriptionStyleModel",
            "_view_count": null,
            "_view_module": "@jupyter-widgets/base",
            "_view_module_version": "1.2.0",
            "_view_name": "StyleView",
            "description_width": ""
          }
        },
        "e639f2d3852e4db8894732da3fc76312": {
          "model_module": "@jupyter-widgets/base",
          "model_name": "LayoutModel",
          "model_module_version": "1.2.0",
          "state": {
            "_model_module": "@jupyter-widgets/base",
            "_model_module_version": "1.2.0",
            "_model_name": "LayoutModel",
            "_view_count": null,
            "_view_module": "@jupyter-widgets/base",
            "_view_module_version": "1.2.0",
            "_view_name": "LayoutView",
            "align_content": null,
            "align_items": null,
            "align_self": null,
            "border": null,
            "bottom": null,
            "display": null,
            "flex": null,
            "flex_flow": null,
            "grid_area": null,
            "grid_auto_columns": null,
            "grid_auto_flow": null,
            "grid_auto_rows": null,
            "grid_column": null,
            "grid_gap": null,
            "grid_row": null,
            "grid_template_areas": null,
            "grid_template_columns": null,
            "grid_template_rows": null,
            "height": null,
            "justify_content": null,
            "justify_items": null,
            "left": null,
            "margin": null,
            "max_height": null,
            "max_width": null,
            "min_height": null,
            "min_width": null,
            "object_fit": null,
            "object_position": null,
            "order": null,
            "overflow": null,
            "overflow_x": null,
            "overflow_y": null,
            "padding": null,
            "right": null,
            "top": null,
            "visibility": null,
            "width": null
          }
        },
        "12d35ac2d78f4fd4b322b695c809720c": {
          "model_module": "@jupyter-widgets/controls",
          "model_name": "ProgressStyleModel",
          "model_module_version": "1.5.0",
          "state": {
            "_model_module": "@jupyter-widgets/controls",
            "_model_module_version": "1.5.0",
            "_model_name": "ProgressStyleModel",
            "_view_count": null,
            "_view_module": "@jupyter-widgets/base",
            "_view_module_version": "1.2.0",
            "_view_name": "StyleView",
            "bar_color": null,
            "description_width": ""
          }
        },
        "cea0589097184691b9fc72af9a18e2fc": {
          "model_module": "@jupyter-widgets/base",
          "model_name": "LayoutModel",
          "model_module_version": "1.2.0",
          "state": {
            "_model_module": "@jupyter-widgets/base",
            "_model_module_version": "1.2.0",
            "_model_name": "LayoutModel",
            "_view_count": null,
            "_view_module": "@jupyter-widgets/base",
            "_view_module_version": "1.2.0",
            "_view_name": "LayoutView",
            "align_content": null,
            "align_items": null,
            "align_self": null,
            "border": null,
            "bottom": null,
            "display": null,
            "flex": null,
            "flex_flow": null,
            "grid_area": null,
            "grid_auto_columns": null,
            "grid_auto_flow": null,
            "grid_auto_rows": null,
            "grid_column": null,
            "grid_gap": null,
            "grid_row": null,
            "grid_template_areas": null,
            "grid_template_columns": null,
            "grid_template_rows": null,
            "height": null,
            "justify_content": null,
            "justify_items": null,
            "left": null,
            "margin": null,
            "max_height": null,
            "max_width": null,
            "min_height": null,
            "min_width": null,
            "object_fit": null,
            "object_position": null,
            "order": null,
            "overflow": null,
            "overflow_x": null,
            "overflow_y": null,
            "padding": null,
            "right": null,
            "top": null,
            "visibility": null,
            "width": null
          }
        },
        "e77e9cda169048b9aeca6a0335ff524f": {
          "model_module": "@jupyter-widgets/controls",
          "model_name": "DescriptionStyleModel",
          "model_module_version": "1.5.0",
          "state": {
            "_model_module": "@jupyter-widgets/controls",
            "_model_module_version": "1.5.0",
            "_model_name": "DescriptionStyleModel",
            "_view_count": null,
            "_view_module": "@jupyter-widgets/base",
            "_view_module_version": "1.2.0",
            "_view_name": "StyleView",
            "description_width": ""
          }
        },
        "0b5cd6bddb104a80ae1d1e0fb79afea8": {
          "model_module": "@jupyter-widgets/controls",
          "model_name": "HBoxModel",
          "model_module_version": "1.5.0",
          "state": {
            "_dom_classes": [],
            "_model_module": "@jupyter-widgets/controls",
            "_model_module_version": "1.5.0",
            "_model_name": "HBoxModel",
            "_view_count": null,
            "_view_module": "@jupyter-widgets/controls",
            "_view_module_version": "1.5.0",
            "_view_name": "HBoxView",
            "box_style": "",
            "children": [
              "IPY_MODEL_8142453e6efa489c8441b8fd9f624f2a",
              "IPY_MODEL_6d6a4bab08d1427099b68eceb78af871",
              "IPY_MODEL_e83a12c38f374bf283479d3c4f4470df"
            ],
            "layout": "IPY_MODEL_68c6e9d38d4e49bf8eed9b1c415f9899"
          }
        },
        "8142453e6efa489c8441b8fd9f624f2a": {
          "model_module": "@jupyter-widgets/controls",
          "model_name": "HTMLModel",
          "model_module_version": "1.5.0",
          "state": {
            "_dom_classes": [],
            "_model_module": "@jupyter-widgets/controls",
            "_model_module_version": "1.5.0",
            "_model_name": "HTMLModel",
            "_view_count": null,
            "_view_module": "@jupyter-widgets/controls",
            "_view_module_version": "1.5.0",
            "_view_name": "HTMLView",
            "description": "",
            "description_tooltip": null,
            "layout": "IPY_MODEL_1cc68c4ca1534b83a33a87b7a486f403",
            "placeholder": "​",
            "style": "IPY_MODEL_82f9f94120dd43e49085cbadf0db7b5a",
            "value": "Токенизация: 100%"
          }
        },
        "6d6a4bab08d1427099b68eceb78af871": {
          "model_module": "@jupyter-widgets/controls",
          "model_name": "FloatProgressModel",
          "model_module_version": "1.5.0",
          "state": {
            "_dom_classes": [],
            "_model_module": "@jupyter-widgets/controls",
            "_model_module_version": "1.5.0",
            "_model_name": "FloatProgressModel",
            "_view_count": null,
            "_view_module": "@jupyter-widgets/controls",
            "_view_module_version": "1.5.0",
            "_view_name": "ProgressView",
            "bar_style": "success",
            "description": "",
            "description_tooltip": null,
            "layout": "IPY_MODEL_ff6fa70a2b4944bb9557bdbbf3fc6a8c",
            "max": 193633,
            "min": 0,
            "orientation": "horizontal",
            "style": "IPY_MODEL_198fddcfdec64303a3c85b535b95dcce",
            "value": 193633
          }
        },
        "e83a12c38f374bf283479d3c4f4470df": {
          "model_module": "@jupyter-widgets/controls",
          "model_name": "HTMLModel",
          "model_module_version": "1.5.0",
          "state": {
            "_dom_classes": [],
            "_model_module": "@jupyter-widgets/controls",
            "_model_module_version": "1.5.0",
            "_model_name": "HTMLModel",
            "_view_count": null,
            "_view_module": "@jupyter-widgets/controls",
            "_view_module_version": "1.5.0",
            "_view_name": "HTMLView",
            "description": "",
            "description_tooltip": null,
            "layout": "IPY_MODEL_863ebb059ae2462b96bd4f50e8600f39",
            "placeholder": "​",
            "style": "IPY_MODEL_9cc72741a0e84a47bd537017d0218eb2",
            "value": " 193633/193633 [03:29&lt;00:00, 626.89it/s]"
          }
        },
        "68c6e9d38d4e49bf8eed9b1c415f9899": {
          "model_module": "@jupyter-widgets/base",
          "model_name": "LayoutModel",
          "model_module_version": "1.2.0",
          "state": {
            "_model_module": "@jupyter-widgets/base",
            "_model_module_version": "1.2.0",
            "_model_name": "LayoutModel",
            "_view_count": null,
            "_view_module": "@jupyter-widgets/base",
            "_view_module_version": "1.2.0",
            "_view_name": "LayoutView",
            "align_content": null,
            "align_items": null,
            "align_self": null,
            "border": null,
            "bottom": null,
            "display": null,
            "flex": null,
            "flex_flow": null,
            "grid_area": null,
            "grid_auto_columns": null,
            "grid_auto_flow": null,
            "grid_auto_rows": null,
            "grid_column": null,
            "grid_gap": null,
            "grid_row": null,
            "grid_template_areas": null,
            "grid_template_columns": null,
            "grid_template_rows": null,
            "height": null,
            "justify_content": null,
            "justify_items": null,
            "left": null,
            "margin": null,
            "max_height": null,
            "max_width": null,
            "min_height": null,
            "min_width": null,
            "object_fit": null,
            "object_position": null,
            "order": null,
            "overflow": null,
            "overflow_x": null,
            "overflow_y": null,
            "padding": null,
            "right": null,
            "top": null,
            "visibility": null,
            "width": null
          }
        },
        "1cc68c4ca1534b83a33a87b7a486f403": {
          "model_module": "@jupyter-widgets/base",
          "model_name": "LayoutModel",
          "model_module_version": "1.2.0",
          "state": {
            "_model_module": "@jupyter-widgets/base",
            "_model_module_version": "1.2.0",
            "_model_name": "LayoutModel",
            "_view_count": null,
            "_view_module": "@jupyter-widgets/base",
            "_view_module_version": "1.2.0",
            "_view_name": "LayoutView",
            "align_content": null,
            "align_items": null,
            "align_self": null,
            "border": null,
            "bottom": null,
            "display": null,
            "flex": null,
            "flex_flow": null,
            "grid_area": null,
            "grid_auto_columns": null,
            "grid_auto_flow": null,
            "grid_auto_rows": null,
            "grid_column": null,
            "grid_gap": null,
            "grid_row": null,
            "grid_template_areas": null,
            "grid_template_columns": null,
            "grid_template_rows": null,
            "height": null,
            "justify_content": null,
            "justify_items": null,
            "left": null,
            "margin": null,
            "max_height": null,
            "max_width": null,
            "min_height": null,
            "min_width": null,
            "object_fit": null,
            "object_position": null,
            "order": null,
            "overflow": null,
            "overflow_x": null,
            "overflow_y": null,
            "padding": null,
            "right": null,
            "top": null,
            "visibility": null,
            "width": null
          }
        },
        "82f9f94120dd43e49085cbadf0db7b5a": {
          "model_module": "@jupyter-widgets/controls",
          "model_name": "DescriptionStyleModel",
          "model_module_version": "1.5.0",
          "state": {
            "_model_module": "@jupyter-widgets/controls",
            "_model_module_version": "1.5.0",
            "_model_name": "DescriptionStyleModel",
            "_view_count": null,
            "_view_module": "@jupyter-widgets/base",
            "_view_module_version": "1.2.0",
            "_view_name": "StyleView",
            "description_width": ""
          }
        },
        "ff6fa70a2b4944bb9557bdbbf3fc6a8c": {
          "model_module": "@jupyter-widgets/base",
          "model_name": "LayoutModel",
          "model_module_version": "1.2.0",
          "state": {
            "_model_module": "@jupyter-widgets/base",
            "_model_module_version": "1.2.0",
            "_model_name": "LayoutModel",
            "_view_count": null,
            "_view_module": "@jupyter-widgets/base",
            "_view_module_version": "1.2.0",
            "_view_name": "LayoutView",
            "align_content": null,
            "align_items": null,
            "align_self": null,
            "border": null,
            "bottom": null,
            "display": null,
            "flex": null,
            "flex_flow": null,
            "grid_area": null,
            "grid_auto_columns": null,
            "grid_auto_flow": null,
            "grid_auto_rows": null,
            "grid_column": null,
            "grid_gap": null,
            "grid_row": null,
            "grid_template_areas": null,
            "grid_template_columns": null,
            "grid_template_rows": null,
            "height": null,
            "justify_content": null,
            "justify_items": null,
            "left": null,
            "margin": null,
            "max_height": null,
            "max_width": null,
            "min_height": null,
            "min_width": null,
            "object_fit": null,
            "object_position": null,
            "order": null,
            "overflow": null,
            "overflow_x": null,
            "overflow_y": null,
            "padding": null,
            "right": null,
            "top": null,
            "visibility": null,
            "width": null
          }
        },
        "198fddcfdec64303a3c85b535b95dcce": {
          "model_module": "@jupyter-widgets/controls",
          "model_name": "ProgressStyleModel",
          "model_module_version": "1.5.0",
          "state": {
            "_model_module": "@jupyter-widgets/controls",
            "_model_module_version": "1.5.0",
            "_model_name": "ProgressStyleModel",
            "_view_count": null,
            "_view_module": "@jupyter-widgets/base",
            "_view_module_version": "1.2.0",
            "_view_name": "StyleView",
            "bar_color": null,
            "description_width": ""
          }
        },
        "863ebb059ae2462b96bd4f50e8600f39": {
          "model_module": "@jupyter-widgets/base",
          "model_name": "LayoutModel",
          "model_module_version": "1.2.0",
          "state": {
            "_model_module": "@jupyter-widgets/base",
            "_model_module_version": "1.2.0",
            "_model_name": "LayoutModel",
            "_view_count": null,
            "_view_module": "@jupyter-widgets/base",
            "_view_module_version": "1.2.0",
            "_view_name": "LayoutView",
            "align_content": null,
            "align_items": null,
            "align_self": null,
            "border": null,
            "bottom": null,
            "display": null,
            "flex": null,
            "flex_flow": null,
            "grid_area": null,
            "grid_auto_columns": null,
            "grid_auto_flow": null,
            "grid_auto_rows": null,
            "grid_column": null,
            "grid_gap": null,
            "grid_row": null,
            "grid_template_areas": null,
            "grid_template_columns": null,
            "grid_template_rows": null,
            "height": null,
            "justify_content": null,
            "justify_items": null,
            "left": null,
            "margin": null,
            "max_height": null,
            "max_width": null,
            "min_height": null,
            "min_width": null,
            "object_fit": null,
            "object_position": null,
            "order": null,
            "overflow": null,
            "overflow_x": null,
            "overflow_y": null,
            "padding": null,
            "right": null,
            "top": null,
            "visibility": null,
            "width": null
          }
        },
        "9cc72741a0e84a47bd537017d0218eb2": {
          "model_module": "@jupyter-widgets/controls",
          "model_name": "DescriptionStyleModel",
          "model_module_version": "1.5.0",
          "state": {
            "_model_module": "@jupyter-widgets/controls",
            "_model_module_version": "1.5.0",
            "_model_name": "DescriptionStyleModel",
            "_view_count": null,
            "_view_module": "@jupyter-widgets/base",
            "_view_module_version": "1.2.0",
            "_view_name": "StyleView",
            "description_width": ""
          }
        },
        "6aeb8a1ffc0845489877e0360122653a": {
          "model_module": "@jupyter-widgets/controls",
          "model_name": "HBoxModel",
          "model_module_version": "1.5.0",
          "state": {
            "_dom_classes": [],
            "_model_module": "@jupyter-widgets/controls",
            "_model_module_version": "1.5.0",
            "_model_name": "HBoxModel",
            "_view_count": null,
            "_view_module": "@jupyter-widgets/controls",
            "_view_module_version": "1.5.0",
            "_view_name": "HBoxView",
            "box_style": "",
            "children": [
              "IPY_MODEL_c7ed6de169b74884ba90accc135207d6",
              "IPY_MODEL_51ae18370a644dc6b33471bff6d970bc",
              "IPY_MODEL_9ef337d6a9c041d693ac04c0081775c8"
            ],
            "layout": "IPY_MODEL_e4778bfeca914908ba996d3e07f57224"
          }
        },
        "c7ed6de169b74884ba90accc135207d6": {
          "model_module": "@jupyter-widgets/controls",
          "model_name": "HTMLModel",
          "model_module_version": "1.5.0",
          "state": {
            "_dom_classes": [],
            "_model_module": "@jupyter-widgets/controls",
            "_model_module_version": "1.5.0",
            "_model_name": "HTMLModel",
            "_view_count": null,
            "_view_module": "@jupyter-widgets/controls",
            "_view_module_version": "1.5.0",
            "_view_name": "HTMLView",
            "description": "",
            "description_tooltip": null,
            "layout": "IPY_MODEL_3b43962972c94bbfb1f5d0c7774b548c",
            "placeholder": "​",
            "style": "IPY_MODEL_e9bb2620e51e4831a26f868ecbffb70b",
            "value": "Обучение: 100%"
          }
        },
        "51ae18370a644dc6b33471bff6d970bc": {
          "model_module": "@jupyter-widgets/controls",
          "model_name": "FloatProgressModel",
          "model_module_version": "1.5.0",
          "state": {
            "_dom_classes": [],
            "_model_module": "@jupyter-widgets/controls",
            "_model_module_version": "1.5.0",
            "_model_name": "FloatProgressModel",
            "_view_count": null,
            "_view_module": "@jupyter-widgets/controls",
            "_view_module_version": "1.5.0",
            "_view_name": "ProgressView",
            "bar_style": "success",
            "description": "",
            "description_tooltip": null,
            "layout": "IPY_MODEL_8f1a400768c14f2f8fc8502fbf190d3a",
            "max": 10000,
            "min": 0,
            "orientation": "horizontal",
            "style": "IPY_MODEL_85932e4544464cf0a8a447f57e92a122",
            "value": 10000
          }
        },
        "9ef337d6a9c041d693ac04c0081775c8": {
          "model_module": "@jupyter-widgets/controls",
          "model_name": "HTMLModel",
          "model_module_version": "1.5.0",
          "state": {
            "_dom_classes": [],
            "_model_module": "@jupyter-widgets/controls",
            "_model_module_version": "1.5.0",
            "_model_name": "HTMLModel",
            "_view_count": null,
            "_view_module": "@jupyter-widgets/controls",
            "_view_module_version": "1.5.0",
            "_view_name": "HTMLView",
            "description": "",
            "description_tooltip": null,
            "layout": "IPY_MODEL_e05336b13da745b796ac61cf61d21a97",
            "placeholder": "​",
            "style": "IPY_MODEL_9483227d0c3a444ba00fba999d41bd18",
            "value": " 10000/10000 [34:49&lt;00:00,  2.33it/s]"
          }
        },
        "e4778bfeca914908ba996d3e07f57224": {
          "model_module": "@jupyter-widgets/base",
          "model_name": "LayoutModel",
          "model_module_version": "1.2.0",
          "state": {
            "_model_module": "@jupyter-widgets/base",
            "_model_module_version": "1.2.0",
            "_model_name": "LayoutModel",
            "_view_count": null,
            "_view_module": "@jupyter-widgets/base",
            "_view_module_version": "1.2.0",
            "_view_name": "LayoutView",
            "align_content": null,
            "align_items": null,
            "align_self": null,
            "border": null,
            "bottom": null,
            "display": null,
            "flex": null,
            "flex_flow": null,
            "grid_area": null,
            "grid_auto_columns": null,
            "grid_auto_flow": null,
            "grid_auto_rows": null,
            "grid_column": null,
            "grid_gap": null,
            "grid_row": null,
            "grid_template_areas": null,
            "grid_template_columns": null,
            "grid_template_rows": null,
            "height": null,
            "justify_content": null,
            "justify_items": null,
            "left": null,
            "margin": null,
            "max_height": null,
            "max_width": null,
            "min_height": null,
            "min_width": null,
            "object_fit": null,
            "object_position": null,
            "order": null,
            "overflow": null,
            "overflow_x": null,
            "overflow_y": null,
            "padding": null,
            "right": null,
            "top": null,
            "visibility": null,
            "width": null
          }
        },
        "3b43962972c94bbfb1f5d0c7774b548c": {
          "model_module": "@jupyter-widgets/base",
          "model_name": "LayoutModel",
          "model_module_version": "1.2.0",
          "state": {
            "_model_module": "@jupyter-widgets/base",
            "_model_module_version": "1.2.0",
            "_model_name": "LayoutModel",
            "_view_count": null,
            "_view_module": "@jupyter-widgets/base",
            "_view_module_version": "1.2.0",
            "_view_name": "LayoutView",
            "align_content": null,
            "align_items": null,
            "align_self": null,
            "border": null,
            "bottom": null,
            "display": null,
            "flex": null,
            "flex_flow": null,
            "grid_area": null,
            "grid_auto_columns": null,
            "grid_auto_flow": null,
            "grid_auto_rows": null,
            "grid_column": null,
            "grid_gap": null,
            "grid_row": null,
            "grid_template_areas": null,
            "grid_template_columns": null,
            "grid_template_rows": null,
            "height": null,
            "justify_content": null,
            "justify_items": null,
            "left": null,
            "margin": null,
            "max_height": null,
            "max_width": null,
            "min_height": null,
            "min_width": null,
            "object_fit": null,
            "object_position": null,
            "order": null,
            "overflow": null,
            "overflow_x": null,
            "overflow_y": null,
            "padding": null,
            "right": null,
            "top": null,
            "visibility": null,
            "width": null
          }
        },
        "e9bb2620e51e4831a26f868ecbffb70b": {
          "model_module": "@jupyter-widgets/controls",
          "model_name": "DescriptionStyleModel",
          "model_module_version": "1.5.0",
          "state": {
            "_model_module": "@jupyter-widgets/controls",
            "_model_module_version": "1.5.0",
            "_model_name": "DescriptionStyleModel",
            "_view_count": null,
            "_view_module": "@jupyter-widgets/base",
            "_view_module_version": "1.2.0",
            "_view_name": "StyleView",
            "description_width": ""
          }
        },
        "8f1a400768c14f2f8fc8502fbf190d3a": {
          "model_module": "@jupyter-widgets/base",
          "model_name": "LayoutModel",
          "model_module_version": "1.2.0",
          "state": {
            "_model_module": "@jupyter-widgets/base",
            "_model_module_version": "1.2.0",
            "_model_name": "LayoutModel",
            "_view_count": null,
            "_view_module": "@jupyter-widgets/base",
            "_view_module_version": "1.2.0",
            "_view_name": "LayoutView",
            "align_content": null,
            "align_items": null,
            "align_self": null,
            "border": null,
            "bottom": null,
            "display": null,
            "flex": null,
            "flex_flow": null,
            "grid_area": null,
            "grid_auto_columns": null,
            "grid_auto_flow": null,
            "grid_auto_rows": null,
            "grid_column": null,
            "grid_gap": null,
            "grid_row": null,
            "grid_template_areas": null,
            "grid_template_columns": null,
            "grid_template_rows": null,
            "height": null,
            "justify_content": null,
            "justify_items": null,
            "left": null,
            "margin": null,
            "max_height": null,
            "max_width": null,
            "min_height": null,
            "min_width": null,
            "object_fit": null,
            "object_position": null,
            "order": null,
            "overflow": null,
            "overflow_x": null,
            "overflow_y": null,
            "padding": null,
            "right": null,
            "top": null,
            "visibility": null,
            "width": null
          }
        },
        "85932e4544464cf0a8a447f57e92a122": {
          "model_module": "@jupyter-widgets/controls",
          "model_name": "ProgressStyleModel",
          "model_module_version": "1.5.0",
          "state": {
            "_model_module": "@jupyter-widgets/controls",
            "_model_module_version": "1.5.0",
            "_model_name": "ProgressStyleModel",
            "_view_count": null,
            "_view_module": "@jupyter-widgets/base",
            "_view_module_version": "1.2.0",
            "_view_name": "StyleView",
            "bar_color": null,
            "description_width": ""
          }
        },
        "e05336b13da745b796ac61cf61d21a97": {
          "model_module": "@jupyter-widgets/base",
          "model_name": "LayoutModel",
          "model_module_version": "1.2.0",
          "state": {
            "_model_module": "@jupyter-widgets/base",
            "_model_module_version": "1.2.0",
            "_model_name": "LayoutModel",
            "_view_count": null,
            "_view_module": "@jupyter-widgets/base",
            "_view_module_version": "1.2.0",
            "_view_name": "LayoutView",
            "align_content": null,
            "align_items": null,
            "align_self": null,
            "border": null,
            "bottom": null,
            "display": null,
            "flex": null,
            "flex_flow": null,
            "grid_area": null,
            "grid_auto_columns": null,
            "grid_auto_flow": null,
            "grid_auto_rows": null,
            "grid_column": null,
            "grid_gap": null,
            "grid_row": null,
            "grid_template_areas": null,
            "grid_template_columns": null,
            "grid_template_rows": null,
            "height": null,
            "justify_content": null,
            "justify_items": null,
            "left": null,
            "margin": null,
            "max_height": null,
            "max_width": null,
            "min_height": null,
            "min_width": null,
            "object_fit": null,
            "object_position": null,
            "order": null,
            "overflow": null,
            "overflow_x": null,
            "overflow_y": null,
            "padding": null,
            "right": null,
            "top": null,
            "visibility": null,
            "width": null
          }
        },
        "9483227d0c3a444ba00fba999d41bd18": {
          "model_module": "@jupyter-widgets/controls",
          "model_name": "DescriptionStyleModel",
          "model_module_version": "1.5.0",
          "state": {
            "_model_module": "@jupyter-widgets/controls",
            "_model_module_version": "1.5.0",
            "_model_name": "DescriptionStyleModel",
            "_view_count": null,
            "_view_module": "@jupyter-widgets/base",
            "_view_module_version": "1.2.0",
            "_view_name": "StyleView",
            "description_width": ""
          }
        },
        "0f433031e6894ac2b3805e8ad1a7fcb3": {
          "model_module": "@jupyter-widgets/controls",
          "model_name": "HBoxModel",
          "model_module_version": "1.5.0",
          "state": {
            "_dom_classes": [],
            "_model_module": "@jupyter-widgets/controls",
            "_model_module_version": "1.5.0",
            "_model_name": "HBoxModel",
            "_view_count": null,
            "_view_module": "@jupyter-widgets/controls",
            "_view_module_version": "1.5.0",
            "_view_name": "HBoxView",
            "box_style": "",
            "children": [
              "IPY_MODEL_ed11999ae4664fefae949190b70285d5",
              "IPY_MODEL_1f8c8d505a3a4c13abd75f9564a03341",
              "IPY_MODEL_83c64b2dd3ad488492c89c12f8fc30bf"
            ],
            "layout": "IPY_MODEL_2bc3895cf8804eeca8b1d9cc890be377"
          }
        },
        "ed11999ae4664fefae949190b70285d5": {
          "model_module": "@jupyter-widgets/controls",
          "model_name": "HTMLModel",
          "model_module_version": "1.5.0",
          "state": {
            "_dom_classes": [],
            "_model_module": "@jupyter-widgets/controls",
            "_model_module_version": "1.5.0",
            "_model_name": "HTMLModel",
            "_view_count": null,
            "_view_module": "@jupyter-widgets/controls",
            "_view_module_version": "1.5.0",
            "_view_name": "HTMLView",
            "description": "",
            "description_tooltip": null,
            "layout": "IPY_MODEL_663d045b0d7e439b8a48b0695e5b6545",
            "placeholder": "​",
            "style": "IPY_MODEL_efbca6240d574524969579beb4f8387b",
            "value": "Обучение: 100%"
          }
        },
        "1f8c8d505a3a4c13abd75f9564a03341": {
          "model_module": "@jupyter-widgets/controls",
          "model_name": "FloatProgressModel",
          "model_module_version": "1.5.0",
          "state": {
            "_dom_classes": [],
            "_model_module": "@jupyter-widgets/controls",
            "_model_module_version": "1.5.0",
            "_model_name": "FloatProgressModel",
            "_view_count": null,
            "_view_module": "@jupyter-widgets/controls",
            "_view_module_version": "1.5.0",
            "_view_name": "ProgressView",
            "bar_style": "success",
            "description": "",
            "description_tooltip": null,
            "layout": "IPY_MODEL_dcf342abab0f4a6d952952b6fbbcc660",
            "max": 10000,
            "min": 0,
            "orientation": "horizontal",
            "style": "IPY_MODEL_24cdf572a1fa40f8acbd35365ab7778f",
            "value": 10000
          }
        },
        "83c64b2dd3ad488492c89c12f8fc30bf": {
          "model_module": "@jupyter-widgets/controls",
          "model_name": "HTMLModel",
          "model_module_version": "1.5.0",
          "state": {
            "_dom_classes": [],
            "_model_module": "@jupyter-widgets/controls",
            "_model_module_version": "1.5.0",
            "_model_name": "HTMLModel",
            "_view_count": null,
            "_view_module": "@jupyter-widgets/controls",
            "_view_module_version": "1.5.0",
            "_view_name": "HTMLView",
            "description": "",
            "description_tooltip": null,
            "layout": "IPY_MODEL_27c34933940f4a28a7d8c1f81c8d8cba",
            "placeholder": "​",
            "style": "IPY_MODEL_e3d5f068750d4051a427569aa26b9b21",
            "value": " 10000/10000 [39:14&lt;00:00,  3.18it/s]"
          }
        },
        "2bc3895cf8804eeca8b1d9cc890be377": {
          "model_module": "@jupyter-widgets/base",
          "model_name": "LayoutModel",
          "model_module_version": "1.2.0",
          "state": {
            "_model_module": "@jupyter-widgets/base",
            "_model_module_version": "1.2.0",
            "_model_name": "LayoutModel",
            "_view_count": null,
            "_view_module": "@jupyter-widgets/base",
            "_view_module_version": "1.2.0",
            "_view_name": "LayoutView",
            "align_content": null,
            "align_items": null,
            "align_self": null,
            "border": null,
            "bottom": null,
            "display": null,
            "flex": null,
            "flex_flow": null,
            "grid_area": null,
            "grid_auto_columns": null,
            "grid_auto_flow": null,
            "grid_auto_rows": null,
            "grid_column": null,
            "grid_gap": null,
            "grid_row": null,
            "grid_template_areas": null,
            "grid_template_columns": null,
            "grid_template_rows": null,
            "height": null,
            "justify_content": null,
            "justify_items": null,
            "left": null,
            "margin": null,
            "max_height": null,
            "max_width": null,
            "min_height": null,
            "min_width": null,
            "object_fit": null,
            "object_position": null,
            "order": null,
            "overflow": null,
            "overflow_x": null,
            "overflow_y": null,
            "padding": null,
            "right": null,
            "top": null,
            "visibility": null,
            "width": null
          }
        },
        "663d045b0d7e439b8a48b0695e5b6545": {
          "model_module": "@jupyter-widgets/base",
          "model_name": "LayoutModel",
          "model_module_version": "1.2.0",
          "state": {
            "_model_module": "@jupyter-widgets/base",
            "_model_module_version": "1.2.0",
            "_model_name": "LayoutModel",
            "_view_count": null,
            "_view_module": "@jupyter-widgets/base",
            "_view_module_version": "1.2.0",
            "_view_name": "LayoutView",
            "align_content": null,
            "align_items": null,
            "align_self": null,
            "border": null,
            "bottom": null,
            "display": null,
            "flex": null,
            "flex_flow": null,
            "grid_area": null,
            "grid_auto_columns": null,
            "grid_auto_flow": null,
            "grid_auto_rows": null,
            "grid_column": null,
            "grid_gap": null,
            "grid_row": null,
            "grid_template_areas": null,
            "grid_template_columns": null,
            "grid_template_rows": null,
            "height": null,
            "justify_content": null,
            "justify_items": null,
            "left": null,
            "margin": null,
            "max_height": null,
            "max_width": null,
            "min_height": null,
            "min_width": null,
            "object_fit": null,
            "object_position": null,
            "order": null,
            "overflow": null,
            "overflow_x": null,
            "overflow_y": null,
            "padding": null,
            "right": null,
            "top": null,
            "visibility": null,
            "width": null
          }
        },
        "efbca6240d574524969579beb4f8387b": {
          "model_module": "@jupyter-widgets/controls",
          "model_name": "DescriptionStyleModel",
          "model_module_version": "1.5.0",
          "state": {
            "_model_module": "@jupyter-widgets/controls",
            "_model_module_version": "1.5.0",
            "_model_name": "DescriptionStyleModel",
            "_view_count": null,
            "_view_module": "@jupyter-widgets/base",
            "_view_module_version": "1.2.0",
            "_view_name": "StyleView",
            "description_width": ""
          }
        },
        "dcf342abab0f4a6d952952b6fbbcc660": {
          "model_module": "@jupyter-widgets/base",
          "model_name": "LayoutModel",
          "model_module_version": "1.2.0",
          "state": {
            "_model_module": "@jupyter-widgets/base",
            "_model_module_version": "1.2.0",
            "_model_name": "LayoutModel",
            "_view_count": null,
            "_view_module": "@jupyter-widgets/base",
            "_view_module_version": "1.2.0",
            "_view_name": "LayoutView",
            "align_content": null,
            "align_items": null,
            "align_self": null,
            "border": null,
            "bottom": null,
            "display": null,
            "flex": null,
            "flex_flow": null,
            "grid_area": null,
            "grid_auto_columns": null,
            "grid_auto_flow": null,
            "grid_auto_rows": null,
            "grid_column": null,
            "grid_gap": null,
            "grid_row": null,
            "grid_template_areas": null,
            "grid_template_columns": null,
            "grid_template_rows": null,
            "height": null,
            "justify_content": null,
            "justify_items": null,
            "left": null,
            "margin": null,
            "max_height": null,
            "max_width": null,
            "min_height": null,
            "min_width": null,
            "object_fit": null,
            "object_position": null,
            "order": null,
            "overflow": null,
            "overflow_x": null,
            "overflow_y": null,
            "padding": null,
            "right": null,
            "top": null,
            "visibility": null,
            "width": null
          }
        },
        "24cdf572a1fa40f8acbd35365ab7778f": {
          "model_module": "@jupyter-widgets/controls",
          "model_name": "ProgressStyleModel",
          "model_module_version": "1.5.0",
          "state": {
            "_model_module": "@jupyter-widgets/controls",
            "_model_module_version": "1.5.0",
            "_model_name": "ProgressStyleModel",
            "_view_count": null,
            "_view_module": "@jupyter-widgets/base",
            "_view_module_version": "1.2.0",
            "_view_name": "StyleView",
            "bar_color": null,
            "description_width": ""
          }
        },
        "27c34933940f4a28a7d8c1f81c8d8cba": {
          "model_module": "@jupyter-widgets/base",
          "model_name": "LayoutModel",
          "model_module_version": "1.2.0",
          "state": {
            "_model_module": "@jupyter-widgets/base",
            "_model_module_version": "1.2.0",
            "_model_name": "LayoutModel",
            "_view_count": null,
            "_view_module": "@jupyter-widgets/base",
            "_view_module_version": "1.2.0",
            "_view_name": "LayoutView",
            "align_content": null,
            "align_items": null,
            "align_self": null,
            "border": null,
            "bottom": null,
            "display": null,
            "flex": null,
            "flex_flow": null,
            "grid_area": null,
            "grid_auto_columns": null,
            "grid_auto_flow": null,
            "grid_auto_rows": null,
            "grid_column": null,
            "grid_gap": null,
            "grid_row": null,
            "grid_template_areas": null,
            "grid_template_columns": null,
            "grid_template_rows": null,
            "height": null,
            "justify_content": null,
            "justify_items": null,
            "left": null,
            "margin": null,
            "max_height": null,
            "max_width": null,
            "min_height": null,
            "min_width": null,
            "object_fit": null,
            "object_position": null,
            "order": null,
            "overflow": null,
            "overflow_x": null,
            "overflow_y": null,
            "padding": null,
            "right": null,
            "top": null,
            "visibility": null,
            "width": null
          }
        },
        "e3d5f068750d4051a427569aa26b9b21": {
          "model_module": "@jupyter-widgets/controls",
          "model_name": "DescriptionStyleModel",
          "model_module_version": "1.5.0",
          "state": {
            "_model_module": "@jupyter-widgets/controls",
            "_model_module_version": "1.5.0",
            "_model_name": "DescriptionStyleModel",
            "_view_count": null,
            "_view_module": "@jupyter-widgets/base",
            "_view_module_version": "1.2.0",
            "_view_name": "StyleView",
            "description_width": ""
          }
        },
        "3e3bc80868094c1fb8d009a9b05cc96f": {
          "model_module": "@jupyter-widgets/controls",
          "model_name": "HBoxModel",
          "model_module_version": "1.5.0",
          "state": {
            "_dom_classes": [],
            "_model_module": "@jupyter-widgets/controls",
            "_model_module_version": "1.5.0",
            "_model_name": "HBoxModel",
            "_view_count": null,
            "_view_module": "@jupyter-widgets/controls",
            "_view_module_version": "1.5.0",
            "_view_name": "HBoxView",
            "box_style": "",
            "children": [
              "IPY_MODEL_ad6d0b2f7f474fe48a668191df74967c",
              "IPY_MODEL_c6543b96b125407abb04252c701c9b2f",
              "IPY_MODEL_b40987415ec84ca9bb58a59bcb824a59"
            ],
            "layout": "IPY_MODEL_c333d2bdf26a4448a2c1178590662f1b"
          }
        },
        "ad6d0b2f7f474fe48a668191df74967c": {
          "model_module": "@jupyter-widgets/controls",
          "model_name": "HTMLModel",
          "model_module_version": "1.5.0",
          "state": {
            "_dom_classes": [],
            "_model_module": "@jupyter-widgets/controls",
            "_model_module_version": "1.5.0",
            "_model_name": "HTMLModel",
            "_view_count": null,
            "_view_module": "@jupyter-widgets/controls",
            "_view_module_version": "1.5.0",
            "_view_name": "HTMLView",
            "description": "",
            "description_tooltip": null,
            "layout": "IPY_MODEL_e3c0a3fafa7b4a8f810eb58a6831ca96",
            "placeholder": "​",
            "style": "IPY_MODEL_f763120c8cd44e70b22cb5c1e35cdf5a",
            "value": "Токенизация предложений: 100%"
          }
        },
        "c6543b96b125407abb04252c701c9b2f": {
          "model_module": "@jupyter-widgets/controls",
          "model_name": "FloatProgressModel",
          "model_module_version": "1.5.0",
          "state": {
            "_dom_classes": [],
            "_model_module": "@jupyter-widgets/controls",
            "_model_module_version": "1.5.0",
            "_model_name": "FloatProgressModel",
            "_view_count": null,
            "_view_module": "@jupyter-widgets/controls",
            "_view_module_version": "1.5.0",
            "_view_name": "ProgressView",
            "bar_style": "success",
            "description": "",
            "description_tooltip": null,
            "layout": "IPY_MODEL_1dcb91f9df4f4120aad4aa621e4ba69c",
            "max": 5,
            "min": 0,
            "orientation": "horizontal",
            "style": "IPY_MODEL_9a320e83d99b4768aacada5cff1f3adb",
            "value": 5
          }
        },
        "b40987415ec84ca9bb58a59bcb824a59": {
          "model_module": "@jupyter-widgets/controls",
          "model_name": "HTMLModel",
          "model_module_version": "1.5.0",
          "state": {
            "_dom_classes": [],
            "_model_module": "@jupyter-widgets/controls",
            "_model_module_version": "1.5.0",
            "_model_name": "HTMLModel",
            "_view_count": null,
            "_view_module": "@jupyter-widgets/controls",
            "_view_module_version": "1.5.0",
            "_view_name": "HTMLView",
            "description": "",
            "description_tooltip": null,
            "layout": "IPY_MODEL_28b815dae70242c1bbac01e1f0ab74ed",
            "placeholder": "​",
            "style": "IPY_MODEL_078cff87d69f43b98de1551fabc96ff0",
            "value": " 5/5 [00:00&lt;00:00, 58.02it/s]"
          }
        },
        "c333d2bdf26a4448a2c1178590662f1b": {
          "model_module": "@jupyter-widgets/base",
          "model_name": "LayoutModel",
          "model_module_version": "1.2.0",
          "state": {
            "_model_module": "@jupyter-widgets/base",
            "_model_module_version": "1.2.0",
            "_model_name": "LayoutModel",
            "_view_count": null,
            "_view_module": "@jupyter-widgets/base",
            "_view_module_version": "1.2.0",
            "_view_name": "LayoutView",
            "align_content": null,
            "align_items": null,
            "align_self": null,
            "border": null,
            "bottom": null,
            "display": null,
            "flex": null,
            "flex_flow": null,
            "grid_area": null,
            "grid_auto_columns": null,
            "grid_auto_flow": null,
            "grid_auto_rows": null,
            "grid_column": null,
            "grid_gap": null,
            "grid_row": null,
            "grid_template_areas": null,
            "grid_template_columns": null,
            "grid_template_rows": null,
            "height": null,
            "justify_content": null,
            "justify_items": null,
            "left": null,
            "margin": null,
            "max_height": null,
            "max_width": null,
            "min_height": null,
            "min_width": null,
            "object_fit": null,
            "object_position": null,
            "order": null,
            "overflow": null,
            "overflow_x": null,
            "overflow_y": null,
            "padding": null,
            "right": null,
            "top": null,
            "visibility": null,
            "width": null
          }
        },
        "e3c0a3fafa7b4a8f810eb58a6831ca96": {
          "model_module": "@jupyter-widgets/base",
          "model_name": "LayoutModel",
          "model_module_version": "1.2.0",
          "state": {
            "_model_module": "@jupyter-widgets/base",
            "_model_module_version": "1.2.0",
            "_model_name": "LayoutModel",
            "_view_count": null,
            "_view_module": "@jupyter-widgets/base",
            "_view_module_version": "1.2.0",
            "_view_name": "LayoutView",
            "align_content": null,
            "align_items": null,
            "align_self": null,
            "border": null,
            "bottom": null,
            "display": null,
            "flex": null,
            "flex_flow": null,
            "grid_area": null,
            "grid_auto_columns": null,
            "grid_auto_flow": null,
            "grid_auto_rows": null,
            "grid_column": null,
            "grid_gap": null,
            "grid_row": null,
            "grid_template_areas": null,
            "grid_template_columns": null,
            "grid_template_rows": null,
            "height": null,
            "justify_content": null,
            "justify_items": null,
            "left": null,
            "margin": null,
            "max_height": null,
            "max_width": null,
            "min_height": null,
            "min_width": null,
            "object_fit": null,
            "object_position": null,
            "order": null,
            "overflow": null,
            "overflow_x": null,
            "overflow_y": null,
            "padding": null,
            "right": null,
            "top": null,
            "visibility": null,
            "width": null
          }
        },
        "f763120c8cd44e70b22cb5c1e35cdf5a": {
          "model_module": "@jupyter-widgets/controls",
          "model_name": "DescriptionStyleModel",
          "model_module_version": "1.5.0",
          "state": {
            "_model_module": "@jupyter-widgets/controls",
            "_model_module_version": "1.5.0",
            "_model_name": "DescriptionStyleModel",
            "_view_count": null,
            "_view_module": "@jupyter-widgets/base",
            "_view_module_version": "1.2.0",
            "_view_name": "StyleView",
            "description_width": ""
          }
        },
        "1dcb91f9df4f4120aad4aa621e4ba69c": {
          "model_module": "@jupyter-widgets/base",
          "model_name": "LayoutModel",
          "model_module_version": "1.2.0",
          "state": {
            "_model_module": "@jupyter-widgets/base",
            "_model_module_version": "1.2.0",
            "_model_name": "LayoutModel",
            "_view_count": null,
            "_view_module": "@jupyter-widgets/base",
            "_view_module_version": "1.2.0",
            "_view_name": "LayoutView",
            "align_content": null,
            "align_items": null,
            "align_self": null,
            "border": null,
            "bottom": null,
            "display": null,
            "flex": null,
            "flex_flow": null,
            "grid_area": null,
            "grid_auto_columns": null,
            "grid_auto_flow": null,
            "grid_auto_rows": null,
            "grid_column": null,
            "grid_gap": null,
            "grid_row": null,
            "grid_template_areas": null,
            "grid_template_columns": null,
            "grid_template_rows": null,
            "height": null,
            "justify_content": null,
            "justify_items": null,
            "left": null,
            "margin": null,
            "max_height": null,
            "max_width": null,
            "min_height": null,
            "min_width": null,
            "object_fit": null,
            "object_position": null,
            "order": null,
            "overflow": null,
            "overflow_x": null,
            "overflow_y": null,
            "padding": null,
            "right": null,
            "top": null,
            "visibility": null,
            "width": null
          }
        },
        "9a320e83d99b4768aacada5cff1f3adb": {
          "model_module": "@jupyter-widgets/controls",
          "model_name": "ProgressStyleModel",
          "model_module_version": "1.5.0",
          "state": {
            "_model_module": "@jupyter-widgets/controls",
            "_model_module_version": "1.5.0",
            "_model_name": "ProgressStyleModel",
            "_view_count": null,
            "_view_module": "@jupyter-widgets/base",
            "_view_module_version": "1.2.0",
            "_view_name": "StyleView",
            "bar_color": null,
            "description_width": ""
          }
        },
        "28b815dae70242c1bbac01e1f0ab74ed": {
          "model_module": "@jupyter-widgets/base",
          "model_name": "LayoutModel",
          "model_module_version": "1.2.0",
          "state": {
            "_model_module": "@jupyter-widgets/base",
            "_model_module_version": "1.2.0",
            "_model_name": "LayoutModel",
            "_view_count": null,
            "_view_module": "@jupyter-widgets/base",
            "_view_module_version": "1.2.0",
            "_view_name": "LayoutView",
            "align_content": null,
            "align_items": null,
            "align_self": null,
            "border": null,
            "bottom": null,
            "display": null,
            "flex": null,
            "flex_flow": null,
            "grid_area": null,
            "grid_auto_columns": null,
            "grid_auto_flow": null,
            "grid_auto_rows": null,
            "grid_column": null,
            "grid_gap": null,
            "grid_row": null,
            "grid_template_areas": null,
            "grid_template_columns": null,
            "grid_template_rows": null,
            "height": null,
            "justify_content": null,
            "justify_items": null,
            "left": null,
            "margin": null,
            "max_height": null,
            "max_width": null,
            "min_height": null,
            "min_width": null,
            "object_fit": null,
            "object_position": null,
            "order": null,
            "overflow": null,
            "overflow_x": null,
            "overflow_y": null,
            "padding": null,
            "right": null,
            "top": null,
            "visibility": null,
            "width": null
          }
        },
        "078cff87d69f43b98de1551fabc96ff0": {
          "model_module": "@jupyter-widgets/controls",
          "model_name": "DescriptionStyleModel",
          "model_module_version": "1.5.0",
          "state": {
            "_model_module": "@jupyter-widgets/controls",
            "_model_module_version": "1.5.0",
            "_model_name": "DescriptionStyleModel",
            "_view_count": null,
            "_view_module": "@jupyter-widgets/base",
            "_view_module_version": "1.2.0",
            "_view_name": "StyleView",
            "description_width": ""
          }
        },
        "1bd49e400043494dadd24e048eea20b5": {
          "model_module": "@jupyter-widgets/controls",
          "model_name": "HBoxModel",
          "model_module_version": "1.5.0",
          "state": {
            "_dom_classes": [],
            "_model_module": "@jupyter-widgets/controls",
            "_model_module_version": "1.5.0",
            "_model_name": "HBoxModel",
            "_view_count": null,
            "_view_module": "@jupyter-widgets/controls",
            "_view_module_version": "1.5.0",
            "_view_name": "HBoxView",
            "box_style": "",
            "children": [
              "IPY_MODEL_780ec19af81b411f8f5ff50d371e861b",
              "IPY_MODEL_4a53afe128fe4a599ab3e7abad0d3a97",
              "IPY_MODEL_e6eb2a2ddf634aa58f652eff392619da"
            ],
            "layout": "IPY_MODEL_aba93fd1587a498da963dbd1b0be4f15"
          }
        },
        "780ec19af81b411f8f5ff50d371e861b": {
          "model_module": "@jupyter-widgets/controls",
          "model_name": "HTMLModel",
          "model_module_version": "1.5.0",
          "state": {
            "_dom_classes": [],
            "_model_module": "@jupyter-widgets/controls",
            "_model_module_version": "1.5.0",
            "_model_name": "HTMLModel",
            "_view_count": null,
            "_view_module": "@jupyter-widgets/controls",
            "_view_module_version": "1.5.0",
            "_view_name": "HTMLView",
            "description": "",
            "description_tooltip": null,
            "layout": "IPY_MODEL_65861732e0914c92ba4d36e136411cb2",
            "placeholder": "​",
            "style": "IPY_MODEL_6faeea5849b6499faa947a4893d239b8",
            "value": "Преобразование токенов: 100%"
          }
        },
        "4a53afe128fe4a599ab3e7abad0d3a97": {
          "model_module": "@jupyter-widgets/controls",
          "model_name": "FloatProgressModel",
          "model_module_version": "1.5.0",
          "state": {
            "_dom_classes": [],
            "_model_module": "@jupyter-widgets/controls",
            "_model_module_version": "1.5.0",
            "_model_name": "FloatProgressModel",
            "_view_count": null,
            "_view_module": "@jupyter-widgets/controls",
            "_view_module_version": "1.5.0",
            "_view_name": "ProgressView",
            "bar_style": "success",
            "description": "",
            "description_tooltip": null,
            "layout": "IPY_MODEL_33e05e0171f444789627d96967399eba",
            "max": 5000,
            "min": 0,
            "orientation": "horizontal",
            "style": "IPY_MODEL_41619ed2c7244b7ca2a5a3b0893dc4c1",
            "value": 5000
          }
        },
        "e6eb2a2ddf634aa58f652eff392619da": {
          "model_module": "@jupyter-widgets/controls",
          "model_name": "HTMLModel",
          "model_module_version": "1.5.0",
          "state": {
            "_dom_classes": [],
            "_model_module": "@jupyter-widgets/controls",
            "_model_module_version": "1.5.0",
            "_model_name": "HTMLModel",
            "_view_count": null,
            "_view_module": "@jupyter-widgets/controls",
            "_view_module_version": "1.5.0",
            "_view_name": "HTMLView",
            "description": "",
            "description_tooltip": null,
            "layout": "IPY_MODEL_576ec2b8fb6647209f18f4f774c01d0b",
            "placeholder": "​",
            "style": "IPY_MODEL_f54ddc37ab7841d1b14f873ef9a31aca",
            "value": " 5000/5000 [00:00&lt;00:00, 231012.22it/s]"
          }
        },
        "aba93fd1587a498da963dbd1b0be4f15": {
          "model_module": "@jupyter-widgets/base",
          "model_name": "LayoutModel",
          "model_module_version": "1.2.0",
          "state": {
            "_model_module": "@jupyter-widgets/base",
            "_model_module_version": "1.2.0",
            "_model_name": "LayoutModel",
            "_view_count": null,
            "_view_module": "@jupyter-widgets/base",
            "_view_module_version": "1.2.0",
            "_view_name": "LayoutView",
            "align_content": null,
            "align_items": null,
            "align_self": null,
            "border": null,
            "bottom": null,
            "display": null,
            "flex": null,
            "flex_flow": null,
            "grid_area": null,
            "grid_auto_columns": null,
            "grid_auto_flow": null,
            "grid_auto_rows": null,
            "grid_column": null,
            "grid_gap": null,
            "grid_row": null,
            "grid_template_areas": null,
            "grid_template_columns": null,
            "grid_template_rows": null,
            "height": null,
            "justify_content": null,
            "justify_items": null,
            "left": null,
            "margin": null,
            "max_height": null,
            "max_width": null,
            "min_height": null,
            "min_width": null,
            "object_fit": null,
            "object_position": null,
            "order": null,
            "overflow": null,
            "overflow_x": null,
            "overflow_y": null,
            "padding": null,
            "right": null,
            "top": null,
            "visibility": null,
            "width": null
          }
        },
        "65861732e0914c92ba4d36e136411cb2": {
          "model_module": "@jupyter-widgets/base",
          "model_name": "LayoutModel",
          "model_module_version": "1.2.0",
          "state": {
            "_model_module": "@jupyter-widgets/base",
            "_model_module_version": "1.2.0",
            "_model_name": "LayoutModel",
            "_view_count": null,
            "_view_module": "@jupyter-widgets/base",
            "_view_module_version": "1.2.0",
            "_view_name": "LayoutView",
            "align_content": null,
            "align_items": null,
            "align_self": null,
            "border": null,
            "bottom": null,
            "display": null,
            "flex": null,
            "flex_flow": null,
            "grid_area": null,
            "grid_auto_columns": null,
            "grid_auto_flow": null,
            "grid_auto_rows": null,
            "grid_column": null,
            "grid_gap": null,
            "grid_row": null,
            "grid_template_areas": null,
            "grid_template_columns": null,
            "grid_template_rows": null,
            "height": null,
            "justify_content": null,
            "justify_items": null,
            "left": null,
            "margin": null,
            "max_height": null,
            "max_width": null,
            "min_height": null,
            "min_width": null,
            "object_fit": null,
            "object_position": null,
            "order": null,
            "overflow": null,
            "overflow_x": null,
            "overflow_y": null,
            "padding": null,
            "right": null,
            "top": null,
            "visibility": null,
            "width": null
          }
        },
        "6faeea5849b6499faa947a4893d239b8": {
          "model_module": "@jupyter-widgets/controls",
          "model_name": "DescriptionStyleModel",
          "model_module_version": "1.5.0",
          "state": {
            "_model_module": "@jupyter-widgets/controls",
            "_model_module_version": "1.5.0",
            "_model_name": "DescriptionStyleModel",
            "_view_count": null,
            "_view_module": "@jupyter-widgets/base",
            "_view_module_version": "1.2.0",
            "_view_name": "StyleView",
            "description_width": ""
          }
        },
        "33e05e0171f444789627d96967399eba": {
          "model_module": "@jupyter-widgets/base",
          "model_name": "LayoutModel",
          "model_module_version": "1.2.0",
          "state": {
            "_model_module": "@jupyter-widgets/base",
            "_model_module_version": "1.2.0",
            "_model_name": "LayoutModel",
            "_view_count": null,
            "_view_module": "@jupyter-widgets/base",
            "_view_module_version": "1.2.0",
            "_view_name": "LayoutView",
            "align_content": null,
            "align_items": null,
            "align_self": null,
            "border": null,
            "bottom": null,
            "display": null,
            "flex": null,
            "flex_flow": null,
            "grid_area": null,
            "grid_auto_columns": null,
            "grid_auto_flow": null,
            "grid_auto_rows": null,
            "grid_column": null,
            "grid_gap": null,
            "grid_row": null,
            "grid_template_areas": null,
            "grid_template_columns": null,
            "grid_template_rows": null,
            "height": null,
            "justify_content": null,
            "justify_items": null,
            "left": null,
            "margin": null,
            "max_height": null,
            "max_width": null,
            "min_height": null,
            "min_width": null,
            "object_fit": null,
            "object_position": null,
            "order": null,
            "overflow": null,
            "overflow_x": null,
            "overflow_y": null,
            "padding": null,
            "right": null,
            "top": null,
            "visibility": null,
            "width": null
          }
        },
        "41619ed2c7244b7ca2a5a3b0893dc4c1": {
          "model_module": "@jupyter-widgets/controls",
          "model_name": "ProgressStyleModel",
          "model_module_version": "1.5.0",
          "state": {
            "_model_module": "@jupyter-widgets/controls",
            "_model_module_version": "1.5.0",
            "_model_name": "ProgressStyleModel",
            "_view_count": null,
            "_view_module": "@jupyter-widgets/base",
            "_view_module_version": "1.2.0",
            "_view_name": "StyleView",
            "bar_color": null,
            "description_width": ""
          }
        },
        "576ec2b8fb6647209f18f4f774c01d0b": {
          "model_module": "@jupyter-widgets/base",
          "model_name": "LayoutModel",
          "model_module_version": "1.2.0",
          "state": {
            "_model_module": "@jupyter-widgets/base",
            "_model_module_version": "1.2.0",
            "_model_name": "LayoutModel",
            "_view_count": null,
            "_view_module": "@jupyter-widgets/base",
            "_view_module_version": "1.2.0",
            "_view_name": "LayoutView",
            "align_content": null,
            "align_items": null,
            "align_self": null,
            "border": null,
            "bottom": null,
            "display": null,
            "flex": null,
            "flex_flow": null,
            "grid_area": null,
            "grid_auto_columns": null,
            "grid_auto_flow": null,
            "grid_auto_rows": null,
            "grid_column": null,
            "grid_gap": null,
            "grid_row": null,
            "grid_template_areas": null,
            "grid_template_columns": null,
            "grid_template_rows": null,
            "height": null,
            "justify_content": null,
            "justify_items": null,
            "left": null,
            "margin": null,
            "max_height": null,
            "max_width": null,
            "min_height": null,
            "min_width": null,
            "object_fit": null,
            "object_position": null,
            "order": null,
            "overflow": null,
            "overflow_x": null,
            "overflow_y": null,
            "padding": null,
            "right": null,
            "top": null,
            "visibility": null,
            "width": null
          }
        },
        "f54ddc37ab7841d1b14f873ef9a31aca": {
          "model_module": "@jupyter-widgets/controls",
          "model_name": "DescriptionStyleModel",
          "model_module_version": "1.5.0",
          "state": {
            "_model_module": "@jupyter-widgets/controls",
            "_model_module_version": "1.5.0",
            "_model_name": "DescriptionStyleModel",
            "_view_count": null,
            "_view_module": "@jupyter-widgets/base",
            "_view_module_version": "1.2.0",
            "_view_name": "StyleView",
            "description_width": ""
          }
        }
      }
    },
    "accelerator": "GPU"
  },
  "nbformat": 4,
  "nbformat_minor": 0
}