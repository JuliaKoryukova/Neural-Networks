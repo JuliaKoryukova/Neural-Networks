{
  "cells": [
    {
      "cell_type": "markdown",
      "metadata": {
        "id": "view-in-github",
        "colab_type": "text"
      },
      "source": [
        "<a href=\"https://colab.research.google.com/github/JuliaKoryukova/Neural-Networks/blob/main/03_RNN_LSTM.ipynb\" target=\"_parent\"><img src=\"https://colab.research.google.com/assets/colab-badge.svg\" alt=\"Open In Colab\"/></a>"
      ]
    },
    {
      "cell_type": "markdown",
      "metadata": {
        "id": "MaChtj9U5DzV"
      },
      "source": [
        "**Доработка пайплайна обучения рекурентных нейросетей**\n",
        "---"
      ]
    },
    {
      "cell_type": "markdown",
      "metadata": {
        "id": "_aqrqP875aRt"
      },
      "source": [
        "# Imports and downloads"
      ]
    },
    {
      "cell_type": "code",
      "execution_count": null,
      "metadata": {
        "id": "KkjFiA6L4STZ"
      },
      "outputs": [],
      "source": [
        "import numpy as np\n",
        "import pandas as pd\n",
        "import matplotlib.pyplot as plt\n",
        "from tqdm import tqdm\n",
        "import time\n",
        "\n",
        "import torch\n",
        "import torch.nn as nn\n",
        "import torch.optim as optim\n",
        "import torch.nn.functional as F\n",
        "from torch.utils.data import Dataset, DataLoader\n",
        "from torch.nn.utils.rnn import pad_sequence\n",
        "import random"
      ]
    },
    {
      "cell_type": "code",
      "execution_count": null,
      "metadata": {
        "colab": {
          "base_uri": "https://localhost:8080/"
        },
        "id": "U2dWUe0l5DUX",
        "outputId": "6ad0d5ab-7a04-4fe0-b90a-e8da4ee2c988"
      },
      "outputs": [
        {
          "output_type": "stream",
          "name": "stdout",
          "text": [
            "Downloading...\n",
            "From: https://drive.google.com/uc?id=1KdJt5QmNSdt6k4UJxlX8YD2qyu2izeCx\n",
            "To: /content/dinos.txt\n",
            "\r  0% 0.00/19.9k [00:00<?, ?B/s]\r100% 19.9k/19.9k [00:00<00:00, 44.7MB/s]\n"
          ]
        }
      ],
      "source": [
        "!gdown 1KdJt5QmNSdt6k4UJxlX8YD2qyu2izeCx"
      ]
    },
    {
      "cell_type": "code",
      "execution_count": null,
      "metadata": {
        "id": "o58agMap758M"
      },
      "outputs": [],
      "source": [
        "path = '/content/dinos.txt'\n",
        "\n",
        "with open(path, 'r') as file:\n",
        "    data = file.read().lower()\n",
        "    data = data.replace('\\n', '@')"
      ]
    },
    {
      "cell_type": "code",
      "execution_count": null,
      "metadata": {
        "colab": {
          "base_uri": "https://localhost:8080/",
          "height": 244
        },
        "id": "bzUnPPF58QxS",
        "outputId": "1481bbb7-94ca-4879-d7cd-da5c98edb4b3"
      },
      "outputs": [
        {
          "output_type": "execute_result",
          "data": {
            "text/plain": [
              "'aachenosaurus@aardonyx@abdallahsaurus@abelisaurus@abrictosaurus@abrosaurus@abydosaurus@acanthopholis@achelousaurus@acheroraptor@achillesaurus@achillobator@acristavus@acrocanthosaurus@acrotholus@actiosaurus@adamantisaurus@adasaurus@adelolophus@adeopapposaurus@aegyptosaurus@aeolosaurus@aepisaurus@aepyornithomimus@aerosteon@aetonyxafromimus@afrovenator@agathaumas@aggiosaurus@agilisaurus@agnosphitys@agrosaurus@agujaceratops@agustinia@ahshislepelta@airakoraptor@ajancingenia@ajkaceratops@alamosaurus@alaskacephale@albalophosaurus@albertaceratops@albertadromeus@albertavenator@albertonykus@albertosaurus@albinykus@albisaurus@alcovasaurus@alectrosaurus@aletopelta@algoasaurus@alioramus@aliwalia@allosaurus@almas@alnashetri@alocodon@altirhinus@altispinax@alvarezsaurus@alwalkeria@alxasaurus@amargasaurus@amargastegos@amargatitanis@amazonsaurus@ammosaurus@ampelosaurus@amphicoelias@amphicoelicaudia@amphisaurus@amtocephale@amtosaurus@amurosaurus@amygdalodon@anabisetia@anasazisaurus@anatosaurus@anatotitan@anchiceratops@anchiornis@anchisaurus@andesaurus@andhrasaurus@angaturama@angloposeidon@angolatitan@angulomastacator@aniksosaurus@animantarx@ankistrodon@ankylosaurus@anodontosaurus@anoplosaurus@anserimimus@antarctopelta@antarctosaurus@antetonitrus@anthodon@antrodemus@anzu@aoniraptor@aorun@apatodon@apatoraptor@apatosaurus@appalachiosaurus@aquilops@aragosaurus@aralosaurus@araucanoraptor@archaeoceratops@archaeodontosaurus@archaeopteryx@archaeoraptor@archaeornis@archaeornithoides@archaeornithomimus@arcovenator@arctosaurus@arcusaurus@arenysaurus@argentinosaurus@argyrosaurus@aristosaurus@aristosuchus@arizonasaurus@arkansaurus@arkharavia@arrhinoceratops@arstanosaurus@asiaceratops@asiamericana@asiatosaurus@astrodon@astrodonius@astrodontaurus@astrophocaudia@asylosaurus@atacamatitan@atlantosaurus@atlasaurus@atlascopcosaurus@atrociraptor@atsinganosaurus@aublysodon@aucasaurus@augustia@augustynolophus@auroraceratops@aurornis@australodocus@australovenator@austrocheirus@austroposeidon@austroraptor@austrosaurus@avaceratops@avalonia@avalonianus@aviatyrannis@avimimus@avisaurus@avipes@azendohsaurus@bactrosaurus@bagaceratops@bagaraatan@bahariasaurus@bainoceratops@bakesaurus@balaur@balochisaurus@bambiraptor@banji@baotianmansaurus@barapasaurus@barilium@barosaurus@barrosasaurus@barsboldia@baryonyx@bashunosaurus@basutodon@bathygnathus@batyrosaurus@baurutitan@bayosaurus@becklespinax@beelemodon@beibeilong@beipiaognathus@beipiaosaurus@beishanlong@bellusaurus@belodon@berberosaurus@betasuchus@bicentenaria@bienosaurus@bihariosaurus@bilbeyhallorum@bissektipelta@bistahieversor@blancocerosaurus@blasisaurus@blikanasaurus@bolong@bonapartenykus@bonapartesaurus@bonatitan@bonitasaura@borealopelta@borealosaurus@boreonykus@borogovia@bothriospondylus@brachiosaurus@brachyceratops@brachylophosaurus@brachypodosaurus@brachyrophus@brachytaenius@brachytrachelopan@bradycneme@brasileosaurus@brasilotitan@bravoceratops@breviceratops@brohisaurus@brontomerus@brontoraptor@brontosaurus@bruhathkayosaurus@bugenasaura@buitreraptor@burianosaurus@buriolestes@byranjaffia@byronosaurus@caenagnathasia@caenagnathus@calamosaurus@calamospondylus@calamospondylus@callovosaurus@camarasaurus@camarillasaurus@camelotia@camposaurus@camptonotus@camptosaurus@campylodon@campylodoniscus@canardia@capitalsaurus@carcharodontosaurus@cardiodon@carnotaurus@caseosaurus@cathartesaura@cathetosaurus@caudipteryx@caudocoelus@caulodon@cedarosaurus@cedarpelta@cedrorestes@centemodon@centrosaurus@cerasinops@ceratonykus@ceratops@ceratosaurus@cetiosauriscus@cetiosaurus@changchunsaurus@changdusaurus@changyuraptor@chaoyangsaurus@charonosaurus@chasmosaurus@chassternbergia@chebsaurus@chenanisaurus@cheneosaurus@chialingosaurus@chiayusaurus@chienkosaurus@chihuahuasaurus@chilantaisaurus@chilesaurus@chindesaurus@chingkankousaurus@chinshakiangosaurus@chirostenotes@choconsaurus@chondrosteosaurus@chromogisaurus@chuandongocoelurus@chuanjiesaurus@chuanqilong@chubutisaurus@chungkingosaurus@chuxiongosaurus@cinizasaurus@cionodon@citipati@cladeiodon@claorhynchus@claosaurus@clarencea@clasmodosaurus@clepsysaurus@coahuilaceratops@coelophysis@coelosaurus@coeluroides@coelurosauravus@coelurus@colepiocephale@coloradia@coloradisaurus@colossosaurus@comahuesaurus@comanchesaurus@compsognathus@compsosuchus@concavenator@conchoraptor@condorraptor@coronosaurus@corythoraptor@corythosaurus@craspedodon@crataeomus@craterosaurus@creosaurus@crichtonpelta@crichtonsaurus@cristatusaurus@crosbysaurus@cruxicheiros@cryolophosaurus@cryptodraco@cryptoraptor@cryptosaurus@cryptovolans@cumnoria@daanosaurus@dacentrurus@dachongosaurus@daemonosaurus@dahalokely@dakosaurus@dakotadon@dakotaraptor@daliansaurus@damalasaurus@dandakosaurus@danubiosaurus@daptosaurus@darwinsaurus@dashanpusaurus@daspletosaurus@dasygnathoides@dasygnathus@datanglong@datonglong@datousaurus@daurosaurus@daxiatitan@deinocheirus@deinodon@deinonychus@delapparentia@deltadromeus@demandasaurus@denversaurus@deuterosaurus@diabloceratops@diamantinasaurus@dianchungosaurus@diceratops@diceratusdiclonius@dicraeosaurus@didanodondilong@dilophosaurus@diluvicursor@dimodosaurus@dinheirosaurus@dinodocus@dinotyrannus@diplodocus@diplotomodon@diracodon@dolichosuchus@dollodon@domeykosaurus@dongbeititan@dongyangopelta@dongyangosaurus@doratodon@doryphorosaurus@draconyx@dracopelta@dracoraptor@dracorex@dracovenator@dravidosaurus@dreadnoughtus@drinker@dromaeosauroides@dromaeosaurus@dromiceiomimus@dromicosaurus@drusilasaura@dryosaurus@dryptosauroides@dryptosaurus@dubreuillosaurus@duriatitan@duriavenator@dynamosaurus@dyoplosaurus@dysalotosaurus@dysganus@dyslocosaurus@dystrophaeus@dystylosaurus@echinodon@edmarka@edmontonia@edmontosaurus@efraasia@einiosaurus@ekrixinatosaurus@elachistosuchus@elaltitan@elaphrosaurus@elmisaurus@elopteryx@elosaurus@elrhazosaurus@elvisaurus@emausaurus@embasaurus@enigmosaurus@eoabelisaurus@eobrontosaurus@eocarcharia@eoceratops@eocursor@eodromaeus@eohadrosaurus@eolambia@eomamenchisaurus@eoplophysis@eoraptor@eosinopteryx@eotrachodon@eotriceratops@eotyrannus@eousdryosaurus@epachthosaurus@epanterias@ephoenosaurus@epicampodon@epichirostenotes@epidendrosaurus@epidexipteryx@equijubus@erectopus@erketu@erliansaurus@erlikosaurus@eshanosaurus@euacanthus@eucamerotus@eucentrosaurus@eucercosaurus@eucnemesaurus@eucoelophysis@eugongbusaurus@euhelopus@euoplocephalus@eupodosaurus@eureodon@eurolimnornis@euronychodon@europasaurus@europatitan@europelta@euskelosaurus@eustreptospondylus@fabrosaurus@falcarius@fendusaurus@fenestrosaurus@ferganasaurus@ferganastegos@ferganocephale@foraminacephale@fosterovenator@frenguellisaurus@fruitadens@fukuiraptor@fukuisaurus@fukuititan@fukuivenator@fulengia@fulgurotherium@fusinasus@fusuisaurus@futabasaurus@futalognkosaurus@gadolosaurus@galeamopus@galesaurus@gallimimus@galtonia@galveosaurus@galvesaurus@gannansaurus@gansutitan@ganzhousaurus@gargoyleosaurus@garudimimus@gasosaurus@gasparinisaura@gastonia@gavinosaurus@geminiraptor@genusaurus@genyodectes@geranosaurus@gideonmantellia@giganotosaurus@gigantoraptor@gigantosaurus@gigantosaurus@gigantoscelus@gigantspinosaurus@gilmoreosaurus@ginnareemimus@giraffatitan@glacialisaurus@glishades@glyptodontopelta@skeleton@gobiceratops@gobisaurus@gobititan@gobivenator@godzillasaurus@gojirasaurus@gondwanatitan@gongbusaurus@gongpoquansaurus@gongxianosaurus@gorgosaurus@goyocephale@graciliceratops@graciliraptor@gracilisuchus@gravitholus@gresslyosaurus@griphornis@griphosaurus@gryphoceratops@gryponyx@gryposaurus@gspsaurus@guaibasaurus@gualicho@guanlong@gwyneddosaurus@gyposaurus@hadrosauravus@hadrosaurus@haestasaurus@hagryphus@hallopus@halszkaraptor@halticosaurus@hanssuesia@hanwulosaurus@haplocanthosaurus@haplocanthus@haplocheirus@harpymimus@haya@hecatasaurus@heilongjiangosaurus@heishansaurus@helioceratops@helopus@heptasteornis@herbstosaurus@herrerasaurus@hesperonychus@hesperosaurus@heterodontosaurus@heterosaurus@hexing@hexinlusaurus@heyuannia@hierosaurus@hippodraco@hironosaurus@hisanohamasaurus@histriasaurus@homalocephale@honghesaurus@hongshanosaurus@hoplitosaurus@hoplosaurus@horshamosaurus@hortalotarsus@huabeisaurus@hualianceratops@huanansaurus@huanghetitan@huangshanlong@huaxiagnathus@huaxiaosaurus@huaxiasaurus@huayangosaurus@hudiesaurus@huehuecanauhtlus@hulsanpes@hungarosaurus@huxleysaurus@hylaeosaurus@hylosaurushypacrosaurus@hypselorhachis@hypselosaurus@hypselospinus@hypsibema@hypsilophodon@hypsirhophus@habodcraniosaurus@ichthyovenator@ignavusaurus@iguanacolossus@iguanodon@iguanoides@skeleton@iguanosaurus@iliosuchus@ilokelesia@incisivosaurus@indosaurus@indosuchus@ingenia@inosaurus@irritator@isaberrysaura@isanosaurus@ischioceratops@ischisaurus@ischyrosaurus@isisaurus@issasaurus@itemirus@iuticosaurus@jainosaurus@jaklapallisaurus@janenschia@jaxartosaurus@jeholosaurus@jenghizkhan@jensenosaurus@jeyawati@jianchangosaurus@jiangjunmiaosaurus@jiangjunosaurus@jiangshanosaurus@jiangxisaurus@jianianhualong@jinfengopteryx@jingshanosaurus@jintasaurus@jinzhousaurus@jiutaisaurus@jobaria@jubbulpuria@judiceratops@jurapteryx@jurassosaurus@juratyrant@juravenator@kagasaurus@kaijiangosaurus@kakuru@kangnasaurus@karongasaurus@katepensaurus@katsuyamasaurus@kayentavenator@kazaklambia@kelmayisaurus@kemkemiakentrosaurus@kentrurosaurus@kerberosaurus@kentrosaurus@khaan@khetranisaurus@kileskus@kinnareemimus@kitadanisaurus@kittysaurus@klamelisauruskol@koparion@koreaceratops@koreanosaurus@koreanosaurus@koshisaurus@kosmoceratops@kotasaurus@koutalisaurus@kritosaurus@kryptops@krzyzanowskisaurus@kukufeldia@kulceratops@kulindadromeus@kulindapteryx@kunbarrasaurus@kundurosaurus@kunmingosaurus@kuszholia@labocania@labrosaurus@laelaps@laevisuchus@lagerpeton@lagosuchus@laiyangosaurus@lamaceratops@lambeosaurus@lametasaurus@lamplughsaura@lanasaurus@lancangosaurus@lancanjiangosaurus@lanzhousaurus@laosaurus@lapampasaurus@laplatasaurus@lapparentosaurus@laquintasaura@latenivenatrix@latirhinus@leaellynasaura@leinkupal@leipsanosaurus@lengosaurus@leonerasaurus@lepidocheirosaurus@lepidus@leptoceratops@leptorhynchos@leptospondylus@leshansaurus@lesothosaurus@lessemsaurus@levnesovia@lewisuchus@lexovisaurus@leyesaurus@liaoceratops@liaoningosaurus@liaoningtitan@liaoningvenator@liassaurus@libycosaurus@ligabueino@ligabuesaurus@ligomasaurus@likhoelesaurus@liliensternus@limaysaurus@limnornis@limnosaurus@limusaurus@linhenykus@linheraptor@linhevenator@lirainosaurus@lisboasaurusliubangosaurus@lohuecotitan@loncosaurus@longisquama@longosaurus@lophorhothon@lophostropheus@loricatosaurus@loricosaurus@losillasaurus@lourinhanosaurus@lourinhasaurus@luanchuanraptor@luanpingosaurus@lucianosaurus@lucianovenator@lufengosaurus@lukousaurus@luoyanggia@lurdusaurus@lusitanosaurus@lusotitan@lycorhinus@lythronax@macelognathus@machairasaurus@machairoceratops@macrodontophion@macrogryphosaurus@macrophalangia@macroscelosaurus@macrurosaurus@madsenius@magnapaulia@magnamanus@magnirostris@magnosaurus@magulodon@magyarosaurus@mahakala@maiasaura@majungasaurus@majungatholus@malarguesaurus@malawisaurus@maleevosaurus@maleevus@mamenchisaurus@manidens@mandschurosaurus@manospondylus@mantellisaurus@mantellodon@mapusaurus@marasuchus@marisaurus@marmarospondylus@marshosaurus@martharaptor@masiakasaurus@massospondylus@matheronodon@maxakalisaurus@medusaceratops@megacervixosaurus@megadactylus@megadontosaurus@megalosaurus@megapnosaurus@megaraptor@mei@melanorosaurus@mendozasaurus@mercuriceratops@meroktenos@metriacanthosaurus@microcephale@microceratops@microceratus@microcoelus@microdontosaurus@microhadrosaurus@micropachycephalosaurus@microraptor@microvenator@mierasaurus@mifunesaurus@minmi@minotaurasaurus@miragaia@mirischia@moabosaurus@mochlodon@mohammadisaurus@mojoceratops@mongolosaurus@monkonosaurus@monoclonius@monolophosaurus@mononychus@mononykus@montanoceratops@morelladon@morinosaurus@morosaurus@morrosaurus@mosaiceratops@moshisaurus@mtapaiasaurus@mtotosaurus@murusraptor@mussaurus@muttaburrasaurus@muyelensaurus@mymoorapelta@naashoibitosaurus@nambalia@nankangia@nanningosaurus@nanosaurus@nanotyrannus@nanshiungosaurus@nanuqsaurus@nanyangosaurus@narambuenatitan@nasutoceratops@natronasaurus@nebulasaurus@nectosaurus@nedcolbertia@nedoceratops@neimongosaurus@nemegtia@nemegtomaia@nemegtosaurus@neosaurus@neosodon@neovenator@neuquenraptor@neuquensaurus@newtonsaurus@ngexisaurus@nicksaurus@nigersaurus@ningyuansaurus@niobrarasaurus@nipponosaurus@noasaurus@nodocephalosaurus@nodosaurus@nomingia@nopcsaspondylus@normanniasaurus@nothronychus@notoceratops@notocolossus@notohypsilophodon@nqwebasaurus@nteregosaurus@nurosaurus@nuthetes@nyasasaurus@nyororosaurus@ohmdenosaurus@ojoceratops@ojoraptorsaurus@oligosaurus@olorotitan@omeisaurus@omosaurus@onychosaurus@oohkotokia@opisthocoelicaudia@oplosaurus@orcomimus@orinosaurusorkoraptor@ornatotholusornithodesmus@ornithoides@ornitholestes@ornithomerus@ornithomimoides@ornithomimus@ornithopsis@ornithosuchus@ornithotarsus@orodromeus@orosaurus@orthogoniosaurus@orthomerus@oryctodromeus@oshanosaurus@osmakasaurus@ostafrikasaurus@ostromia@othnielia@othnielosaurus@otogosaurus@ouranosaurus@overosaurus@oviraptor@ovoraptor@owenodon@oxalaia@ozraptor@pachycephalosaurus@pachyrhinosaurus@pachysauriscus@pachysaurops@pachysaurus@pachyspondylus@pachysuchus@padillasaurus@pakisaurus@palaeoctonus@palaeocursornis@palaeolimnornis@palaeopteryx@palaeosauriscus@palaeosaurus@palaeosaurus@palaeoscincus@paleosaurus@paludititan@paluxysaurus@pampadromaeus@pamparaptor@panamericansaurus@pandoravenator@panguraptor@panoplosaurus@panphagia@pantydraco@paraiguanodon@paralititan@paranthodon@pararhabdodon@parasaurolophus@pareiasaurus@parksosaurus@paronychodon@parrosaurus@parvicursor@patagonykus@patagosaurus@patagotitan@pawpawsaurus@pectinodon@pedopenna@pegomastax@peishansaurus@pekinosaurus@pelecanimimus@pellegrinisaurus@peloroplites@pelorosaurus@peltosaurus@penelopognathus@pentaceratops@petrobrasaurus@phaedrolosaurus@philovenator@phuwiangosaurus@phyllodon@piatnitzkysaurus@picrodon@pinacosaurus@pisanosaurus@pitekunsaurus@piveteausaurus@planicoxa@plateosauravus@plateosaurus@platyceratops@plesiohadros@pleurocoelus@pleuropeltus@pneumatoarthrus@pneumatoraptor@podokesaurus@poekilopleuron@polacanthoides@polacanthus@polyodontosaurus@polyonax@ponerosteus@poposaurus@parasaurolophus@postosuchus@powellvenator@pradhania@prenocephale@prenoceratops@priconodon@priodontognathus@proa@probactrosaurus@probrachylophosaurus@proceratops@proceratosaurus@procerosaurus@procerosaurus@procheneosaurus@procompsognathus@prodeinodon@proiguanodon@propanoplosaurus@proplanicoxa@prosaurolophus@protarchaeopteryx@protecovasaurus@protiguanodon@protoavis@protoceratops@protognathosaurus@protognathus@protohadros@protorosaurus@protorosaurus@protrachodon@proyandusaurus@pseudolagosuchus@psittacosaurus@pteropelyx@pterospondylus@puertasaurus@pukyongosaurus@pulanesaura@pycnonemosaurus@pyroraptor@qantassaurus@qianzhousaurus@qiaowanlong@qijianglong@qinlingosaurus@qingxiusaurus@qiupalong@quaesitosaurus@quetecsaurus@quilmesaurus@rachitrema@rahiolisaurus@rahona@rahonavis@rajasaurus@rapator@rapetosaurus@raptorex@ratchasimasaurus@rativates@rayososaurus@razanandrongobe@rebbachisaurus@regaliceratops@regnosaurus@revueltosaurus@rhabdodon@rhadinosaurus@rhinorex@rhodanosaurus@rhoetosaurus@rhopalodon@riabininohadros@richardoestesia@rileya@rileyasuchus@rinchenia@rinconsaurus@rioarribasaurus@riodevasaurus@riojasaurus@riojasuchus@rocasaurus@roccosaurus@rubeosaurus@ruehleia@rugocaudia@rugops@rukwatitan@ruyangosaurus@sacisaurus@sahaliyania@saichania@saldamosaurus@salimosaurus@saltasaurus@saltopus@saltriosaurus@sanchusaurus@sangonghesaurus@sanjuansaurus@sanpasaurus@santanaraptor@saraikimasoom@sarahsaurus@sarcolestes@sarcosaurus@sarmientosaurus@saturnalia@sauraechinodon@saurolophus@sauroniops@sauropelta@saurophaganax@saurophagus@sauroplites@sauroposeidon@saurornithoides@saurornitholestes@savannasaurus@scansoriopteryx@scaphonyx@scelidosaurus@scipionyx@sciurumimus@scleromochlus@scolosaurus@scutellosaurus@secernosaurus@sefapanosaurus@segisaurus@segnosaurus@seismosaurus@seitaad@selimanosaurus@sellacoxa@sellosaurus@serendipaceratops@serikornis@shamosaurus@shanag@shanshanosaurus@shantungosaurus@shanxia@shanyangosaurus@shaochilong@shenzhousaurus@shidaisaurus@shingopana@shixinggia@shuangbaisaurus@shuangmiaosaurus@shunosaurus@shuvosaurus@shuvuuia@siamodon@siamodracon@siamosaurus@siamotyrannus@siats@sibirosaurus@sibirotitan@sidormimus@sigilmassasaurus@silesaurus@siluosaurus@silvisaurus@similicaudipteryx@sinocalliopteryx@sinoceratops@sinocoelurus@sinopelta@sinopeltosaurus@sinornithoides@sinornithomimus@sinornithosaurus@sinosauropteryx@sinosaurus@sinotyrannus@sinovenator@sinraptor@sinusonasus@sirindhorna@skorpiovenator@smilodon@sonidosaurus@sonorasaurus@soriatitan@sphaerotholus@sphenosaurus@sphenospondylus@spiclypeus@spinophorosaurus@spinops@spinosaurus@spinostropheus@spinosuchus@spondylosoma@squalodon@staurikosaurus@stegoceras@stegopelta@stegosaurides@stegosaurus@stenonychosaurus@stenopelix@stenotholus@stephanosaurus@stereocephalus@sterrholophus@stokesosaurus@stormbergia@strenusaurus@streptospondylus@struthiomimus@struthiosaurus@stygimoloch@stygivenator@styracosaurus@succinodon@suchomimus@suchosaurus@suchoprion@sugiyamasaurus@skeleton@sulaimanisaurus@supersaurus@suuwassea@suzhousaurus@symphyrophus@syngonosaurus@syntarsus@syrmosaurus@szechuanosaurus@tachiraptor@talarurus@talenkauen@talos@tambatitanis@tangvayosaurus@tanius@tanycolagreus@tanystropheus@tanystrosuchus@taohelong@tapinocephalus@tapuiasaurus@tarascosaurus@tarbosaurus@tarchia@tastavinsaurus@tatankacephalus@tatankaceratops@tataouinea@tatisaurus@taurovenator@taveirosaurus@tawa@tawasaurus@tazoudasaurus@technosaurus@tecovasaurus@tehuelchesaurus@teihivenator@teinurosaurus@teleocrater@telmatosaurus@tenantosaurus@tenchisaurus@tendaguria@tengrisaurus@tenontosaurus@teratophoneus@teratosaurus@termatosaurus@tethyshadros@tetragonosaurus@texacephale@texasetes@teyuwasu@thecocoelurus@thecodontosaurus@thecospondylus@theiophytalia@therizinosaurus@therosaurus@thescelosaurus@thespesius@thotobolosaurus@tianchisaurus@tianchungosaurus@tianyulong@tianyuraptor@tianzhenosaurus@tichosteus@tienshanosaurus@timimus@timurlengia@titanoceratops@titanosaurus@titanosaurus@tochisaurus@tomodon@tonganosaurus@tongtianlong@tonouchisaurus@torilion@tornieria@torosaurus@torvosaurus@tototlmimus@trachodon@traukutitan@trialestes@triassolestes@tribelesodon@triceratops@trigonosaurus@trimucrodon@trinisaura@triunfosaurus@troodon@tsaagan@tsagantegia@tsintaosaurus@tugulusaurus@tuojiangosaurus@turanoceratops@turiasaurus@tylocephale@tylosteus@tyrannosaurus@tyrannotitan@illustration@uberabatitan@udanoceratops@ugrosaurus@ugrunaaluk@uintasaurus@ultrasauros@ultrasaurus@ultrasaurus@umarsaurus@unaysaurus@unenlagia@unescoceratops@unicerosaurus@unquillosaurus@urbacodon@utahceratops@utahraptor@uteodon@vagaceratops@vahiny@valdoraptor@valdosaurus@variraptor@velociraptor@vectensia@vectisaurus@velafrons@velocipes@velociraptor@velocisaurus@venaticosuchus@venenosaurus@veterupristisaurus@viavenator@vitakridrinda@vitakrisaurus@volkheimeria@vouivria@vulcanodon@wadhurstia@wakinosaurus@walgettosuchus@walkeria@walkersaurus@wangonisaurus@wannanosaurus@wellnhoferia@wendiceratops@wiehenvenator@willinakaqe@wintonotitan@wuerhosaurus@wulagasaurus@wulatelong@wyleyia@wyomingraptor@xenoceratops@xenoposeidon@xenotarsosaurus@xianshanosaurus@xiaosaurus@xingxiulong@xinjiangovenator@xinjiangtitan@xiongguanlong@xixianykus@xixiasaurus@xixiposaurus@xuanhanosaurus@xuanhuaceratops@xuanhuasaurus@xuwulong@yaleosaurus@yamaceratops@yandusaurus@yangchuanosaurus@yaverlandia@yehuecauhceratops@yezosaurus@yibinosaurus@yimenosaurus@yingshanosaurus@yinlong@yixianosaurus@yizhousaurus@yongjinglong@yuanmouraptor@yuanmousaurus@yueosaurus@yulong@yunganglong@yunmenglong@yunnanosaurus@yunxianosaurus@yurgovuchia@yutyrannus@zanabazar@zanclodon@zapalasaurus@zapsalis@zaraapelta@zatomuszby@zephyrosaurus@zhanghenglong@zhejiangosaurus@zhenyuanlong@zhongornis@zhongjianosaurus@zhongyuansaurus@zhuchengceratops@zhuchengosaurus@zhuchengtitan@zhuchengtyrannus@ziapelta@zigongosaurus@zizhongosaurus@zuniceratops@zunityrannus@zuolong@zuoyunlong@zupaysaurus@zuul'"
            ],
            "application/vnd.google.colaboratory.intrinsic+json": {
              "type": "string"
            }
          },
          "metadata": {},
          "execution_count": 4
        }
      ],
      "source": [
        "data"
      ]
    },
    {
      "cell_type": "code",
      "execution_count": null,
      "metadata": {
        "id": "VelVKPwo8Quy"
      },
      "outputs": [],
      "source": [
        "device = 'cuda' if torch.cuda.is_available() else 'cpu'\n",
        "\n",
        "seq_length = 18\n",
        "batch_size = 64\n",
        "hidden_size = 128"
      ]
    },
    {
      "cell_type": "markdown",
      "metadata": {
        "id": "yXcl88-19dIy"
      },
      "source": [
        "# Исходные данные"
      ]
    },
    {
      "cell_type": "markdown",
      "metadata": {
        "id": "2HVO2Jex9uCb"
      },
      "source": [
        "Исходный dataset"
      ]
    },
    {
      "cell_type": "code",
      "execution_count": null,
      "metadata": {
        "id": "O_fLOzu29ce6"
      },
      "outputs": [],
      "source": [
        "class TextDataset(Dataset):\n",
        "    def __init__(self, text_data, seq_length):\n",
        "        self.chars = sorted(list(set(text_data)))\n",
        "        self.data_size, self.vocab_size = len(text_data), len(self.chars)\n",
        "\n",
        "        self.idx_to_char = {i:ch for i, ch in enumerate(self.chars)}\n",
        "        self.char_to_idx = {ch:i for i, ch in enumerate(self.chars)}\n",
        "        self.seq_length = seq_length\n",
        "        self.X = self.string_to_vector(text_data)\n",
        "\n",
        "    @property\n",
        "    def X_string(self):\n",
        "        return self.vector_to_string(self.X)\n",
        "\n",
        "    def __len__(self):\n",
        "        return int(len(self.X) / self.seq_length - 1)\n",
        "\n",
        "    def __getitem__(self, index):\n",
        "        start_idx = index * self.seq_length\n",
        "        end_idx = (index + 1) * self.seq_length\n",
        "\n",
        "        X = torch.tensor(self.X[start_idx:end_idx]).float()\n",
        "        y = torch.tensor(self.X[start_idx+1:end_idx+1]).float()\n",
        "        return X, y\n",
        "\n",
        "    def string_to_vector(self, name):\n",
        "        \"\"\"\n",
        "        sample:\n",
        "        >>> string_to_vector('test')\n",
        "        [20, 5, 19, 20]\n",
        "        \"\"\"\n",
        "        vector = list()\n",
        "        for s in name:\n",
        "            vector.append(self.char_to_idx[s])\n",
        "        return vector\n",
        "\n",
        "    def vector_to_string(self, vector):\n",
        "        \"\"\"\n",
        "        sample:\n",
        "        >>> vector_to_string([20, 5, 19, 20])\n",
        "        'test'\n",
        "        \"\"\"\n",
        "        vector_string = \"\"\n",
        "        for i in vector:\n",
        "            vector_string += self.idx_to_char[i]\n",
        "        return vector_string"
      ]
    },
    {
      "cell_type": "markdown",
      "metadata": {
        "id": "l10N8Tv89yaS"
      },
      "source": [
        "Исходная модель"
      ]
    },
    {
      "cell_type": "code",
      "execution_count": null,
      "metadata": {
        "id": "DJVtkdg691Wc"
      },
      "outputs": [],
      "source": [
        "class RNN(nn.Module):\n",
        "    def __init__(self, input_size, hidden_size, output_size):\n",
        "        \"\"\" F(w), y\n",
        "        input_size: Number of features of your input vector\n",
        "        hidden_size: Number of hidden neurons\n",
        "        output_size: Number of features of your output vector\n",
        "        \"\"\"\n",
        "        super().__init__()\n",
        "        self.input_size = input_size\n",
        "        self.hidden_size = hidden_size\n",
        "        self.output_size = output_size\n",
        "        self.batch_size = batch_size\n",
        "\n",
        "        self.input_to_hidden = nn.Linear(input_size, hidden_size)\n",
        "        self.hidden_to_hidden = nn.Linear(hidden_size, hidden_size)\n",
        "        self.hidden_to_output = nn.Linear(hidden_size, output_size)\n",
        "\n",
        "\n",
        "    def forward(self, x, hidden_state):\n",
        "        x = self.input_to_hidden(x)\n",
        "        hidden_state = self.hidden_to_hidden(hidden_state)\n",
        "        hidden_state = torch.tanh(x + hidden_state)\n",
        "        out = self.hidden_to_output(hidden_state)\n",
        "        return out, hidden_state\n",
        "\n",
        "\n",
        "    def init_zero_hidden(self, batch_size=1):\n",
        "        return torch.zeros(batch_size, self.hidden_size, requires_grad=False)"
      ]
    },
    {
      "cell_type": "markdown",
      "metadata": {
        "id": "PDiD8xbk96sE"
      },
      "source": [
        "Обучение исходной модели"
      ]
    },
    {
      "cell_type": "code",
      "execution_count": null,
      "metadata": {
        "id": "EqiONR7m-DBu"
      },
      "outputs": [],
      "source": [
        "text_dataset = TextDataset(data, seq_length=seq_length)\n",
        "text_dataloader = DataLoader(text_dataset, batch_size, shuffle=True, drop_last=True)"
      ]
    },
    {
      "cell_type": "code",
      "execution_count": null,
      "metadata": {
        "colab": {
          "base_uri": "https://localhost:8080/"
        },
        "id": "mm7bXcHU-Beh",
        "outputId": "d76f4c5a-3a49-4c08-e1fc-470531482149"
      },
      "outputs": [
        {
          "output_type": "stream",
          "name": "stderr",
          "text": [
            "100%|██████████| 1000/1000 [04:38<00:00,  3.59it/s, epoch=1000, loss=0.0043]\n"
          ]
        }
      ],
      "source": [
        "# Model RNN\n",
        "model = RNN(1, hidden_size, len(text_dataset.chars)) # 1 because we enter a single number/letter per step and len(text_dataset.chars) for one-hot\n",
        "\n",
        "# Train variables\n",
        "epochs = 1000\n",
        "loss_fn = nn.CrossEntropyLoss()\n",
        "optimizer = optim.Adam(model.parameters(), lr=0.001)\n",
        "\n",
        "train_losses = {}\n",
        "model.to(device)\n",
        "model.train()\n",
        "\n",
        "pbar = tqdm(range(epochs))\n",
        "for epoch in pbar:\n",
        "    epoch_losses = list()\n",
        "    for X, Y in text_dataloader:\n",
        "        hidden = model.init_zero_hidden(batch_size=model.batch_size)\n",
        "        X, Y, hidden = X.to(device), Y.to(device), hidden.to(device)\n",
        "        model.zero_grad()\n",
        "\n",
        "        loss_value = 0\n",
        "        for c in range(X.shape[1]):\n",
        "            out, hidden = model(X[:, c].reshape(X.shape[0], 1), hidden)\n",
        "            loss_value = loss_fn(out, Y[:, c].long())\n",
        "            loss_value += loss_value\n",
        "\n",
        "        loss_value.backward()\n",
        "        nn.utils.clip_grad_norm_(model.parameters(), 2)\n",
        "        optimizer.step()\n",
        "\n",
        "        epoch_losses.append(loss_value.detach().item() / X.shape[1])\n",
        "\n",
        "    train_losses[epoch] = torch.tensor(epoch_losses).mean()\n",
        "    pbar.set_postfix({'epoch': f'{epoch + 1}', 'loss': f'{train_losses[epoch]:.4f}'})\n"
      ]
    },
    {
      "cell_type": "code",
      "execution_count": null,
      "metadata": {
        "colab": {
          "base_uri": "https://localhost:8080/",
          "height": 447
        },
        "id": "5mWR5hyk_Gdj",
        "outputId": "10329b8b-8588-4233-eea3-f3e67b2e1e18"
      },
      "outputs": [
        {
          "output_type": "execute_result",
          "data": {
            "text/plain": [
              "[<matplotlib.lines.Line2D at 0x7b72e16ce3b0>]"
            ]
          },
          "metadata": {},
          "execution_count": 29
        },
        {
          "output_type": "display_data",
          "data": {
            "text/plain": [
              "<Figure size 640x480 with 1 Axes>"
            ],
            "image/png": "[encoded data removed]"
          },
          "metadata": {}
        }
      ],
      "source": [
        "plt.plot(train_losses.values())"
      ]
    },
    {
      "cell_type": "markdown",
      "metadata": {
        "id": "1AVTlQAh-Qxy"
      },
      "source": [
        "Генерация текста"
      ]
    },
    {
      "cell_type": "code",
      "execution_count": null,
      "metadata": {
        "id": "zmcv_EPj-SmX"
      },
      "outputs": [],
      "source": [
        "def predict(model, dataset, prediction_length=25, start_with=None, static=True):\n",
        "    model.eval()\n",
        "    if start_with is None:\n",
        "        predicted = dataset.vector_to_string([random.randint(0, len(dataset.chars) - 1)])\n",
        "    else:\n",
        "        predicted = start_with\n",
        "    print(predicted)\n",
        "    hidden = model.init_zero_hidden()\n",
        "\n",
        "    for i in range(prediction_length - len(predicted)):\n",
        "        last_char = torch.Tensor([dataset.char_to_idx[predicted[-1]]])\n",
        "        X, hidden = last_char.to(device), hidden.to(device)\n",
        "        out, hidden = model(X, hidden)\n",
        "        if static:\n",
        "            result = torch.argmax(out).item()\n",
        "        else:\n",
        "            result = torch.multinomial(F.softmax(out, dim=1), 1).item()\n",
        "\n",
        "        letter = dataset.idx_to_char[result]\n",
        "        if letter == '@':\n",
        "            break\n",
        "        predicted += letter\n",
        "\n",
        "    return predicted"
      ]
    },
    {
      "cell_type": "code",
      "execution_count": null,
      "metadata": {
        "colab": {
          "base_uri": "https://localhost:8080/",
          "height": 53
        },
        "id": "-0ofxJuU-VAk",
        "outputId": "af764911-dc0f-475d-de49-3f04995bbc50"
      },
      "outputs": [
        {
          "output_type": "stream",
          "name": "stdout",
          "text": [
            "b\n"
          ]
        },
        {
          "output_type": "execute_result",
          "data": {
            "text/plain": [
              "'buhasiaani'"
            ],
            "application/vnd.google.colaboratory.intrinsic+json": {
              "type": "string"
            }
          },
          "metadata": {},
          "execution_count": 31
        }
      ],
      "source": [
        "predict(model, text_dataset, 10, start_with=\"b\")"
      ]
    },
    {
      "cell_type": "markdown",
      "metadata": {
        "id": "HGdFRMteoo7t"
      },
      "source": [
        "# Доработанная модель с one-hot вектором"
      ]
    },
    {
      "cell_type": "markdown",
      "metadata": {
        "id": "ATLnJIMc-lRd"
      },
      "source": [
        "Dataset"
      ]
    },
    {
      "cell_type": "code",
      "execution_count": null,
      "metadata": {
        "id": "KOBSdFm78Qr5"
      },
      "outputs": [],
      "source": [
        "class TextDataset(Dataset):\n",
        "    def __init__(self, text_data, seq_length):\n",
        "        self.chars = sorted(list(set(text_data)))\n",
        "        self.data_size, self.vocab_size = len(text_data), len(self.chars)\n",
        "\n",
        "        self.idx_to_char = {i:ch for i, ch in enumerate(self.chars)}\n",
        "        self.char_to_idx = {ch:i for i, ch in enumerate(self.chars)}\n",
        "        self.names = text_data.split('@')\n",
        "        self.names = [name + '@' for name in self.names if name]\n",
        "\n",
        "    # преобразование текста в векторы one-hot\n",
        "    def one_hot_encoder(self, index):\n",
        "        one_hot = np.zeros(self.vocab_size)\n",
        "        one_hot[index] = 1\n",
        "        return one_hot\n",
        "\n",
        "    # преобразование строки в последовательность векторов\n",
        "    def string_to_vector(self, name):\n",
        "        vector = []\n",
        "        for s in name:\n",
        "            index = self.char_to_idx[s]\n",
        "            vector.append(self.one_hot_encoder(index))\n",
        "        return np.array(vector)\n",
        "\n",
        "    # преобразование последовательности векторов обратно в строку\n",
        "    def vector_to_string(self, vector):\n",
        "        vector_string = \"\"\n",
        "        for i in vector:\n",
        "            index = np.argmax(i)\n",
        "            vector_string += self.idx_to_char[index]\n",
        "        return vector_string\n",
        "\n",
        "    def __len__(self):\n",
        "        return len(self.names)\n",
        "\n",
        "    # получение отдельного элемента из набора данных, который возвращает входную и целевую последовательности\n",
        "    def __getitem__(self, index):\n",
        "        name = self.names[index]\n",
        "        X = torch.tensor(self.string_to_vector(name[:-1])).float()\n",
        "        y = torch.tensor(self.string_to_vector(name[1:])).float()\n",
        "        return X, y"
      ]
    },
    {
      "cell_type": "markdown",
      "metadata": {
        "id": "DboEExtEoukS"
      },
      "source": [
        "## Model RNN"
      ]
    },
    {
      "cell_type": "markdown",
      "metadata": {
        "id": "CQJDtSzgYCNe"
      },
      "source": [
        "### Модель RNN с one-hot вектором"
      ]
    },
    {
      "cell_type": "code",
      "execution_count": null,
      "metadata": {
        "id": "-xfPVEF48QnT"
      },
      "outputs": [],
      "source": [
        "class RNN(nn.Module):\n",
        "    def __init__(self, input_size, hidden_size, output_size):\n",
        "        super().__init__()\n",
        "        self.input_size = input_size\n",
        "        self.hidden_size = hidden_size\n",
        "        self.output_size = output_size\n",
        "\n",
        "        self.input_to_hidden = nn.Linear(input_size, hidden_size) # проецирует входной вектор на скрытое пространство\n",
        "        self.hidden_to_hidden = nn.Linear(hidden_size, hidden_size) # обновляет скрытое пространство\n",
        "        self.hidden_to_output = nn.Linear(hidden_size, output_size) # проецирует скрытое сотояние в пространство выходных символов\n",
        "\n",
        "\n",
        "    def forward(self, x, hidden_state):\n",
        "        x = self.input_to_hidden(x)\n",
        "        hidden_state = self.hidden_to_hidden(hidden_state)\n",
        "        hidden_state = torch.tanh(x + hidden_state)\n",
        "        out = self.hidden_to_output(hidden_state)\n",
        "        out = F.softmax(out, dim=-1) # softmax для получения вероятностей\n",
        "        return out, hidden_state\n",
        "\n",
        "\n",
        "    def init_zero_hidden(self, batch_size=1):\n",
        "        return torch.zeros(batch_size, self.hidden_size, requires_grad=False)"
      ]
    },
    {
      "cell_type": "markdown",
      "metadata": {
        "id": "1aWz0dKGox42"
      },
      "source": [
        "Подготовка данных для обучения"
      ]
    },
    {
      "cell_type": "code",
      "execution_count": null,
      "metadata": {
        "id": "qVf5JJbE0jMU"
      },
      "outputs": [],
      "source": [
        "def collate_fn(batch):\n",
        "    X, Y = zip(*batch)\n",
        "    X_padded = pad_sequence([x.clone().detach().float() for x in X], batch_first=True, padding_value=0)\n",
        "    Y_padded = pad_sequence([y.clone().detach().float() for y in Y], batch_first=True, padding_value=0)\n",
        "    return X_padded, Y_padded\n",
        "\n",
        "device = 'cuda' if torch.cuda.is_available() else 'cpu'\n",
        "\n",
        "seq_length = 18\n",
        "batch_size = 64\n",
        "hidden_size = 128\n",
        "\n",
        "text_dataset = TextDataset(data, seq_length=seq_length)\n",
        "\n",
        "text_dataloader = DataLoader(\n",
        "    text_dataset,\n",
        "    batch_size,\n",
        "    shuffle=True,\n",
        "    drop_last=True,\n",
        "    collate_fn=collate_fn\n",
        "    )"
      ]
    },
    {
      "cell_type": "code",
      "execution_count": null,
      "metadata": {
        "colab": {
          "base_uri": "https://localhost:8080/",
          "height": 36
        },
        "id": "3SAZLmcApRwd",
        "outputId": "5f704413-ff14-4061-b3da-7ba1cb22f4f3"
      },
      "outputs": [
        {
          "data": {
            "application/vnd.google.colaboratory.intrinsic+json": {
              "type": "string"
            },
            "text/plain": [
              "'aachenosaurus'"
            ]
          },
          "execution_count": 9,
          "metadata": {},
          "output_type": "execute_result"
        }
      ],
      "source": [
        "text_dataset.vector_to_string(text_dataset[0][0].tolist())"
      ]
    },
    {
      "cell_type": "markdown",
      "metadata": {
        "id": "4hluouIa3Eh-"
      },
      "source": [
        "Обучение модели RNN"
      ]
    },
    {
      "cell_type": "code",
      "execution_count": null,
      "metadata": {
        "colab": {
          "base_uri": "https://localhost:8080/",
          "height": 465
        },
        "id": "OEIfCgQABLPd",
        "outputId": "a7571b9e-70a3-4cf7-eed2-594c743af5f3"
      },
      "outputs": [
        {
          "name": "stderr",
          "output_type": "stream",
          "text": [
            "100%|██████████| 1000/1000 [07:26<00:00,  2.24it/s, epoch=1000, loss=2.5620]\n"
          ]
        },
        {
          "data": {
            "text/plain": [
              "[<matplotlib.lines.Line2D at 0x7ee90e0e1420>]"
            ]
          },
          "execution_count": 10,
          "metadata": {},
          "output_type": "execute_result"
        },
        {
          "data": {
            "image/png": "[encoded data removed]",
            "text/plain": [
              "<Figure size 640x480 with 1 Axes>"
            ]
          },
          "metadata": {},
          "output_type": "display_data"
        }
      ],
      "source": [
        "model = RNN(len(text_dataset.chars), hidden_size, len(text_dataset.chars))\n",
        "\n",
        "epochs = 1000\n",
        "loss_fn = nn.CrossEntropyLoss()\n",
        "optimizer = optim.Adam(model.parameters(), lr=0.001)\n",
        "train_losses = {}\n",
        "model.to(device)\n",
        "model.train()\n",
        "\n",
        "pbar = tqdm(range(epochs))\n",
        "for epoch in pbar:\n",
        "    epoch_losses = []\n",
        "    for X, Y in text_dataloader:\n",
        "        hidden = model.init_zero_hidden(batch_size=batch_size).to(device)\n",
        "        X, Y, hidden = X.to(device), Y.to(device), hidden.to(device)\n",
        "        model.zero_grad()\n",
        "\n",
        "        loss_value = 0\n",
        "        for c in range(X.shape[1]):\n",
        "            out, hidden = model(X[:, c, :], hidden)\n",
        "            loss = loss_fn(out, torch.argmax(Y[:, c, :], dim=-1))\n",
        "            loss_value += loss\n",
        "\n",
        "        loss_value.backward()\n",
        "        nn.utils.clip_grad_norm_(model.parameters(), 0.1)\n",
        "        optimizer.step()\n",
        "\n",
        "        epoch_losses.append(loss_value.detach().item() / X.shape[1])\n",
        "\n",
        "    train_losses[epoch] = torch.tensor(epoch_losses).mean()\n",
        "    pbar.set_postfix({'epoch': f'{epoch +1}', 'loss': f'{train_losses[epoch]:.4f}'})\n",
        "\n",
        "plt.plot(train_losses.values())\n",
        "\n"
      ]
    },
    {
      "cell_type": "markdown",
      "metadata": {
        "id": "Ws5zzALE6pkl"
      },
      "source": [
        "Генерация текста"
      ]
    },
    {
      "cell_type": "code",
      "execution_count": null,
      "metadata": {
        "id": "uuOZljBa6sQo"
      },
      "outputs": [],
      "source": [
        "def predict(model, dataset,\n",
        "            prediction_length=25,\n",
        "            start_with=None,\n",
        "            static=True,\n",
        "            temperature=1.0):\n",
        "    model.eval()\n",
        "    if start_with is None:\n",
        "        start_with = random.choice(dataset.chars)\n",
        "\n",
        "    predicted = start_with\n",
        "    hidden = model.init_zero_hidden().to(device)\n",
        "\n",
        "    for i in range(prediction_length - len(predicted)):\n",
        "        input_seq = [dataset.one_hot_encoder(dataset.char_to_idx[char]) for char in predicted]\n",
        "        input_seq = np.array(input_seq)\n",
        "        input_seq = torch.tensor(input_seq).float().unsqueeze(0).to(device)\n",
        "\n",
        "        for j in range(input_seq.shape[1]):\n",
        "            out, hidden = model(input_seq[:, j], hidden)\n",
        "\n",
        "        out = out / temperature\n",
        "\n",
        "        # Выбираю индекс с наибольшей вероятностью\n",
        "        next_char_idx = torch.argmax(out).item()\n",
        "\n",
        "        # Создаю one-hot вектор\n",
        "        one_hot_output = torch.zeros_like(out)\n",
        "        one_hot_output[0, next_char_idx] = 1\n",
        "\n",
        "        next_char = dataset.idx_to_char[next_char_idx]\n",
        "        if next_char == '@':\n",
        "            break\n",
        "        predicted += next_char\n",
        "\n",
        "    return predicted"
      ]
    },
    {
      "cell_type": "code",
      "execution_count": null,
      "metadata": {
        "colab": {
          "base_uri": "https://localhost:8080/"
        },
        "id": "SzvVkGoU6sNh",
        "outputId": "f59b673c-9198-45da-9dc6-e60b8d3e471a"
      },
      "outputs": [
        {
          "name": "stdout",
          "output_type": "stream",
          "text": [
            "faalimosaurus\n"
          ]
        }
      ],
      "source": [
        "gen_text = predict(model, text_dataset, prediction_length=25, start_with='f', static=False, temperature=2)\n",
        "print(gen_text)"
      ]
    },
    {
      "cell_type": "code",
      "execution_count": null,
      "metadata": {
        "colab": {
          "base_uri": "https://localhost:8080/"
        },
        "id": "3opU2QQKBpOH",
        "outputId": "3792bd25-2fcb-4c24-d3cf-64b991b6e318"
      },
      "outputs": [
        {
          "data": {
            "text/plain": [
              "RNN(\n",
              "  (input_to_hidden): Linear(in_features=27, out_features=128, bias=True)\n",
              "  (hidden_to_hidden): Linear(in_features=128, out_features=128, bias=True)\n",
              "  (hidden_to_output): Linear(in_features=128, out_features=27, bias=True)\n",
              ")"
            ]
          },
          "execution_count": 13,
          "metadata": {},
          "output_type": "execute_result"
        }
      ],
      "source": [
        "model"
      ]
    },
    {
      "cell_type": "code",
      "execution_count": null,
      "metadata": {
        "colab": {
          "base_uri": "https://localhost:8080/"
        },
        "id": "7G2yLv8ZBpJY",
        "outputId": "a08eed97-4bb4-4bef-ae02-6e02e147abc1"
      },
      "outputs": [
        {
          "data": {
            "text/plain": [
              "(torch.Size([64, 21, 27]), torch.Size([64, 21, 27]))"
            ]
          },
          "execution_count": 14,
          "metadata": {},
          "output_type": "execute_result"
        }
      ],
      "source": [
        "inp, trg = next(iter(text_dataloader))\n",
        "inp.shape, trg.shape"
      ]
    },
    {
      "cell_type": "markdown",
      "metadata": {
        "id": "rS46xDvSZOZZ"
      },
      "source": [
        "### RNN без обрезания градиентов"
      ]
    },
    {
      "cell_type": "code",
      "execution_count": null,
      "metadata": {
        "colab": {
          "base_uri": "https://localhost:8080/"
        },
        "id": "8EXe8-jJZXYB",
        "outputId": "2ba0fd75-ad93-4ed0-a817-9e9581305e93"
      },
      "outputs": [
        {
          "name": "stderr",
          "output_type": "stream",
          "text": [
            "100%|██████████| 1000/1000 [07:22<00:00,  2.26it/s, epoch=1000, loss=2.5553]\n"
          ]
        }
      ],
      "source": [
        "model_grad_off = RNN(len(text_dataset.chars), hidden_size, len(text_dataset.chars))\n",
        "\n",
        "epochs = 1000\n",
        "loss_fn = nn.CrossEntropyLoss()\n",
        "optimizer = optim.Adam(model.parameters(), lr=0.001)\n",
        "train_losses = {}\n",
        "model.to(device)\n",
        "model.train()\n",
        "\n",
        "pbar = tqdm(range(epochs))\n",
        "for epoch in pbar:\n",
        "    epoch_losses = []\n",
        "    for X, Y in text_dataloader:\n",
        "        hidden = model.init_zero_hidden(batch_size=batch_size).to(device)\n",
        "        X, Y, hidden = X.to(device), Y.to(device), hidden.to(device)\n",
        "        model.zero_grad()\n",
        "\n",
        "        loss_value = 0\n",
        "        for c in range(X.shape[1]):\n",
        "            out, hidden = model(X[:, c, :], hidden)\n",
        "            loss = loss_fn(out, torch.argmax(Y[:, c, :], dim=-1))\n",
        "            loss_value += loss\n",
        "\n",
        "        loss_value.backward()\n",
        "        # Обрезание градиентов отключено:\n",
        "        # nn.utils.clip_grad_norm_(model.parameters(), 0.1)\n",
        "        optimizer.step()\n",
        "\n",
        "        epoch_losses.append(loss_value.detach().item() / X.shape[1])\n",
        "\n",
        "    train_losses[epoch] = torch.tensor(epoch_losses).mean()\n",
        "    pbar.set_postfix({'epoch': f'{epoch +1}', 'loss': f'{train_losses[epoch]:.4f}'})"
      ]
    },
    {
      "cell_type": "code",
      "execution_count": null,
      "metadata": {
        "colab": {
          "base_uri": "https://localhost:8080/",
          "height": 472
        },
        "id": "C_DluJkDZXVI",
        "outputId": "4883e570-1294-4645-a1f3-5162ba15ab2c"
      },
      "outputs": [
        {
          "data": {
            "image/png": "[encoded data removed]",
            "text/plain": [
              "<Figure size 640x480 with 1 Axes>"
            ]
          },
          "metadata": {},
          "output_type": "display_data"
        }
      ],
      "source": [
        "plt.plot(train_losses.values())\n",
        "plt.title('График функции потерь без обрезания градиентов')\n",
        "plt.xlabel('Эпохи')\n",
        "plt.ylabel('Потери')\n",
        "plt.show()"
      ]
    },
    {
      "cell_type": "code",
      "execution_count": null,
      "metadata": {
        "colab": {
          "base_uri": "https://localhost:8080/"
        },
        "id": "m0sMmwb8ZXSR",
        "outputId": "1e17b65b-4ed7-4aba-cc0b-1a3693564d2e"
      },
      "outputs": [
        {
          "name": "stdout",
          "output_type": "stream",
          "text": [
            "frantosaurus\n"
          ]
        }
      ],
      "source": [
        "gen_text = predict(model, text_dataset, prediction_length=25, start_with='f', static=False, temperature=2)\n",
        "print(gen_text)"
      ]
    },
    {
      "cell_type": "markdown",
      "metadata": {
        "id": "pg7nlFJ5Ynus"
      },
      "source": [
        "### Модель RNN с тремя различными оптимизаторами:\n",
        "\n",
        "Adam, SGD, RMSprop"
      ]
    },
    {
      "cell_type": "code",
      "execution_count": null,
      "metadata": {
        "id": "NalDHmiiYQmg"
      },
      "outputs": [],
      "source": [
        "# Создание моделей с оптимизаторами\n",
        "model_RNN_adam = RNN(len(text_dataset.chars), hidden_size, len(text_dataset.chars))\n",
        "model_RNN_sgd = RNN(len(text_dataset.chars), hidden_size, len(text_dataset.chars))\n",
        "model_RNN_rmsprop = RNN(len(text_dataset.chars), hidden_size, len(text_dataset.chars))\n",
        "\n",
        "# Оптимизаторы: Adam, SGD и RMSprop\n",
        "optimizer_RNN_adam = optim.Adam(model_RNN_adam.parameters(), lr=0.001)\n",
        "optimizer_RNN_sgd = optim.SGD(model_RNN_sgd.parameters(), lr=0.001, momentum=0.9)\n",
        "optimizer_RNN_rmsprop = optim.RMSprop(model_RNN_rmsprop.parameters(), lr=0.001)"
      ]
    },
    {
      "cell_type": "code",
      "execution_count": null,
      "metadata": {
        "id": "so19gXxzZbCB"
      },
      "outputs": [],
      "source": [
        "# Словари для хранения потерь\n",
        "train_losses_RNN_adam = {}\n",
        "train_losses_RNN_sgd = {}\n",
        "train_losses_RNN_rmsprop = {}\n",
        "\n",
        "# Функция для обучения модели\n",
        "def train_RNN_model(model, optimizer, epochs, train_losses):\n",
        "    model.to(device)\n",
        "    model.train()\n",
        "\n",
        "    loss_fn = nn.CrossEntropyLoss()\n",
        "    pbar = tqdm(range(epochs))\n",
        "\n",
        "    for epoch in pbar:\n",
        "        epoch_losses = []\n",
        "        for X, Y in text_dataloader:\n",
        "            hidden = model.init_zero_hidden(batch_size=batch_size).to(device)\n",
        "            X, Y, hidden = X.to(device), Y.to(device), hidden.to(device)\n",
        "            model.zero_grad()\n",
        "\n",
        "            loss_value = 0\n",
        "            for c in range(X.shape[1]):\n",
        "                out, hidden = model(X[:, c, :], hidden)\n",
        "                loss = loss_fn(out, torch.argmax(Y[:, c, :], dim=-1))\n",
        "                loss_value += loss\n",
        "\n",
        "            loss_value.backward()\n",
        "            nn.utils.clip_grad_norm_(model.parameters(), 0.1)\n",
        "            optimizer.step()\n",
        "\n",
        "            epoch_losses.append(loss_value.detach().item() / X.shape[1])\n",
        "\n",
        "        train_losses[epoch] = torch.tensor(epoch_losses).mean()\n",
        "        pbar.set_postfix({'epoch': f'{epoch + 1}', 'loss': f'{train_losses[epoch]:.4f}'})"
      ]
    },
    {
      "cell_type": "code",
      "execution_count": null,
      "metadata": {
        "colab": {
          "base_uri": "https://localhost:8080/"
        },
        "id": "2_amiYpfZa_Z",
        "outputId": "06897a8f-47cb-47e5-c460-05f6e55aefd7"
      },
      "outputs": [
        {
          "name": "stderr",
          "output_type": "stream",
          "text": [
            "100%|██████████| 1000/1000 [07:27<00:00,  2.24it/s, epoch=1000, loss=2.5556]\n",
            "100%|██████████| 1000/1000 [07:24<00:00,  2.25it/s, epoch=1000, loss=2.8943]\n",
            "100%|██████████| 1000/1000 [07:36<00:00,  2.19it/s, epoch=1000, loss=2.5698]\n"
          ]
        }
      ],
      "source": [
        "# Обучение моделей\n",
        "train_RNN_model(model_RNN_adam, optimizer_RNN_adam, epochs=1000, train_losses=train_losses_RNN_adam)\n",
        "train_RNN_model(model_RNN_sgd, optimizer_RNN_sgd, epochs=1000, train_losses=train_losses_RNN_sgd)\n",
        "train_RNN_model(model_RNN_rmsprop, optimizer_RNN_rmsprop, epochs=1000, train_losses=train_losses_RNN_rmsprop)"
      ]
    },
    {
      "cell_type": "code",
      "execution_count": null,
      "metadata": {
        "colab": {
          "base_uri": "https://localhost:8080/",
          "height": 472
        },
        "id": "dhu_CdhmZa8Q",
        "outputId": "3aa8b66f-7aba-47e0-8d5e-4da9e1685ea6"
      },
      "outputs": [
        {
          "data": {
            "image/png": "[encoded data removed]",
            "text/plain": [
              "<Figure size 640x480 with 1 Axes>"
            ]
          },
          "metadata": {},
          "output_type": "display_data"
        }
      ],
      "source": [
        "# Построение графиков потерь для всех трех моделей\n",
        "plt.plot(train_losses_RNN_adam.values(), label='Adam')\n",
        "plt.plot(train_losses_RNN_sgd.values(), label='SGD')\n",
        "plt.plot(train_losses_RNN_rmsprop.values(), label='RMSprop')\n",
        "plt.legend()\n",
        "plt.title('Сравнение потерь при обучении Adam, SGD и RMSprop')\n",
        "plt.xlabel('Эпохи')\n",
        "plt.ylabel('Потери')\n",
        "plt.show()"
      ]
    },
    {
      "cell_type": "code",
      "execution_count": null,
      "metadata": {
        "colab": {
          "base_uri": "https://localhost:8080/"
        },
        "id": "krknadk4xsrK",
        "outputId": "1e2cbf5f-6f7f-45d9-af4b-43d0f58bb1f1"
      },
      "outputs": [
        {
          "name": "stdout",
          "output_type": "stream",
          "text": [
            "Генерация с Adam: fana\n",
            "Генерация с SGD: faaa\n",
            "Генерация с RMSprop: fenia\n"
          ]
        }
      ],
      "source": [
        "# Генерация текста для каждой модели\n",
        "gen_text_RNN_adam = predict(model_RNN_adam, text_dataset, prediction_length=25, start_with='f', static=False, temperature=2)\n",
        "gen_text_RNN_sgd = predict(model_RNN_sgd, text_dataset, prediction_length=25, start_with='f', static=False, temperature=2)\n",
        "gen_text_RNN_rmsprop = predict(model_RNN_rmsprop, text_dataset, prediction_length=25, start_with='f', static=False, temperature=2)\n",
        "\n",
        "print(\"Генерация с Adam:\", gen_text_RNN_adam)\n",
        "print(\"Генерация с SGD:\", gen_text_RNN_sgd)\n",
        "print(\"Генерация с RMSprop:\", gen_text_RNN_rmsprop)"
      ]
    },
    {
      "cell_type": "markdown",
      "metadata": {
        "id": "QfbN0WQ-Eyas"
      },
      "source": [
        "### Обучение RNN, используя разную длину вектора hidden_state"
      ]
    },
    {
      "cell_type": "code",
      "execution_count": null,
      "metadata": {
        "id": "zffJoxkGFF2f"
      },
      "outputs": [],
      "source": [
        "# Выбираю значения для hidden_state\n",
        "hidden_sizes = [64, 128, 256]\n",
        "\n",
        "# Словари для хранения потерь\n",
        "train_losses_64 = {}\n",
        "train_losses_128 = {}\n",
        "train_losses_256 = {}"
      ]
    },
    {
      "cell_type": "code",
      "execution_count": null,
      "metadata": {
        "id": "SNYqN3egFFx2"
      },
      "outputs": [],
      "source": [
        "# Функция для обучения модели\n",
        "def train_model_with_hidden_size(hidden_size, train_losses, epochs=1000):\n",
        "    model = RNN(len(text_dataset.chars), hidden_size, len(text_dataset.chars))  # создание модели с разным hidden_size\n",
        "    optimizer = optim.Adam(model.parameters(), lr=0.001)  # использую Adam для всех моделей\n",
        "    model.to(device)\n",
        "    model.train()\n",
        "\n",
        "    loss_fn = nn.CrossEntropyLoss()\n",
        "    pbar = tqdm(range(epochs))\n",
        "\n",
        "    for epoch in pbar:\n",
        "        epoch_losses = []\n",
        "        for X, Y in text_dataloader:\n",
        "            hidden = model.init_zero_hidden(batch_size=batch_size).to(device)\n",
        "            X, Y, hidden = X.to(device), Y.to(device), hidden.to(device)\n",
        "            model.zero_grad()\n",
        "\n",
        "            loss_value = 0\n",
        "            for c in range(X.shape[1]):\n",
        "                out, hidden = model(X[:, c, :], hidden)\n",
        "                loss = loss_fn(out, torch.argmax(Y[:, c, :], dim=-1))\n",
        "                loss_value += loss\n",
        "\n",
        "            loss_value.backward()\n",
        "            nn.utils.clip_grad_norm_(model.parameters(), 0.1)\n",
        "            optimizer.step()\n",
        "\n",
        "            epoch_losses.append(loss_value.detach().item() / X.shape[1])\n",
        "\n",
        "        train_losses[epoch] = torch.tensor(epoch_losses).mean()\n",
        "        pbar.set_postfix({'epoch': f'{epoch + 1}', 'loss': f'{train_losses[epoch]:.4f}'})\n",
        "\n",
        "    return model\n"
      ]
    },
    {
      "cell_type": "code",
      "execution_count": null,
      "metadata": {
        "colab": {
          "base_uri": "https://localhost:8080/"
        },
        "id": "VXUU6zgCFFul",
        "outputId": "5c6a4b4f-4c5a-417d-dfdb-5a928af64390"
      },
      "outputs": [
        {
          "name": "stderr",
          "output_type": "stream",
          "text": [
            "100%|██████████| 1000/1000 [07:39<00:00,  2.18it/s, epoch=1000, loss=2.6028]\n",
            "100%|██████████| 1000/1000 [07:30<00:00,  2.22it/s, epoch=1000, loss=2.5599]\n",
            "100%|██████████| 1000/1000 [07:35<00:00,  2.20it/s, epoch=1000, loss=2.5252]\n"
          ]
        }
      ],
      "source": [
        "# Обучение моделей с разными значениями hidden_size\n",
        "model_RNN_64 = train_model_with_hidden_size(hidden_size=64, train_losses=train_losses_64)\n",
        "model_RNN_128 = train_model_with_hidden_size(hidden_size=128, train_losses=train_losses_128)\n",
        "model_RNN_256 = train_model_with_hidden_size(hidden_size=256, train_losses=train_losses_256)"
      ]
    },
    {
      "cell_type": "code",
      "execution_count": null,
      "metadata": {
        "colab": {
          "base_uri": "https://localhost:8080/",
          "height": 472
        },
        "id": "vuaxtt3EF8Ak",
        "outputId": "99a14076-2327-4b77-e821-c04fd6981e17"
      },
      "outputs": [
        {
          "data": {
            "image/png": "[encoded data removed]",
            "text/plain": [
              "<Figure size 640x480 with 1 Axes>"
            ]
          },
          "metadata": {},
          "output_type": "display_data"
        }
      ],
      "source": [
        "# Построение графиков потерь для всех трех моделей\n",
        "plt.plot(train_losses_64.values(), label='Hidden size 64')\n",
        "plt.plot(train_losses_128.values(), label='Hidden size 128')\n",
        "plt.plot(train_losses_256.values(), label='Hidden size 256')\n",
        "plt.legend()\n",
        "plt.title('Сравнение потерь при обучении с разными hidden_size')\n",
        "plt.xlabel('Эпохи')\n",
        "plt.ylabel('Потери')\n",
        "plt.show()"
      ]
    },
    {
      "cell_type": "code",
      "execution_count": null,
      "metadata": {
        "colab": {
          "base_uri": "https://localhost:8080/"
        },
        "id": "1oJAVqSEOBSR",
        "outputId": "1585b0a2-87c8-471f-b117-fb87a728dc85"
      },
      "outputs": [
        {
          "name": "stdout",
          "output_type": "stream",
          "text": [
            "Генерация текста с hidden_size=64: faran\n",
            "Генерация текста с hidden_size=128: fanos\n",
            "Генерация текста с hidden_size=256: feng\n"
          ]
        }
      ],
      "source": [
        "# Генерация текста для каждой модели\n",
        "gen_text_RNN_64 = predict(model_RNN_64, text_dataset, prediction_length=25, start_with='f', static=False, temperature=2)\n",
        "gen_text_RNN_128 = predict(model_RNN_128, text_dataset, prediction_length=25, start_with='f', static=False, temperature=2)\n",
        "gen_text_RNN_256 = predict(model_RNN_256, text_dataset, prediction_length=25, start_with='f', static=False, temperature=2)\n",
        "\n",
        "# Вывод результатов\n",
        "print(\"Генерация текста с hidden_size=64:\", gen_text_RNN_64)\n",
        "print(\"Генерация текста с hidden_size=128:\", gen_text_RNN_128)\n",
        "print(\"Генерация текста с hidden_size=256:\", gen_text_RNN_256)"
      ]
    },
    {
      "cell_type": "markdown",
      "metadata": {
        "id": "gm4-JRWVtTsJ"
      },
      "source": [
        "## Model LSTM"
      ]
    },
    {
      "cell_type": "markdown",
      "metadata": {
        "id": "hcXW2l5YY730"
      },
      "source": [
        "### Model LSTM c one-hot вектором"
      ]
    },
    {
      "cell_type": "code",
      "execution_count": null,
      "metadata": {
        "id": "u1k3lqxWBLHJ"
      },
      "outputs": [],
      "source": [
        "class LSTM(nn.Module):\n",
        "    def __init__(self, input_size: int, hidden_size: int, output_size: int, dropout_prob=0.2):\n",
        "        super().__init__()\n",
        "        self.input_size = input_size\n",
        "        self.hidden_size = hidden_size\n",
        "        self.output_size = output_size\n",
        "        self.dropout = nn.Dropout(dropout_prob)\n",
        "\n",
        "        # Forget gate\n",
        "        self.hidden_to_forget = nn.Linear(hidden_size, hidden_size)\n",
        "        self.x_to_forget = nn.Linear(input_size, hidden_size)\n",
        "\n",
        "        # Input gate\n",
        "        self.hidden_to_i_input = nn.Linear(hidden_size, hidden_size)\n",
        "        self.x_to_i_input = nn.Linear(input_size, hidden_size)\n",
        "        self.hidden_to_context = nn.Linear(hidden_size, hidden_size)\n",
        "        self.x_to_context = nn.Linear(input_size, hidden_size)\n",
        "\n",
        "        # Output gate\n",
        "        self.hidden_to_output = nn.Linear(hidden_size, hidden_size)\n",
        "        self.x_to_output = nn.Linear(input_size, hidden_size)\n",
        "\n",
        "        # Final output layer\n",
        "        self.hidden_to_y = nn.Linear(hidden_size, output_size)\n",
        "\n",
        "    def forward(self, x, hidden, context):\n",
        "        # Forget gate\n",
        "        forget_out = torch.sigmoid(self.hidden_to_forget(hidden) + self.x_to_forget(x))\n",
        "        context = context * forget_out\n",
        "\n",
        "        # Input gate\n",
        "        i = torch.sigmoid(self.hidden_to_i_input(hidden) + self.x_to_i_input(x))\n",
        "        input_context = torch.tanh(self.hidden_to_context(hidden) + self.x_to_context(x))\n",
        "        context = context + i * input_context\n",
        "\n",
        "        # Output gate\n",
        "        output = torch.sigmoid(self.hidden_to_output(hidden) + self.x_to_output(x))\n",
        "        context_to_out = torch.tanh(context)\n",
        "        hidden = context_to_out * output\n",
        "\n",
        "        # Dropout для регуляризации\n",
        "        hidden = self.dropout(hidden)\n",
        "\n",
        "        # Final output\n",
        "        y = self.hidden_to_y(hidden)\n",
        "        return y, hidden, context\n",
        "\n",
        "    def init_zero_hidden(self, batch_size):\n",
        "        # Инициализация скрытого состояния и контекста нулями\n",
        "        return torch.zeros(batch_size, self.hidden_size)"
      ]
    },
    {
      "cell_type": "code",
      "execution_count": null,
      "metadata": {
        "id": "ZByQ-hvRHV7c"
      },
      "outputs": [],
      "source": [
        "class TextDataset(Dataset):\n",
        "    def __init__(self, text_data, seq_length):\n",
        "        self.chars = sorted(list(set(text_data)))\n",
        "        self.data_size, self.vocab_size = len(text_data), len(self.chars)\n",
        "\n",
        "        self.idx_to_char = {i:ch for i, ch in enumerate(self.chars)}\n",
        "        self.char_to_idx = {ch:i for i, ch in enumerate(self.chars)}\n",
        "        self.names = text_data.split('@')\n",
        "        self.names = [name + '@' for name in self.names if name]\n",
        "\n",
        "    # One-hot encoding для символа\n",
        "    def one_hot_encoder(self, index):\n",
        "        one_hot = np.zeros(self.vocab_size)\n",
        "        one_hot[index] = 1\n",
        "        return one_hot\n",
        "\n",
        "    # Преобразование строки в последовательность one-hot векторов\n",
        "    def string_to_vector(self, name):\n",
        "        vector = [self.one_hot_encoder(self.char_to_idx[ch]) for ch in name]\n",
        "        return np.array(vector)\n",
        "\n",
        "    def __len__(self):\n",
        "        return len(self.names)\n",
        "\n",
        "    def __getitem__(self, index):\n",
        "        name = self.names[index]\n",
        "        X = torch.tensor(self.string_to_vector(name[:-1])).float()  # one-hot encoding входной последовательности\n",
        "        y = torch.tensor(self.string_to_vector(name[1:])).float()   # one-hot encoding целевой последовательности\n",
        "        return X, y"
      ]
    },
    {
      "cell_type": "code",
      "execution_count": null,
      "metadata": {
        "id": "Frq9eXbMBLDQ"
      },
      "outputs": [],
      "source": [
        "def collate_fn(batch):\n",
        "    X, Y = zip(*batch)\n",
        "    X_padded = pad_sequence([x.clone().detach().float() for x in X], batch_first=True, padding_value=0)\n",
        "    Y_padded = pad_sequence([y.clone().detach().float() for y in Y], batch_first=True, padding_value=0)\n",
        "    return X_padded, Y_padded"
      ]
    },
    {
      "cell_type": "code",
      "execution_count": null,
      "metadata": {
        "id": "NfgaFuXABLAQ"
      },
      "outputs": [],
      "source": [
        "def predict(model, dataset, prediction_length=25, start_with=None, static=True, temperature=1.0):\n",
        "    model.eval()\n",
        "\n",
        "    # Выбираем стартовый символ\n",
        "    if start_with is None:\n",
        "        start_with = random.choice(dataset.chars)\n",
        "\n",
        "    predicted = start_with\n",
        "    hidden = model.init_zero_hidden(batch_size=1).to(device)\n",
        "    context = model.init_zero_hidden(batch_size=1).to(device)\n",
        "\n",
        "    for _ in range(prediction_length - len(predicted)):\n",
        "        # Prepare input: one-hot vector\n",
        "        input_seq = torch.zeros(1, len(dataset.chars)).float().to(device)  # Батч 1\n",
        "        input_seq[0, dataset.char_to_idx[predicted[-1]]] = 1\n",
        "\n",
        "        out, hidden, context = model(input_seq.unsqueeze(0), hidden, context)\n",
        "\n",
        "        # Делим на температуру для управления случайностью\n",
        "        out = out / temperature\n",
        "\n",
        "        if static:\n",
        "            # Жесткий отбор символа\n",
        "            next_char_idx = torch.argmax(out).item()\n",
        "        else:\n",
        "            # Использование вероятностей для выбора символа\n",
        "            probabilities = F.softmax(out.squeeze(), dim=0)  # Убираем лишние измерения\n",
        "            next_char_idx = torch.multinomial(probabilities, 1).item()\n",
        "\n",
        "        next_char = dataset.idx_to_char[next_char_idx]\n",
        "\n",
        "        # Прерываем генерацию, если достигнут символ окончания\n",
        "        if next_char == '@':\n",
        "            break\n",
        "        predicted += next_char\n",
        "\n",
        "    return predicted"
      ]
    },
    {
      "cell_type": "code",
      "execution_count": null,
      "metadata": {
        "colab": {
          "base_uri": "https://localhost:8080/"
        },
        "id": "H1HbhS16B7t6",
        "outputId": "b5bec7c6-bfe1-42da-f34d-e1f98c29da55"
      },
      "outputs": [
        {
          "name": "stderr",
          "output_type": "stream",
          "text": [
            " 10%|█         | 100/1000 [02:12<19:54,  1.33s/it, epoch=100, loss=0.8424]"
          ]
        },
        {
          "name": "stdout",
          "output_type": "stream",
          "text": [
            "--- Epoch 100 ---\n",
            "Generated text: fe\n"
          ]
        },
        {
          "name": "stderr",
          "output_type": "stream",
          "text": [
            " 20%|██        | 200/1000 [04:23<18:36,  1.40s/it, epoch=200, loss=0.6948]"
          ]
        },
        {
          "name": "stdout",
          "output_type": "stream",
          "text": [
            "--- Epoch 200 ---\n",
            "Generated text: fectagranosauras\n"
          ]
        },
        {
          "name": "stderr",
          "output_type": "stream",
          "text": [
            " 30%|███       | 300/1000 [06:34<15:49,  1.36s/it, epoch=300, loss=0.6054]"
          ]
        },
        {
          "name": "stdout",
          "output_type": "stream",
          "text": [
            "--- Epoch 300 ---\n",
            "Generated text: feluetuiken\n"
          ]
        },
        {
          "name": "stderr",
          "output_type": "stream",
          "text": [
            " 40%|████      | 400/1000 [08:47<13:28,  1.35s/it, epoch=400, loss=0.5575]"
          ]
        },
        {
          "name": "stdout",
          "output_type": "stream",
          "text": [
            "--- Epoch 400 ---\n",
            "Generated text: fokana\n"
          ]
        },
        {
          "name": "stderr",
          "output_type": "stream",
          "text": [
            " 50%|█████     | 500/1000 [10:59<11:05,  1.33s/it, epoch=500, loss=0.5428]"
          ]
        },
        {
          "name": "stdout",
          "output_type": "stream",
          "text": [
            "--- Epoch 500 ---\n",
            "Generated text: fusavenator\n"
          ]
        },
        {
          "name": "stderr",
          "output_type": "stream",
          "text": [
            " 60%|██████    | 600/1000 [13:11<09:12,  1.38s/it, epoch=600, loss=0.5309]"
          ]
        },
        {
          "name": "stdout",
          "output_type": "stream",
          "text": [
            "--- Epoch 600 ---\n",
            "Generated text: fusuisaurus\n"
          ]
        },
        {
          "name": "stderr",
          "output_type": "stream",
          "text": [
            " 70%|███████   | 700/1000 [15:21<06:02,  1.21s/it, epoch=700, loss=0.5045]"
          ]
        },
        {
          "name": "stdout",
          "output_type": "stream",
          "text": [
            "--- Epoch 700 ---\n",
            "Generated text: fuahsaurus\n"
          ]
        },
        {
          "name": "stderr",
          "output_type": "stream",
          "text": [
            " 80%|████████  | 800/1000 [17:32<03:59,  1.20s/it, epoch=800, loss=0.4988]"
          ]
        },
        {
          "name": "stdout",
          "output_type": "stream",
          "text": [
            "--- Epoch 800 ---\n",
            "Generated text: fungserui\n"
          ]
        },
        {
          "name": "stderr",
          "output_type": "stream",
          "text": [
            " 90%|█████████ | 900/1000 [19:43<02:07,  1.27s/it, epoch=900, loss=0.4749]"
          ]
        },
        {
          "name": "stdout",
          "output_type": "stream",
          "text": [
            "--- Epoch 900 ---\n",
            "Generated text: fomurisaurus\n"
          ]
        },
        {
          "name": "stderr",
          "output_type": "stream",
          "text": [
            "100%|██████████| 1000/1000 [21:58<00:00,  1.32s/it, epoch=1000, loss=0.4745]"
          ]
        },
        {
          "name": "stdout",
          "output_type": "stream",
          "text": [
            "--- Epoch 1000 ---\n",
            "Generated text: fvitruisaurus\n"
          ]
        },
        {
          "name": "stderr",
          "output_type": "stream",
          "text": [
            "\n"
          ]
        }
      ],
      "source": [
        "# Пайплайн для обучения модели LSTM\n",
        "text_dataset = TextDataset(data, seq_length=seq_length)\n",
        "text_dataloader = DataLoader(text_dataset, batch_size=batch_size, shuffle=True, drop_last=True, collate_fn=collate_fn)\n",
        "\n",
        "# Определяем модель LSTM\n",
        "model_LSTM = LSTM(input_size=len(text_dataset.chars), hidden_size=hidden_size, output_size=len(text_dataset.chars))\n",
        "model_LSTM.to(device)\n",
        "\n",
        "# Задаем параметры обучения\n",
        "epochs = 1000\n",
        "loss_fn = nn.CrossEntropyLoss()\n",
        "optimizer = torch.optim.Adam(model_LSTM.parameters(), lr=0.001)\n",
        "\n",
        "train_losses = {}\n",
        "model_LSTM.train()\n",
        "\n",
        "pbar = tqdm(range(epochs))\n",
        "for epoch in pbar:\n",
        "    model_LSTM.train()\n",
        "    epoch_losses = []\n",
        "    for X, Y in text_dataloader:\n",
        "        hidden = model_LSTM.init_zero_hidden(batch_size=X.size(0)).to(device)\n",
        "        context = model_LSTM.init_zero_hidden(batch_size=X.size(0)).to(device)\n",
        "\n",
        "        X, Y = X.to(device), Y.to(device)\n",
        "        model_LSTM.zero_grad()\n",
        "\n",
        "        loss_value = 0\n",
        "        for c in range(X.shape[1]):\n",
        "            out, hidden, context = model_LSTM(X[:, c, :], hidden, context)\n",
        "            loss = loss_fn(out, torch.argmax(Y[:, c, :], dim=1))\n",
        "            loss_value += loss\n",
        "\n",
        "        loss_value.backward()\n",
        "        nn.utils.clip_grad_norm_(model_LSTM.parameters(), 2)  # Ограничение градиентов\n",
        "        optimizer.step()\n",
        "\n",
        "        epoch_losses.append(loss_value.item() / X.shape[1])\n",
        "\n",
        "    train_losses[epoch] = torch.tensor(epoch_losses).mean()\n",
        "    pbar.set_postfix({'epoch': f'{epoch + 1}', 'loss': f'{train_losses[epoch]:.4f}'})\n",
        "\n",
        "    # Промежуточная проверка через каждые 100 эпох\n",
        "    if (epoch + 1) % 100 == 0:\n",
        "        print(f'--- Epoch {epoch + 1} ---')\n",
        "        sample_text = predict(model_LSTM, text_dataset, prediction_length=25, start_with='f', static=False, temperature=2)\n",
        "        print(f'Generated text: {sample_text}')"
      ]
    },
    {
      "cell_type": "code",
      "execution_count": null,
      "metadata": {
        "colab": {
          "base_uri": "https://localhost:8080/",
          "height": 447
        },
        "id": "iOr84d1EKgvW",
        "outputId": "7ea5fb5c-f7da-4ffe-8bba-c76f2fd8edd9"
      },
      "outputs": [
        {
          "data": {
            "text/plain": [
              "[<matplotlib.lines.Line2D at 0x7b72e385cf10>]"
            ]
          },
          "execution_count": 14,
          "metadata": {},
          "output_type": "execute_result"
        },
        {
          "data": {
            "image/png": "[encoded data removed]",
            "text/plain": [
              "<Figure size 640x480 with 1 Axes>"
            ]
          },
          "metadata": {},
          "output_type": "display_data"
        }
      ],
      "source": [
        "plt.plot(train_losses.values())"
      ]
    },
    {
      "cell_type": "markdown",
      "metadata": {
        "id": "yVlsmMd_XHpJ"
      },
      "source": [
        "Генерация текста"
      ]
    },
    {
      "cell_type": "code",
      "execution_count": null,
      "metadata": {
        "colab": {
          "base_uri": "https://localhost:8080/"
        },
        "id": "VC_6gclkXIiw",
        "outputId": "a7e8ad5c-6cb5-4d92-abb4-1f3d9d3e6afa"
      },
      "outputs": [
        {
          "name": "stdout",
          "output_type": "stream",
          "text": [
            "ffeduacpesaurus\n"
          ]
        }
      ],
      "source": [
        "# Генерация текста с обученной LSTM моделью\n",
        "gen_text = predict(model_LSTM, text_dataset, prediction_length=25, start_with='f', static=False, temperature=2)\n",
        "print(gen_text)"
      ]
    },
    {
      "cell_type": "markdown",
      "metadata": {
        "id": "Xhu79l81R38S"
      },
      "source": [
        "### Модель LSTM с тремя различными оптимизаторами:\n",
        "\n",
        "Adam, SGD, RMSprop"
      ]
    },
    {
      "cell_type": "code",
      "execution_count": null,
      "metadata": {
        "id": "9jtlRPJHGahc"
      },
      "outputs": [],
      "source": [
        "# Создание моделей с оптимизаторами\n",
        "model_LSTM_adam = LSTM(len(text_dataset.chars), hidden_size, len(text_dataset.chars))\n",
        "model_LSTM_sgd = LSTM(len(text_dataset.chars), hidden_size, len(text_dataset.chars))\n",
        "model_LSTM_rmsprop = LSTM(len(text_dataset.chars), hidden_size, len(text_dataset.chars))\n",
        "\n",
        "# Оптимизаторы: Adam, SGD и RMSprop\n",
        "optimizer_LSTM_adam = optim.Adam(model_LSTM_adam.parameters(), lr=0.001)\n",
        "optimizer_LSTM_sgd = optim.SGD(model_LSTM_sgd.parameters(), lr=0.001, momentum=0.9)\n",
        "optimizer_LSTM_rmsprop = optim.RMSprop(model_LSTM_rmsprop.parameters(), lr=0.001)"
      ]
    },
    {
      "cell_type": "code",
      "execution_count": null,
      "metadata": {
        "id": "AylIOa0vD0ly"
      },
      "outputs": [],
      "source": [
        "# Словари для хранения потерь\n",
        "train_losses_LSTM_adam = {}\n",
        "train_losses_LSTM_sgd = {}\n",
        "train_losses_LSTM_rmsprop = {}\n",
        "\n",
        "def train_LSTM_model(model, optimizer, epochs, train_losses):\n",
        "    model.to(device)\n",
        "    model.train()\n",
        "\n",
        "    loss_fn = nn.CrossEntropyLoss()\n",
        "    pbar = tqdm(range(epochs))\n",
        "\n",
        "    for epoch in pbar:\n",
        "        epoch_losses = []\n",
        "        for X, Y in text_dataloader:\n",
        "            hidden = model.init_zero_hidden(batch_size=batch_size).to(device)\n",
        "            context = model.init_zero_hidden(batch_size=batch_size).to(device)  # Инициализация контекста\n",
        "            X, Y = X.to(device), Y.to(device)\n",
        "            model.zero_grad()\n",
        "\n",
        "            loss_value = 0\n",
        "            for c in range(X.shape[1]):\n",
        "                out, hidden, context = model(X[:, c, :], hidden, context)  # Передача context\n",
        "                loss = loss_fn(out, torch.argmax(Y[:, c, :], dim=-1))\n",
        "                loss_value += loss\n",
        "\n",
        "            loss_value.backward()\n",
        "            nn.utils.clip_grad_norm_(model.parameters(), 0.1)\n",
        "            optimizer.step()\n",
        "\n",
        "            epoch_losses.append(loss_value.detach().item() / X.shape[1])\n",
        "\n",
        "        train_losses[epoch] = torch.tensor(epoch_losses).mean()\n",
        "        pbar.set_postfix({'epoch': f'{epoch + 1}', 'loss': f'{train_losses[epoch]:.4f}'})"
      ]
    },
    {
      "cell_type": "code",
      "execution_count": null,
      "metadata": {
        "id": "iMYvWwp_PzpI"
      },
      "outputs": [],
      "source": [
        "def predict(model, dataset, prediction_length=25, start_with=None, static=True, temperature=1.0):\n",
        "    model.eval()\n",
        "\n",
        "    # Выбираем стартовый символ\n",
        "    if start_with is None:\n",
        "        start_with = random.choice(dataset.chars)\n",
        "\n",
        "    predicted = start_with\n",
        "    hidden = model.init_zero_hidden(batch_size=1).to(device)\n",
        "    context = model.init_zero_hidden(batch_size=1).to(device)  # Инициализация контекста\n",
        "\n",
        "    for _ in range(prediction_length - len(predicted)):\n",
        "        # Prepare input: one-hot vector\n",
        "        input_seq = torch.zeros(1, len(dataset.chars)).float().to(device)\n",
        "        input_seq[0, dataset.char_to_idx[predicted[-1]]] = 1\n",
        "\n",
        "        out, hidden, context = model(input_seq.unsqueeze(0), hidden, context)  # Передача context\n",
        "\n",
        "        # Делим на температуру для управления случайностью\n",
        "        out = out / temperature\n",
        "\n",
        "        if static:\n",
        "            # Жесткий отбор символа\n",
        "            next_char_idx = torch.argmax(out).item()\n",
        "        else:\n",
        "            # Использование вероятностей для выбора символа\n",
        "            probabilities = F.softmax(out, dim=1).squeeze()\n",
        "            next_char_idx = torch.multinomial(probabilities, 1).item()\n",
        "\n",
        "        next_char = dataset.idx_to_char[next_char_idx]\n",
        "\n",
        "        # Прерываем генерацию, если достигнут символ окончания\n",
        "        if next_char == '@':\n",
        "            break\n",
        "        predicted += next_char\n",
        "\n",
        "    return predicted"
      ]
    },
    {
      "cell_type": "code",
      "execution_count": null,
      "metadata": {
        "colab": {
          "background_save": true,
          "base_uri": "https://localhost:8080/"
        },
        "id": "8oCYpkAhEKbB",
        "outputId": "8e4481d1-3c70-4b8b-a684-c64ca291dfbc"
      },
      "outputs": [
        {
          "name": "stderr",
          "output_type": "stream",
          "text": [
            "100%|██████████| 1000/1000 [21:58<00:00,  1.32s/it, epoch=1000, loss=0.4816]\n",
            "100%|██████████| 1000/1000 [21:29<00:00,  1.29s/it, epoch=1000, loss=1.6044]\n",
            "100%|██████████| 1000/1000 [21:45<00:00,  1.31s/it, epoch=1000, loss=0.4784]\n"
          ]
        }
      ],
      "source": [
        "# Обучение моделей\n",
        "train_LSTM_model_adam = train_LSTM_model(model_LSTM_adam, optimizer_LSTM_adam, epochs=1000, train_losses=train_losses_LSTM_adam)\n",
        "train_LSTM_model_sgd = train_LSTM_model(model_LSTM_sgd, optimizer_LSTM_sgd, epochs=1000, train_losses=train_losses_LSTM_sgd)\n",
        "train_LSTM_model_rmsprop = train_LSTM_model(model_LSTM_rmsprop, optimizer_LSTM_rmsprop, epochs=1000, train_losses=train_losses_LSTM_rmsprop)"
      ]
    },
    {
      "cell_type": "code",
      "execution_count": null,
      "metadata": {
        "id": "MOpLryJqQcOX",
        "colab": {
          "base_uri": "https://localhost:8080/",
          "height": 472
        },
        "outputId": "27a6c897-91b2-4f91-f509-87be0180642e"
      },
      "outputs": [
        {
          "output_type": "display_data",
          "data": {
            "text/plain": [
              "<Figure size 640x480 with 1 Axes>"
            ],
            "image/png": "[encoded data removed]"
          },
          "metadata": {}
        }
      ],
      "source": [
        "# Построение графиков потерь для всех трех моделей\n",
        "plt.plot(train_losses_LSTM_adam.values(), label='Adam')\n",
        "plt.plot(train_losses_LSTM_sgd.values(), label='SGD')\n",
        "plt.plot(train_losses_LSTM_rmsprop.values(), label='RMSprop')\n",
        "plt.legend()\n",
        "plt.title('Сравнение потерь при обучении Adam, SGD и RMSprop')\n",
        "plt.xlabel('Эпохи')\n",
        "plt.ylabel('Потери')\n",
        "plt.show()"
      ]
    },
    {
      "cell_type": "code",
      "execution_count": null,
      "metadata": {
        "id": "kdoW1iIrQcLG",
        "colab": {
          "base_uri": "https://localhost:8080/"
        },
        "outputId": "8d1595ee-be46-4f10-bc2d-42772847a514"
      },
      "outputs": [
        {
          "output_type": "stream",
          "name": "stdout",
          "text": [
            "Генерация с Adam: frubklyzgainjcbpmlgdyaeve\n",
            "Генерация с SGD: fzzlxaunknaqcjnrafcugrydn\n",
            "Генерация с RMSprop: f\n"
          ]
        }
      ],
      "source": [
        "# Генерация текста для каждой модели\n",
        "gen_text_LSTM_adam = predict(model_LSTM_adam, text_dataset, prediction_length=25, start_with='f', static=False, temperature=2)\n",
        "gen_text_LSTM_sgd = predict(model_LSTM_sgd, text_dataset, prediction_length=25, start_with='f', static=False, temperature=2)\n",
        "gen_text_LSTM_rmsprop = predict(model_LSTM_rmsprop, text_dataset, prediction_length=25, start_with='f', static=False, temperature=2)\n",
        "\n",
        "print(\"Генерация с Adam:\", gen_text_LSTM_adam)\n",
        "print(\"Генерация с SGD:\", gen_text_LSTM_sgd)\n",
        "print(\"Генерация с RMSprop:\", gen_text_LSTM_rmsprop)"
      ]
    },
    {
      "cell_type": "markdown",
      "metadata": {
        "id": "0QrQRKr-Wk_u"
      },
      "source": [
        "### Обучение LSTM с таким количеством эпох, которое соответствует времени обучения RNN"
      ]
    },
    {
      "cell_type": "code",
      "source": [
        "# RNN\n",
        "class RNN(nn.Module):\n",
        "    def __init__(self, input_size, hidden_size, output_size):\n",
        "        super(RNN, self).__init__()\n",
        "        self.hidden_size = hidden_size\n",
        "        self.embedding = nn.Embedding(input_size, hidden_size)\n",
        "        self.i2h = nn.Linear(hidden_size, hidden_size)\n",
        "        self.i2o = nn.Linear(hidden_size, output_size)\n",
        "        self.softmax = nn.LogSoftmax(dim=1)\n",
        "\n",
        "    def forward(self, input, hidden):\n",
        "        input = input.long()\n",
        "        embedded = self.embedding(input).view(-1, self.hidden_size)\n",
        "        hidden = self.i2h(embedded) + hidden\n",
        "        output = self.i2o(hidden)\n",
        "        output = self.softmax(output)\n",
        "        return output, hidden\n",
        "\n",
        "    def init_zero_hidden(self, batch_size):\n",
        "        return torch.zeros(batch_size, self.hidden_size, device=device)"
      ],
      "metadata": {
        "id": "q2kEI9pC9h2d"
      },
      "execution_count": null,
      "outputs": []
    },
    {
      "cell_type": "code",
      "source": [
        "# LSTM\n",
        "class LSTM(nn.Module):\n",
        "    def __init__(self, input_size, hidden_size, output_size):\n",
        "        super(LSTM, self).__init__()\n",
        "        self.hidden_size = hidden_size\n",
        "        self.embedding = nn.Embedding(input_size, hidden_size)\n",
        "        self.lstm = nn.LSTM(hidden_size, hidden_size, num_layers=1, batch_first=True)\n",
        "        self.i2o = nn.Linear(hidden_size, output_size)\n",
        "        self.softmax = nn.LogSoftmax(dim=1)\n",
        "\n",
        "    @staticmethod\n",
        "    def init_hidden(batch_size, hidden_size):\n",
        "        return torch.zeros(1, batch_size, hidden_size).to(device)\n",
        "\n",
        "    def forward(self, input, hidden, context):\n",
        "        input = input.long()\n",
        "        embedded = self.embedding(input)  # [batch_size, seq_length, hidden_size]\n",
        "        out, (hidden, context) = self.lstm(embedded, (hidden, context))\n",
        "        out = self.i2o(out)  # [batch_size, seq_length, hidden_size] -> [batch_size, seq_length, output_size]\n",
        "        return out, hidden, context"
      ],
      "metadata": {
        "id": "yIT6yzKz9hzX"
      },
      "execution_count": null,
      "outputs": []
    },
    {
      "cell_type": "code",
      "source": [
        "# Инициализация device\n",
        "device = torch.device(\"cuda\" if torch.cuda.is_available() else \"cpu\")\n",
        "\n",
        "# Загрузка dataset и создание data loader\n",
        "text_dataset = TextDataset(data, seq_length=seq_length)\n",
        "text_dataloader = DataLoader(text_dataset, batch_size, shuffle=True, drop_last=True)\n",
        "batch_size = 64\n",
        "\n",
        "# Параметры\n",
        "input_size = len(text_dataset.chars)\n",
        "hidden_size = 128\n",
        "output_size = input_size"
      ],
      "metadata": {
        "id": "FuXRAElSDFSy"
      },
      "execution_count": null,
      "outputs": []
    },
    {
      "cell_type": "code",
      "source": [
        "model_RNN_adam = RNN(input_size, hidden_size, output_size)\n",
        "optimizer_RNN_adam = optim.Adam(model_RNN_adam.parameters(), lr=0.001)\n",
        "\n",
        "model_LSTM_adam = LSTM(input_size, hidden_size, output_size)\n",
        "optimizer_LSTM_adam = optim.Adam(model_LSTM_adam.parameters(), lr=0.001)"
      ],
      "metadata": {
        "id": "WbhpSyj2DFPq"
      },
      "execution_count": null,
      "outputs": []
    },
    {
      "cell_type": "code",
      "source": [
        "def train_rnn_with_timing(model, optimizer, epochs, train_losses):\n",
        "    model.to(device)\n",
        "    model.train()\n",
        "\n",
        "    loss_fn = nn.CrossEntropyLoss()\n",
        "    start_time = time.time()\n",
        "\n",
        "    for epoch in tqdm(range(epochs)):\n",
        "        epoch_losses = []\n",
        "        for X, Y in text_dataloader:\n",
        "            X, Y = X.to(device), Y.to(device)\n",
        "            X = X.long()  # Приведение X к LongTensor\n",
        "            Y = Y.long()  # Приведение Y к LongTensor\n",
        "            hidden = model.init_zero_hidden(batch_size=X.size(0)).to(device)\n",
        "\n",
        "            model.zero_grad()\n",
        "\n",
        "            loss_value = 0\n",
        "            for c in range(X.shape[1]):  # Проход по временным шагам\n",
        "                input_timestep = X[:, c]  # Индексы символов для текущего временного шага\n",
        "                out, hidden = model(input_timestep, hidden)\n",
        "                loss = loss_fn(out, Y[:, c])  # Loss для каждого временного шага\n",
        "                loss_value += loss\n",
        "\n",
        "            loss_value.backward()\n",
        "            optimizer.step()\n",
        "\n",
        "            epoch_losses.append(loss_value.item() / X.shape[1])  # Усредняем loss по длине последовательности\n",
        "\n",
        "        train_losses[epoch] = torch.tensor(epoch_losses).mean()\n",
        "\n",
        "    total_time = time.time() - start_time\n",
        "    return total_time"
      ],
      "metadata": {
        "id": "FA-gBDV-DoMy"
      },
      "execution_count": null,
      "outputs": []
    },
    {
      "cell_type": "code",
      "source": [
        "def train_lstm_one_epoch(model, optimizer, train_losses):\n",
        "    model.to(device)\n",
        "    model.train()\n",
        "\n",
        "    loss_fn = nn.CrossEntropyLoss()\n",
        "    epoch_losses = []\n",
        "    start_time = time.time()  # Запуск таймера\n",
        "\n",
        "    for X, Y in text_dataloader:\n",
        "        X, Y = X.to(device), Y.to(device)\n",
        "        X = X.long()  # Приведение X к LongTensor\n",
        "        Y = Y.long()  # Приведение Y к LongTensor\n",
        "\n",
        "        # Инициализация скрытого состояния и контекста\n",
        "        hidden = model.init_hidden(X.size(0), model.hidden_size).to(device)\n",
        "        context = torch.zeros(1, X.size(0), model.hidden_size).to(device)\n",
        "\n",
        "        model.zero_grad()\n",
        "\n",
        "        loss_value = 0\n",
        "\n",
        "        # Передача данных в LSTM (всю последовательность)\n",
        "        out, hidden, context = model(X, hidden, context)\n",
        "\n",
        "        # Извлечение последнего временного шага\n",
        "        out = out[:, -1, :]  # [batch_size, hidden_size] -> [batch_size, output_size]\n",
        "        Y = Y[:, -1]  # Соответствующее целевое значение для последнего временного шага\n",
        "\n",
        "        # Вычисление потерь\n",
        "        loss = loss_fn(out, Y)  # Теперь размеры batch_size совпадают\n",
        "        loss_value += loss\n",
        "\n",
        "        loss_value.backward()\n",
        "        nn.utils.clip_grad_norm_(model.parameters(), 0.1)\n",
        "        optimizer.step()\n",
        "\n",
        "        epoch_losses.append(loss_value.detach().item())\n",
        "\n",
        "    train_losses[0] = torch.tensor(epoch_losses).mean()\n",
        "    epoch_time_lstm = time.time() - start_time  # Время одной эпохи для LSTM\n",
        "    return epoch_time_lstm"
      ],
      "metadata": {
        "id": "7MIHgrCcDn-b"
      },
      "execution_count": null,
      "outputs": []
    },
    {
      "cell_type": "code",
      "source": [
        "def train_lstm_with_timing(model, optimizer, epochs, train_losses):\n",
        "    model.to(device)\n",
        "    model.train()\n",
        "\n",
        "    loss_fn = nn.CrossEntropyLoss()\n",
        "    pbar = tqdm(range(epochs))\n",
        "\n",
        "    for epoch in pbar:\n",
        "        epoch_losses = []\n",
        "        for X, Y in text_dataloader:\n",
        "            X, Y = X.to(device), Y.to(device)\n",
        "            X = X.long()  # Приведение X к LongTensor\n",
        "            Y = Y.long()  # Приведение Y к LongTensor\n",
        "\n",
        "            # Инициализация скрытого состояния и контекста\n",
        "            hidden = model.init_hidden(X.size(0), model.hidden_size).to(device)\n",
        "            context = torch.zeros(1, X.size(0), model.hidden_size).to(device)\n",
        "\n",
        "            model.zero_grad()\n",
        "\n",
        "            loss_value = 0\n",
        "\n",
        "            # Передача данных в LSTM\n",
        "            out, hidden, context = model(X, hidden, context)\n",
        "\n",
        "            # Извлечение последнего временного шага\n",
        "            out = out[:, -1, :]  # [batch_size, seq_length, output_size] -> [batch_size, output_size]\n",
        "            Y = Y[:, -1]  # Для расчета потерь используем последний временной шаг\n",
        "\n",
        "            # Вычисление потерь\n",
        "            loss = loss_fn(out, Y)\n",
        "            loss_value += loss\n",
        "\n",
        "            loss_value.backward()\n",
        "            nn.utils.clip_grad_norm_(model.parameters(), 0.1)\n",
        "            optimizer.step()\n",
        "\n",
        "            epoch_losses.append(loss_value.detach().item())\n",
        "\n",
        "        train_losses[epoch] = torch.tensor(epoch_losses).mean()\n",
        "        pbar.set_postfix({'epoch': f'{epoch + 1}', 'loss': f'{train_losses[epoch]:.4f}'})"
      ],
      "metadata": {
        "id": "P7MOUGRCDu7U"
      },
      "execution_count": null,
      "outputs": []
    },
    {
      "cell_type": "code",
      "source": [
        "# Обучение модели RNN\n",
        "train_losses_RNN_adam = {}\n",
        "total_time_rnn = train_rnn_with_timing(model_RNN_adam, optimizer_RNN_adam, epochs=1000, train_losses=train_losses_RNN_adam)"
      ],
      "metadata": {
        "colab": {
          "base_uri": "https://localhost:8080/"
        },
        "id": "p168O7-XmeZx",
        "outputId": "548af540-a4f4-4d89-c92c-902fbbf49597"
      },
      "execution_count": null,
      "outputs": [
        {
          "output_type": "stream",
          "name": "stderr",
          "text": [
            "100%|██████████| 1000/1000 [04:10<00:00,  3.99it/s]\n"
          ]
        }
      ]
    },
    {
      "cell_type": "code",
      "source": [
        "# ОБучение модели LSTM для одной эпохи\n",
        "train_losses_LSTM_adam = {}\n",
        "epoch_time_lstm = train_lstm_one_epoch(model_LSTM_adam, optimizer_LSTM_adam, train_losses=train_losses_LSTM_adam)\n",
        "\n",
        "# Рассчет количества эпох для модели LSTM\n",
        "epochs_lstm = int(total_time_rnn / epoch_time_lstm)\n",
        "print(f\"Количество эпох для LSTM, чтобы соответствовать времени RNN: {epochs_lstm}\")\n",
        "\n",
        "# Обучение модель LSTM с рассчитанным количеством эпох\n",
        "train_lstm_with_timing(model_LSTM_adam, optimizer_LSTM_adam, epochs=epochs_lstm, train_losses=train_losses_LSTM_adam)"
      ],
      "metadata": {
        "colab": {
          "base_uri": "https://localhost:8080/"
        },
        "id": "1yol3yvTDFKO",
        "outputId": "458dd4eb-ab9e-417a-d2d6-7544b29e1b16"
      },
      "execution_count": null,
      "outputs": [
        {
          "output_type": "stream",
          "name": "stdout",
          "text": [
            "Количество эпох для LSTM, чтобы соответствовать времени RNN: 3006\n"
          ]
        },
        {
          "output_type": "stream",
          "name": "stderr",
          "text": [
            "100%|██████████| 3006/3006 [04:17<00:00, 11.65it/s, epoch=3006, loss=0.0000]\n"
          ]
        }
      ]
    },
    {
      "cell_type": "code",
      "execution_count": null,
      "metadata": {
        "id": "UGVNNraLXPij",
        "colab": {
          "base_uri": "https://localhost:8080/",
          "height": 472
        },
        "outputId": "829f3eb1-de67-4011-b353-fcd2a6410840"
      },
      "outputs": [
        {
          "output_type": "display_data",
          "data": {
            "text/plain": [
              "<Figure size 640x480 with 1 Axes>"
            ],
            "image/png": "[encoded data removed]"
          },
          "metadata": {}
        }
      ],
      "source": [
        "# Построение графиков потерь для RNN и LSTM\n",
        "plt.plot(list(train_losses_RNN_adam.values()), label='RNN (Adam)')\n",
        "plt.plot(list(train_losses_LSTM_adam.values()), label='LSTM (Adam)')\n",
        "plt.legend()\n",
        "plt.title('Сравнение потерь RNN и LSTM')\n",
        "plt.xlabel('Эпохи')\n",
        "plt.ylabel('Потери')\n",
        "plt.show()"
      ]
    }
  ],
  "metadata": {
    "accelerator": "GPU",
    "colab": {
      "gpuType": "T4",
      "provenance": [],
      "include_colab_link": true
    },
    "kernelspec": {
      "display_name": "Python 3",
      "name": "python3"
    },
    "language_info": {
      "name": "python"
    }
  },
  "nbformat": 4,
  "nbformat_minor": 0
}